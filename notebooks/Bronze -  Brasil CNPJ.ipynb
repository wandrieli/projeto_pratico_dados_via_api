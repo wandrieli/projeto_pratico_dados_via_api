{
 "cells": [
  {
   "cell_type": "markdown",
   "metadata": {
    "application/vnd.databricks.v1+cell": {
     "cellMetadata": {},
     "inputWidgets": {},
     "nuid": "2918e259-c563-411d-ad55-c2db42224e93",
     "showTitle": false,
     "tableResultSettingsMap": {},
     "title": ""
    }
   },
   "source": [
    "# Conexão API - Brasil - Extração de Dados\n",
    "\n",
    "Busca os dados da API Brasil para consulta de CNPJs."
   ]
  },
  {
   "cell_type": "code",
   "execution_count": 0,
   "metadata": {
    "application/vnd.databricks.v1+cell": {
     "cellMetadata": {
      "byteLimit": 2048000,
      "rowLimit": 10000
     },
     "inputWidgets": {},
     "nuid": "c1d8853f-002d-4e4b-a544-4bbf36741092",
     "showTitle": false,
     "tableResultSettingsMap": {},
     "title": ""
    }
   },
   "outputs": [],
   "source": [
    "#Instalação de Bibliotecas necessárias\n",
    "\n",
    "import time\n",
    "import requests\n",
    "import pandas as pd"
   ]
  },
  {
   "cell_type": "code",
   "execution_count": 0,
   "metadata": {
    "application/vnd.databricks.v1+cell": {
     "cellMetadata": {},
     "inputWidgets": {},
     "nuid": "61b9059f-35a2-4464-b6a1-ce4d8ed50223",
     "showTitle": false,
     "tableResultSettingsMap": {},
     "title": ""
    }
   },
   "outputs": [],
   "source": [
    "# Busca os CNPJs extraídos da API do Bacen\n",
    "cnpj = spark.sql(\"\"\"\n",
    "    SELECT DISTINCT regexp_replace(CNPJ_FUNDO,'[^0-9]', '') AS documento     \n",
    "    FROM cvm_bronze     \n",
    "\"\"\")\n",
    "\n",
    "lista_cnpj = [row.documento for row in cnpj.collect()]\n",
    "\n",
    "\n",
    "dados = []\n",
    "\n",
    "for cnpj in lista_cnpj:\n",
    "    time.sleep(1)  # Pausa para evitar limite de requisições\n",
    "\n",
    "    url = f\"https://brasilapi.com.br/api/cnpj/v1/{cnpj}\"\n",
    "    response = requests.get(url)\n",
    "\n",
    "    if response.status_code == 200:\n",
    "        data = response.json()\n",
    "        dados.append({\n",
    "            \"uf\": data.get(\"uf\"),\n",
    "            \"cnpj\": data.get(\"cnpj\"),\n",
    "            \"razao_social\": data.get(\"razao_social\"),\n",
    "            \"cep\": data.get(\"cep\")\n",
    "        })\n",
    "    else:\n",
    "        # Adiciona informação de erro para não perder o CNPJ\n",
    "        dados.append({\n",
    "            \"uf\": None,\n",
    "            \"cnpj\": cnpj,\n",
    "            \"cep\": None,\n",
    "            \"razao_social\": None,\n",
    "            \"erro\": f\"Status {response.status_code}\"\n",
    "        })\n",
    "\n",
    "if dados:\n",
    "    df_pandas = pd.DataFrame(dados)\n",
    "    df = spark.createDataFrame(df_pandas)\n",
    "    display(df)\n",
    "else:\n",
    "    print(\"Nenhum dado retornado pela API.\")\n"
   ]
  },
  {
   "cell_type": "code",
   "execution_count": 0,
   "metadata": {
    "application/vnd.databricks.v1+cell": {
     "cellMetadata": {},
     "inputWidgets": {},
     "nuid": "b26c3526-2792-42a5-95cb-2c701ef685b1",
     "showTitle": false,
     "tableResultSettingsMap": {},
     "title": ""
    }
   },
   "outputs": [],
   "source": [
    "spark.sql(f'DROP TABLE IF EXISTS brasil_cnpj')\n",
    "documento.write.saveAsTable('brasil_cnpj')"
   ]
  }
 ],
 "metadata": {
  "application/vnd.databricks.v1+notebook": {
   "computePreferences": null,
   "dashboards": [],
   "environmentMetadata": {
    "base_environment": "",
    "environment_version": "2"
   },
   "inputWidgetPreferences": null,
   "language": "python",
   "notebookMetadata": {
    "pythonIndentUnit": 4
   },
   "notebookName": "Bronze -  Brasil CNPJ",
   "widgets": {}
  },
  "language_info": {
   "name": "python"
  }
 },
 "nbformat": 4,
 "nbformat_minor": 0
}