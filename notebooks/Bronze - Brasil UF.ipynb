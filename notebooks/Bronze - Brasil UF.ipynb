{
 "cells": [
  {
   "cell_type": "markdown",
   "metadata": {
    "application/vnd.databricks.v1+cell": {
     "cellMetadata": {},
     "inputWidgets": {},
     "nuid": "0d549d87-bc94-4197-ba9c-203f98532d8a",
     "showTitle": false,
     "tableResultSettingsMap": {},
     "title": ""
    }
   },
   "source": [
    "# Conexão API - Brasil - Extração de Dados\n",
    "\n",
    "Busca os dados da API Brasil para consulta de UFs."
   ]
  },
  {
   "cell_type": "code",
   "execution_count": 0,
   "metadata": {
    "application/vnd.databricks.v1+cell": {
     "cellMetadata": {
      "byteLimit": 2048000,
      "rowLimit": 10000
     },
     "inputWidgets": {},
     "nuid": "80437c3a-26b8-4d06-b5d7-a2289905ad56",
     "showTitle": false,
     "tableResultSettingsMap": {},
     "title": ""
    }
   },
   "outputs": [],
   "source": [
    "#Instalação de Bibliotecas necessárias\n",
    "\n",
    "import time\n",
    "import requests\n",
    "import pandas as pd"
   ]
  },
  {
   "cell_type": "code",
   "execution_count": 0,
   "metadata": {
    "application/vnd.databricks.v1+cell": {
     "cellMetadata": {
      "byteLimit": 2048000,
      "rowLimit": 10000
     },
     "inputWidgets": {},
     "nuid": "46f9699a-2815-45d4-acf4-d3aa3f19fd2f",
     "showTitle": false,
     "tableResultSettingsMap": {},
     "title": ""
    }
   },
   "outputs": [
    {
     "output_type": "display_data",
     "data": {
      "text/html": [
       "<style scoped>\n",
       "  .table-result-container {\n",
       "    max-height: 300px;\n",
       "    overflow: auto;\n",
       "  }\n",
       "  table, th, td {\n",
       "    border: 1px solid black;\n",
       "    border-collapse: collapse;\n",
       "  }\n",
       "  th, td {\n",
       "    padding: 5px;\n",
       "  }\n",
       "  th {\n",
       "    text-align: left;\n",
       "  }\n",
       "</style><div class='table-result-container'><table class='table-result'><thead style='background-color: white'><tr><th>sigla</th><th>nome</th></tr></thead><tbody><tr><td>RO</td><td>Rondônia</td></tr><tr><td>AC</td><td>Acre</td></tr><tr><td>AM</td><td>Amazonas</td></tr><tr><td>RR</td><td>Roraima</td></tr><tr><td>PA</td><td>Pará</td></tr><tr><td>AP</td><td>Amapá</td></tr><tr><td>TO</td><td>Tocantins</td></tr><tr><td>MA</td><td>Maranhão</td></tr><tr><td>PI</td><td>Piauí</td></tr><tr><td>CE</td><td>Ceará</td></tr><tr><td>RN</td><td>Rio Grande do Norte</td></tr><tr><td>PB</td><td>Paraíba</td></tr><tr><td>PE</td><td>Pernambuco</td></tr><tr><td>AL</td><td>Alagoas</td></tr><tr><td>SE</td><td>Sergipe</td></tr><tr><td>BA</td><td>Bahia</td></tr><tr><td>MG</td><td>Minas Gerais</td></tr><tr><td>ES</td><td>Espírito Santo</td></tr><tr><td>RJ</td><td>Rio de Janeiro</td></tr><tr><td>SP</td><td>São Paulo</td></tr><tr><td>PR</td><td>Paraná</td></tr><tr><td>SC</td><td>Santa Catarina</td></tr><tr><td>RS</td><td>Rio Grande do Sul</td></tr><tr><td>MS</td><td>Mato Grosso do Sul</td></tr><tr><td>MT</td><td>Mato Grosso</td></tr><tr><td>GO</td><td>Goiás</td></tr><tr><td>DF</td><td>Distrito Federal</td></tr></tbody></table></div>"
      ]
     },
     "metadata": {
      "application/vnd.databricks.v1+output": {
       "addedWidgets": {},
       "aggData": [],
       "aggError": "",
       "aggOverflow": false,
       "aggSchema": [],
       "aggSeriesLimitReached": false,
       "aggType": "",
       "arguments": {},
       "columnCustomDisplayInfos": {},
       "data": [
        [
         "RO",
         "Rondônia"
        ],
        [
         "AC",
         "Acre"
        ],
        [
         "AM",
         "Amazonas"
        ],
        [
         "RR",
         "Roraima"
        ],
        [
         "PA",
         "Pará"
        ],
        [
         "AP",
         "Amapá"
        ],
        [
         "TO",
         "Tocantins"
        ],
        [
         "MA",
         "Maranhão"
        ],
        [
         "PI",
         "Piauí"
        ],
        [
         "CE",
         "Ceará"
        ],
        [
         "RN",
         "Rio Grande do Norte"
        ],
        [
         "PB",
         "Paraíba"
        ],
        [
         "PE",
         "Pernambuco"
        ],
        [
         "AL",
         "Alagoas"
        ],
        [
         "SE",
         "Sergipe"
        ],
        [
         "BA",
         "Bahia"
        ],
        [
         "MG",
         "Minas Gerais"
        ],
        [
         "ES",
         "Espírito Santo"
        ],
        [
         "RJ",
         "Rio de Janeiro"
        ],
        [
         "SP",
         "São Paulo"
        ],
        [
         "PR",
         "Paraná"
        ],
        [
         "SC",
         "Santa Catarina"
        ],
        [
         "RS",
         "Rio Grande do Sul"
        ],
        [
         "MS",
         "Mato Grosso do Sul"
        ],
        [
         "MT",
         "Mato Grosso"
        ],
        [
         "GO",
         "Goiás"
        ],
        [
         "DF",
         "Distrito Federal"
        ]
       ],
       "datasetInfos": [],
       "dbfsResultPath": null,
       "isJsonSchema": true,
       "metadata": {},
       "overflow": false,
       "plotOptions": {
        "customPlotOptions": {},
        "displayType": "table",
        "pivotAggregation": null,
        "pivotColumns": null,
        "xColumns": null,
        "yColumns": null
       },
       "removedWidgets": [],
       "schema": [
        {
         "metadata": "{}",
         "name": "sigla",
         "type": "\"string\""
        },
        {
         "metadata": "{}",
         "name": "nome",
         "type": "\"string\""
        }
       ],
       "type": "table"
      }
     },
     "output_type": "display_data"
    }
   ],
   "source": [
    "# Endpoint do site BrasilAPI\n",
    "\n",
    "url = 'https://brasilapi.com.br/api/ibge/uf/v1/'\n",
    "\n",
    "response = requests.get(url)\n",
    "\n",
    "dados = []\n",
    "\n",
    "# Busca dos dados Sigla e Nome com validação em caso de erros\n",
    "if response.status_code == 200:\n",
    "    estados = response.json()  \n",
    "    for estado in estados:\n",
    "        dados.append({\n",
    "            \"sigla\": estado.get(\"sigla\"),\n",
    "            \"nome\": estado.get(\"nome\")\n",
    "        })\n",
    "else:\n",
    "    dados.append({\n",
    "        \"sigla\": None,\n",
    "        \"nome\": None,\n",
    "        \"erro\": f\"Status {response.status_code}\"\n",
    "    })\n",
    "\n",
    "if dados:\n",
    "    df_pandas = pd.DataFrame(dados)\n",
    "    df = spark.createDataFrame(df_pandas)\n",
    "    display(df)\n",
    "else:\n",
    "    print(\"Nenhum dado retornado pela API.\")\n"
   ]
  },
  {
   "cell_type": "code",
   "execution_count": 0,
   "metadata": {
    "application/vnd.databricks.v1+cell": {
     "cellMetadata": {
      "byteLimit": 2048000,
      "rowLimit": 10000
     },
     "inputWidgets": {},
     "nuid": "6996da5a-0850-4da9-aa69-3ad9e4883db9",
     "showTitle": false,
     "tableResultSettingsMap": {},
     "title": ""
    }
   },
   "outputs": [],
   "source": [
    "spark.sql(f'DROP TABLE IF EXISTS uf_bruto')\n",
    "df.write.saveAsTable('uf_bruto')"
   ]
  },
  {
   "cell_type": "code",
   "execution_count": 0,
   "metadata": {
    "application/vnd.databricks.v1+cell": {
     "cellMetadata": {
      "byteLimit": 2048000,
      "implicitDf": true,
      "rowLimit": 10000
     },
     "inputWidgets": {},
     "nuid": "fafb71cf-b945-4b9d-9618-a3bc46028cb6",
     "showTitle": false,
     "tableResultSettingsMap": {},
     "title": ""
    }
   },
   "outputs": [
    {
     "output_type": "display_data",
     "data": {
      "text/html": [
       "<style scoped>\n",
       "  .table-result-container {\n",
       "    max-height: 300px;\n",
       "    overflow: auto;\n",
       "  }\n",
       "  table, th, td {\n",
       "    border: 1px solid black;\n",
       "    border-collapse: collapse;\n",
       "  }\n",
       "  th, td {\n",
       "    padding: 5px;\n",
       "  }\n",
       "  th {\n",
       "    text-align: left;\n",
       "  }\n",
       "</style><div class='table-result-container'><table class='table-result'><thead style='background-color: white'><tr><th>sigla</th><th>nome</th></tr></thead><tbody><tr><td>RO</td><td>Rondônia</td></tr><tr><td>AC</td><td>Acre</td></tr><tr><td>AM</td><td>Amazonas</td></tr><tr><td>RR</td><td>Roraima</td></tr><tr><td>PA</td><td>Pará</td></tr><tr><td>AP</td><td>Amapá</td></tr><tr><td>TO</td><td>Tocantins</td></tr><tr><td>MA</td><td>Maranhão</td></tr><tr><td>PI</td><td>Piauí</td></tr><tr><td>CE</td><td>Ceará</td></tr><tr><td>RN</td><td>Rio Grande do Norte</td></tr><tr><td>PB</td><td>Paraíba</td></tr><tr><td>PE</td><td>Pernambuco</td></tr><tr><td>AL</td><td>Alagoas</td></tr><tr><td>SE</td><td>Sergipe</td></tr><tr><td>BA</td><td>Bahia</td></tr><tr><td>MG</td><td>Minas Gerais</td></tr><tr><td>ES</td><td>Espírito Santo</td></tr><tr><td>RJ</td><td>Rio de Janeiro</td></tr><tr><td>SP</td><td>São Paulo</td></tr><tr><td>PR</td><td>Paraná</td></tr><tr><td>SC</td><td>Santa Catarina</td></tr><tr><td>RS</td><td>Rio Grande do Sul</td></tr><tr><td>MS</td><td>Mato Grosso do Sul</td></tr><tr><td>MT</td><td>Mato Grosso</td></tr><tr><td>GO</td><td>Goiás</td></tr><tr><td>DF</td><td>Distrito Federal</td></tr></tbody></table></div>"
      ]
     },
     "metadata": {
      "application/vnd.databricks.v1+output": {
       "addedWidgets": {},
       "aggData": [],
       "aggError": "",
       "aggOverflow": false,
       "aggSchema": [],
       "aggSeriesLimitReached": false,
       "aggType": "",
       "arguments": {},
       "columnCustomDisplayInfos": {},
       "data": [
        [
         "RO",
         "Rondônia"
        ],
        [
         "AC",
         "Acre"
        ],
        [
         "AM",
         "Amazonas"
        ],
        [
         "RR",
         "Roraima"
        ],
        [
         "PA",
         "Pará"
        ],
        [
         "AP",
         "Amapá"
        ],
        [
         "TO",
         "Tocantins"
        ],
        [
         "MA",
         "Maranhão"
        ],
        [
         "PI",
         "Piauí"
        ],
        [
         "CE",
         "Ceará"
        ],
        [
         "RN",
         "Rio Grande do Norte"
        ],
        [
         "PB",
         "Paraíba"
        ],
        [
         "PE",
         "Pernambuco"
        ],
        [
         "AL",
         "Alagoas"
        ],
        [
         "SE",
         "Sergipe"
        ],
        [
         "BA",
         "Bahia"
        ],
        [
         "MG",
         "Minas Gerais"
        ],
        [
         "ES",
         "Espírito Santo"
        ],
        [
         "RJ",
         "Rio de Janeiro"
        ],
        [
         "SP",
         "São Paulo"
        ],
        [
         "PR",
         "Paraná"
        ],
        [
         "SC",
         "Santa Catarina"
        ],
        [
         "RS",
         "Rio Grande do Sul"
        ],
        [
         "MS",
         "Mato Grosso do Sul"
        ],
        [
         "MT",
         "Mato Grosso"
        ],
        [
         "GO",
         "Goiás"
        ],
        [
         "DF",
         "Distrito Federal"
        ]
       ],
       "datasetInfos": [
        {
         "name": "_sqldf",
         "schema": {
          "fields": [
           {
            "metadata": {},
            "name": "sigla",
            "nullable": true,
            "type": "string"
           },
           {
            "metadata": {},
            "name": "nome",
            "nullable": true,
            "type": "string"
           }
          ],
          "type": "struct"
         },
         "tableIdentifier": null,
         "typeStr": "pyspark.sql.connect.dataframe.DataFrame"
        }
       ],
       "dbfsResultPath": null,
       "isJsonSchema": true,
       "metadata": {
        "createTempViewForImplicitDf": true,
        "dataframeName": "_sqldf",
        "executionCount": 12
       },
       "overflow": false,
       "plotOptions": {
        "customPlotOptions": {},
        "displayType": "table",
        "pivotAggregation": null,
        "pivotColumns": null,
        "xColumns": null,
        "yColumns": null
       },
       "removedWidgets": [],
       "schema": [
        {
         "metadata": "{}",
         "name": "sigla",
         "type": "\"string\""
        },
        {
         "metadata": "{}",
         "name": "nome",
         "type": "\"string\""
        }
       ],
       "type": "table"
      }
     },
     "output_type": "display_data"
    }
   ],
   "source": [
    "%sql\n",
    "select * from uf_bruto;"
   ]
  }
 ],
 "metadata": {
  "application/vnd.databricks.v1+notebook": {
   "computePreferences": null,
   "dashboards": [],
   "environmentMetadata": {
    "base_environment": "",
    "environment_version": "2"
   },
   "inputWidgetPreferences": null,
   "language": "python",
   "notebookMetadata": {
    "mostRecentlyExecutedCommandWithImplicitDF": {
     "commandId": 8973787451499892,
     "dataframes": [
      "_sqldf"
     ]
    },
    "pythonIndentUnit": 4
   },
   "notebookName": "Bronze - Brasil UF",
   "widgets": {}
  },
  "language_info": {
   "name": "python"
  }
 },
 "nbformat": 4,
 "nbformat_minor": 0
}