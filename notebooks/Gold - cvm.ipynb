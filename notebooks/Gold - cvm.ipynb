{
 "cells": [
  {
   "cell_type": "markdown",
   "metadata": {
    "application/vnd.databricks.v1+cell": {
     "cellMetadata": {},
     "inputWidgets": {},
     "nuid": "c3dc0ec6-4fe9-48ad-922d-b3cb6e0f49b4",
     "showTitle": false,
     "tableResultSettingsMap": {},
     "title": ""
    }
   },
   "source": [
    "# Disponibilização dos dados tratados\n",
    "Disponibilização dos dados tratados, considerando a junção e tratamento de regras realizadas em Silver."
   ]
  },
  {
   "cell_type": "code",
   "execution_count": 0,
   "metadata": {
    "application/vnd.databricks.v1+cell": {
     "cellMetadata": {
      "byteLimit": 2048000,
      "implicitDf": true,
      "rowLimit": 10000
     },
     "inputWidgets": {},
     "nuid": "32ea83a5-8c35-4e97-b949-0ac595d14e7a",
     "showTitle": false,
     "tableResultSettingsMap": {
      "0": {
       "dataGridStateBlob": "{\"version\":1,\"tableState\":{\"columnPinning\":{\"left\":[\"#row_number#\"],\"right\":[]},\"columnSizing\":{},\"columnVisibility\":{}},\"settings\":{\"columns\":{}},\"syncTimestamp\":1755638441523}",
       "filterBlob": null,
       "queryPlanFiltersBlob": null,
       "tableResultIndex": 0
      }
     },
     "title": ""
    }
   },
   "outputs": [
    {
     "output_type": "display_data",
     "data": {
      "text/html": [
       "<style scoped>\n",
       "  .table-result-container {\n",
       "    max-height: 300px;\n",
       "    overflow: auto;\n",
       "  }\n",
       "  table, th, td {\n",
       "    border: 1px solid black;\n",
       "    border-collapse: collapse;\n",
       "  }\n",
       "  th, td {\n",
       "    padding: 5px;\n",
       "  }\n",
       "  th {\n",
       "    text-align: left;\n",
       "  }\n",
       "</style><div class='table-result-container'><table class='table-result'><thead style='background-color: white'><tr><th>documento</th><th>data_reg</th><th>taxa</th><th>valor</th><th>ciade</th></tr></thead><tbody><tr><td>41953322000132</td><td>2021-06-07</td><td>4.0</td><td>1.7319844967E8</td><td>Minas Gerais</td></tr><tr><td>37088071000106</td><td>2020-05-11</td><td>null</td><td>2536455.66</td><td>São Paulo</td></tr><tr><td>46929994000126</td><td>2022-10-24</td><td>null</td><td>3.679685417E7</td><td>São Paulo</td></tr><tr><td>44680388000194</td><td>2022-03-25</td><td>null</td><td>2.483847192E7</td><td>São Paulo</td></tr><tr><td>05754066000190</td><td>2005-01-14</td><td>0.04</td><td>6.19662105094E9</td><td>São Paulo</td></tr><tr><td>50275622000109</td><td>2023-04-11</td><td>null</td><td>1.321802143E7</td><td>São Paulo</td></tr><tr><td>44680435000108</td><td>2022-09-27</td><td>null</td><td>3.678052558E7</td><td>São Paulo</td></tr><tr><td>18929680000198</td><td>2013-09-25</td><td>null</td><td>4.144935435E7</td><td>São Paulo</td></tr><tr><td>26845868000186</td><td>2018-02-19</td><td>1.515</td><td>1265664.58</td><td>São Paulo</td></tr><tr><td>44108111000191</td><td>2022-10-06</td><td>null</td><td>2.7886747382E8</td><td>São Paulo</td></tr><tr><td>47372720000141</td><td>2022-08-09</td><td>null</td><td>3.160091085E7</td><td>São Paulo</td></tr><tr><td>31570611000107</td><td>2018-10-03</td><td>null</td><td>6.7677066527E8</td><td>São Paulo</td></tr><tr><td>48502650000161</td><td>2022-11-30</td><td>null</td><td>2.742365066E7</td><td>São Paulo</td></tr><tr><td>07939851000143</td><td>2006-08-16</td><td>0.042</td><td>2.32051852498E9</td><td>São Paulo</td></tr><tr><td>07144604000150</td><td>2004-11-16</td><td>null</td><td>1479388.51</td><td>Pará</td></tr><tr><td>45908200000185</td><td>2022-08-26</td><td>null</td><td>5335302.04</td><td>São Paulo</td></tr><tr><td>42860984000120</td><td>2021-08-30</td><td>null</td><td>9393138.14</td><td>São Paulo</td></tr><tr><td>44815107000163</td><td>2022-02-15</td><td>null</td><td>2.208686899E7</td><td>Rio de Janeiro</td></tr><tr><td>49651132000172</td><td>2023-02-17</td><td>null</td><td>4.237867217E7</td><td>São Paulo</td></tr><tr><td>01147641000136</td><td>2005-04-04</td><td>0.1775</td><td>5.4073140876E8</td><td>São Paulo</td></tr><tr><td>51292131000120</td><td>2023-07-04</td><td>null</td><td>1.0623895649E8</td><td>São Paulo</td></tr><tr><td>44680466000150</td><td>2022-02-24</td><td>null</td><td>6.397035926E7</td><td>São Paulo</td></tr><tr><td>19424677000185</td><td>2023-02-01</td><td>2500.0</td><td>1.219515785E7</td><td>São Paulo</td></tr><tr><td>33361923000128</td><td>2019-06-18</td><td>0.065</td><td>6.077961322E7</td><td>São Paulo</td></tr><tr><td>07965741000156</td><td>2006-06-27</td><td>0.7</td><td>7.937533818E7</td><td>São Paulo</td></tr><tr><td>45019002000160</td><td>2022-08-09</td><td>null</td><td>4.81126398E7</td><td>São Paulo</td></tr><tr><td>42081295000118</td><td>2021-06-11</td><td>0.0</td><td>5.896034231E8</td><td>Rio de Janeiro</td></tr><tr><td>14951577000193</td><td>2012-05-10</td><td>1.0</td><td>9.110146163E7</td><td>São Paulo</td></tr><tr><td>46778844000169</td><td>2022-12-09</td><td>null</td><td>1.8557583749E8</td><td>São Paulo</td></tr><tr><td>46282024000181</td><td>2022-11-01</td><td>null</td><td>2668684.34</td><td>São Paulo</td></tr><tr><td>27938258000190</td><td>2017-07-11</td><td>null</td><td>1.061673687E7</td><td>São Paulo</td></tr><tr><td>35277363000153</td><td>2021-03-17</td><td>null</td><td>2.7238955682E8</td><td>São Paulo</td></tr><tr><td>50818107000110</td><td>2023-05-25</td><td>null</td><td>0.0</td><td>São Paulo</td></tr><tr><td>46782474000133</td><td>2022-12-09</td><td>null</td><td>1.05489145E7</td><td>São Paulo</td></tr><tr><td>42923073000103</td><td>2021-10-15</td><td>null</td><td>2.001371535E7</td><td>Minas Gerais</td></tr><tr><td>15296704000120</td><td>2012-04-02</td><td>null</td><td>1.01364791999E9</td><td>São Paulo</td></tr><tr><td>33913576000107</td><td>2019-12-30</td><td>0.09</td><td>3.5382136994E8</td><td>São Paulo</td></tr><tr><td>42922066000189</td><td>2021-12-17</td><td>null</td><td>3584748.74</td><td>São Paulo</td></tr><tr><td>49252656000190</td><td>2023-01-19</td><td>null</td><td>7.4622659055E8</td><td>Rio de Janeiro</td></tr><tr><td>50946637000143</td><td>2023-06-05</td><td>null</td><td>1.636318291E7</td><td>São Paulo</td></tr><tr><td>41036490000163</td><td>2021-03-15</td><td>5.0</td><td>3.901224709E7</td><td>Minas Gerais</td></tr><tr><td>43616501000100</td><td>2021-09-27</td><td>null</td><td>4.9763847452E8</td><td>Rio de Janeiro</td></tr><tr><td>44680449000113</td><td>2022-10-20</td><td>null</td><td>8440299.75</td><td>São Paulo</td></tr><tr><td>09720710000160</td><td>2008-09-26</td><td>8.0</td><td>2.6752782021E8</td><td>Minas Gerais</td></tr><tr><td>30871793000185</td><td>2018-07-18</td><td>null</td><td>3.1417714954E8</td><td>São Paulo</td></tr><tr><td>45823709000125</td><td>2022-12-08</td><td>1.0</td><td>1.55511045E7</td><td>São Paulo</td></tr><tr><td>12241282000106</td><td>2011-09-22</td><td>0.02</td><td>6.542651389E7</td><td>São Paulo</td></tr><tr><td>34553995000130</td><td>2019-11-25</td><td>null</td><td>8900515.53</td><td>São Paulo</td></tr><tr><td>44638527000111</td><td>2022-10-21</td><td>null</td><td>1.758816632E7</td><td>São Paulo</td></tr><tr><td>47388724000118</td><td>2023-02-28</td><td>null</td><td>435374.17</td><td>Rio de Janeiro</td></tr><tr><td>45722284000168</td><td>2022-04-17</td><td>null</td><td>1.502939107E7</td><td>São Paulo</td></tr><tr><td>07143386000130</td><td>2004-11-16</td><td>null</td><td>614165.85</td><td>Pará</td></tr><tr><td>17137984000150</td><td>2014-09-11</td><td>0.02</td><td>3.06168632958E9</td><td>São Paulo</td></tr><tr><td>26545537000120</td><td>2016-11-28</td><td>null</td><td>606645.44</td><td>São Paulo</td></tr><tr><td>51539073000197</td><td>2023-07-24</td><td>null</td><td>1.952326898E7</td><td>São Paulo</td></tr><tr><td>36443587000150</td><td>2020-03-09</td><td>3.0</td><td>2.128071543E7</td><td>Minas Gerais</td></tr><tr><td>09284554000132</td><td>2008-05-29</td><td>0.12</td><td>1.9105776934E8</td><td>São Paulo</td></tr><tr><td>50995214000113</td><td>2023-06-09</td><td>null</td><td>9.75194172E7</td><td>São Paulo</td></tr><tr><td>07657641000162</td><td>2008-06-10</td><td>0.7</td><td>4572264.72</td><td>São Paulo</td></tr><tr><td>42294971000131</td><td>2021-07-02</td><td>8.0</td><td>2.0979385268E8</td><td>Minas Gerais</td></tr><tr><td>42691990000100</td><td>2022-02-01</td><td>null</td><td>2.844502902E7</td><td>Minas Gerais</td></tr><tr><td>49920326000126</td><td>2023-03-13</td><td>null</td><td>1.9054992806E8</td><td>São Paulo</td></tr><tr><td>51295092000115</td><td>2023-07-04</td><td>null</td><td>2367149.05</td><td>São Paulo</td></tr><tr><td>34509036000117</td><td>2019-09-16</td><td>null</td><td>4.0174206574E8</td><td>São Paulo</td></tr><tr><td>52317938000133</td><td>2023-09-26</td><td>null</td><td>3257185.51</td><td>São Paulo</td></tr><tr><td>30687646000150</td><td>2018-12-05</td><td>null</td><td>4.404450632E7</td><td>São Paulo</td></tr><tr><td>01964775000140</td><td>1997-06-11</td><td>null</td><td>1484965.19</td><td>São Paulo</td></tr><tr><td>47463511000103</td><td>2022-12-09</td><td>null</td><td>4402769.94</td><td>São Paulo</td></tr><tr><td>51033013000106</td><td>2023-06-13</td><td>null</td><td>4224343.58</td><td>São Paulo</td></tr><tr><td>06537068000190</td><td>2004-08-02</td><td>null</td><td>1260.7</td><td>Pará</td></tr><tr><td>33361798000156</td><td>2019-06-18</td><td>0.8</td><td>7575485.02</td><td>São Paulo</td></tr><tr><td>44428806000150</td><td>2022-09-25</td><td>null</td><td>1.2377297921E8</td><td>São Paulo</td></tr><tr><td>35686949000171</td><td>2019-12-19</td><td>null</td><td>1.959861874E7</td><td>São Paulo</td></tr><tr><td>20378135000100</td><td>2014-08-06</td><td>0.17</td><td>1831833.56</td><td>São Paulo</td></tr><tr><td>42692399000169</td><td>2022-05-24</td><td>null</td><td>1.0249049754E8</td><td>Minas Gerais</td></tr><tr><td>44870636000160</td><td>2022-04-22</td><td>null</td><td>1.5165212125E8</td><td>São Paulo</td></tr><tr><td>43619349000119</td><td>2021-10-25</td><td>null</td><td>1.2222365812E8</td><td>São Paulo</td></tr><tr><td>49651212000128</td><td>2023-02-17</td><td>null</td><td>4.30252098E7</td><td>São Paulo</td></tr><tr><td>52116361000100</td><td>2023-09-08</td><td>null</td><td>4.898758673E7</td><td>São Paulo</td></tr><tr><td>13451738000117</td><td>2011-02-28</td><td>null</td><td>2.266803318E7</td><td>São Paulo</td></tr><tr><td>48900133000140</td><td>2022-12-15</td><td>null</td><td>5.9156535139E8</td><td>São Paulo</td></tr><tr><td>46334681000125</td><td>2022-07-21</td><td>null</td><td>1.049761399E7</td><td>São Paulo</td></tr><tr><td>52356865000199</td><td>2023-09-28</td><td>null</td><td>1.23030823E7</td><td>São Paulo</td></tr><tr><td>29315243000109</td><td>2019-03-18</td><td>2.0</td><td>9.0170094276E8</td><td>São Paulo</td></tr><tr><td>47984249000142</td><td>2022-11-30</td><td>null</td><td>3676461.59</td><td>São Paulo</td></tr><tr><td>29843196000168</td><td>2018-03-19</td><td>null</td><td>1.219411721E7</td><td>São Paulo</td></tr><tr><td>21596006000143</td><td>2015-01-19</td><td>0.12</td><td>2.4057585479E8</td><td>São Paulo</td></tr><tr><td>42700668000191</td><td>2021-11-29</td><td>null</td><td>6.589757045E7</td><td>Rio de Janeiro</td></tr><tr><td>52174102000127</td><td>2023-09-13</td><td>null</td><td>2.6102811665E8</td><td>São Paulo</td></tr><tr><td>47372648000152</td><td>2022-08-30</td><td>null</td><td>2671425.13</td><td>São Paulo</td></tr><tr><td>43106870000152</td><td>2022-04-19</td><td>null</td><td>6.917985972E7</td><td>São Paulo</td></tr><tr><td>12124044000102</td><td>2010-08-26</td><td>1.5</td><td>5.5395629203E8</td><td>São Paulo</td></tr><tr><td>41081374000166</td><td>2021-03-23</td><td>null</td><td>1.9196809526E8</td><td>São Paulo</td></tr><tr><td>28850140000178</td><td>2017-10-16</td><td>null</td><td>2.140063824E7</td><td>São Paulo</td></tr><tr><td>14167550000104</td><td>2012-05-11</td><td>0.0</td><td>6.28676712E7</td><td>São Paulo</td></tr><tr><td>39581746000171</td><td>2020-11-30</td><td>null</td><td>5.0317439628E8</td><td>São Paulo</td></tr><tr><td>49592781000140</td><td>2023-02-14</td><td>null</td><td>3.469227758E8</td><td>Rio de Janeiro</td></tr><tr><td>48964604000184</td><td>2022-12-22</td><td>null</td><td>1293504.85</td><td>São Paulo</td></tr><tr><td>39447231000183</td><td>2021-11-26</td><td>null</td><td>5200416.53</td><td>São Paulo</td></tr><tr><td>16617593000170</td><td>2012-08-02</td><td>2.5</td><td>1033528.17</td><td>São Paulo</td></tr><tr><td>27486551000163</td><td>2017-06-02</td><td>null</td><td>604067.12</td><td>São Paulo</td></tr><tr><td>50963249000170</td><td>2023-06-06</td><td>null</td><td>1.0079293942E8</td><td>São Paulo</td></tr><tr><td>29983516000185</td><td>2020-01-08</td><td>1.2</td><td>7.078584772E7</td><td>São Paulo</td></tr><tr><td>48993165000138</td><td>2022-12-28</td><td>0.0</td><td>5.34157357E7</td><td>São Paulo</td></tr><tr><td>20879578000177</td><td>2015-01-07</td><td>0.5</td><td>1.36919468676E9</td><td>Minas Gerais</td></tr><tr><td>43721652000128</td><td>2022-03-31</td><td>null</td><td>3.0567678483E8</td><td>São Paulo</td></tr><tr><td>34617291000183</td><td>2019-09-11</td><td>855.0</td><td>5018082.48</td><td>Minas Gerais</td></tr><tr><td>46929959000107</td><td>2022-10-31</td><td>null</td><td>7.261654725E7</td><td>São Paulo</td></tr><tr><td>26862104000107</td><td>2017-03-07</td><td>5.0</td><td>1.055678005E7</td><td>Minas Gerais</td></tr><tr><td>46729394000114</td><td>2022-07-04</td><td>5.0</td><td>3716137.24</td><td>Minas Gerais</td></tr><tr><td>32140484000160</td><td>2019-02-22</td><td>null</td><td>5.832228657E8</td><td>São Paulo</td></tr><tr><td>21613190000192</td><td>2015-01-07</td><td>null</td><td>6.0198639572E8</td><td>São Paulo</td></tr><tr><td>42627796000157</td><td>2021-09-17</td><td>null</td><td>3.3835810627E8</td><td>São Paulo</td></tr><tr><td>33033191000147</td><td>2019-12-17</td><td>0.8816</td><td>8.992570721E7</td><td>Rio de Janeiro</td></tr><tr><td>14171578000115</td><td>2012-06-27</td><td>0.0</td><td>4.8652616313E8</td><td>Rio de Janeiro</td></tr><tr><td>15018580000111</td><td>2012-03-23</td><td>null</td><td>1.66052551369E9</td><td>São Paulo</td></tr><tr><td>45018608000181</td><td>2022-05-06</td><td>0.5</td><td>5.629107289E7</td><td>São Paulo</td></tr><tr><td>50443649000155</td><td>2023-04-25</td><td>null</td><td>2.0747074698E8</td><td>Rio de Janeiro</td></tr><tr><td>41922654000150</td><td>2021-05-18</td><td>null</td><td>6379347.37</td><td>São Paulo</td></tr><tr><td>11147668000182</td><td>2010-06-16</td><td>0.7</td><td>1.8697626529E8</td><td>São Paulo</td></tr><tr><td>52349539000154</td><td>2023-09-28</td><td>null</td><td>1.994651913E7</td><td>São Paulo</td></tr><tr><td>21185984000100</td><td>2014-12-30</td><td>0.4</td><td>2.44843751283E9</td><td>São Paulo</td></tr><tr><td>09087301000179</td><td>2010-05-25</td><td>0.5</td><td>1.0942306922E8</td><td>São Paulo</td></tr><tr><td>48513136000121</td><td>2022-11-18</td><td>null</td><td>1.384308465E7</td><td>São Paulo</td></tr><tr><td>44603407000189</td><td>2021-12-22</td><td>null</td><td>3.501937318E7</td><td>São Paulo</td></tr><tr><td>52116337000162</td><td>2023-09-08</td><td>null</td><td>8.472435318E7</td><td>São Paulo</td></tr><tr><td>02539921000152</td><td>2005-03-22</td><td>0.52</td><td>1.7849735231E8</td><td>São Paulo</td></tr><tr><td>44680491000134</td><td>2022-01-03</td><td>null</td><td>4.2076959083E8</td><td>São Paulo</td></tr><tr><td>47279999000113</td><td>2022-12-09</td><td>null</td><td>6010936.16</td><td>São Paulo</td></tr><tr><td>41579637000161</td><td>2021-12-07</td><td>null</td><td>1.7672430245E8</td><td>São Paulo</td></tr><tr><td>48992508000140</td><td>2022-12-28</td><td>null</td><td>1.149394909E7</td><td>São Paulo</td></tr><tr><td>35725626000140</td><td>2020-03-06</td><td>null</td><td>5.13615446257E9</td><td>São Paulo</td></tr><tr><td>33498764000108</td><td>2020-05-26</td><td>null</td><td>1.465456113E7</td><td>São Paulo</td></tr><tr><td>37806055000101</td><td>2020-08-20</td><td>0.0</td><td>2.9483089257E8</td><td>Rio de Janeiro</td></tr><tr><td>36293425000183</td><td>2020-02-19</td><td>null</td><td>6.693652613E7</td><td>Minas Gerais</td></tr><tr><td>49914023000109</td><td>2023-03-13</td><td>0.0</td><td>1.6773497207E8</td><td>São Paulo</td></tr><tr><td>08621199000187</td><td>2016-01-04</td><td>null</td><td>1.6182787373E8</td><td>São Paulo</td></tr><tr><td>29323865000170</td><td>2018-01-17</td><td>null</td><td>6.6743624658E8</td><td>São Paulo</td></tr><tr><td>17453850000148</td><td>2013-04-17</td><td>1.0</td><td>1.19317094599E9</td><td>São Paulo</td></tr><tr><td>09636393000107</td><td>2008-09-03</td><td>0.35</td><td>8.39063605223E9</td><td>São Paulo</td></tr><tr><td>11283444000106</td><td>2009-11-27</td><td>null</td><td>3.6677454088E8</td><td>São Paulo</td></tr><tr><td>45899588000103</td><td>2022-08-03</td><td>null</td><td>1268242.73</td><td>São Paulo</td></tr><tr><td>08771975000125</td><td>2007-10-25</td><td>0.11</td><td>6.38548976912E9</td><td>São Paulo</td></tr><tr><td>51777660000114</td><td>2023-08-11</td><td>null</td><td>3.087888276E7</td><td>São Paulo</td></tr><tr><td>45953169000102</td><td>2022-05-02</td><td>0.0</td><td>4.505303154E7</td><td>Rio de Janeiro</td></tr><tr><td>50071531000143</td><td>2023-03-24</td><td>null</td><td>1.0044405434E8</td><td>São Paulo</td></tr><tr><td>45019040000113</td><td>2022-02-14</td><td>null</td><td>6.581121408E7</td><td>São Paulo</td></tr><tr><td>32907653000145</td><td>2019-11-26</td><td>null</td><td>2.372881091E7</td><td>São Paulo</td></tr><tr><td>49223648000116</td><td>2023-01-17</td><td>null</td><td>0.0</td><td>São Paulo</td></tr><tr><td>43508144000166</td><td>2021-09-27</td><td>null</td><td>9.403083508E7</td><td>Rio de Janeiro</td></tr><tr><td>50750438000165</td><td>2023-05-19</td><td>null</td><td>3.2397564865E8</td><td>Rio de Janeiro</td></tr><tr><td>38249518000136</td><td>2021-12-15</td><td>null</td><td>3.238012743E7</td><td>São Paulo</td></tr><tr><td>35580324000120</td><td>2019-11-27</td><td>1.85</td><td>9.136176875E7</td><td>Rio de Janeiro</td></tr><tr><td>14311936000148</td><td>2011-09-23</td><td>null</td><td>5219076.0</td><td>São Paulo</td></tr><tr><td>07672392000184</td><td>2006-02-01</td><td>2.0</td><td>1.02713548E7</td><td>São Paulo</td></tr><tr><td>35654738000157</td><td>2021-08-02</td><td>null</td><td>2.0009135903E8</td><td>São Paulo</td></tr><tr><td>39347413000182</td><td>2020-10-09</td><td>null</td><td>1.1619008593E8</td><td>São Paulo</td></tr><tr><td>49995610000161</td><td>2023-03-20</td><td>25.0</td><td>4.5087550965E8</td><td>Minas Gerais</td></tr><tr><td>47372688000102</td><td>2022-08-30</td><td>null</td><td>3361933.07</td><td>São Paulo</td></tr><tr><td>43122453000101</td><td>2021-10-01</td><td>null</td><td>1.3764790992E8</td><td>São Paulo</td></tr><tr><td>18579353000153</td><td>2013-07-31</td><td>null</td><td>903374.56</td><td>São Paulo</td></tr><tr><td>18356327000166</td><td>2013-11-18</td><td>null</td><td>234978.48</td><td>São Paulo</td></tr><tr><td>50943777000168</td><td>2023-06-05</td><td>null</td><td>2.986653305E7</td><td>São Paulo</td></tr><tr><td>39540780000106</td><td>2021-02-17</td><td>7.0</td><td>3.980750295E7</td><td>Minas Gerais</td></tr><tr><td>34598181000111</td><td>2019-09-05</td><td>null</td><td>4.5200100067E8</td><td>Minas Gerais</td></tr><tr><td>14769978000127</td><td>2011-12-30</td><td>null</td><td>7.1379670563E8</td><td>São Paulo</td></tr><tr><td>09110175000126</td><td>2007-12-28</td><td>null</td><td>1186684.99</td><td>São Paulo</td></tr><tr><td>49506998000190</td><td>2023-02-07</td><td>0.3</td><td>2.70401677E7</td><td>Minas Gerais</td></tr><tr><td>35137939000187</td><td>2019-10-14</td><td>null</td><td>1.443323611E7</td><td>São Paulo</td></tr><tr><td>45521649000196</td><td>2022-06-21</td><td>null</td><td>2.304282834E8</td><td>São Paulo</td></tr><tr><td>30282270000101</td><td>2018-12-19</td><td>5.0E-4</td><td>6.26435857544E9</td><td>São Paulo</td></tr><tr><td>17198500000182</td><td>2012-12-13</td><td>null</td><td>1.6201099272E8</td><td>São Paulo</td></tr><tr><td>48373428000106</td><td>2022-12-09</td><td>null</td><td>5.447980275E7</td><td>São Paulo</td></tr><tr><td>15437768000102</td><td>2012-04-20</td><td>null</td><td>7.9155812445E8</td><td>São Paulo</td></tr><tr><td>42656644000182</td><td>2022-03-08</td><td>null</td><td>1.186271469E7</td><td>Minas Gerais</td></tr><tr><td>24372158000150</td><td>2016-04-15</td><td>0.08</td><td>2.362694434E7</td><td>Rio de Janeiro</td></tr><tr><td>18448137000179</td><td>2013-09-16</td><td>2.5</td><td>4269177.58</td><td>Rio Grande do Sul</td></tr><tr><td>42357817000161</td><td>2022-03-08</td><td>null</td><td>4.645220263E7</td><td>São Paulo</td></tr><tr><td>50197313000150</td><td>2023-04-04</td><td>45.0</td><td>2.1369438278E8</td><td>Minas Gerais</td></tr><tr><td>50462226000182</td><td>2023-04-26</td><td>null</td><td>4.470830981E7</td><td>São Paulo</td></tr><tr><td>33913584000145</td><td>2019-12-30</td><td>0.09</td><td>6876880.46</td><td>São Paulo</td></tr><tr><td>49429700000195</td><td>2023-02-01</td><td>0.0</td><td>6.534461901E7</td><td>São Paulo</td></tr><tr><td>44104852000102</td><td>2022-06-21</td><td>5.0</td><td>8783097.76</td><td>Minas Gerais</td></tr><tr><td>32222759000105</td><td>2019-06-18</td><td>0.065</td><td>2.04240363E7</td><td>São Paulo</td></tr><tr><td>45018643000109</td><td>2022-05-06</td><td>0.15</td><td>2.3769074663E8</td><td>São Paulo</td></tr><tr><td>05090727000120</td><td>2005-03-16</td><td>0.15</td><td>6.3507335068E8</td><td>São Paulo</td></tr><tr><td>36412972000130</td><td>2020-09-10</td><td>null</td><td>5156801.75</td><td>São Paulo</td></tr><tr><td>05104498000156</td><td>2005-03-22</td><td>0.5</td><td>3.306740576E7</td><td>São Paulo</td></tr><tr><td>43236479000172</td><td>2021-08-26</td><td>null</td><td>6553378.16</td><td>São Paulo</td></tr><tr><td>33354650000194</td><td>2019-07-15</td><td>null</td><td>2.328381297E8</td><td>Minas Gerais</td></tr><tr><td>28320756000137</td><td>2019-01-17</td><td>0.5</td><td>3.03561141071E9</td><td>São Paulo</td></tr><tr><td>31963246000192</td><td>2019-03-18</td><td>2.0</td><td>2488248.35</td><td>São Paulo</td></tr><tr><td>40905548000103</td><td>2021-03-01</td><td>1.0</td><td>3.487545472E7</td><td>Rio de Janeiro</td></tr><tr><td>37087982000100</td><td>2020-05-11</td><td>null</td><td>848377.45</td><td>São Paulo</td></tr><tr><td>50587789000105</td><td>2023-05-08</td><td>null</td><td>8.21327176E7</td><td>São Paulo</td></tr><tr><td>37651102000187</td><td>2022-02-02</td><td>null</td><td>1.1047891301E8</td><td>São Paulo</td></tr><tr><td>42562105000184</td><td>2022-01-18</td><td>null</td><td>0.0</td><td>São Paulo</td></tr><tr><td>45788850000134</td><td>2022-07-07</td><td>null</td><td>4.00889018885E9</td><td>São Paulo</td></tr><tr><td>27826059000190</td><td>2017-10-23</td><td>0.6</td><td>2.1715571911E8</td><td>Minas Gerais</td></tr><tr><td>43876638000101</td><td>2022-03-08</td><td>null</td><td>4765027.17</td><td>Minas Gerais</td></tr><tr><td>50312715000158</td><td>2023-04-13</td><td>null</td><td>1.7484117954E8</td><td>São Paulo</td></tr><tr><td>07110963000197</td><td>2005-02-11</td><td>0.15</td><td>4.37176736875E9</td><td>São Paulo</td></tr><tr><td>21254224000108</td><td>2014-10-27</td><td>null</td><td>1.888978618E7</td><td>São Paulo</td></tr><tr><td>12271294000175</td><td>2010-09-23</td><td>null</td><td>1.1324594488E8</td><td>São Paulo</td></tr><tr><td>49637003000120</td><td>2023-02-16</td><td>null</td><td>1.3042332071E8</td><td>São Paulo</td></tr><tr><td>18653128000110</td><td>2013-08-13</td><td>null</td><td>1.0195178623E8</td><td>São Paulo</td></tr><tr><td>17213759000155</td><td>2013-05-20</td><td>null</td><td>3.3243681215E8</td><td>São Paulo</td></tr><tr><td>36729755000179</td><td>2020-06-19</td><td>0.9</td><td>2.1997348455E8</td><td>Rio de Janeiro</td></tr><tr><td>32321319000105</td><td>2021-07-23</td><td>null</td><td>1215227.93</td><td>São Paulo</td></tr><tr><td>49983964000196</td><td>2023-03-17</td><td>null</td><td>7.2397634306E8</td><td>São Paulo</td></tr><tr><td>32244578000180</td><td>2019-02-11</td><td>null</td><td>3.398212742E7</td><td>São Paulo</td></tr><tr><td>36731458000168</td><td>2020-04-23</td><td>null</td><td>7.285187875E7</td><td>São Paulo</td></tr><tr><td>42196361000103</td><td>2022-11-04</td><td>null</td><td>1726899.04</td><td>São Paulo</td></tr><tr><td>50948197000163</td><td>2023-06-05</td><td>null</td><td>990299.19</td><td>São Paulo</td></tr><tr><td>22802858000102</td><td>2015-07-08</td><td>null</td><td>8.3315787709E8</td><td>São Paulo</td></tr><tr><td>22219279000131</td><td>2015-04-13</td><td>null</td><td>2.642569966E7</td><td>São Paulo</td></tr><tr><td>30871738000195</td><td>2018-07-18</td><td>null</td><td>386700.25</td><td>São Paulo</td></tr><tr><td>12586174000167</td><td>2016-10-20</td><td>null</td><td>4.782494499E7</td><td>São Paulo</td></tr><tr><td>05024659000100</td><td>2005-03-16</td><td>1.1</td><td>1.445349547E7</td><td>São Paulo</td></tr><tr><td>48328958000132</td><td>2022-12-08</td><td>null</td><td>981206.52</td><td>São Paulo</td></tr><tr><td>45017499000188</td><td>2022-04-19</td><td>0.1411</td><td>1.5016764159E8</td><td>São Paulo</td></tr><tr><td>27882134000130</td><td>2017-10-23</td><td>null</td><td>8893011.84</td><td>Minas Gerais</td></tr><tr><td>39344840000107</td><td>2020-11-17</td><td>2.0</td><td>8940141.89</td><td>Minas Gerais</td></tr><tr><td>06905783000139</td><td>2004-12-30</td><td>null</td><td>1.959792432E7</td><td>São Paulo</td></tr><tr><td>00817677000117</td><td>2005-03-17</td><td>0.45</td><td>2.2248789993E8</td><td>São Paulo</td></tr><tr><td>50269714000178</td><td>2023-04-11</td><td>null</td><td>3.4081955309E8</td><td>São Paulo</td></tr><tr><td>39281116000181</td><td>2020-11-06</td><td>5.0</td><td>6293022.87</td><td>Minas Gerais</td></tr><tr><td>34736474000118</td><td>2019-09-24</td><td>null</td><td>2.3678026753E8</td><td>São Paulo</td></tr><tr><td>42736004000182</td><td>2021-12-29</td><td>null</td><td>1.114230683E7</td><td>São Paulo</td></tr><tr><td>40311750000107</td><td>2021-06-24</td><td>null</td><td>3.132980961E7</td><td>São Paulo</td></tr><tr><td>50051913000105</td><td>2023-03-23</td><td>null</td><td>5.455316553E7</td><td>São Paulo</td></tr><tr><td>17574820000190</td><td>2013-02-28</td><td>0.3</td><td>1093018.92</td><td>São Paulo</td></tr><tr><td>03499367000190</td><td>2005-03-16</td><td>0.4</td><td>2.4029445984E8</td><td>São Paulo</td></tr><tr><td>17340392000130</td><td>2014-03-07</td><td>0.3</td><td>3.9777181563E8</td><td>São Paulo</td></tr><tr><td>46557432000107</td><td>2022-07-07</td><td>null</td><td>4120348.03</td><td>São Paulo</td></tr><tr><td>21331225000109</td><td>2015-02-10</td><td>null</td><td>-1519081.16</td><td>Rio de Janeiro</td></tr><tr><td>47423757000151</td><td>2022-10-20</td><td>65.0</td><td>3.280304342E8</td><td>Minas Gerais</td></tr><tr><td>05627929000169</td><td>2005-04-04</td><td>0.12</td><td>1.15696028435E9</td><td>São Paulo</td></tr><tr><td>45521676000169</td><td>2022-10-27</td><td>null</td><td>3.5515348358E8</td><td>São Paulo</td></tr><tr><td>23781192000116</td><td>2016-12-19</td><td>null</td><td>3.09240810504E9</td><td>São Paulo</td></tr><tr><td>50948092000104</td><td>2023-06-05</td><td>null</td><td>2.04266121E7</td><td>São Paulo</td></tr><tr><td>43648593000100</td><td>2021-12-02</td><td>null</td><td>1.462862316E7</td><td>São Paulo</td></tr><tr><td>09315625000117</td><td>2008-07-08</td><td>1.0</td><td>1.213258701E7</td><td>Rio de Janeiro</td></tr><tr><td>45899460000131</td><td>2022-09-28</td><td>null</td><td>5.143766779E7</td><td>São Paulo</td></tr><tr><td>24764405000164</td><td>2016-04-18</td><td>null</td><td>1.0174597496E8</td><td>São Paulo</td></tr><tr><td>44428854000149</td><td>2022-09-25</td><td>null</td><td>1.217224301E8</td><td>São Paulo</td></tr><tr><td>36764134000126</td><td>2020-03-25</td><td>5.0</td><td>2.963157566E7</td><td>Minas Gerais</td></tr><tr><td>97543707000186</td><td>2011-08-31</td><td>0.0</td><td>2.0799783775E8</td><td>São Paulo</td></tr><tr><td>38443033000189</td><td>2021-02-10</td><td>0.98</td><td>5.715885576E7</td><td>São Paulo</td></tr><tr><td>41751844000151</td><td>2022-07-14</td><td>null</td><td>0.0</td><td>São Paulo</td></tr><tr><td>45721977000136</td><td>2022-07-19</td><td>null</td><td>1.7123149245E8</td><td>São Paulo</td></tr><tr><td>49733651000180</td><td>2023-02-27</td><td>0.08</td><td>1.222186178E7</td><td>Rio de Janeiro</td></tr><tr><td>28849641000134</td><td>2018-03-19</td><td>null</td><td>3.043454345E7</td><td>São Paulo</td></tr><tr><td>49651245000178</td><td>2023-02-17</td><td>null</td><td>1.236116204E7</td><td>São Paulo</td></tr><tr><td>36741133000166</td><td>2020-06-30</td><td>null</td><td>5.3346384692E8</td><td>São Paulo</td></tr><tr><td>25108905000100</td><td>2016-12-09</td><td>0.2</td><td>1.0448693463E8</td><td>São Paulo</td></tr><tr><td>50184026000105</td><td>2023-04-03</td><td>null</td><td>3.390548606E7</td><td>São Paulo</td></tr><tr><td>36741161000183</td><td>2020-07-16</td><td>null</td><td>4.605274238E7</td><td>São Paulo</td></tr><tr><td>50808042000121</td><td>2023-05-24</td><td>null</td><td>4.7699495571E8</td><td>São Paulo</td></tr><tr><td>46268214000144</td><td>2022-06-01</td><td>null</td><td>2.219077747E8</td><td>São Paulo</td></tr><tr><td>48996311000189</td><td>2022-12-28</td><td>null</td><td>7635102.32</td><td>São Paulo</td></tr><tr><td>14217108000145</td><td>2011-11-16</td><td>null</td><td>3.2571111973E8</td><td>São Paulo</td></tr><tr><td>51199121000145</td><td>2023-06-27</td><td>null</td><td>3575207.71</td><td>São Paulo</td></tr><tr><td>42260903000151</td><td>2021-07-08</td><td>null</td><td>5.8474970655E8</td><td>Rio de Janeiro</td></tr><tr><td>32222722000187</td><td>2019-04-03</td><td>0.25</td><td>1.88152272607E9</td><td>São Paulo</td></tr><tr><td>23700564000132</td><td>2016-12-13</td><td>null</td><td>513510.04</td><td>São Paulo</td></tr><tr><td>45019108000164</td><td>2022-03-23</td><td>null</td><td>1.342890732E7</td><td>São Paulo</td></tr><tr><td>39976918000106</td><td>2021-01-07</td><td>null</td><td>4.456082369E7</td><td>São Paulo</td></tr><tr><td>14167491000174</td><td>2012-05-11</td><td>0.02</td><td>1.40077189908E9</td><td>São Paulo</td></tr><tr><td>09194841000151</td><td>2007-11-30</td><td>null</td><td>1.8033292672E8</td><td>São Paulo</td></tr><tr><td>33361873000189</td><td>2019-06-18</td><td>0.07</td><td>6.562865568E7</td><td>São Paulo</td></tr><tr><td>28065477000174</td><td>2019-08-02</td><td>null</td><td>3.6033615272E8</td><td>São Paulo</td></tr><tr><td>48373413000148</td><td>2022-12-09</td><td>null</td><td>2.7760247853E8</td><td>São Paulo</td></tr><tr><td>01356517000180</td><td>1996-07-24</td><td>null</td><td>1.6878108439E8</td><td>Rio de Janeiro</td></tr><tr><td>12834634000129</td><td>2010-10-18</td><td>null</td><td>372240.51</td><td>São Paulo</td></tr><tr><td>49176545000142</td><td>2023-01-13</td><td>null</td><td>2.344639181E7</td><td>São Paulo</td></tr><tr><td>12239939000192</td><td>2011-09-21</td><td>2.02</td><td>6.55877165E7</td><td>São Paulo</td></tr><tr><td>35819219000100</td><td>2020-07-24</td><td>0.4</td><td>1.0551798646E9</td><td>São Paulo</td></tr><tr><td>07766151000102</td><td>2006-01-09</td><td>null</td><td>0.0</td><td>Rio de Janeiro</td></tr><tr><td>11769285000146</td><td>2010-07-23</td><td>0.58</td><td>2.66385730905E9</td><td>São Paulo</td></tr><tr><td>51339815000130</td><td>2023-07-07</td><td>null</td><td>8.179266377E7</td><td>São Paulo</td></tr><tr><td>24768711000179</td><td>2016-05-18</td><td>null</td><td>8.304273561E7</td><td>Rio de Janeiro</td></tr><tr><td>39784273000100</td><td>2020-12-29</td><td>null</td><td>5.731666892E7</td><td>São Paulo</td></tr><tr><td>44680424000110</td><td>2022-01-21</td><td>null</td><td>5.152904921E7</td><td>São Paulo</td></tr><tr><td>43105440000116</td><td>2021-08-25</td><td>null</td><td>5886041.3</td><td>São Paulo</td></tr><tr><td>48389780000130</td><td>2022-12-11</td><td>null</td><td>2.3977683304E8</td><td>São Paulo</td></tr><tr><td>22773421000198</td><td>2016-03-31</td><td>0.15</td><td>6.5478605936E8</td><td>São Paulo</td></tr><tr><td>12107669000166</td><td>2012-06-01</td><td>0.02</td><td>2.38947988072E9</td><td>São Paulo</td></tr><tr><td>12107422000140</td><td>2011-09-06</td><td>0.8</td><td>1.9252269085E8</td><td>São Paulo</td></tr><tr><td>21917293000146</td><td>2015-03-10</td><td>null</td><td>1002975.4</td><td>São Paulo</td></tr><tr><td>27531301000106</td><td>2017-05-29</td><td>null</td><td>4.730974917E7</td><td>São Paulo</td></tr><tr><td>50153414000129</td><td>2023-03-30</td><td>null</td><td>3.44638365E7</td><td>São Paulo</td></tr><tr><td>40140470000175</td><td>2021-03-15</td><td>0.5</td><td>4.732314828E7</td><td>São Paulo</td></tr><tr><td>09087483000188</td><td>2010-01-11</td><td>2.0</td><td>1.720790888E7</td><td>São Paulo</td></tr><tr><td>44570797000138</td><td>2021-12-30</td><td>null</td><td>2.158356741E7</td><td>São Paulo</td></tr><tr><td>49974540000165</td><td>2023-03-17</td><td>null</td><td>3.398203665E7</td><td>São Paulo</td></tr><tr><td>16734970000150</td><td>2012-08-23</td><td>null</td><td>1.1052978777E8</td><td>São Paulo</td></tr><tr><td>16703203000184</td><td>2013-01-16</td><td>0.75</td><td>2.673520825E7</td><td>São Paulo</td></tr><tr><td>02918931000107</td><td>2005-03-28</td><td>1.5</td><td>2.856408456E7</td><td>São Paulo</td></tr><tr><td>46628381000159</td><td>2022-07-19</td><td>null</td><td>6774129.91</td><td>São Paulo</td></tr><tr><td>47033209000115</td><td>2022-07-28</td><td>null</td><td>8.58764167E7</td><td>Rio de Janeiro</td></tr><tr><td>42295379000154</td><td>2021-08-16</td><td>null</td><td>1.5674803064E8</td><td>Minas Gerais</td></tr><tr><td>50555281000117</td><td>2023-05-04</td><td>null</td><td>1.67105102E7</td><td>São Paulo</td></tr><tr><td>49963418000193</td><td>2023-03-16</td><td>null</td><td>1.9358058271E8</td><td>São Paulo</td></tr><tr><td>34691300000186</td><td>2020-04-13</td><td>null</td><td>1.567930715E7</td><td>São Paulo</td></tr><tr><td>41557609000143</td><td>2021-09-06</td><td>null</td><td>4.542439587E7</td><td>São Paulo</td></tr><tr><td>08815386000100</td><td>2007-08-10</td><td>1.0</td><td>1.07168979E7</td><td>Minas Gerais</td></tr><tr><td>36098375000183</td><td>2020-02-17</td><td>null</td><td>1.1786818176E8</td><td>Minas Gerais</td></tr><tr><td>33429343000125</td><td>2019-09-18</td><td>0.03</td><td>3.6174697241E8</td><td>São Paulo</td></tr><tr><td>36115022000144</td><td>2020-08-05</td><td>null</td><td>1.5365185995E8</td><td>São Paulo</td></tr><tr><td>36443522000105</td><td>2020-02-21</td><td>25.0</td><td>1.81405177298E9</td><td>Minas Gerais</td></tr><tr><td>28296597000182</td><td>2018-06-07</td><td>null</td><td>5.316074455E7</td><td>São Paulo</td></tr><tr><td>44638491000176</td><td>2022-11-08</td><td>null</td><td>3.112389581E7</td><td>São Paulo</td></tr><tr><td>42315695000140</td><td>2021-08-26</td><td>null</td><td>3.211744968E7</td><td>Minas Gerais</td></tr><tr><td>16570371000149</td><td>2012-08-01</td><td>2.0</td><td>2771984.61</td><td>São Paulo</td></tr><tr><td>43236423000118</td><td>2021-08-24</td><td>null</td><td>3.5631362132E8</td><td>São Paulo</td></tr><tr><td>29881003000163</td><td>2019-01-23</td><td>0.01</td><td>4.9264134473E8</td><td>São Paulo</td></tr><tr><td>02918923000152</td><td>2005-03-28</td><td>2.0</td><td>6269533.2</td><td>São Paulo</td></tr><tr><td>10500895000187</td><td>2008-12-02</td><td>null</td><td>1.123352714E7</td><td>São Paulo</td></tr><tr><td>45254732000146</td><td>2022-03-10</td><td>null</td><td>4.021983357E7</td><td>Rio de Janeiro</td></tr><tr><td>36312772000106</td><td>2020-02-18</td><td>null</td><td>5.120662227E7</td><td>Minas Gerais</td></tr><tr><td>14067624000130</td><td>2011-10-28</td><td>null</td><td>151818.15</td><td>São Paulo</td></tr><tr><td>35819666000150</td><td>2020-06-19</td><td>2.0</td><td>1.6604255414E9</td><td>São Paulo</td></tr><tr><td>51476870000172</td><td>2023-07-19</td><td>null</td><td>1.0417893333E8</td><td>São Paulo</td></tr><tr><td>52317521000170</td><td>2023-09-26</td><td>null</td><td>4511806.83</td><td>São Paulo</td></tr><tr><td>47983885000150</td><td>2022-12-08</td><td>null</td><td>1.046652606E8</td><td>São Paulo</td></tr><tr><td>50399189000105</td><td>2023-04-20</td><td>null</td><td>9.422244381E7</td><td>São Paulo</td></tr><tr><td>33240249000123</td><td>2019-06-21</td><td>null</td><td>2.40766695662E9</td><td>São Paulo</td></tr><tr><td>50226162000110</td><td>2023-04-05</td><td>null</td><td>1559098.21</td><td>São Paulo</td></tr><tr><td>48996079000189</td><td>2022-12-28</td><td>null</td><td>7.640086935E7</td><td>São Paulo</td></tr><tr><td>40211684000195</td><td>2021-02-08</td><td>null</td><td>8814320.26</td><td>São Paulo</td></tr><tr><td>06985322000113</td><td>2012-03-08</td><td>32.0</td><td>1.7911641871E8</td><td>Minas Gerais</td></tr><tr><td>32295244000135</td><td>2019-12-26</td><td>null</td><td>3902898.13</td><td>São Paulo</td></tr><tr><td>29315301000196</td><td>2018-04-03</td><td>null</td><td>4.3184203627E8</td><td>São Paulo</td></tr><tr><td>05862906000139</td><td>2005-05-30</td><td>0.34</td><td>5.0323263789E8</td><td>São Paulo</td></tr><tr><td>45018961000161</td><td>2022-05-30</td><td>null</td><td>2.532663374E7</td><td>São Paulo</td></tr><tr><td>22601577000191</td><td>2015-07-02</td><td>null</td><td>1.17893921507E9</td><td>São Paulo</td></tr><tr><td>11044355000107</td><td>2010-08-09</td><td>null</td><td>2.2891833875E8</td><td>Minas Gerais</td></tr><tr><td>44177436000126</td><td>2022-01-03</td><td>null</td><td>4.0055315568E8</td><td>São Paulo</td></tr><tr><td>36930464000144</td><td>2021-04-09</td><td>null</td><td>6.7558202267E8</td><td>Minas Gerais</td></tr><tr><td>30130708000128</td><td>2018-04-13</td><td>null</td><td>2.76308112478E9</td><td>São Paulo</td></tr><tr><td>33913568000152</td><td>2019-12-30</td><td>0.09</td><td>999393.63</td><td>São Paulo</td></tr><tr><td>26089666000151</td><td>2016-10-31</td><td>0.38</td><td>1.0975836454E8</td><td>Minas Gerais</td></tr><tr><td>49983891000132</td><td>2023-03-17</td><td>null</td><td>2.5731731862E8</td><td>Rio de Janeiro</td></tr><tr><td>44432479000100</td><td>2022-05-06</td><td>0.2</td><td>2.6981060166E8</td><td>São Paulo</td></tr><tr><td>49963885000113</td><td>2023-03-16</td><td>null</td><td>5.4588945138E8</td><td>São Paulo</td></tr><tr><td>32203308000120</td><td>2019-03-26</td><td>0.38</td><td>2.0211663737E8</td><td>São Paulo</td></tr><tr><td>39412078000159</td><td>2022-08-24</td><td>null</td><td>1000846.18</td><td>São Paulo</td></tr><tr><td>45693226000153</td><td>2022-05-23</td><td>null</td><td>6543725.97</td><td>São Paulo</td></tr><tr><td>42754444000162</td><td>2021-11-29</td><td>null</td><td>6.572671967E7</td><td>Rio de Janeiro</td></tr><tr><td>40670750000195</td><td>2021-04-07</td><td>null</td><td>6.35688417573E9</td><td>São Paulo</td></tr><tr><td>18402048000191</td><td>2013-07-02</td><td>null</td><td>571931.15</td><td>São Paulo</td></tr><tr><td>49112611000110</td><td>2023-01-09</td><td>null</td><td>9.927325637E7</td><td>São Paulo</td></tr><tr><td>43876172000136</td><td>2022-03-08</td><td>null</td><td>4142252.66</td><td>Minas Gerais</td></tr><tr><td>52324762000147</td><td>2023-09-26</td><td>null</td><td>2.696179548E7</td><td>São Paulo</td></tr><tr><td>47085583000164</td><td>2022-10-18</td><td>null</td><td>9.948267096E7</td><td>São Paulo</td></tr><tr><td>32162536000108</td><td>2019-05-15</td><td>null</td><td>4.685894751E7</td><td>São Paulo</td></tr><tr><td>45908305000134</td><td>2022-11-22</td><td>null</td><td>1.6483529491E8</td><td>São Paulo</td></tr><tr><td>39723229000190</td><td>2021-01-27</td><td>0.07</td><td>6.948446891E7</td><td>São Paulo</td></tr><tr><td>45899745000172</td><td>2022-10-25</td><td>null</td><td>1.0580562099E8</td><td>São Paulo</td></tr><tr><td>09228836000112</td><td>2008-01-07</td><td>0.0</td><td>6.4796950853E8</td><td>São Paulo</td></tr><tr><td>42196346000157</td><td>2021-08-09</td><td>null</td><td>2.847891431E7</td><td>São Paulo</td></tr><tr><td>02727085000130</td><td>2022-04-09</td><td>null</td><td>1355673.91</td><td>Rio de Janeiro</td></tr><tr><td>32222912000102</td><td>2018-12-21</td><td>null</td><td>2.950780867E7</td><td>São Paulo</td></tr><tr><td>52112338000139</td><td>2023-09-08</td><td>null</td><td>3.965763331E7</td><td>São Paulo</td></tr><tr><td>28240255000140</td><td>2017-08-30</td><td>null</td><td>7.533099041E7</td><td>São Paulo</td></tr><tr><td>28796986000177</td><td>2018-04-27</td><td>null</td><td>1.0377110259E8</td><td>São Paulo</td></tr><tr><td>09234078000145</td><td>2008-06-04</td><td>null</td><td>1.16737717074E10</td><td>Distrito Federal</td></tr><tr><td>14166140000149</td><td>2012-01-18</td><td>null</td><td>1.29401414112E9</td><td>São Paulo</td></tr><tr><td>23120075000101</td><td>2022-11-28</td><td>null</td><td>1438003.41</td><td>São Paulo</td></tr><tr><td>26452257000178</td><td>2017-06-12</td><td>null</td><td>5.502430724E7</td><td>São Paulo</td></tr><tr><td>22809036000153</td><td>2016-06-20</td><td>0.8</td><td>1.396207214E7</td><td>São Paulo</td></tr><tr><td>11249598000173</td><td>2009-11-11</td><td>null</td><td>3.8722679502E8</td><td>São Paulo</td></tr><tr><td>24701488000142</td><td>2016-05-11</td><td>null</td><td>1.9659790255E8</td><td>São Paulo</td></tr><tr><td>07644864000195</td><td>2005-12-27</td><td>null</td><td>1248536.18</td><td>São Paulo</td></tr><tr><td>50152676000179</td><td>2023-03-30</td><td>null</td><td>3.473794755E7</td><td>São Paulo</td></tr><tr><td>52069691000183</td><td>2023-09-04</td><td>null</td><td>7.4204001813E8</td><td>São Paulo</td></tr><tr><td>35178253000134</td><td>2020-01-10</td><td>0.66</td><td>3.5600970375E8</td><td>Minas Gerais</td></tr><tr><td>51804355000174</td><td>2023-08-14</td><td>null</td><td>1.575957148E7</td><td>São Paulo</td></tr><tr><td>02668201000197</td><td>2005-03-22</td><td>0.1</td><td>1.59627950729E9</td><td>São Paulo</td></tr><tr><td>46780646000130</td><td>2022-12-08</td><td>null</td><td>9.50403465E7</td><td>São Paulo</td></tr><tr><td>28549930000118</td><td>2017-12-07</td><td>null</td><td>9.3356381139E8</td><td>São Paulo</td></tr><tr><td>50311731000126</td><td>2023-04-13</td><td>null</td><td>5.484187399E7</td><td>São Paulo</td></tr><tr><td>27368761000157</td><td>2019-04-29</td><td>null</td><td>3.15840331E8</td><td>São Paulo</td></tr><tr><td>01497954000114</td><td>1996-10-02</td><td>null</td><td>1.5748424368E8</td><td>Rio Grande do Sul</td></tr><tr><td>47716415000120</td><td>2022-10-07</td><td>1.2</td><td>3.920949699E7</td><td>Rio de Janeiro</td></tr><tr><td>19831126000136</td><td>2014-04-11</td><td>1.5</td><td>1.63386148491E9</td><td>São Paulo</td></tr><tr><td>20998989000181</td><td>2022-12-06</td><td>null</td><td>1.223790679E7</td><td>São Paulo</td></tr><tr><td>11326746000106</td><td>2010-05-28</td><td>null</td><td>4.0682077271E8</td><td>São Paulo</td></tr><tr><td>29315285000131</td><td>2018-10-02</td><td>null</td><td>1.277059947E7</td><td>São Paulo</td></tr><tr><td>16685929000131</td><td>2023-02-13</td><td>null</td><td>6.2138924697E8</td><td>Rio de Janeiro</td></tr><tr><td>34644159000160</td><td>2019-11-04</td><td>null</td><td>3.7820675354E8</td><td>São Paulo</td></tr><tr><td>04192419000143</td><td>2005-03-15</td><td>0.8</td><td>3.735282279E7</td><td>São Paulo</td></tr><tr><td>09636619000161</td><td>2008-10-02</td><td>0.22</td><td>7.7668289759E8</td><td>São Paulo</td></tr><tr><td>34835191000123</td><td>2019-09-23</td><td>null</td><td>1.3414947441E8</td><td>Minas Gerais</td></tr><tr><td>36655944000144</td><td>2020-09-10</td><td>null</td><td>5050323.26</td><td>São Paulo</td></tr><tr><td>51305991000151</td><td>2023-07-05</td><td>0.695</td><td>4.317146516E7</td><td>Minas Gerais</td></tr><tr><td>21838483000178</td><td>2015-08-19</td><td>null</td><td>5.108677452E8</td><td>São Paulo</td></tr><tr><td>17517577000178</td><td>2013-08-13</td><td>0.4</td><td>1.0133760388E8</td><td>São Paulo</td></tr><tr><td>40054913000105</td><td>2021-07-05</td><td>null</td><td>2.627733151E7</td><td>São Paulo</td></tr><tr><td>07408147000164</td><td>2005-04-11</td><td>null</td><td>19103.37</td><td>Pará</td></tr><tr><td>09087523000191</td><td>2010-01-11</td><td>2.5</td><td>4.066088248E7</td><td>São Paulo</td></tr><tr><td>05437916000127</td><td>2002-12-10</td><td>null</td><td>1.2664304161E8</td><td>São Paulo</td></tr><tr><td>41114606000135</td><td>2021-03-09</td><td>null</td><td>2.3775015558E8</td><td>São Paulo</td></tr><tr><td>13243834000170</td><td>2011-03-01</td><td>null</td><td>null</td><td>São Paulo</td></tr><tr><td>37828802000102</td><td>2021-07-19</td><td>null</td><td>5956004.96</td><td>São Paulo</td></tr><tr><td>41833315000105</td><td>2021-05-24</td><td>null</td><td>3.12109464E7</td><td>São Paulo</td></tr><tr><td>07110975000111</td><td>2005-02-11</td><td>0.0</td><td>4.37160324335E9</td><td>São Paulo</td></tr><tr><td>14167479000160</td><td>2011-10-21</td><td>1.2</td><td>2.687507781E7</td><td>São Paulo</td></tr><tr><td>45018911000184</td><td>2022-05-11</td><td>null</td><td>1.774384956E7</td><td>São Paulo</td></tr><tr><td>27531244000157</td><td>2017-06-29</td><td>null</td><td>2.437109633E7</td><td>São Paulo</td></tr><tr><td>33361831000148</td><td>2019-06-18</td><td>0.9</td><td>1.94939777E7</td><td>São Paulo</td></tr><tr><td>47166761000181</td><td>2022-07-21</td><td>null</td><td>9.443368023E7</td><td>São Paulo</td></tr><tr><td>50191107000132</td><td>2023-04-03</td><td>null</td><td>1.7628287032E8</td><td>São Paulo</td></tr><tr><td>51029588000147</td><td>2023-06-13</td><td>0.0</td><td>4.7998655265E8</td><td>São Paulo</td></tr><tr><td>49651181000105</td><td>2023-02-17</td><td>null</td><td>4.232100033E7</td><td>São Paulo</td></tr><tr><td>11108013000103</td><td>2009-09-25</td><td>2.0</td><td>8.337165502E7</td><td>São Paulo</td></tr><tr><td>52073804000114</td><td>2023-09-04</td><td>null</td><td>2.2672389056E8</td><td>São Paulo</td></tr><tr><td>49224039000181</td><td>2023-01-17</td><td>null</td><td>4801607.67</td><td>São Paulo</td></tr><tr><td>33361657000133</td><td>2019-06-18</td><td>0.9</td><td>2.522218995E7</td><td>São Paulo</td></tr><tr><td>24874305000190</td><td>2016-05-27</td><td>null</td><td>1.36746797716E9</td><td>São Paulo</td></tr><tr><td>30282227000138</td><td>2018-10-30</td><td>4.0</td><td>3.957397425E7</td><td>São Paulo</td></tr><tr><td>00819889000133</td><td>2005-03-17</td><td>1.0</td><td>5.729872778E7</td><td>São Paulo</td></tr><tr><td>15049586000156</td><td>2012-03-23</td><td>null</td><td>2.11082293021E9</td><td>São Paulo</td></tr><tr><td>14951577000193</td><td>2012-05-10</td><td>1.0</td><td>9.110146163E7</td><td>São Paulo</td></tr><tr><td>46778844000169</td><td>2022-12-09</td><td>null</td><td>1.8557583749E8</td><td>São Paulo</td></tr><tr><td>21596006000143</td><td>2015-01-19</td><td>0.12</td><td>2.4057585479E8</td><td>São Paulo</td></tr><tr><td>12124044000102</td><td>2010-08-26</td><td>1.5</td><td>5.5395629203E8</td><td>São Paulo</td></tr><tr><td>27486551000163</td><td>2017-06-02</td><td>null</td><td>604067.12</td><td>São Paulo</td></tr><tr><td>50750438000165</td><td>2023-05-19</td><td>null</td><td>3.2397564865E8</td><td>Rio de Janeiro</td></tr><tr><td>36412972000130</td><td>2020-09-10</td><td>null</td><td>5156801.75</td><td>São Paulo</td></tr><tr><td>06905783000139</td><td>2004-12-30</td><td>null</td><td>1.959792432E7</td><td>São Paulo</td></tr><tr><td>27531301000106</td><td>2017-05-29</td><td>null</td><td>4.730974917E7</td><td>São Paulo</td></tr><tr><td>02918931000107</td><td>2005-03-28</td><td>1.5</td><td>2.856408456E7</td><td>São Paulo</td></tr><tr><td>02918923000152</td><td>2005-03-28</td><td>2.0</td><td>6269533.2</td><td>São Paulo</td></tr><tr><td>28240255000140</td><td>2017-08-30</td><td>null</td><td>7.533099041E7</td><td>São Paulo</td></tr><tr><td>26452257000178</td><td>2017-06-12</td><td>null</td><td>5.502430724E7</td><td>São Paulo</td></tr><tr><td>27486551000163</td><td>2017-06-02</td><td>null</td><td>604067.12</td><td>São Paulo</td></tr><tr><td>27531301000106</td><td>2017-05-29</td><td>null</td><td>4.730974917E7</td><td>São Paulo</td></tr><tr><td>28240255000140</td><td>2017-08-30</td><td>null</td><td>7.533099041E7</td><td>São Paulo</td></tr><tr><td>27486551000163</td><td>2017-06-02</td><td>null</td><td>604067.12</td><td>São Paulo</td></tr><tr><td>27531301000106</td><td>2017-05-29</td><td>null</td><td>4.730974917E7</td><td>São Paulo</td></tr><tr><td>28240255000140</td><td>2017-08-30</td><td>null</td><td>7.533099041E7</td><td>São Paulo</td></tr></tbody></table></div>"
      ]
     },
     "metadata": {
      "application/vnd.databricks.v1+output": {
       "addedWidgets": {},
       "aggData": [],
       "aggError": "",
       "aggOverflow": false,
       "aggSchema": [],
       "aggSeriesLimitReached": false,
       "aggType": "",
       "arguments": {},
       "columnCustomDisplayInfos": {},
       "data": [
        [
         "41953322000132",
         "2021-06-07",
         4.0,
         1.7319844967E8,
         "Minas Gerais"
        ],
        [
         "37088071000106",
         "2020-05-11",
         null,
         2536455.66,
         "São Paulo"
        ],
        [
         "46929994000126",
         "2022-10-24",
         null,
         3.679685417E7,
         "São Paulo"
        ],
        [
         "44680388000194",
         "2022-03-25",
         null,
         2.483847192E7,
         "São Paulo"
        ],
        [
         "05754066000190",
         "2005-01-14",
         0.04,
         6.19662105094E9,
         "São Paulo"
        ],
        [
         "50275622000109",
         "2023-04-11",
         null,
         1.321802143E7,
         "São Paulo"
        ],
        [
         "44680435000108",
         "2022-09-27",
         null,
         3.678052558E7,
         "São Paulo"
        ],
        [
         "18929680000198",
         "2013-09-25",
         null,
         4.144935435E7,
         "São Paulo"
        ],
        [
         "26845868000186",
         "2018-02-19",
         1.515,
         1265664.58,
         "São Paulo"
        ],
        [
         "44108111000191",
         "2022-10-06",
         null,
         2.7886747382E8,
         "São Paulo"
        ],
        [
         "47372720000141",
         "2022-08-09",
         null,
         3.160091085E7,
         "São Paulo"
        ],
        [
         "31570611000107",
         "2018-10-03",
         null,
         6.7677066527E8,
         "São Paulo"
        ],
        [
         "48502650000161",
         "2022-11-30",
         null,
         2.742365066E7,
         "São Paulo"
        ],
        [
         "07939851000143",
         "2006-08-16",
         0.042,
         2.32051852498E9,
         "São Paulo"
        ],
        [
         "07144604000150",
         "2004-11-16",
         null,
         1479388.51,
         "Pará"
        ],
        [
         "45908200000185",
         "2022-08-26",
         null,
         5335302.04,
         "São Paulo"
        ],
        [
         "42860984000120",
         "2021-08-30",
         null,
         9393138.14,
         "São Paulo"
        ],
        [
         "44815107000163",
         "2022-02-15",
         null,
         2.208686899E7,
         "Rio de Janeiro"
        ],
        [
         "49651132000172",
         "2023-02-17",
         null,
         4.237867217E7,
         "São Paulo"
        ],
        [
         "01147641000136",
         "2005-04-04",
         0.1775,
         5.4073140876E8,
         "São Paulo"
        ],
        [
         "51292131000120",
         "2023-07-04",
         null,
         1.0623895649E8,
         "São Paulo"
        ],
        [
         "44680466000150",
         "2022-02-24",
         null,
         6.397035926E7,
         "São Paulo"
        ],
        [
         "19424677000185",
         "2023-02-01",
         2500.0,
         1.219515785E7,
         "São Paulo"
        ],
        [
         "33361923000128",
         "2019-06-18",
         0.065,
         6.077961322E7,
         "São Paulo"
        ],
        [
         "07965741000156",
         "2006-06-27",
         0.7,
         7.937533818E7,
         "São Paulo"
        ],
        [
         "45019002000160",
         "2022-08-09",
         null,
         4.81126398E7,
         "São Paulo"
        ],
        [
         "42081295000118",
         "2021-06-11",
         0.0,
         5.896034231E8,
         "Rio de Janeiro"
        ],
        [
         "14951577000193",
         "2012-05-10",
         1.0,
         9.110146163E7,
         "São Paulo"
        ],
        [
         "46778844000169",
         "2022-12-09",
         null,
         1.8557583749E8,
         "São Paulo"
        ],
        [
         "46282024000181",
         "2022-11-01",
         null,
         2668684.34,
         "São Paulo"
        ],
        [
         "27938258000190",
         "2017-07-11",
         null,
         1.061673687E7,
         "São Paulo"
        ],
        [
         "35277363000153",
         "2021-03-17",
         null,
         2.7238955682E8,
         "São Paulo"
        ],
        [
         "50818107000110",
         "2023-05-25",
         null,
         0.0,
         "São Paulo"
        ],
        [
         "46782474000133",
         "2022-12-09",
         null,
         1.05489145E7,
         "São Paulo"
        ],
        [
         "42923073000103",
         "2021-10-15",
         null,
         2.001371535E7,
         "Minas Gerais"
        ],
        [
         "15296704000120",
         "2012-04-02",
         null,
         1.01364791999E9,
         "São Paulo"
        ],
        [
         "33913576000107",
         "2019-12-30",
         0.09,
         3.5382136994E8,
         "São Paulo"
        ],
        [
         "42922066000189",
         "2021-12-17",
         null,
         3584748.74,
         "São Paulo"
        ],
        [
         "49252656000190",
         "2023-01-19",
         null,
         7.4622659055E8,
         "Rio de Janeiro"
        ],
        [
         "50946637000143",
         "2023-06-05",
         null,
         1.636318291E7,
         "São Paulo"
        ],
        [
         "41036490000163",
         "2021-03-15",
         5.0,
         3.901224709E7,
         "Minas Gerais"
        ],
        [
         "43616501000100",
         "2021-09-27",
         null,
         4.9763847452E8,
         "Rio de Janeiro"
        ],
        [
         "44680449000113",
         "2022-10-20",
         null,
         8440299.75,
         "São Paulo"
        ],
        [
         "09720710000160",
         "2008-09-26",
         8.0,
         2.6752782021E8,
         "Minas Gerais"
        ],
        [
         "30871793000185",
         "2018-07-18",
         null,
         3.1417714954E8,
         "São Paulo"
        ],
        [
         "45823709000125",
         "2022-12-08",
         1.0,
         1.55511045E7,
         "São Paulo"
        ],
        [
         "12241282000106",
         "2011-09-22",
         0.02,
         6.542651389E7,
         "São Paulo"
        ],
        [
         "34553995000130",
         "2019-11-25",
         null,
         8900515.53,
         "São Paulo"
        ],
        [
         "44638527000111",
         "2022-10-21",
         null,
         1.758816632E7,
         "São Paulo"
        ],
        [
         "47388724000118",
         "2023-02-28",
         null,
         435374.17,
         "Rio de Janeiro"
        ],
        [
         "45722284000168",
         "2022-04-17",
         null,
         1.502939107E7,
         "São Paulo"
        ],
        [
         "07143386000130",
         "2004-11-16",
         null,
         614165.85,
         "Pará"
        ],
        [
         "17137984000150",
         "2014-09-11",
         0.02,
         3.06168632958E9,
         "São Paulo"
        ],
        [
         "26545537000120",
         "2016-11-28",
         null,
         606645.44,
         "São Paulo"
        ],
        [
         "51539073000197",
         "2023-07-24",
         null,
         1.952326898E7,
         "São Paulo"
        ],
        [
         "36443587000150",
         "2020-03-09",
         3.0,
         2.128071543E7,
         "Minas Gerais"
        ],
        [
         "09284554000132",
         "2008-05-29",
         0.12,
         1.9105776934E8,
         "São Paulo"
        ],
        [
         "50995214000113",
         "2023-06-09",
         null,
         9.75194172E7,
         "São Paulo"
        ],
        [
         "07657641000162",
         "2008-06-10",
         0.7,
         4572264.72,
         "São Paulo"
        ],
        [
         "42294971000131",
         "2021-07-02",
         8.0,
         2.0979385268E8,
         "Minas Gerais"
        ],
        [
         "42691990000100",
         "2022-02-01",
         null,
         2.844502902E7,
         "Minas Gerais"
        ],
        [
         "49920326000126",
         "2023-03-13",
         null,
         1.9054992806E8,
         "São Paulo"
        ],
        [
         "51295092000115",
         "2023-07-04",
         null,
         2367149.05,
         "São Paulo"
        ],
        [
         "34509036000117",
         "2019-09-16",
         null,
         4.0174206574E8,
         "São Paulo"
        ],
        [
         "52317938000133",
         "2023-09-26",
         null,
         3257185.51,
         "São Paulo"
        ],
        [
         "30687646000150",
         "2018-12-05",
         null,
         4.404450632E7,
         "São Paulo"
        ],
        [
         "01964775000140",
         "1997-06-11",
         null,
         1484965.19,
         "São Paulo"
        ],
        [
         "47463511000103",
         "2022-12-09",
         null,
         4402769.94,
         "São Paulo"
        ],
        [
         "51033013000106",
         "2023-06-13",
         null,
         4224343.58,
         "São Paulo"
        ],
        [
         "06537068000190",
         "2004-08-02",
         null,
         1260.7,
         "Pará"
        ],
        [
         "33361798000156",
         "2019-06-18",
         0.8,
         7575485.02,
         "São Paulo"
        ],
        [
         "44428806000150",
         "2022-09-25",
         null,
         1.2377297921E8,
         "São Paulo"
        ],
        [
         "35686949000171",
         "2019-12-19",
         null,
         1.959861874E7,
         "São Paulo"
        ],
        [
         "20378135000100",
         "2014-08-06",
         0.17,
         1831833.56,
         "São Paulo"
        ],
        [
         "42692399000169",
         "2022-05-24",
         null,
         1.0249049754E8,
         "Minas Gerais"
        ],
        [
         "44870636000160",
         "2022-04-22",
         null,
         1.5165212125E8,
         "São Paulo"
        ],
        [
         "43619349000119",
         "2021-10-25",
         null,
         1.2222365812E8,
         "São Paulo"
        ],
        [
         "49651212000128",
         "2023-02-17",
         null,
         4.30252098E7,
         "São Paulo"
        ],
        [
         "52116361000100",
         "2023-09-08",
         null,
         4.898758673E7,
         "São Paulo"
        ],
        [
         "13451738000117",
         "2011-02-28",
         null,
         2.266803318E7,
         "São Paulo"
        ],
        [
         "48900133000140",
         "2022-12-15",
         null,
         5.9156535139E8,
         "São Paulo"
        ],
        [
         "46334681000125",
         "2022-07-21",
         null,
         1.049761399E7,
         "São Paulo"
        ],
        [
         "52356865000199",
         "2023-09-28",
         null,
         1.23030823E7,
         "São Paulo"
        ],
        [
         "29315243000109",
         "2019-03-18",
         2.0,
         9.0170094276E8,
         "São Paulo"
        ],
        [
         "47984249000142",
         "2022-11-30",
         null,
         3676461.59,
         "São Paulo"
        ],
        [
         "29843196000168",
         "2018-03-19",
         null,
         1.219411721E7,
         "São Paulo"
        ],
        [
         "21596006000143",
         "2015-01-19",
         0.12,
         2.4057585479E8,
         "São Paulo"
        ],
        [
         "42700668000191",
         "2021-11-29",
         null,
         6.589757045E7,
         "Rio de Janeiro"
        ],
        [
         "52174102000127",
         "2023-09-13",
         null,
         2.6102811665E8,
         "São Paulo"
        ],
        [
         "47372648000152",
         "2022-08-30",
         null,
         2671425.13,
         "São Paulo"
        ],
        [
         "43106870000152",
         "2022-04-19",
         null,
         6.917985972E7,
         "São Paulo"
        ],
        [
         "12124044000102",
         "2010-08-26",
         1.5,
         5.5395629203E8,
         "São Paulo"
        ],
        [
         "41081374000166",
         "2021-03-23",
         null,
         1.9196809526E8,
         "São Paulo"
        ],
        [
         "28850140000178",
         "2017-10-16",
         null,
         2.140063824E7,
         "São Paulo"
        ],
        [
         "14167550000104",
         "2012-05-11",
         0.0,
         6.28676712E7,
         "São Paulo"
        ],
        [
         "39581746000171",
         "2020-11-30",
         null,
         5.0317439628E8,
         "São Paulo"
        ],
        [
         "49592781000140",
         "2023-02-14",
         null,
         3.469227758E8,
         "Rio de Janeiro"
        ],
        [
         "48964604000184",
         "2022-12-22",
         null,
         1293504.85,
         "São Paulo"
        ],
        [
         "39447231000183",
         "2021-11-26",
         null,
         5200416.53,
         "São Paulo"
        ],
        [
         "16617593000170",
         "2012-08-02",
         2.5,
         1033528.17,
         "São Paulo"
        ],
        [
         "27486551000163",
         "2017-06-02",
         null,
         604067.12,
         "São Paulo"
        ],
        [
         "50963249000170",
         "2023-06-06",
         null,
         1.0079293942E8,
         "São Paulo"
        ],
        [
         "29983516000185",
         "2020-01-08",
         1.2,
         7.078584772E7,
         "São Paulo"
        ],
        [
         "48993165000138",
         "2022-12-28",
         0.0,
         5.34157357E7,
         "São Paulo"
        ],
        [
         "20879578000177",
         "2015-01-07",
         0.5,
         1.36919468676E9,
         "Minas Gerais"
        ],
        [
         "43721652000128",
         "2022-03-31",
         null,
         3.0567678483E8,
         "São Paulo"
        ],
        [
         "34617291000183",
         "2019-09-11",
         855.0,
         5018082.48,
         "Minas Gerais"
        ],
        [
         "46929959000107",
         "2022-10-31",
         null,
         7.261654725E7,
         "São Paulo"
        ],
        [
         "26862104000107",
         "2017-03-07",
         5.0,
         1.055678005E7,
         "Minas Gerais"
        ],
        [
         "46729394000114",
         "2022-07-04",
         5.0,
         3716137.24,
         "Minas Gerais"
        ],
        [
         "32140484000160",
         "2019-02-22",
         null,
         5.832228657E8,
         "São Paulo"
        ],
        [
         "21613190000192",
         "2015-01-07",
         null,
         6.0198639572E8,
         "São Paulo"
        ],
        [
         "42627796000157",
         "2021-09-17",
         null,
         3.3835810627E8,
         "São Paulo"
        ],
        [
         "33033191000147",
         "2019-12-17",
         0.8816,
         8.992570721E7,
         "Rio de Janeiro"
        ],
        [
         "14171578000115",
         "2012-06-27",
         0.0,
         4.8652616313E8,
         "Rio de Janeiro"
        ],
        [
         "15018580000111",
         "2012-03-23",
         null,
         1.66052551369E9,
         "São Paulo"
        ],
        [
         "45018608000181",
         "2022-05-06",
         0.5,
         5.629107289E7,
         "São Paulo"
        ],
        [
         "50443649000155",
         "2023-04-25",
         null,
         2.0747074698E8,
         "Rio de Janeiro"
        ],
        [
         "41922654000150",
         "2021-05-18",
         null,
         6379347.37,
         "São Paulo"
        ],
        [
         "11147668000182",
         "2010-06-16",
         0.7,
         1.8697626529E8,
         "São Paulo"
        ],
        [
         "52349539000154",
         "2023-09-28",
         null,
         1.994651913E7,
         "São Paulo"
        ],
        [
         "21185984000100",
         "2014-12-30",
         0.4,
         2.44843751283E9,
         "São Paulo"
        ],
        [
         "09087301000179",
         "2010-05-25",
         0.5,
         1.0942306922E8,
         "São Paulo"
        ],
        [
         "48513136000121",
         "2022-11-18",
         null,
         1.384308465E7,
         "São Paulo"
        ],
        [
         "44603407000189",
         "2021-12-22",
         null,
         3.501937318E7,
         "São Paulo"
        ],
        [
         "52116337000162",
         "2023-09-08",
         null,
         8.472435318E7,
         "São Paulo"
        ],
        [
         "02539921000152",
         "2005-03-22",
         0.52,
         1.7849735231E8,
         "São Paulo"
        ],
        [
         "44680491000134",
         "2022-01-03",
         null,
         4.2076959083E8,
         "São Paulo"
        ],
        [
         "47279999000113",
         "2022-12-09",
         null,
         6010936.16,
         "São Paulo"
        ],
        [
         "41579637000161",
         "2021-12-07",
         null,
         1.7672430245E8,
         "São Paulo"
        ],
        [
         "48992508000140",
         "2022-12-28",
         null,
         1.149394909E7,
         "São Paulo"
        ],
        [
         "35725626000140",
         "2020-03-06",
         null,
         5.13615446257E9,
         "São Paulo"
        ],
        [
         "33498764000108",
         "2020-05-26",
         null,
         1.465456113E7,
         "São Paulo"
        ],
        [
         "37806055000101",
         "2020-08-20",
         0.0,
         2.9483089257E8,
         "Rio de Janeiro"
        ],
        [
         "36293425000183",
         "2020-02-19",
         null,
         6.693652613E7,
         "Minas Gerais"
        ],
        [
         "49914023000109",
         "2023-03-13",
         0.0,
         1.6773497207E8,
         "São Paulo"
        ],
        [
         "08621199000187",
         "2016-01-04",
         null,
         1.6182787373E8,
         "São Paulo"
        ],
        [
         "29323865000170",
         "2018-01-17",
         null,
         6.6743624658E8,
         "São Paulo"
        ],
        [
         "17453850000148",
         "2013-04-17",
         1.0,
         1.19317094599E9,
         "São Paulo"
        ],
        [
         "09636393000107",
         "2008-09-03",
         0.35,
         8.39063605223E9,
         "São Paulo"
        ],
        [
         "11283444000106",
         "2009-11-27",
         null,
         3.6677454088E8,
         "São Paulo"
        ],
        [
         "45899588000103",
         "2022-08-03",
         null,
         1268242.73,
         "São Paulo"
        ],
        [
         "08771975000125",
         "2007-10-25",
         0.11,
         6.38548976912E9,
         "São Paulo"
        ],
        [
         "51777660000114",
         "2023-08-11",
         null,
         3.087888276E7,
         "São Paulo"
        ],
        [
         "45953169000102",
         "2022-05-02",
         0.0,
         4.505303154E7,
         "Rio de Janeiro"
        ],
        [
         "50071531000143",
         "2023-03-24",
         null,
         1.0044405434E8,
         "São Paulo"
        ],
        [
         "45019040000113",
         "2022-02-14",
         null,
         6.581121408E7,
         "São Paulo"
        ],
        [
         "32907653000145",
         "2019-11-26",
         null,
         2.372881091E7,
         "São Paulo"
        ],
        [
         "49223648000116",
         "2023-01-17",
         null,
         0.0,
         "São Paulo"
        ],
        [
         "43508144000166",
         "2021-09-27",
         null,
         9.403083508E7,
         "Rio de Janeiro"
        ],
        [
         "50750438000165",
         "2023-05-19",
         null,
         3.2397564865E8,
         "Rio de Janeiro"
        ],
        [
         "38249518000136",
         "2021-12-15",
         null,
         3.238012743E7,
         "São Paulo"
        ],
        [
         "35580324000120",
         "2019-11-27",
         1.85,
         9.136176875E7,
         "Rio de Janeiro"
        ],
        [
         "14311936000148",
         "2011-09-23",
         null,
         5219076.0,
         "São Paulo"
        ],
        [
         "07672392000184",
         "2006-02-01",
         2.0,
         1.02713548E7,
         "São Paulo"
        ],
        [
         "35654738000157",
         "2021-08-02",
         null,
         2.0009135903E8,
         "São Paulo"
        ],
        [
         "39347413000182",
         "2020-10-09",
         null,
         1.1619008593E8,
         "São Paulo"
        ],
        [
         "49995610000161",
         "2023-03-20",
         25.0,
         4.5087550965E8,
         "Minas Gerais"
        ],
        [
         "47372688000102",
         "2022-08-30",
         null,
         3361933.07,
         "São Paulo"
        ],
        [
         "43122453000101",
         "2021-10-01",
         null,
         1.3764790992E8,
         "São Paulo"
        ],
        [
         "18579353000153",
         "2013-07-31",
         null,
         903374.56,
         "São Paulo"
        ],
        [
         "18356327000166",
         "2013-11-18",
         null,
         234978.48,
         "São Paulo"
        ],
        [
         "50943777000168",
         "2023-06-05",
         null,
         2.986653305E7,
         "São Paulo"
        ],
        [
         "39540780000106",
         "2021-02-17",
         7.0,
         3.980750295E7,
         "Minas Gerais"
        ],
        [
         "34598181000111",
         "2019-09-05",
         null,
         4.5200100067E8,
         "Minas Gerais"
        ],
        [
         "14769978000127",
         "2011-12-30",
         null,
         7.1379670563E8,
         "São Paulo"
        ],
        [
         "09110175000126",
         "2007-12-28",
         null,
         1186684.99,
         "São Paulo"
        ],
        [
         "49506998000190",
         "2023-02-07",
         0.3,
         2.70401677E7,
         "Minas Gerais"
        ],
        [
         "35137939000187",
         "2019-10-14",
         null,
         1.443323611E7,
         "São Paulo"
        ],
        [
         "45521649000196",
         "2022-06-21",
         null,
         2.304282834E8,
         "São Paulo"
        ],
        [
         "30282270000101",
         "2018-12-19",
         5.0E-4,
         6.26435857544E9,
         "São Paulo"
        ],
        [
         "17198500000182",
         "2012-12-13",
         null,
         1.6201099272E8,
         "São Paulo"
        ],
        [
         "48373428000106",
         "2022-12-09",
         null,
         5.447980275E7,
         "São Paulo"
        ],
        [
         "15437768000102",
         "2012-04-20",
         null,
         7.9155812445E8,
         "São Paulo"
        ],
        [
         "42656644000182",
         "2022-03-08",
         null,
         1.186271469E7,
         "Minas Gerais"
        ],
        [
         "24372158000150",
         "2016-04-15",
         0.08,
         2.362694434E7,
         "Rio de Janeiro"
        ],
        [
         "18448137000179",
         "2013-09-16",
         2.5,
         4269177.58,
         "Rio Grande do Sul"
        ],
        [
         "42357817000161",
         "2022-03-08",
         null,
         4.645220263E7,
         "São Paulo"
        ],
        [
         "50197313000150",
         "2023-04-04",
         45.0,
         2.1369438278E8,
         "Minas Gerais"
        ],
        [
         "50462226000182",
         "2023-04-26",
         null,
         4.470830981E7,
         "São Paulo"
        ],
        [
         "33913584000145",
         "2019-12-30",
         0.09,
         6876880.46,
         "São Paulo"
        ],
        [
         "49429700000195",
         "2023-02-01",
         0.0,
         6.534461901E7,
         "São Paulo"
        ],
        [
         "44104852000102",
         "2022-06-21",
         5.0,
         8783097.76,
         "Minas Gerais"
        ],
        [
         "32222759000105",
         "2019-06-18",
         0.065,
         2.04240363E7,
         "São Paulo"
        ],
        [
         "45018643000109",
         "2022-05-06",
         0.15,
         2.3769074663E8,
         "São Paulo"
        ],
        [
         "05090727000120",
         "2005-03-16",
         0.15,
         6.3507335068E8,
         "São Paulo"
        ],
        [
         "36412972000130",
         "2020-09-10",
         null,
         5156801.75,
         "São Paulo"
        ],
        [
         "05104498000156",
         "2005-03-22",
         0.5,
         3.306740576E7,
         "São Paulo"
        ],
        [
         "43236479000172",
         "2021-08-26",
         null,
         6553378.16,
         "São Paulo"
        ],
        [
         "33354650000194",
         "2019-07-15",
         null,
         2.328381297E8,
         "Minas Gerais"
        ],
        [
         "28320756000137",
         "2019-01-17",
         0.5,
         3.03561141071E9,
         "São Paulo"
        ],
        [
         "31963246000192",
         "2019-03-18",
         2.0,
         2488248.35,
         "São Paulo"
        ],
        [
         "40905548000103",
         "2021-03-01",
         1.0,
         3.487545472E7,
         "Rio de Janeiro"
        ],
        [
         "37087982000100",
         "2020-05-11",
         null,
         848377.45,
         "São Paulo"
        ],
        [
         "50587789000105",
         "2023-05-08",
         null,
         8.21327176E7,
         "São Paulo"
        ],
        [
         "37651102000187",
         "2022-02-02",
         null,
         1.1047891301E8,
         "São Paulo"
        ],
        [
         "42562105000184",
         "2022-01-18",
         null,
         0.0,
         "São Paulo"
        ],
        [
         "45788850000134",
         "2022-07-07",
         null,
         4.00889018885E9,
         "São Paulo"
        ],
        [
         "27826059000190",
         "2017-10-23",
         0.6,
         2.1715571911E8,
         "Minas Gerais"
        ],
        [
         "43876638000101",
         "2022-03-08",
         null,
         4765027.17,
         "Minas Gerais"
        ],
        [
         "50312715000158",
         "2023-04-13",
         null,
         1.7484117954E8,
         "São Paulo"
        ],
        [
         "07110963000197",
         "2005-02-11",
         0.15,
         4.37176736875E9,
         "São Paulo"
        ],
        [
         "21254224000108",
         "2014-10-27",
         null,
         1.888978618E7,
         "São Paulo"
        ],
        [
         "12271294000175",
         "2010-09-23",
         null,
         1.1324594488E8,
         "São Paulo"
        ],
        [
         "49637003000120",
         "2023-02-16",
         null,
         1.3042332071E8,
         "São Paulo"
        ],
        [
         "18653128000110",
         "2013-08-13",
         null,
         1.0195178623E8,
         "São Paulo"
        ],
        [
         "17213759000155",
         "2013-05-20",
         null,
         3.3243681215E8,
         "São Paulo"
        ],
        [
         "36729755000179",
         "2020-06-19",
         0.9,
         2.1997348455E8,
         "Rio de Janeiro"
        ],
        [
         "32321319000105",
         "2021-07-23",
         null,
         1215227.93,
         "São Paulo"
        ],
        [
         "49983964000196",
         "2023-03-17",
         null,
         7.2397634306E8,
         "São Paulo"
        ],
        [
         "32244578000180",
         "2019-02-11",
         null,
         3.398212742E7,
         "São Paulo"
        ],
        [
         "36731458000168",
         "2020-04-23",
         null,
         7.285187875E7,
         "São Paulo"
        ],
        [
         "42196361000103",
         "2022-11-04",
         null,
         1726899.04,
         "São Paulo"
        ],
        [
         "50948197000163",
         "2023-06-05",
         null,
         990299.19,
         "São Paulo"
        ],
        [
         "22802858000102",
         "2015-07-08",
         null,
         8.3315787709E8,
         "São Paulo"
        ],
        [
         "22219279000131",
         "2015-04-13",
         null,
         2.642569966E7,
         "São Paulo"
        ],
        [
         "30871738000195",
         "2018-07-18",
         null,
         386700.25,
         "São Paulo"
        ],
        [
         "12586174000167",
         "2016-10-20",
         null,
         4.782494499E7,
         "São Paulo"
        ],
        [
         "05024659000100",
         "2005-03-16",
         1.1,
         1.445349547E7,
         "São Paulo"
        ],
        [
         "48328958000132",
         "2022-12-08",
         null,
         981206.52,
         "São Paulo"
        ],
        [
         "45017499000188",
         "2022-04-19",
         0.1411,
         1.5016764159E8,
         "São Paulo"
        ],
        [
         "27882134000130",
         "2017-10-23",
         null,
         8893011.84,
         "Minas Gerais"
        ],
        [
         "39344840000107",
         "2020-11-17",
         2.0,
         8940141.89,
         "Minas Gerais"
        ],
        [
         "06905783000139",
         "2004-12-30",
         null,
         1.959792432E7,
         "São Paulo"
        ],
        [
         "00817677000117",
         "2005-03-17",
         0.45,
         2.2248789993E8,
         "São Paulo"
        ],
        [
         "50269714000178",
         "2023-04-11",
         null,
         3.4081955309E8,
         "São Paulo"
        ],
        [
         "39281116000181",
         "2020-11-06",
         5.0,
         6293022.87,
         "Minas Gerais"
        ],
        [
         "34736474000118",
         "2019-09-24",
         null,
         2.3678026753E8,
         "São Paulo"
        ],
        [
         "42736004000182",
         "2021-12-29",
         null,
         1.114230683E7,
         "São Paulo"
        ],
        [
         "40311750000107",
         "2021-06-24",
         null,
         3.132980961E7,
         "São Paulo"
        ],
        [
         "50051913000105",
         "2023-03-23",
         null,
         5.455316553E7,
         "São Paulo"
        ],
        [
         "17574820000190",
         "2013-02-28",
         0.3,
         1093018.92,
         "São Paulo"
        ],
        [
         "03499367000190",
         "2005-03-16",
         0.4,
         2.4029445984E8,
         "São Paulo"
        ],
        [
         "17340392000130",
         "2014-03-07",
         0.3,
         3.9777181563E8,
         "São Paulo"
        ],
        [
         "46557432000107",
         "2022-07-07",
         null,
         4120348.03,
         "São Paulo"
        ],
        [
         "21331225000109",
         "2015-02-10",
         null,
         -1519081.16,
         "Rio de Janeiro"
        ],
        [
         "47423757000151",
         "2022-10-20",
         65.0,
         3.280304342E8,
         "Minas Gerais"
        ],
        [
         "05627929000169",
         "2005-04-04",
         0.12,
         1.15696028435E9,
         "São Paulo"
        ],
        [
         "45521676000169",
         "2022-10-27",
         null,
         3.5515348358E8,
         "São Paulo"
        ],
        [
         "23781192000116",
         "2016-12-19",
         null,
         3.09240810504E9,
         "São Paulo"
        ],
        [
         "50948092000104",
         "2023-06-05",
         null,
         2.04266121E7,
         "São Paulo"
        ],
        [
         "43648593000100",
         "2021-12-02",
         null,
         1.462862316E7,
         "São Paulo"
        ],
        [
         "09315625000117",
         "2008-07-08",
         1.0,
         1.213258701E7,
         "Rio de Janeiro"
        ],
        [
         "45899460000131",
         "2022-09-28",
         null,
         5.143766779E7,
         "São Paulo"
        ],
        [
         "24764405000164",
         "2016-04-18",
         null,
         1.0174597496E8,
         "São Paulo"
        ],
        [
         "44428854000149",
         "2022-09-25",
         null,
         1.217224301E8,
         "São Paulo"
        ],
        [
         "36764134000126",
         "2020-03-25",
         5.0,
         2.963157566E7,
         "Minas Gerais"
        ],
        [
         "97543707000186",
         "2011-08-31",
         0.0,
         2.0799783775E8,
         "São Paulo"
        ],
        [
         "38443033000189",
         "2021-02-10",
         0.98,
         5.715885576E7,
         "São Paulo"
        ],
        [
         "41751844000151",
         "2022-07-14",
         null,
         0.0,
         "São Paulo"
        ],
        [
         "45721977000136",
         "2022-07-19",
         null,
         1.7123149245E8,
         "São Paulo"
        ],
        [
         "49733651000180",
         "2023-02-27",
         0.08,
         1.222186178E7,
         "Rio de Janeiro"
        ],
        [
         "28849641000134",
         "2018-03-19",
         null,
         3.043454345E7,
         "São Paulo"
        ],
        [
         "49651245000178",
         "2023-02-17",
         null,
         1.236116204E7,
         "São Paulo"
        ],
        [
         "36741133000166",
         "2020-06-30",
         null,
         5.3346384692E8,
         "São Paulo"
        ],
        [
         "25108905000100",
         "2016-12-09",
         0.2,
         1.0448693463E8,
         "São Paulo"
        ],
        [
         "50184026000105",
         "2023-04-03",
         null,
         3.390548606E7,
         "São Paulo"
        ],
        [
         "36741161000183",
         "2020-07-16",
         null,
         4.605274238E7,
         "São Paulo"
        ],
        [
         "50808042000121",
         "2023-05-24",
         null,
         4.7699495571E8,
         "São Paulo"
        ],
        [
         "46268214000144",
         "2022-06-01",
         null,
         2.219077747E8,
         "São Paulo"
        ],
        [
         "48996311000189",
         "2022-12-28",
         null,
         7635102.32,
         "São Paulo"
        ],
        [
         "14217108000145",
         "2011-11-16",
         null,
         3.2571111973E8,
         "São Paulo"
        ],
        [
         "51199121000145",
         "2023-06-27",
         null,
         3575207.71,
         "São Paulo"
        ],
        [
         "42260903000151",
         "2021-07-08",
         null,
         5.8474970655E8,
         "Rio de Janeiro"
        ],
        [
         "32222722000187",
         "2019-04-03",
         0.25,
         1.88152272607E9,
         "São Paulo"
        ],
        [
         "23700564000132",
         "2016-12-13",
         null,
         513510.04,
         "São Paulo"
        ],
        [
         "45019108000164",
         "2022-03-23",
         null,
         1.342890732E7,
         "São Paulo"
        ],
        [
         "39976918000106",
         "2021-01-07",
         null,
         4.456082369E7,
         "São Paulo"
        ],
        [
         "14167491000174",
         "2012-05-11",
         0.02,
         1.40077189908E9,
         "São Paulo"
        ],
        [
         "09194841000151",
         "2007-11-30",
         null,
         1.8033292672E8,
         "São Paulo"
        ],
        [
         "33361873000189",
         "2019-06-18",
         0.07,
         6.562865568E7,
         "São Paulo"
        ],
        [
         "28065477000174",
         "2019-08-02",
         null,
         3.6033615272E8,
         "São Paulo"
        ],
        [
         "48373413000148",
         "2022-12-09",
         null,
         2.7760247853E8,
         "São Paulo"
        ],
        [
         "01356517000180",
         "1996-07-24",
         null,
         1.6878108439E8,
         "Rio de Janeiro"
        ],
        [
         "12834634000129",
         "2010-10-18",
         null,
         372240.51,
         "São Paulo"
        ],
        [
         "49176545000142",
         "2023-01-13",
         null,
         2.344639181E7,
         "São Paulo"
        ],
        [
         "12239939000192",
         "2011-09-21",
         2.02,
         6.55877165E7,
         "São Paulo"
        ],
        [
         "35819219000100",
         "2020-07-24",
         0.4,
         1.0551798646E9,
         "São Paulo"
        ],
        [
         "07766151000102",
         "2006-01-09",
         null,
         0.0,
         "Rio de Janeiro"
        ],
        [
         "11769285000146",
         "2010-07-23",
         0.58,
         2.66385730905E9,
         "São Paulo"
        ],
        [
         "51339815000130",
         "2023-07-07",
         null,
         8.179266377E7,
         "São Paulo"
        ],
        [
         "24768711000179",
         "2016-05-18",
         null,
         8.304273561E7,
         "Rio de Janeiro"
        ],
        [
         "39784273000100",
         "2020-12-29",
         null,
         5.731666892E7,
         "São Paulo"
        ],
        [
         "44680424000110",
         "2022-01-21",
         null,
         5.152904921E7,
         "São Paulo"
        ],
        [
         "43105440000116",
         "2021-08-25",
         null,
         5886041.3,
         "São Paulo"
        ],
        [
         "48389780000130",
         "2022-12-11",
         null,
         2.3977683304E8,
         "São Paulo"
        ],
        [
         "22773421000198",
         "2016-03-31",
         0.15,
         6.5478605936E8,
         "São Paulo"
        ],
        [
         "12107669000166",
         "2012-06-01",
         0.02,
         2.38947988072E9,
         "São Paulo"
        ],
        [
         "12107422000140",
         "2011-09-06",
         0.8,
         1.9252269085E8,
         "São Paulo"
        ],
        [
         "21917293000146",
         "2015-03-10",
         null,
         1002975.4,
         "São Paulo"
        ],
        [
         "27531301000106",
         "2017-05-29",
         null,
         4.730974917E7,
         "São Paulo"
        ],
        [
         "50153414000129",
         "2023-03-30",
         null,
         3.44638365E7,
         "São Paulo"
        ],
        [
         "40140470000175",
         "2021-03-15",
         0.5,
         4.732314828E7,
         "São Paulo"
        ],
        [
         "09087483000188",
         "2010-01-11",
         2.0,
         1.720790888E7,
         "São Paulo"
        ],
        [
         "44570797000138",
         "2021-12-30",
         null,
         2.158356741E7,
         "São Paulo"
        ],
        [
         "49974540000165",
         "2023-03-17",
         null,
         3.398203665E7,
         "São Paulo"
        ],
        [
         "16734970000150",
         "2012-08-23",
         null,
         1.1052978777E8,
         "São Paulo"
        ],
        [
         "16703203000184",
         "2013-01-16",
         0.75,
         2.673520825E7,
         "São Paulo"
        ],
        [
         "02918931000107",
         "2005-03-28",
         1.5,
         2.856408456E7,
         "São Paulo"
        ],
        [
         "46628381000159",
         "2022-07-19",
         null,
         6774129.91,
         "São Paulo"
        ],
        [
         "47033209000115",
         "2022-07-28",
         null,
         8.58764167E7,
         "Rio de Janeiro"
        ],
        [
         "42295379000154",
         "2021-08-16",
         null,
         1.5674803064E8,
         "Minas Gerais"
        ],
        [
         "50555281000117",
         "2023-05-04",
         null,
         1.67105102E7,
         "São Paulo"
        ],
        [
         "49963418000193",
         "2023-03-16",
         null,
         1.9358058271E8,
         "São Paulo"
        ],
        [
         "34691300000186",
         "2020-04-13",
         null,
         1.567930715E7,
         "São Paulo"
        ],
        [
         "41557609000143",
         "2021-09-06",
         null,
         4.542439587E7,
         "São Paulo"
        ],
        [
         "08815386000100",
         "2007-08-10",
         1.0,
         1.07168979E7,
         "Minas Gerais"
        ],
        [
         "36098375000183",
         "2020-02-17",
         null,
         1.1786818176E8,
         "Minas Gerais"
        ],
        [
         "33429343000125",
         "2019-09-18",
         0.03,
         3.6174697241E8,
         "São Paulo"
        ],
        [
         "36115022000144",
         "2020-08-05",
         null,
         1.5365185995E8,
         "São Paulo"
        ],
        [
         "36443522000105",
         "2020-02-21",
         25.0,
         1.81405177298E9,
         "Minas Gerais"
        ],
        [
         "28296597000182",
         "2018-06-07",
         null,
         5.316074455E7,
         "São Paulo"
        ],
        [
         "44638491000176",
         "2022-11-08",
         null,
         3.112389581E7,
         "São Paulo"
        ],
        [
         "42315695000140",
         "2021-08-26",
         null,
         3.211744968E7,
         "Minas Gerais"
        ],
        [
         "16570371000149",
         "2012-08-01",
         2.0,
         2771984.61,
         "São Paulo"
        ],
        [
         "43236423000118",
         "2021-08-24",
         null,
         3.5631362132E8,
         "São Paulo"
        ],
        [
         "29881003000163",
         "2019-01-23",
         0.01,
         4.9264134473E8,
         "São Paulo"
        ],
        [
         "02918923000152",
         "2005-03-28",
         2.0,
         6269533.2,
         "São Paulo"
        ],
        [
         "10500895000187",
         "2008-12-02",
         null,
         1.123352714E7,
         "São Paulo"
        ],
        [
         "45254732000146",
         "2022-03-10",
         null,
         4.021983357E7,
         "Rio de Janeiro"
        ],
        [
         "36312772000106",
         "2020-02-18",
         null,
         5.120662227E7,
         "Minas Gerais"
        ],
        [
         "14067624000130",
         "2011-10-28",
         null,
         151818.15,
         "São Paulo"
        ],
        [
         "35819666000150",
         "2020-06-19",
         2.0,
         1.6604255414E9,
         "São Paulo"
        ],
        [
         "51476870000172",
         "2023-07-19",
         null,
         1.0417893333E8,
         "São Paulo"
        ],
        [
         "52317521000170",
         "2023-09-26",
         null,
         4511806.83,
         "São Paulo"
        ],
        [
         "47983885000150",
         "2022-12-08",
         null,
         1.046652606E8,
         "São Paulo"
        ],
        [
         "50399189000105",
         "2023-04-20",
         null,
         9.422244381E7,
         "São Paulo"
        ],
        [
         "33240249000123",
         "2019-06-21",
         null,
         2.40766695662E9,
         "São Paulo"
        ],
        [
         "50226162000110",
         "2023-04-05",
         null,
         1559098.21,
         "São Paulo"
        ],
        [
         "48996079000189",
         "2022-12-28",
         null,
         7.640086935E7,
         "São Paulo"
        ],
        [
         "40211684000195",
         "2021-02-08",
         null,
         8814320.26,
         "São Paulo"
        ],
        [
         "06985322000113",
         "2012-03-08",
         32.0,
         1.7911641871E8,
         "Minas Gerais"
        ],
        [
         "32295244000135",
         "2019-12-26",
         null,
         3902898.13,
         "São Paulo"
        ],
        [
         "29315301000196",
         "2018-04-03",
         null,
         4.3184203627E8,
         "São Paulo"
        ],
        [
         "05862906000139",
         "2005-05-30",
         0.34,
         5.0323263789E8,
         "São Paulo"
        ],
        [
         "45018961000161",
         "2022-05-30",
         null,
         2.532663374E7,
         "São Paulo"
        ],
        [
         "22601577000191",
         "2015-07-02",
         null,
         1.17893921507E9,
         "São Paulo"
        ],
        [
         "11044355000107",
         "2010-08-09",
         null,
         2.2891833875E8,
         "Minas Gerais"
        ],
        [
         "44177436000126",
         "2022-01-03",
         null,
         4.0055315568E8,
         "São Paulo"
        ],
        [
         "36930464000144",
         "2021-04-09",
         null,
         6.7558202267E8,
         "Minas Gerais"
        ],
        [
         "30130708000128",
         "2018-04-13",
         null,
         2.76308112478E9,
         "São Paulo"
        ],
        [
         "33913568000152",
         "2019-12-30",
         0.09,
         999393.63,
         "São Paulo"
        ],
        [
         "26089666000151",
         "2016-10-31",
         0.38,
         1.0975836454E8,
         "Minas Gerais"
        ],
        [
         "49983891000132",
         "2023-03-17",
         null,
         2.5731731862E8,
         "Rio de Janeiro"
        ],
        [
         "44432479000100",
         "2022-05-06",
         0.2,
         2.6981060166E8,
         "São Paulo"
        ],
        [
         "49963885000113",
         "2023-03-16",
         null,
         5.4588945138E8,
         "São Paulo"
        ],
        [
         "32203308000120",
         "2019-03-26",
         0.38,
         2.0211663737E8,
         "São Paulo"
        ],
        [
         "39412078000159",
         "2022-08-24",
         null,
         1000846.18,
         "São Paulo"
        ],
        [
         "45693226000153",
         "2022-05-23",
         null,
         6543725.97,
         "São Paulo"
        ],
        [
         "42754444000162",
         "2021-11-29",
         null,
         6.572671967E7,
         "Rio de Janeiro"
        ],
        [
         "40670750000195",
         "2021-04-07",
         null,
         6.35688417573E9,
         "São Paulo"
        ],
        [
         "18402048000191",
         "2013-07-02",
         null,
         571931.15,
         "São Paulo"
        ],
        [
         "49112611000110",
         "2023-01-09",
         null,
         9.927325637E7,
         "São Paulo"
        ],
        [
         "43876172000136",
         "2022-03-08",
         null,
         4142252.66,
         "Minas Gerais"
        ],
        [
         "52324762000147",
         "2023-09-26",
         null,
         2.696179548E7,
         "São Paulo"
        ],
        [
         "47085583000164",
         "2022-10-18",
         null,
         9.948267096E7,
         "São Paulo"
        ],
        [
         "32162536000108",
         "2019-05-15",
         null,
         4.685894751E7,
         "São Paulo"
        ],
        [
         "45908305000134",
         "2022-11-22",
         null,
         1.6483529491E8,
         "São Paulo"
        ],
        [
         "39723229000190",
         "2021-01-27",
         0.07,
         6.948446891E7,
         "São Paulo"
        ],
        [
         "45899745000172",
         "2022-10-25",
         null,
         1.0580562099E8,
         "São Paulo"
        ],
        [
         "09228836000112",
         "2008-01-07",
         0.0,
         6.4796950853E8,
         "São Paulo"
        ],
        [
         "42196346000157",
         "2021-08-09",
         null,
         2.847891431E7,
         "São Paulo"
        ],
        [
         "02727085000130",
         "2022-04-09",
         null,
         1355673.91,
         "Rio de Janeiro"
        ],
        [
         "32222912000102",
         "2018-12-21",
         null,
         2.950780867E7,
         "São Paulo"
        ],
        [
         "52112338000139",
         "2023-09-08",
         null,
         3.965763331E7,
         "São Paulo"
        ],
        [
         "28240255000140",
         "2017-08-30",
         null,
         7.533099041E7,
         "São Paulo"
        ],
        [
         "28796986000177",
         "2018-04-27",
         null,
         1.0377110259E8,
         "São Paulo"
        ],
        [
         "09234078000145",
         "2008-06-04",
         null,
         1.16737717074E10,
         "Distrito Federal"
        ],
        [
         "14166140000149",
         "2012-01-18",
         null,
         1.29401414112E9,
         "São Paulo"
        ],
        [
         "23120075000101",
         "2022-11-28",
         null,
         1438003.41,
         "São Paulo"
        ],
        [
         "26452257000178",
         "2017-06-12",
         null,
         5.502430724E7,
         "São Paulo"
        ],
        [
         "22809036000153",
         "2016-06-20",
         0.8,
         1.396207214E7,
         "São Paulo"
        ],
        [
         "11249598000173",
         "2009-11-11",
         null,
         3.8722679502E8,
         "São Paulo"
        ],
        [
         "24701488000142",
         "2016-05-11",
         null,
         1.9659790255E8,
         "São Paulo"
        ],
        [
         "07644864000195",
         "2005-12-27",
         null,
         1248536.18,
         "São Paulo"
        ],
        [
         "50152676000179",
         "2023-03-30",
         null,
         3.473794755E7,
         "São Paulo"
        ],
        [
         "52069691000183",
         "2023-09-04",
         null,
         7.4204001813E8,
         "São Paulo"
        ],
        [
         "35178253000134",
         "2020-01-10",
         0.66,
         3.5600970375E8,
         "Minas Gerais"
        ],
        [
         "51804355000174",
         "2023-08-14",
         null,
         1.575957148E7,
         "São Paulo"
        ],
        [
         "02668201000197",
         "2005-03-22",
         0.1,
         1.59627950729E9,
         "São Paulo"
        ],
        [
         "46780646000130",
         "2022-12-08",
         null,
         9.50403465E7,
         "São Paulo"
        ],
        [
         "28549930000118",
         "2017-12-07",
         null,
         9.3356381139E8,
         "São Paulo"
        ],
        [
         "50311731000126",
         "2023-04-13",
         null,
         5.484187399E7,
         "São Paulo"
        ],
        [
         "27368761000157",
         "2019-04-29",
         null,
         3.15840331E8,
         "São Paulo"
        ],
        [
         "01497954000114",
         "1996-10-02",
         null,
         1.5748424368E8,
         "Rio Grande do Sul"
        ],
        [
         "47716415000120",
         "2022-10-07",
         1.2,
         3.920949699E7,
         "Rio de Janeiro"
        ],
        [
         "19831126000136",
         "2014-04-11",
         1.5,
         1.63386148491E9,
         "São Paulo"
        ],
        [
         "20998989000181",
         "2022-12-06",
         null,
         1.223790679E7,
         "São Paulo"
        ],
        [
         "11326746000106",
         "2010-05-28",
         null,
         4.0682077271E8,
         "São Paulo"
        ],
        [
         "29315285000131",
         "2018-10-02",
         null,
         1.277059947E7,
         "São Paulo"
        ],
        [
         "16685929000131",
         "2023-02-13",
         null,
         6.2138924697E8,
         "Rio de Janeiro"
        ],
        [
         "34644159000160",
         "2019-11-04",
         null,
         3.7820675354E8,
         "São Paulo"
        ],
        [
         "04192419000143",
         "2005-03-15",
         0.8,
         3.735282279E7,
         "São Paulo"
        ],
        [
         "09636619000161",
         "2008-10-02",
         0.22,
         7.7668289759E8,
         "São Paulo"
        ],
        [
         "34835191000123",
         "2019-09-23",
         null,
         1.3414947441E8,
         "Minas Gerais"
        ],
        [
         "36655944000144",
         "2020-09-10",
         null,
         5050323.26,
         "São Paulo"
        ],
        [
         "51305991000151",
         "2023-07-05",
         0.695,
         4.317146516E7,
         "Minas Gerais"
        ],
        [
         "21838483000178",
         "2015-08-19",
         null,
         5.108677452E8,
         "São Paulo"
        ],
        [
         "17517577000178",
         "2013-08-13",
         0.4,
         1.0133760388E8,
         "São Paulo"
        ],
        [
         "40054913000105",
         "2021-07-05",
         null,
         2.627733151E7,
         "São Paulo"
        ],
        [
         "07408147000164",
         "2005-04-11",
         null,
         19103.37,
         "Pará"
        ],
        [
         "09087523000191",
         "2010-01-11",
         2.5,
         4.066088248E7,
         "São Paulo"
        ],
        [
         "05437916000127",
         "2002-12-10",
         null,
         1.2664304161E8,
         "São Paulo"
        ],
        [
         "41114606000135",
         "2021-03-09",
         null,
         2.3775015558E8,
         "São Paulo"
        ],
        [
         "13243834000170",
         "2011-03-01",
         null,
         null,
         "São Paulo"
        ],
        [
         "37828802000102",
         "2021-07-19",
         null,
         5956004.96,
         "São Paulo"
        ],
        [
         "41833315000105",
         "2021-05-24",
         null,
         3.12109464E7,
         "São Paulo"
        ],
        [
         "07110975000111",
         "2005-02-11",
         0.0,
         4.37160324335E9,
         "São Paulo"
        ],
        [
         "14167479000160",
         "2011-10-21",
         1.2,
         2.687507781E7,
         "São Paulo"
        ],
        [
         "45018911000184",
         "2022-05-11",
         null,
         1.774384956E7,
         "São Paulo"
        ],
        [
         "27531244000157",
         "2017-06-29",
         null,
         2.437109633E7,
         "São Paulo"
        ],
        [
         "33361831000148",
         "2019-06-18",
         0.9,
         1.94939777E7,
         "São Paulo"
        ],
        [
         "47166761000181",
         "2022-07-21",
         null,
         9.443368023E7,
         "São Paulo"
        ],
        [
         "50191107000132",
         "2023-04-03",
         null,
         1.7628287032E8,
         "São Paulo"
        ],
        [
         "51029588000147",
         "2023-06-13",
         0.0,
         4.7998655265E8,
         "São Paulo"
        ],
        [
         "49651181000105",
         "2023-02-17",
         null,
         4.232100033E7,
         "São Paulo"
        ],
        [
         "11108013000103",
         "2009-09-25",
         2.0,
         8.337165502E7,
         "São Paulo"
        ],
        [
         "52073804000114",
         "2023-09-04",
         null,
         2.2672389056E8,
         "São Paulo"
        ],
        [
         "49224039000181",
         "2023-01-17",
         null,
         4801607.67,
         "São Paulo"
        ],
        [
         "33361657000133",
         "2019-06-18",
         0.9,
         2.522218995E7,
         "São Paulo"
        ],
        [
         "24874305000190",
         "2016-05-27",
         null,
         1.36746797716E9,
         "São Paulo"
        ],
        [
         "30282227000138",
         "2018-10-30",
         4.0,
         3.957397425E7,
         "São Paulo"
        ],
        [
         "00819889000133",
         "2005-03-17",
         1.0,
         5.729872778E7,
         "São Paulo"
        ],
        [
         "15049586000156",
         "2012-03-23",
         null,
         2.11082293021E9,
         "São Paulo"
        ],
        [
         "14951577000193",
         "2012-05-10",
         1.0,
         9.110146163E7,
         "São Paulo"
        ],
        [
         "46778844000169",
         "2022-12-09",
         null,
         1.8557583749E8,
         "São Paulo"
        ],
        [
         "21596006000143",
         "2015-01-19",
         0.12,
         2.4057585479E8,
         "São Paulo"
        ],
        [
         "12124044000102",
         "2010-08-26",
         1.5,
         5.5395629203E8,
         "São Paulo"
        ],
        [
         "27486551000163",
         "2017-06-02",
         null,
         604067.12,
         "São Paulo"
        ],
        [
         "50750438000165",
         "2023-05-19",
         null,
         3.2397564865E8,
         "Rio de Janeiro"
        ],
        [
         "36412972000130",
         "2020-09-10",
         null,
         5156801.75,
         "São Paulo"
        ],
        [
         "06905783000139",
         "2004-12-30",
         null,
         1.959792432E7,
         "São Paulo"
        ],
        [
         "27531301000106",
         "2017-05-29",
         null,
         4.730974917E7,
         "São Paulo"
        ],
        [
         "02918931000107",
         "2005-03-28",
         1.5,
         2.856408456E7,
         "São Paulo"
        ],
        [
         "02918923000152",
         "2005-03-28",
         2.0,
         6269533.2,
         "São Paulo"
        ],
        [
         "28240255000140",
         "2017-08-30",
         null,
         7.533099041E7,
         "São Paulo"
        ],
        [
         "26452257000178",
         "2017-06-12",
         null,
         5.502430724E7,
         "São Paulo"
        ],
        [
         "27486551000163",
         "2017-06-02",
         null,
         604067.12,
         "São Paulo"
        ],
        [
         "27531301000106",
         "2017-05-29",
         null,
         4.730974917E7,
         "São Paulo"
        ],
        [
         "28240255000140",
         "2017-08-30",
         null,
         7.533099041E7,
         "São Paulo"
        ],
        [
         "27486551000163",
         "2017-06-02",
         null,
         604067.12,
         "São Paulo"
        ],
        [
         "27531301000106",
         "2017-05-29",
         null,
         4.730974917E7,
         "São Paulo"
        ],
        [
         "28240255000140",
         "2017-08-30",
         null,
         7.533099041E7,
         "São Paulo"
        ]
       ],
       "datasetInfos": [
        {
         "name": "_sqldf",
         "schema": {
          "fields": [
           {
            "metadata": {},
            "name": "documento",
            "nullable": true,
            "type": "string"
           },
           {
            "metadata": {},
            "name": "data_reg",
            "nullable": true,
            "type": "date"
           },
           {
            "metadata": {},
            "name": "taxa",
            "nullable": true,
            "type": "double"
           },
           {
            "metadata": {},
            "name": "valor",
            "nullable": true,
            "type": "double"
           },
           {
            "metadata": {},
            "name": "ciade",
            "nullable": true,
            "type": "string"
           }
          ],
          "type": "struct"
         },
         "tableIdentifier": null,
         "typeStr": "pyspark.sql.connect.dataframe.DataFrame"
        }
       ],
       "dbfsResultPath": null,
       "isJsonSchema": true,
       "metadata": {
        "createTempViewForImplicitDf": true,
        "dataframeName": "_sqldf",
        "executionCount": 7
       },
       "overflow": false,
       "plotOptions": {
        "customPlotOptions": {},
        "displayType": "table",
        "pivotAggregation": null,
        "pivotColumns": null,
        "xColumns": null,
        "yColumns": null
       },
       "removedWidgets": [],
       "schema": [
        {
         "metadata": "{}",
         "name": "documento",
         "type": "\"string\""
        },
        {
         "metadata": "{}",
         "name": "data_reg",
         "type": "\"date\""
        },
        {
         "metadata": "{}",
         "name": "taxa",
         "type": "\"double\""
        },
        {
         "metadata": "{}",
         "name": "valor",
         "type": "\"double\""
        },
        {
         "metadata": "{}",
         "name": "ciade",
         "type": "\"string\""
        }
       ],
       "type": "table"
      }
     },
     "output_type": "display_data"
    }
   ],
   "source": [
    "%sql\n",
    "\n",
    "select CNPJ_FUNDO as documento,\n",
    "DT_REG as data_reg,\n",
    "TAXA_ADM as taxa,\n",
    "VL_PATRIM_LIQ as valor,\n",
    "nome as ciade\n",
    "from cvm_tratada"
   ]
  }
 ],
 "metadata": {
  "application/vnd.databricks.v1+notebook": {
   "computePreferences": null,
   "dashboards": [],
   "environmentMetadata": {
    "base_environment": "",
    "environment_version": "2"
   },
   "inputWidgetPreferences": null,
   "language": "python",
   "notebookMetadata": {
    "mostRecentlyExecutedCommandWithImplicitDF": {
     "commandId": 6351822436003281,
     "dataframes": [
      "_sqldf"
     ]
    },
    "pythonIndentUnit": 4
   },
   "notebookName": "Gold - cvm",
   "widgets": {}
  },
  "language_info": {
   "name": "python"
  }
 },
 "nbformat": 4,
 "nbformat_minor": 0
}