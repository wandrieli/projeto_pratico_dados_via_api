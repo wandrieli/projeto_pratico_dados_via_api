{
 "cells": [
  {
   "cell_type": "code",
   "execution_count": 0,
   "metadata": {
    "application/vnd.databricks.v1+cell": {
     "cellMetadata": {},
     "inputWidgets": {},
     "nuid": "6d46410b-cdea-42be-9322-a4b3e6d25a41",
     "showTitle": false,
     "tableResultSettingsMap": {},
     "title": ""
    }
   },
   "outputs": [],
   "source": [
    "#importação de bibliotecas\n",
    "\n",
    "from pyspark.sql import funcions as F"
   ]
  },
  {
   "cell_type": "code",
   "execution_count": 0,
   "metadata": {
    "application/vnd.databricks.v1+cell": {
     "cellMetadata": {},
     "inputWidgets": {},
     "nuid": "4e8e4784-a79a-48bf-87ba-52156183bade",
     "showTitle": false,
     "tableResultSettingsMap": {},
     "title": ""
    }
   },
   "outputs": [],
   "source": [
    "#Carrega os dados da view criada em Gold - cvm\n",
    "\n",
    "df = spark.table(\"vw_cvm_dados\").select(\n",
    "    F.col(\"documento\"),\n",
    "    F.col(\"data_reg\"),\n",
    "    F.col(\"taxa\"),\n",
    "    F.col(\"valor\"),\n",
    "    F.col(\"cidade\"),\n",
    "    F.col(\"estado\")\n",
    ")\n",
    "    \n",
    "display(df)"
   ]
  },
  {
   "cell_type": "code",
   "execution_count": 0,
   "metadata": {
    "application/vnd.databricks.v1+cell": {
     "cellMetadata": {},
     "inputWidgets": {},
     "nuid": "e18cbe41-3ab6-4068-937a-386ec06b650c",
     "showTitle": false,
     "tableResultSettingsMap": {},
     "title": ""
    }
   },
   "outputs": [],
   "source": [
    "#Métricas por cidade e estado\n",
    "\n",
    "metricas = df.groupBy(\"cidade\",\"estado\").agg(\n",
    "    F.sum(\"valor\").alias(\"valor_total\"),\n",
    "    F.countDistinct(\"documento\").alias(\"qtd_documentos\"),\n",
    "    F.avg(\"taxa\").alias(\"taxa_media\"),\n",
    "    F.max(\"data_reg\").alias(\"data_ultima_taxa\"),\n",
    "    F.min(\"data_reg\").alias(\"data_primeira_taxa\"),\n",
    "    F.count(\"taxa\").alias(\"qtd_taxas\"),\n",
    "    F.avg(\"valor\").alias(\"valor_medio\")\n",
    "    )"
   ]
  },
  {
   "cell_type": "code",
   "execution_count": 0,
   "metadata": {
    "application/vnd.databricks.v1+cell": {
     "cellMetadata": {},
     "inputWidgets": {},
     "nuid": "a6a69cc4-812c-46c4-9c7d-d8d448c2a944",
     "showTitle": false,
     "tableResultSettingsMap": {},
     "title": ""
    }
   },
   "outputs": [],
   "source": [
    "#Ordena por estado\n",
    "\n",
    "metricas = metricas.orderBy(\"estado\")\n",
    "\n",
    "display(metricas)"
   ]
  },
  {
   "cell_type": "code",
   "execution_count": 0,
   "metadata": {
    "application/vnd.databricks.v1+cell": {
     "cellMetadata": {},
     "inputWidgets": {},
     "nuid": "07dea252-b2f3-464f-b324-424819a74a74",
     "showTitle": false,
     "tableResultSettingsMap": {},
     "title": ""
    }
   },
   "outputs": [],
   "source": [
    "# Salva como tabela no Databricks\n",
    "spark.sql(\"DROP TABLE IF EXISTS metricas\")\n",
    "\n",
    "df_spark.write.mode(\"overwrite\").saveAsTable(\"metricas\")"
   ]
  }
 ],
 "metadata": {
  "application/vnd.databricks.v1+notebook": {
   "computePreferences": null,
   "dashboards": [],
   "environmentMetadata": {
    "base_environment": "",
    "environment_version": "3"
   },
   "inputWidgetPreferences": null,
   "language": "python",
   "notebookMetadata": {
    "pythonIndentUnit": 4
   },
   "notebookName": "Silver - Metricas",
   "widgets": {}
  },
  "language_info": {
   "name": "python"
  }
 },
 "nbformat": 4,
 "nbformat_minor": 0
}