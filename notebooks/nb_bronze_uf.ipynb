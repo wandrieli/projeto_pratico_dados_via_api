{
 "cells": [
  {
   "cell_type": "markdown",
   "metadata": {
    "application/vnd.databricks.v1+cell": {
     "cellMetadata": {},
     "inputWidgets": {},
     "nuid": "0d549d87-bc94-4197-ba9c-203f98532d8a",
     "showTitle": false,
     "tableResultSettingsMap": {},
     "title": ""
    }
   },
   "source": [
    "# Conexão API - Brasil - Extração de Dados\n",
    "\n",
    "Busca os dados da API Brasil para consulta de UFs."
   ]
  },
  {
   "cell_type": "markdown",
   "metadata": {
    "application/vnd.databricks.v1+cell": {
     "cellMetadata": {},
     "inputWidgets": {},
     "nuid": "22841599-655c-48a7-97f5-c27b052881de",
     "showTitle": false,
     "tableResultSettingsMap": {},
     "title": ""
    }
   },
   "source": [
    "teste"
   ]
  },
  {
   "cell_type": "code",
   "execution_count": 0,
   "metadata": {
    "application/vnd.databricks.v1+cell": {
     "cellMetadata": {
      "byteLimit": 2048000,
      "rowLimit": 10000
     },
     "inputWidgets": {},
     "nuid": "80437c3a-26b8-4d06-b5d7-a2289905ad56",
     "showTitle": false,
     "tableResultSettingsMap": {},
     "title": ""
    }
   },
   "outputs": [],
   "source": [
    "#Instalação de Bibliotecas necessárias\n",
    "\n",
    "import time\n",
    "import requests\n",
    "import pandas as pd"
   ]
  },
  {
   "cell_type": "code",
   "execution_count": 0,
   "metadata": {
    "application/vnd.databricks.v1+cell": {
     "cellMetadata": {
      "byteLimit": 2048000,
      "rowLimit": 10000
     },
     "inputWidgets": {},
     "nuid": "46f9699a-2815-45d4-acf4-d3aa3f19fd2f",
     "showTitle": false,
     "tableResultSettingsMap": {},
     "title": ""
    }
   },
   "outputs": [],
   "source": [
    "# Endpoint do site BrasilAPI\n",
    "\n",
    "url = 'https://brasilapi.com.br/api/ibge/uf/v1/'\n",
    "\n",
    "response = requests.get(url)\n",
    "\n",
    "dados = []\n",
    "\n",
    "# Busca dos dados Sigla e Nome com validação em caso de erros\n",
    "if response.status_code == 200:\n",
    "    estados = response.json()  \n",
    "    for estado in estados:\n",
    "        dados.append({\n",
    "            \"sigla\": estado.get(\"sigla\"),\n",
    "            \"nome\": estado.get(\"nome\")\n",
    "        })\n",
    "else:\n",
    "    dados.append({\n",
    "        \"sigla\": None,\n",
    "        \"nome\": None,\n",
    "        \"erro\": f\"Status {response.status_code}\"\n",
    "    })\n",
    "\n",
    "if dados:\n",
    "    df_pandas = pd.DataFrame(dados)\n",
    "    df = spark.createDataFrame(df_pandas)\n",
    "    display(df)\n",
    "else:\n",
    "    print(\"Nenhum dado retornado pela API.\")\n"
   ]
  },
  {
   "cell_type": "code",
   "execution_count": 0,
   "metadata": {
    "application/vnd.databricks.v1+cell": {
     "cellMetadata": {
      "byteLimit": 2048000,
      "rowLimit": 10000
     },
     "inputWidgets": {},
     "nuid": "6996da5a-0850-4da9-aa69-3ad9e4883db9",
     "showTitle": false,
     "tableResultSettingsMap": {},
     "title": ""
    }
   },
   "outputs": [],
   "source": [
    "spark.sql(f'DROP TABLE IF EXISTS uf_bruto')\n",
    "df.write.saveAsTable('uf_bruto')"
   ]
  },
  {
   "cell_type": "code",
   "execution_count": 0,
   "metadata": {
    "application/vnd.databricks.v1+cell": {
     "cellMetadata": {
      "byteLimit": 2048000,
      "implicitDf": true,
      "rowLimit": 10000
     },
     "inputWidgets": {},
     "nuid": "fafb71cf-b945-4b9d-9618-a3bc46028cb6",
     "showTitle": false,
     "tableResultSettingsMap": {},
     "title": ""
    }
   },
   "outputs": [],
   "source": [
    "%sql\n",
    "select * from uf_bruto;"
   ]
  }
 ],
 "metadata": {
  "application/vnd.databricks.v1+notebook": {
   "computePreferences": null,
   "dashboards": [],
   "environmentMetadata": {
    "base_environment": "",
    "environment_version": "2"
   },
   "inputWidgetPreferences": null,
   "language": "python",
   "notebookMetadata": {
    "mostRecentlyExecutedCommandWithImplicitDF": {
     "commandId": 8973787451499892,
     "dataframes": [
      "_sqldf"
     ]
    },
    "pythonIndentUnit": 4
   },
   "notebookName": "Bronze - Brasil UF",
   "widgets": {}
  },
  "language_info": {
   "name": "python"
  }
 },
 "nbformat": 4,
 "nbformat_minor": 0
}
