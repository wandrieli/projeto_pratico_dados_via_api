{
 "cells": [
  {
   "cell_type": "markdown",
   "metadata": {
    "application/vnd.databricks.v1+cell": {
     "cellMetadata": {},
     "inputWidgets": {},
     "nuid": "025e730f-5efe-4246-bc3e-4da4a6cd4ba9",
     "showTitle": false,
     "tableResultSettingsMap": {},
     "title": ""
    }
   },
   "source": [
    "# Validação da qualidade dos dados brutos\n",
    "Execução de scripts que validem a qualidade dos dados retornados por todos os Bronzes."
   ]
  },
  {
   "cell_type": "code",
   "execution_count": 0,
   "metadata": {
    "application/vnd.databricks.v1+cell": {
     "cellMetadata": {
      "byteLimit": 2048000,
      "rowLimit": 10000
     },
     "inputWidgets": {},
     "nuid": "c8df8215-6d28-4468-b281-5ce2621ee4a6",
     "showTitle": false,
     "tableResultSettingsMap": {},
     "title": ""
    }
   },
   "outputs": [],
   "source": [
    "#Importando as bibliotecas necessárias\n",
    "\n",
    "from pyspark.sql.functions import col, count, when, isnan, length, regexp_replace"
   ]
  },
  {
   "cell_type": "code",
   "execution_count": 0,
   "metadata": {
    "application/vnd.databricks.v1+cell": {
     "cellMetadata": {
      "byteLimit": 2048000,
      "rowLimit": 10000
     },
     "inputWidgets": {},
     "nuid": "9469f372-8a0e-44ea-b3c9-fb349d9fb991",
     "showTitle": false,
     "tableResultSettingsMap": {},
     "title": ""
    }
   },
   "outputs": [
    {
     "output_type": "display_data",
     "data": {
      "text/html": [
       "<style scoped>\n",
       "  .table-result-container {\n",
       "    max-height: 300px;\n",
       "    overflow: auto;\n",
       "  }\n",
       "  table, th, td {\n",
       "    border: 1px solid black;\n",
       "    border-collapse: collapse;\n",
       "  }\n",
       "  th, td {\n",
       "    padding: 5px;\n",
       "  }\n",
       "  th {\n",
       "    text-align: left;\n",
       "  }\n",
       "</style><div class='table-result-container'><table class='table-result'><thead style='background-color: white'><tr><th>Fonte</th><th>qtd_linhas</th><th>null_ratio_med</th><th>range_checks</th></tr></thead><tbody><tr><td>cvm_bruto</td><td>47285</td><td>1721.68%</td><td>50.0%</td></tr></tbody></table></div>"
      ]
     },
     "metadata": {
      "application/vnd.databricks.v1+output": {
       "addedWidgets": {},
       "aggData": [],
       "aggError": "",
       "aggOverflow": false,
       "aggSchema": [],
       "aggSeriesLimitReached": false,
       "aggType": "",
       "arguments": {},
       "columnCustomDisplayInfos": {},
       "data": [
        [
         "cvm_bruto",
         47285,
         "1721.68%",
         "50.0%"
        ]
       ],
       "datasetInfos": [],
       "dbfsResultPath": null,
       "isJsonSchema": true,
       "metadata": {},
       "overflow": false,
       "plotOptions": {
        "customPlotOptions": {},
        "displayType": "table",
        "pivotAggregation": null,
        "pivotColumns": null,
        "xColumns": null,
        "yColumns": null
       },
       "removedWidgets": [],
       "schema": [
        {
         "metadata": "{}",
         "name": "Fonte",
         "type": "\"string\""
        },
        {
         "metadata": "{}",
         "name": "qtd_linhas",
         "type": "\"long\""
        },
        {
         "metadata": "{}",
         "name": "null_ratio_med",
         "type": "\"string\""
        },
        {
         "metadata": "{}",
         "name": "range_checks",
         "type": "\"string\""
        }
       ],
       "type": "table"
      }
     },
     "output_type": "display_data"
    },
    {
     "output_type": "display_data",
     "data": {
      "text/html": [
       "<style scoped>\n",
       "  .table-result-container {\n",
       "    max-height: 300px;\n",
       "    overflow: auto;\n",
       "  }\n",
       "  table, th, td {\n",
       "    border: 1px solid black;\n",
       "    border-collapse: collapse;\n",
       "  }\n",
       "  th, td {\n",
       "    padding: 5px;\n",
       "  }\n",
       "  th {\n",
       "    text-align: left;\n",
       "  }\n",
       "</style><div class='table-result-container'><table class='table-result'><thead style='background-color: white'><tr><th>Fonte</th><th>qtd_linhas</th><th>null_ratio_med</th><th>range_checks</th></tr></thead><tbody><tr><td>brasil_cnpj</td><td>424</td><td>0.0%</td><td>100.0%</td></tr></tbody></table></div>"
      ]
     },
     "metadata": {
      "application/vnd.databricks.v1+output": {
       "addedWidgets": {},
       "aggData": [],
       "aggError": "",
       "aggOverflow": false,
       "aggSchema": [],
       "aggSeriesLimitReached": false,
       "aggType": "",
       "arguments": {},
       "columnCustomDisplayInfos": {},
       "data": [
        [
         "brasil_cnpj",
         424,
         "0.0%",
         "100.0%"
        ]
       ],
       "datasetInfos": [],
       "dbfsResultPath": null,
       "isJsonSchema": true,
       "metadata": {},
       "overflow": false,
       "plotOptions": {
        "customPlotOptions": {},
        "displayType": "table",
        "pivotAggregation": null,
        "pivotColumns": null,
        "xColumns": null,
        "yColumns": null
       },
       "removedWidgets": [],
       "schema": [
        {
         "metadata": "{}",
         "name": "Fonte",
         "type": "\"string\""
        },
        {
         "metadata": "{}",
         "name": "qtd_linhas",
         "type": "\"long\""
        },
        {
         "metadata": "{}",
         "name": "null_ratio_med",
         "type": "\"string\""
        },
        {
         "metadata": "{}",
         "name": "range_checks",
         "type": "\"string\""
        }
       ],
       "type": "table"
      }
     },
     "output_type": "display_data"
    },
    {
     "output_type": "display_data",
     "data": {
      "text/html": [
       "<style scoped>\n",
       "  .table-result-container {\n",
       "    max-height: 300px;\n",
       "    overflow: auto;\n",
       "  }\n",
       "  table, th, td {\n",
       "    border: 1px solid black;\n",
       "    border-collapse: collapse;\n",
       "  }\n",
       "  th, td {\n",
       "    padding: 5px;\n",
       "  }\n",
       "  th {\n",
       "    text-align: left;\n",
       "  }\n",
       "</style><div class='table-result-container'><table class='table-result'><thead style='background-color: white'><tr><th>Fonte</th><th>qtd_linhas</th><th>null_ratio_med</th><th>range_checks</th></tr></thead><tbody><tr><td>brasil_uf</td><td>27</td><td>0.0%</td><td>100.0%</td></tr></tbody></table></div>"
      ]
     },
     "metadata": {
      "application/vnd.databricks.v1+output": {
       "addedWidgets": {},
       "aggData": [],
       "aggError": "",
       "aggOverflow": false,
       "aggSchema": [],
       "aggSeriesLimitReached": false,
       "aggType": "",
       "arguments": {},
       "columnCustomDisplayInfos": {},
       "data": [
        [
         "brasil_uf",
         27,
         "0.0%",
         "100.0%"
        ]
       ],
       "datasetInfos": [],
       "dbfsResultPath": null,
       "isJsonSchema": true,
       "metadata": {},
       "overflow": false,
       "plotOptions": {
        "customPlotOptions": {},
        "displayType": "table",
        "pivotAggregation": null,
        "pivotColumns": null,
        "xColumns": null,
        "yColumns": null
       },
       "removedWidgets": [],
       "schema": [
        {
         "metadata": "{}",
         "name": "Fonte",
         "type": "\"string\""
        },
        {
         "metadata": "{}",
         "name": "qtd_linhas",
         "type": "\"long\""
        },
        {
         "metadata": "{}",
         "name": "null_ratio_med",
         "type": "\"string\""
        },
        {
         "metadata": "{}",
         "name": "range_checks",
         "type": "\"string\""
        }
       ],
       "type": "table"
      }
     },
     "output_type": "display_data"
    }
   ],
   "source": [
    "# Carregamento das tabelas necessárias e disponíveis nos arquivos bronze\n",
    "cvm_bruto = spark.table(\"cvm_bruto\")\n",
    "brasil_cnpj = spark.table(\"cnpj_bruto\")\n",
    "brasil_uf   = spark.table(\"uf_bruto\")\n",
    "\n",
    "def qualidadeDados(df, fonte, range_checks=None):\n",
    "    # Contagem do total de linhas\n",
    "    total_rows = df.count()\n",
    "    \n",
    "    # Cálculo do % de nulos por coluna \n",
    "    nulls = []\n",
    "    for c in df.columns:\n",
    "        null_count = df.filter(col(c).isNull()).count()\n",
    "        null_ratio = null_count / total_rows if total_rows > 0 else 0\n",
    "        nulls.append(null_ratio)\n",
    "\n",
    "    # Média percentual de nulos\n",
    "    null_ratio_med = round(sum(nulls) * 100, 2)\n",
    "\n",
    "    #  Checks\n",
    "    passed_checks = 0\n",
    "    total_checks = 0\n",
    "    range_score = None\n",
    "\n",
    "    if range_checks:\n",
    "        for col_name, valid_fn in range_checks.items():\n",
    "            total_checks += 1\n",
    "            invalid_count = df.filter(~valid_fn(col(col_name))).count()\n",
    "            if invalid_count == 0:\n",
    "                passed_checks += 1\n",
    "\n",
    "        range_score = round((passed_checks / total_checks) * 100, 2)\n",
    "\n",
    "    # -------- Resultado Final --------\n",
    "    resultado = spark.createDataFrame(\n",
    "        [(fonte, total_rows, f\"{null_ratio_med}%\", f\"{range_score}%\" if range_score is not None else \"N/A\")],\n",
    "        [\"Fonte\", \"qtd_linhas\", \"null_ratio_med\", \"range_checks\"]\n",
    "    )\n",
    "\n",
    "    display(resultado)\n",
    "\n",
    "\n",
    "# Colunas para checks\n",
    "range_checks_cvm = {\n",
    "    \"SIT\": lambda c: c == 'EM FUNCIONAMENTO NORMAL',\n",
    "    \"CNPJ_FUNDO\": lambda c: length(regexp_replace(c, r'\\D', '')) == 14\n",
    "}\n",
    "\n",
    "range_checks_cnpj = {\n",
    "    \"CNPJ\": lambda c: length(regexp_replace(c, r'\\D', '')) == 14\n",
    "}\n",
    "\n",
    "range_checks_uf = {\n",
    "    \"sigla\": lambda c: c.isin([\"AC\",\"AL\",\"AP\",\"AM\",\"BA\",\"CE\",\"DF\",\"ES\",\"GO\",\"MA\",\"MT\",\"MS\",\n",
    "        \"MG\",\"PA\",\"PB\",\"PR\",\"PE\",\"PI\",\"RJ\",\"RN\",\"RS\",\"RO\",\"RR\",\"SC\",\n",
    "        \"SP\",\"SE\",\"TO\"])\n",
    "}\n",
    "qualidadeDados(cvm_bruto, \"cvm_bruto\", range_checks_cvm)\n",
    "qualidadeDados(brasil_cnpj, \"brasil_cnpj\", range_checks_cnpj)\n",
    "qualidadeDados(brasil_uf, \"brasil_uf\", range_checks_uf)\n"
   ]
  }
 ],
 "metadata": {
  "application/vnd.databricks.v1+notebook": {
   "computePreferences": null,
   "dashboards": [],
   "environmentMetadata": {
    "base_environment": "",
    "environment_version": "2"
   },
   "inputWidgetPreferences": null,
   "language": "python",
   "notebookMetadata": {
    "pythonIndentUnit": 4
   },
   "notebookName": "nb_data_quality",
   "widgets": {}
  },
  "language_info": {
   "name": "python"
  }
 },
 "nbformat": 4,
 "nbformat_minor": 0
}