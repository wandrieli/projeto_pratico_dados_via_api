{
 "cells": [
  {
   "cell_type": "markdown",
   "metadata": {
    "application/vnd.databricks.v1+cell": {
     "cellMetadata": {},
     "inputWidgets": {},
     "nuid": "1d140aa9-74f9-4208-bef5-5bb91989559c",
     "showTitle": false,
     "tableResultSettingsMap": {},
     "title": ""
    }
   },
   "source": [
    "# Tratamento dos dados - CNPJs da CVM\n",
    "\n",
    "Junção e tratamento dos dados das tabelas cvm_bruto, cnpj_bruto e uf_bruto - Bronze"
   ]
  },
  {
   "cell_type": "markdown",
   "metadata": {
    "application/vnd.databricks.v1+cell": {
     "cellMetadata": {},
     "inputWidgets": {},
     "nuid": "ed0b74a3-611e-46be-bdc2-235c176ea801",
     "showTitle": false,
     "tableResultSettingsMap": {},
     "title": ""
    }
   },
   "source": [
    "Serão tratados e disponibilizados para utilização somente os dados em que o CNPJ está considerado como em funcionamento normal na CVM e que apresentam correspondencia com a API Brasil, os demais serão desconsiderados."
   ]
  },
  {
   "cell_type": "code",
   "execution_count": 0,
   "metadata": {
    "application/vnd.databricks.v1+cell": {
     "cellMetadata": {
      "byteLimit": 2048000,
      "rowLimit": 10000
     },
     "inputWidgets": {},
     "nuid": "e7a38cfc-3150-4d48-a1dd-8aa1dcabb289",
     "showTitle": false,
     "tableResultSettingsMap": {},
     "title": ""
    }
   },
   "outputs": [],
   "source": [
    "from pyspark.sql.functions import regexp_replace, to_date, col, format_number"
   ]
  },
  {
   "cell_type": "code",
   "execution_count": 0,
   "metadata": {
    "application/vnd.databricks.v1+cell": {
     "cellMetadata": {
      "byteLimit": 2048000,
      "rowLimit": 10000
     },
     "inputWidgets": {},
     "nuid": "4cbbfa51-8b6d-4859-80fd-c2705e56967b",
     "showTitle": false,
     "tableResultSettingsMap": {},
     "title": ""
    }
   },
   "outputs": [
    {
     "output_type": "display_data",
     "data": {
      "text/html": [
       "<style scoped>\n",
       "  .table-result-container {\n",
       "    max-height: 300px;\n",
       "    overflow: auto;\n",
       "  }\n",
       "  table, th, td {\n",
       "    border: 1px solid black;\n",
       "    border-collapse: collapse;\n",
       "  }\n",
       "  th, td {\n",
       "    padding: 5px;\n",
       "  }\n",
       "  th {\n",
       "    text-align: left;\n",
       "  }\n",
       "</style><div class='table-result-container'><table class='table-result'><thead style='background-color: white'><tr><th>CNPJ_FUNDO</th><th>SIT</th><th>DT_REG</th><th>TAXA_ADM</th><th>VL_PATRIM_LIQ</th></tr></thead><tbody><tr><td>09636393000107</td><td>EM FUNCIONAMENTO NORMAL</td><td>2008-09-03</td><td>0.35</td><td>8.39063605223E9</td></tr><tr><td>09636619000161</td><td>EM FUNCIONAMENTO NORMAL</td><td>2008-10-02</td><td>0.22</td><td>7.7668289759E8</td></tr><tr><td>09720710000160</td><td>EM FUNCIONAMENTO NORMAL</td><td>2008-09-26</td><td>8.0</td><td>2.6752782021E8</td></tr><tr><td>11108013000103</td><td>EM FUNCIONAMENTO NORMAL</td><td>2009-09-25</td><td>2.0</td><td>8.337165502E7</td></tr><tr><td>11147668000182</td><td>EM FUNCIONAMENTO NORMAL</td><td>2010-06-16</td><td>0.7</td><td>1.8697626529E8</td></tr><tr><td>11769285000146</td><td>EM FUNCIONAMENTO NORMAL</td><td>2010-07-23</td><td>0.58</td><td>2.66385730905E9</td></tr><tr><td>12107422000140</td><td>EM FUNCIONAMENTO NORMAL</td><td>2011-09-06</td><td>0.8</td><td>1.9252269085E8</td></tr><tr><td>12124044000102</td><td>EM FUNCIONAMENTO NORMAL</td><td>2010-08-26</td><td>1.5</td><td>5.5395629203E8</td></tr><tr><td>12124044000102</td><td>EM FUNCIONAMENTO NORMAL</td><td>2010-08-26</td><td>1.5</td><td>5.5395629203E8</td></tr><tr><td>13243834000170</td><td>EM FUNCIONAMENTO NORMAL</td><td>2011-03-01</td><td>null</td><td>null</td></tr><tr><td>97543707000186</td><td>EM FUNCIONAMENTO NORMAL</td><td>2011-08-31</td><td>0.0</td><td>2.0799783775E8</td></tr><tr><td>46628381000159</td><td>EM FUNCIONAMENTO NORMAL</td><td>2022-07-19</td><td>null</td><td>6774129.91</td></tr><tr><td>46334681000125</td><td>EM FUNCIONAMENTO NORMAL</td><td>2022-07-21</td><td>null</td><td>1.049761399E7</td></tr><tr><td>47033209000115</td><td>EM FUNCIONAMENTO NORMAL</td><td>2022-07-28</td><td>null</td><td>8.58764167E7</td></tr><tr><td>47372720000141</td><td>EM FUNCIONAMENTO NORMAL</td><td>2022-08-09</td><td>null</td><td>3.160091085E7</td></tr><tr><td>41751844000151</td><td>EM FUNCIONAMENTO NORMAL</td><td>2022-07-14</td><td>null</td><td>0.0</td></tr><tr><td>45908200000185</td><td>EM FUNCIONAMENTO NORMAL</td><td>2022-08-26</td><td>null</td><td>5335302.04</td></tr><tr><td>47372648000152</td><td>EM FUNCIONAMENTO NORMAL</td><td>2022-08-30</td><td>null</td><td>2671425.13</td></tr><tr><td>44428806000150</td><td>EM FUNCIONAMENTO NORMAL</td><td>2022-09-25</td><td>null</td><td>1.2377297921E8</td></tr><tr><td>44428854000149</td><td>EM FUNCIONAMENTO NORMAL</td><td>2022-09-25</td><td>null</td><td>1.217224301E8</td></tr><tr><td>47716415000120</td><td>EM FUNCIONAMENTO NORMAL</td><td>2022-10-07</td><td>1.2</td><td>3.920949699E7</td></tr><tr><td>47085583000164</td><td>EM FUNCIONAMENTO NORMAL</td><td>2022-10-18</td><td>null</td><td>9.948267096E7</td></tr><tr><td>47423757000151</td><td>EM FUNCIONAMENTO NORMAL</td><td>2022-10-20</td><td>65.0</td><td>3.280304342E8</td></tr><tr><td>45908305000134</td><td>EM FUNCIONAMENTO NORMAL</td><td>2022-11-22</td><td>null</td><td>1.6483529491E8</td></tr><tr><td>47984249000142</td><td>EM FUNCIONAMENTO NORMAL</td><td>2022-11-30</td><td>null</td><td>3676461.59</td></tr><tr><td>45823709000125</td><td>EM FUNCIONAMENTO NORMAL</td><td>2022-12-08</td><td>1.0</td><td>1.55511045E7</td></tr><tr><td>48993165000138</td><td>EM FUNCIONAMENTO NORMAL</td><td>2022-12-28</td><td>0.0</td><td>5.34157357E7</td></tr><tr><td>48996079000189</td><td>EM FUNCIONAMENTO NORMAL</td><td>2022-12-28</td><td>null</td><td>7.640086935E7</td></tr><tr><td>48996311000189</td><td>EM FUNCIONAMENTO NORMAL</td><td>2022-12-28</td><td>null</td><td>7635102.32</td></tr><tr><td>49224039000181</td><td>EM FUNCIONAMENTO NORMAL</td><td>2023-01-17</td><td>null</td><td>4801607.67</td></tr><tr><td>19424677000185</td><td>EM FUNCIONAMENTO NORMAL</td><td>2023-02-01</td><td>2500.0</td><td>1.219515785E7</td></tr><tr><td>49429700000195</td><td>EM FUNCIONAMENTO NORMAL</td><td>2023-02-01</td><td>0.0</td><td>6.534461901E7</td></tr><tr><td>49506998000190</td><td>EM FUNCIONAMENTO NORMAL</td><td>2023-02-07</td><td>0.3</td><td>2.70401677E7</td></tr><tr><td>49651132000172</td><td>EM FUNCIONAMENTO NORMAL</td><td>2023-02-17</td><td>null</td><td>4.237867217E7</td></tr><tr><td>49651181000105</td><td>EM FUNCIONAMENTO NORMAL</td><td>2023-02-17</td><td>null</td><td>4.232100033E7</td></tr><tr><td>49651212000128</td><td>EM FUNCIONAMENTO NORMAL</td><td>2023-02-17</td><td>null</td><td>4.30252098E7</td></tr><tr><td>49651245000178</td><td>EM FUNCIONAMENTO NORMAL</td><td>2023-02-17</td><td>null</td><td>1.236116204E7</td></tr><tr><td>49733651000180</td><td>EM FUNCIONAMENTO NORMAL</td><td>2023-02-27</td><td>0.08</td><td>1.222186178E7</td></tr><tr><td>49914023000109</td><td>EM FUNCIONAMENTO NORMAL</td><td>2023-03-13</td><td>0.0</td><td>1.6773497207E8</td></tr><tr><td>49995610000161</td><td>EM FUNCIONAMENTO NORMAL</td><td>2023-03-20</td><td>25.0</td><td>4.5087550965E8</td></tr><tr><td>49983891000132</td><td>EM FUNCIONAMENTO NORMAL</td><td>2023-03-17</td><td>null</td><td>2.5731731862E8</td></tr><tr><td>49983964000196</td><td>EM FUNCIONAMENTO NORMAL</td><td>2023-03-17</td><td>null</td><td>7.2397634306E8</td></tr><tr><td>50051913000105</td><td>EM FUNCIONAMENTO NORMAL</td><td>2023-03-23</td><td>null</td><td>5.455316553E7</td></tr><tr><td>50152676000179</td><td>EM FUNCIONAMENTO NORMAL</td><td>2023-03-30</td><td>null</td><td>3.473794755E7</td></tr><tr><td>50191107000132</td><td>EM FUNCIONAMENTO NORMAL</td><td>2023-04-03</td><td>null</td><td>1.7628287032E8</td></tr><tr><td>50197313000150</td><td>EM FUNCIONAMENTO NORMAL</td><td>2023-04-04</td><td>45.0</td><td>2.1369438278E8</td></tr><tr><td>50269714000178</td><td>EM FUNCIONAMENTO NORMAL</td><td>2023-04-11</td><td>null</td><td>3.4081955309E8</td></tr><tr><td>50443649000155</td><td>EM FUNCIONAMENTO NORMAL</td><td>2023-04-25</td><td>null</td><td>2.0747074698E8</td></tr><tr><td>50587789000105</td><td>EM FUNCIONAMENTO NORMAL</td><td>2023-05-08</td><td>null</td><td>8.21327176E7</td></tr><tr><td>50943777000168</td><td>EM FUNCIONAMENTO NORMAL</td><td>2023-06-05</td><td>null</td><td>2.986653305E7</td></tr><tr><td>50946637000143</td><td>EM FUNCIONAMENTO NORMAL</td><td>2023-06-05</td><td>null</td><td>1.636318291E7</td></tr><tr><td>51029588000147</td><td>EM FUNCIONAMENTO NORMAL</td><td>2023-06-13</td><td>0.0</td><td>4.7998655265E8</td></tr><tr><td>51305991000151</td><td>EM FUNCIONAMENTO NORMAL</td><td>2023-07-05</td><td>0.695</td><td>4.317146516E7</td></tr><tr><td>51777660000114</td><td>EM FUNCIONAMENTO NORMAL</td><td>2023-08-11</td><td>null</td><td>3.087888276E7</td></tr><tr><td>52317521000170</td><td>EM FUNCIONAMENTO NORMAL</td><td>2023-09-26</td><td>null</td><td>4511806.83</td></tr><tr><td>52317938000133</td><td>EM FUNCIONAMENTO NORMAL</td><td>2023-09-26</td><td>null</td><td>3257185.51</td></tr><tr><td>09234078000145</td><td>EM FUNCIONAMENTO NORMAL</td><td>2008-06-04</td><td>null</td><td>1.16737717074E10</td></tr><tr><td>14166140000149</td><td>EM FUNCIONAMENTO NORMAL</td><td>2012-01-18</td><td>null</td><td>1.29401414112E9</td></tr><tr><td>26862104000107</td><td>EM FUNCIONAMENTO NORMAL</td><td>2017-03-07</td><td>5.0</td><td>1.055678005E7</td></tr><tr><td>12586174000167</td><td>EM FUNCIONAMENTO NORMAL</td><td>2016-10-20</td><td>null</td><td>4.782494499E7</td></tr><tr><td>27826059000190</td><td>EM FUNCIONAMENTO NORMAL</td><td>2017-10-23</td><td>0.6</td><td>2.1715571911E8</td></tr><tr><td>28549930000118</td><td>EM FUNCIONAMENTO NORMAL</td><td>2017-12-07</td><td>null</td><td>9.3356381139E8</td></tr><tr><td>26845868000186</td><td>EM FUNCIONAMENTO NORMAL</td><td>2018-02-19</td><td>1.515</td><td>1265664.58</td></tr><tr><td>30282227000138</td><td>EM FUNCIONAMENTO NORMAL</td><td>2018-10-30</td><td>4.0</td><td>3.957397425E7</td></tr><tr><td>30282270000101</td><td>EM FUNCIONAMENTO NORMAL</td><td>2018-12-19</td><td>5.0E-4</td><td>6.26435857544E9</td></tr><tr><td>28320756000137</td><td>EM FUNCIONAMENTO NORMAL</td><td>2019-01-17</td><td>0.5</td><td>3.03561141071E9</td></tr><tr><td>29881003000163</td><td>EM FUNCIONAMENTO NORMAL</td><td>2019-01-23</td><td>0.01</td><td>4.9264134473E8</td></tr><tr><td>32244578000180</td><td>EM FUNCIONAMENTO NORMAL</td><td>2019-02-11</td><td>null</td><td>3.398212742E7</td></tr><tr><td>32203308000120</td><td>EM FUNCIONAMENTO NORMAL</td><td>2019-03-26</td><td>0.38</td><td>2.0211663737E8</td></tr><tr><td>32222722000187</td><td>EM FUNCIONAMENTO NORMAL</td><td>2019-04-03</td><td>0.25</td><td>1.88152272607E9</td></tr><tr><td>29315243000109</td><td>EM FUNCIONAMENTO NORMAL</td><td>2019-03-18</td><td>2.0</td><td>9.0170094276E8</td></tr><tr><td>31963246000192</td><td>EM FUNCIONAMENTO NORMAL</td><td>2019-03-18</td><td>2.0</td><td>2488248.35</td></tr><tr><td>32222759000105</td><td>EM FUNCIONAMENTO NORMAL</td><td>2019-06-18</td><td>0.065</td><td>2.04240363E7</td></tr><tr><td>33361831000148</td><td>EM FUNCIONAMENTO NORMAL</td><td>2019-06-18</td><td>0.9</td><td>1.94939777E7</td></tr><tr><td>33361923000128</td><td>EM FUNCIONAMENTO NORMAL</td><td>2019-06-18</td><td>0.065</td><td>6.077961322E7</td></tr><tr><td>33361798000156</td><td>EM FUNCIONAMENTO NORMAL</td><td>2019-06-18</td><td>0.8</td><td>7575485.02</td></tr><tr><td>33361873000189</td><td>EM FUNCIONAMENTO NORMAL</td><td>2019-06-18</td><td>0.07</td><td>6.562865568E7</td></tr><tr><td>33361657000133</td><td>EM FUNCIONAMENTO NORMAL</td><td>2019-06-18</td><td>0.9</td><td>2.522218995E7</td></tr><tr><td>28065477000174</td><td>EM FUNCIONAMENTO NORMAL</td><td>2019-08-02</td><td>null</td><td>3.6033615272E8</td></tr><tr><td>34617291000183</td><td>EM FUNCIONAMENTO NORMAL</td><td>2019-09-11</td><td>855.0</td><td>5018082.48</td></tr><tr><td>33429343000125</td><td>EM FUNCIONAMENTO NORMAL</td><td>2019-09-18</td><td>0.03</td><td>3.6174697241E8</td></tr><tr><td>35580324000120</td><td>EM FUNCIONAMENTO NORMAL</td><td>2019-11-27</td><td>1.85</td><td>9.136176875E7</td></tr><tr><td>33033191000147</td><td>EM FUNCIONAMENTO NORMAL</td><td>2019-12-17</td><td>0.8816</td><td>8.992570721E7</td></tr><tr><td>33913568000152</td><td>EM FUNCIONAMENTO NORMAL</td><td>2019-12-30</td><td>0.09</td><td>999393.63</td></tr><tr><td>33913576000107</td><td>EM FUNCIONAMENTO NORMAL</td><td>2019-12-30</td><td>0.09</td><td>3.5382136994E8</td></tr><tr><td>33913584000145</td><td>EM FUNCIONAMENTO NORMAL</td><td>2019-12-30</td><td>0.09</td><td>6876880.46</td></tr><tr><td>29983516000185</td><td>EM FUNCIONAMENTO NORMAL</td><td>2020-01-08</td><td>1.2</td><td>7.078584772E7</td></tr><tr><td>35178253000134</td><td>EM FUNCIONAMENTO NORMAL</td><td>2020-01-10</td><td>0.66</td><td>3.5600970375E8</td></tr><tr><td>36443522000105</td><td>EM FUNCIONAMENTO NORMAL</td><td>2020-02-21</td><td>25.0</td><td>1.81405177298E9</td></tr><tr><td>36443587000150</td><td>EM FUNCIONAMENTO NORMAL</td><td>2020-03-09</td><td>3.0</td><td>2.128071543E7</td></tr><tr><td>36764134000126</td><td>EM FUNCIONAMENTO NORMAL</td><td>2020-03-25</td><td>5.0</td><td>2.963157566E7</td></tr><tr><td>35819666000150</td><td>EM FUNCIONAMENTO NORMAL</td><td>2020-06-19</td><td>2.0</td><td>1.6604255414E9</td></tr><tr><td>36729755000179</td><td>EM FUNCIONAMENTO NORMAL</td><td>2020-06-19</td><td>0.9</td><td>2.1997348455E8</td></tr><tr><td>35819219000100</td><td>EM FUNCIONAMENTO NORMAL</td><td>2020-07-24</td><td>0.4</td><td>1.0551798646E9</td></tr><tr><td>37806055000101</td><td>EM FUNCIONAMENTO NORMAL</td><td>2020-08-20</td><td>0.0</td><td>2.9483089257E8</td></tr><tr><td>36655944000144</td><td>EM FUNCIONAMENTO NORMAL</td><td>2020-09-10</td><td>null</td><td>5050323.26</td></tr><tr><td>39281116000181</td><td>EM FUNCIONAMENTO NORMAL</td><td>2020-11-06</td><td>5.0</td><td>6293022.87</td></tr><tr><td>39344840000107</td><td>EM FUNCIONAMENTO NORMAL</td><td>2020-11-17</td><td>2.0</td><td>8940141.89</td></tr><tr><td>39723229000190</td><td>EM FUNCIONAMENTO NORMAL</td><td>2021-01-27</td><td>0.07</td><td>6.948446891E7</td></tr><tr><td>38443033000189</td><td>EM FUNCIONAMENTO NORMAL</td><td>2021-02-10</td><td>0.98</td><td>5.715885576E7</td></tr><tr><td>39540780000106</td><td>EM FUNCIONAMENTO NORMAL</td><td>2021-02-17</td><td>7.0</td><td>3.980750295E7</td></tr><tr><td>40905548000103</td><td>EM FUNCIONAMENTO NORMAL</td><td>2021-03-01</td><td>1.0</td><td>3.487545472E7</td></tr><tr><td>40140470000175</td><td>EM FUNCIONAMENTO NORMAL</td><td>2021-03-15</td><td>0.5</td><td>4.732314828E7</td></tr><tr><td>41036490000163</td><td>EM FUNCIONAMENTO NORMAL</td><td>2021-03-15</td><td>5.0</td><td>3.901224709E7</td></tr><tr><td>35277363000153</td><td>EM FUNCIONAMENTO NORMAL</td><td>2021-03-17</td><td>null</td><td>2.7238955682E8</td></tr><tr><td>41833315000105</td><td>EM FUNCIONAMENTO NORMAL</td><td>2021-05-24</td><td>null</td><td>3.12109464E7</td></tr><tr><td>41953322000132</td><td>EM FUNCIONAMENTO NORMAL</td><td>2021-06-07</td><td>4.0</td><td>1.7319844967E8</td></tr><tr><td>42081295000118</td><td>EM FUNCIONAMENTO NORMAL</td><td>2021-06-11</td><td>0.0</td><td>5.896034231E8</td></tr><tr><td>42260903000151</td><td>EM FUNCIONAMENTO NORMAL</td><td>2021-07-08</td><td>null</td><td>5.8474970655E8</td></tr><tr><td>42294971000131</td><td>EM FUNCIONAMENTO NORMAL</td><td>2021-07-02</td><td>8.0</td><td>2.0979385268E8</td></tr><tr><td>37828802000102</td><td>EM FUNCIONAMENTO NORMAL</td><td>2021-07-19</td><td>null</td><td>5956004.96</td></tr><tr><td>42295379000154</td><td>EM FUNCIONAMENTO NORMAL</td><td>2021-08-16</td><td>null</td><td>1.5674803064E8</td></tr><tr><td>43105440000116</td><td>EM FUNCIONAMENTO NORMAL</td><td>2021-08-25</td><td>null</td><td>5886041.3</td></tr><tr><td>42315695000140</td><td>EM FUNCIONAMENTO NORMAL</td><td>2021-08-26</td><td>null</td><td>3.211744968E7</td></tr><tr><td>43508144000166</td><td>EM FUNCIONAMENTO NORMAL</td><td>2021-09-27</td><td>null</td><td>9.403083508E7</td></tr><tr><td>43122453000101</td><td>EM FUNCIONAMENTO NORMAL</td><td>2021-10-01</td><td>null</td><td>1.3764790992E8</td></tr><tr><td>42754444000162</td><td>EM FUNCIONAMENTO NORMAL</td><td>2021-11-29</td><td>null</td><td>6.572671967E7</td></tr><tr><td>42922066000189</td><td>EM FUNCIONAMENTO NORMAL</td><td>2021-12-17</td><td>null</td><td>3584748.74</td></tr><tr><td>44680491000134</td><td>EM FUNCIONAMENTO NORMAL</td><td>2022-01-03</td><td>null</td><td>4.2076959083E8</td></tr><tr><td>42562105000184</td><td>EM FUNCIONAMENTO NORMAL</td><td>2022-01-18</td><td>null</td><td>0.0</td></tr><tr><td>42691990000100</td><td>EM FUNCIONAMENTO NORMAL</td><td>2022-02-01</td><td>null</td><td>2.844502902E7</td></tr><tr><td>44815107000163</td><td>EM FUNCIONAMENTO NORMAL</td><td>2022-02-15</td><td>null</td><td>2.208686899E7</td></tr><tr><td>44680466000150</td><td>EM FUNCIONAMENTO NORMAL</td><td>2022-02-24</td><td>null</td><td>6.397035926E7</td></tr><tr><td>43876172000136</td><td>EM FUNCIONAMENTO NORMAL</td><td>2022-03-08</td><td>null</td><td>4142252.66</td></tr><tr><td>43876638000101</td><td>EM FUNCIONAMENTO NORMAL</td><td>2022-03-08</td><td>null</td><td>4765027.17</td></tr><tr><td>42656644000182</td><td>EM FUNCIONAMENTO NORMAL</td><td>2022-03-08</td><td>null</td><td>1.186271469E7</td></tr><tr><td>02727085000130</td><td>EM FUNCIONAMENTO NORMAL</td><td>2022-04-09</td><td>null</td><td>1355673.91</td></tr><tr><td>45017499000188</td><td>EM FUNCIONAMENTO NORMAL</td><td>2022-04-19</td><td>0.1411</td><td>1.5016764159E8</td></tr><tr><td>45953169000102</td><td>EM FUNCIONAMENTO NORMAL</td><td>2022-05-02</td><td>0.0</td><td>4.505303154E7</td></tr><tr><td>44432479000100</td><td>EM FUNCIONAMENTO NORMAL</td><td>2022-05-06</td><td>0.2</td><td>2.6981060166E8</td></tr><tr><td>45018608000181</td><td>EM FUNCIONAMENTO NORMAL</td><td>2022-05-06</td><td>0.5</td><td>5.629107289E7</td></tr><tr><td>45018643000109</td><td>EM FUNCIONAMENTO NORMAL</td><td>2022-05-06</td><td>0.15</td><td>2.3769074663E8</td></tr><tr><td>44104852000102</td><td>EM FUNCIONAMENTO NORMAL</td><td>2022-06-21</td><td>5.0</td><td>8783097.76</td></tr><tr><td>46729394000114</td><td>EM FUNCIONAMENTO NORMAL</td><td>2022-07-04</td><td>5.0</td><td>3716137.24</td></tr><tr><td>00817677000117</td><td>EM FUNCIONAMENTO NORMAL</td><td>2005-03-17</td><td>0.45</td><td>2.2248789993E8</td></tr><tr><td>00819889000133</td><td>EM FUNCIONAMENTO NORMAL</td><td>2005-03-17</td><td>1.0</td><td>5.729872778E7</td></tr><tr><td>01147641000136</td><td>EM FUNCIONAMENTO NORMAL</td><td>2005-04-04</td><td>0.1775</td><td>5.4073140876E8</td></tr><tr><td>02539921000152</td><td>EM FUNCIONAMENTO NORMAL</td><td>2005-03-22</td><td>0.52</td><td>1.7849735231E8</td></tr><tr><td>02668201000197</td><td>EM FUNCIONAMENTO NORMAL</td><td>2005-03-22</td><td>0.1</td><td>1.59627950729E9</td></tr><tr><td>02918923000152</td><td>EM FUNCIONAMENTO NORMAL</td><td>2005-03-28</td><td>2.0</td><td>6269533.2</td></tr><tr><td>02918923000152</td><td>EM FUNCIONAMENTO NORMAL</td><td>2005-03-28</td><td>2.0</td><td>6269533.2</td></tr><tr><td>02918931000107</td><td>EM FUNCIONAMENTO NORMAL</td><td>2005-03-28</td><td>1.5</td><td>2.856408456E7</td></tr><tr><td>02918931000107</td><td>EM FUNCIONAMENTO NORMAL</td><td>2005-03-28</td><td>1.5</td><td>2.856408456E7</td></tr><tr><td>03499367000190</td><td>EM FUNCIONAMENTO NORMAL</td><td>2005-03-16</td><td>0.4</td><td>2.4029445984E8</td></tr><tr><td>04192419000143</td><td>EM FUNCIONAMENTO NORMAL</td><td>2005-03-15</td><td>0.8</td><td>3.735282279E7</td></tr><tr><td>05024659000100</td><td>EM FUNCIONAMENTO NORMAL</td><td>2005-03-16</td><td>1.1</td><td>1.445349547E7</td></tr><tr><td>05090727000120</td><td>EM FUNCIONAMENTO NORMAL</td><td>2005-03-16</td><td>0.15</td><td>6.3507335068E8</td></tr><tr><td>05104498000156</td><td>EM FUNCIONAMENTO NORMAL</td><td>2005-03-22</td><td>0.5</td><td>3.306740576E7</td></tr><tr><td>14951577000193</td><td>EM FUNCIONAMENTO NORMAL</td><td>2012-05-10</td><td>1.0</td><td>9.110146163E7</td></tr><tr><td>14951577000193</td><td>EM FUNCIONAMENTO NORMAL</td><td>2012-05-10</td><td>1.0</td><td>9.110146163E7</td></tr><tr><td>14167491000174</td><td>EM FUNCIONAMENTO NORMAL</td><td>2012-05-11</td><td>0.02</td><td>1.40077189908E9</td></tr><tr><td>14167550000104</td><td>EM FUNCIONAMENTO NORMAL</td><td>2012-05-11</td><td>0.0</td><td>6.28676712E7</td></tr><tr><td>12107669000166</td><td>EM FUNCIONAMENTO NORMAL</td><td>2012-06-01</td><td>0.02</td><td>2.38947988072E9</td></tr><tr><td>14171578000115</td><td>EM FUNCIONAMENTO NORMAL</td><td>2012-06-27</td><td>0.0</td><td>4.8652616313E8</td></tr><tr><td>16570371000149</td><td>EM FUNCIONAMENTO NORMAL</td><td>2012-08-01</td><td>2.0</td><td>2771984.61</td></tr><tr><td>16617593000170</td><td>EM FUNCIONAMENTO NORMAL</td><td>2012-08-02</td><td>2.5</td><td>1033528.17</td></tr><tr><td>16703203000184</td><td>EM FUNCIONAMENTO NORMAL</td><td>2013-01-16</td><td>0.75</td><td>2.673520825E7</td></tr><tr><td>17574820000190</td><td>EM FUNCIONAMENTO NORMAL</td><td>2013-02-28</td><td>0.3</td><td>1093018.92</td></tr><tr><td>17453850000148</td><td>EM FUNCIONAMENTO NORMAL</td><td>2013-04-17</td><td>1.0</td><td>1.19317094599E9</td></tr><tr><td>17517577000178</td><td>EM FUNCIONAMENTO NORMAL</td><td>2013-08-13</td><td>0.4</td><td>1.0133760388E8</td></tr><tr><td>18448137000179</td><td>EM FUNCIONAMENTO NORMAL</td><td>2013-09-16</td><td>2.5</td><td>4269177.58</td></tr><tr><td>17340392000130</td><td>EM FUNCIONAMENTO NORMAL</td><td>2014-03-07</td><td>0.3</td><td>3.9777181563E8</td></tr><tr><td>19831126000136</td><td>EM FUNCIONAMENTO NORMAL</td><td>2014-04-11</td><td>1.5</td><td>1.63386148491E9</td></tr><tr><td>20378135000100</td><td>EM FUNCIONAMENTO NORMAL</td><td>2014-08-06</td><td>0.17</td><td>1831833.56</td></tr><tr><td>17137984000150</td><td>EM FUNCIONAMENTO NORMAL</td><td>2014-09-11</td><td>0.02</td><td>3.06168632958E9</td></tr><tr><td>21185984000100</td><td>EM FUNCIONAMENTO NORMAL</td><td>2014-12-30</td><td>0.4</td><td>2.44843751283E9</td></tr><tr><td>20879578000177</td><td>EM FUNCIONAMENTO NORMAL</td><td>2015-01-07</td><td>0.5</td><td>1.36919468676E9</td></tr><tr><td>21596006000143</td><td>EM FUNCIONAMENTO NORMAL</td><td>2015-01-19</td><td>0.12</td><td>2.4057585479E8</td></tr><tr><td>21596006000143</td><td>EM FUNCIONAMENTO NORMAL</td><td>2015-01-19</td><td>0.12</td><td>2.4057585479E8</td></tr><tr><td>22773421000198</td><td>EM FUNCIONAMENTO NORMAL</td><td>2016-03-31</td><td>0.15</td><td>6.5478605936E8</td></tr><tr><td>24372158000150</td><td>EM FUNCIONAMENTO NORMAL</td><td>2016-04-15</td><td>0.08</td><td>2.362694434E7</td></tr><tr><td>22809036000153</td><td>EM FUNCIONAMENTO NORMAL</td><td>2016-06-20</td><td>0.8</td><td>1.396207214E7</td></tr><tr><td>26089666000151</td><td>EM FUNCIONAMENTO NORMAL</td><td>2016-10-31</td><td>0.38</td><td>1.0975836454E8</td></tr><tr><td>25108905000100</td><td>EM FUNCIONAMENTO NORMAL</td><td>2016-12-09</td><td>0.2</td><td>1.0448693463E8</td></tr><tr><td>05627929000169</td><td>EM FUNCIONAMENTO NORMAL</td><td>2005-04-04</td><td>0.12</td><td>1.15696028435E9</td></tr><tr><td>05754066000190</td><td>EM FUNCIONAMENTO NORMAL</td><td>2005-01-14</td><td>0.04</td><td>6.19662105094E9</td></tr><tr><td>05862906000139</td><td>EM FUNCIONAMENTO NORMAL</td><td>2005-05-30</td><td>0.34</td><td>5.0323263789E8</td></tr><tr><td>07110963000197</td><td>EM FUNCIONAMENTO NORMAL</td><td>2005-02-11</td><td>0.15</td><td>4.37176736875E9</td></tr><tr><td>07110975000111</td><td>EM FUNCIONAMENTO NORMAL</td><td>2005-02-11</td><td>0.0</td><td>4.37160324335E9</td></tr><tr><td>07657641000162</td><td>EM FUNCIONAMENTO NORMAL</td><td>2008-06-10</td><td>0.7</td><td>4572264.72</td></tr><tr><td>07672392000184</td><td>EM FUNCIONAMENTO NORMAL</td><td>2006-02-01</td><td>2.0</td><td>1.02713548E7</td></tr><tr><td>07939851000143</td><td>EM FUNCIONAMENTO NORMAL</td><td>2006-08-16</td><td>0.042</td><td>2.32051852498E9</td></tr><tr><td>07965741000156</td><td>EM FUNCIONAMENTO NORMAL</td><td>2006-06-27</td><td>0.7</td><td>7.937533818E7</td></tr><tr><td>08771975000125</td><td>EM FUNCIONAMENTO NORMAL</td><td>2007-10-25</td><td>0.11</td><td>6.38548976912E9</td></tr><tr><td>08815386000100</td><td>EM FUNCIONAMENTO NORMAL</td><td>2007-08-10</td><td>1.0</td><td>1.07168979E7</td></tr><tr><td>09087301000179</td><td>EM FUNCIONAMENTO NORMAL</td><td>2010-05-25</td><td>0.5</td><td>1.0942306922E8</td></tr><tr><td>09087483000188</td><td>EM FUNCIONAMENTO NORMAL</td><td>2010-01-11</td><td>2.0</td><td>1.720790888E7</td></tr><tr><td>09087523000191</td><td>EM FUNCIONAMENTO NORMAL</td><td>2010-01-11</td><td>2.5</td><td>4.066088248E7</td></tr><tr><td>09228836000112</td><td>EM FUNCIONAMENTO NORMAL</td><td>2008-01-07</td><td>0.0</td><td>6.4796950853E8</td></tr><tr><td>09284554000132</td><td>EM FUNCIONAMENTO NORMAL</td><td>2008-05-29</td><td>0.12</td><td>1.9105776934E8</td></tr><tr><td>09315625000117</td><td>EM FUNCIONAMENTO NORMAL</td><td>2008-07-08</td><td>1.0</td><td>1.213258701E7</td></tr><tr><td>07143386000130</td><td>EM FUNCIONAMENTO NORMAL</td><td>2004-11-16</td><td>null</td><td>614165.85</td></tr><tr><td>07144604000150</td><td>EM FUNCIONAMENTO NORMAL</td><td>2004-11-16</td><td>null</td><td>1479388.51</td></tr><tr><td>01356517000180</td><td>EM FUNCIONAMENTO NORMAL</td><td>1996-07-24</td><td>null</td><td>1.6878108439E8</td></tr><tr><td>01497954000114</td><td>EM FUNCIONAMENTO NORMAL</td><td>1996-10-02</td><td>null</td><td>1.5748424368E8</td></tr><tr><td>01964775000140</td><td>EM FUNCIONAMENTO NORMAL</td><td>1997-06-11</td><td>null</td><td>1484965.19</td></tr><tr><td>05437916000127</td><td>EM FUNCIONAMENTO NORMAL</td><td>2002-12-10</td><td>null</td><td>1.2664304161E8</td></tr><tr><td>11044355000107</td><td>EM FUNCIONAMENTO NORMAL</td><td>2010-08-09</td><td>null</td><td>2.2891833875E8</td></tr><tr><td>11326746000106</td><td>EM FUNCIONAMENTO NORMAL</td><td>2010-05-28</td><td>null</td><td>4.0682077271E8</td></tr><tr><td>17198500000182</td><td>EM FUNCIONAMENTO NORMAL</td><td>2012-12-13</td><td>null</td><td>1.6201099272E8</td></tr><tr><td>36731458000168</td><td>EM FUNCIONAMENTO NORMAL</td><td>2020-04-23</td><td>null</td><td>7.285187875E7</td></tr><tr><td>39347413000182</td><td>EM FUNCIONAMENTO NORMAL</td><td>2020-10-09</td><td>null</td><td>1.1619008593E8</td></tr><tr><td>41114606000135</td><td>EM FUNCIONAMENTO NORMAL</td><td>2021-03-09</td><td>null</td><td>2.3775015558E8</td></tr><tr><td>41081374000166</td><td>EM FUNCIONAMENTO NORMAL</td><td>2021-03-23</td><td>null</td><td>1.9196809526E8</td></tr><tr><td>36930464000144</td><td>EM FUNCIONAMENTO NORMAL</td><td>2021-04-09</td><td>null</td><td>6.7558202267E8</td></tr><tr><td>40054913000105</td><td>EM FUNCIONAMENTO NORMAL</td><td>2021-07-05</td><td>null</td><td>2.627733151E7</td></tr><tr><td>45254732000146</td><td>EM FUNCIONAMENTO NORMAL</td><td>2022-03-10</td><td>null</td><td>4.021983357E7</td></tr><tr><td>42692399000169</td><td>EM FUNCIONAMENTO NORMAL</td><td>2022-05-24</td><td>null</td><td>1.0249049754E8</td></tr><tr><td>27882134000130</td><td>EM FUNCIONAMENTO NORMAL</td><td>2017-10-23</td><td>null</td><td>8893011.84</td></tr><tr><td>30130708000128</td><td>EM FUNCIONAMENTO NORMAL</td><td>2018-04-13</td><td>null</td><td>2.76308112478E9</td></tr><tr><td>34598181000111</td><td>EM FUNCIONAMENTO NORMAL</td><td>2019-09-05</td><td>null</td><td>4.5200100067E8</td></tr><tr><td>34835191000123</td><td>EM FUNCIONAMENTO NORMAL</td><td>2019-09-23</td><td>null</td><td>1.3414947441E8</td></tr><tr><td>34736474000118</td><td>EM FUNCIONAMENTO NORMAL</td><td>2019-09-24</td><td>null</td><td>2.3678026753E8</td></tr><tr><td>14217108000145</td><td>EM FUNCIONAMENTO NORMAL</td><td>2011-11-16</td><td>null</td><td>3.2571111973E8</td></tr><tr><td>36098375000183</td><td>EM FUNCIONAMENTO NORMAL</td><td>2020-02-17</td><td>null</td><td>1.1786818176E8</td></tr><tr><td>36293425000183</td><td>EM FUNCIONAMENTO NORMAL</td><td>2020-02-19</td><td>null</td><td>6.693652613E7</td></tr><tr><td>36312772000106</td><td>EM FUNCIONAMENTO NORMAL</td><td>2020-02-18</td><td>null</td><td>5.120662227E7</td></tr><tr><td>32222912000102</td><td>EM FUNCIONAMENTO NORMAL</td><td>2018-12-21</td><td>null</td><td>2.950780867E7</td></tr><tr><td>33354650000194</td><td>EM FUNCIONAMENTO NORMAL</td><td>2019-07-15</td><td>null</td><td>2.328381297E8</td></tr><tr><td>44680435000108</td><td>EM FUNCIONAMENTO NORMAL</td><td>2022-09-27</td><td>null</td><td>3.678052558E7</td></tr><tr><td>44680449000113</td><td>EM FUNCIONAMENTO NORMAL</td><td>2022-10-20</td><td>null</td><td>8440299.75</td></tr><tr><td>48373428000106</td><td>EM FUNCIONAMENTO NORMAL</td><td>2022-12-09</td><td>null</td><td>5.447980275E7</td></tr><tr><td>48373413000148</td><td>EM FUNCIONAMENTO NORMAL</td><td>2022-12-09</td><td>null</td><td>2.7760247853E8</td></tr><tr><td>48389780000130</td><td>EM FUNCIONAMENTO NORMAL</td><td>2022-12-11</td><td>null</td><td>2.3977683304E8</td></tr><tr><td>48964604000184</td><td>EM FUNCIONAMENTO NORMAL</td><td>2022-12-22</td><td>null</td><td>1293504.85</td></tr><tr><td>49112611000110</td><td>EM FUNCIONAMENTO NORMAL</td><td>2023-01-09</td><td>null</td><td>9.927325637E7</td></tr><tr><td>49592781000140</td><td>EM FUNCIONAMENTO NORMAL</td><td>2023-02-14</td><td>null</td><td>3.469227758E8</td></tr><tr><td>16685929000131</td><td>EM FUNCIONAMENTO NORMAL</td><td>2023-02-13</td><td>null</td><td>6.2138924697E8</td></tr><tr><td>50275622000109</td><td>EM FUNCIONAMENTO NORMAL</td><td>2023-04-11</td><td>null</td><td>1.321802143E7</td></tr><tr><td>50399189000105</td><td>EM FUNCIONAMENTO NORMAL</td><td>2023-04-20</td><td>null</td><td>9.422244381E7</td></tr><tr><td>50750438000165</td><td>EM FUNCIONAMENTO NORMAL</td><td>2023-05-19</td><td>null</td><td>3.2397564865E8</td></tr><tr><td>50750438000165</td><td>EM FUNCIONAMENTO NORMAL</td><td>2023-05-19</td><td>null</td><td>3.2397564865E8</td></tr><tr><td>50808042000121</td><td>EM FUNCIONAMENTO NORMAL</td><td>2023-05-24</td><td>null</td><td>4.7699495571E8</td></tr><tr><td>51295092000115</td><td>EM FUNCIONAMENTO NORMAL</td><td>2023-07-04</td><td>null</td><td>2367149.05</td></tr><tr><td>51476870000172</td><td>EM FUNCIONAMENTO NORMAL</td><td>2023-07-19</td><td>null</td><td>1.0417893333E8</td></tr><tr><td>52324762000147</td><td>EM FUNCIONAMENTO NORMAL</td><td>2023-09-26</td><td>null</td><td>2.696179548E7</td></tr><tr><td>52356865000199</td><td>EM FUNCIONAMENTO NORMAL</td><td>2023-09-28</td><td>null</td><td>1.23030823E7</td></tr><tr><td>52116337000162</td><td>EM FUNCIONAMENTO NORMAL</td><td>2023-09-08</td><td>null</td><td>8.472435318E7</td></tr><tr><td>52116361000100</td><td>EM FUNCIONAMENTO NORMAL</td><td>2023-09-08</td><td>null</td><td>4.898758673E7</td></tr><tr><td>15296704000120</td><td>EM FUNCIONAMENTO NORMAL</td><td>2012-04-02</td><td>null</td><td>1.01364791999E9</td></tr><tr><td>15049586000156</td><td>EM FUNCIONAMENTO NORMAL</td><td>2012-03-23</td><td>null</td><td>2.11082293021E9</td></tr><tr><td>15437768000102</td><td>EM FUNCIONAMENTO NORMAL</td><td>2012-04-20</td><td>null</td><td>7.9155812445E8</td></tr><tr><td>16734970000150</td><td>EM FUNCIONAMENTO NORMAL</td><td>2012-08-23</td><td>null</td><td>1.1052978777E8</td></tr><tr><td>15018580000111</td><td>EM FUNCIONAMENTO NORMAL</td><td>2012-03-23</td><td>null</td><td>1.66052551369E9</td></tr><tr><td>14769978000127</td><td>EM FUNCIONAMENTO NORMAL</td><td>2011-12-30</td><td>null</td><td>7.1379670563E8</td></tr><tr><td>14067624000130</td><td>EM FUNCIONAMENTO NORMAL</td><td>2011-10-28</td><td>null</td><td>151818.15</td></tr><tr><td>14311936000148</td><td>EM FUNCIONAMENTO NORMAL</td><td>2011-09-23</td><td>null</td><td>5219076.0</td></tr><tr><td>09110175000126</td><td>EM FUNCIONAMENTO NORMAL</td><td>2007-12-28</td><td>null</td><td>1186684.99</td></tr><tr><td>11249598000173</td><td>EM FUNCIONAMENTO NORMAL</td><td>2009-11-11</td><td>null</td><td>3.8722679502E8</td></tr><tr><td>11283444000106</td><td>EM FUNCIONAMENTO NORMAL</td><td>2009-11-27</td><td>null</td><td>3.6677454088E8</td></tr><tr><td>12834634000129</td><td>EM FUNCIONAMENTO NORMAL</td><td>2010-10-18</td><td>null</td><td>372240.51</td></tr><tr><td>26545537000120</td><td>EM FUNCIONAMENTO NORMAL</td><td>2016-11-28</td><td>null</td><td>606645.44</td></tr><tr><td>24764405000164</td><td>EM FUNCIONAMENTO NORMAL</td><td>2016-04-18</td><td>null</td><td>1.0174597496E8</td></tr><tr><td>24874305000190</td><td>EM FUNCIONAMENTO NORMAL</td><td>2016-05-27</td><td>null</td><td>1.36746797716E9</td></tr><tr><td>24768711000179</td><td>EM FUNCIONAMENTO NORMAL</td><td>2016-05-18</td><td>null</td><td>8.304273561E7</td></tr><tr><td>24701488000142</td><td>EM FUNCIONAMENTO NORMAL</td><td>2016-05-11</td><td>null</td><td>1.9659790255E8</td></tr><tr><td>22802858000102</td><td>EM FUNCIONAMENTO NORMAL</td><td>2015-07-08</td><td>null</td><td>8.3315787709E8</td></tr><tr><td>22601577000191</td><td>EM FUNCIONAMENTO NORMAL</td><td>2015-07-02</td><td>null</td><td>1.17893921507E9</td></tr><tr><td>21917293000146</td><td>EM FUNCIONAMENTO NORMAL</td><td>2015-03-10</td><td>null</td><td>1002975.4</td></tr><tr><td>22219279000131</td><td>EM FUNCIONAMENTO NORMAL</td><td>2015-04-13</td><td>null</td><td>2.642569966E7</td></tr><tr><td>21613190000192</td><td>EM FUNCIONAMENTO NORMAL</td><td>2015-01-07</td><td>null</td><td>6.0198639572E8</td></tr><tr><td>21331225000109</td><td>EM FUNCIONAMENTO NORMAL</td><td>2015-02-10</td><td>null</td><td>-1519081.16</td></tr><tr><td>21254224000108</td><td>EM FUNCIONAMENTO NORMAL</td><td>2014-10-27</td><td>null</td><td>1.888978618E7</td></tr><tr><td>18356327000166</td><td>EM FUNCIONAMENTO NORMAL</td><td>2013-11-18</td><td>null</td><td>234978.48</td></tr><tr><td>18929680000198</td><td>EM FUNCIONAMENTO NORMAL</td><td>2013-09-25</td><td>null</td><td>4.144935435E7</td></tr><tr><td>18402048000191</td><td>EM FUNCIONAMENTO NORMAL</td><td>2013-07-02</td><td>null</td><td>571931.15</td></tr><tr><td>18579353000153</td><td>EM FUNCIONAMENTO NORMAL</td><td>2013-07-31</td><td>null</td><td>903374.56</td></tr><tr><td>18653128000110</td><td>EM FUNCIONAMENTO NORMAL</td><td>2013-08-13</td><td>null</td><td>1.0195178623E8</td></tr><tr><td>17213759000155</td><td>EM FUNCIONAMENTO NORMAL</td><td>2013-05-20</td><td>null</td><td>3.3243681215E8</td></tr><tr><td>36115022000144</td><td>EM FUNCIONAMENTO NORMAL</td><td>2020-08-05</td><td>null</td><td>1.5365185995E8</td></tr><tr><td>37087982000100</td><td>EM FUNCIONAMENTO NORMAL</td><td>2020-05-11</td><td>null</td><td>848377.45</td></tr><tr><td>37088071000106</td><td>EM FUNCIONAMENTO NORMAL</td><td>2020-05-11</td><td>null</td><td>2536455.66</td></tr><tr><td>41922654000150</td><td>EM FUNCIONAMENTO NORMAL</td><td>2021-05-18</td><td>null</td><td>6379347.37</td></tr><tr><td>40670750000195</td><td>EM FUNCIONAMENTO NORMAL</td><td>2021-04-07</td><td>null</td><td>6.35688417573E9</td></tr><tr><td>39976918000106</td><td>EM FUNCIONAMENTO NORMAL</td><td>2021-01-07</td><td>null</td><td>4.456082369E7</td></tr><tr><td>39784273000100</td><td>EM FUNCIONAMENTO NORMAL</td><td>2020-12-29</td><td>null</td><td>5.731666892E7</td></tr><tr><td>39581746000171</td><td>EM FUNCIONAMENTO NORMAL</td><td>2020-11-30</td><td>null</td><td>5.0317439628E8</td></tr><tr><td>40311750000107</td><td>EM FUNCIONAMENTO NORMAL</td><td>2021-06-24</td><td>null</td><td>3.132980961E7</td></tr><tr><td>35654738000157</td><td>EM FUNCIONAMENTO NORMAL</td><td>2021-08-02</td><td>null</td><td>2.0009135903E8</td></tr><tr><td>43236479000172</td><td>EM FUNCIONAMENTO NORMAL</td><td>2021-08-26</td><td>null</td><td>6553378.16</td></tr><tr><td>43236423000118</td><td>EM FUNCIONAMENTO NORMAL</td><td>2021-08-24</td><td>null</td><td>3.5631362132E8</td></tr><tr><td>42627796000157</td><td>EM FUNCIONAMENTO NORMAL</td><td>2021-09-17</td><td>null</td><td>3.3835810627E8</td></tr><tr><td>43619349000119</td><td>EM FUNCIONAMENTO NORMAL</td><td>2021-10-25</td><td>null</td><td>1.2222365812E8</td></tr><tr><td>42923073000103</td><td>EM FUNCIONAMENTO NORMAL</td><td>2021-10-15</td><td>null</td><td>2.001371535E7</td></tr><tr><td>38249518000136</td><td>EM FUNCIONAMENTO NORMAL</td><td>2021-12-15</td><td>null</td><td>3.238012743E7</td></tr><tr><td>39447231000183</td><td>EM FUNCIONAMENTO NORMAL</td><td>2021-11-26</td><td>null</td><td>5200416.53</td></tr><tr><td>44603407000189</td><td>EM FUNCIONAMENTO NORMAL</td><td>2021-12-22</td><td>null</td><td>3.501937318E7</td></tr><tr><td>42736004000182</td><td>EM FUNCIONAMENTO NORMAL</td><td>2021-12-29</td><td>null</td><td>1.114230683E7</td></tr><tr><td>44570797000138</td><td>EM FUNCIONAMENTO NORMAL</td><td>2021-12-30</td><td>null</td><td>2.158356741E7</td></tr><tr><td>43106870000152</td><td>EM FUNCIONAMENTO NORMAL</td><td>2022-04-19</td><td>null</td><td>6.917985972E7</td></tr><tr><td>44870636000160</td><td>EM FUNCIONAMENTO NORMAL</td><td>2022-04-22</td><td>null</td><td>1.5165212125E8</td></tr><tr><td>46268214000144</td><td>EM FUNCIONAMENTO NORMAL</td><td>2022-06-01</td><td>null</td><td>2.219077747E8</td></tr><tr><td>30687646000150</td><td>EM FUNCIONAMENTO NORMAL</td><td>2018-12-05</td><td>null</td><td>4.404450632E7</td></tr><tr><td>32140484000160</td><td>EM FUNCIONAMENTO NORMAL</td><td>2019-02-22</td><td>null</td><td>5.832228657E8</td></tr><tr><td>27368761000157</td><td>EM FUNCIONAMENTO NORMAL</td><td>2019-04-29</td><td>null</td><td>3.15840331E8</td></tr><tr><td>33240249000123</td><td>EM FUNCIONAMENTO NORMAL</td><td>2019-06-21</td><td>null</td><td>2.40766695662E9</td></tr><tr><td>32162536000108</td><td>EM FUNCIONAMENTO NORMAL</td><td>2019-05-15</td><td>null</td><td>4.685894751E7</td></tr><tr><td>31570611000107</td><td>EM FUNCIONAMENTO NORMAL</td><td>2018-10-03</td><td>null</td><td>6.7677066527E8</td></tr><tr><td>29315285000131</td><td>EM FUNCIONAMENTO NORMAL</td><td>2018-10-02</td><td>null</td><td>1.277059947E7</td></tr><tr><td>35725626000140</td><td>EM FUNCIONAMENTO NORMAL</td><td>2020-03-06</td><td>null</td><td>5.13615446257E9</td></tr><tr><td>34644159000160</td><td>EM FUNCIONAMENTO NORMAL</td><td>2019-11-04</td><td>null</td><td>3.7820675354E8</td></tr><tr><td>35137939000187</td><td>EM FUNCIONAMENTO NORMAL</td><td>2019-10-14</td><td>null</td><td>1.443323611E7</td></tr><tr><td>34509036000117</td><td>EM FUNCIONAMENTO NORMAL</td><td>2019-09-16</td><td>null</td><td>4.0174206574E8</td></tr><tr><td>30871738000195</td><td>EM FUNCIONAMENTO NORMAL</td><td>2018-07-18</td><td>null</td><td>386700.25</td></tr><tr><td>30871793000185</td><td>EM FUNCIONAMENTO NORMAL</td><td>2018-07-18</td><td>null</td><td>3.1417714954E8</td></tr><tr><td>29315301000196</td><td>EM FUNCIONAMENTO NORMAL</td><td>2018-04-03</td><td>null</td><td>4.3184203627E8</td></tr><tr><td>29843196000168</td><td>EM FUNCIONAMENTO NORMAL</td><td>2018-03-19</td><td>null</td><td>1.219411721E7</td></tr><tr><td>29323865000170</td><td>EM FUNCIONAMENTO NORMAL</td><td>2018-01-17</td><td>null</td><td>6.6743624658E8</td></tr><tr><td>27486551000163</td><td>EM FUNCIONAMENTO NORMAL</td><td>2017-06-02</td><td>null</td><td>604067.12</td></tr><tr><td>27486551000163</td><td>EM FUNCIONAMENTO NORMAL</td><td>2017-06-02</td><td>null</td><td>604067.12</td></tr><tr><td>27486551000163</td><td>EM FUNCIONAMENTO NORMAL</td><td>2017-06-02</td><td>null</td><td>604067.12</td></tr><tr><td>27486551000163</td><td>EM FUNCIONAMENTO NORMAL</td><td>2017-06-02</td><td>null</td><td>604067.12</td></tr><tr><td>12271294000175</td><td>EM FUNCIONAMENTO NORMAL</td><td>2010-09-23</td><td>null</td><td>1.1324594488E8</td></tr><tr><td>13451738000117</td><td>EM FUNCIONAMENTO NORMAL</td><td>2011-02-28</td><td>null</td><td>2.266803318E7</td></tr><tr><td>23700564000132</td><td>EM FUNCIONAMENTO NORMAL</td><td>2016-12-13</td><td>null</td><td>513510.04</td></tr><tr><td>23781192000116</td><td>EM FUNCIONAMENTO NORMAL</td><td>2016-12-19</td><td>null</td><td>3.09240810504E9</td></tr><tr><td>45788850000134</td><td>EM FUNCIONAMENTO NORMAL</td><td>2022-07-07</td><td>null</td><td>4.00889018885E9</td></tr><tr><td>47166761000181</td><td>EM FUNCIONAMENTO NORMAL</td><td>2022-07-21</td><td>null</td><td>9.443368023E7</td></tr><tr><td>39412078000159</td><td>EM FUNCIONAMENTO NORMAL</td><td>2022-08-24</td><td>null</td><td>1000846.18</td></tr><tr><td>44638527000111</td><td>EM FUNCIONAMENTO NORMAL</td><td>2022-10-21</td><td>null</td><td>1.758816632E7</td></tr><tr><td>44108111000191</td><td>EM FUNCIONAMENTO NORMAL</td><td>2022-10-06</td><td>null</td><td>2.7886747382E8</td></tr><tr><td>23120075000101</td><td>EM FUNCIONAMENTO NORMAL</td><td>2022-11-28</td><td>null</td><td>1438003.41</td></tr><tr><td>44638491000176</td><td>EM FUNCIONAMENTO NORMAL</td><td>2022-11-08</td><td>null</td><td>3.112389581E7</td></tr><tr><td>46282024000181</td><td>EM FUNCIONAMENTO NORMAL</td><td>2022-11-01</td><td>null</td><td>2668684.34</td></tr><tr><td>49637003000120</td><td>EM FUNCIONAMENTO NORMAL</td><td>2023-02-16</td><td>null</td><td>1.3042332071E8</td></tr><tr><td>49963885000113</td><td>EM FUNCIONAMENTO NORMAL</td><td>2023-03-16</td><td>null</td><td>5.4588945138E8</td></tr><tr><td>50226162000110</td><td>EM FUNCIONAMENTO NORMAL</td><td>2023-04-05</td><td>null</td><td>1559098.21</td></tr><tr><td>50071531000143</td><td>EM FUNCIONAMENTO NORMAL</td><td>2023-03-24</td><td>null</td><td>1.0044405434E8</td></tr><tr><td>49252656000190</td><td>EM FUNCIONAMENTO NORMAL</td><td>2023-01-19</td><td>null</td><td>7.4622659055E8</td></tr><tr><td>48992508000140</td><td>EM FUNCIONAMENTO NORMAL</td><td>2022-12-28</td><td>null</td><td>1.149394909E7</td></tr><tr><td>48900133000140</td><td>EM FUNCIONAMENTO NORMAL</td><td>2022-12-15</td><td>null</td><td>5.9156535139E8</td></tr><tr><td>46778844000169</td><td>EM FUNCIONAMENTO NORMAL</td><td>2022-12-09</td><td>null</td><td>1.8557583749E8</td></tr><tr><td>46778844000169</td><td>EM FUNCIONAMENTO NORMAL</td><td>2022-12-09</td><td>null</td><td>1.8557583749E8</td></tr><tr><td>46782474000133</td><td>EM FUNCIONAMENTO NORMAL</td><td>2022-12-09</td><td>null</td><td>1.05489145E7</td></tr><tr><td>47463511000103</td><td>EM FUNCIONAMENTO NORMAL</td><td>2022-12-09</td><td>null</td><td>4402769.94</td></tr><tr><td>48328958000132</td><td>EM FUNCIONAMENTO NORMAL</td><td>2022-12-08</td><td>null</td><td>981206.52</td></tr><tr><td>46780646000130</td><td>EM FUNCIONAMENTO NORMAL</td><td>2022-12-08</td><td>null</td><td>9.50403465E7</td></tr><tr><td>47983885000150</td><td>EM FUNCIONAMENTO NORMAL</td><td>2022-12-08</td><td>null</td><td>1.046652606E8</td></tr><tr><td>51804355000174</td><td>EM FUNCIONAMENTO NORMAL</td><td>2023-08-14</td><td>null</td><td>1.575957148E7</td></tr><tr><td>51339815000130</td><td>EM FUNCIONAMENTO NORMAL</td><td>2023-07-07</td><td>null</td><td>8.179266377E7</td></tr><tr><td>51033013000106</td><td>EM FUNCIONAMENTO NORMAL</td><td>2023-06-13</td><td>null</td><td>4224343.58</td></tr><tr><td>28850140000178</td><td>EM FUNCIONAMENTO NORMAL</td><td>2017-10-16</td><td>null</td><td>2.140063824E7</td></tr><tr><td>06905783000139</td><td>EM FUNCIONAMENTO NORMAL</td><td>2004-12-30</td><td>null</td><td>1.959792432E7</td></tr><tr><td>06905783000139</td><td>EM FUNCIONAMENTO NORMAL</td><td>2004-12-30</td><td>null</td><td>1.959792432E7</td></tr><tr><td>07644864000195</td><td>EM FUNCIONAMENTO NORMAL</td><td>2005-12-27</td><td>null</td><td>1248536.18</td></tr><tr><td>10500895000187</td><td>EM FUNCIONAMENTO NORMAL</td><td>2008-12-02</td><td>null</td><td>1.123352714E7</td></tr><tr><td>07766151000102</td><td>EM FUNCIONAMENTO NORMAL</td><td>2006-01-09</td><td>null</td><td>0.0</td></tr><tr><td>32295244000135</td><td>EM FUNCIONAMENTO NORMAL</td><td>2019-12-26</td><td>null</td><td>3902898.13</td></tr><tr><td>35686949000171</td><td>EM FUNCIONAMENTO NORMAL</td><td>2019-12-19</td><td>null</td><td>1.959861874E7</td></tr><tr><td>32907653000145</td><td>EM FUNCIONAMENTO NORMAL</td><td>2019-11-26</td><td>null</td><td>2.372881091E7</td></tr><tr><td>34553995000130</td><td>EM FUNCIONAMENTO NORMAL</td><td>2019-11-25</td><td>null</td><td>8900515.53</td></tr><tr><td>28296597000182</td><td>EM FUNCIONAMENTO NORMAL</td><td>2018-06-07</td><td>null</td><td>5.316074455E7</td></tr><tr><td>28796986000177</td><td>EM FUNCIONAMENTO NORMAL</td><td>2018-04-27</td><td>null</td><td>1.0377110259E8</td></tr><tr><td>28849641000134</td><td>EM FUNCIONAMENTO NORMAL</td><td>2018-03-19</td><td>null</td><td>3.043454345E7</td></tr><tr><td>28240255000140</td><td>EM FUNCIONAMENTO NORMAL</td><td>2017-08-30</td><td>null</td><td>7.533099041E7</td></tr><tr><td>28240255000140</td><td>EM FUNCIONAMENTO NORMAL</td><td>2017-08-30</td><td>null</td><td>7.533099041E7</td></tr><tr><td>28240255000140</td><td>EM FUNCIONAMENTO NORMAL</td><td>2017-08-30</td><td>null</td><td>7.533099041E7</td></tr><tr><td>28240255000140</td><td>EM FUNCIONAMENTO NORMAL</td><td>2017-08-30</td><td>null</td><td>7.533099041E7</td></tr><tr><td>27938258000190</td><td>EM FUNCIONAMENTO NORMAL</td><td>2017-07-11</td><td>null</td><td>1.061673687E7</td></tr><tr><td>27531244000157</td><td>EM FUNCIONAMENTO NORMAL</td><td>2017-06-29</td><td>null</td><td>2.437109633E7</td></tr><tr><td>26452257000178</td><td>EM FUNCIONAMENTO NORMAL</td><td>2017-06-12</td><td>null</td><td>5.502430724E7</td></tr><tr><td>26452257000178</td><td>EM FUNCIONAMENTO NORMAL</td><td>2017-06-12</td><td>null</td><td>5.502430724E7</td></tr><tr><td>27531301000106</td><td>EM FUNCIONAMENTO NORMAL</td><td>2017-05-29</td><td>null</td><td>4.730974917E7</td></tr><tr><td>27531301000106</td><td>EM FUNCIONAMENTO NORMAL</td><td>2017-05-29</td><td>null</td><td>4.730974917E7</td></tr><tr><td>27531301000106</td><td>EM FUNCIONAMENTO NORMAL</td><td>2017-05-29</td><td>null</td><td>4.730974917E7</td></tr><tr><td>27531301000106</td><td>EM FUNCIONAMENTO NORMAL</td><td>2017-05-29</td><td>null</td><td>4.730974917E7</td></tr><tr><td>08621199000187</td><td>EM FUNCIONAMENTO NORMAL</td><td>2016-01-04</td><td>null</td><td>1.6182787373E8</td></tr><tr><td>09194841000151</td><td>EM FUNCIONAMENTO NORMAL</td><td>2007-11-30</td><td>null</td><td>1.8033292672E8</td></tr><tr><td>21838483000178</td><td>EM FUNCIONAMENTO NORMAL</td><td>2015-08-19</td><td>null</td><td>5.108677452E8</td></tr><tr><td>45521649000196</td><td>EM FUNCIONAMENTO NORMAL</td><td>2022-06-21</td><td>null</td><td>2.304282834E8</td></tr><tr><td>45018961000161</td><td>EM FUNCIONAMENTO NORMAL</td><td>2022-05-30</td><td>null</td><td>2.532663374E7</td></tr><tr><td>45693226000153</td><td>EM FUNCIONAMENTO NORMAL</td><td>2022-05-23</td><td>null</td><td>6543725.97</td></tr><tr><td>45018911000184</td><td>EM FUNCIONAMENTO NORMAL</td><td>2022-05-11</td><td>null</td><td>1.774384956E7</td></tr><tr><td>45722284000168</td><td>EM FUNCIONAMENTO NORMAL</td><td>2022-04-17</td><td>null</td><td>1.502939107E7</td></tr><tr><td>43721652000128</td><td>EM FUNCIONAMENTO NORMAL</td><td>2022-03-31</td><td>null</td><td>3.0567678483E8</td></tr><tr><td>44680388000194</td><td>EM FUNCIONAMENTO NORMAL</td><td>2022-03-25</td><td>null</td><td>2.483847192E7</td></tr><tr><td>45019108000164</td><td>EM FUNCIONAMENTO NORMAL</td><td>2022-03-23</td><td>null</td><td>1.342890732E7</td></tr><tr><td>42357817000161</td><td>EM FUNCIONAMENTO NORMAL</td><td>2022-03-08</td><td>null</td><td>4.645220263E7</td></tr><tr><td>45019040000113</td><td>EM FUNCIONAMENTO NORMAL</td><td>2022-02-14</td><td>null</td><td>6.581121408E7</td></tr><tr><td>37651102000187</td><td>EM FUNCIONAMENTO NORMAL</td><td>2022-02-02</td><td>null</td><td>1.1047891301E8</td></tr><tr><td>44680424000110</td><td>EM FUNCIONAMENTO NORMAL</td><td>2022-01-21</td><td>null</td><td>5.152904921E7</td></tr><tr><td>44177436000126</td><td>EM FUNCIONAMENTO NORMAL</td><td>2022-01-03</td><td>null</td><td>4.0055315568E8</td></tr><tr><td>41579637000161</td><td>EM FUNCIONAMENTO NORMAL</td><td>2021-12-07</td><td>null</td><td>1.7672430245E8</td></tr><tr><td>43648593000100</td><td>EM FUNCIONAMENTO NORMAL</td><td>2021-12-02</td><td>null</td><td>1.462862316E7</td></tr><tr><td>42700668000191</td><td>EM FUNCIONAMENTO NORMAL</td><td>2021-11-29</td><td>null</td><td>6.589757045E7</td></tr><tr><td>43616501000100</td><td>EM FUNCIONAMENTO NORMAL</td><td>2021-09-27</td><td>null</td><td>4.9763847452E8</td></tr><tr><td>42860984000120</td><td>EM FUNCIONAMENTO NORMAL</td><td>2021-08-30</td><td>null</td><td>9393138.14</td></tr><tr><td>41557609000143</td><td>EM FUNCIONAMENTO NORMAL</td><td>2021-09-06</td><td>null</td><td>4.542439587E7</td></tr><tr><td>42196346000157</td><td>EM FUNCIONAMENTO NORMAL</td><td>2021-08-09</td><td>null</td><td>2.847891431E7</td></tr><tr><td>32321319000105</td><td>EM FUNCIONAMENTO NORMAL</td><td>2021-07-23</td><td>null</td><td>1215227.93</td></tr><tr><td>40211684000195</td><td>EM FUNCIONAMENTO NORMAL</td><td>2021-02-08</td><td>null</td><td>8814320.26</td></tr><tr><td>36412972000130</td><td>EM FUNCIONAMENTO NORMAL</td><td>2020-09-10</td><td>null</td><td>5156801.75</td></tr><tr><td>36412972000130</td><td>EM FUNCIONAMENTO NORMAL</td><td>2020-09-10</td><td>null</td><td>5156801.75</td></tr><tr><td>36741161000183</td><td>EM FUNCIONAMENTO NORMAL</td><td>2020-07-16</td><td>null</td><td>4.605274238E7</td></tr><tr><td>36741133000166</td><td>EM FUNCIONAMENTO NORMAL</td><td>2020-06-30</td><td>null</td><td>5.3346384692E8</td></tr><tr><td>33498764000108</td><td>EM FUNCIONAMENTO NORMAL</td><td>2020-05-26</td><td>null</td><td>1.465456113E7</td></tr><tr><td>34691300000186</td><td>EM FUNCIONAMENTO NORMAL</td><td>2020-04-13</td><td>null</td><td>1.567930715E7</td></tr><tr><td>52349539000154</td><td>EM FUNCIONAMENTO NORMAL</td><td>2023-09-28</td><td>null</td><td>1.994651913E7</td></tr><tr><td>52174102000127</td><td>EM FUNCIONAMENTO NORMAL</td><td>2023-09-13</td><td>null</td><td>2.6102811665E8</td></tr><tr><td>52112338000139</td><td>EM FUNCIONAMENTO NORMAL</td><td>2023-09-08</td><td>null</td><td>3.965763331E7</td></tr><tr><td>52073804000114</td><td>EM FUNCIONAMENTO NORMAL</td><td>2023-09-04</td><td>null</td><td>2.2672389056E8</td></tr><tr><td>52069691000183</td><td>EM FUNCIONAMENTO NORMAL</td><td>2023-09-04</td><td>null</td><td>7.4204001813E8</td></tr><tr><td>51539073000197</td><td>EM FUNCIONAMENTO NORMAL</td><td>2023-07-24</td><td>null</td><td>1.952326898E7</td></tr><tr><td>51292131000120</td><td>EM FUNCIONAMENTO NORMAL</td><td>2023-07-04</td><td>null</td><td>1.0623895649E8</td></tr><tr><td>51199121000145</td><td>EM FUNCIONAMENTO NORMAL</td><td>2023-06-27</td><td>null</td><td>3575207.71</td></tr><tr><td>50995214000113</td><td>EM FUNCIONAMENTO NORMAL</td><td>2023-06-09</td><td>null</td><td>9.75194172E7</td></tr><tr><td>50963249000170</td><td>EM FUNCIONAMENTO NORMAL</td><td>2023-06-06</td><td>null</td><td>1.0079293942E8</td></tr><tr><td>50948092000104</td><td>EM FUNCIONAMENTO NORMAL</td><td>2023-06-05</td><td>null</td><td>2.04266121E7</td></tr><tr><td>50948197000163</td><td>EM FUNCIONAMENTO NORMAL</td><td>2023-06-05</td><td>null</td><td>990299.19</td></tr><tr><td>50818107000110</td><td>EM FUNCIONAMENTO NORMAL</td><td>2023-05-25</td><td>null</td><td>0.0</td></tr><tr><td>50555281000117</td><td>EM FUNCIONAMENTO NORMAL</td><td>2023-05-04</td><td>null</td><td>1.67105102E7</td></tr><tr><td>50462226000182</td><td>EM FUNCIONAMENTO NORMAL</td><td>2023-04-26</td><td>null</td><td>4.470830981E7</td></tr><tr><td>50312715000158</td><td>EM FUNCIONAMENTO NORMAL</td><td>2023-04-13</td><td>null</td><td>1.7484117954E8</td></tr><tr><td>50311731000126</td><td>EM FUNCIONAMENTO NORMAL</td><td>2023-04-13</td><td>null</td><td>5.484187399E7</td></tr><tr><td>50184026000105</td><td>EM FUNCIONAMENTO NORMAL</td><td>2023-04-03</td><td>null</td><td>3.390548606E7</td></tr><tr><td>50153414000129</td><td>EM FUNCIONAMENTO NORMAL</td><td>2023-03-30</td><td>null</td><td>3.44638365E7</td></tr><tr><td>49974540000165</td><td>EM FUNCIONAMENTO NORMAL</td><td>2023-03-17</td><td>null</td><td>3.398203665E7</td></tr><tr><td>49963418000193</td><td>EM FUNCIONAMENTO NORMAL</td><td>2023-03-16</td><td>null</td><td>1.9358058271E8</td></tr><tr><td>47388724000118</td><td>EM FUNCIONAMENTO NORMAL</td><td>2023-02-28</td><td>null</td><td>435374.17</td></tr><tr><td>49920326000126</td><td>EM FUNCIONAMENTO NORMAL</td><td>2023-03-13</td><td>null</td><td>1.9054992806E8</td></tr><tr><td>49223648000116</td><td>EM FUNCIONAMENTO NORMAL</td><td>2023-01-17</td><td>null</td><td>0.0</td></tr><tr><td>49176545000142</td><td>EM FUNCIONAMENTO NORMAL</td><td>2023-01-13</td><td>null</td><td>2.344639181E7</td></tr><tr><td>47279999000113</td><td>EM FUNCIONAMENTO NORMAL</td><td>2022-12-09</td><td>null</td><td>6010936.16</td></tr><tr><td>20998989000181</td><td>EM FUNCIONAMENTO NORMAL</td><td>2022-12-06</td><td>null</td><td>1.223790679E7</td></tr><tr><td>48502650000161</td><td>EM FUNCIONAMENTO NORMAL</td><td>2022-11-30</td><td>null</td><td>2.742365066E7</td></tr><tr><td>48513136000121</td><td>EM FUNCIONAMENTO NORMAL</td><td>2022-11-18</td><td>null</td><td>1.384308465E7</td></tr><tr><td>42196361000103</td><td>EM FUNCIONAMENTO NORMAL</td><td>2022-11-04</td><td>null</td><td>1726899.04</td></tr><tr><td>46929959000107</td><td>EM FUNCIONAMENTO NORMAL</td><td>2022-10-31</td><td>null</td><td>7.261654725E7</td></tr><tr><td>45521676000169</td><td>EM FUNCIONAMENTO NORMAL</td><td>2022-10-27</td><td>null</td><td>3.5515348358E8</td></tr><tr><td>45899745000172</td><td>EM FUNCIONAMENTO NORMAL</td><td>2022-10-25</td><td>null</td><td>1.0580562099E8</td></tr><tr><td>46929994000126</td><td>EM FUNCIONAMENTO NORMAL</td><td>2022-10-24</td><td>null</td><td>3.679685417E7</td></tr><tr><td>45899460000131</td><td>EM FUNCIONAMENTO NORMAL</td><td>2022-09-28</td><td>null</td><td>5.143766779E7</td></tr><tr><td>46557432000107</td><td>EM FUNCIONAMENTO NORMAL</td><td>2022-07-07</td><td>null</td><td>4120348.03</td></tr><tr><td>47372688000102</td><td>EM FUNCIONAMENTO NORMAL</td><td>2022-08-30</td><td>null</td><td>3361933.07</td></tr><tr><td>45019002000160</td><td>EM FUNCIONAMENTO NORMAL</td><td>2022-08-09</td><td>null</td><td>4.81126398E7</td></tr><tr><td>45899588000103</td><td>EM FUNCIONAMENTO NORMAL</td><td>2022-08-03</td><td>null</td><td>1268242.73</td></tr><tr><td>45721977000136</td><td>EM FUNCIONAMENTO NORMAL</td><td>2022-07-19</td><td>null</td><td>1.7123149245E8</td></tr><tr><td>06537068000190</td><td>EM FUNCIONAMENTO NORMAL</td><td>2004-08-02</td><td>null</td><td>1260.7</td></tr><tr><td>07408147000164</td><td>EM FUNCIONAMENTO NORMAL</td><td>2005-04-11</td><td>null</td><td>19103.37</td></tr><tr><td>12239939000192</td><td>EM FUNCIONAMENTO NORMAL</td><td>2011-09-21</td><td>2.02</td><td>6.55877165E7</td></tr><tr><td>12241282000106</td><td>EM FUNCIONAMENTO NORMAL</td><td>2011-09-22</td><td>0.02</td><td>6.542651389E7</td></tr><tr><td>14167479000160</td><td>EM FUNCIONAMENTO NORMAL</td><td>2011-10-21</td><td>1.2</td><td>2.687507781E7</td></tr><tr><td>06985322000113</td><td>EM FUNCIONAMENTO NORMAL</td><td>2012-03-08</td><td>32.0</td><td>1.7911641871E8</td></tr></tbody></table></div>"
      ]
     },
     "metadata": {
      "application/vnd.databricks.v1+output": {
       "addedWidgets": {},
       "aggData": [],
       "aggError": "",
       "aggOverflow": false,
       "aggSchema": [],
       "aggSeriesLimitReached": false,
       "aggType": "",
       "arguments": {},
       "columnCustomDisplayInfos": {},
       "data": [
        [
         "09636393000107",
         "EM FUNCIONAMENTO NORMAL",
         "2008-09-03",
         0.35,
         8.39063605223E9
        ],
        [
         "09636619000161",
         "EM FUNCIONAMENTO NORMAL",
         "2008-10-02",
         0.22,
         7.7668289759E8
        ],
        [
         "09720710000160",
         "EM FUNCIONAMENTO NORMAL",
         "2008-09-26",
         8.0,
         2.6752782021E8
        ],
        [
         "11108013000103",
         "EM FUNCIONAMENTO NORMAL",
         "2009-09-25",
         2.0,
         8.337165502E7
        ],
        [
         "11147668000182",
         "EM FUNCIONAMENTO NORMAL",
         "2010-06-16",
         0.7,
         1.8697626529E8
        ],
        [
         "11769285000146",
         "EM FUNCIONAMENTO NORMAL",
         "2010-07-23",
         0.58,
         2.66385730905E9
        ],
        [
         "12107422000140",
         "EM FUNCIONAMENTO NORMAL",
         "2011-09-06",
         0.8,
         1.9252269085E8
        ],
        [
         "12124044000102",
         "EM FUNCIONAMENTO NORMAL",
         "2010-08-26",
         1.5,
         5.5395629203E8
        ],
        [
         "12124044000102",
         "EM FUNCIONAMENTO NORMAL",
         "2010-08-26",
         1.5,
         5.5395629203E8
        ],
        [
         "13243834000170",
         "EM FUNCIONAMENTO NORMAL",
         "2011-03-01",
         null,
         null
        ],
        [
         "97543707000186",
         "EM FUNCIONAMENTO NORMAL",
         "2011-08-31",
         0.0,
         2.0799783775E8
        ],
        [
         "46628381000159",
         "EM FUNCIONAMENTO NORMAL",
         "2022-07-19",
         null,
         6774129.91
        ],
        [
         "46334681000125",
         "EM FUNCIONAMENTO NORMAL",
         "2022-07-21",
         null,
         1.049761399E7
        ],
        [
         "47033209000115",
         "EM FUNCIONAMENTO NORMAL",
         "2022-07-28",
         null,
         8.58764167E7
        ],
        [
         "47372720000141",
         "EM FUNCIONAMENTO NORMAL",
         "2022-08-09",
         null,
         3.160091085E7
        ],
        [
         "41751844000151",
         "EM FUNCIONAMENTO NORMAL",
         "2022-07-14",
         null,
         0.0
        ],
        [
         "45908200000185",
         "EM FUNCIONAMENTO NORMAL",
         "2022-08-26",
         null,
         5335302.04
        ],
        [
         "47372648000152",
         "EM FUNCIONAMENTO NORMAL",
         "2022-08-30",
         null,
         2671425.13
        ],
        [
         "44428806000150",
         "EM FUNCIONAMENTO NORMAL",
         "2022-09-25",
         null,
         1.2377297921E8
        ],
        [
         "44428854000149",
         "EM FUNCIONAMENTO NORMAL",
         "2022-09-25",
         null,
         1.217224301E8
        ],
        [
         "47716415000120",
         "EM FUNCIONAMENTO NORMAL",
         "2022-10-07",
         1.2,
         3.920949699E7
        ],
        [
         "47085583000164",
         "EM FUNCIONAMENTO NORMAL",
         "2022-10-18",
         null,
         9.948267096E7
        ],
        [
         "47423757000151",
         "EM FUNCIONAMENTO NORMAL",
         "2022-10-20",
         65.0,
         3.280304342E8
        ],
        [
         "45908305000134",
         "EM FUNCIONAMENTO NORMAL",
         "2022-11-22",
         null,
         1.6483529491E8
        ],
        [
         "47984249000142",
         "EM FUNCIONAMENTO NORMAL",
         "2022-11-30",
         null,
         3676461.59
        ],
        [
         "45823709000125",
         "EM FUNCIONAMENTO NORMAL",
         "2022-12-08",
         1.0,
         1.55511045E7
        ],
        [
         "48993165000138",
         "EM FUNCIONAMENTO NORMAL",
         "2022-12-28",
         0.0,
         5.34157357E7
        ],
        [
         "48996079000189",
         "EM FUNCIONAMENTO NORMAL",
         "2022-12-28",
         null,
         7.640086935E7
        ],
        [
         "48996311000189",
         "EM FUNCIONAMENTO NORMAL",
         "2022-12-28",
         null,
         7635102.32
        ],
        [
         "49224039000181",
         "EM FUNCIONAMENTO NORMAL",
         "2023-01-17",
         null,
         4801607.67
        ],
        [
         "19424677000185",
         "EM FUNCIONAMENTO NORMAL",
         "2023-02-01",
         2500.0,
         1.219515785E7
        ],
        [
         "49429700000195",
         "EM FUNCIONAMENTO NORMAL",
         "2023-02-01",
         0.0,
         6.534461901E7
        ],
        [
         "49506998000190",
         "EM FUNCIONAMENTO NORMAL",
         "2023-02-07",
         0.3,
         2.70401677E7
        ],
        [
         "49651132000172",
         "EM FUNCIONAMENTO NORMAL",
         "2023-02-17",
         null,
         4.237867217E7
        ],
        [
         "49651181000105",
         "EM FUNCIONAMENTO NORMAL",
         "2023-02-17",
         null,
         4.232100033E7
        ],
        [
         "49651212000128",
         "EM FUNCIONAMENTO NORMAL",
         "2023-02-17",
         null,
         4.30252098E7
        ],
        [
         "49651245000178",
         "EM FUNCIONAMENTO NORMAL",
         "2023-02-17",
         null,
         1.236116204E7
        ],
        [
         "49733651000180",
         "EM FUNCIONAMENTO NORMAL",
         "2023-02-27",
         0.08,
         1.222186178E7
        ],
        [
         "49914023000109",
         "EM FUNCIONAMENTO NORMAL",
         "2023-03-13",
         0.0,
         1.6773497207E8
        ],
        [
         "49995610000161",
         "EM FUNCIONAMENTO NORMAL",
         "2023-03-20",
         25.0,
         4.5087550965E8
        ],
        [
         "49983891000132",
         "EM FUNCIONAMENTO NORMAL",
         "2023-03-17",
         null,
         2.5731731862E8
        ],
        [
         "49983964000196",
         "EM FUNCIONAMENTO NORMAL",
         "2023-03-17",
         null,
         7.2397634306E8
        ],
        [
         "50051913000105",
         "EM FUNCIONAMENTO NORMAL",
         "2023-03-23",
         null,
         5.455316553E7
        ],
        [
         "50152676000179",
         "EM FUNCIONAMENTO NORMAL",
         "2023-03-30",
         null,
         3.473794755E7
        ],
        [
         "50191107000132",
         "EM FUNCIONAMENTO NORMAL",
         "2023-04-03",
         null,
         1.7628287032E8
        ],
        [
         "50197313000150",
         "EM FUNCIONAMENTO NORMAL",
         "2023-04-04",
         45.0,
         2.1369438278E8
        ],
        [
         "50269714000178",
         "EM FUNCIONAMENTO NORMAL",
         "2023-04-11",
         null,
         3.4081955309E8
        ],
        [
         "50443649000155",
         "EM FUNCIONAMENTO NORMAL",
         "2023-04-25",
         null,
         2.0747074698E8
        ],
        [
         "50587789000105",
         "EM FUNCIONAMENTO NORMAL",
         "2023-05-08",
         null,
         8.21327176E7
        ],
        [
         "50943777000168",
         "EM FUNCIONAMENTO NORMAL",
         "2023-06-05",
         null,
         2.986653305E7
        ],
        [
         "50946637000143",
         "EM FUNCIONAMENTO NORMAL",
         "2023-06-05",
         null,
         1.636318291E7
        ],
        [
         "51029588000147",
         "EM FUNCIONAMENTO NORMAL",
         "2023-06-13",
         0.0,
         4.7998655265E8
        ],
        [
         "51305991000151",
         "EM FUNCIONAMENTO NORMAL",
         "2023-07-05",
         0.695,
         4.317146516E7
        ],
        [
         "51777660000114",
         "EM FUNCIONAMENTO NORMAL",
         "2023-08-11",
         null,
         3.087888276E7
        ],
        [
         "52317521000170",
         "EM FUNCIONAMENTO NORMAL",
         "2023-09-26",
         null,
         4511806.83
        ],
        [
         "52317938000133",
         "EM FUNCIONAMENTO NORMAL",
         "2023-09-26",
         null,
         3257185.51
        ],
        [
         "09234078000145",
         "EM FUNCIONAMENTO NORMAL",
         "2008-06-04",
         null,
         1.16737717074E10
        ],
        [
         "14166140000149",
         "EM FUNCIONAMENTO NORMAL",
         "2012-01-18",
         null,
         1.29401414112E9
        ],
        [
         "26862104000107",
         "EM FUNCIONAMENTO NORMAL",
         "2017-03-07",
         5.0,
         1.055678005E7
        ],
        [
         "12586174000167",
         "EM FUNCIONAMENTO NORMAL",
         "2016-10-20",
         null,
         4.782494499E7
        ],
        [
         "27826059000190",
         "EM FUNCIONAMENTO NORMAL",
         "2017-10-23",
         0.6,
         2.1715571911E8
        ],
        [
         "28549930000118",
         "EM FUNCIONAMENTO NORMAL",
         "2017-12-07",
         null,
         9.3356381139E8
        ],
        [
         "26845868000186",
         "EM FUNCIONAMENTO NORMAL",
         "2018-02-19",
         1.515,
         1265664.58
        ],
        [
         "30282227000138",
         "EM FUNCIONAMENTO NORMAL",
         "2018-10-30",
         4.0,
         3.957397425E7
        ],
        [
         "30282270000101",
         "EM FUNCIONAMENTO NORMAL",
         "2018-12-19",
         5.0E-4,
         6.26435857544E9
        ],
        [
         "28320756000137",
         "EM FUNCIONAMENTO NORMAL",
         "2019-01-17",
         0.5,
         3.03561141071E9
        ],
        [
         "29881003000163",
         "EM FUNCIONAMENTO NORMAL",
         "2019-01-23",
         0.01,
         4.9264134473E8
        ],
        [
         "32244578000180",
         "EM FUNCIONAMENTO NORMAL",
         "2019-02-11",
         null,
         3.398212742E7
        ],
        [
         "32203308000120",
         "EM FUNCIONAMENTO NORMAL",
         "2019-03-26",
         0.38,
         2.0211663737E8
        ],
        [
         "32222722000187",
         "EM FUNCIONAMENTO NORMAL",
         "2019-04-03",
         0.25,
         1.88152272607E9
        ],
        [
         "29315243000109",
         "EM FUNCIONAMENTO NORMAL",
         "2019-03-18",
         2.0,
         9.0170094276E8
        ],
        [
         "31963246000192",
         "EM FUNCIONAMENTO NORMAL",
         "2019-03-18",
         2.0,
         2488248.35
        ],
        [
         "32222759000105",
         "EM FUNCIONAMENTO NORMAL",
         "2019-06-18",
         0.065,
         2.04240363E7
        ],
        [
         "33361831000148",
         "EM FUNCIONAMENTO NORMAL",
         "2019-06-18",
         0.9,
         1.94939777E7
        ],
        [
         "33361923000128",
         "EM FUNCIONAMENTO NORMAL",
         "2019-06-18",
         0.065,
         6.077961322E7
        ],
        [
         "33361798000156",
         "EM FUNCIONAMENTO NORMAL",
         "2019-06-18",
         0.8,
         7575485.02
        ],
        [
         "33361873000189",
         "EM FUNCIONAMENTO NORMAL",
         "2019-06-18",
         0.07,
         6.562865568E7
        ],
        [
         "33361657000133",
         "EM FUNCIONAMENTO NORMAL",
         "2019-06-18",
         0.9,
         2.522218995E7
        ],
        [
         "28065477000174",
         "EM FUNCIONAMENTO NORMAL",
         "2019-08-02",
         null,
         3.6033615272E8
        ],
        [
         "34617291000183",
         "EM FUNCIONAMENTO NORMAL",
         "2019-09-11",
         855.0,
         5018082.48
        ],
        [
         "33429343000125",
         "EM FUNCIONAMENTO NORMAL",
         "2019-09-18",
         0.03,
         3.6174697241E8
        ],
        [
         "35580324000120",
         "EM FUNCIONAMENTO NORMAL",
         "2019-11-27",
         1.85,
         9.136176875E7
        ],
        [
         "33033191000147",
         "EM FUNCIONAMENTO NORMAL",
         "2019-12-17",
         0.8816,
         8.992570721E7
        ],
        [
         "33913568000152",
         "EM FUNCIONAMENTO NORMAL",
         "2019-12-30",
         0.09,
         999393.63
        ],
        [
         "33913576000107",
         "EM FUNCIONAMENTO NORMAL",
         "2019-12-30",
         0.09,
         3.5382136994E8
        ],
        [
         "33913584000145",
         "EM FUNCIONAMENTO NORMAL",
         "2019-12-30",
         0.09,
         6876880.46
        ],
        [
         "29983516000185",
         "EM FUNCIONAMENTO NORMAL",
         "2020-01-08",
         1.2,
         7.078584772E7
        ],
        [
         "35178253000134",
         "EM FUNCIONAMENTO NORMAL",
         "2020-01-10",
         0.66,
         3.5600970375E8
        ],
        [
         "36443522000105",
         "EM FUNCIONAMENTO NORMAL",
         "2020-02-21",
         25.0,
         1.81405177298E9
        ],
        [
         "36443587000150",
         "EM FUNCIONAMENTO NORMAL",
         "2020-03-09",
         3.0,
         2.128071543E7
        ],
        [
         "36764134000126",
         "EM FUNCIONAMENTO NORMAL",
         "2020-03-25",
         5.0,
         2.963157566E7
        ],
        [
         "35819666000150",
         "EM FUNCIONAMENTO NORMAL",
         "2020-06-19",
         2.0,
         1.6604255414E9
        ],
        [
         "36729755000179",
         "EM FUNCIONAMENTO NORMAL",
         "2020-06-19",
         0.9,
         2.1997348455E8
        ],
        [
         "35819219000100",
         "EM FUNCIONAMENTO NORMAL",
         "2020-07-24",
         0.4,
         1.0551798646E9
        ],
        [
         "37806055000101",
         "EM FUNCIONAMENTO NORMAL",
         "2020-08-20",
         0.0,
         2.9483089257E8
        ],
        [
         "36655944000144",
         "EM FUNCIONAMENTO NORMAL",
         "2020-09-10",
         null,
         5050323.26
        ],
        [
         "39281116000181",
         "EM FUNCIONAMENTO NORMAL",
         "2020-11-06",
         5.0,
         6293022.87
        ],
        [
         "39344840000107",
         "EM FUNCIONAMENTO NORMAL",
         "2020-11-17",
         2.0,
         8940141.89
        ],
        [
         "39723229000190",
         "EM FUNCIONAMENTO NORMAL",
         "2021-01-27",
         0.07,
         6.948446891E7
        ],
        [
         "38443033000189",
         "EM FUNCIONAMENTO NORMAL",
         "2021-02-10",
         0.98,
         5.715885576E7
        ],
        [
         "39540780000106",
         "EM FUNCIONAMENTO NORMAL",
         "2021-02-17",
         7.0,
         3.980750295E7
        ],
        [
         "40905548000103",
         "EM FUNCIONAMENTO NORMAL",
         "2021-03-01",
         1.0,
         3.487545472E7
        ],
        [
         "40140470000175",
         "EM FUNCIONAMENTO NORMAL",
         "2021-03-15",
         0.5,
         4.732314828E7
        ],
        [
         "41036490000163",
         "EM FUNCIONAMENTO NORMAL",
         "2021-03-15",
         5.0,
         3.901224709E7
        ],
        [
         "35277363000153",
         "EM FUNCIONAMENTO NORMAL",
         "2021-03-17",
         null,
         2.7238955682E8
        ],
        [
         "41833315000105",
         "EM FUNCIONAMENTO NORMAL",
         "2021-05-24",
         null,
         3.12109464E7
        ],
        [
         "41953322000132",
         "EM FUNCIONAMENTO NORMAL",
         "2021-06-07",
         4.0,
         1.7319844967E8
        ],
        [
         "42081295000118",
         "EM FUNCIONAMENTO NORMAL",
         "2021-06-11",
         0.0,
         5.896034231E8
        ],
        [
         "42260903000151",
         "EM FUNCIONAMENTO NORMAL",
         "2021-07-08",
         null,
         5.8474970655E8
        ],
        [
         "42294971000131",
         "EM FUNCIONAMENTO NORMAL",
         "2021-07-02",
         8.0,
         2.0979385268E8
        ],
        [
         "37828802000102",
         "EM FUNCIONAMENTO NORMAL",
         "2021-07-19",
         null,
         5956004.96
        ],
        [
         "42295379000154",
         "EM FUNCIONAMENTO NORMAL",
         "2021-08-16",
         null,
         1.5674803064E8
        ],
        [
         "43105440000116",
         "EM FUNCIONAMENTO NORMAL",
         "2021-08-25",
         null,
         5886041.3
        ],
        [
         "42315695000140",
         "EM FUNCIONAMENTO NORMAL",
         "2021-08-26",
         null,
         3.211744968E7
        ],
        [
         "43508144000166",
         "EM FUNCIONAMENTO NORMAL",
         "2021-09-27",
         null,
         9.403083508E7
        ],
        [
         "43122453000101",
         "EM FUNCIONAMENTO NORMAL",
         "2021-10-01",
         null,
         1.3764790992E8
        ],
        [
         "42754444000162",
         "EM FUNCIONAMENTO NORMAL",
         "2021-11-29",
         null,
         6.572671967E7
        ],
        [
         "42922066000189",
         "EM FUNCIONAMENTO NORMAL",
         "2021-12-17",
         null,
         3584748.74
        ],
        [
         "44680491000134",
         "EM FUNCIONAMENTO NORMAL",
         "2022-01-03",
         null,
         4.2076959083E8
        ],
        [
         "42562105000184",
         "EM FUNCIONAMENTO NORMAL",
         "2022-01-18",
         null,
         0.0
        ],
        [
         "42691990000100",
         "EM FUNCIONAMENTO NORMAL",
         "2022-02-01",
         null,
         2.844502902E7
        ],
        [
         "44815107000163",
         "EM FUNCIONAMENTO NORMAL",
         "2022-02-15",
         null,
         2.208686899E7
        ],
        [
         "44680466000150",
         "EM FUNCIONAMENTO NORMAL",
         "2022-02-24",
         null,
         6.397035926E7
        ],
        [
         "43876172000136",
         "EM FUNCIONAMENTO NORMAL",
         "2022-03-08",
         null,
         4142252.66
        ],
        [
         "43876638000101",
         "EM FUNCIONAMENTO NORMAL",
         "2022-03-08",
         null,
         4765027.17
        ],
        [
         "42656644000182",
         "EM FUNCIONAMENTO NORMAL",
         "2022-03-08",
         null,
         1.186271469E7
        ],
        [
         "02727085000130",
         "EM FUNCIONAMENTO NORMAL",
         "2022-04-09",
         null,
         1355673.91
        ],
        [
         "45017499000188",
         "EM FUNCIONAMENTO NORMAL",
         "2022-04-19",
         0.1411,
         1.5016764159E8
        ],
        [
         "45953169000102",
         "EM FUNCIONAMENTO NORMAL",
         "2022-05-02",
         0.0,
         4.505303154E7
        ],
        [
         "44432479000100",
         "EM FUNCIONAMENTO NORMAL",
         "2022-05-06",
         0.2,
         2.6981060166E8
        ],
        [
         "45018608000181",
         "EM FUNCIONAMENTO NORMAL",
         "2022-05-06",
         0.5,
         5.629107289E7
        ],
        [
         "45018643000109",
         "EM FUNCIONAMENTO NORMAL",
         "2022-05-06",
         0.15,
         2.3769074663E8
        ],
        [
         "44104852000102",
         "EM FUNCIONAMENTO NORMAL",
         "2022-06-21",
         5.0,
         8783097.76
        ],
        [
         "46729394000114",
         "EM FUNCIONAMENTO NORMAL",
         "2022-07-04",
         5.0,
         3716137.24
        ],
        [
         "00817677000117",
         "EM FUNCIONAMENTO NORMAL",
         "2005-03-17",
         0.45,
         2.2248789993E8
        ],
        [
         "00819889000133",
         "EM FUNCIONAMENTO NORMAL",
         "2005-03-17",
         1.0,
         5.729872778E7
        ],
        [
         "01147641000136",
         "EM FUNCIONAMENTO NORMAL",
         "2005-04-04",
         0.1775,
         5.4073140876E8
        ],
        [
         "02539921000152",
         "EM FUNCIONAMENTO NORMAL",
         "2005-03-22",
         0.52,
         1.7849735231E8
        ],
        [
         "02668201000197",
         "EM FUNCIONAMENTO NORMAL",
         "2005-03-22",
         0.1,
         1.59627950729E9
        ],
        [
         "02918923000152",
         "EM FUNCIONAMENTO NORMAL",
         "2005-03-28",
         2.0,
         6269533.2
        ],
        [
         "02918923000152",
         "EM FUNCIONAMENTO NORMAL",
         "2005-03-28",
         2.0,
         6269533.2
        ],
        [
         "02918931000107",
         "EM FUNCIONAMENTO NORMAL",
         "2005-03-28",
         1.5,
         2.856408456E7
        ],
        [
         "02918931000107",
         "EM FUNCIONAMENTO NORMAL",
         "2005-03-28",
         1.5,
         2.856408456E7
        ],
        [
         "03499367000190",
         "EM FUNCIONAMENTO NORMAL",
         "2005-03-16",
         0.4,
         2.4029445984E8
        ],
        [
         "04192419000143",
         "EM FUNCIONAMENTO NORMAL",
         "2005-03-15",
         0.8,
         3.735282279E7
        ],
        [
         "05024659000100",
         "EM FUNCIONAMENTO NORMAL",
         "2005-03-16",
         1.1,
         1.445349547E7
        ],
        [
         "05090727000120",
         "EM FUNCIONAMENTO NORMAL",
         "2005-03-16",
         0.15,
         6.3507335068E8
        ],
        [
         "05104498000156",
         "EM FUNCIONAMENTO NORMAL",
         "2005-03-22",
         0.5,
         3.306740576E7
        ],
        [
         "14951577000193",
         "EM FUNCIONAMENTO NORMAL",
         "2012-05-10",
         1.0,
         9.110146163E7
        ],
        [
         "14951577000193",
         "EM FUNCIONAMENTO NORMAL",
         "2012-05-10",
         1.0,
         9.110146163E7
        ],
        [
         "14167491000174",
         "EM FUNCIONAMENTO NORMAL",
         "2012-05-11",
         0.02,
         1.40077189908E9
        ],
        [
         "14167550000104",
         "EM FUNCIONAMENTO NORMAL",
         "2012-05-11",
         0.0,
         6.28676712E7
        ],
        [
         "12107669000166",
         "EM FUNCIONAMENTO NORMAL",
         "2012-06-01",
         0.02,
         2.38947988072E9
        ],
        [
         "14171578000115",
         "EM FUNCIONAMENTO NORMAL",
         "2012-06-27",
         0.0,
         4.8652616313E8
        ],
        [
         "16570371000149",
         "EM FUNCIONAMENTO NORMAL",
         "2012-08-01",
         2.0,
         2771984.61
        ],
        [
         "16617593000170",
         "EM FUNCIONAMENTO NORMAL",
         "2012-08-02",
         2.5,
         1033528.17
        ],
        [
         "16703203000184",
         "EM FUNCIONAMENTO NORMAL",
         "2013-01-16",
         0.75,
         2.673520825E7
        ],
        [
         "17574820000190",
         "EM FUNCIONAMENTO NORMAL",
         "2013-02-28",
         0.3,
         1093018.92
        ],
        [
         "17453850000148",
         "EM FUNCIONAMENTO NORMAL",
         "2013-04-17",
         1.0,
         1.19317094599E9
        ],
        [
         "17517577000178",
         "EM FUNCIONAMENTO NORMAL",
         "2013-08-13",
         0.4,
         1.0133760388E8
        ],
        [
         "18448137000179",
         "EM FUNCIONAMENTO NORMAL",
         "2013-09-16",
         2.5,
         4269177.58
        ],
        [
         "17340392000130",
         "EM FUNCIONAMENTO NORMAL",
         "2014-03-07",
         0.3,
         3.9777181563E8
        ],
        [
         "19831126000136",
         "EM FUNCIONAMENTO NORMAL",
         "2014-04-11",
         1.5,
         1.63386148491E9
        ],
        [
         "20378135000100",
         "EM FUNCIONAMENTO NORMAL",
         "2014-08-06",
         0.17,
         1831833.56
        ],
        [
         "17137984000150",
         "EM FUNCIONAMENTO NORMAL",
         "2014-09-11",
         0.02,
         3.06168632958E9
        ],
        [
         "21185984000100",
         "EM FUNCIONAMENTO NORMAL",
         "2014-12-30",
         0.4,
         2.44843751283E9
        ],
        [
         "20879578000177",
         "EM FUNCIONAMENTO NORMAL",
         "2015-01-07",
         0.5,
         1.36919468676E9
        ],
        [
         "21596006000143",
         "EM FUNCIONAMENTO NORMAL",
         "2015-01-19",
         0.12,
         2.4057585479E8
        ],
        [
         "21596006000143",
         "EM FUNCIONAMENTO NORMAL",
         "2015-01-19",
         0.12,
         2.4057585479E8
        ],
        [
         "22773421000198",
         "EM FUNCIONAMENTO NORMAL",
         "2016-03-31",
         0.15,
         6.5478605936E8
        ],
        [
         "24372158000150",
         "EM FUNCIONAMENTO NORMAL",
         "2016-04-15",
         0.08,
         2.362694434E7
        ],
        [
         "22809036000153",
         "EM FUNCIONAMENTO NORMAL",
         "2016-06-20",
         0.8,
         1.396207214E7
        ],
        [
         "26089666000151",
         "EM FUNCIONAMENTO NORMAL",
         "2016-10-31",
         0.38,
         1.0975836454E8
        ],
        [
         "25108905000100",
         "EM FUNCIONAMENTO NORMAL",
         "2016-12-09",
         0.2,
         1.0448693463E8
        ],
        [
         "05627929000169",
         "EM FUNCIONAMENTO NORMAL",
         "2005-04-04",
         0.12,
         1.15696028435E9
        ],
        [
         "05754066000190",
         "EM FUNCIONAMENTO NORMAL",
         "2005-01-14",
         0.04,
         6.19662105094E9
        ],
        [
         "05862906000139",
         "EM FUNCIONAMENTO NORMAL",
         "2005-05-30",
         0.34,
         5.0323263789E8
        ],
        [
         "07110963000197",
         "EM FUNCIONAMENTO NORMAL",
         "2005-02-11",
         0.15,
         4.37176736875E9
        ],
        [
         "07110975000111",
         "EM FUNCIONAMENTO NORMAL",
         "2005-02-11",
         0.0,
         4.37160324335E9
        ],
        [
         "07657641000162",
         "EM FUNCIONAMENTO NORMAL",
         "2008-06-10",
         0.7,
         4572264.72
        ],
        [
         "07672392000184",
         "EM FUNCIONAMENTO NORMAL",
         "2006-02-01",
         2.0,
         1.02713548E7
        ],
        [
         "07939851000143",
         "EM FUNCIONAMENTO NORMAL",
         "2006-08-16",
         0.042,
         2.32051852498E9
        ],
        [
         "07965741000156",
         "EM FUNCIONAMENTO NORMAL",
         "2006-06-27",
         0.7,
         7.937533818E7
        ],
        [
         "08771975000125",
         "EM FUNCIONAMENTO NORMAL",
         "2007-10-25",
         0.11,
         6.38548976912E9
        ],
        [
         "08815386000100",
         "EM FUNCIONAMENTO NORMAL",
         "2007-08-10",
         1.0,
         1.07168979E7
        ],
        [
         "09087301000179",
         "EM FUNCIONAMENTO NORMAL",
         "2010-05-25",
         0.5,
         1.0942306922E8
        ],
        [
         "09087483000188",
         "EM FUNCIONAMENTO NORMAL",
         "2010-01-11",
         2.0,
         1.720790888E7
        ],
        [
         "09087523000191",
         "EM FUNCIONAMENTO NORMAL",
         "2010-01-11",
         2.5,
         4.066088248E7
        ],
        [
         "09228836000112",
         "EM FUNCIONAMENTO NORMAL",
         "2008-01-07",
         0.0,
         6.4796950853E8
        ],
        [
         "09284554000132",
         "EM FUNCIONAMENTO NORMAL",
         "2008-05-29",
         0.12,
         1.9105776934E8
        ],
        [
         "09315625000117",
         "EM FUNCIONAMENTO NORMAL",
         "2008-07-08",
         1.0,
         1.213258701E7
        ],
        [
         "07143386000130",
         "EM FUNCIONAMENTO NORMAL",
         "2004-11-16",
         null,
         614165.85
        ],
        [
         "07144604000150",
         "EM FUNCIONAMENTO NORMAL",
         "2004-11-16",
         null,
         1479388.51
        ],
        [
         "01356517000180",
         "EM FUNCIONAMENTO NORMAL",
         "1996-07-24",
         null,
         1.6878108439E8
        ],
        [
         "01497954000114",
         "EM FUNCIONAMENTO NORMAL",
         "1996-10-02",
         null,
         1.5748424368E8
        ],
        [
         "01964775000140",
         "EM FUNCIONAMENTO NORMAL",
         "1997-06-11",
         null,
         1484965.19
        ],
        [
         "05437916000127",
         "EM FUNCIONAMENTO NORMAL",
         "2002-12-10",
         null,
         1.2664304161E8
        ],
        [
         "11044355000107",
         "EM FUNCIONAMENTO NORMAL",
         "2010-08-09",
         null,
         2.2891833875E8
        ],
        [
         "11326746000106",
         "EM FUNCIONAMENTO NORMAL",
         "2010-05-28",
         null,
         4.0682077271E8
        ],
        [
         "17198500000182",
         "EM FUNCIONAMENTO NORMAL",
         "2012-12-13",
         null,
         1.6201099272E8
        ],
        [
         "36731458000168",
         "EM FUNCIONAMENTO NORMAL",
         "2020-04-23",
         null,
         7.285187875E7
        ],
        [
         "39347413000182",
         "EM FUNCIONAMENTO NORMAL",
         "2020-10-09",
         null,
         1.1619008593E8
        ],
        [
         "41114606000135",
         "EM FUNCIONAMENTO NORMAL",
         "2021-03-09",
         null,
         2.3775015558E8
        ],
        [
         "41081374000166",
         "EM FUNCIONAMENTO NORMAL",
         "2021-03-23",
         null,
         1.9196809526E8
        ],
        [
         "36930464000144",
         "EM FUNCIONAMENTO NORMAL",
         "2021-04-09",
         null,
         6.7558202267E8
        ],
        [
         "40054913000105",
         "EM FUNCIONAMENTO NORMAL",
         "2021-07-05",
         null,
         2.627733151E7
        ],
        [
         "45254732000146",
         "EM FUNCIONAMENTO NORMAL",
         "2022-03-10",
         null,
         4.021983357E7
        ],
        [
         "42692399000169",
         "EM FUNCIONAMENTO NORMAL",
         "2022-05-24",
         null,
         1.0249049754E8
        ],
        [
         "27882134000130",
         "EM FUNCIONAMENTO NORMAL",
         "2017-10-23",
         null,
         8893011.84
        ],
        [
         "30130708000128",
         "EM FUNCIONAMENTO NORMAL",
         "2018-04-13",
         null,
         2.76308112478E9
        ],
        [
         "34598181000111",
         "EM FUNCIONAMENTO NORMAL",
         "2019-09-05",
         null,
         4.5200100067E8
        ],
        [
         "34835191000123",
         "EM FUNCIONAMENTO NORMAL",
         "2019-09-23",
         null,
         1.3414947441E8
        ],
        [
         "34736474000118",
         "EM FUNCIONAMENTO NORMAL",
         "2019-09-24",
         null,
         2.3678026753E8
        ],
        [
         "14217108000145",
         "EM FUNCIONAMENTO NORMAL",
         "2011-11-16",
         null,
         3.2571111973E8
        ],
        [
         "36098375000183",
         "EM FUNCIONAMENTO NORMAL",
         "2020-02-17",
         null,
         1.1786818176E8
        ],
        [
         "36293425000183",
         "EM FUNCIONAMENTO NORMAL",
         "2020-02-19",
         null,
         6.693652613E7
        ],
        [
         "36312772000106",
         "EM FUNCIONAMENTO NORMAL",
         "2020-02-18",
         null,
         5.120662227E7
        ],
        [
         "32222912000102",
         "EM FUNCIONAMENTO NORMAL",
         "2018-12-21",
         null,
         2.950780867E7
        ],
        [
         "33354650000194",
         "EM FUNCIONAMENTO NORMAL",
         "2019-07-15",
         null,
         2.328381297E8
        ],
        [
         "44680435000108",
         "EM FUNCIONAMENTO NORMAL",
         "2022-09-27",
         null,
         3.678052558E7
        ],
        [
         "44680449000113",
         "EM FUNCIONAMENTO NORMAL",
         "2022-10-20",
         null,
         8440299.75
        ],
        [
         "48373428000106",
         "EM FUNCIONAMENTO NORMAL",
         "2022-12-09",
         null,
         5.447980275E7
        ],
        [
         "48373413000148",
         "EM FUNCIONAMENTO NORMAL",
         "2022-12-09",
         null,
         2.7760247853E8
        ],
        [
         "48389780000130",
         "EM FUNCIONAMENTO NORMAL",
         "2022-12-11",
         null,
         2.3977683304E8
        ],
        [
         "48964604000184",
         "EM FUNCIONAMENTO NORMAL",
         "2022-12-22",
         null,
         1293504.85
        ],
        [
         "49112611000110",
         "EM FUNCIONAMENTO NORMAL",
         "2023-01-09",
         null,
         9.927325637E7
        ],
        [
         "49592781000140",
         "EM FUNCIONAMENTO NORMAL",
         "2023-02-14",
         null,
         3.469227758E8
        ],
        [
         "16685929000131",
         "EM FUNCIONAMENTO NORMAL",
         "2023-02-13",
         null,
         6.2138924697E8
        ],
        [
         "50275622000109",
         "EM FUNCIONAMENTO NORMAL",
         "2023-04-11",
         null,
         1.321802143E7
        ],
        [
         "50399189000105",
         "EM FUNCIONAMENTO NORMAL",
         "2023-04-20",
         null,
         9.422244381E7
        ],
        [
         "50750438000165",
         "EM FUNCIONAMENTO NORMAL",
         "2023-05-19",
         null,
         3.2397564865E8
        ],
        [
         "50750438000165",
         "EM FUNCIONAMENTO NORMAL",
         "2023-05-19",
         null,
         3.2397564865E8
        ],
        [
         "50808042000121",
         "EM FUNCIONAMENTO NORMAL",
         "2023-05-24",
         null,
         4.7699495571E8
        ],
        [
         "51295092000115",
         "EM FUNCIONAMENTO NORMAL",
         "2023-07-04",
         null,
         2367149.05
        ],
        [
         "51476870000172",
         "EM FUNCIONAMENTO NORMAL",
         "2023-07-19",
         null,
         1.0417893333E8
        ],
        [
         "52324762000147",
         "EM FUNCIONAMENTO NORMAL",
         "2023-09-26",
         null,
         2.696179548E7
        ],
        [
         "52356865000199",
         "EM FUNCIONAMENTO NORMAL",
         "2023-09-28",
         null,
         1.23030823E7
        ],
        [
         "52116337000162",
         "EM FUNCIONAMENTO NORMAL",
         "2023-09-08",
         null,
         8.472435318E7
        ],
        [
         "52116361000100",
         "EM FUNCIONAMENTO NORMAL",
         "2023-09-08",
         null,
         4.898758673E7
        ],
        [
         "15296704000120",
         "EM FUNCIONAMENTO NORMAL",
         "2012-04-02",
         null,
         1.01364791999E9
        ],
        [
         "15049586000156",
         "EM FUNCIONAMENTO NORMAL",
         "2012-03-23",
         null,
         2.11082293021E9
        ],
        [
         "15437768000102",
         "EM FUNCIONAMENTO NORMAL",
         "2012-04-20",
         null,
         7.9155812445E8
        ],
        [
         "16734970000150",
         "EM FUNCIONAMENTO NORMAL",
         "2012-08-23",
         null,
         1.1052978777E8
        ],
        [
         "15018580000111",
         "EM FUNCIONAMENTO NORMAL",
         "2012-03-23",
         null,
         1.66052551369E9
        ],
        [
         "14769978000127",
         "EM FUNCIONAMENTO NORMAL",
         "2011-12-30",
         null,
         7.1379670563E8
        ],
        [
         "14067624000130",
         "EM FUNCIONAMENTO NORMAL",
         "2011-10-28",
         null,
         151818.15
        ],
        [
         "14311936000148",
         "EM FUNCIONAMENTO NORMAL",
         "2011-09-23",
         null,
         5219076.0
        ],
        [
         "09110175000126",
         "EM FUNCIONAMENTO NORMAL",
         "2007-12-28",
         null,
         1186684.99
        ],
        [
         "11249598000173",
         "EM FUNCIONAMENTO NORMAL",
         "2009-11-11",
         null,
         3.8722679502E8
        ],
        [
         "11283444000106",
         "EM FUNCIONAMENTO NORMAL",
         "2009-11-27",
         null,
         3.6677454088E8
        ],
        [
         "12834634000129",
         "EM FUNCIONAMENTO NORMAL",
         "2010-10-18",
         null,
         372240.51
        ],
        [
         "26545537000120",
         "EM FUNCIONAMENTO NORMAL",
         "2016-11-28",
         null,
         606645.44
        ],
        [
         "24764405000164",
         "EM FUNCIONAMENTO NORMAL",
         "2016-04-18",
         null,
         1.0174597496E8
        ],
        [
         "24874305000190",
         "EM FUNCIONAMENTO NORMAL",
         "2016-05-27",
         null,
         1.36746797716E9
        ],
        [
         "24768711000179",
         "EM FUNCIONAMENTO NORMAL",
         "2016-05-18",
         null,
         8.304273561E7
        ],
        [
         "24701488000142",
         "EM FUNCIONAMENTO NORMAL",
         "2016-05-11",
         null,
         1.9659790255E8
        ],
        [
         "22802858000102",
         "EM FUNCIONAMENTO NORMAL",
         "2015-07-08",
         null,
         8.3315787709E8
        ],
        [
         "22601577000191",
         "EM FUNCIONAMENTO NORMAL",
         "2015-07-02",
         null,
         1.17893921507E9
        ],
        [
         "21917293000146",
         "EM FUNCIONAMENTO NORMAL",
         "2015-03-10",
         null,
         1002975.4
        ],
        [
         "22219279000131",
         "EM FUNCIONAMENTO NORMAL",
         "2015-04-13",
         null,
         2.642569966E7
        ],
        [
         "21613190000192",
         "EM FUNCIONAMENTO NORMAL",
         "2015-01-07",
         null,
         6.0198639572E8
        ],
        [
         "21331225000109",
         "EM FUNCIONAMENTO NORMAL",
         "2015-02-10",
         null,
         -1519081.16
        ],
        [
         "21254224000108",
         "EM FUNCIONAMENTO NORMAL",
         "2014-10-27",
         null,
         1.888978618E7
        ],
        [
         "18356327000166",
         "EM FUNCIONAMENTO NORMAL",
         "2013-11-18",
         null,
         234978.48
        ],
        [
         "18929680000198",
         "EM FUNCIONAMENTO NORMAL",
         "2013-09-25",
         null,
         4.144935435E7
        ],
        [
         "18402048000191",
         "EM FUNCIONAMENTO NORMAL",
         "2013-07-02",
         null,
         571931.15
        ],
        [
         "18579353000153",
         "EM FUNCIONAMENTO NORMAL",
         "2013-07-31",
         null,
         903374.56
        ],
        [
         "18653128000110",
         "EM FUNCIONAMENTO NORMAL",
         "2013-08-13",
         null,
         1.0195178623E8
        ],
        [
         "17213759000155",
         "EM FUNCIONAMENTO NORMAL",
         "2013-05-20",
         null,
         3.3243681215E8
        ],
        [
         "36115022000144",
         "EM FUNCIONAMENTO NORMAL",
         "2020-08-05",
         null,
         1.5365185995E8
        ],
        [
         "37087982000100",
         "EM FUNCIONAMENTO NORMAL",
         "2020-05-11",
         null,
         848377.45
        ],
        [
         "37088071000106",
         "EM FUNCIONAMENTO NORMAL",
         "2020-05-11",
         null,
         2536455.66
        ],
        [
         "41922654000150",
         "EM FUNCIONAMENTO NORMAL",
         "2021-05-18",
         null,
         6379347.37
        ],
        [
         "40670750000195",
         "EM FUNCIONAMENTO NORMAL",
         "2021-04-07",
         null,
         6.35688417573E9
        ],
        [
         "39976918000106",
         "EM FUNCIONAMENTO NORMAL",
         "2021-01-07",
         null,
         4.456082369E7
        ],
        [
         "39784273000100",
         "EM FUNCIONAMENTO NORMAL",
         "2020-12-29",
         null,
         5.731666892E7
        ],
        [
         "39581746000171",
         "EM FUNCIONAMENTO NORMAL",
         "2020-11-30",
         null,
         5.0317439628E8
        ],
        [
         "40311750000107",
         "EM FUNCIONAMENTO NORMAL",
         "2021-06-24",
         null,
         3.132980961E7
        ],
        [
         "35654738000157",
         "EM FUNCIONAMENTO NORMAL",
         "2021-08-02",
         null,
         2.0009135903E8
        ],
        [
         "43236479000172",
         "EM FUNCIONAMENTO NORMAL",
         "2021-08-26",
         null,
         6553378.16
        ],
        [
         "43236423000118",
         "EM FUNCIONAMENTO NORMAL",
         "2021-08-24",
         null,
         3.5631362132E8
        ],
        [
         "42627796000157",
         "EM FUNCIONAMENTO NORMAL",
         "2021-09-17",
         null,
         3.3835810627E8
        ],
        [
         "43619349000119",
         "EM FUNCIONAMENTO NORMAL",
         "2021-10-25",
         null,
         1.2222365812E8
        ],
        [
         "42923073000103",
         "EM FUNCIONAMENTO NORMAL",
         "2021-10-15",
         null,
         2.001371535E7
        ],
        [
         "38249518000136",
         "EM FUNCIONAMENTO NORMAL",
         "2021-12-15",
         null,
         3.238012743E7
        ],
        [
         "39447231000183",
         "EM FUNCIONAMENTO NORMAL",
         "2021-11-26",
         null,
         5200416.53
        ],
        [
         "44603407000189",
         "EM FUNCIONAMENTO NORMAL",
         "2021-12-22",
         null,
         3.501937318E7
        ],
        [
         "42736004000182",
         "EM FUNCIONAMENTO NORMAL",
         "2021-12-29",
         null,
         1.114230683E7
        ],
        [
         "44570797000138",
         "EM FUNCIONAMENTO NORMAL",
         "2021-12-30",
         null,
         2.158356741E7
        ],
        [
         "43106870000152",
         "EM FUNCIONAMENTO NORMAL",
         "2022-04-19",
         null,
         6.917985972E7
        ],
        [
         "44870636000160",
         "EM FUNCIONAMENTO NORMAL",
         "2022-04-22",
         null,
         1.5165212125E8
        ],
        [
         "46268214000144",
         "EM FUNCIONAMENTO NORMAL",
         "2022-06-01",
         null,
         2.219077747E8
        ],
        [
         "30687646000150",
         "EM FUNCIONAMENTO NORMAL",
         "2018-12-05",
         null,
         4.404450632E7
        ],
        [
         "32140484000160",
         "EM FUNCIONAMENTO NORMAL",
         "2019-02-22",
         null,
         5.832228657E8
        ],
        [
         "27368761000157",
         "EM FUNCIONAMENTO NORMAL",
         "2019-04-29",
         null,
         3.15840331E8
        ],
        [
         "33240249000123",
         "EM FUNCIONAMENTO NORMAL",
         "2019-06-21",
         null,
         2.40766695662E9
        ],
        [
         "32162536000108",
         "EM FUNCIONAMENTO NORMAL",
         "2019-05-15",
         null,
         4.685894751E7
        ],
        [
         "31570611000107",
         "EM FUNCIONAMENTO NORMAL",
         "2018-10-03",
         null,
         6.7677066527E8
        ],
        [
         "29315285000131",
         "EM FUNCIONAMENTO NORMAL",
         "2018-10-02",
         null,
         1.277059947E7
        ],
        [
         "35725626000140",
         "EM FUNCIONAMENTO NORMAL",
         "2020-03-06",
         null,
         5.13615446257E9
        ],
        [
         "34644159000160",
         "EM FUNCIONAMENTO NORMAL",
         "2019-11-04",
         null,
         3.7820675354E8
        ],
        [
         "35137939000187",
         "EM FUNCIONAMENTO NORMAL",
         "2019-10-14",
         null,
         1.443323611E7
        ],
        [
         "34509036000117",
         "EM FUNCIONAMENTO NORMAL",
         "2019-09-16",
         null,
         4.0174206574E8
        ],
        [
         "30871738000195",
         "EM FUNCIONAMENTO NORMAL",
         "2018-07-18",
         null,
         386700.25
        ],
        [
         "30871793000185",
         "EM FUNCIONAMENTO NORMAL",
         "2018-07-18",
         null,
         3.1417714954E8
        ],
        [
         "29315301000196",
         "EM FUNCIONAMENTO NORMAL",
         "2018-04-03",
         null,
         4.3184203627E8
        ],
        [
         "29843196000168",
         "EM FUNCIONAMENTO NORMAL",
         "2018-03-19",
         null,
         1.219411721E7
        ],
        [
         "29323865000170",
         "EM FUNCIONAMENTO NORMAL",
         "2018-01-17",
         null,
         6.6743624658E8
        ],
        [
         "27486551000163",
         "EM FUNCIONAMENTO NORMAL",
         "2017-06-02",
         null,
         604067.12
        ],
        [
         "27486551000163",
         "EM FUNCIONAMENTO NORMAL",
         "2017-06-02",
         null,
         604067.12
        ],
        [
         "27486551000163",
         "EM FUNCIONAMENTO NORMAL",
         "2017-06-02",
         null,
         604067.12
        ],
        [
         "27486551000163",
         "EM FUNCIONAMENTO NORMAL",
         "2017-06-02",
         null,
         604067.12
        ],
        [
         "12271294000175",
         "EM FUNCIONAMENTO NORMAL",
         "2010-09-23",
         null,
         1.1324594488E8
        ],
        [
         "13451738000117",
         "EM FUNCIONAMENTO NORMAL",
         "2011-02-28",
         null,
         2.266803318E7
        ],
        [
         "23700564000132",
         "EM FUNCIONAMENTO NORMAL",
         "2016-12-13",
         null,
         513510.04
        ],
        [
         "23781192000116",
         "EM FUNCIONAMENTO NORMAL",
         "2016-12-19",
         null,
         3.09240810504E9
        ],
        [
         "45788850000134",
         "EM FUNCIONAMENTO NORMAL",
         "2022-07-07",
         null,
         4.00889018885E9
        ],
        [
         "47166761000181",
         "EM FUNCIONAMENTO NORMAL",
         "2022-07-21",
         null,
         9.443368023E7
        ],
        [
         "39412078000159",
         "EM FUNCIONAMENTO NORMAL",
         "2022-08-24",
         null,
         1000846.18
        ],
        [
         "44638527000111",
         "EM FUNCIONAMENTO NORMAL",
         "2022-10-21",
         null,
         1.758816632E7
        ],
        [
         "44108111000191",
         "EM FUNCIONAMENTO NORMAL",
         "2022-10-06",
         null,
         2.7886747382E8
        ],
        [
         "23120075000101",
         "EM FUNCIONAMENTO NORMAL",
         "2022-11-28",
         null,
         1438003.41
        ],
        [
         "44638491000176",
         "EM FUNCIONAMENTO NORMAL",
         "2022-11-08",
         null,
         3.112389581E7
        ],
        [
         "46282024000181",
         "EM FUNCIONAMENTO NORMAL",
         "2022-11-01",
         null,
         2668684.34
        ],
        [
         "49637003000120",
         "EM FUNCIONAMENTO NORMAL",
         "2023-02-16",
         null,
         1.3042332071E8
        ],
        [
         "49963885000113",
         "EM FUNCIONAMENTO NORMAL",
         "2023-03-16",
         null,
         5.4588945138E8
        ],
        [
         "50226162000110",
         "EM FUNCIONAMENTO NORMAL",
         "2023-04-05",
         null,
         1559098.21
        ],
        [
         "50071531000143",
         "EM FUNCIONAMENTO NORMAL",
         "2023-03-24",
         null,
         1.0044405434E8
        ],
        [
         "49252656000190",
         "EM FUNCIONAMENTO NORMAL",
         "2023-01-19",
         null,
         7.4622659055E8
        ],
        [
         "48992508000140",
         "EM FUNCIONAMENTO NORMAL",
         "2022-12-28",
         null,
         1.149394909E7
        ],
        [
         "48900133000140",
         "EM FUNCIONAMENTO NORMAL",
         "2022-12-15",
         null,
         5.9156535139E8
        ],
        [
         "46778844000169",
         "EM FUNCIONAMENTO NORMAL",
         "2022-12-09",
         null,
         1.8557583749E8
        ],
        [
         "46778844000169",
         "EM FUNCIONAMENTO NORMAL",
         "2022-12-09",
         null,
         1.8557583749E8
        ],
        [
         "46782474000133",
         "EM FUNCIONAMENTO NORMAL",
         "2022-12-09",
         null,
         1.05489145E7
        ],
        [
         "47463511000103",
         "EM FUNCIONAMENTO NORMAL",
         "2022-12-09",
         null,
         4402769.94
        ],
        [
         "48328958000132",
         "EM FUNCIONAMENTO NORMAL",
         "2022-12-08",
         null,
         981206.52
        ],
        [
         "46780646000130",
         "EM FUNCIONAMENTO NORMAL",
         "2022-12-08",
         null,
         9.50403465E7
        ],
        [
         "47983885000150",
         "EM FUNCIONAMENTO NORMAL",
         "2022-12-08",
         null,
         1.046652606E8
        ],
        [
         "51804355000174",
         "EM FUNCIONAMENTO NORMAL",
         "2023-08-14",
         null,
         1.575957148E7
        ],
        [
         "51339815000130",
         "EM FUNCIONAMENTO NORMAL",
         "2023-07-07",
         null,
         8.179266377E7
        ],
        [
         "51033013000106",
         "EM FUNCIONAMENTO NORMAL",
         "2023-06-13",
         null,
         4224343.58
        ],
        [
         "28850140000178",
         "EM FUNCIONAMENTO NORMAL",
         "2017-10-16",
         null,
         2.140063824E7
        ],
        [
         "06905783000139",
         "EM FUNCIONAMENTO NORMAL",
         "2004-12-30",
         null,
         1.959792432E7
        ],
        [
         "06905783000139",
         "EM FUNCIONAMENTO NORMAL",
         "2004-12-30",
         null,
         1.959792432E7
        ],
        [
         "07644864000195",
         "EM FUNCIONAMENTO NORMAL",
         "2005-12-27",
         null,
         1248536.18
        ],
        [
         "10500895000187",
         "EM FUNCIONAMENTO NORMAL",
         "2008-12-02",
         null,
         1.123352714E7
        ],
        [
         "07766151000102",
         "EM FUNCIONAMENTO NORMAL",
         "2006-01-09",
         null,
         0.0
        ],
        [
         "32295244000135",
         "EM FUNCIONAMENTO NORMAL",
         "2019-12-26",
         null,
         3902898.13
        ],
        [
         "35686949000171",
         "EM FUNCIONAMENTO NORMAL",
         "2019-12-19",
         null,
         1.959861874E7
        ],
        [
         "32907653000145",
         "EM FUNCIONAMENTO NORMAL",
         "2019-11-26",
         null,
         2.372881091E7
        ],
        [
         "34553995000130",
         "EM FUNCIONAMENTO NORMAL",
         "2019-11-25",
         null,
         8900515.53
        ],
        [
         "28296597000182",
         "EM FUNCIONAMENTO NORMAL",
         "2018-06-07",
         null,
         5.316074455E7
        ],
        [
         "28796986000177",
         "EM FUNCIONAMENTO NORMAL",
         "2018-04-27",
         null,
         1.0377110259E8
        ],
        [
         "28849641000134",
         "EM FUNCIONAMENTO NORMAL",
         "2018-03-19",
         null,
         3.043454345E7
        ],
        [
         "28240255000140",
         "EM FUNCIONAMENTO NORMAL",
         "2017-08-30",
         null,
         7.533099041E7
        ],
        [
         "28240255000140",
         "EM FUNCIONAMENTO NORMAL",
         "2017-08-30",
         null,
         7.533099041E7
        ],
        [
         "28240255000140",
         "EM FUNCIONAMENTO NORMAL",
         "2017-08-30",
         null,
         7.533099041E7
        ],
        [
         "28240255000140",
         "EM FUNCIONAMENTO NORMAL",
         "2017-08-30",
         null,
         7.533099041E7
        ],
        [
         "27938258000190",
         "EM FUNCIONAMENTO NORMAL",
         "2017-07-11",
         null,
         1.061673687E7
        ],
        [
         "27531244000157",
         "EM FUNCIONAMENTO NORMAL",
         "2017-06-29",
         null,
         2.437109633E7
        ],
        [
         "26452257000178",
         "EM FUNCIONAMENTO NORMAL",
         "2017-06-12",
         null,
         5.502430724E7
        ],
        [
         "26452257000178",
         "EM FUNCIONAMENTO NORMAL",
         "2017-06-12",
         null,
         5.502430724E7
        ],
        [
         "27531301000106",
         "EM FUNCIONAMENTO NORMAL",
         "2017-05-29",
         null,
         4.730974917E7
        ],
        [
         "27531301000106",
         "EM FUNCIONAMENTO NORMAL",
         "2017-05-29",
         null,
         4.730974917E7
        ],
        [
         "27531301000106",
         "EM FUNCIONAMENTO NORMAL",
         "2017-05-29",
         null,
         4.730974917E7
        ],
        [
         "27531301000106",
         "EM FUNCIONAMENTO NORMAL",
         "2017-05-29",
         null,
         4.730974917E7
        ],
        [
         "08621199000187",
         "EM FUNCIONAMENTO NORMAL",
         "2016-01-04",
         null,
         1.6182787373E8
        ],
        [
         "09194841000151",
         "EM FUNCIONAMENTO NORMAL",
         "2007-11-30",
         null,
         1.8033292672E8
        ],
        [
         "21838483000178",
         "EM FUNCIONAMENTO NORMAL",
         "2015-08-19",
         null,
         5.108677452E8
        ],
        [
         "45521649000196",
         "EM FUNCIONAMENTO NORMAL",
         "2022-06-21",
         null,
         2.304282834E8
        ],
        [
         "45018961000161",
         "EM FUNCIONAMENTO NORMAL",
         "2022-05-30",
         null,
         2.532663374E7
        ],
        [
         "45693226000153",
         "EM FUNCIONAMENTO NORMAL",
         "2022-05-23",
         null,
         6543725.97
        ],
        [
         "45018911000184",
         "EM FUNCIONAMENTO NORMAL",
         "2022-05-11",
         null,
         1.774384956E7
        ],
        [
         "45722284000168",
         "EM FUNCIONAMENTO NORMAL",
         "2022-04-17",
         null,
         1.502939107E7
        ],
        [
         "43721652000128",
         "EM FUNCIONAMENTO NORMAL",
         "2022-03-31",
         null,
         3.0567678483E8
        ],
        [
         "44680388000194",
         "EM FUNCIONAMENTO NORMAL",
         "2022-03-25",
         null,
         2.483847192E7
        ],
        [
         "45019108000164",
         "EM FUNCIONAMENTO NORMAL",
         "2022-03-23",
         null,
         1.342890732E7
        ],
        [
         "42357817000161",
         "EM FUNCIONAMENTO NORMAL",
         "2022-03-08",
         null,
         4.645220263E7
        ],
        [
         "45019040000113",
         "EM FUNCIONAMENTO NORMAL",
         "2022-02-14",
         null,
         6.581121408E7
        ],
        [
         "37651102000187",
         "EM FUNCIONAMENTO NORMAL",
         "2022-02-02",
         null,
         1.1047891301E8
        ],
        [
         "44680424000110",
         "EM FUNCIONAMENTO NORMAL",
         "2022-01-21",
         null,
         5.152904921E7
        ],
        [
         "44177436000126",
         "EM FUNCIONAMENTO NORMAL",
         "2022-01-03",
         null,
         4.0055315568E8
        ],
        [
         "41579637000161",
         "EM FUNCIONAMENTO NORMAL",
         "2021-12-07",
         null,
         1.7672430245E8
        ],
        [
         "43648593000100",
         "EM FUNCIONAMENTO NORMAL",
         "2021-12-02",
         null,
         1.462862316E7
        ],
        [
         "42700668000191",
         "EM FUNCIONAMENTO NORMAL",
         "2021-11-29",
         null,
         6.589757045E7
        ],
        [
         "43616501000100",
         "EM FUNCIONAMENTO NORMAL",
         "2021-09-27",
         null,
         4.9763847452E8
        ],
        [
         "42860984000120",
         "EM FUNCIONAMENTO NORMAL",
         "2021-08-30",
         null,
         9393138.14
        ],
        [
         "41557609000143",
         "EM FUNCIONAMENTO NORMAL",
         "2021-09-06",
         null,
         4.542439587E7
        ],
        [
         "42196346000157",
         "EM FUNCIONAMENTO NORMAL",
         "2021-08-09",
         null,
         2.847891431E7
        ],
        [
         "32321319000105",
         "EM FUNCIONAMENTO NORMAL",
         "2021-07-23",
         null,
         1215227.93
        ],
        [
         "40211684000195",
         "EM FUNCIONAMENTO NORMAL",
         "2021-02-08",
         null,
         8814320.26
        ],
        [
         "36412972000130",
         "EM FUNCIONAMENTO NORMAL",
         "2020-09-10",
         null,
         5156801.75
        ],
        [
         "36412972000130",
         "EM FUNCIONAMENTO NORMAL",
         "2020-09-10",
         null,
         5156801.75
        ],
        [
         "36741161000183",
         "EM FUNCIONAMENTO NORMAL",
         "2020-07-16",
         null,
         4.605274238E7
        ],
        [
         "36741133000166",
         "EM FUNCIONAMENTO NORMAL",
         "2020-06-30",
         null,
         5.3346384692E8
        ],
        [
         "33498764000108",
         "EM FUNCIONAMENTO NORMAL",
         "2020-05-26",
         null,
         1.465456113E7
        ],
        [
         "34691300000186",
         "EM FUNCIONAMENTO NORMAL",
         "2020-04-13",
         null,
         1.567930715E7
        ],
        [
         "52349539000154",
         "EM FUNCIONAMENTO NORMAL",
         "2023-09-28",
         null,
         1.994651913E7
        ],
        [
         "52174102000127",
         "EM FUNCIONAMENTO NORMAL",
         "2023-09-13",
         null,
         2.6102811665E8
        ],
        [
         "52112338000139",
         "EM FUNCIONAMENTO NORMAL",
         "2023-09-08",
         null,
         3.965763331E7
        ],
        [
         "52073804000114",
         "EM FUNCIONAMENTO NORMAL",
         "2023-09-04",
         null,
         2.2672389056E8
        ],
        [
         "52069691000183",
         "EM FUNCIONAMENTO NORMAL",
         "2023-09-04",
         null,
         7.4204001813E8
        ],
        [
         "51539073000197",
         "EM FUNCIONAMENTO NORMAL",
         "2023-07-24",
         null,
         1.952326898E7
        ],
        [
         "51292131000120",
         "EM FUNCIONAMENTO NORMAL",
         "2023-07-04",
         null,
         1.0623895649E8
        ],
        [
         "51199121000145",
         "EM FUNCIONAMENTO NORMAL",
         "2023-06-27",
         null,
         3575207.71
        ],
        [
         "50995214000113",
         "EM FUNCIONAMENTO NORMAL",
         "2023-06-09",
         null,
         9.75194172E7
        ],
        [
         "50963249000170",
         "EM FUNCIONAMENTO NORMAL",
         "2023-06-06",
         null,
         1.0079293942E8
        ],
        [
         "50948092000104",
         "EM FUNCIONAMENTO NORMAL",
         "2023-06-05",
         null,
         2.04266121E7
        ],
        [
         "50948197000163",
         "EM FUNCIONAMENTO NORMAL",
         "2023-06-05",
         null,
         990299.19
        ],
        [
         "50818107000110",
         "EM FUNCIONAMENTO NORMAL",
         "2023-05-25",
         null,
         0.0
        ],
        [
         "50555281000117",
         "EM FUNCIONAMENTO NORMAL",
         "2023-05-04",
         null,
         1.67105102E7
        ],
        [
         "50462226000182",
         "EM FUNCIONAMENTO NORMAL",
         "2023-04-26",
         null,
         4.470830981E7
        ],
        [
         "50312715000158",
         "EM FUNCIONAMENTO NORMAL",
         "2023-04-13",
         null,
         1.7484117954E8
        ],
        [
         "50311731000126",
         "EM FUNCIONAMENTO NORMAL",
         "2023-04-13",
         null,
         5.484187399E7
        ],
        [
         "50184026000105",
         "EM FUNCIONAMENTO NORMAL",
         "2023-04-03",
         null,
         3.390548606E7
        ],
        [
         "50153414000129",
         "EM FUNCIONAMENTO NORMAL",
         "2023-03-30",
         null,
         3.44638365E7
        ],
        [
         "49974540000165",
         "EM FUNCIONAMENTO NORMAL",
         "2023-03-17",
         null,
         3.398203665E7
        ],
        [
         "49963418000193",
         "EM FUNCIONAMENTO NORMAL",
         "2023-03-16",
         null,
         1.9358058271E8
        ],
        [
         "47388724000118",
         "EM FUNCIONAMENTO NORMAL",
         "2023-02-28",
         null,
         435374.17
        ],
        [
         "49920326000126",
         "EM FUNCIONAMENTO NORMAL",
         "2023-03-13",
         null,
         1.9054992806E8
        ],
        [
         "49223648000116",
         "EM FUNCIONAMENTO NORMAL",
         "2023-01-17",
         null,
         0.0
        ],
        [
         "49176545000142",
         "EM FUNCIONAMENTO NORMAL",
         "2023-01-13",
         null,
         2.344639181E7
        ],
        [
         "47279999000113",
         "EM FUNCIONAMENTO NORMAL",
         "2022-12-09",
         null,
         6010936.16
        ],
        [
         "20998989000181",
         "EM FUNCIONAMENTO NORMAL",
         "2022-12-06",
         null,
         1.223790679E7
        ],
        [
         "48502650000161",
         "EM FUNCIONAMENTO NORMAL",
         "2022-11-30",
         null,
         2.742365066E7
        ],
        [
         "48513136000121",
         "EM FUNCIONAMENTO NORMAL",
         "2022-11-18",
         null,
         1.384308465E7
        ],
        [
         "42196361000103",
         "EM FUNCIONAMENTO NORMAL",
         "2022-11-04",
         null,
         1726899.04
        ],
        [
         "46929959000107",
         "EM FUNCIONAMENTO NORMAL",
         "2022-10-31",
         null,
         7.261654725E7
        ],
        [
         "45521676000169",
         "EM FUNCIONAMENTO NORMAL",
         "2022-10-27",
         null,
         3.5515348358E8
        ],
        [
         "45899745000172",
         "EM FUNCIONAMENTO NORMAL",
         "2022-10-25",
         null,
         1.0580562099E8
        ],
        [
         "46929994000126",
         "EM FUNCIONAMENTO NORMAL",
         "2022-10-24",
         null,
         3.679685417E7
        ],
        [
         "45899460000131",
         "EM FUNCIONAMENTO NORMAL",
         "2022-09-28",
         null,
         5.143766779E7
        ],
        [
         "46557432000107",
         "EM FUNCIONAMENTO NORMAL",
         "2022-07-07",
         null,
         4120348.03
        ],
        [
         "47372688000102",
         "EM FUNCIONAMENTO NORMAL",
         "2022-08-30",
         null,
         3361933.07
        ],
        [
         "45019002000160",
         "EM FUNCIONAMENTO NORMAL",
         "2022-08-09",
         null,
         4.81126398E7
        ],
        [
         "45899588000103",
         "EM FUNCIONAMENTO NORMAL",
         "2022-08-03",
         null,
         1268242.73
        ],
        [
         "45721977000136",
         "EM FUNCIONAMENTO NORMAL",
         "2022-07-19",
         null,
         1.7123149245E8
        ],
        [
         "06537068000190",
         "EM FUNCIONAMENTO NORMAL",
         "2004-08-02",
         null,
         1260.7
        ],
        [
         "07408147000164",
         "EM FUNCIONAMENTO NORMAL",
         "2005-04-11",
         null,
         19103.37
        ],
        [
         "12239939000192",
         "EM FUNCIONAMENTO NORMAL",
         "2011-09-21",
         2.02,
         6.55877165E7
        ],
        [
         "12241282000106",
         "EM FUNCIONAMENTO NORMAL",
         "2011-09-22",
         0.02,
         6.542651389E7
        ],
        [
         "14167479000160",
         "EM FUNCIONAMENTO NORMAL",
         "2011-10-21",
         1.2,
         2.687507781E7
        ],
        [
         "06985322000113",
         "EM FUNCIONAMENTO NORMAL",
         "2012-03-08",
         32.0,
         1.7911641871E8
        ]
       ],
       "datasetInfos": [],
       "dbfsResultPath": null,
       "isJsonSchema": true,
       "metadata": {},
       "overflow": false,
       "plotOptions": {
        "customPlotOptions": {},
        "displayType": "table",
        "pivotAggregation": null,
        "pivotColumns": null,
        "xColumns": null,
        "yColumns": null
       },
       "removedWidgets": [],
       "schema": [
        {
         "metadata": "{}",
         "name": "CNPJ_FUNDO",
         "type": "\"string\""
        },
        {
         "metadata": "{}",
         "name": "SIT",
         "type": "\"string\""
        },
        {
         "metadata": "{}",
         "name": "DT_REG",
         "type": "\"date\""
        },
        {
         "metadata": "{}",
         "name": "TAXA_ADM",
         "type": "\"double\""
        },
        {
         "metadata": "{}",
         "name": "VL_PATRIM_LIQ",
         "type": "\"double\""
        }
       ],
       "type": "table"
      }
     },
     "output_type": "display_data"
    }
   ],
   "source": [
    "#Seleciona e trata os dados necessários da cvm\n",
    "\n",
    "cvm = spark.sql(\"\"\"\n",
    "    SELECT \n",
    "    CNPJ_FUNDO, \n",
    "    SIT, \n",
    "    DT_REG,\n",
    "    TAXA_ADM, \n",
    "    VL_PATRIM_LIQ\n",
    "    FROM cvm_bruto\n",
    "    where SIT = 'EM FUNCIONAMENTO NORMAL'\n",
    "\"\"\")\n",
    "\n",
    "cvm = cvm.withColumn(\"DT_REG\", to_date(col(\"DT_REG\"), \"yyyy-MM-dd\")) \\\n",
    "        .withColumn(\"VL_PATRIM_LIQ\", col(\"VL_PATRIM_LIQ\").cast(\"double\"))\\\n",
    "        .withColumn(\"VL_PATRIM_LIQ\", format_number(col(\"VL_PATRIM_LIQ\"), 2))\n",
    "\n",
    "display(cvm)"
   ]
  },
  {
   "cell_type": "code",
   "execution_count": 0,
   "metadata": {
    "application/vnd.databricks.v1+cell": {
     "cellMetadata": {
      "byteLimit": 2048000,
      "rowLimit": 10000
     },
     "inputWidgets": {},
     "nuid": "42e874fc-c777-46f2-ad13-e675f1b9a4f1",
     "showTitle": false,
     "tableResultSettingsMap": {},
     "title": ""
    }
   },
   "outputs": [],
   "source": [
    "#Seleciona somente os dados necessários da cnpj_bruto\n",
    "\n",
    "cnpj = spark.sql(\"\"\"\n",
    "    SELECT \n",
    "    cnpj,\n",
    "    uf,\n",
    "    razao_social\n",
    "    FROM cnpj_bruto\n",
    "\"\"\")"
   ]
  },
  {
   "cell_type": "code",
   "execution_count": 0,
   "metadata": {
    "application/vnd.databricks.v1+cell": {
     "cellMetadata": {
      "byteLimit": 2048000,
      "rowLimit": 10000
     },
     "inputWidgets": {},
     "nuid": "a141584a-9c92-4a96-96c0-47e119cc842b",
     "showTitle": false,
     "tableResultSettingsMap": {},
     "title": ""
    }
   },
   "outputs": [],
   "source": [
    "uf_bruto = spark.sql(\"\"\"\n",
    "    SELECT \n",
    "    sigla,\n",
    "    nome\n",
    "    FROM uf_bruto\n",
    "\"\"\")"
   ]
  },
  {
   "cell_type": "code",
   "execution_count": 0,
   "metadata": {
    "application/vnd.databricks.v1+cell": {
     "cellMetadata": {
      "byteLimit": 2048000,
      "rowLimit": 10000
     },
     "inputWidgets": {},
     "nuid": "810c54fd-2c63-4d5b-9d5c-e8df1bf6c083",
     "showTitle": false,
     "tableResultSettingsMap": {
      "0": {
       "dataGridStateBlob": "{\"version\":1,\"tableState\":{\"columnPinning\":{\"left\":[\"#row_number#\"],\"right\":[]},\"columnSizing\":{},\"columnVisibility\":{}},\"settings\":{\"columns\":{}},\"syncTimestamp\":1755636742482}",
       "filterBlob": null,
       "queryPlanFiltersBlob": null,
       "tableResultIndex": 0
      }
     },
     "title": ""
    }
   },
   "outputs": [
    {
     "output_type": "display_data",
     "data": {
      "text/html": [
       "<style scoped>\n",
       "  .table-result-container {\n",
       "    max-height: 300px;\n",
       "    overflow: auto;\n",
       "  }\n",
       "  table, th, td {\n",
       "    border: 1px solid black;\n",
       "    border-collapse: collapse;\n",
       "  }\n",
       "  th, td {\n",
       "    padding: 5px;\n",
       "  }\n",
       "  th {\n",
       "    text-align: left;\n",
       "  }\n",
       "</style><div class='table-result-container'><table class='table-result'><thead style='background-color: white'><tr><th>CNPJ_FUNDO</th><th>SIT</th><th>DT_REG</th><th>TAXA_ADM</th><th>VL_PATRIM_LIQ</th><th>cnpj</th><th>uf</th><th>razao_social</th><th>sigla</th><th>nome</th></tr></thead><tbody><tr><td>09636393000107</td><td>EM FUNCIONAMENTO NORMAL</td><td>2008-09-03</td><td>0.35</td><td>8.39063605223E9</td><td>09636393000107</td><td>SP</td><td>BNP PARIBAS MATCH CLASSE DE INVESTIMENTO DE RENDA FIXA REFERENCIADA DI CP RESPONSABILIDADE LIMITADA</td><td>SP</td><td>São Paulo</td></tr><tr><td>09636619000161</td><td>EM FUNCIONAMENTO NORMAL</td><td>2008-10-02</td><td>0.22</td><td>7.7668289759E8</td><td>09636619000161</td><td>SP</td><td>BNP PARIBAS SOBERANO CIC DE CLASSE DE INVESTIMENTO RENDA FIXA SIMPLES - RESPONSABILIDADE LIMITADA</td><td>SP</td><td>São Paulo</td></tr><tr><td>09720710000160</td><td>EM FUNCIONAMENTO NORMAL</td><td>2008-09-26</td><td>8.0</td><td>2.6752782021E8</td><td>09720710000160</td><td>MG</td><td>INTER CONSERVADOR PLUS FUNDO DE INVESTIMENTO FINANCEIRO RENDA FIXA LONGO PRAZO RESP LIMITADA</td><td>MG</td><td>Minas Gerais</td></tr><tr><td>11108013000103</td><td>EM FUNCIONAMENTO NORMAL</td><td>2009-09-25</td><td>2.0</td><td>8.337165502E7</td><td>11108013000103</td><td>SP</td><td>BNP PARIBAS SMALL CAPS CLASSE DE INVESTIMENTO EM ACOES - RESPONSABILIDADE LIMITADA</td><td>SP</td><td>São Paulo</td></tr><tr><td>11147668000182</td><td>EM FUNCIONAMENTO NORMAL</td><td>2010-06-16</td><td>0.7</td><td>1.8697626529E8</td><td>11147668000182</td><td>SP</td><td>BNP PARIBAS ACCESS USA COMPANIES CLASSE DE INVESTIMENTO EM ACOES - RESPONSABILIDADE LIMITADA</td><td>SP</td><td>São Paulo</td></tr><tr><td>11769285000146</td><td>EM FUNCIONAMENTO NORMAL</td><td>2010-07-23</td><td>0.58</td><td>2.66385730905E9</td><td>11769285000146</td><td>SP</td><td>SPHERE CLASSE DE INVESTIMENTO MULTIMERCADO CREDITO PRIVADO INVESTIMENTO NO EXTERIOR</td><td>SP</td><td>São Paulo</td></tr><tr><td>12107422000140</td><td>EM FUNCIONAMENTO NORMAL</td><td>2011-09-06</td><td>0.8</td><td>1.9252269085E8</td><td>12107422000140</td><td>SP</td><td>ZURICH BNPP RENDA FIXA CIC DE CLASSES DE INVESTIMENTO PREVIDENCIARIA - RESP LIMITADA</td><td>SP</td><td>São Paulo</td></tr><tr><td>12124044000102</td><td>EM FUNCIONAMENTO NORMAL</td><td>2010-08-26</td><td>1.5</td><td>5.5395629203E8</td><td>12124044000102</td><td>SP</td><td>MAPFRE HEDGE PREV CLASSE DE INVESTIMENTO RENDA FIXA - RESPONSABILIDADE LIMITADA</td><td>SP</td><td>São Paulo</td></tr><tr><td>12124044000102</td><td>EM FUNCIONAMENTO NORMAL</td><td>2010-08-26</td><td>1.5</td><td>5.5395629203E8</td><td>12124044000102</td><td>SP</td><td>MAPFRE HEDGE PREV CLASSE DE INVESTIMENTO RENDA FIXA - RESPONSABILIDADE LIMITADA</td><td>SP</td><td>São Paulo</td></tr><tr><td>13243834000170</td><td>EM FUNCIONAMENTO NORMAL</td><td>2011-03-01</td><td>null</td><td>null</td><td>13243834000170</td><td>SP</td><td>TENEO FUNDO DE INVESTIMENTO EM PARTICIPACOES - MULTIESTRATEGIA</td><td>SP</td><td>São Paulo</td></tr><tr><td>97543707000186</td><td>EM FUNCIONAMENTO NORMAL</td><td>2011-08-31</td><td>0.0</td><td>2.0799783775E8</td><td>97543707000186</td><td>SP</td><td>BLACKROCK INSTITUCIONAL IBOVESPA CLASSE DE INVESTIMENTO EM ACOES - RESPONSABILIDADE LIMITADA</td><td>SP</td><td>São Paulo</td></tr><tr><td>46628381000159</td><td>EM FUNCIONAMENTO NORMAL</td><td>2022-07-19</td><td>null</td><td>6774129.91</td><td>46628381000159</td><td>SP</td><td>KATLA FUNDO DE INVESTIMENTO MULTIMERCADO CREDITO PRIVADO</td><td>SP</td><td>São Paulo</td></tr><tr><td>46334681000125</td><td>EM FUNCIONAMENTO NORMAL</td><td>2022-07-21</td><td>null</td><td>1.049761399E7</td><td>46334681000125</td><td>SP</td><td>SULAMERICA PRESTIGE XP SEG PREV FIF RENDA FIXA RESPONSABILIDADE LIMITADA</td><td>SP</td><td>São Paulo</td></tr><tr><td>47033209000115</td><td>EM FUNCIONAMENTO NORMAL</td><td>2022-07-28</td><td>null</td><td>8.58764167E7</td><td>47033209000115</td><td>RJ</td><td>IPANEMA PREVIDENCIARIO FIF MULTIMERCADO CREDITO PRIVADO - RESPONSABILIDADE LIMITADA</td><td>RJ</td><td>Rio de Janeiro</td></tr><tr><td>47372720000141</td><td>EM FUNCIONAMENTO NORMAL</td><td>2022-08-09</td><td>null</td><td>3.160091085E7</td><td>47372720000141</td><td>SP</td><td>2PX - FUNDO DE INVESTIMENTO MULTIMERCADO CREDITO PRIVADO</td><td>SP</td><td>São Paulo</td></tr><tr><td>41751844000151</td><td>EM FUNCIONAMENTO NORMAL</td><td>2022-07-14</td><td>null</td><td>0.0</td><td>41751844000151</td><td>SP</td><td>MARSELHA FUNDO DE INVESTIMENTO FINANCEIRO CREDITO PRIVADO RESPONSABILIDADE LIMITADA</td><td>SP</td><td>São Paulo</td></tr><tr><td>45908200000185</td><td>EM FUNCIONAMENTO NORMAL</td><td>2022-08-26</td><td>null</td><td>5335302.04</td><td>45908200000185</td><td>SP</td><td>BRAFIC FI EM COTAS DE FUNDOS DE INVESTIMENTO MULTIMERCADO CREDITO PRIVADO RESPONSABILIDADE LIMITADA</td><td>SP</td><td>São Paulo</td></tr><tr><td>47372648000152</td><td>EM FUNCIONAMENTO NORMAL</td><td>2022-08-30</td><td>null</td><td>2671425.13</td><td>47372648000152</td><td>SP</td><td>PLN PAR - FUNDO DE INVESTIMENTO MULTIMERCADO CREDITO PRIVADO</td><td>SP</td><td>São Paulo</td></tr><tr><td>44428806000150</td><td>EM FUNCIONAMENTO NORMAL</td><td>2022-09-25</td><td>null</td><td>1.2377297921E8</td><td>44428806000150</td><td>SP</td><td>JIVE DISTRESSED & SPECIAL SITS IV STRATEGIC PARTNERS FIC DE FIF MULTI - CP RESPONSABILIDADE LIMITADA</td><td>SP</td><td>São Paulo</td></tr><tr><td>44428854000149</td><td>EM FUNCIONAMENTO NORMAL</td><td>2022-09-25</td><td>null</td><td>1.217224301E8</td><td>44428854000149</td><td>SP</td><td>CSHG JIVE DISTRESSED & SPECIAL SITS IV ALLOCATION FIC DE FIF MULTI CP RESPONSABILIDADE LIMITADA</td><td>SP</td><td>São Paulo</td></tr><tr><td>47716415000120</td><td>EM FUNCIONAMENTO NORMAL</td><td>2022-10-07</td><td>1.2</td><td>3.920949699E7</td><td>47716415000120</td><td>RJ</td><td>JOURNEY CAPITAL CREDITO ESTRUTURADO 120 FUNDO DE INVESTIMENTO EM COTAS DE FUNDOS DE INVESTIMENTO MULTIMERCADO CREDITO PRIVADO</td><td>RJ</td><td>Rio de Janeiro</td></tr><tr><td>47085583000164</td><td>EM FUNCIONAMENTO NORMAL</td><td>2022-10-18</td><td>null</td><td>9.948267096E7</td><td>47085583000164</td><td>SP</td><td>JIVE DISTRESSED & SPECIAL SITS IV INSTITUTIONAL FIC DE FIF MULTI - CP RESPONSABILIDADE LIMITADA</td><td>SP</td><td>São Paulo</td></tr><tr><td>47423757000151</td><td>EM FUNCIONAMENTO NORMAL</td><td>2022-10-20</td><td>65.0</td><td>3.280304342E8</td><td>47423757000151</td><td>MG</td><td>RENDA FUNDO DE INVESTIMENTO FINANCEIRO RENDA FIXA LONGO PRAZO TITULOS PUBL IMA GERAL RESP LIMITADA</td><td>MG</td><td>Minas Gerais</td></tr><tr><td>45908305000134</td><td>EM FUNCIONAMENTO NORMAL</td><td>2022-11-22</td><td>null</td><td>1.6483529491E8</td><td>45908305000134</td><td>SP</td><td>ID 309 FUNDO DE INVESTIMENTO MULTIMERCADO CREDITO PRIVADO INVESTIMENTO NO EXTERIOR</td><td>SP</td><td>São Paulo</td></tr><tr><td>47984249000142</td><td>EM FUNCIONAMENTO NORMAL</td><td>2022-11-30</td><td>null</td><td>3676461.59</td><td>47984249000142</td><td>SP</td><td>SAM 3 FUNDO DE INVESTIMENTO MULTIMERCADO CREDITO PRIVADO RESPONSABILIDADE LIMITADA</td><td>SP</td><td>São Paulo</td></tr><tr><td>45823709000125</td><td>EM FUNCIONAMENTO NORMAL</td><td>2022-12-08</td><td>1.0</td><td>1.55511045E7</td><td>45823709000125</td><td>SP</td><td>INVESTO MEGA TRENDS CLASSE DE INVESTIMENTO ACOES RESPONSABILIDADE LIMITADA</td><td>SP</td><td>São Paulo</td></tr><tr><td>48993165000138</td><td>EM FUNCIONAMENTO NORMAL</td><td>2022-12-28</td><td>0.0</td><td>5.34157357E7</td><td>48993165000138</td><td>SP</td><td>LAB OITO FUNDO DE INVESTIMENTO MULTIMERCADO CREDITO PRIVADO</td><td>SP</td><td>São Paulo</td></tr><tr><td>48996079000189</td><td>EM FUNCIONAMENTO NORMAL</td><td>2022-12-28</td><td>null</td><td>7.640086935E7</td><td>48996079000189</td><td>SP</td><td>KSK FUNDO DE INVESTIMENTO MULTIMERCADO CREDITO PRIVADO</td><td>SP</td><td>São Paulo</td></tr><tr><td>48996311000189</td><td>EM FUNCIONAMENTO NORMAL</td><td>2022-12-28</td><td>null</td><td>7635102.32</td><td>48996311000189</td><td>SP</td><td>ABP VENTURES FUNDO DE INVESTIMENTO MULTIMERCADO CREDITO PRIVADO INVESTIMENTO NO EXTERIOR</td><td>SP</td><td>São Paulo</td></tr><tr><td>49224039000181</td><td>EM FUNCIONAMENTO NORMAL</td><td>2023-01-17</td><td>null</td><td>4801607.67</td><td>49224039000181</td><td>SP</td><td>GRIFFIN FUNDO DE INVESTIMENTO MULTIMERCADO CREDITO PRIVADO INVESTIMENTO NO EXTERIOR</td><td>SP</td><td>São Paulo</td></tr><tr><td>19424677000185</td><td>EM FUNCIONAMENTO NORMAL</td><td>2023-02-01</td><td>2500.0</td><td>1.219515785E7</td><td>19424677000185</td><td>SP</td><td>VERUM FUNDO DE INVESTIMENTO MULTIMERCADO CREDITO PRIVADO</td><td>SP</td><td>São Paulo</td></tr><tr><td>49429700000195</td><td>EM FUNCIONAMENTO NORMAL</td><td>2023-02-01</td><td>0.0</td><td>6.534461901E7</td><td>49429700000195</td><td>SP</td><td>SILVES FUNDO DE INVESTIMENTO MULTIMERCADO CREDITO PRIVADO</td><td>SP</td><td>São Paulo</td></tr><tr><td>49506998000190</td><td>EM FUNCIONAMENTO NORMAL</td><td>2023-02-07</td><td>0.3</td><td>2.70401677E7</td><td>49506998000190</td><td>MG</td><td>SUPREME I FUNDO DE INVESTIMENTO MULTIMERCADO CREDITO PRIVADO</td><td>MG</td><td>Minas Gerais</td></tr><tr><td>49651132000172</td><td>EM FUNCIONAMENTO NORMAL</td><td>2023-02-17</td><td>null</td><td>4.237867217E7</td><td>49651132000172</td><td>SP</td><td>BAY HA LONG FUNDO DE INVESTIMENTO MULTIMERCADO CREDITO PRIVADO INVESTIMENTO NO EXTERIOR</td><td>SP</td><td>São Paulo</td></tr><tr><td>49651181000105</td><td>EM FUNCIONAMENTO NORMAL</td><td>2023-02-17</td><td>null</td><td>4.232100033E7</td><td>49651181000105</td><td>SP</td><td>BAY SAO FRANCISCO FUNDO DE INVESTIMENTO MULTIMERCADO CREDITO PRIVADO INVESTIMENTO NO EXTERIOR</td><td>SP</td><td>São Paulo</td></tr><tr><td>49651212000128</td><td>EM FUNCIONAMENTO NORMAL</td><td>2023-02-17</td><td>null</td><td>4.30252098E7</td><td>49651212000128</td><td>SP</td><td>BAY SIDNEY FUNDO DE INVESTIMENTO MULTIMERCADO CREDITO PRIVADO INVESTIMENTO NO EXTERIOR</td><td>SP</td><td>São Paulo</td></tr><tr><td>49651245000178</td><td>EM FUNCIONAMENTO NORMAL</td><td>2023-02-17</td><td>null</td><td>1.236116204E7</td><td>49651245000178</td><td>SP</td><td>BAY GUANABARA FUNDO DE INVESTIMENTO MULTIMERCADO CREDITO PRIVADO INVESTIMENTO NO EXTERIOR</td><td>SP</td><td>São Paulo</td></tr><tr><td>49733651000180</td><td>EM FUNCIONAMENTO NORMAL</td><td>2023-02-27</td><td>0.08</td><td>1.222186178E7</td><td>49733651000180</td><td>RJ</td><td>GENEPI FI EM COTAS DE FIF MULTIMERCADO CREDITO PRIVADO - RESPONSABILIDADE LIMITADA</td><td>RJ</td><td>Rio de Janeiro</td></tr><tr><td>49914023000109</td><td>EM FUNCIONAMENTO NORMAL</td><td>2023-03-13</td><td>0.0</td><td>1.6773497207E8</td><td>49914023000109</td><td>SP</td><td>BULLLA FUNDO DE INVESTIMENTO MULTIMERCADO CREDITO PRIVADO</td><td>SP</td><td>São Paulo</td></tr><tr><td>49995610000161</td><td>EM FUNCIONAMENTO NORMAL</td><td>2023-03-20</td><td>25.0</td><td>4.5087550965E8</td><td>49995610000161</td><td>MG</td><td>INTER INSTITUICOES FINANCEIRAS FUNDO DE INVESTIMENTO FINANCEIRO RENDA FIXA CRED PRIV RESP LIMITADA</td><td>MG</td><td>Minas Gerais</td></tr><tr><td>49983891000132</td><td>EM FUNCIONAMENTO NORMAL</td><td>2023-03-17</td><td>null</td><td>2.5731731862E8</td><td>49983891000132</td><td>RJ</td><td>PATRIA CREDITO ESTRUTURADO 365 FIC FIM CREDITO PRIVADO</td><td>RJ</td><td>Rio de Janeiro</td></tr><tr><td>49983964000196</td><td>EM FUNCIONAMENTO NORMAL</td><td>2023-03-17</td><td>null</td><td>7.2397634306E8</td><td>49983964000196</td><td>SP</td><td>CLASSE UNICA DO WESTERN ASSET CREDITO BANCARIO PLUS FI FINANCEIRO RF CP RESP LIMITADA</td><td>SP</td><td>São Paulo</td></tr><tr><td>50051913000105</td><td>EM FUNCIONAMENTO NORMAL</td><td>2023-03-23</td><td>null</td><td>5.455316553E7</td><td>50051913000105</td><td>SP</td><td>NXC FUNDO DE INVESTIMENTO MULTIMERCADO CREDITO PRIVADO</td><td>SP</td><td>São Paulo</td></tr><tr><td>50152676000179</td><td>EM FUNCIONAMENTO NORMAL</td><td>2023-03-30</td><td>null</td><td>3.473794755E7</td><td>50152676000179</td><td>SP</td><td>INVESTMACH FUNDO DE INVESTIMENTO EM COTAS DE FUNDOS DE INVESTIMENTO MULTIMERCADO CREDITO PRIVADO</td><td>SP</td><td>São Paulo</td></tr><tr><td>50191107000132</td><td>EM FUNCIONAMENTO NORMAL</td><td>2023-04-03</td><td>null</td><td>1.7628287032E8</td><td>50191107000132</td><td>SP</td><td>ID SOBERANO FUNDO DE INVESTIMENTO RENDA FIXA SIMPLES LONGO PRAZO</td><td>SP</td><td>São Paulo</td></tr><tr><td>50197313000150</td><td>EM FUNCIONAMENTO NORMAL</td><td>2023-04-04</td><td>45.0</td><td>2.1369438278E8</td><td>50197313000150</td><td>MG</td><td>INTER BB FC DE FUNDO DE INVESTIMENTO FINANCEIRO RENDA FIXA LONGO PRAZO RESP LIMITADA</td><td>MG</td><td>Minas Gerais</td></tr><tr><td>50269714000178</td><td>EM FUNCIONAMENTO NORMAL</td><td>2023-04-11</td><td>null</td><td>3.4081955309E8</td><td>50269714000178</td><td>SP</td><td>ID RF FUNDO DE INVESTIMENTO FINANCEIRO RENDA FIXA LONGO PRAZO</td><td>SP</td><td>São Paulo</td></tr><tr><td>50443649000155</td><td>EM FUNCIONAMENTO NORMAL</td><td>2023-04-25</td><td>null</td><td>2.0747074698E8</td><td>50443649000155</td><td>RJ</td><td>PRINZ DISCOVERY CREDITO ESTRUTURADO FUNDO DE INVESTIMENTO EM COTAS DE DIREITOS CREDITORIOS</td><td>RJ</td><td>Rio de Janeiro</td></tr><tr><td>50587789000105</td><td>EM FUNCIONAMENTO NORMAL</td><td>2023-05-08</td><td>null</td><td>8.21327176E7</td><td>50587789000105</td><td>SP</td><td>HT3 FUNDO DE INVESTIMENTO MULTIMERCADO CREDITO PRIVADO IE</td><td>SP</td><td>São Paulo</td></tr><tr><td>50943777000168</td><td>EM FUNCIONAMENTO NORMAL</td><td>2023-06-05</td><td>null</td><td>2.986653305E7</td><td>50943777000168</td><td>SP</td><td>BROWNFIELD FUNDO DE INVESTIMENTO EM DIREITOS CREDITORIOS RESPONSABILIDADE LIMITADA</td><td>SP</td><td>São Paulo</td></tr><tr><td>50946637000143</td><td>EM FUNCIONAMENTO NORMAL</td><td>2023-06-05</td><td>null</td><td>1.636318291E7</td><td>50946637000143</td><td>SP</td><td>A4 FUNDO DE INVESTIMENTO MULTIMERCADO ESTRATEGIA LIVRE CREDITO PRIVADO</td><td>SP</td><td>São Paulo</td></tr><tr><td>51029588000147</td><td>EM FUNCIONAMENTO NORMAL</td><td>2023-06-13</td><td>0.0</td><td>4.7998655265E8</td><td>51029588000147</td><td>SP</td><td>FRANKFURT CLASSE DE INVESTIMENTO MULTIMERCADO INVESTIMENTO NO EXTERIOR RESPONSABILIDADE LIMITADA</td><td>SP</td><td>São Paulo</td></tr><tr><td>51305991000151</td><td>EM FUNCIONAMENTO NORMAL</td><td>2023-07-05</td><td>0.695</td><td>4.317146516E7</td><td>51305991000151</td><td>MG</td><td>DUNAS II FUNDO DE INVESTIMENTO FINANCEIRO MULTIMERCADO CREDITO PRIVADO RESPONSABILIDADE LIMITADA</td><td>MG</td><td>Minas Gerais</td></tr><tr><td>51777660000114</td><td>EM FUNCIONAMENTO NORMAL</td><td>2023-08-11</td><td>null</td><td>3.087888276E7</td><td>51777660000114</td><td>SP</td><td>ANZEN FUNDO DE INVESTIMENTO EM COTAS DE FUNDOS DE INVESTIMENTO MULTIMERCADO CREDITO PRIVADO</td><td>SP</td><td>São Paulo</td></tr><tr><td>52317521000170</td><td>EM FUNCIONAMENTO NORMAL</td><td>2023-09-26</td><td>null</td><td>4511806.83</td><td>52317521000170</td><td>SP</td><td>IAT FUNDO DE INVESTIMENTO MULTIMERCADO RESPONSABILIDADE LIMITADA CREDITO PRIVADO IE</td><td>SP</td><td>São Paulo</td></tr><tr><td>52317938000133</td><td>EM FUNCIONAMENTO NORMAL</td><td>2023-09-26</td><td>null</td><td>3257185.51</td><td>52317938000133</td><td>SP</td><td>SZLEZ FUNDO DE INVESTIMENTO MULTIMERCADO RESPONSABILIDADE LIMITADA CREDITO PRIVADO IE</td><td>SP</td><td>São Paulo</td></tr><tr><td>09234078000145</td><td>EM FUNCIONAMENTO NORMAL</td><td>2008-06-04</td><td>null</td><td>1.16737717074E10</td><td>09234078000145</td><td>DF</td><td>FUNDO DE INVESTIMENTO DO FUNDO DE GARANTIA DO TEMPO DE SERVICO</td><td>DF</td><td>Distrito Federal</td></tr><tr><td>14166140000149</td><td>EM FUNCIONAMENTO NORMAL</td><td>2012-01-18</td><td>null</td><td>1.29401414112E9</td><td>14166140000149</td><td>SP</td><td>FUNDO DE INVESTIMENTO EM DIREITOS CREDITORIOS SIFRA STAR</td><td>SP</td><td>São Paulo</td></tr><tr><td>26862104000107</td><td>EM FUNCIONAMENTO NORMAL</td><td>2017-03-07</td><td>5.0</td><td>1.055678005E7</td><td>26862104000107</td><td>MG</td><td>GUIA FUNDO DE INVESTIMENTO FINANCEIRO EM ACOES</td><td>MG</td><td>Minas Gerais</td></tr><tr><td>12586174000167</td><td>EM FUNCIONAMENTO NORMAL</td><td>2016-10-20</td><td>null</td><td>4.782494499E7</td><td>12586174000167</td><td>SP</td><td>NOVA PARTICIPACOES - FUNDO DE INVESTIMENTO EM COTAS DE FUNDOS DE INVESTIMENTO MULTIMERCADO CREDITO PRIVADO</td><td>SP</td><td>São Paulo</td></tr><tr><td>27826059000190</td><td>EM FUNCIONAMENTO NORMAL</td><td>2017-10-23</td><td>0.6</td><td>2.1715571911E8</td><td>27826059000190</td><td>MG</td><td>INTER PREMIUM FUNDO DE INVESTIMENTO FINANCEIRO RENDA FIXA CREDITO PRIVADO LONGO PRAZO RESP LIMITADA</td><td>MG</td><td>Minas Gerais</td></tr><tr><td>28549930000118</td><td>EM FUNCIONAMENTO NORMAL</td><td>2017-12-07</td><td>null</td><td>9.3356381139E8</td><td>28549930000118</td><td>SP</td><td>CSHG JIVE DISTRESSED ALLOCATION II FIC DE FIF MULTI CP - RESPONSABILIDADE LIMITADA</td><td>SP</td><td>São Paulo</td></tr><tr><td>26845868000186</td><td>EM FUNCIONAMENTO NORMAL</td><td>2018-02-19</td><td>1.515</td><td>1265664.58</td><td>26845868000186</td><td>SP</td><td>BNP PARIBAS ACCESS DIVERSIFIED DYNAMIC CLASSE DE INVESTIMENTO MULTIMERCADO - RESP LIMITADA</td><td>SP</td><td>São Paulo</td></tr><tr><td>30282227000138</td><td>EM FUNCIONAMENTO NORMAL</td><td>2018-10-30</td><td>4.0</td><td>3.957397425E7</td><td>30282227000138</td><td>SP</td><td>BNP PARIBAS PREMIUM EQUITIES CI EM CLASSES DE INVESTIMENTO EM ACOES RESP LIMITADA</td><td>SP</td><td>São Paulo</td></tr><tr><td>30282270000101</td><td>EM FUNCIONAMENTO NORMAL</td><td>2018-12-19</td><td>5.0E-4</td><td>6.26435857544E9</td><td>30282270000101</td><td>SP</td><td>CLASSE UNICA DO IMOLA FUNDO DE INVESTIMENTO EM COTAS FINANCEIRO MULTIMERCADO CREDITO PRIVADO LP</td><td>SP</td><td>São Paulo</td></tr><tr><td>28320756000137</td><td>EM FUNCIONAMENTO NORMAL</td><td>2019-01-17</td><td>0.5</td><td>3.03561141071E9</td><td>28320756000137</td><td>SP</td><td>CLASSE UNICA DO WESTERN ASSET TOTAL CREDIT ADVISORY FI EM COTAS DE FI FINANCEIRO RF CP RESP. LTDA</td><td>SP</td><td>São Paulo</td></tr><tr><td>29881003000163</td><td>EM FUNCIONAMENTO NORMAL</td><td>2019-01-23</td><td>0.01</td><td>4.9264134473E8</td><td>29881003000163</td><td>SP</td><td>SILEX FUNDO DE INVESTIMENTO MULTIMERCADO CREDITO PRIVADO INVESTIMENTO NO EXTERIOR</td><td>SP</td><td>São Paulo</td></tr><tr><td>32244578000180</td><td>EM FUNCIONAMENTO NORMAL</td><td>2019-02-11</td><td>null</td><td>3.398212742E7</td><td>32244578000180</td><td>SP</td><td>SUN FUNDO DE INVESTIMENTO MULTIMERCADO CREDITO PRIVADO</td><td>SP</td><td>São Paulo</td></tr><tr><td>32203308000120</td><td>EM FUNCIONAMENTO NORMAL</td><td>2019-03-26</td><td>0.38</td><td>2.0211663737E8</td><td>32203308000120</td><td>SP</td><td>BNP PARIBAS CASH DI II REFERENCIADO CI EM CLASSES DE INVESTIMENTO RENDA FIXA - RESP LIMITADA</td><td>SP</td><td>São Paulo</td></tr><tr><td>32222722000187</td><td>EM FUNCIONAMENTO NORMAL</td><td>2019-04-03</td><td>0.25</td><td>1.88152272607E9</td><td>32222722000187</td><td>SP</td><td>BNP PARIBAS CRED INSTITUCIONAL SUSTENTAVEL IS CI EM CLASSES DE INVESTIMENTO RF CP LP - RESP LIMITADA</td><td>SP</td><td>São Paulo</td></tr><tr><td>29315243000109</td><td>EM FUNCIONAMENTO NORMAL</td><td>2019-03-18</td><td>2.0</td><td>9.0170094276E8</td><td>29315243000109</td><td>SP</td><td>ESTOCOLMO FUNDO DE INVESTIMENTO MULTIMERCADO CREDITO PRIVADO</td><td>SP</td><td>São Paulo</td></tr><tr><td>31963246000192</td><td>EM FUNCIONAMENTO NORMAL</td><td>2019-03-18</td><td>2.0</td><td>2488248.35</td><td>31963246000192</td><td>SP</td><td>SERRA DE BRAGANCA FUNDO DE INVESTIMENTO MULTIMERCADO</td><td>SP</td><td>São Paulo</td></tr><tr><td>32222759000105</td><td>EM FUNCIONAMENTO NORMAL</td><td>2019-06-18</td><td>0.065</td><td>2.04240363E7</td><td>32222759000105</td><td>SP</td><td>BLACKROCK DYNAMIC HIGH INCOME MASTER CLASSE DE INVESTIMENTO MULTIMERCADO - RESP LIMITADA</td><td>SP</td><td>São Paulo</td></tr><tr><td>33361831000148</td><td>EM FUNCIONAMENTO NORMAL</td><td>2019-06-18</td><td>0.9</td><td>1.94939777E7</td><td>33361831000148</td><td>SP</td><td>BLACKROCK DYNAMIC HIGH INCOME CLASSE DE INVESTIMENTO MULTIMERCADO RESPONSABILIDADE LIMITADA</td><td>SP</td><td>São Paulo</td></tr><tr><td>33361923000128</td><td>EM FUNCIONAMENTO NORMAL</td><td>2019-06-18</td><td>0.065</td><td>6.077961322E7</td><td>33361923000128</td><td>SP</td><td>BLACKROCK GLOBAL BOND INCOME MASTER CLASSE DE INVESTIMENTO MULTIMERCADO - RESPONSABILIDADE LIMITADA</td><td>SP</td><td>São Paulo</td></tr><tr><td>33361798000156</td><td>EM FUNCIONAMENTO NORMAL</td><td>2019-06-18</td><td>0.8</td><td>7575485.02</td><td>33361798000156</td><td>SP</td><td>BLACKROCK GLOBAL BOND INCOME CLASSE DE INVESTIMENTO EM CIC MULTIMERCADO - RESPONSABILIDADE LIMITADA</td><td>SP</td><td>São Paulo</td></tr><tr><td>33361873000189</td><td>EM FUNCIONAMENTO NORMAL</td><td>2019-06-18</td><td>0.07</td><td>6.562865568E7</td><td>33361873000189</td><td>SP</td><td>BLACKROCK GLOBAL EVENT DRIVEN MASTER CLASSE DE INVESTIMENTO MULTIMERCADO RESPONSABILIDADE LIMITADA</td><td>SP</td><td>São Paulo</td></tr><tr><td>33361657000133</td><td>EM FUNCIONAMENTO NORMAL</td><td>2019-06-18</td><td>0.9</td><td>2.522218995E7</td><td>33361657000133</td><td>SP</td><td>BLACKROCK GLOBAL EVENT DRIVEN CLASSE DE INVESTIMENTO MULTIMERCADO RESPONSABILIDADE LIMITADA</td><td>SP</td><td>São Paulo</td></tr><tr><td>28065477000174</td><td>EM FUNCIONAMENTO NORMAL</td><td>2019-08-02</td><td>null</td><td>3.6033615272E8</td><td>28065477000174</td><td>SP</td><td>FUTURAMA FUNDO DE INVESTIMENTO MULTIMERCADO CREDITO PRIVADO INVESTIMENTO NO EXTERIOR</td><td>SP</td><td>São Paulo</td></tr><tr><td>34617291000183</td><td>EM FUNCIONAMENTO NORMAL</td><td>2019-09-11</td><td>855.0</td><td>5018082.48</td><td>34617291000183</td><td>MG</td><td>INTER SELECTION MACRO FC DE FUNDO DE INVESTIMENTO FINANCEIRO MULTIMERCADO RESPONSABILIDADE LIMITADA</td><td>MG</td><td>Minas Gerais</td></tr><tr><td>33429343000125</td><td>EM FUNCIONAMENTO NORMAL</td><td>2019-09-18</td><td>0.03</td><td>3.6174697241E8</td><td>33429343000125</td><td>SP</td><td>DB HOLDING CLASSE DE INVESTIMENTO MULTIMERCADO INVESTIMENTO NO EXTERIOR CREDITO PRIVADO</td><td>SP</td><td>São Paulo</td></tr><tr><td>35580324000120</td><td>EM FUNCIONAMENTO NORMAL</td><td>2019-11-27</td><td>1.85</td><td>9.136176875E7</td><td>35580324000120</td><td>RJ</td><td>DAHLIA TOTAL RETURN CSHG II FI EM COTAS DE FI FINANCEIRO MULTIMERCADO RESPONSABILIDADE LIMITADA</td><td>RJ</td><td>Rio de Janeiro</td></tr><tr><td>33033191000147</td><td>EM FUNCIONAMENTO NORMAL</td><td>2019-12-17</td><td>0.8816</td><td>8.992570721E7</td><td>33033191000147</td><td>RJ</td><td>KATCH FUNDO DE INVESTIMENTO MULTIMERCADO CREDITO PRIVADO</td><td>RJ</td><td>Rio de Janeiro</td></tr><tr><td>33913568000152</td><td>EM FUNCIONAMENTO NORMAL</td><td>2019-12-30</td><td>0.09</td><td>999393.63</td><td>33913568000152</td><td>SP</td><td>DB I CLASSE DE INVESTIMENTO MULTIMERCADO INVESTIMENTO NO EXTERIOR CREDITO PRIVADO</td><td>SP</td><td>São Paulo</td></tr><tr><td>33913576000107</td><td>EM FUNCIONAMENTO NORMAL</td><td>2019-12-30</td><td>0.09</td><td>3.5382136994E8</td><td>33913576000107</td><td>SP</td><td>DB II CLASSE DE INVESTIMENTO MULTIMERCADO INVESTIMENTO NO EXTERIOR CREDITO PRIVADO</td><td>SP</td><td>São Paulo</td></tr><tr><td>33913584000145</td><td>EM FUNCIONAMENTO NORMAL</td><td>2019-12-30</td><td>0.09</td><td>6876880.46</td><td>33913584000145</td><td>SP</td><td>DB III CLASSE DE INVESTIMENTO MULTIMERCADO INVESTIMENTO NO EXTERIOR CREDITO PRIVADO</td><td>SP</td><td>São Paulo</td></tr><tr><td>29983516000185</td><td>EM FUNCIONAMENTO NORMAL</td><td>2020-01-08</td><td>1.2</td><td>7.078584772E7</td><td>29983516000185</td><td>SP</td><td>CLASSE UNICA DO WESTERN ASSET FI FINANCEIRO INCENTIVADO EM DEBENTURES DE INFRA RF CP RESP LIMITADA</td><td>SP</td><td>São Paulo</td></tr><tr><td>35178253000134</td><td>EM FUNCIONAMENTO NORMAL</td><td>2020-01-10</td><td>0.66</td><td>3.5600970375E8</td><td>35178253000134</td><td>MG</td><td>MARACA FUNDO DE INVESTIMENTO MULTIMERCADO INVESTIMENTO NO EXTERIOR E CREDITO PRIVADO</td><td>MG</td><td>Minas Gerais</td></tr><tr><td>36443522000105</td><td>EM FUNCIONAMENTO NORMAL</td><td>2020-02-21</td><td>25.0</td><td>1.81405177298E9</td><td>36443522000105</td><td>MG</td><td>INTER CORPORATE FUNDO DE INVESTIMENTO FINANCEIRO RENDA FIXA CREDITO PRIVADO RESP LIMITADA</td><td>MG</td><td>Minas Gerais</td></tr><tr><td>36443587000150</td><td>EM FUNCIONAMENTO NORMAL</td><td>2020-03-09</td><td>3.0</td><td>2.128071543E7</td><td>36443587000150</td><td>MG</td><td>INTER ACCESS LEGACY CAPITAL FUNDO DE INVESTIMENTO EM COTAS DE FUNDO DE INVESTIMENTO FINANCEIRO MULTI</td><td>MG</td><td>Minas Gerais</td></tr><tr><td>36764134000126</td><td>EM FUNCIONAMENTO NORMAL</td><td>2020-03-25</td><td>5.0</td><td>2.963157566E7</td><td>36764134000126</td><td>MG</td><td>INTER ACCESS ATMOS FC DE FUNDOS DE INVESTIMENTO FINANCEIRO EM ACOES RESPONSABILIDADE LIMITADA</td><td>MG</td><td>Minas Gerais</td></tr><tr><td>35819666000150</td><td>EM FUNCIONAMENTO NORMAL</td><td>2020-06-19</td><td>2.0</td><td>1.6604255414E9</td><td>35819666000150</td><td>SP</td><td>JIVE DISTRESSED III ONSHORE FIC DE FIF MULTIMERCADO - CREDITO PRIVADO RESPONSABILIDADE LIMITADA</td><td>SP</td><td>São Paulo</td></tr><tr><td>36729755000179</td><td>EM FUNCIONAMENTO NORMAL</td><td>2020-06-19</td><td>0.9</td><td>2.1997348455E8</td><td>36729755000179</td><td>RJ</td><td>GALAPAGOS DRAGON FUNDO DE INVESTIMENTO EM COTAS DE FUNDOS DE INVESTIMENTO MULTIMERCADO CREDITO PRIVADO</td><td>RJ</td><td>Rio de Janeiro</td></tr><tr><td>35819219000100</td><td>EM FUNCIONAMENTO NORMAL</td><td>2020-07-24</td><td>0.4</td><td>1.0551798646E9</td><td>35819219000100</td><td>SP</td><td>JIVE DISTRESSED III OFFSHORE FIC DE FIF MULTI CP RESPONSABILIDADE LIMITADA</td><td>SP</td><td>São Paulo</td></tr><tr><td>37806055000101</td><td>EM FUNCIONAMENTO NORMAL</td><td>2020-08-20</td><td>0.0</td><td>2.9483089257E8</td><td>37806055000101</td><td>RJ</td><td>EVEREST HIGH YIELD FUNDO DE INVESTIMENTO EM COTAS DE FUNDOS DE INVESTIMENTO MULTIMERCADO CREDITO PRIVADO E1</td><td>RJ</td><td>Rio de Janeiro</td></tr><tr><td>36655944000144</td><td>EM FUNCIONAMENTO NORMAL</td><td>2020-09-10</td><td>null</td><td>5050323.26</td><td>36655944000144</td><td>SP</td><td>VKR FUNDO DE INVESTIMENTO MULTIMERCADO - CREDITO PRIVADO LONGO PRAZO</td><td>SP</td><td>São Paulo</td></tr><tr><td>39281116000181</td><td>EM FUNCIONAMENTO NORMAL</td><td>2020-11-06</td><td>5.0</td><td>6293022.87</td><td>39281116000181</td><td>MG</td><td>INTER ACCESS BOGARI VALUE FC DE FUNDOS DE INVESTIMENTO FINANCEIRO EM ACOES RESPONSABILIDADE LIMITADA</td><td>MG</td><td>Minas Gerais</td></tr><tr><td>39344840000107</td><td>EM FUNCIONAMENTO NORMAL</td><td>2020-11-17</td><td>2.0</td><td>8940141.89</td><td>39344840000107</td><td>MG</td><td>INTER ACOES VALOR FUNDO DE INVESTIMENTO FINANCEIRO EM ACOES RESPONSABILIDADE LIMITADA</td><td>MG</td><td>Minas Gerais</td></tr><tr><td>39723229000190</td><td>EM FUNCIONAMENTO NORMAL</td><td>2021-01-27</td><td>0.07</td><td>6.948446891E7</td><td>39723229000190</td><td>SP</td><td>BLACKROCK ACOES GLOBAIS ESG CLASSE DE INVESTIMENTO SUSTENTAVEL EM ACOES - RESPONSABILIDADE LIMITADA</td><td>SP</td><td>São Paulo</td></tr><tr><td>38443033000189</td><td>EM FUNCIONAMENTO NORMAL</td><td>2021-02-10</td><td>0.98</td><td>5.715885576E7</td><td>38443033000189</td><td>SP</td><td>BNP PARIBAS INFRAESTRUTURA CIC RF SUSTENTAVEL IS - RESPONSABILIDADE LIMITADA</td><td>SP</td><td>São Paulo</td></tr><tr><td>39540780000106</td><td>EM FUNCIONAMENTO NORMAL</td><td>2021-02-17</td><td>7.0</td><td>3.980750295E7</td><td>39540780000106</td><td>MG</td><td>INTER ACCESS VERDE FUNDO DE INVESTIMENTO EM COTAS DE FUNDO DE INVESTIMENTO FINANCEIRO MULTIMERCADO</td><td>MG</td><td>Minas Gerais</td></tr><tr><td>40905548000103</td><td>EM FUNCIONAMENTO NORMAL</td><td>2021-03-01</td><td>1.0</td><td>3.487545472E7</td><td>40905548000103</td><td>RJ</td><td>FUNDO DE INVESTIMENTO EM COTAS DE FUNDOS DE INVESTIMENTO MULTIMERCADO EMPIRICA LOTUS HY CREDITO PRIVADO</td><td>RJ</td><td>Rio de Janeiro</td></tr><tr><td>40140470000175</td><td>EM FUNCIONAMENTO NORMAL</td><td>2021-03-15</td><td>0.5</td><td>4.732314828E7</td><td>40140470000175</td><td>SP</td><td>BNP PARIBAS INFRA INSTITUCIONAL CI EM CLASSES DE INVESTIMENTO RF SUSTENTAVEL IS - RESP LIMITADA</td><td>SP</td><td>São Paulo</td></tr><tr><td>41036490000163</td><td>EM FUNCIONAMENTO NORMAL</td><td>2021-03-15</td><td>5.0</td><td>3.901224709E7</td><td>41036490000163</td><td>MG</td><td>INTER ACCESS ARBOR FC DE FI FINANCEIRO EM ACOES BDR NIVEL I RESPONSABILIDADE LIMITADA</td><td>MG</td><td>Minas Gerais</td></tr><tr><td>35277363000153</td><td>EM FUNCIONAMENTO NORMAL</td><td>2021-03-17</td><td>null</td><td>2.7238955682E8</td><td>35277363000153</td><td>SP</td><td>MGC GLOBAL FUNDO DE INVESTIMENTO EM COTAS DE FIDC RESPONSABILIDADE LIMITADA</td><td>SP</td><td>São Paulo</td></tr><tr><td>41833315000105</td><td>EM FUNCIONAMENTO NORMAL</td><td>2021-05-24</td><td>null</td><td>3.12109464E7</td><td>41833315000105</td><td>SP</td><td>PRODUZ FUNDO DE INVESTIMENTO MULTIMERCADO - INVESTIMENTO NO EXTERIOR</td><td>SP</td><td>São Paulo</td></tr><tr><td>41953322000132</td><td>EM FUNCIONAMENTO NORMAL</td><td>2021-06-07</td><td>4.0</td><td>1.7319844967E8</td><td>41953322000132</td><td>MG</td><td>INTER INFRA MASTER FIF INCENTIV DE INVESTIMENTO EM INFRA RENDA FIXA CRED PRIV RESP LIMITADA</td><td>MG</td><td>Minas Gerais</td></tr><tr><td>42081295000118</td><td>EM FUNCIONAMENTO NORMAL</td><td>2021-06-11</td><td>0.0</td><td>5.896034231E8</td><td>42081295000118</td><td>RJ</td><td>RIZA STATHEROS MASTER FUNDO DE INVESTIMENTO EM COTAS DE FUNDOS DE INVESTIMENTO MULTIMERCADO CREDITO PRIVADO</td><td>RJ</td><td>Rio de Janeiro</td></tr><tr><td>42260903000151</td><td>EM FUNCIONAMENTO NORMAL</td><td>2021-07-08</td><td>null</td><td>5.8474970655E8</td><td>42260903000151</td><td>RJ</td><td>RIZA STATHEROS FUNDO DE INVESTIMENTO EM COTAS DE FUNDOS DE INVESTIMENTO MULTIMERCADO CREDITO PRIVADO</td><td>RJ</td><td>Rio de Janeiro</td></tr><tr><td>42294971000131</td><td>EM FUNCIONAMENTO NORMAL</td><td>2021-07-02</td><td>8.0</td><td>2.0979385268E8</td><td>42294971000131</td><td>MG</td><td>INTER INFRA FC DE FIF INCENTIV DE INVEST EM INFRA RENDA FIXA CRED PRIV RESP LIMITADA</td><td>MG</td><td>Minas Gerais</td></tr><tr><td>37828802000102</td><td>EM FUNCIONAMENTO NORMAL</td><td>2021-07-19</td><td>null</td><td>5956004.96</td><td>37828802000102</td><td>SP</td><td>AZURE FI EM COTAS DE FUNDOS DE INVESTIMENTO EM DIREITOS CREDITORIOS - RESPONSABILIDADE LIMITADA</td><td>SP</td><td>São Paulo</td></tr><tr><td>42295379000154</td><td>EM FUNCIONAMENTO NORMAL</td><td>2021-08-16</td><td>null</td><td>1.5674803064E8</td><td>42295379000154</td><td>MG</td><td>IG FUNDO DE INVESTIMENTO FINANCEIRO RENDA FIXA CREDITO PRIVADO RESPONSABILIDADE LIMITADA</td><td>MG</td><td>Minas Gerais</td></tr><tr><td>43105440000116</td><td>EM FUNCIONAMENTO NORMAL</td><td>2021-08-25</td><td>null</td><td>5886041.3</td><td>43105440000116</td><td>SP</td><td>BNP PARIBAS SOBERANO II CIC DE CLASSE DE INVESTIMENTO RENDA FIXA SIMPLES - RESP LIMITADA</td><td>SP</td><td>São Paulo</td></tr><tr><td>42315695000140</td><td>EM FUNCIONAMENTO NORMAL</td><td>2021-08-26</td><td>null</td><td>3.211744968E7</td><td>42315695000140</td><td>MG</td><td>INTER ACESS ABSOLUTE VERTEX FC DE FUNDO DE INVESTIMENTO FINANCEIRO MULTIMERCADO</td><td>MG</td><td>Minas Gerais</td></tr><tr><td>43508144000166</td><td>EM FUNCIONAMENTO NORMAL</td><td>2021-09-27</td><td>null</td><td>9.403083508E7</td><td>43508144000166</td><td>RJ</td><td>UJAY FUNDO DE INVESTIMENTO EM COTAS DE FUNDOS DE INVESTIMENTO MULTIMERCADO CREDITO PRIVADO 60</td><td>RJ</td><td>Rio de Janeiro</td></tr><tr><td>43122453000101</td><td>EM FUNCIONAMENTO NORMAL</td><td>2021-10-01</td><td>null</td><td>1.3764790992E8</td><td>43122453000101</td><td>SP</td><td>BLACKROCK BDR-EFT CLASSE DE INVESTIMENTO EM ACOES - RESPONSABILIDADE LIMITADA</td><td>SP</td><td>São Paulo</td></tr><tr><td>42754444000162</td><td>EM FUNCIONAMENTO NORMAL</td><td>2021-11-29</td><td>null</td><td>6.572671967E7</td><td>42754444000162</td><td>RJ</td><td>ISTAMBUL FUNDO DE INVESTIMENTO MULTIMERCADO</td><td>RJ</td><td>Rio de Janeiro</td></tr><tr><td>42922066000189</td><td>EM FUNCIONAMENTO NORMAL</td><td>2021-12-17</td><td>null</td><td>3584748.74</td><td>42922066000189</td><td>SP</td><td>HORIZONTE I FUNDO DE INVESTIMENTO FINANCEIRO MULTIMERCADO CREDITO PRIVADO DE RESP LIMITADA</td><td>SP</td><td>São Paulo</td></tr><tr><td>44680491000134</td><td>EM FUNCIONAMENTO NORMAL</td><td>2022-01-03</td><td>null</td><td>4.2076959083E8</td><td>44680491000134</td><td>SP</td><td>GALAXY FUNDO DE INVESTIMENTO EM COTAS DE FUNDOS DE INVESTIMENTO MULTIMERCADO - CREDITO PRIVADO</td><td>SP</td><td>São Paulo</td></tr><tr><td>42562105000184</td><td>EM FUNCIONAMENTO NORMAL</td><td>2022-01-18</td><td>null</td><td>0.0</td><td>42562105000184</td><td>SP</td><td>AGILE INVESTE FUNDO DE INVESTIMENTO MULTIMERCADO</td><td>SP</td><td>São Paulo</td></tr><tr><td>42691990000100</td><td>EM FUNCIONAMENTO NORMAL</td><td>2022-02-01</td><td>null</td><td>2.844502902E7</td><td>42691990000100</td><td>MG</td><td>INTER DIVIDENDOS FUNDO DE INVESTIMENTO FINANCEIRO EM ACOES RESPONSABILIDADE LIMITADA</td><td>MG</td><td>Minas Gerais</td></tr><tr><td>44815107000163</td><td>EM FUNCIONAMENTO NORMAL</td><td>2022-02-15</td><td>null</td><td>2.208686899E7</td><td>44815107000163</td><td>RJ</td><td>ARF SANTOS DUMONT PREV FIF MULTIMERCADO CREDITO PRIVADO - RESPONSABILIDADE LIMITADA</td><td>RJ</td><td>Rio de Janeiro</td></tr><tr><td>44680466000150</td><td>EM FUNCIONAMENTO NORMAL</td><td>2022-02-24</td><td>null</td><td>6.397035926E7</td><td>44680466000150</td><td>SP</td><td>LGG INVEST FI EM COTAS DE FUNDO DE INVESTIMENTO MULTIMERCADO - CREDITO PRIVADO RESP LIMITADA</td><td>SP</td><td>São Paulo</td></tr><tr><td>43876172000136</td><td>EM FUNCIONAMENTO NORMAL</td><td>2022-03-08</td><td>null</td><td>4142252.66</td><td>43876172000136</td><td>MG</td><td>IA CARTEIRA JUROS FC DE FUNDO DE INVESTIMENTO FINANCEIRO MULT CRED PRIV RESPONSABILIDADE LIMITADA</td><td>MG</td><td>Minas Gerais</td></tr><tr><td>43876638000101</td><td>EM FUNCIONAMENTO NORMAL</td><td>2022-03-08</td><td>null</td><td>4765027.17</td><td>43876638000101</td><td>MG</td><td>IA CARTEIRA MULT FC DE FUNDO DE INVESTIMENTO FINANCEIRO MULT CRED PRIV RESPONSABILIDADE LIMITADA</td><td>MG</td><td>Minas Gerais</td></tr><tr><td>42656644000182</td><td>EM FUNCIONAMENTO NORMAL</td><td>2022-03-08</td><td>null</td><td>1.186271469E7</td><td>42656644000182</td><td>MG</td><td>IA CARTEIRA CREDITO FC DE FUNDO DE INVESTIMENTO FINANCEIRO MULT CRED PRIV RESPONSABILIDADE LIMITADA</td><td>MG</td><td>Minas Gerais</td></tr><tr><td>02727085000130</td><td>EM FUNCIONAMENTO NORMAL</td><td>2022-04-09</td><td>null</td><td>1355673.91</td><td>02727085000130</td><td>RJ</td><td>FUNDO MUTUO STOCK MAXIMA DE PRIVATIZACAO FGTS</td><td>RJ</td><td>Rio de Janeiro</td></tr><tr><td>45017499000188</td><td>EM FUNCIONAMENTO NORMAL</td><td>2022-04-19</td><td>0.1411</td><td>1.5016764159E8</td><td>45017499000188</td><td>SP</td><td>BNP PARIBAS MAIS VIDA III CLASSE DE INVESTIMENTO EM CIC MULTIMERCADO CREDITO PRIVADO RESP LIMITADA</td><td>SP</td><td>São Paulo</td></tr><tr><td>45953169000102</td><td>EM FUNCIONAMENTO NORMAL</td><td>2022-05-02</td><td>0.0</td><td>4.505303154E7</td><td>45953169000102</td><td>RJ</td><td>ORAMA TEN FUNDO DE INVESTIMENTO EM ACOES</td><td>RJ</td><td>Rio de Janeiro</td></tr><tr><td>44432479000100</td><td>EM FUNCIONAMENTO NORMAL</td><td>2022-05-06</td><td>0.2</td><td>2.6981060166E8</td><td>44432479000100</td><td>SP</td><td>BNP PARIBAS PREVINORTE CLASSE DE INVESTIMENTO MULTIMERCADO - RESPONSABILIDADE LIMITADA</td><td>SP</td><td>São Paulo</td></tr><tr><td>45018608000181</td><td>EM FUNCIONAMENTO NORMAL</td><td>2022-05-06</td><td>0.5</td><td>5.629107289E7</td><td>45018608000181</td><td>SP</td><td>BNP PARIBAS SIGMA INSTITUCIONAL CLASSE DE INVESTIMENTO DE RENDA FIXA LONGO PRAZO - RESP LIMITADA</td><td>SP</td><td>São Paulo</td></tr><tr><td>45018643000109</td><td>EM FUNCIONAMENTO NORMAL</td><td>2022-05-06</td><td>0.15</td><td>2.3769074663E8</td><td>45018643000109</td><td>SP</td><td>BNP PARIBAS PREMIUM MASTER INSTITUCIONAL RF ATIVO CIC DE CLASSES DE INVESTIMENTO RESP LIMITADA</td><td>SP</td><td>São Paulo</td></tr><tr><td>44104852000102</td><td>EM FUNCIONAMENTO NORMAL</td><td>2022-06-21</td><td>5.0</td><td>8783097.76</td><td>44104852000102</td><td>MG</td><td>INTER INFLACAO CURTA FUNDO DE INVESTIMENTO FINANCEIRO RENDA FIXA RESPONSABILIDADE LIMITADA</td><td>MG</td><td>Minas Gerais</td></tr><tr><td>46729394000114</td><td>EM FUNCIONAMENTO NORMAL</td><td>2022-07-04</td><td>5.0</td><td>3716137.24</td><td>46729394000114</td><td>MG</td><td>INTER LOVER FUNDO DE INVESTIMENTO FINANCEIRO MULTIMERCADO RESPONSABILIDADE LIMITADA</td><td>MG</td><td>Minas Gerais</td></tr><tr><td>00817677000117</td><td>EM FUNCIONAMENTO NORMAL</td><td>2005-03-17</td><td>0.45</td><td>2.2248789993E8</td><td>00817677000117</td><td>SP</td><td>CLASSE UNICA DO WESTERN ASSET ALPHA CREDIT RF FUNDO DE INVESTIMENTO FINANCEIRO CP RESP LIMITADA</td><td>SP</td><td>São Paulo</td></tr><tr><td>00819889000133</td><td>EM FUNCIONAMENTO NORMAL</td><td>2005-03-17</td><td>1.0</td><td>5.729872778E7</td><td>00819889000133</td><td>SP</td><td>WESTERN ASSET HEDGE DOLAR FUNDO DE INVESTIMENTO FINANCEIRO CAMBIAL - RESPONSABILIDADE LIMITADA</td><td>SP</td><td>São Paulo</td></tr><tr><td>01147641000136</td><td>EM FUNCIONAMENTO NORMAL</td><td>2005-04-04</td><td>0.1775</td><td>5.4073140876E8</td><td>01147641000136</td><td>SP</td><td>MAPFRE SOBERANO CLASSE DE INVESTIMENTO RENDA FIXA - RESPONSABILIDADE LIMITADA</td><td>SP</td><td>São Paulo</td></tr><tr><td>02539921000152</td><td>EM FUNCIONAMENTO NORMAL</td><td>2005-03-22</td><td>0.52</td><td>1.7849735231E8</td><td>02539921000152</td><td>SP</td><td>BNP PARIBAS RF CLASSE DE INVESTIMENTO DE RENDA FIXA - RESPONSABILIDADE LIMITADA</td><td>SP</td><td>São Paulo</td></tr><tr><td>02668201000197</td><td>EM FUNCIONAMENTO NORMAL</td><td>2005-03-22</td><td>0.1</td><td>1.59627950729E9</td><td>02668201000197</td><td>SP</td><td>BNP PARIBAS EQD BRAZIL FUND CLASSE DE INVESTIMENTO MULTIMERCADO CREDITO PRIVADO</td><td>SP</td><td>São Paulo</td></tr><tr><td>02918923000152</td><td>EM FUNCIONAMENTO NORMAL</td><td>2005-03-28</td><td>2.0</td><td>6269533.2</td><td>02918923000152</td><td>SP</td><td>BNP PARIBAS MAPFRE MAXI 20 MULTIMERCADO CIC COTAS DE CI PREVIDENCIARIA - RESPONSABILIDADE LIMITADA</td><td>SP</td><td>São Paulo</td></tr><tr><td>02918923000152</td><td>EM FUNCIONAMENTO NORMAL</td><td>2005-03-28</td><td>2.0</td><td>6269533.2</td><td>02918923000152</td><td>SP</td><td>BNP PARIBAS MAPFRE MAXI 20 MULTIMERCADO CIC COTAS DE CI PREVIDENCIARIA - RESPONSABILIDADE LIMITADA</td><td>SP</td><td>São Paulo</td></tr><tr><td>02918931000107</td><td>EM FUNCIONAMENTO NORMAL</td><td>2005-03-28</td><td>1.5</td><td>2.856408456E7</td><td>02918931000107</td><td>SP</td><td>BNP PARIBAS MAPFRE MAXI RENDA FIXA CIC DE CLASSES DE INVESTIMENTO PREVIDENCIARIA - RESP LIMITADA</td><td>SP</td><td>São Paulo</td></tr><tr><td>02918931000107</td><td>EM FUNCIONAMENTO NORMAL</td><td>2005-03-28</td><td>1.5</td><td>2.856408456E7</td><td>02918931000107</td><td>SP</td><td>BNP PARIBAS MAPFRE MAXI RENDA FIXA CIC DE CLASSES DE INVESTIMENTO PREVIDENCIARIA - RESP LIMITADA</td><td>SP</td><td>São Paulo</td></tr><tr><td>03499367000190</td><td>EM FUNCIONAMENTO NORMAL</td><td>2005-03-16</td><td>0.4</td><td>2.4029445984E8</td><td>03499367000190</td><td>SP</td><td>CLASSE UNICA DO WESTERN ASSET RF ATIVO FUNDO DE INVESTIMENTO FINANCEIRO - RESP LIMITADA</td><td>SP</td><td>São Paulo</td></tr><tr><td>04192419000143</td><td>EM FUNCIONAMENTO NORMAL</td><td>2005-03-15</td><td>0.8</td><td>3.735282279E7</td><td>04192419000143</td><td>SP</td><td>CLASSE UNICA DO WESTERN ASSET RF ATIVO MAX FIF - RESPONSABILIDAE LIMITADA</td><td>SP</td><td>São Paulo</td></tr><tr><td>05024659000100</td><td>EM FUNCIONAMENTO NORMAL</td><td>2005-03-16</td><td>1.1</td><td>1.445349547E7</td><td>05024659000100</td><td>SP</td><td>CLASSE UNICA DO WESTERN ASSET MULTITRADING H FI FINANCEIRO MULTIMERCADO - RESP LIMITADA</td><td>SP</td><td>São Paulo</td></tr><tr><td>05090727000120</td><td>EM FUNCIONAMENTO NORMAL</td><td>2005-03-16</td><td>0.15</td><td>6.3507335068E8</td><td>05090727000120</td><td>SP</td><td>CLASSE UNICA DO WESTERN ASSET DI MAX RF REFERENCIADO FUNDO DE INVESTIMENTO FINANCEIRO RESP. LIMITADA</td><td>SP</td><td>São Paulo</td></tr><tr><td>05104498000156</td><td>EM FUNCIONAMENTO NORMAL</td><td>2005-03-22</td><td>0.5</td><td>3.306740576E7</td><td>05104498000156</td><td>SP</td><td>BNP PARIBAS INFLACAO CI EM CLASSES DE INVESTIMENTO RENDA FIXA - RESPONSABILIDADE LIMITADA</td><td>SP</td><td>São Paulo</td></tr><tr><td>14951577000193</td><td>EM FUNCIONAMENTO NORMAL</td><td>2012-05-10</td><td>1.0</td><td>9.110146163E7</td><td>14951577000193</td><td>SP</td><td>BNP PARIBAS MAPFRE RENDA FIXA ATIVO CIC DE CLASSES DE INVESTIMENTO PREVIDENCIARIA - RESP LIMITADA</td><td>SP</td><td>São Paulo</td></tr><tr><td>14951577000193</td><td>EM FUNCIONAMENTO NORMAL</td><td>2012-05-10</td><td>1.0</td><td>9.110146163E7</td><td>14951577000193</td><td>SP</td><td>BNP PARIBAS MAPFRE RENDA FIXA ATIVO CIC DE CLASSES DE INVESTIMENTO PREVIDENCIARIA - RESP LIMITADA</td><td>SP</td><td>São Paulo</td></tr><tr><td>14167491000174</td><td>EM FUNCIONAMENTO NORMAL</td><td>2012-05-11</td><td>0.02</td><td>1.40077189908E9</td><td>14167491000174</td><td>SP</td><td>BNP PARIBAS MASTER CASH DI REFERENCIADO CLASSE DE INVESTIMENTO RENDA FIXA - RESP LIMITADA</td><td>SP</td><td>São Paulo</td></tr><tr><td>14167550000104</td><td>EM FUNCIONAMENTO NORMAL</td><td>2012-05-11</td><td>0.0</td><td>6.28676712E7</td><td>14167550000104</td><td>SP</td><td>BNP PARIBAS MASTER IBRX CLASSE DE INVESTIMENTO EM ACOES RESPONSABILIDADE LIMITADA</td><td>SP</td><td>São Paulo</td></tr><tr><td>12107669000166</td><td>EM FUNCIONAMENTO NORMAL</td><td>2012-06-01</td><td>0.02</td><td>2.38947988072E9</td><td>12107669000166</td><td>SP</td><td>BNP PARIBAS MASTER CREDITO SUSTENTAVEL IS CI RENDA FIXA CREDITO PRIVADO LONGO PRAZO - RESP LIMITADA</td><td>SP</td><td>São Paulo</td></tr><tr><td>14171578000115</td><td>EM FUNCIONAMENTO NORMAL</td><td>2012-06-27</td><td>0.0</td><td>4.8652616313E8</td><td>14171578000115</td><td>RJ</td><td>OURO PRETO FUNDO DE INVESTIMENTO EM COTAS DE FUNDOS DE INVESTIMENTO MULTIMERCADO CREDITO PRIVADO</td><td>RJ</td><td>Rio de Janeiro</td></tr><tr><td>16570371000149</td><td>EM FUNCIONAMENTO NORMAL</td><td>2012-08-01</td><td>2.0</td><td>2771984.61</td><td>16570371000149</td><td>SP</td><td>BBT MULTIMERCADO FUNDO DE INVESTIMENTO FINANCEIRO</td><td>SP</td><td>São Paulo</td></tr><tr><td>16617593000170</td><td>EM FUNCIONAMENTO NORMAL</td><td>2012-08-02</td><td>2.5</td><td>1033528.17</td><td>16617593000170</td><td>SP</td><td>BBT ACOES FUNDO DE INVESTIMENTO FINANCEIRO</td><td>SP</td><td>São Paulo</td></tr><tr><td>16703203000184</td><td>EM FUNCIONAMENTO NORMAL</td><td>2013-01-16</td><td>0.75</td><td>2.673520825E7</td><td>16703203000184</td><td>SP</td><td>WESTERN ASSET PREV IBRX ALPHA ACOES FIC DE FUNDOS DE INVESTIMENTO FINANCEIRO RESP LIMITADA</td><td>SP</td><td>São Paulo</td></tr><tr><td>17574820000190</td><td>EM FUNCIONAMENTO NORMAL</td><td>2013-02-28</td><td>0.3</td><td>1093018.92</td><td>17574820000190</td><td>SP</td><td>COASTAL FUNDO DE INVESTIMENTO EM ACOES</td><td>SP</td><td>São Paulo</td></tr><tr><td>17453850000148</td><td>EM FUNCIONAMENTO NORMAL</td><td>2013-04-17</td><td>1.0</td><td>1.19317094599E9</td><td>17453850000148</td><td>SP</td><td>WESTERN ASSET US INDEX 500 FUNDODE INVESTIMENTO FINANCEIRO MULTIMERCADO - RESPONSABILIDADE LIMITADA</td><td>SP</td><td>São Paulo</td></tr><tr><td>17517577000178</td><td>EM FUNCIONAMENTO NORMAL</td><td>2013-08-13</td><td>0.4</td><td>1.0133760388E8</td><td>17517577000178</td><td>SP</td><td>CLASSE UNICA DO WESTERN ASSET IMA-B5 ATIVO FUNDO DE INVESTIMENTO FINANCEIRO RF - RESP LIMITADA</td><td>SP</td><td>São Paulo</td></tr><tr><td>18448137000179</td><td>EM FUNCIONAMENTO NORMAL</td><td>2013-09-16</td><td>2.5</td><td>4269177.58</td><td>18448137000179</td><td>RS</td><td>GERAL DIVIDENDO FUNDO DE INVESTIMENTO EM ACOES - RESPONSABILIDADE LIMITADA</td><td>RS</td><td>Rio Grande do Sul</td></tr><tr><td>17340392000130</td><td>EM FUNCIONAMENTO NORMAL</td><td>2014-03-07</td><td>0.3</td><td>3.9777181563E8</td><td>17340392000130</td><td>SP</td><td>JPMORGAN GLOBAL RESEARCH ENHANCED INDEX EQUITY CLASSE DE INVESTIMENTO ACOES IE RESP LIMITADA</td><td>SP</td><td>São Paulo</td></tr><tr><td>19831126000136</td><td>EM FUNCIONAMENTO NORMAL</td><td>2014-04-11</td><td>1.5</td><td>1.63386148491E9</td><td>19831126000136</td><td>SP</td><td>WESTERN ASSET FUNDO DE INVESTIMENTO FINANCEIRO ACOES BDR NIVEL I - RESPONSABILIDADE LIMITADA</td><td>SP</td><td>São Paulo</td></tr><tr><td>20378135000100</td><td>EM FUNCIONAMENTO NORMAL</td><td>2014-08-06</td><td>0.17</td><td>1831833.56</td><td>20378135000100</td><td>SP</td><td>AX EQUILIBRIUM FI EM COTAS DE FUNDOS DE INVESTIMENTO MULTIMERCADO CREDITO PRIVADO</td><td>SP</td><td>São Paulo</td></tr><tr><td>17137984000150</td><td>EM FUNCIONAMENTO NORMAL</td><td>2014-09-11</td><td>0.02</td><td>3.06168632958E9</td><td>17137984000150</td><td>SP</td><td>BNP PARIBAS MASTER CREDITO PLUS CI RENDA FIXA CREDITO PRIVADO LONGO PRAZO RESPONSABILIDADE LIMITADA</td><td>SP</td><td>São Paulo</td></tr><tr><td>21185984000100</td><td>EM FUNCIONAMENTO NORMAL</td><td>2014-12-30</td><td>0.4</td><td>2.44843751283E9</td><td>21185984000100</td><td>SP</td><td>BNP PARIBAS RUBI CIC DE CLASSE DE INVESTIMENTO RENDA FIXA CREDITO PRIVADO RESPONSABILIDADE LIMITADA</td><td>SP</td><td>São Paulo</td></tr><tr><td>20879578000177</td><td>EM FUNCIONAMENTO NORMAL</td><td>2015-01-07</td><td>0.5</td><td>1.36919468676E9</td><td>20879578000177</td><td>MG</td><td>INTER CONSERVADOR FUNDO DE INVESTIMENTO FINANCEIRO RENDA FIXA CREDITO PRIVADO RESP LIMITADA</td><td>MG</td><td>Minas Gerais</td></tr><tr><td>21596006000143</td><td>EM FUNCIONAMENTO NORMAL</td><td>2015-01-19</td><td>0.12</td><td>2.4057585479E8</td><td>21596006000143</td><td>SP</td><td>MAPFRE HEDGE IGPM PREV CLASSE DE INVESTIMENTO EM CLASSES DE INVESTIMENTO DE RF - RESP LIMITADA</td><td>SP</td><td>São Paulo</td></tr><tr><td>21596006000143</td><td>EM FUNCIONAMENTO NORMAL</td><td>2015-01-19</td><td>0.12</td><td>2.4057585479E8</td><td>21596006000143</td><td>SP</td><td>MAPFRE HEDGE IGPM PREV CLASSE DE INVESTIMENTO EM CLASSES DE INVESTIMENTO DE RF - RESP LIMITADA</td><td>SP</td><td>São Paulo</td></tr><tr><td>22773421000198</td><td>EM FUNCIONAMENTO NORMAL</td><td>2016-03-31</td><td>0.15</td><td>6.5478605936E8</td><td>22773421000198</td><td>SP</td><td>CLASSE UNICA DO WESTERN ASSET SOBERANO II RF REFERENCIADO SELIC FI FINANACEIRO - RESP LIMITADA</td><td>SP</td><td>São Paulo</td></tr><tr><td>24372158000150</td><td>EM FUNCIONAMENTO NORMAL</td><td>2016-04-15</td><td>0.08</td><td>2.362694434E7</td><td>24372158000150</td><td>RJ</td><td>ARF SANTOS DUMONT FI EM COTAS DE FIF MULTIMERCADO CREDITO PRIVADO INVEST NO EXTERIOR - RESP LIMITADA</td><td>RJ</td><td>Rio de Janeiro</td></tr><tr><td>22809036000153</td><td>EM FUNCIONAMENTO NORMAL</td><td>2016-06-20</td><td>0.8</td><td>1.396207214E7</td><td>22809036000153</td><td>SP</td><td>BNP PARIBAS ICATU SEG CLASSE DE INVESTIMENTO PREVIDENCIARIA RENDA FIXA CRED PRIVADO - RESP LIMITADA</td><td>SP</td><td>São Paulo</td></tr><tr><td>26089666000151</td><td>EM FUNCIONAMENTO NORMAL</td><td>2016-10-31</td><td>0.38</td><td>1.0975836454E8</td><td>26089666000151</td><td>MG</td><td>INTER SELECTION DEBENT INCENT FC DE FIF INCENT DE INVEST EM INFRA RENDA FIXA CRED PRIV RESP LIMITADA</td><td>MG</td><td>Minas Gerais</td></tr><tr><td>25108905000100</td><td>EM FUNCIONAMENTO NORMAL</td><td>2016-12-09</td><td>0.2</td><td>1.0448693463E8</td><td>25108905000100</td><td>SP</td><td>BNP PARIBAS MASTER INFRAESTRUTURA CLASSE DE INVESTIMENTO RENDA FIXA SUSTENTAVEL IS - RESP LIMITADA</td><td>SP</td><td>São Paulo</td></tr><tr><td>05627929000169</td><td>EM FUNCIONAMENTO NORMAL</td><td>2005-04-04</td><td>0.12</td><td>1.15696028435E9</td><td>05627929000169</td><td>SP</td><td>MAPFRE EMPRESAS CLASSE DE INVESTIMENTO RENDA FIXA - RESPONSABILIDADE LIMITADA</td><td>SP</td><td>São Paulo</td></tr><tr><td>05754066000190</td><td>EM FUNCIONAMENTO NORMAL</td><td>2005-01-14</td><td>0.04</td><td>6.19662105094E9</td><td>05754066000190</td><td>SP</td><td>CLASSE UNICA DO AGATA FUNDO DE INVESTIMENTO FINANCEIRO MULTIMERCADO CREDITO PRIVADO LONGO PRAZO</td><td>SP</td><td>São Paulo</td></tr><tr><td>05862906000139</td><td>EM FUNCIONAMENTO NORMAL</td><td>2005-05-30</td><td>0.34</td><td>5.0323263789E8</td><td>05862906000139</td><td>SP</td><td>BNP PARIBAS TARGUS CLASSE DE INVESTIMENTO EM COTAS DE CLASSE DE INVESTIMENTO RF CP RESP LIMITADA</td><td>SP</td><td>São Paulo</td></tr><tr><td>07110963000197</td><td>EM FUNCIONAMENTO NORMAL</td><td>2005-02-11</td><td>0.15</td><td>4.37176736875E9</td><td>07110963000197</td><td>SP</td><td>CLASSE UNICA DO MAPLE FUNDO DE INVESTIMENTO FINANCEIRO MULTIMERCADO CP INVESTIMENTO NO EXTERIOR</td><td>SP</td><td>São Paulo</td></tr><tr><td>07110975000111</td><td>EM FUNCIONAMENTO NORMAL</td><td>2005-02-11</td><td>0.0</td><td>4.37160324335E9</td><td>07110975000111</td><td>SP</td><td>CLASSE UNICA DO OAK FUNDO DE INVESTIMENTO FINANCEIRO MULTIMERCADO CP INVESTIMENTO NO EXTERIOR</td><td>SP</td><td>São Paulo</td></tr><tr><td>07657641000162</td><td>EM FUNCIONAMENTO NORMAL</td><td>2008-06-10</td><td>0.7</td><td>4572264.72</td><td>07657641000162</td><td>SP</td><td>BNP PARIBAS ACCESS DISRUPTIVE TECHNOLOGY CLASSE DE INVESTIMENTO EM ACOES - RESPONSABILIDADE LIMITADA</td><td>SP</td><td>São Paulo</td></tr><tr><td>07672392000184</td><td>EM FUNCIONAMENTO NORMAL</td><td>2006-02-01</td><td>2.0</td><td>1.02713548E7</td><td>07672392000184</td><td>SP</td><td>WESTERN ASSET LONG & SHORT FUNDODE INVESTIMENTO FINANCEIRO MULTIMERCADO - RESPONSABILIDADE LIMITADA</td><td>SP</td><td>São Paulo</td></tr><tr><td>07939851000143</td><td>EM FUNCIONAMENTO NORMAL</td><td>2006-08-16</td><td>0.042</td><td>2.32051852498E9</td><td>07939851000143</td><td>SP</td><td>CLASSE UNICA ICEBERG FUNDO DE INVESTIMENTO MULTIMERCADO CREDITO PRIVADO LONGO PRAZO</td><td>SP</td><td>São Paulo</td></tr><tr><td>07965741000156</td><td>EM FUNCIONAMENTO NORMAL</td><td>2006-06-27</td><td>0.7</td><td>7.937533818E7</td><td>07965741000156</td><td>SP</td><td>BNP PARIBAS PREMIUM MULTIMERCADO CIC DE CLASSES DE INVESTIMENTO RESPONSABILIDADE LIMITADA</td><td>SP</td><td>São Paulo</td></tr><tr><td>08771975000125</td><td>EM FUNCIONAMENTO NORMAL</td><td>2007-10-25</td><td>0.11</td><td>6.38548976912E9</td><td>08771975000125</td><td>SP</td><td>BNP PARIBAS PROPRIETARIO CLASSE DE INVESTIMENTO MULTIMERCADO CREDITO PRIVADO</td><td>SP</td><td>São Paulo</td></tr><tr><td>08815386000100</td><td>EM FUNCIONAMENTO NORMAL</td><td>2007-08-10</td><td>1.0</td><td>1.07168979E7</td><td>08815386000100</td><td>MG</td><td>INTER SELECTION ACOES FC DE FUNDO DE INVESTIMENTO FINANCEIRO EM ACOES RESPONSABILIDADE LIMITADA</td><td>MG</td><td>Minas Gerais</td></tr><tr><td>09087301000179</td><td>EM FUNCIONAMENTO NORMAL</td><td>2010-05-25</td><td>0.5</td><td>1.0942306922E8</td><td>09087301000179</td><td>SP</td><td>CLASSE UNICA DO WESTERN ASSET IMA-B ATIVO FI FINANCEIRO RF RESPONSABILIDADE LIMITADA</td><td>SP</td><td>São Paulo</td></tr><tr><td>09087483000188</td><td>EM FUNCIONAMENTO NORMAL</td><td>2010-01-11</td><td>2.0</td><td>1.720790888E7</td><td>09087483000188</td><td>SP</td><td>WESTERN ASSET DIVIDEND YIELD FUNDO DE INVESTIMENTO FINANCEIRO EM ACOES - RESPONSABILIDADE LIMITADA</td><td>SP</td><td>São Paulo</td></tr><tr><td>09087523000191</td><td>EM FUNCIONAMENTO NORMAL</td><td>2010-01-11</td><td>2.5</td><td>4.066088248E7</td><td>09087523000191</td><td>SP</td><td>CLASSE UNICA DO WESTERN ASSET VALUATION FUNDODE INVESTIMENTO FINANCEIRO EM ACOES - RESP LIMITADA</td><td>SP</td><td>São Paulo</td></tr><tr><td>09228836000112</td><td>EM FUNCIONAMENTO NORMAL</td><td>2008-01-07</td><td>0.0</td><td>6.4796950853E8</td><td>09228836000112</td><td>SP</td><td>HORIZON CLASSE DE INVESTIMENTO MULTIMERCADO CREDITO PRIVADO INVESTIMENTO NO EXTERIOR</td><td>SP</td><td>São Paulo</td></tr><tr><td>09284554000132</td><td>EM FUNCIONAMENTO NORMAL</td><td>2008-05-29</td><td>0.12</td><td>1.9105776934E8</td><td>09284554000132</td><td>SP</td><td>MAPFRE RESERVAS CLASSE DE INVESTIMENTO RENDA FIXA - RESPONSABILIDADE LIMITADA</td><td>SP</td><td>São Paulo</td></tr><tr><td>09315625000117</td><td>EM FUNCIONAMENTO NORMAL</td><td>2008-07-08</td><td>1.0</td><td>1.213258701E7</td><td>09315625000117</td><td>RJ</td><td>SECURITY RENDA FIXA REFERENCIADO DI LONGO PRAZO CREDITO PRIVADO</td><td>RJ</td><td>Rio de Janeiro</td></tr><tr><td>07143386000130</td><td>EM FUNCIONAMENTO NORMAL</td><td>2004-11-16</td><td>null</td><td>614165.85</td><td>07143386000130</td><td>PA</td><td>FUNDO BASA DE INVESTIMENTO FINANCEIRO CURTO PRAZO ''2''</td><td>PA</td><td>Pará</td></tr><tr><td>07144604000150</td><td>EM FUNCIONAMENTO NORMAL</td><td>2004-11-16</td><td>null</td><td>1479388.51</td><td>07144604000150</td><td>PA</td><td>FUNDO BASA DE INVESTIMENTO FINANCEIRO SELETO ''2''</td><td>PA</td><td>Pará</td></tr><tr><td>01356517000180</td><td>EM FUNCIONAMENTO NORMAL</td><td>1996-07-24</td><td>null</td><td>1.6878108439E8</td><td>01356517000180</td><td>RJ</td><td>LAGRA-FUNDO DE INVESTIMENTO IMOBILIARIO</td><td>RJ</td><td>Rio de Janeiro</td></tr><tr><td>01497954000114</td><td>EM FUNCIONAMENTO NORMAL</td><td>1996-10-02</td><td>null</td><td>1.5748424368E8</td><td>01497954000114</td><td>RS</td><td>FUNDO DE INVESTIMENTO IMOBILIARIO MISTRAL</td><td>RS</td><td>Rio Grande do Sul</td></tr><tr><td>01964775000140</td><td>EM FUNCIONAMENTO NORMAL</td><td>1997-06-11</td><td>null</td><td>1484965.19</td><td>01964775000140</td><td>SP</td><td>FUNDO DE INVESTIMENTO IMOBILIARIO GEO GUARARAPES</td><td>SP</td><td>São Paulo</td></tr><tr><td>05437916000127</td><td>EM FUNCIONAMENTO NORMAL</td><td>2002-12-10</td><td>null</td><td>1.2664304161E8</td><td>05437916000127</td><td>SP</td><td>FUNDO DE INVESTIMENTO IMOBILIARIO EUROPAR</td><td>SP</td><td>São Paulo</td></tr><tr><td>11044355000107</td><td>EM FUNCIONAMENTO NORMAL</td><td>2010-08-09</td><td>null</td><td>2.2891833875E8</td><td>11044355000107</td><td>MG</td><td>STARX FUNDO DE INVESTIMENTO IMOBILIARIO FII RESPONSABILIDADE LIMITADA</td><td>MG</td><td>Minas Gerais</td></tr><tr><td>11326746000106</td><td>EM FUNCIONAMENTO NORMAL</td><td>2010-05-28</td><td>null</td><td>4.0682077271E8</td><td>11326746000106</td><td>SP</td><td>TAG GR IV - FUNDO DE INVESTIMENTO IMOBILIARIO DE RESPONSABILIDADE LIMITADA</td><td>SP</td><td>São Paulo</td></tr><tr><td>17198500000182</td><td>EM FUNCIONAMENTO NORMAL</td><td>2012-12-13</td><td>null</td><td>1.6201099272E8</td><td>17198500000182</td><td>SP</td><td>SB FUNDO DE INVESTIMENTO NAS CADEIAS PRODUTIVAS AGROINDUSTRIAIS - FIAGRO - IMOBILIARIO</td><td>SP</td><td>São Paulo</td></tr><tr><td>36731458000168</td><td>EM FUNCIONAMENTO NORMAL</td><td>2020-04-23</td><td>null</td><td>7.285187875E7</td><td>36731458000168</td><td>SP</td><td>KRONOS FUNDO DE INVESTIMENTO IMOBILIARIO</td><td>SP</td><td>São Paulo</td></tr><tr><td>39347413000182</td><td>EM FUNCIONAMENTO NORMAL</td><td>2020-10-09</td><td>null</td><td>1.1619008593E8</td><td>39347413000182</td><td>SP</td><td>FUNDO DE INVESTIMENTO IMOBILIARIO HOSPITAL UNIMED CAMPINA GRANDE</td><td>SP</td><td>São Paulo</td></tr><tr><td>41114606000135</td><td>EM FUNCIONAMENTO NORMAL</td><td>2021-03-09</td><td>null</td><td>2.3775015558E8</td><td>41114606000135</td><td>SP</td><td>FUNDO DE INVESTIMENTO IMOBILIARIO UNIMED INVESTCOOP NACIONAL</td><td>SP</td><td>São Paulo</td></tr><tr><td>41081374000166</td><td>EM FUNCIONAMENTO NORMAL</td><td>2021-03-23</td><td>null</td><td>1.9196809526E8</td><td>41081374000166</td><td>SP</td><td>VINCI CREDIT SECURITIES FUNDO DE INVESTIMENTO IMOBILIARIO - RESPONSABILIDADE LIMITADA</td><td>SP</td><td>São Paulo</td></tr><tr><td>36930464000144</td><td>EM FUNCIONAMENTO NORMAL</td><td>2021-04-09</td><td>null</td><td>6.7558202267E8</td><td>36930464000144</td><td>MG</td><td>BTSP II FUNDO DE INVESTIMENTO IMOBILIARIO FII RESPONSABILIDADE LIMITADA</td><td>MG</td><td>Minas Gerais</td></tr><tr><td>40054913000105</td><td>EM FUNCIONAMENTO NORMAL</td><td>2021-07-05</td><td>null</td><td>2.627733151E7</td><td>40054913000105</td><td>SP</td><td>BLUECAP DESENVOLVIMENTO LOGISTICO I FUNDO DE INVESTIMENTOIMOBILIARIO - FII RESPONSABILIDADE LIMITADA</td><td>SP</td><td>São Paulo</td></tr><tr><td>45254732000146</td><td>EM FUNCIONAMENTO NORMAL</td><td>2022-03-10</td><td>null</td><td>4.021983357E7</td><td>45254732000146</td><td>RJ</td><td>POXIM FUNDO DE INVESTIMENTO IMOBILIARIO RESPONSABILIDADE LIMITADA</td><td>RJ</td><td>Rio de Janeiro</td></tr><tr><td>42692399000169</td><td>EM FUNCIONAMENTO NORMAL</td><td>2022-05-24</td><td>null</td><td>1.0249049754E8</td><td>42692399000169</td><td>MG</td><td>INTER AMERRA FIAGRO FUNDO DE INVESTIMENTO IMOBILIARIO RESPONSABILIDADE LIMITADA</td><td>MG</td><td>Minas Gerais</td></tr><tr><td>27882134000130</td><td>EM FUNCIONAMENTO NORMAL</td><td>2017-10-23</td><td>null</td><td>8893011.84</td><td>27882134000130</td><td>MG</td><td>APOLO FUNDO DE INVESTIMENTO IMOBILIARIO</td><td>MG</td><td>Minas Gerais</td></tr><tr><td>30130708000128</td><td>EM FUNCIONAMENTO NORMAL</td><td>2018-04-13</td><td>null</td><td>2.76308112478E9</td><td>30130708000128</td><td>SP</td><td>KINEA HIGH YIELD CRI FUNDO DE INVESTIMENTO IMOBILIARIO RESPONSABILIDADE LIMITADA</td><td>SP</td><td>São Paulo</td></tr><tr><td>34598181000111</td><td>EM FUNCIONAMENTO NORMAL</td><td>2019-09-05</td><td>null</td><td>4.5200100067E8</td><td>34598181000111</td><td>MG</td><td>INTER LOGISTICO FUNDO DE INVESTIMENTO IMOBILIARIO FII RESPONSABILIDADE LIMITADA</td><td>MG</td><td>Minas Gerais</td></tr><tr><td>34835191000123</td><td>EM FUNCIONAMENTO NORMAL</td><td>2019-09-23</td><td>null</td><td>1.3414947441E8</td><td>34835191000123</td><td>MG</td><td>INTER RESIDENCE FUNDO DE INVESTIMENTO IMOBILIARIO FII RESPONSABILIDADE LIMITADA</td><td>MG</td><td>Minas Gerais</td></tr><tr><td>34736474000118</td><td>EM FUNCIONAMENTO NORMAL</td><td>2019-09-24</td><td>null</td><td>2.3678026753E8</td><td>34736474000118</td><td>SP</td><td>RBR DESENVOLVIMENTO COMERCIAL I - FUNDO DE INVESTIMENTO IMOBILIARIO RESPONSABILIDADE LIMITADA</td><td>SP</td><td>São Paulo</td></tr><tr><td>14217108000145</td><td>EM FUNCIONAMENTO NORMAL</td><td>2011-11-16</td><td>null</td><td>3.2571111973E8</td><td>14217108000145</td><td>SP</td><td>FUNDO DE INVESTIMENTO IMOBILIARIO INDUSTRIAL DO BRASIL</td><td>SP</td><td>São Paulo</td></tr><tr><td>36098375000183</td><td>EM FUNCIONAMENTO NORMAL</td><td>2020-02-17</td><td>null</td><td>1.1786818176E8</td><td>36098375000183</td><td>MG</td><td>BTSP I FUNDO DE INVESTIMENTO IMOBILIARIO FII RESPONSABILIDADE LIMITADA</td><td>MG</td><td>Minas Gerais</td></tr><tr><td>36293425000183</td><td>EM FUNCIONAMENTO NORMAL</td><td>2020-02-19</td><td>null</td><td>6.693652613E7</td><td>36293425000183</td><td>MG</td><td>INTER TEVA INDICE DE TIJOLO FUNDO DE INVESTIMENTO IMOBILIARIO FII RESPONSABILIDADE LIMITADA</td><td>MG</td><td>Minas Gerais</td></tr><tr><td>36312772000106</td><td>EM FUNCIONAMENTO NORMAL</td><td>2020-02-18</td><td>null</td><td>5.120662227E7</td><td>36312772000106</td><td>MG</td><td>INTER TEVA INDICE DE PAPEL FUNDO DE INVESTIMENTO IMOBILIARIO FII RESPONSABILIDADE LIMITADA</td><td>MG</td><td>Minas Gerais</td></tr><tr><td>32222912000102</td><td>EM FUNCIONAMENTO NORMAL</td><td>2018-12-21</td><td>null</td><td>2.950780867E7</td><td>32222912000102</td><td>SP</td><td>PRIME REAL ESTATE FUNDO DE INVESTIMENTO IMOBILIARIO RESPONSABILIDADE LIMITADA</td><td>SP</td><td>São Paulo</td></tr><tr><td>33354650000194</td><td>EM FUNCIONAMENTO NORMAL</td><td>2019-07-15</td><td>null</td><td>2.328381297E8</td><td>33354650000194</td><td>MG</td><td>FUNDO DE INVESTIMENTO IMOBILIARIO AVM FII RESPONSABILIDADE LIMITADA</td><td>MG</td><td>Minas Gerais</td></tr><tr><td>44680435000108</td><td>EM FUNCIONAMENTO NORMAL</td><td>2022-09-27</td><td>null</td><td>3.678052558E7</td><td>44680435000108</td><td>SP</td><td>OCTO FUNDO DE INVESTIMENTO IMOBILIARIO RESPONSABILIDADE LIMITADA</td><td>SP</td><td>São Paulo</td></tr><tr><td>44680449000113</td><td>EM FUNCIONAMENTO NORMAL</td><td>2022-10-20</td><td>null</td><td>8440299.75</td><td>44680449000113</td><td>SP</td><td>ID 203 FUNDO DE INVESTIMENTO IMOBILIARIO - FII</td><td>SP</td><td>São Paulo</td></tr><tr><td>48373428000106</td><td>EM FUNCIONAMENTO NORMAL</td><td>2022-12-09</td><td>null</td><td>5.447980275E7</td><td>48373428000106</td><td>SP</td><td>CIX PONTA NEGRA FUNDO DE INVESTIMENTO IMOBILIARIO RESPONSABILIDADE LIMITADA</td><td>SP</td><td>São Paulo</td></tr><tr><td>48373413000148</td><td>EM FUNCIONAMENTO NORMAL</td><td>2022-12-09</td><td>null</td><td>2.7760247853E8</td><td>48373413000148</td><td>SP</td><td>CIX ITAPURANGA FUNDO DE INVESTIMENTO IMOBILIARIO RESPONSABILIDADE LIMITADA</td><td>SP</td><td>São Paulo</td></tr><tr><td>48389780000130</td><td>EM FUNCIONAMENTO NORMAL</td><td>2022-12-11</td><td>null</td><td>2.3977683304E8</td><td>48389780000130</td><td>SP</td><td>CIX MUIRAQUITAN FUNDO DE INVESTIMENTO IMOBILIARIO RESPONSABILIDADE LIMITADA</td><td>SP</td><td>São Paulo</td></tr><tr><td>48964604000184</td><td>EM FUNCIONAMENTO NORMAL</td><td>2022-12-22</td><td>null</td><td>1293504.85</td><td>48964604000184</td><td>SP</td><td>GRIFFIN FUNDO DE INVESTIMENTO IMOBILIARIO</td><td>SP</td><td>São Paulo</td></tr><tr><td>49112611000110</td><td>EM FUNCIONAMENTO NORMAL</td><td>2023-01-09</td><td>null</td><td>9.927325637E7</td><td>49112611000110</td><td>SP</td><td>ID GOIANA FUNDO DE INVESTIMENTO FIAGRO IMOBILIARIO</td><td>SP</td><td>São Paulo</td></tr><tr><td>49592781000140</td><td>EM FUNCIONAMENTO NORMAL</td><td>2023-02-14</td><td>null</td><td>3.469227758E8</td><td>49592781000140</td><td>RJ</td><td>BLUECAP LOG FUNDO DE INVESTIMENTO IMOBILIARIO</td><td>RJ</td><td>Rio de Janeiro</td></tr><tr><td>16685929000131</td><td>EM FUNCIONAMENTO NORMAL</td><td>2023-02-13</td><td>null</td><td>6.2138924697E8</td><td>16685929000131</td><td>RJ</td><td>FUNDO DE INVESTIMENTO IMOBILIARIO MACAM SHOPPING RESPONSABILIDADE LIMITADA</td><td>RJ</td><td>Rio de Janeiro</td></tr><tr><td>50275622000109</td><td>EM FUNCIONAMENTO NORMAL</td><td>2023-04-11</td><td>null</td><td>1.321802143E7</td><td>50275622000109</td><td>SP</td><td>ROHT FUNDO DE INVESTIMENTO IMOBILIARIO RESPONSABILIDADE LIMITADA</td><td>SP</td><td>São Paulo</td></tr><tr><td>50399189000105</td><td>EM FUNCIONAMENTO NORMAL</td><td>2023-04-20</td><td>null</td><td>9.422244381E7</td><td>50399189000105</td><td>SP</td><td>FUNDO DE INVESTIMENTO IMOBILIARIO DE UNIDADES AUTONOMAS III RESPONSABILIDADE LIMITADA</td><td>SP</td><td>São Paulo</td></tr><tr><td>50750438000165</td><td>EM FUNCIONAMENTO NORMAL</td><td>2023-05-19</td><td>null</td><td>3.2397564865E8</td><td>50750438000165</td><td>RJ</td><td>RIZA DOMUS FUNDO DE INVESTIMENTO IMOBILIARIO</td><td>RJ</td><td>Rio de Janeiro</td></tr><tr><td>50750438000165</td><td>EM FUNCIONAMENTO NORMAL</td><td>2023-05-19</td><td>null</td><td>3.2397564865E8</td><td>50750438000165</td><td>RJ</td><td>RIZA DOMUS FUNDO DE INVESTIMENTO IMOBILIARIO</td><td>RJ</td><td>Rio de Janeiro</td></tr><tr><td>50808042000121</td><td>EM FUNCIONAMENTO NORMAL</td><td>2023-05-24</td><td>null</td><td>4.7699495571E8</td><td>50808042000121</td><td>SP</td><td>VBI TR FARIA LIMA 4440 FUNDO DE INVESTIMENTO IMOBILIARIO</td><td>SP</td><td>São Paulo</td></tr><tr><td>51295092000115</td><td>EM FUNCIONAMENTO NORMAL</td><td>2023-07-04</td><td>null</td><td>2367149.05</td><td>51295092000115</td><td>SP</td><td>LEGATUM FUNDO DE INVESTIMENTO IMOBILIARIO RESPONSABILIDADE LIMITADA</td><td>SP</td><td>São Paulo</td></tr><tr><td>51476870000172</td><td>EM FUNCIONAMENTO NORMAL</td><td>2023-07-19</td><td>null</td><td>1.0417893333E8</td><td>51476870000172</td><td>SP</td><td>DELTA FUNDO DE INVESTIMENTO IMOBILIARIO</td><td>SP</td><td>São Paulo</td></tr><tr><td>52324762000147</td><td>EM FUNCIONAMENTO NORMAL</td><td>2023-09-26</td><td>null</td><td>2.696179548E7</td><td>52324762000147</td><td>SP</td><td>FUNDO DE INVESTIMENTO IMOBILIARIO DE UNIDADES AUTONOMAS IV</td><td>SP</td><td>São Paulo</td></tr><tr><td>52356865000199</td><td>EM FUNCIONAMENTO NORMAL</td><td>2023-09-28</td><td>null</td><td>1.23030823E7</td><td>52356865000199</td><td>SP</td><td>ATLAS FUNDO DE INVESTIMENTO IMOBILIARIO RESPONSABILIDADE LIMITADA</td><td>SP</td><td>São Paulo</td></tr><tr><td>52116337000162</td><td>EM FUNCIONAMENTO NORMAL</td><td>2023-09-08</td><td>null</td><td>8.472435318E7</td><td>52116337000162</td><td>SP</td><td>NU RENDA IBOV SMART DIVIDENDOS CLASSE DE INDICE - RESPONSABILIDADE LIMITADA</td><td>SP</td><td>São Paulo</td></tr><tr><td>52116361000100</td><td>EM FUNCIONAMENTO NORMAL</td><td>2023-09-08</td><td>null</td><td>4.898758673E7</td><td>52116361000100</td><td>SP</td><td>NU IBOV SMART DIVIDENDOS CLASSE DE INDICE - RESPONSABILIDADE LIMITADA</td><td>SP</td><td>São Paulo</td></tr><tr><td>15296704000120</td><td>EM FUNCIONAMENTO NORMAL</td><td>2012-04-02</td><td>null</td><td>1.01364791999E9</td><td>15296704000120</td><td>SP</td><td>GLP INVESTIMENTOS III FUNDO DE INVESTIMENTO EM PARTICIPACOES MULTIESTRATEGIA</td><td>SP</td><td>São Paulo</td></tr><tr><td>15049586000156</td><td>EM FUNCIONAMENTO NORMAL</td><td>2012-03-23</td><td>null</td><td>2.11082293021E9</td><td>15049586000156</td><td>SP</td><td>GLP INVESTIMENTOS II FUNDO DE INVESTIMENTO EM PARTICIPACOES MULTIESTRATEGIA</td><td>SP</td><td>São Paulo</td></tr><tr><td>15437768000102</td><td>EM FUNCIONAMENTO NORMAL</td><td>2012-04-20</td><td>null</td><td>7.9155812445E8</td><td>15437768000102</td><td>SP</td><td>FUNDO DE INVESTIMENTO EM PARTICIPACOES RPEV1 BRAZIL MULTI IE RESPONSABILIDADE LIMITADA</td><td>SP</td><td>São Paulo</td></tr><tr><td>16734970000150</td><td>EM FUNCIONAMENTO NORMAL</td><td>2012-08-23</td><td>null</td><td>1.1052978777E8</td><td>16734970000150</td><td>SP</td><td>ICP - FUNDO DE INVESTIMENTO EM PARTICIPACOES MULTIESTRATEGIA INVESTIMENTO NO EXTERIOR</td><td>SP</td><td>São Paulo</td></tr><tr><td>15018580000111</td><td>EM FUNCIONAMENTO NORMAL</td><td>2012-03-23</td><td>null</td><td>1.66052551369E9</td><td>15018580000111</td><td>SP</td><td>GLP INVESTIMENTOS FUNDO DE INVESTIMENTO EM PARTICIPACOES MULTIESTRATEGIA</td><td>SP</td><td>São Paulo</td></tr><tr><td>14769978000127</td><td>EM FUNCIONAMENTO NORMAL</td><td>2011-12-30</td><td>null</td><td>7.1379670563E8</td><td>14769978000127</td><td>SP</td><td>TELLES FUNDO DE INVESTIMENTO EM PARTICIPACOES - MULTIESTRATEGIA</td><td>SP</td><td>São Paulo</td></tr><tr><td>14067624000130</td><td>EM FUNCIONAMENTO NORMAL</td><td>2011-10-28</td><td>null</td><td>151818.15</td><td>14067624000130</td><td>SP</td><td>FUNDO DE INVESTIMENTO EM PARTICIPACOES EM HOTELARIA MULTIESTRATEGIA</td><td>SP</td><td>São Paulo</td></tr><tr><td>14311936000148</td><td>EM FUNCIONAMENTO NORMAL</td><td>2011-09-23</td><td>null</td><td>5219076.0</td><td>14311936000148</td><td>SP</td><td>PATRIMONIAL BLUE - FUNDO DE INVESTIMENTO EM PARTICIPACOES MULTIESTRATEGIA</td><td>SP</td><td>São Paulo</td></tr><tr><td>09110175000126</td><td>EM FUNCIONAMENTO NORMAL</td><td>2007-12-28</td><td>null</td><td>1186684.99</td><td>09110175000126</td><td>SP</td><td>BROOKFIELD BRAZIL TIMBER FUNDO DE INVESTIMENTO EM PARTICIPACOES</td><td>SP</td><td>São Paulo</td></tr><tr><td>11249598000173</td><td>EM FUNCIONAMENTO NORMAL</td><td>2009-11-11</td><td>null</td><td>3.8722679502E8</td><td>11249598000173</td><td>SP</td><td>AGRIFARM FUNDO DE INVESTIMENTO EM PARTICIPACOES MULTIESTRATEGIA</td><td>SP</td><td>São Paulo</td></tr><tr><td>11283444000106</td><td>EM FUNCIONAMENTO NORMAL</td><td>2009-11-27</td><td>null</td><td>3.6677454088E8</td><td>11283444000106</td><td>SP</td><td>NOVA PARTICIPACOES - FUNDO DE INVESTIMENTO EM PARTICIPACOES MULTIESTRATEGIA</td><td>SP</td><td>São Paulo</td></tr><tr><td>12834634000129</td><td>EM FUNCIONAMENTO NORMAL</td><td>2010-10-18</td><td>null</td><td>372240.51</td><td>12834634000129</td><td>SP</td><td>FUNDO DE INVESTIMENTO EM PARTICIPACOES BRASIL DE PRIVATE EQUITY III MULTIESTRATEGIA - EM LIQUIDACAO</td><td>SP</td><td>São Paulo</td></tr><tr><td>26545537000120</td><td>EM FUNCIONAMENTO NORMAL</td><td>2016-11-28</td><td>null</td><td>606645.44</td><td>26545537000120</td><td>SP</td><td>AGUNG BRASIL PARTNERS I D - FUNDO DE INVESTIMENTO EM PARTICIPACOES MULTIESTRATEGIA IE RESP LIMITADA</td><td>SP</td><td>São Paulo</td></tr><tr><td>24764405000164</td><td>EM FUNCIONAMENTO NORMAL</td><td>2016-04-18</td><td>null</td><td>1.0174597496E8</td><td>24764405000164</td><td>SP</td><td>AEROTEC - FUNDO DE INVESTIMENTO EM PARTICIPACOES MULTIESTRATEGIA</td><td>SP</td><td>São Paulo</td></tr><tr><td>24874305000190</td><td>EM FUNCIONAMENTO NORMAL</td><td>2016-05-27</td><td>null</td><td>1.36746797716E9</td><td>24874305000190</td><td>SP</td><td>BREF III FUNDO DE INVESTIMENTO EM PARTICIPACOES MULTIESTRATEGIA RESPONSABILIDADE LIMITADA</td><td>SP</td><td>São Paulo</td></tr><tr><td>24768711000179</td><td>EM FUNCIONAMENTO NORMAL</td><td>2016-05-18</td><td>null</td><td>8.304273561E7</td><td>24768711000179</td><td>RJ</td><td>OPUS MEDICAL - FUNDO DE INVESTIMENTO EM PARTICIPACOES MULTIESTRATEGIA INVESTIMENTO NO EXTERIOR</td><td>RJ</td><td>Rio de Janeiro</td></tr><tr><td>24701488000142</td><td>EM FUNCIONAMENTO NORMAL</td><td>2016-05-11</td><td>null</td><td>1.9659790255E8</td><td>24701488000142</td><td>SP</td><td>BREOF III - FUNDO DE INVESTIMENTO EM PARTICIPACOES MULTIESTRATEGIA - RESPONSABILIDADE LIMITADA</td><td>SP</td><td>São Paulo</td></tr><tr><td>22802858000102</td><td>EM FUNCIONAMENTO NORMAL</td><td>2015-07-08</td><td>null</td><td>8.3315787709E8</td><td>22802858000102</td><td>SP</td><td>EVEREST BRASIL PARTNERS I - FUNDO DE INVESTIMENTO EM PARTICIPACOES MULTIESTRATEGIA IE RESP LIMITADA</td><td>SP</td><td>São Paulo</td></tr><tr><td>22601577000191</td><td>EM FUNCIONAMENTO NORMAL</td><td>2015-07-02</td><td>null</td><td>1.17893921507E9</td><td>22601577000191</td><td>SP</td><td>FUNDO DE INVESTIMENTO EM PARTICIPACOES VOCATUS MULTIESTRATEGIA RESP LIMITADA</td><td>SP</td><td>São Paulo</td></tr><tr><td>21917293000146</td><td>EM FUNCIONAMENTO NORMAL</td><td>2015-03-10</td><td>null</td><td>1002975.4</td><td>21917293000146</td><td>SP</td><td>GAUDI FUNDO DE INVESTIMENTO EM PARTICIPACOES MULTIESTRATEGIA</td><td>SP</td><td>São Paulo</td></tr><tr><td>22219279000131</td><td>EM FUNCIONAMENTO NORMAL</td><td>2015-04-13</td><td>null</td><td>2.642569966E7</td><td>22219279000131</td><td>SP</td><td>QUARTZO RUTILO FUNDO DE INVESTIMENTO EM PARTICIPACOES MULTIESTRATEGIA</td><td>SP</td><td>São Paulo</td></tr><tr><td>21613190000192</td><td>EM FUNCIONAMENTO NORMAL</td><td>2015-01-07</td><td>null</td><td>6.0198639572E8</td><td>21613190000192</td><td>SP</td><td>FUNDO DE INVESTIMENTO EM PARTICIPACOES PANAMBY HOTEIS - MULTIESTRATEGIA RESPONSABILIDADE LIMITADA</td><td>SP</td><td>São Paulo</td></tr><tr><td>21331225000109</td><td>EM FUNCIONAMENTO NORMAL</td><td>2015-02-10</td><td>null</td><td>-1519081.16</td><td>21331225000109</td><td>RJ</td><td>EDUCACAO BR FUNDO DE INVESTIMENTO EM PARTICIPACOES</td><td>RJ</td><td>Rio de Janeiro</td></tr><tr><td>21254224000108</td><td>EM FUNCIONAMENTO NORMAL</td><td>2014-10-27</td><td>null</td><td>1.888978618E7</td><td>21254224000108</td><td>SP</td><td>GREEN FUNDO DE INVESTIMENTO EM PARTICIPACOES MULTIESTRATEGIA - RESPONSABILIDADE LIMITADA</td><td>SP</td><td>São Paulo</td></tr><tr><td>18356327000166</td><td>EM FUNCIONAMENTO NORMAL</td><td>2013-11-18</td><td>null</td><td>234978.48</td><td>18356327000166</td><td>SP</td><td>INVESTIMENTOS FLORESTAIS FUNDO DE INVESTIMENTO EM PARTICIPACOES</td><td>SP</td><td>São Paulo</td></tr><tr><td>18929680000198</td><td>EM FUNCIONAMENTO NORMAL</td><td>2013-09-25</td><td>null</td><td>4.144935435E7</td><td>18929680000198</td><td>SP</td><td>BRIO REAL ESTATE FUNDO DE INVESTIMENTO EM PARTICIPACOES MULTIESTRATEGIA - RESPONSABILIDADE LIMITADA</td><td>SP</td><td>São Paulo</td></tr><tr><td>18402048000191</td><td>EM FUNCIONAMENTO NORMAL</td><td>2013-07-02</td><td>null</td><td>571931.15</td><td>18402048000191</td><td>SP</td><td>SANTA MARINA CLASSE DE INVESTIMENTO EM PARTICIPACOES MULTIESTRATEGIA - RESPONSABILIDADE LIMITADA</td><td>SP</td><td>São Paulo</td></tr><tr><td>18579353000153</td><td>EM FUNCIONAMENTO NORMAL</td><td>2013-07-31</td><td>null</td><td>903374.56</td><td>18579353000153</td><td>SP</td><td>VESUVIUS LBO - FUNDO DE INVESTIMENTO EM PARTICIPACOES MULTIESTRATEGIA IE RESP LIMITADA</td><td>SP</td><td>São Paulo</td></tr><tr><td>18653128000110</td><td>EM FUNCIONAMENTO NORMAL</td><td>2013-08-13</td><td>null</td><td>1.0195178623E8</td><td>18653128000110</td><td>SP</td><td>ETNA LBO V FUNDO DE INVESTIMENTO EM PARTICIPACOES MULTIESTRATEGIA IE RESPONSABILIDADE LIMITADA</td><td>SP</td><td>São Paulo</td></tr><tr><td>17213759000155</td><td>EM FUNCIONAMENTO NORMAL</td><td>2013-05-20</td><td>null</td><td>3.3243681215E8</td><td>17213759000155</td><td>SP</td><td>FUNDO DE INVESTIMENTO EM PARTICIPACOES FONTAINE VILLE URBANISMO</td><td>SP</td><td>São Paulo</td></tr><tr><td>36115022000144</td><td>EM FUNCIONAMENTO NORMAL</td><td>2020-08-05</td><td>null</td><td>1.5365185995E8</td><td>36115022000144</td><td>SP</td><td>SAVANA FUNDO DE INVESTIMENTO EM PARTICIPACOES MULTIESTRATEGIA</td><td>SP</td><td>São Paulo</td></tr><tr><td>37087982000100</td><td>EM FUNCIONAMENTO NORMAL</td><td>2020-05-11</td><td>null</td><td>848377.45</td><td>37087982000100</td><td>SP</td><td>LHOTSE BRASIL PARTNERS I N - FUNDO DE INVESTIMENTO EM PARTICIPACOES MULTIESTRATEGIA IE RESP LIMITADA</td><td>SP</td><td>São Paulo</td></tr><tr><td>37088071000106</td><td>EM FUNCIONAMENTO NORMAL</td><td>2020-05-11</td><td>null</td><td>2536455.66</td><td>37088071000106</td><td>SP</td><td>MERU REAL ESTATE III FUNDO DE INVESTIMENTO EM PARTICIPACOES MULTIESTRATEGIA IE RESP LIMITADA</td><td>SP</td><td>São Paulo</td></tr><tr><td>41922654000150</td><td>EM FUNCIONAMENTO NORMAL</td><td>2021-05-18</td><td>null</td><td>6379347.37</td><td>41922654000150</td><td>SP</td><td>VC NETWORK FUNDO DE INVESTIMENTO EM PARTICIPACOES MULTIESTRATEGIA - INVESTIMENTO NO EXTERIOR</td><td>SP</td><td>São Paulo</td></tr><tr><td>40670750000195</td><td>EM FUNCIONAMENTO NORMAL</td><td>2021-04-07</td><td>null</td><td>6.35688417573E9</td><td>40670750000195</td><td>SP</td><td>B10 FUNDO DE INVESTIMENTOS EM PARTICIPACOES MULTIESTRATEGIA</td><td>SP</td><td>São Paulo</td></tr><tr><td>39976918000106</td><td>EM FUNCIONAMENTO NORMAL</td><td>2021-01-07</td><td>null</td><td>4.456082369E7</td><td>39976918000106</td><td>SP</td><td>OCA FUNDO DE INVESTIMENTO EM PARTICIPACOES EM EMPRESAS EMERGENTES</td><td>SP</td><td>São Paulo</td></tr><tr><td>39784273000100</td><td>EM FUNCIONAMENTO NORMAL</td><td>2020-12-29</td><td>null</td><td>5.731666892E7</td><td>39784273000100</td><td>SP</td><td>GO PRO ENERGIA FUNDO DE INVESTIMENTO EM PARTICIPACOES MULTIESTRATEGIA</td><td>SP</td><td>São Paulo</td></tr><tr><td>39581746000171</td><td>EM FUNCIONAMENTO NORMAL</td><td>2020-11-30</td><td>null</td><td>5.0317439628E8</td><td>39581746000171</td><td>SP</td><td>EIGER BRASIL PARTNERS I O FUNDO DE INVESTIMENTO EM PARTICIPACOES MULTIESTRATEGIA IE RESP LIMITADA</td><td>SP</td><td>São Paulo</td></tr><tr><td>40311750000107</td><td>EM FUNCIONAMENTO NORMAL</td><td>2021-06-24</td><td>null</td><td>3.132980961E7</td><td>40311750000107</td><td>SP</td><td>FEEAGRO FUNDO DE INVESTIMENTO EM PARTICIPACOES - CAPITAL SEMENTE RESPONSABILIDADE LIMITADA</td><td>SP</td><td>São Paulo</td></tr><tr><td>35654738000157</td><td>EM FUNCIONAMENTO NORMAL</td><td>2021-08-02</td><td>null</td><td>2.0009135903E8</td><td>35654738000157</td><td>SP</td><td>RODOVIAS DO TIETE FUNDO DE INVESTIMENTO EM PARTICIPACOES EM INFRAESTRUTURA RESPONSABILIDADE LIMITADA</td><td>SP</td><td>São Paulo</td></tr><tr><td>43236479000172</td><td>EM FUNCIONAMENTO NORMAL</td><td>2021-08-26</td><td>null</td><td>6553378.16</td><td>43236479000172</td><td>SP</td><td>ARIEN ENERGY VENTURES I FUNDO DE INVESTIMENTO EM PARTICIPACOES EM INFRAESTRUTURA RESP LIMITADA</td><td>SP</td><td>São Paulo</td></tr><tr><td>43236423000118</td><td>EM FUNCIONAMENTO NORMAL</td><td>2021-08-24</td><td>null</td><td>3.5631362132E8</td><td>43236423000118</td><td>SP</td><td>CLOUD9 CAPITAL FUNDO DE INVESTIMENTO EM PARTICIPACOES MULTIESTRATEGIA</td><td>SP</td><td>São Paulo</td></tr><tr><td>42627796000157</td><td>EM FUNCIONAMENTO NORMAL</td><td>2021-09-17</td><td>null</td><td>3.3835810627E8</td><td>42627796000157</td><td>SP</td><td>EUV SP 2 FUNDO DE INVESTIMENTO EM PARTICIPACOES MULTIESTRATEGIA</td><td>SP</td><td>São Paulo</td></tr><tr><td>43619349000119</td><td>EM FUNCIONAMENTO NORMAL</td><td>2021-10-25</td><td>null</td><td>1.2222365812E8</td><td>43619349000119</td><td>SP</td><td>BR PARTNERS PET FUNDO DE INVESTIMENTO EM PARTICIPACOES MULTIESTRATEGIA</td><td>SP</td><td>São Paulo</td></tr><tr><td>42923073000103</td><td>EM FUNCIONAMENTO NORMAL</td><td>2021-10-15</td><td>null</td><td>2.001371535E7</td><td>42923073000103</td><td>MG</td><td>EXITUM FUNDO DE INVESTIMENTO EM PARTICIPACOES MULTIESTRATEGIA</td><td>MG</td><td>Minas Gerais</td></tr><tr><td>38249518000136</td><td>EM FUNCIONAMENTO NORMAL</td><td>2021-12-15</td><td>null</td><td>3.238012743E7</td><td>38249518000136</td><td>SP</td><td>MOGIANA FUNDO DE INVESTIMENTO EM PARTICIPACOES MULTIESTRATEGIA</td><td>SP</td><td>São Paulo</td></tr><tr><td>39447231000183</td><td>EM FUNCIONAMENTO NORMAL</td><td>2021-11-26</td><td>null</td><td>5200416.53</td><td>39447231000183</td><td>SP</td><td>MONTE CARLO FUNDO DE INVESTIMENTO EM PARTICIPACOES CAPITAL-SEMENTE RESPONSABILIDADE LIMITADA</td><td>SP</td><td>São Paulo</td></tr><tr><td>44603407000189</td><td>EM FUNCIONAMENTO NORMAL</td><td>2021-12-22</td><td>null</td><td>3.501937318E7</td><td>44603407000189</td><td>SP</td><td>PETRONIA ENERGIA DESENVOLVIMENTO I FIP MULTIESTRATEGIA - RESPONSABILIDADE LIMITADA</td><td>SP</td><td>São Paulo</td></tr><tr><td>42736004000182</td><td>EM FUNCIONAMENTO NORMAL</td><td>2021-12-29</td><td>null</td><td>1.114230683E7</td><td>42736004000182</td><td>SP</td><td>PCS II COSTA ESMERALDA FUNDO DE INVESTIMENTO EM PARTICIPACOES INFRAESTRUTURA</td><td>SP</td><td>São Paulo</td></tr><tr><td>44570797000138</td><td>EM FUNCIONAMENTO NORMAL</td><td>2021-12-30</td><td>null</td><td>2.158356741E7</td><td>44570797000138</td><td>SP</td><td>VSG I FUNDO DE INVESTIMENTO EM PARTICIPACOES MULTIESTRATEGIA</td><td>SP</td><td>São Paulo</td></tr><tr><td>43106870000152</td><td>EM FUNCIONAMENTO NORMAL</td><td>2022-04-19</td><td>null</td><td>6.917985972E7</td><td>43106870000152</td><td>SP</td><td>SALTO BOTELHO AGROENERGIA FUNDO DE INVESTIMENTO EM PARTICIPACOES MULTI -RESPONSABILIDADE LIMITADA</td><td>SP</td><td>São Paulo</td></tr><tr><td>44870636000160</td><td>EM FUNCIONAMENTO NORMAL</td><td>2022-04-22</td><td>null</td><td>1.5165212125E8</td><td>44870636000160</td><td>SP</td><td>CAATINGA CAPITAL FUNDO DE INVESTIMENTO EM PARTICIPACOES EM EMPRESAS EMERGENTES</td><td>SP</td><td>São Paulo</td></tr><tr><td>46268214000144</td><td>EM FUNCIONAMENTO NORMAL</td><td>2022-06-01</td><td>null</td><td>2.219077747E8</td><td>46268214000144</td><td>SP</td><td>ORE FOSFATO MORRO VERDE FUNDO DE INVESTIMENTO EM PARTICIPACOES - MULTIESTRATEGIA RESPONSABILIDADE LI</td><td>SP</td><td>São Paulo</td></tr><tr><td>30687646000150</td><td>EM FUNCIONAMENTO NORMAL</td><td>2018-12-05</td><td>null</td><td>4.404450632E7</td><td>30687646000150</td><td>SP</td><td>ELIPSE II FUNDO DE INVESTIMENTO EM PARTICIPACOES</td><td>SP</td><td>São Paulo</td></tr><tr><td>32140484000160</td><td>EM FUNCIONAMENTO NORMAL</td><td>2019-02-22</td><td>null</td><td>5.832228657E8</td><td>32140484000160</td><td>SP</td><td>PSS PRINCIPAL FUNDO DE INVESTIMENTO EM PARTICIPACOES</td><td>SP</td><td>São Paulo</td></tr><tr><td>27368761000157</td><td>EM FUNCIONAMENTO NORMAL</td><td>2019-04-29</td><td>null</td><td>3.15840331E8</td><td>27368761000157</td><td>SP</td><td>GLP INVESTIMENTOS V FUNDO DE INVESTIMENTO EM PARTICIPACOES - MULTIESTRATEGIA</td><td>SP</td><td>São Paulo</td></tr><tr><td>33240249000123</td><td>EM FUNCIONAMENTO NORMAL</td><td>2019-06-21</td><td>null</td><td>2.40766695662E9</td><td>33240249000123</td><td>SP</td><td>KILAUEA BRASIL PARTNERS II - FUNDO DE INVESTIMENTO EM PARTICIPACOES MULTIESTRATEGIA IE RESP LIMITADA</td><td>SP</td><td>São Paulo</td></tr><tr><td>32162536000108</td><td>EM FUNCIONAMENTO NORMAL</td><td>2019-05-15</td><td>null</td><td>4.685894751E7</td><td>32162536000108</td><td>SP</td><td>PSS SMALL FUNDO DE INVESTIMENTO EM PARTICIPACOES MULTIESTRATEGIA INVESTIMENTO NO EXTERIOR</td><td>SP</td><td>São Paulo</td></tr><tr><td>31570611000107</td><td>EM FUNCIONAMENTO NORMAL</td><td>2018-10-03</td><td>null</td><td>6.7677066527E8</td><td>31570611000107</td><td>SP</td><td>MONT BLANC BRASIL PARTNERS I H - FIP MULTIESTRATEGIA INVESTIMENTO NO EXTERIOR RESP LIMITADA</td><td>SP</td><td>São Paulo</td></tr><tr><td>29315285000131</td><td>EM FUNCIONAMENTO NORMAL</td><td>2018-10-02</td><td>null</td><td>1.277059947E7</td><td>29315285000131</td><td>SP</td><td>OIKOS FUNDO DE INVESTIMENTO EM PARTICIPACOES MULTIESTRATEGIA - RESPONSABILIDADE LIMITADA</td><td>SP</td><td>São Paulo</td></tr><tr><td>35725626000140</td><td>EM FUNCIONAMENTO NORMAL</td><td>2020-03-06</td><td>null</td><td>5.13615446257E9</td><td>35725626000140</td><td>SP</td><td>PSS ENERGY FUNDO DE INVESTIMENTO EM PARTICIPACOES</td><td>SP</td><td>São Paulo</td></tr><tr><td>34644159000160</td><td>EM FUNCIONAMENTO NORMAL</td><td>2019-11-04</td><td>null</td><td>3.7820675354E8</td><td>34644159000160</td><td>SP</td><td>PATRIA INFRAESTRUTURA IV FEEDER-D FUNDO DE INVESTIMENTO EM PARTICIPACOES MULTI RESP LIMITADA</td><td>SP</td><td>São Paulo</td></tr><tr><td>35137939000187</td><td>EM FUNCIONAMENTO NORMAL</td><td>2019-10-14</td><td>null</td><td>1.443323611E7</td><td>35137939000187</td><td>SP</td><td>MANASLU BRASIL PARTNERS I K FUNDO DE INVESTIMENTO EM PARTICIPACOES MULTIESTRATEGIA IE RESP LIMITADA</td><td>SP</td><td>São Paulo</td></tr><tr><td>34509036000117</td><td>EM FUNCIONAMENTO NORMAL</td><td>2019-09-16</td><td>null</td><td>4.0174206574E8</td><td>34509036000117</td><td>SP</td><td>MAKALU BRASIL PARTNERS I J FIP MULTIESTRATEGIA INVESTIMENTO NO EXTERIOR RESPONSABILIDADE LIMITADA</td><td>SP</td><td>São Paulo</td></tr><tr><td>30871738000195</td><td>EM FUNCIONAMENTO NORMAL</td><td>2018-07-18</td><td>null</td><td>386700.25</td><td>30871738000195</td><td>SP</td><td>DENALI BRASIL PARTNERS I F FUNDO DE INVESTIMENTO EM PARTICIPACOES MULTIESTRATEGIA IE RESP LIMITADA</td><td>SP</td><td>São Paulo</td></tr><tr><td>30871793000185</td><td>EM FUNCIONAMENTO NORMAL</td><td>2018-07-18</td><td>null</td><td>3.1417714954E8</td><td>30871793000185</td><td>SP</td><td>CAPITOLIO BRASIL PARTNERS I G FUNDO DE INVESTIMENTO EM PARTICIPACOES MULTIESTRATEGIA IE RES LIMITADA</td><td>SP</td><td>São Paulo</td></tr><tr><td>29315301000196</td><td>EM FUNCIONAMENTO NORMAL</td><td>2018-04-03</td><td>null</td><td>4.3184203627E8</td><td>29315301000196</td><td>SP</td><td>FUJI BRASIL PARTNERS I C - FIP MULTIESTRATEGIA INVESTIMENTO NO EXTERIOR RESP LIMITADA</td><td>SP</td><td>São Paulo</td></tr><tr><td>29843196000168</td><td>EM FUNCIONAMENTO NORMAL</td><td>2018-03-19</td><td>null</td><td>1.219411721E7</td><td>29843196000168</td><td>SP</td><td>FUNDO DE INVESTIMENTO EM PARTICIPACOES MULTIESTRATEGIA INOVACAO E TECNOLOGIA - RESP LIMITADA</td><td>SP</td><td>São Paulo</td></tr><tr><td>29323865000170</td><td>EM FUNCIONAMENTO NORMAL</td><td>2018-01-17</td><td>null</td><td>6.6743624658E8</td><td>29323865000170</td><td>SP</td><td>BRAZIL FITNESS INVESTORS - FIP MULTIESTRATEGIA INVESTIMENTO NO EXTERIOR RESP LIMITADA</td><td>SP</td><td>São Paulo</td></tr><tr><td>27486551000163</td><td>EM FUNCIONAMENTO NORMAL</td><td>2017-06-02</td><td>null</td><td>604067.12</td><td>27486551000163</td><td>SP</td><td>KILIMANJARO BRASIL PARTNERS I B - FUNDO DE INVESTIMENTO EM PARTICIPACOES MULTIESTRATEGIA IE RESP LIM</td><td>SP</td><td>São Paulo</td></tr><tr><td>27486551000163</td><td>EM FUNCIONAMENTO NORMAL</td><td>2017-06-02</td><td>null</td><td>604067.12</td><td>27486551000163</td><td>SP</td><td>KILIMANJARO BRASIL PARTNERS I B - FUNDO DE INVESTIMENTO EM PARTICIPACOES MULTIESTRATEGIA IE RESP LIM</td><td>SP</td><td>São Paulo</td></tr><tr><td>27486551000163</td><td>EM FUNCIONAMENTO NORMAL</td><td>2017-06-02</td><td>null</td><td>604067.12</td><td>27486551000163</td><td>SP</td><td>KILIMANJARO BRASIL PARTNERS I B - FUNDO DE INVESTIMENTO EM PARTICIPACOES MULTIESTRATEGIA IE RESP LIM</td><td>SP</td><td>São Paulo</td></tr><tr><td>27486551000163</td><td>EM FUNCIONAMENTO NORMAL</td><td>2017-06-02</td><td>null</td><td>604067.12</td><td>27486551000163</td><td>SP</td><td>KILIMANJARO BRASIL PARTNERS I B - FUNDO DE INVESTIMENTO EM PARTICIPACOES MULTIESTRATEGIA IE RESP LIM</td><td>SP</td><td>São Paulo</td></tr><tr><td>12271294000175</td><td>EM FUNCIONAMENTO NORMAL</td><td>2010-09-23</td><td>null</td><td>1.1324594488E8</td><td>12271294000175</td><td>SP</td><td>FIX METALICO FUNDO DE INVESTIMENTO EM PARTICIPACOES MULTIESTRATEGIA</td><td>SP</td><td>São Paulo</td></tr><tr><td>13451738000117</td><td>EM FUNCIONAMENTO NORMAL</td><td>2011-02-28</td><td>null</td><td>2.266803318E7</td><td>13451738000117</td><td>SP</td><td>CLASSE DE INVESTIMENTO EM COTAS DE FIP PATRIA PRIVATE EQUITY IV - RESP LIMITADA</td><td>SP</td><td>São Paulo</td></tr><tr><td>23700564000132</td><td>EM FUNCIONAMENTO NORMAL</td><td>2016-12-13</td><td>null</td><td>513510.04</td><td>23700564000132</td><td>SP</td><td>LUNA FUNDO DE INVESTIMENTO EM PARTICIPACOES MULTIESTRATEGIA</td><td>SP</td><td>São Paulo</td></tr><tr><td>23781192000116</td><td>EM FUNCIONAMENTO NORMAL</td><td>2016-12-19</td><td>null</td><td>3.09240810504E9</td><td>23781192000116</td><td>SP</td><td>GLP INVESTIMENTOS IV FUNDO DE INVESTIMENTO EM PARTICIPACOES MULTIESTRATEGIA</td><td>SP</td><td>São Paulo</td></tr><tr><td>45788850000134</td><td>EM FUNCIONAMENTO NORMAL</td><td>2022-07-07</td><td>null</td><td>4.00889018885E9</td><td>45788850000134</td><td>SP</td><td>GIP HELIOS FUNDO DE INVESTIMENTO EM PARTICIPACOES MULTIESTRATEGIA</td><td>SP</td><td>São Paulo</td></tr><tr><td>47166761000181</td><td>EM FUNCIONAMENTO NORMAL</td><td>2022-07-21</td><td>null</td><td>9.443368023E7</td><td>47166761000181</td><td>SP</td><td>EUV GLADIATOR FUNDO DE INVESTIMENTO EM PARTICIPACOES MULTIESTRATEGIA</td><td>SP</td><td>São Paulo</td></tr><tr><td>39412078000159</td><td>EM FUNCIONAMENTO NORMAL</td><td>2022-08-24</td><td>null</td><td>1000846.18</td><td>39412078000159</td><td>SP</td><td>BELLAGIO FUNDO DE INVESTIMENTO EM PARTICIPACOES MULTIESTRATEGIA RESPONSABILDADE LIMITADA</td><td>SP</td><td>São Paulo</td></tr><tr><td>44638527000111</td><td>EM FUNCIONAMENTO NORMAL</td><td>2022-10-21</td><td>null</td><td>1.758816632E7</td><td>44638527000111</td><td>SP</td><td>GALAXY FUNDO DE INVESTIMENTO EM PARTICIPACOES MULTIESTRATEGIA</td><td>SP</td><td>São Paulo</td></tr><tr><td>44108111000191</td><td>EM FUNCIONAMENTO NORMAL</td><td>2022-10-06</td><td>null</td><td>2.7886747382E8</td><td>44108111000191</td><td>SP</td><td>PCS II HEALTHCARE FUNDO DE INVESTIMENTO EM PARTICIPACOES</td><td>SP</td><td>São Paulo</td></tr><tr><td>23120075000101</td><td>EM FUNCIONAMENTO NORMAL</td><td>2022-11-28</td><td>null</td><td>1438003.41</td><td>23120075000101</td><td>SP</td><td>GLP INVESTIMENTOS VII FUNDO DE INVESTIMENTO EM PARTICIPACOES MULTIESTRATEGIA</td><td>SP</td><td>São Paulo</td></tr><tr><td>44638491000176</td><td>EM FUNCIONAMENTO NORMAL</td><td>2022-11-08</td><td>null</td><td>3.112389581E7</td><td>44638491000176</td><td>SP</td><td>MATECH PAR FUNDO DE INVESTIMENTO EM PARTICIPACOES CAPITALSEMENTE</td><td>SP</td><td>São Paulo</td></tr><tr><td>46282024000181</td><td>EM FUNCIONAMENTO NORMAL</td><td>2022-11-01</td><td>null</td><td>2668684.34</td><td>46282024000181</td><td>SP</td><td>CRIXUS SPECIAL RETURN FUNDO DE INVESTIMENTO EM PARTICIPACOES MULTIESTRATEGIA RESP LIMITADA</td><td>SP</td><td>São Paulo</td></tr><tr><td>49637003000120</td><td>EM FUNCIONAMENTO NORMAL</td><td>2023-02-16</td><td>null</td><td>1.3042332071E8</td><td>49637003000120</td><td>SP</td><td>BAY INVEST FUNDO DE INVESTIMENTO EM PARTICIPACOES MULTIESTRATEGIA</td><td>SP</td><td>São Paulo</td></tr><tr><td>49963885000113</td><td>EM FUNCIONAMENTO NORMAL</td><td>2023-03-16</td><td>null</td><td>5.4588945138E8</td><td>49963885000113</td><td>SP</td><td>ALPHA FUNDO DE INVESTIMENTO EM PARTICIPACOES MULTIESTRATEGIA</td><td>SP</td><td>São Paulo</td></tr><tr><td>50226162000110</td><td>EM FUNCIONAMENTO NORMAL</td><td>2023-04-05</td><td>null</td><td>1559098.21</td><td>50226162000110</td><td>SP</td><td>SANVI FUNDO DE INVESTIMENTO EM PARTICIPACOES CAPITAL-SEMENTE</td><td>SP</td><td>São Paulo</td></tr><tr><td>50071531000143</td><td>EM FUNCIONAMENTO NORMAL</td><td>2023-03-24</td><td>null</td><td>1.0044405434E8</td><td>50071531000143</td><td>SP</td><td>KMP GROWTH CAPITAL FUND II FUNDO DE INVESTIMENTO EM PARTICIPACOES MULTI - RESPONSABILIDADE LIMITADA</td><td>SP</td><td>São Paulo</td></tr><tr><td>49252656000190</td><td>EM FUNCIONAMENTO NORMAL</td><td>2023-01-19</td><td>null</td><td>7.4622659055E8</td><td>49252656000190</td><td>RJ</td><td>AZ QUEST INFRA YIELD FUNDO DE INVESTIMENTO EM PARTICIPACOES EM INFRAESTRUTURA</td><td>RJ</td><td>Rio de Janeiro</td></tr><tr><td>48992508000140</td><td>EM FUNCIONAMENTO NORMAL</td><td>2022-12-28</td><td>null</td><td>1.149394909E7</td><td>48992508000140</td><td>SP</td><td>SUZUKA FUNDO DE INVESTIMENTO EM PARTICIPACOES MULTIESTRATEGIA RESPONSABILIDADE LIMITADA</td><td>SP</td><td>São Paulo</td></tr><tr><td>48900133000140</td><td>EM FUNCIONAMENTO NORMAL</td><td>2022-12-15</td><td>null</td><td>5.9156535139E8</td><td>48900133000140</td><td>SP</td><td>PCS II FEEDER BRASIL FUNDO DE INVESTIMENTO EM PARTICIPACOES</td><td>SP</td><td>São Paulo</td></tr><tr><td>46778844000169</td><td>EM FUNCIONAMENTO NORMAL</td><td>2022-12-09</td><td>null</td><td>1.8557583749E8</td><td>46778844000169</td><td>SP</td><td>FLAMA SPECIAL RETURN FUNDO DE INVESTIMENTO EM PARTICIPACOES MULTIESTRATEGIA</td><td>SP</td><td>São Paulo</td></tr><tr><td>46778844000169</td><td>EM FUNCIONAMENTO NORMAL</td><td>2022-12-09</td><td>null</td><td>1.8557583749E8</td><td>46778844000169</td><td>SP</td><td>FLAMA SPECIAL RETURN FUNDO DE INVESTIMENTO EM PARTICIPACOES MULTIESTRATEGIA</td><td>SP</td><td>São Paulo</td></tr><tr><td>46782474000133</td><td>EM FUNCIONAMENTO NORMAL</td><td>2022-12-09</td><td>null</td><td>1.05489145E7</td><td>46782474000133</td><td>SP</td><td>CONTEA CAPITAL TRENTO FUNDO DE INVESTIMENTO EM PARTICIPACOES MULTIESTRATEGIA RESPONSABILIDADE LIMITA</td><td>SP</td><td>São Paulo</td></tr><tr><td>47463511000103</td><td>EM FUNCIONAMENTO NORMAL</td><td>2022-12-09</td><td>null</td><td>4402769.94</td><td>47463511000103</td><td>SP</td><td>EP FUNDO DE INVESTIMENTO EM PARTICIPACOES MULTIESTRATEGIA RESPONSABILIDADE LIMITADA</td><td>SP</td><td>São Paulo</td></tr><tr><td>48328958000132</td><td>EM FUNCIONAMENTO NORMAL</td><td>2022-12-08</td><td>null</td><td>981206.52</td><td>48328958000132</td><td>SP</td><td>STAR VENTURES FUNDO DE INVESTIMENTO EM PARTICIPACOES MULTIESTRATEGIA IE - RESPONSABILIDADE LIMITADA</td><td>SP</td><td>São Paulo</td></tr><tr><td>46780646000130</td><td>EM FUNCIONAMENTO NORMAL</td><td>2022-12-08</td><td>null</td><td>9.50403465E7</td><td>46780646000130</td><td>SP</td><td>PC 78 FUNDO DE INVESTIMENTO EM PARTICIPACOES MULTIESTRATEGIA</td><td>SP</td><td>São Paulo</td></tr><tr><td>47983885000150</td><td>EM FUNCIONAMENTO NORMAL</td><td>2022-12-08</td><td>null</td><td>1.046652606E8</td><td>47983885000150</td><td>SP</td><td>AXA IM SILVANUS FUND FUNDO DE INVESTIMENTO EM PARTICIPACOES MULTIESTRATEGIA RESPONSABILIDADE LIMITAD</td><td>SP</td><td>São Paulo</td></tr><tr><td>51804355000174</td><td>EM FUNCIONAMENTO NORMAL</td><td>2023-08-14</td><td>null</td><td>1.575957148E7</td><td>51804355000174</td><td>SP</td><td>COPEL VENTURES I FUNDO DE INVESTIMENTO EM PARTICIPACOES - EMPRESAS EMERGENTES RESP LIMITADA</td><td>SP</td><td>São Paulo</td></tr><tr><td>51339815000130</td><td>EM FUNCIONAMENTO NORMAL</td><td>2023-07-07</td><td>null</td><td>8.179266377E7</td><td>51339815000130</td><td>SP</td><td>AVT LOG FUNDO DE INVESTIMENTO EM PARTICIPACOES INFRAESTRUTURA</td><td>SP</td><td>São Paulo</td></tr><tr><td>51033013000106</td><td>EM FUNCIONAMENTO NORMAL</td><td>2023-06-13</td><td>null</td><td>4224343.58</td><td>51033013000106</td><td>SP</td><td>SILVERBAY CAPITAL FUNDO DE INVESTIMENTO EM PARTICIPACOES MULTIESTRATEGIA</td><td>SP</td><td>São Paulo</td></tr><tr><td>28850140000178</td><td>EM FUNCIONAMENTO NORMAL</td><td>2017-10-16</td><td>null</td><td>2.140063824E7</td><td>28850140000178</td><td>SP</td><td>FUNDO DE FINANCIAMENTO DA INDUSTRIA CINEMATROGRAFICA NACIONAL - FUNCINE - TIM</td><td>SP</td><td>São Paulo</td></tr><tr><td>06905783000139</td><td>EM FUNCIONAMENTO NORMAL</td><td>2004-12-30</td><td>null</td><td>1.959792432E7</td><td>06905783000139</td><td>SP</td><td>INVESTIMAGE 2 - FUNDO DE FINANCIAMENTO DA INDUSTRIA CINEMATOGRAFICA NACIONAL - FUNCINE</td><td>SP</td><td>São Paulo</td></tr><tr><td>06905783000139</td><td>EM FUNCIONAMENTO NORMAL</td><td>2004-12-30</td><td>null</td><td>1.959792432E7</td><td>06905783000139</td><td>SP</td><td>INVESTIMAGE 2 - FUNDO DE FINANCIAMENTO DA INDUSTRIA CINEMATOGRAFICA NACIONAL - FUNCINE</td><td>SP</td><td>São Paulo</td></tr><tr><td>07644864000195</td><td>EM FUNCIONAMENTO NORMAL</td><td>2005-12-27</td><td>null</td><td>1248536.18</td><td>07644864000195</td><td>SP</td><td>CINE AA FUNDO DE FINANCIAMENTO DA INDUSTRIA CINEMATOGRAFICA NACIONAL - FUNCINE</td><td>SP</td><td>São Paulo</td></tr><tr><td>10500895000187</td><td>EM FUNCIONAMENTO NORMAL</td><td>2008-12-02</td><td>null</td><td>1.123352714E7</td><td>10500895000187</td><td>SP</td><td>INVESTIMAGE 1 FUNDO DE FINANCIAMENTO DA INDUSTRIA CINEMATOGRAFICA NACIONAL - FUNCINE</td><td>SP</td><td>São Paulo</td></tr><tr><td>07766151000102</td><td>EM FUNCIONAMENTO NORMAL</td><td>2006-01-09</td><td>null</td><td>0.0</td><td>07766151000102</td><td>RJ</td><td>FUNDO DE INVESTIMENTO EM DIREITOS CREDITORIOS BCSUL VERAX MULTICRED FINANCEIRO</td><td>RJ</td><td>Rio de Janeiro</td></tr><tr><td>32295244000135</td><td>EM FUNCIONAMENTO NORMAL</td><td>2019-12-26</td><td>null</td><td>3902898.13</td><td>32295244000135</td><td>SP</td><td>CREDORES FUNDO DE INVESTIMENTO EM DIREITOS CREDITORIOS NAO-PADRONIZADOS RESPONSABILIDADE LIMITADA</td><td>SP</td><td>São Paulo</td></tr><tr><td>35686949000171</td><td>EM FUNCIONAMENTO NORMAL</td><td>2019-12-19</td><td>null</td><td>1.959861874E7</td><td>35686949000171</td><td>SP</td><td>GREEN WAY I FUNDO DE INVESTIMENTO EM DIREITOS CREDITORIOS NAO PADRONIZADOS</td><td>SP</td><td>São Paulo</td></tr><tr><td>32907653000145</td><td>EM FUNCIONAMENTO NORMAL</td><td>2019-11-26</td><td>null</td><td>2.372881091E7</td><td>32907653000145</td><td>SP</td><td>CROWN OCEAN CAPITAL IV FUNDO DE INVESTIMENTO EM DIREITOS CREDITORIOS NAO PADRONIZADOS</td><td>SP</td><td>São Paulo</td></tr><tr><td>34553995000130</td><td>EM FUNCIONAMENTO NORMAL</td><td>2019-11-25</td><td>null</td><td>8900515.53</td><td>34553995000130</td><td>SP</td><td>MANHATTAN FUNDO DE INVESTIMENTO EM DIREITOS CREDITORIOS NAO-PADRONIZADOS RESPONSABILIDADE LIMITADA</td><td>SP</td><td>São Paulo</td></tr><tr><td>28296597000182</td><td>EM FUNCIONAMENTO NORMAL</td><td>2018-06-07</td><td>null</td><td>5.316074455E7</td><td>28296597000182</td><td>SP</td><td>HT3 FUNDO DE INVESTIMENTO EM DIREITOS CREDITORIOS RESPONSABILIDADE LIMITADA</td><td>SP</td><td>São Paulo</td></tr><tr><td>28796986000177</td><td>EM FUNCIONAMENTO NORMAL</td><td>2018-04-27</td><td>null</td><td>1.0377110259E8</td><td>28796986000177</td><td>SP</td><td>KINERET FUNDO DE INVESTIMENTO EM DIREITOS CREDITORIOS</td><td>SP</td><td>São Paulo</td></tr><tr><td>28849641000134</td><td>EM FUNCIONAMENTO NORMAL</td><td>2018-03-19</td><td>null</td><td>3.043454345E7</td><td>28849641000134</td><td>SP</td><td>SQUID FUNDO DE INVESTIMENTO EM DIRETOS CREDITORIOS</td><td>SP</td><td>São Paulo</td></tr><tr><td>28240255000140</td><td>EM FUNCIONAMENTO NORMAL</td><td>2017-08-30</td><td>null</td><td>7.533099041E7</td><td>28240255000140</td><td>SP</td><td>MARINO INVEST FUNDO DE INVESTIMENTO EM DIREITOS CREDITORIOS NAO-PADRONIZADOS RESP LIMITADA</td><td>SP</td><td>São Paulo</td></tr><tr><td>28240255000140</td><td>EM FUNCIONAMENTO NORMAL</td><td>2017-08-30</td><td>null</td><td>7.533099041E7</td><td>28240255000140</td><td>SP</td><td>MARINO INVEST FUNDO DE INVESTIMENTO EM DIREITOS CREDITORIOS NAO-PADRONIZADOS RESP LIMITADA</td><td>SP</td><td>São Paulo</td></tr><tr><td>28240255000140</td><td>EM FUNCIONAMENTO NORMAL</td><td>2017-08-30</td><td>null</td><td>7.533099041E7</td><td>28240255000140</td><td>SP</td><td>MARINO INVEST FUNDO DE INVESTIMENTO EM DIREITOS CREDITORIOS NAO-PADRONIZADOS RESP LIMITADA</td><td>SP</td><td>São Paulo</td></tr><tr><td>28240255000140</td><td>EM FUNCIONAMENTO NORMAL</td><td>2017-08-30</td><td>null</td><td>7.533099041E7</td><td>28240255000140</td><td>SP</td><td>MARINO INVEST FUNDO DE INVESTIMENTO EM DIREITOS CREDITORIOS NAO-PADRONIZADOS RESP LIMITADA</td><td>SP</td><td>São Paulo</td></tr><tr><td>27938258000190</td><td>EM FUNCIONAMENTO NORMAL</td><td>2017-07-11</td><td>null</td><td>1.061673687E7</td><td>27938258000190</td><td>SP</td><td>AGUIA FI EM COTAS DE FUNDOS DE INVESTIMENTO EM DIREITOS CREDITORIOS RESPONSABILIDADE LIMITADA</td><td>SP</td><td>São Paulo</td></tr><tr><td>27531244000157</td><td>EM FUNCIONAMENTO NORMAL</td><td>2017-06-29</td><td>null</td><td>2.437109633E7</td><td>27531244000157</td><td>SP</td><td>ONDABRASIL FUNDO DE INVESTIMENTO EM DIREITOS CREDITORIOS NAO-PADRONIZADOS RESP LIMITADA</td><td>SP</td><td>São Paulo</td></tr><tr><td>26452257000178</td><td>EM FUNCIONAMENTO NORMAL</td><td>2017-06-12</td><td>null</td><td>5.502430724E7</td><td>26452257000178</td><td>SP</td><td>AURI FUNDO DE INVESTIMENTO EM DIREITOS CREDITORIOS RESPONSABILIDADE LIMITADA</td><td>SP</td><td>São Paulo</td></tr><tr><td>26452257000178</td><td>EM FUNCIONAMENTO NORMAL</td><td>2017-06-12</td><td>null</td><td>5.502430724E7</td><td>26452257000178</td><td>SP</td><td>AURI FUNDO DE INVESTIMENTO EM DIREITOS CREDITORIOS RESPONSABILIDADE LIMITADA</td><td>SP</td><td>São Paulo</td></tr><tr><td>27531301000106</td><td>EM FUNCIONAMENTO NORMAL</td><td>2017-05-29</td><td>null</td><td>4.730974917E7</td><td>27531301000106</td><td>SP</td><td>QUANTHAS FUNDO DE INVESTIMENTO EM DIREITOS CREDITORIOS MULTISSETORIAL - RESPONSABILIDADE LIMITADA</td><td>SP</td><td>São Paulo</td></tr><tr><td>27531301000106</td><td>EM FUNCIONAMENTO NORMAL</td><td>2017-05-29</td><td>null</td><td>4.730974917E7</td><td>27531301000106</td><td>SP</td><td>QUANTHAS FUNDO DE INVESTIMENTO EM DIREITOS CREDITORIOS MULTISSETORIAL - RESPONSABILIDADE LIMITADA</td><td>SP</td><td>São Paulo</td></tr><tr><td>27531301000106</td><td>EM FUNCIONAMENTO NORMAL</td><td>2017-05-29</td><td>null</td><td>4.730974917E7</td><td>27531301000106</td><td>SP</td><td>QUANTHAS FUNDO DE INVESTIMENTO EM DIREITOS CREDITORIOS MULTISSETORIAL - RESPONSABILIDADE LIMITADA</td><td>SP</td><td>São Paulo</td></tr><tr><td>27531301000106</td><td>EM FUNCIONAMENTO NORMAL</td><td>2017-05-29</td><td>null</td><td>4.730974917E7</td><td>27531301000106</td><td>SP</td><td>QUANTHAS FUNDO DE INVESTIMENTO EM DIREITOS CREDITORIOS MULTISSETORIAL - RESPONSABILIDADE LIMITADA</td><td>SP</td><td>São Paulo</td></tr><tr><td>08621199000187</td><td>EM FUNCIONAMENTO NORMAL</td><td>2016-01-04</td><td>null</td><td>1.6182787373E8</td><td>08621199000187</td><td>SP</td><td>FAMCRED FUNDO DE INVESTIMENTO EM DIREITOS CREDITORIOS NAO-PADRONIZADOS RESPONSABILIDADE LIMITADA</td><td>SP</td><td>São Paulo</td></tr><tr><td>09194841000151</td><td>EM FUNCIONAMENTO NORMAL</td><td>2007-11-30</td><td>null</td><td>1.8033292672E8</td><td>09194841000151</td><td>SP</td><td>ATLANTICO FUNDO DE INVESTIMENTO EM DIREITOS CREDITORIOS RESPONSABILIDADE LIMITADA</td><td>SP</td><td>São Paulo</td></tr><tr><td>21838483000178</td><td>EM FUNCIONAMENTO NORMAL</td><td>2015-08-19</td><td>null</td><td>5.108677452E8</td><td>21838483000178</td><td>SP</td><td>RIO FORMOSO II FUNDO DE INVESTIMENTO EM DIREITOS CREDITORIOS NAO-PADRONIZADOS MULTISSETORIAL NP</td><td>SP</td><td>São Paulo</td></tr><tr><td>45521649000196</td><td>EM FUNCIONAMENTO NORMAL</td><td>2022-06-21</td><td>null</td><td>2.304282834E8</td><td>45521649000196</td><td>SP</td><td>FIDC SINAI MACRO FUNDO DE INVESTIMENTO EM DIREITOS CREDITORIOS NAO PADRONIZADO RESP LIMITADA</td><td>SP</td><td>São Paulo</td></tr><tr><td>45018961000161</td><td>EM FUNCIONAMENTO NORMAL</td><td>2022-05-30</td><td>null</td><td>2.532663374E7</td><td>45018961000161</td><td>SP</td><td>NOVA ERA FUNDO DE INVESTIMENTO EM DIREITOS CREDITORIOS MULTISSETORIAL - RESPONSABILIDADE LIMITADA</td><td>SP</td><td>São Paulo</td></tr><tr><td>45693226000153</td><td>EM FUNCIONAMENTO NORMAL</td><td>2022-05-23</td><td>null</td><td>6543725.97</td><td>45693226000153</td><td>SP</td><td>CREDITO AGRO FUNDO DE INVESTIMENTO EM DIREITOS CREDITORIOS NAO-PADRONIZADOS RESP LIMITADA</td><td>SP</td><td>São Paulo</td></tr><tr><td>45018911000184</td><td>EM FUNCIONAMENTO NORMAL</td><td>2022-05-11</td><td>null</td><td>1.774384956E7</td><td>45018911000184</td><td>SP</td><td>HR FUNDO DE INVESTIMENTO EM DIREITOS CREDITORIOS FINANCEIRO - RESPONSABILIDADE LIMITADA</td><td>SP</td><td>São Paulo</td></tr><tr><td>45722284000168</td><td>EM FUNCIONAMENTO NORMAL</td><td>2022-04-17</td><td>null</td><td>1.502939107E7</td><td>45722284000168</td><td>SP</td><td>FIDC CANAAN - FUNDO DE INVESTIMENTO EM DIREITOS CREDITORIOS RESPONSABILIDADE LIMITADA</td><td>SP</td><td>São Paulo</td></tr><tr><td>43721652000128</td><td>EM FUNCIONAMENTO NORMAL</td><td>2022-03-31</td><td>null</td><td>3.0567678483E8</td><td>43721652000128</td><td>SP</td><td>TELECOM BANK I FUNDO DE INVESTIMENTO EM DIREITOS CREDITORIOS RESPONSABILIDADE LIMITADA</td><td>SP</td><td>São Paulo</td></tr><tr><td>44680388000194</td><td>EM FUNCIONAMENTO NORMAL</td><td>2022-03-25</td><td>null</td><td>2.483847192E7</td><td>44680388000194</td><td>SP</td><td>ACELERA VAREJO FUNDO DE INVESTIMENTO EM DIREITOS CREDITORIOS RESPONSABILIDADE LIMITADA</td><td>SP</td><td>São Paulo</td></tr><tr><td>45019108000164</td><td>EM FUNCIONAMENTO NORMAL</td><td>2022-03-23</td><td>null</td><td>1.342890732E7</td><td>45019108000164</td><td>SP</td><td>UJAY SPARTA CAPITAL FUNDO DE INVESTIMENTO EM DIREITOS CREDITORIOS NAO-PADRONIZADOS FIDC NP</td><td>SP</td><td>São Paulo</td></tr><tr><td>42357817000161</td><td>EM FUNCIONAMENTO NORMAL</td><td>2022-03-08</td><td>null</td><td>4.645220263E7</td><td>42357817000161</td><td>SP</td><td>CONCRETO FUNDO DE INVESTIMENTO EM DIREITOS CREDITORIOS NAO PADRONIZADOS RESP LIMITADA</td><td>SP</td><td>São Paulo</td></tr><tr><td>45019040000113</td><td>EM FUNCIONAMENTO NORMAL</td><td>2022-02-14</td><td>null</td><td>6.581121408E7</td><td>45019040000113</td><td>SP</td><td>AFL INVEST FUNDO DE INVESTIMENTO EM DIREITOS CREDITORIOS NAO-PADRONIZADOS RESP LIMITADA</td><td>SP</td><td>São Paulo</td></tr><tr><td>37651102000187</td><td>EM FUNCIONAMENTO NORMAL</td><td>2022-02-02</td><td>null</td><td>1.1047891301E8</td><td>37651102000187</td><td>SP</td><td>BARCELONA FUNDO DE INVESTIMENTO EM DIREITOS CREDITORIOS RESPONSABILIDADE LIMITADA</td><td>SP</td><td>São Paulo</td></tr><tr><td>44680424000110</td><td>EM FUNCIONAMENTO NORMAL</td><td>2022-01-21</td><td>null</td><td>5.152904921E7</td><td>44680424000110</td><td>SP</td><td>SANTA BARBARA FUNDO DE INVESTIMENTO EM DIREITOS CREDITORIOS MULTISSETORIAL- RESP LIMITADA</td><td>SP</td><td>São Paulo</td></tr><tr><td>44177436000126</td><td>EM FUNCIONAMENTO NORMAL</td><td>2022-01-03</td><td>null</td><td>4.0055315568E8</td><td>44177436000126</td><td>SP</td><td>GALAXY FUNDO DE INVESTIMENTO EM DIREITOS CREDITORIOS RESPONSABILIDADE LIMITADA</td><td>SP</td><td>São Paulo</td></tr><tr><td>41579637000161</td><td>EM FUNCIONAMENTO NORMAL</td><td>2021-12-07</td><td>null</td><td>1.7672430245E8</td><td>41579637000161</td><td>SP</td><td>MGW ATIVOS FUNDO DE INVESTIMENTO EM DIREITOS CREDITORIOS RESPONSABILIDADE LIMITADA</td><td>SP</td><td>São Paulo</td></tr><tr><td>43648593000100</td><td>EM FUNCIONAMENTO NORMAL</td><td>2021-12-02</td><td>null</td><td>1.462862316E7</td><td>43648593000100</td><td>SP</td><td>FC MONEY FUNDO DE INVESTIMENTO EM DIREITOS CREDITORIOS RESPONSABILIDADE LIMITADA</td><td>SP</td><td>São Paulo</td></tr><tr><td>42700668000191</td><td>EM FUNCIONAMENTO NORMAL</td><td>2021-11-29</td><td>null</td><td>6.589757045E7</td><td>42700668000191</td><td>RJ</td><td>GRAND - FUNDO DE INVESTIMENTO EM DIREITOS CREDITORIOS NAO PADRONIZADOS RESPONSABILIDADE LIMITADA</td><td>RJ</td><td>Rio de Janeiro</td></tr><tr><td>43616501000100</td><td>EM FUNCIONAMENTO NORMAL</td><td>2021-09-27</td><td>null</td><td>4.9763847452E8</td><td>43616501000100</td><td>RJ</td><td>INSUMOS MILENIO TERRAMAGNA FUNDO DE INVESTIMENTO NAS CADEIAS PRODUTIVAS AGROINDUSTRIAIS FIAGRO - DIREITOS CREDITORIOS</td><td>RJ</td><td>Rio de Janeiro</td></tr><tr><td>42860984000120</td><td>EM FUNCIONAMENTO NORMAL</td><td>2021-08-30</td><td>null</td><td>9393138.14</td><td>42860984000120</td><td>SP</td><td>CONDOBLUE I FUNDO DE INVESTIMENTO EM DIREITOS CREDITORIOS RESPONSABILIDADE LIMITADA</td><td>SP</td><td>São Paulo</td></tr><tr><td>41557609000143</td><td>EM FUNCIONAMENTO NORMAL</td><td>2021-09-06</td><td>null</td><td>4.542439587E7</td><td>41557609000143</td><td>SP</td><td>SUN FUNDO DE INVESTIMENTO EM DIREITOS CREDITORIOS NAO-PADRONIZADOS RESPONSABILIDADE LIMITADA</td><td>SP</td><td>São Paulo</td></tr><tr><td>42196346000157</td><td>EM FUNCIONAMENTO NORMAL</td><td>2021-08-09</td><td>null</td><td>2.847891431E7</td><td>42196346000157</td><td>SP</td><td>ADAMANTUS FUNDO DE INVESTIMENTO EM DIREITOS CREDITORIOS MULTISETORIAL</td><td>SP</td><td>São Paulo</td></tr><tr><td>32321319000105</td><td>EM FUNCIONAMENTO NORMAL</td><td>2021-07-23</td><td>null</td><td>1215227.93</td><td>32321319000105</td><td>SP</td><td>BRAFIC CONSTRUCAO CIVIL FI EM DIREITOS CREDITORIOS NAO-PADRONIZADOS RESPONSABILIDADE LIMITADA</td><td>SP</td><td>São Paulo</td></tr><tr><td>40211684000195</td><td>EM FUNCIONAMENTO NORMAL</td><td>2021-02-08</td><td>null</td><td>8814320.26</td><td>40211684000195</td><td>SP</td><td>CREDINOV FUNDO DE INVESTIMENTO EM DIREITOS CREDITORIOS NAO-PADRONIZADOS RESPONSABILIDADE LIMITADA</td><td>SP</td><td>São Paulo</td></tr><tr><td>36412972000130</td><td>EM FUNCIONAMENTO NORMAL</td><td>2020-09-10</td><td>null</td><td>5156801.75</td><td>36412972000130</td><td>SP</td><td>VKR FUNDO DE INVESTIMENTO EM DIREITOS CREDITORIOS RESPONSABILIDADE LIMITADA</td><td>SP</td><td>São Paulo</td></tr><tr><td>36412972000130</td><td>EM FUNCIONAMENTO NORMAL</td><td>2020-09-10</td><td>null</td><td>5156801.75</td><td>36412972000130</td><td>SP</td><td>VKR FUNDO DE INVESTIMENTO EM DIREITOS CREDITORIOS RESPONSABILIDADE LIMITADA</td><td>SP</td><td>São Paulo</td></tr><tr><td>36741161000183</td><td>EM FUNCIONAMENTO NORMAL</td><td>2020-07-16</td><td>null</td><td>4.605274238E7</td><td>36741161000183</td><td>SP</td><td>NANBAN FUNDO DE INVESTIMENTO EM DIREITOS CREDITORIOS NAO PADRONIZADOS RESPONSABILIDADE LIMITADA</td><td>SP</td><td>São Paulo</td></tr><tr><td>36741133000166</td><td>EM FUNCIONAMENTO NORMAL</td><td>2020-06-30</td><td>null</td><td>5.3346384692E8</td><td>36741133000166</td><td>SP</td><td>AFRICA FUNDO DE INVESTIMENTO MULTIMERCADO RESPONSABILIDADE LIMITADA</td><td>SP</td><td>São Paulo</td></tr><tr><td>33498764000108</td><td>EM FUNCIONAMENTO NORMAL</td><td>2020-05-26</td><td>null</td><td>1.465456113E7</td><td>33498764000108</td><td>SP</td><td>BRAFIC FUNDO DE INVESTIMENTO EM DIREITOS CREDITORIOS NAO-PADRONIZADOS RESPONSABILIDADE LIMITADA</td><td>SP</td><td>São Paulo</td></tr><tr><td>34691300000186</td><td>EM FUNCIONAMENTO NORMAL</td><td>2020-04-13</td><td>null</td><td>1.567930715E7</td><td>34691300000186</td><td>SP</td><td>ALPHA CREDITO FUNDO DE INVESTIMENTO EM DIREITOS CREDITORIOS</td><td>SP</td><td>São Paulo</td></tr><tr><td>52349539000154</td><td>EM FUNCIONAMENTO NORMAL</td><td>2023-09-28</td><td>null</td><td>1.994651913E7</td><td>52349539000154</td><td>SP</td><td>Z5 FUNDO DE INVESTIMENTO EM DIREITOS CREDITORIOS MULTISSETORIAL - RESPONSABILIDADE LIMITADA</td><td>SP</td><td>São Paulo</td></tr><tr><td>52174102000127</td><td>EM FUNCIONAMENTO NORMAL</td><td>2023-09-13</td><td>null</td><td>2.6102811665E8</td><td>52174102000127</td><td>SP</td><td>BYX CONSIGNADO MULTICONVENIOS FUNDO DE INVESTIMENTO EM DIREITOS CREDITORIOS RESP LIMITADA</td><td>SP</td><td>São Paulo</td></tr><tr><td>52112338000139</td><td>EM FUNCIONAMENTO NORMAL</td><td>2023-09-08</td><td>null</td><td>3.965763331E7</td><td>52112338000139</td><td>SP</td><td>FIZZ CARD FUNDO DE INVESTIMENTO EM DIREITOS CREDITORIOS NAO-PADRONIZADOS RESPONSABILIDADE LIMITADA</td><td>SP</td><td>São Paulo</td></tr><tr><td>52073804000114</td><td>EM FUNCIONAMENTO NORMAL</td><td>2023-09-04</td><td>null</td><td>2.2672389056E8</td><td>52073804000114</td><td>SP</td><td>IF-ACOR FUNDO DE INVESTIMENTO EM DIREITOS CREDITORIOS NAO-PADRONIZADOS RESPONSABILIDADE LIMITADA</td><td>SP</td><td>São Paulo</td></tr><tr><td>52069691000183</td><td>EM FUNCIONAMENTO NORMAL</td><td>2023-09-04</td><td>null</td><td>7.4204001813E8</td><td>52069691000183</td><td>SP</td><td>HERMON FUNDO DE INVESTIMENTO EM DIREITOS CREDITORIOS NAO-PADRONIZADOS</td><td>SP</td><td>São Paulo</td></tr><tr><td>51539073000197</td><td>EM FUNCIONAMENTO NORMAL</td><td>2023-07-24</td><td>null</td><td>1.952326898E7</td><td>51539073000197</td><td>SP</td><td>GERIZIM FUNDO DE INVESTIMENTO EM DIREITOS CREDITORIOS NAO PADRONIZADOS</td><td>SP</td><td>São Paulo</td></tr><tr><td>51292131000120</td><td>EM FUNCIONAMENTO NORMAL</td><td>2023-07-04</td><td>null</td><td>1.0623895649E8</td><td>51292131000120</td><td>SP</td><td>SPESI I FUNDO DE INVESTIMENTO EM DIREITOS CREDITORIOS NAO-PADRONIZADOS MULTISSETORIAL RESP LIMITADA</td><td>SP</td><td>São Paulo</td></tr><tr><td>51199121000145</td><td>EM FUNCIONAMENTO NORMAL</td><td>2023-06-27</td><td>null</td><td>3575207.71</td><td>51199121000145</td><td>SP</td><td>2MONEY FUNDO DE INVESTIMENTO EM DIREITOS CREDITORIOS NAO-PADRONIZADOS RESPONSABILIDADE LIMITADA</td><td>SP</td><td>São Paulo</td></tr><tr><td>50995214000113</td><td>EM FUNCIONAMENTO NORMAL</td><td>2023-06-09</td><td>null</td><td>9.75194172E7</td><td>50995214000113</td><td>SP</td><td>ORION FUNDO DE INVESTIMENTO EM DIREITOS CREDITORIOS RESPONDABILIDADE LIMITADA</td><td>SP</td><td>São Paulo</td></tr><tr><td>50963249000170</td><td>EM FUNCIONAMENTO NORMAL</td><td>2023-06-06</td><td>null</td><td>1.0079293942E8</td><td>50963249000170</td><td>SP</td><td>BOREAL I FUNDO DE INVESTIMENTO EM DIREITOS CREDITORIOS COMERCIAL - RESPONSABILIDADE LIMITADA</td><td>SP</td><td>São Paulo</td></tr><tr><td>50948092000104</td><td>EM FUNCIONAMENTO NORMAL</td><td>2023-06-05</td><td>null</td><td>2.04266121E7</td><td>50948092000104</td><td>SP</td><td>CESSIONARIO 1 FUNDO DE INVESTIMENTO EM DIREITOS CREDITORIOS NAO-PADRONIZADOS RESP LIMITADA</td><td>SP</td><td>São Paulo</td></tr><tr><td>50948197000163</td><td>EM FUNCIONAMENTO NORMAL</td><td>2023-06-05</td><td>null</td><td>990299.19</td><td>50948197000163</td><td>SP</td><td>CESSIONARIO 2 FUNDO DE INVESTIMENTO EM DIREITOS CREDITORIOS NAO-PADRONIZADOS RESP LIMITADA</td><td>SP</td><td>São Paulo</td></tr><tr><td>50818107000110</td><td>EM FUNCIONAMENTO NORMAL</td><td>2023-05-25</td><td>null</td><td>0.0</td><td>50818107000110</td><td>SP</td><td>READING FUNDO DE INVESTIMENTO EM DIREITOS CREDITORIOS NAO-PADRONIZADOS RESPONSABILIDADE LIMITADA</td><td>SP</td><td>São Paulo</td></tr><tr><td>50555281000117</td><td>EM FUNCIONAMENTO NORMAL</td><td>2023-05-04</td><td>null</td><td>1.67105102E7</td><td>50555281000117</td><td>SP</td><td>RECEBIVEIS BRASIL INFRA FUNDO DE INVESTIMENTO EM DIREITOS CREDITORIOS NAO-PADRONIZADOS</td><td>SP</td><td>São Paulo</td></tr><tr><td>50462226000182</td><td>EM FUNCIONAMENTO NORMAL</td><td>2023-04-26</td><td>null</td><td>4.470830981E7</td><td>50462226000182</td><td>SP</td><td>PENSILVANIA FUNDO DE INVESTIMENTO EM DIREITOS CREDITORIOS NAO-PADRONIZADOS RESPONSABILIDADE LIMITADA</td><td>SP</td><td>São Paulo</td></tr><tr><td>50312715000158</td><td>EM FUNCIONAMENTO NORMAL</td><td>2023-04-13</td><td>null</td><td>1.7484117954E8</td><td>50312715000158</td><td>SP</td><td>PFC FUNDO DE INVESTIMENTO EM DIREITOS CREDITORIOS NAO PADRONIZADO</td><td>SP</td><td>São Paulo</td></tr><tr><td>50311731000126</td><td>EM FUNCIONAMENTO NORMAL</td><td>2023-04-13</td><td>null</td><td>5.484187399E7</td><td>50311731000126</td><td>SP</td><td>ID FY FUNDO DE INVESTIMENTO EM COTAS DE FUNDO DE INVESTIMENTO EM DIREITOS CREDITORIOS RESP LIMITADA</td><td>SP</td><td>São Paulo</td></tr><tr><td>50184026000105</td><td>EM FUNCIONAMENTO NORMAL</td><td>2023-04-03</td><td>null</td><td>3.390548606E7</td><td>50184026000105</td><td>SP</td><td>AMALFI FUNDO DE INVESTIMENTO EM DIREITOS CREDITORIOS RESPONSABILIDADE LIMITADA</td><td>SP</td><td>São Paulo</td></tr><tr><td>50153414000129</td><td>EM FUNCIONAMENTO NORMAL</td><td>2023-03-30</td><td>null</td><td>3.44638365E7</td><td>50153414000129</td><td>SP</td><td>INVESTMACH FUNDO DE INVESTIMENTO EM DIREITOS CREDITORIOS - FIDC</td><td>SP</td><td>São Paulo</td></tr><tr><td>49974540000165</td><td>EM FUNCIONAMENTO NORMAL</td><td>2023-03-17</td><td>null</td><td>3.398203665E7</td><td>49974540000165</td><td>SP</td><td>HT3 II FUNDO DE INVESTIMENTO EM DIREITOS CREDITORIOS NAO PADRONIZADO</td><td>SP</td><td>São Paulo</td></tr><tr><td>49963418000193</td><td>EM FUNCIONAMENTO NORMAL</td><td>2023-03-16</td><td>null</td><td>1.9358058271E8</td><td>49963418000193</td><td>SP</td><td>OPI CREDITO AGRICOLA FI NAS CADEIAS PRODUTIVAS AGROINDUSTRIAIS FIAGRO - DC - RESP LIMITADA</td><td>SP</td><td>São Paulo</td></tr><tr><td>47388724000118</td><td>EM FUNCIONAMENTO NORMAL</td><td>2023-02-28</td><td>null</td><td>435374.17</td><td>47388724000118</td><td>RJ</td><td>3R - FUNDO DE INVESTIMENTO EM DIREITOS CREDITORIOS NAO PADRONIZADOS RESPONSABILIDADE LIMITADA</td><td>RJ</td><td>Rio de Janeiro</td></tr><tr><td>49920326000126</td><td>EM FUNCIONAMENTO NORMAL</td><td>2023-03-13</td><td>null</td><td>1.9054992806E8</td><td>49920326000126</td><td>SP</td><td>BDR KYIV FUNDO DE INVESTIMENTO EM DIREITOS CREDITORIOS - FIDC</td><td>SP</td><td>São Paulo</td></tr><tr><td>49223648000116</td><td>EM FUNCIONAMENTO NORMAL</td><td>2023-01-17</td><td>null</td><td>0.0</td><td>49223648000116</td><td>SP</td><td>PHILADELPHIA FUNDO DE INVESTIMENTO EM DIREITOS CREDITORIOS NAOPADRONIZADOS RESPONSABILIDADE LIMITADA</td><td>SP</td><td>São Paulo</td></tr><tr><td>49176545000142</td><td>EM FUNCIONAMENTO NORMAL</td><td>2023-01-13</td><td>null</td><td>2.344639181E7</td><td>49176545000142</td><td>SP</td><td>RIVER II FUNDO DE INVESTIMENTO EM DIREITOS CREDITORIOS NAO-PADRONIZADOS RESPONSABILIDADE LIMITADA</td><td>SP</td><td>São Paulo</td></tr><tr><td>47279999000113</td><td>EM FUNCIONAMENTO NORMAL</td><td>2022-12-09</td><td>null</td><td>6010936.16</td><td>47279999000113</td><td>SP</td><td>DAYCOVAL D408 FUNDO DE INVESTIMENTO MULTIMERCADO</td><td>SP</td><td>São Paulo</td></tr><tr><td>20998989000181</td><td>EM FUNCIONAMENTO NORMAL</td><td>2022-12-06</td><td>null</td><td>1.223790679E7</td><td>20998989000181</td><td>SP</td><td>VERUM II FUNDO DE INVESTIMENTO EM DIREITOS CREDITORIOS NAO PADRONIZADOS RESPONSABILIDADE LIMITADA</td><td>SP</td><td>São Paulo</td></tr><tr><td>48502650000161</td><td>EM FUNCIONAMENTO NORMAL</td><td>2022-11-30</td><td>null</td><td>2.742365066E7</td><td>48502650000161</td><td>SP</td><td>SILVERSTONE FUNDO DE INVESTIMENTO EM DIREITOS CREDITORIOS NAO-PADRONIZADOS RESPONSABILIDADE LIMITADA</td><td>SP</td><td>São Paulo</td></tr><tr><td>48513136000121</td><td>EM FUNCIONAMENTO NORMAL</td><td>2022-11-18</td><td>null</td><td>1.384308465E7</td><td>48513136000121</td><td>SP</td><td>GALGA FUNDO DE INVESTIMENTO EM DIREITOS CREDITORIOS-RESPONSABILIDADE LIMITADA</td><td>SP</td><td>São Paulo</td></tr><tr><td>42196361000103</td><td>EM FUNCIONAMENTO NORMAL</td><td>2022-11-04</td><td>null</td><td>1726899.04</td><td>42196361000103</td><td>SP</td><td>GRIFFIN INVESTMENTS FUNDO DE INVESTIMENTO EM DIREITOS CREDITORIOS NAO PADRONIZADOS RESP LIMITADA</td><td>SP</td><td>São Paulo</td></tr><tr><td>46929959000107</td><td>EM FUNCIONAMENTO NORMAL</td><td>2022-10-31</td><td>null</td><td>7.261654725E7</td><td>46929959000107</td><td>SP</td><td>BUCAREST BANCO FUNDO DE INVESTIMENTO EM DIREITOS CREDITORIOS INDUSTRIAL - RESPONSABILIDADE LIMITADA</td><td>SP</td><td>São Paulo</td></tr><tr><td>45521676000169</td><td>EM FUNCIONAMENTO NORMAL</td><td>2022-10-27</td><td>null</td><td>3.5515348358E8</td><td>45521676000169</td><td>SP</td><td>HAWKER FUNDO DE INVESTIMENTO EM DIREITOS CREDITORIOS NAO PADRONIZADOS</td><td>SP</td><td>São Paulo</td></tr><tr><td>45899745000172</td><td>EM FUNCIONAMENTO NORMAL</td><td>2022-10-25</td><td>null</td><td>1.0580562099E8</td><td>45899745000172</td><td>SP</td><td>ID 112 FUNDO DE INVESTIMENTO EM DIREITOS CREDITORIOS NAO-PADRONIZADOS</td><td>SP</td><td>São Paulo</td></tr><tr><td>46929994000126</td><td>EM FUNCIONAMENTO NORMAL</td><td>2022-10-24</td><td>null</td><td>3.679685417E7</td><td>46929994000126</td><td>SP</td><td>GRATIAM FLOW FUNDO DE INVESTIMENTO EM DIREITOS CREDITORIOS MULTISSETORIAL RESPONSABILIDADE LIMITADA</td><td>SP</td><td>São Paulo</td></tr><tr><td>45899460000131</td><td>EM FUNCIONAMENTO NORMAL</td><td>2022-09-28</td><td>null</td><td>5.143766779E7</td><td>45899460000131</td><td>SP</td><td>VOLUS FUNDO DE INVESTIMENTO EM DIREITOS CREDITORIOS NAO-PADRONIZADOS RESPONSABILIDADE LIMITADA</td><td>SP</td><td>São Paulo</td></tr><tr><td>46557432000107</td><td>EM FUNCIONAMENTO NORMAL</td><td>2022-07-07</td><td>null</td><td>4120348.03</td><td>46557432000107</td><td>SP</td><td>ACELERA CASH FUNDO DE INVESTIMENTO EM DIREITOS CREDITORIOS</td><td>SP</td><td>São Paulo</td></tr><tr><td>47372688000102</td><td>EM FUNCIONAMENTO NORMAL</td><td>2022-08-30</td><td>null</td><td>3361933.07</td><td>47372688000102</td><td>SP</td><td>PHX FUNDO DE INVESTIMENTO EM DIREITOS CREDITORIOS NAO-PADRONIZADOS RESPONSABILIDADE LIMITADA</td><td>SP</td><td>São Paulo</td></tr><tr><td>45019002000160</td><td>EM FUNCIONAMENTO NORMAL</td><td>2022-08-09</td><td>null</td><td>4.81126398E7</td><td>45019002000160</td><td>SP</td><td>WAY ENGELUZ FUNDO DE INVESTIMENTO EM DIREITOS CREDITORIOS RESPONSABILIDADE LIMITADA</td><td>SP</td><td>São Paulo</td></tr><tr><td>45899588000103</td><td>EM FUNCIONAMENTO NORMAL</td><td>2022-08-03</td><td>null</td><td>1268242.73</td><td>45899588000103</td><td>SP</td><td>FIDUCIA FUNDO DE INVESTIMENTO EM DIREITOS CREDITORIOS NAO-PADRONIZADOS</td><td>SP</td><td>São Paulo</td></tr><tr><td>45721977000136</td><td>EM FUNCIONAMENTO NORMAL</td><td>2022-07-19</td><td>null</td><td>1.7123149245E8</td><td>45721977000136</td><td>SP</td><td>MONARCA FI EM COTAS DE FUNDOS DE INVESTIMENTO EM DIREITOS CREDITORIOS RESPONSABILIDADE LIMITADA</td><td>SP</td><td>São Paulo</td></tr><tr><td>06537068000190</td><td>EM FUNCIONAMENTO NORMAL</td><td>2004-08-02</td><td>null</td><td>1260.7</td><td>06537068000190</td><td>PA</td><td>AMAZONIA CREDIT 90 - FUNDO DE APLICACAO EM QUOTAS DE FUNDOS DE INVESTIMENTO</td><td>PA</td><td>Pará</td></tr><tr><td>07408147000164</td><td>EM FUNCIONAMENTO NORMAL</td><td>2005-04-11</td><td>null</td><td>19103.37</td><td>07408147000164</td><td>PA</td><td>FUNDO AMAZONIA DE APLICACAO EM COTAS DE FUNDOS DE INVESTIMENTO-AMAZONIA MIX ''2''</td><td>PA</td><td>Pará</td></tr><tr><td>12239939000192</td><td>EM FUNCIONAMENTO NORMAL</td><td>2011-09-21</td><td>2.02</td><td>6.55877165E7</td><td>12239939000192</td><td>SP</td><td>BNP PARIBAS ACTION CLASSE DE INVESTIMENTO EM CLASSES DE INVESTIMENTO DE ACOES - RESP LIMITADA</td><td>SP</td><td>São Paulo</td></tr><tr><td>12241282000106</td><td>EM FUNCIONAMENTO NORMAL</td><td>2011-09-22</td><td>0.02</td><td>6.542651389E7</td><td>12241282000106</td><td>SP</td><td>BNP PARIBAS ACTION MASTER CLASSE DE INVESTIMENTO DE ACOES - RESPONSABILIDADE LIMITADA</td><td>SP</td><td>São Paulo</td></tr><tr><td>14167479000160</td><td>EM FUNCIONAMENTO NORMAL</td><td>2011-10-21</td><td>1.2</td><td>2.687507781E7</td><td>14167479000160</td><td>SP</td><td>ZURICH BNPP MULTIMERCADO CIC DE CLASSES DE INVESTIMENTO PREVIDENCIARIA - RESPONSABILIDADE LIMITADA</td><td>SP</td><td>São Paulo</td></tr><tr><td>06985322000113</td><td>EM FUNCIONAMENTO NORMAL</td><td>2012-03-08</td><td>32.0</td><td>1.7911641871E8</td><td>06985322000113</td><td>MG</td><td>CHALLENGER FUNDO DE INVESTIMENTO FINANCEIRO EM ACOES</td><td>MG</td><td>Minas Gerais</td></tr></tbody></table></div>"
      ]
     },
     "metadata": {
      "application/vnd.databricks.v1+output": {
       "addedWidgets": {},
       "aggData": [],
       "aggError": "",
       "aggOverflow": false,
       "aggSchema": [],
       "aggSeriesLimitReached": false,
       "aggType": "",
       "arguments": {},
       "columnCustomDisplayInfos": {},
       "data": [
        [
         "09636393000107",
         "EM FUNCIONAMENTO NORMAL",
         "2008-09-03",
         0.35,
         8.39063605223E9,
         "09636393000107",
         "SP",
         "BNP PARIBAS MATCH CLASSE DE INVESTIMENTO DE RENDA FIXA REFERENCIADA DI CP RESPONSABILIDADE LIMITADA",
         "SP",
         "São Paulo"
        ],
        [
         "09636619000161",
         "EM FUNCIONAMENTO NORMAL",
         "2008-10-02",
         0.22,
         7.7668289759E8,
         "09636619000161",
         "SP",
         "BNP PARIBAS SOBERANO CIC DE CLASSE DE INVESTIMENTO RENDA FIXA SIMPLES - RESPONSABILIDADE LIMITADA",
         "SP",
         "São Paulo"
        ],
        [
         "09720710000160",
         "EM FUNCIONAMENTO NORMAL",
         "2008-09-26",
         8.0,
         2.6752782021E8,
         "09720710000160",
         "MG",
         "INTER CONSERVADOR PLUS FUNDO DE INVESTIMENTO FINANCEIRO RENDA FIXA LONGO PRAZO RESP LIMITADA",
         "MG",
         "Minas Gerais"
        ],
        [
         "11108013000103",
         "EM FUNCIONAMENTO NORMAL",
         "2009-09-25",
         2.0,
         8.337165502E7,
         "11108013000103",
         "SP",
         "BNP PARIBAS SMALL CAPS CLASSE DE INVESTIMENTO EM ACOES - RESPONSABILIDADE LIMITADA",
         "SP",
         "São Paulo"
        ],
        [
         "11147668000182",
         "EM FUNCIONAMENTO NORMAL",
         "2010-06-16",
         0.7,
         1.8697626529E8,
         "11147668000182",
         "SP",
         "BNP PARIBAS ACCESS USA COMPANIES CLASSE DE INVESTIMENTO EM ACOES - RESPONSABILIDADE LIMITADA",
         "SP",
         "São Paulo"
        ],
        [
         "11769285000146",
         "EM FUNCIONAMENTO NORMAL",
         "2010-07-23",
         0.58,
         2.66385730905E9,
         "11769285000146",
         "SP",
         "SPHERE CLASSE DE INVESTIMENTO MULTIMERCADO CREDITO PRIVADO INVESTIMENTO NO EXTERIOR",
         "SP",
         "São Paulo"
        ],
        [
         "12107422000140",
         "EM FUNCIONAMENTO NORMAL",
         "2011-09-06",
         0.8,
         1.9252269085E8,
         "12107422000140",
         "SP",
         "ZURICH BNPP RENDA FIXA CIC DE CLASSES DE INVESTIMENTO PREVIDENCIARIA - RESP LIMITADA",
         "SP",
         "São Paulo"
        ],
        [
         "12124044000102",
         "EM FUNCIONAMENTO NORMAL",
         "2010-08-26",
         1.5,
         5.5395629203E8,
         "12124044000102",
         "SP",
         "MAPFRE HEDGE PREV CLASSE DE INVESTIMENTO RENDA FIXA - RESPONSABILIDADE LIMITADA",
         "SP",
         "São Paulo"
        ],
        [
         "12124044000102",
         "EM FUNCIONAMENTO NORMAL",
         "2010-08-26",
         1.5,
         5.5395629203E8,
         "12124044000102",
         "SP",
         "MAPFRE HEDGE PREV CLASSE DE INVESTIMENTO RENDA FIXA - RESPONSABILIDADE LIMITADA",
         "SP",
         "São Paulo"
        ],
        [
         "13243834000170",
         "EM FUNCIONAMENTO NORMAL",
         "2011-03-01",
         null,
         null,
         "13243834000170",
         "SP",
         "TENEO FUNDO DE INVESTIMENTO EM PARTICIPACOES - MULTIESTRATEGIA",
         "SP",
         "São Paulo"
        ],
        [
         "97543707000186",
         "EM FUNCIONAMENTO NORMAL",
         "2011-08-31",
         0.0,
         2.0799783775E8,
         "97543707000186",
         "SP",
         "BLACKROCK INSTITUCIONAL IBOVESPA CLASSE DE INVESTIMENTO EM ACOES - RESPONSABILIDADE LIMITADA",
         "SP",
         "São Paulo"
        ],
        [
         "46628381000159",
         "EM FUNCIONAMENTO NORMAL",
         "2022-07-19",
         null,
         6774129.91,
         "46628381000159",
         "SP",
         "KATLA FUNDO DE INVESTIMENTO MULTIMERCADO CREDITO PRIVADO",
         "SP",
         "São Paulo"
        ],
        [
         "46334681000125",
         "EM FUNCIONAMENTO NORMAL",
         "2022-07-21",
         null,
         1.049761399E7,
         "46334681000125",
         "SP",
         "SULAMERICA PRESTIGE XP SEG PREV FIF RENDA FIXA RESPONSABILIDADE LIMITADA",
         "SP",
         "São Paulo"
        ],
        [
         "47033209000115",
         "EM FUNCIONAMENTO NORMAL",
         "2022-07-28",
         null,
         8.58764167E7,
         "47033209000115",
         "RJ",
         "IPANEMA PREVIDENCIARIO FIF MULTIMERCADO CREDITO PRIVADO - RESPONSABILIDADE LIMITADA",
         "RJ",
         "Rio de Janeiro"
        ],
        [
         "47372720000141",
         "EM FUNCIONAMENTO NORMAL",
         "2022-08-09",
         null,
         3.160091085E7,
         "47372720000141",
         "SP",
         "2PX - FUNDO DE INVESTIMENTO MULTIMERCADO CREDITO PRIVADO",
         "SP",
         "São Paulo"
        ],
        [
         "41751844000151",
         "EM FUNCIONAMENTO NORMAL",
         "2022-07-14",
         null,
         0.0,
         "41751844000151",
         "SP",
         "MARSELHA FUNDO DE INVESTIMENTO FINANCEIRO CREDITO PRIVADO RESPONSABILIDADE LIMITADA",
         "SP",
         "São Paulo"
        ],
        [
         "45908200000185",
         "EM FUNCIONAMENTO NORMAL",
         "2022-08-26",
         null,
         5335302.04,
         "45908200000185",
         "SP",
         "BRAFIC FI EM COTAS DE FUNDOS DE INVESTIMENTO MULTIMERCADO CREDITO PRIVADO RESPONSABILIDADE LIMITADA",
         "SP",
         "São Paulo"
        ],
        [
         "47372648000152",
         "EM FUNCIONAMENTO NORMAL",
         "2022-08-30",
         null,
         2671425.13,
         "47372648000152",
         "SP",
         "PLN PAR - FUNDO DE INVESTIMENTO MULTIMERCADO CREDITO PRIVADO",
         "SP",
         "São Paulo"
        ],
        [
         "44428806000150",
         "EM FUNCIONAMENTO NORMAL",
         "2022-09-25",
         null,
         1.2377297921E8,
         "44428806000150",
         "SP",
         "JIVE DISTRESSED & SPECIAL SITS IV STRATEGIC PARTNERS FIC DE FIF MULTI - CP RESPONSABILIDADE LIMITADA",
         "SP",
         "São Paulo"
        ],
        [
         "44428854000149",
         "EM FUNCIONAMENTO NORMAL",
         "2022-09-25",
         null,
         1.217224301E8,
         "44428854000149",
         "SP",
         "CSHG JIVE DISTRESSED & SPECIAL SITS IV ALLOCATION FIC DE FIF MULTI CP RESPONSABILIDADE LIMITADA",
         "SP",
         "São Paulo"
        ],
        [
         "47716415000120",
         "EM FUNCIONAMENTO NORMAL",
         "2022-10-07",
         1.2,
         3.920949699E7,
         "47716415000120",
         "RJ",
         "JOURNEY CAPITAL CREDITO ESTRUTURADO 120 FUNDO DE INVESTIMENTO EM COTAS DE FUNDOS DE INVESTIMENTO MULTIMERCADO CREDITO PRIVADO",
         "RJ",
         "Rio de Janeiro"
        ],
        [
         "47085583000164",
         "EM FUNCIONAMENTO NORMAL",
         "2022-10-18",
         null,
         9.948267096E7,
         "47085583000164",
         "SP",
         "JIVE DISTRESSED & SPECIAL SITS IV INSTITUTIONAL FIC DE FIF MULTI - CP RESPONSABILIDADE LIMITADA",
         "SP",
         "São Paulo"
        ],
        [
         "47423757000151",
         "EM FUNCIONAMENTO NORMAL",
         "2022-10-20",
         65.0,
         3.280304342E8,
         "47423757000151",
         "MG",
         "RENDA FUNDO DE INVESTIMENTO FINANCEIRO RENDA FIXA LONGO PRAZO TITULOS PUBL IMA GERAL RESP LIMITADA",
         "MG",
         "Minas Gerais"
        ],
        [
         "45908305000134",
         "EM FUNCIONAMENTO NORMAL",
         "2022-11-22",
         null,
         1.6483529491E8,
         "45908305000134",
         "SP",
         "ID 309 FUNDO DE INVESTIMENTO MULTIMERCADO CREDITO PRIVADO INVESTIMENTO NO EXTERIOR",
         "SP",
         "São Paulo"
        ],
        [
         "47984249000142",
         "EM FUNCIONAMENTO NORMAL",
         "2022-11-30",
         null,
         3676461.59,
         "47984249000142",
         "SP",
         "SAM 3 FUNDO DE INVESTIMENTO MULTIMERCADO CREDITO PRIVADO RESPONSABILIDADE LIMITADA",
         "SP",
         "São Paulo"
        ],
        [
         "45823709000125",
         "EM FUNCIONAMENTO NORMAL",
         "2022-12-08",
         1.0,
         1.55511045E7,
         "45823709000125",
         "SP",
         "INVESTO MEGA TRENDS CLASSE DE INVESTIMENTO ACOES RESPONSABILIDADE LIMITADA",
         "SP",
         "São Paulo"
        ],
        [
         "48993165000138",
         "EM FUNCIONAMENTO NORMAL",
         "2022-12-28",
         0.0,
         5.34157357E7,
         "48993165000138",
         "SP",
         "LAB OITO FUNDO DE INVESTIMENTO MULTIMERCADO CREDITO PRIVADO",
         "SP",
         "São Paulo"
        ],
        [
         "48996079000189",
         "EM FUNCIONAMENTO NORMAL",
         "2022-12-28",
         null,
         7.640086935E7,
         "48996079000189",
         "SP",
         "KSK FUNDO DE INVESTIMENTO MULTIMERCADO CREDITO PRIVADO",
         "SP",
         "São Paulo"
        ],
        [
         "48996311000189",
         "EM FUNCIONAMENTO NORMAL",
         "2022-12-28",
         null,
         7635102.32,
         "48996311000189",
         "SP",
         "ABP VENTURES FUNDO DE INVESTIMENTO MULTIMERCADO CREDITO PRIVADO INVESTIMENTO NO EXTERIOR",
         "SP",
         "São Paulo"
        ],
        [
         "49224039000181",
         "EM FUNCIONAMENTO NORMAL",
         "2023-01-17",
         null,
         4801607.67,
         "49224039000181",
         "SP",
         "GRIFFIN FUNDO DE INVESTIMENTO MULTIMERCADO CREDITO PRIVADO INVESTIMENTO NO EXTERIOR",
         "SP",
         "São Paulo"
        ],
        [
         "19424677000185",
         "EM FUNCIONAMENTO NORMAL",
         "2023-02-01",
         2500.0,
         1.219515785E7,
         "19424677000185",
         "SP",
         "VERUM FUNDO DE INVESTIMENTO MULTIMERCADO CREDITO PRIVADO",
         "SP",
         "São Paulo"
        ],
        [
         "49429700000195",
         "EM FUNCIONAMENTO NORMAL",
         "2023-02-01",
         0.0,
         6.534461901E7,
         "49429700000195",
         "SP",
         "SILVES FUNDO DE INVESTIMENTO MULTIMERCADO CREDITO PRIVADO",
         "SP",
         "São Paulo"
        ],
        [
         "49506998000190",
         "EM FUNCIONAMENTO NORMAL",
         "2023-02-07",
         0.3,
         2.70401677E7,
         "49506998000190",
         "MG",
         "SUPREME I FUNDO DE INVESTIMENTO MULTIMERCADO CREDITO PRIVADO",
         "MG",
         "Minas Gerais"
        ],
        [
         "49651132000172",
         "EM FUNCIONAMENTO NORMAL",
         "2023-02-17",
         null,
         4.237867217E7,
         "49651132000172",
         "SP",
         "BAY HA LONG FUNDO DE INVESTIMENTO MULTIMERCADO CREDITO PRIVADO INVESTIMENTO NO EXTERIOR",
         "SP",
         "São Paulo"
        ],
        [
         "49651181000105",
         "EM FUNCIONAMENTO NORMAL",
         "2023-02-17",
         null,
         4.232100033E7,
         "49651181000105",
         "SP",
         "BAY SAO FRANCISCO FUNDO DE INVESTIMENTO MULTIMERCADO CREDITO PRIVADO INVESTIMENTO NO EXTERIOR",
         "SP",
         "São Paulo"
        ],
        [
         "49651212000128",
         "EM FUNCIONAMENTO NORMAL",
         "2023-02-17",
         null,
         4.30252098E7,
         "49651212000128",
         "SP",
         "BAY SIDNEY FUNDO DE INVESTIMENTO MULTIMERCADO CREDITO PRIVADO INVESTIMENTO NO EXTERIOR",
         "SP",
         "São Paulo"
        ],
        [
         "49651245000178",
         "EM FUNCIONAMENTO NORMAL",
         "2023-02-17",
         null,
         1.236116204E7,
         "49651245000178",
         "SP",
         "BAY GUANABARA FUNDO DE INVESTIMENTO MULTIMERCADO CREDITO PRIVADO INVESTIMENTO NO EXTERIOR",
         "SP",
         "São Paulo"
        ],
        [
         "49733651000180",
         "EM FUNCIONAMENTO NORMAL",
         "2023-02-27",
         0.08,
         1.222186178E7,
         "49733651000180",
         "RJ",
         "GENEPI FI EM COTAS DE FIF MULTIMERCADO CREDITO PRIVADO - RESPONSABILIDADE LIMITADA",
         "RJ",
         "Rio de Janeiro"
        ],
        [
         "49914023000109",
         "EM FUNCIONAMENTO NORMAL",
         "2023-03-13",
         0.0,
         1.6773497207E8,
         "49914023000109",
         "SP",
         "BULLLA FUNDO DE INVESTIMENTO MULTIMERCADO CREDITO PRIVADO",
         "SP",
         "São Paulo"
        ],
        [
         "49995610000161",
         "EM FUNCIONAMENTO NORMAL",
         "2023-03-20",
         25.0,
         4.5087550965E8,
         "49995610000161",
         "MG",
         "INTER INSTITUICOES FINANCEIRAS FUNDO DE INVESTIMENTO FINANCEIRO RENDA FIXA CRED PRIV RESP LIMITADA",
         "MG",
         "Minas Gerais"
        ],
        [
         "49983891000132",
         "EM FUNCIONAMENTO NORMAL",
         "2023-03-17",
         null,
         2.5731731862E8,
         "49983891000132",
         "RJ",
         "PATRIA CREDITO ESTRUTURADO 365 FIC FIM CREDITO PRIVADO",
         "RJ",
         "Rio de Janeiro"
        ],
        [
         "49983964000196",
         "EM FUNCIONAMENTO NORMAL",
         "2023-03-17",
         null,
         7.2397634306E8,
         "49983964000196",
         "SP",
         "CLASSE UNICA DO WESTERN ASSET CREDITO BANCARIO PLUS FI FINANCEIRO RF CP RESP LIMITADA",
         "SP",
         "São Paulo"
        ],
        [
         "50051913000105",
         "EM FUNCIONAMENTO NORMAL",
         "2023-03-23",
         null,
         5.455316553E7,
         "50051913000105",
         "SP",
         "NXC FUNDO DE INVESTIMENTO MULTIMERCADO CREDITO PRIVADO",
         "SP",
         "São Paulo"
        ],
        [
         "50152676000179",
         "EM FUNCIONAMENTO NORMAL",
         "2023-03-30",
         null,
         3.473794755E7,
         "50152676000179",
         "SP",
         "INVESTMACH FUNDO DE INVESTIMENTO EM COTAS DE FUNDOS DE INVESTIMENTO MULTIMERCADO CREDITO PRIVADO",
         "SP",
         "São Paulo"
        ],
        [
         "50191107000132",
         "EM FUNCIONAMENTO NORMAL",
         "2023-04-03",
         null,
         1.7628287032E8,
         "50191107000132",
         "SP",
         "ID SOBERANO FUNDO DE INVESTIMENTO RENDA FIXA SIMPLES LONGO PRAZO",
         "SP",
         "São Paulo"
        ],
        [
         "50197313000150",
         "EM FUNCIONAMENTO NORMAL",
         "2023-04-04",
         45.0,
         2.1369438278E8,
         "50197313000150",
         "MG",
         "INTER BB FC DE FUNDO DE INVESTIMENTO FINANCEIRO RENDA FIXA LONGO PRAZO RESP LIMITADA",
         "MG",
         "Minas Gerais"
        ],
        [
         "50269714000178",
         "EM FUNCIONAMENTO NORMAL",
         "2023-04-11",
         null,
         3.4081955309E8,
         "50269714000178",
         "SP",
         "ID RF FUNDO DE INVESTIMENTO FINANCEIRO RENDA FIXA LONGO PRAZO",
         "SP",
         "São Paulo"
        ],
        [
         "50443649000155",
         "EM FUNCIONAMENTO NORMAL",
         "2023-04-25",
         null,
         2.0747074698E8,
         "50443649000155",
         "RJ",
         "PRINZ DISCOVERY CREDITO ESTRUTURADO FUNDO DE INVESTIMENTO EM COTAS DE DIREITOS CREDITORIOS",
         "RJ",
         "Rio de Janeiro"
        ],
        [
         "50587789000105",
         "EM FUNCIONAMENTO NORMAL",
         "2023-05-08",
         null,
         8.21327176E7,
         "50587789000105",
         "SP",
         "HT3 FUNDO DE INVESTIMENTO MULTIMERCADO CREDITO PRIVADO IE",
         "SP",
         "São Paulo"
        ],
        [
         "50943777000168",
         "EM FUNCIONAMENTO NORMAL",
         "2023-06-05",
         null,
         2.986653305E7,
         "50943777000168",
         "SP",
         "BROWNFIELD FUNDO DE INVESTIMENTO EM DIREITOS CREDITORIOS RESPONSABILIDADE LIMITADA",
         "SP",
         "São Paulo"
        ],
        [
         "50946637000143",
         "EM FUNCIONAMENTO NORMAL",
         "2023-06-05",
         null,
         1.636318291E7,
         "50946637000143",
         "SP",
         "A4 FUNDO DE INVESTIMENTO MULTIMERCADO ESTRATEGIA LIVRE CREDITO PRIVADO",
         "SP",
         "São Paulo"
        ],
        [
         "51029588000147",
         "EM FUNCIONAMENTO NORMAL",
         "2023-06-13",
         0.0,
         4.7998655265E8,
         "51029588000147",
         "SP",
         "FRANKFURT CLASSE DE INVESTIMENTO MULTIMERCADO INVESTIMENTO NO EXTERIOR RESPONSABILIDADE LIMITADA",
         "SP",
         "São Paulo"
        ],
        [
         "51305991000151",
         "EM FUNCIONAMENTO NORMAL",
         "2023-07-05",
         0.695,
         4.317146516E7,
         "51305991000151",
         "MG",
         "DUNAS II FUNDO DE INVESTIMENTO FINANCEIRO MULTIMERCADO CREDITO PRIVADO RESPONSABILIDADE LIMITADA",
         "MG",
         "Minas Gerais"
        ],
        [
         "51777660000114",
         "EM FUNCIONAMENTO NORMAL",
         "2023-08-11",
         null,
         3.087888276E7,
         "51777660000114",
         "SP",
         "ANZEN FUNDO DE INVESTIMENTO EM COTAS DE FUNDOS DE INVESTIMENTO MULTIMERCADO CREDITO PRIVADO",
         "SP",
         "São Paulo"
        ],
        [
         "52317521000170",
         "EM FUNCIONAMENTO NORMAL",
         "2023-09-26",
         null,
         4511806.83,
         "52317521000170",
         "SP",
         "IAT FUNDO DE INVESTIMENTO MULTIMERCADO RESPONSABILIDADE LIMITADA CREDITO PRIVADO IE",
         "SP",
         "São Paulo"
        ],
        [
         "52317938000133",
         "EM FUNCIONAMENTO NORMAL",
         "2023-09-26",
         null,
         3257185.51,
         "52317938000133",
         "SP",
         "SZLEZ FUNDO DE INVESTIMENTO MULTIMERCADO RESPONSABILIDADE LIMITADA CREDITO PRIVADO IE",
         "SP",
         "São Paulo"
        ],
        [
         "09234078000145",
         "EM FUNCIONAMENTO NORMAL",
         "2008-06-04",
         null,
         1.16737717074E10,
         "09234078000145",
         "DF",
         "FUNDO DE INVESTIMENTO DO FUNDO DE GARANTIA DO TEMPO DE SERVICO",
         "DF",
         "Distrito Federal"
        ],
        [
         "14166140000149",
         "EM FUNCIONAMENTO NORMAL",
         "2012-01-18",
         null,
         1.29401414112E9,
         "14166140000149",
         "SP",
         "FUNDO DE INVESTIMENTO EM DIREITOS CREDITORIOS SIFRA STAR",
         "SP",
         "São Paulo"
        ],
        [
         "26862104000107",
         "EM FUNCIONAMENTO NORMAL",
         "2017-03-07",
         5.0,
         1.055678005E7,
         "26862104000107",
         "MG",
         "GUIA FUNDO DE INVESTIMENTO FINANCEIRO EM ACOES",
         "MG",
         "Minas Gerais"
        ],
        [
         "12586174000167",
         "EM FUNCIONAMENTO NORMAL",
         "2016-10-20",
         null,
         4.782494499E7,
         "12586174000167",
         "SP",
         "NOVA PARTICIPACOES - FUNDO DE INVESTIMENTO EM COTAS DE FUNDOS DE INVESTIMENTO MULTIMERCADO CREDITO PRIVADO",
         "SP",
         "São Paulo"
        ],
        [
         "27826059000190",
         "EM FUNCIONAMENTO NORMAL",
         "2017-10-23",
         0.6,
         2.1715571911E8,
         "27826059000190",
         "MG",
         "INTER PREMIUM FUNDO DE INVESTIMENTO FINANCEIRO RENDA FIXA CREDITO PRIVADO LONGO PRAZO RESP LIMITADA",
         "MG",
         "Minas Gerais"
        ],
        [
         "28549930000118",
         "EM FUNCIONAMENTO NORMAL",
         "2017-12-07",
         null,
         9.3356381139E8,
         "28549930000118",
         "SP",
         "CSHG JIVE DISTRESSED ALLOCATION II FIC DE FIF MULTI CP - RESPONSABILIDADE LIMITADA",
         "SP",
         "São Paulo"
        ],
        [
         "26845868000186",
         "EM FUNCIONAMENTO NORMAL",
         "2018-02-19",
         1.515,
         1265664.58,
         "26845868000186",
         "SP",
         "BNP PARIBAS ACCESS DIVERSIFIED DYNAMIC CLASSE DE INVESTIMENTO MULTIMERCADO - RESP LIMITADA",
         "SP",
         "São Paulo"
        ],
        [
         "30282227000138",
         "EM FUNCIONAMENTO NORMAL",
         "2018-10-30",
         4.0,
         3.957397425E7,
         "30282227000138",
         "SP",
         "BNP PARIBAS PREMIUM EQUITIES CI EM CLASSES DE INVESTIMENTO EM ACOES RESP LIMITADA",
         "SP",
         "São Paulo"
        ],
        [
         "30282270000101",
         "EM FUNCIONAMENTO NORMAL",
         "2018-12-19",
         5.0E-4,
         6.26435857544E9,
         "30282270000101",
         "SP",
         "CLASSE UNICA DO IMOLA FUNDO DE INVESTIMENTO EM COTAS FINANCEIRO MULTIMERCADO CREDITO PRIVADO LP",
         "SP",
         "São Paulo"
        ],
        [
         "28320756000137",
         "EM FUNCIONAMENTO NORMAL",
         "2019-01-17",
         0.5,
         3.03561141071E9,
         "28320756000137",
         "SP",
         "CLASSE UNICA DO WESTERN ASSET TOTAL CREDIT ADVISORY FI EM COTAS DE FI FINANCEIRO RF CP RESP. LTDA",
         "SP",
         "São Paulo"
        ],
        [
         "29881003000163",
         "EM FUNCIONAMENTO NORMAL",
         "2019-01-23",
         0.01,
         4.9264134473E8,
         "29881003000163",
         "SP",
         "SILEX FUNDO DE INVESTIMENTO MULTIMERCADO CREDITO PRIVADO INVESTIMENTO NO EXTERIOR",
         "SP",
         "São Paulo"
        ],
        [
         "32244578000180",
         "EM FUNCIONAMENTO NORMAL",
         "2019-02-11",
         null,
         3.398212742E7,
         "32244578000180",
         "SP",
         "SUN FUNDO DE INVESTIMENTO MULTIMERCADO CREDITO PRIVADO",
         "SP",
         "São Paulo"
        ],
        [
         "32203308000120",
         "EM FUNCIONAMENTO NORMAL",
         "2019-03-26",
         0.38,
         2.0211663737E8,
         "32203308000120",
         "SP",
         "BNP PARIBAS CASH DI II REFERENCIADO CI EM CLASSES DE INVESTIMENTO RENDA FIXA - RESP LIMITADA",
         "SP",
         "São Paulo"
        ],
        [
         "32222722000187",
         "EM FUNCIONAMENTO NORMAL",
         "2019-04-03",
         0.25,
         1.88152272607E9,
         "32222722000187",
         "SP",
         "BNP PARIBAS CRED INSTITUCIONAL SUSTENTAVEL IS CI EM CLASSES DE INVESTIMENTO RF CP LP - RESP LIMITADA",
         "SP",
         "São Paulo"
        ],
        [
         "29315243000109",
         "EM FUNCIONAMENTO NORMAL",
         "2019-03-18",
         2.0,
         9.0170094276E8,
         "29315243000109",
         "SP",
         "ESTOCOLMO FUNDO DE INVESTIMENTO MULTIMERCADO CREDITO PRIVADO",
         "SP",
         "São Paulo"
        ],
        [
         "31963246000192",
         "EM FUNCIONAMENTO NORMAL",
         "2019-03-18",
         2.0,
         2488248.35,
         "31963246000192",
         "SP",
         "SERRA DE BRAGANCA FUNDO DE INVESTIMENTO MULTIMERCADO",
         "SP",
         "São Paulo"
        ],
        [
         "32222759000105",
         "EM FUNCIONAMENTO NORMAL",
         "2019-06-18",
         0.065,
         2.04240363E7,
         "32222759000105",
         "SP",
         "BLACKROCK DYNAMIC HIGH INCOME MASTER CLASSE DE INVESTIMENTO MULTIMERCADO - RESP LIMITADA",
         "SP",
         "São Paulo"
        ],
        [
         "33361831000148",
         "EM FUNCIONAMENTO NORMAL",
         "2019-06-18",
         0.9,
         1.94939777E7,
         "33361831000148",
         "SP",
         "BLACKROCK DYNAMIC HIGH INCOME CLASSE DE INVESTIMENTO MULTIMERCADO RESPONSABILIDADE LIMITADA",
         "SP",
         "São Paulo"
        ],
        [
         "33361923000128",
         "EM FUNCIONAMENTO NORMAL",
         "2019-06-18",
         0.065,
         6.077961322E7,
         "33361923000128",
         "SP",
         "BLACKROCK GLOBAL BOND INCOME MASTER CLASSE DE INVESTIMENTO MULTIMERCADO - RESPONSABILIDADE LIMITADA",
         "SP",
         "São Paulo"
        ],
        [
         "33361798000156",
         "EM FUNCIONAMENTO NORMAL",
         "2019-06-18",
         0.8,
         7575485.02,
         "33361798000156",
         "SP",
         "BLACKROCK GLOBAL BOND INCOME CLASSE DE INVESTIMENTO EM CIC MULTIMERCADO - RESPONSABILIDADE LIMITADA",
         "SP",
         "São Paulo"
        ],
        [
         "33361873000189",
         "EM FUNCIONAMENTO NORMAL",
         "2019-06-18",
         0.07,
         6.562865568E7,
         "33361873000189",
         "SP",
         "BLACKROCK GLOBAL EVENT DRIVEN MASTER CLASSE DE INVESTIMENTO MULTIMERCADO RESPONSABILIDADE LIMITADA",
         "SP",
         "São Paulo"
        ],
        [
         "33361657000133",
         "EM FUNCIONAMENTO NORMAL",
         "2019-06-18",
         0.9,
         2.522218995E7,
         "33361657000133",
         "SP",
         "BLACKROCK GLOBAL EVENT DRIVEN CLASSE DE INVESTIMENTO MULTIMERCADO RESPONSABILIDADE LIMITADA",
         "SP",
         "São Paulo"
        ],
        [
         "28065477000174",
         "EM FUNCIONAMENTO NORMAL",
         "2019-08-02",
         null,
         3.6033615272E8,
         "28065477000174",
         "SP",
         "FUTURAMA FUNDO DE INVESTIMENTO MULTIMERCADO CREDITO PRIVADO INVESTIMENTO NO EXTERIOR",
         "SP",
         "São Paulo"
        ],
        [
         "34617291000183",
         "EM FUNCIONAMENTO NORMAL",
         "2019-09-11",
         855.0,
         5018082.48,
         "34617291000183",
         "MG",
         "INTER SELECTION MACRO FC DE FUNDO DE INVESTIMENTO FINANCEIRO MULTIMERCADO RESPONSABILIDADE LIMITADA",
         "MG",
         "Minas Gerais"
        ],
        [
         "33429343000125",
         "EM FUNCIONAMENTO NORMAL",
         "2019-09-18",
         0.03,
         3.6174697241E8,
         "33429343000125",
         "SP",
         "DB HOLDING CLASSE DE INVESTIMENTO MULTIMERCADO INVESTIMENTO NO EXTERIOR CREDITO PRIVADO",
         "SP",
         "São Paulo"
        ],
        [
         "35580324000120",
         "EM FUNCIONAMENTO NORMAL",
         "2019-11-27",
         1.85,
         9.136176875E7,
         "35580324000120",
         "RJ",
         "DAHLIA TOTAL RETURN CSHG II FI EM COTAS DE FI FINANCEIRO MULTIMERCADO RESPONSABILIDADE LIMITADA",
         "RJ",
         "Rio de Janeiro"
        ],
        [
         "33033191000147",
         "EM FUNCIONAMENTO NORMAL",
         "2019-12-17",
         0.8816,
         8.992570721E7,
         "33033191000147",
         "RJ",
         "KATCH FUNDO DE INVESTIMENTO MULTIMERCADO CREDITO PRIVADO",
         "RJ",
         "Rio de Janeiro"
        ],
        [
         "33913568000152",
         "EM FUNCIONAMENTO NORMAL",
         "2019-12-30",
         0.09,
         999393.63,
         "33913568000152",
         "SP",
         "DB I CLASSE DE INVESTIMENTO MULTIMERCADO INVESTIMENTO NO EXTERIOR CREDITO PRIVADO",
         "SP",
         "São Paulo"
        ],
        [
         "33913576000107",
         "EM FUNCIONAMENTO NORMAL",
         "2019-12-30",
         0.09,
         3.5382136994E8,
         "33913576000107",
         "SP",
         "DB II CLASSE DE INVESTIMENTO MULTIMERCADO INVESTIMENTO NO EXTERIOR CREDITO PRIVADO",
         "SP",
         "São Paulo"
        ],
        [
         "33913584000145",
         "EM FUNCIONAMENTO NORMAL",
         "2019-12-30",
         0.09,
         6876880.46,
         "33913584000145",
         "SP",
         "DB III CLASSE DE INVESTIMENTO MULTIMERCADO INVESTIMENTO NO EXTERIOR CREDITO PRIVADO",
         "SP",
         "São Paulo"
        ],
        [
         "29983516000185",
         "EM FUNCIONAMENTO NORMAL",
         "2020-01-08",
         1.2,
         7.078584772E7,
         "29983516000185",
         "SP",
         "CLASSE UNICA DO WESTERN ASSET FI FINANCEIRO INCENTIVADO EM DEBENTURES DE INFRA RF CP RESP LIMITADA",
         "SP",
         "São Paulo"
        ],
        [
         "35178253000134",
         "EM FUNCIONAMENTO NORMAL",
         "2020-01-10",
         0.66,
         3.5600970375E8,
         "35178253000134",
         "MG",
         "MARACA FUNDO DE INVESTIMENTO MULTIMERCADO INVESTIMENTO NO EXTERIOR E CREDITO PRIVADO",
         "MG",
         "Minas Gerais"
        ],
        [
         "36443522000105",
         "EM FUNCIONAMENTO NORMAL",
         "2020-02-21",
         25.0,
         1.81405177298E9,
         "36443522000105",
         "MG",
         "INTER CORPORATE FUNDO DE INVESTIMENTO FINANCEIRO RENDA FIXA CREDITO PRIVADO RESP LIMITADA",
         "MG",
         "Minas Gerais"
        ],
        [
         "36443587000150",
         "EM FUNCIONAMENTO NORMAL",
         "2020-03-09",
         3.0,
         2.128071543E7,
         "36443587000150",
         "MG",
         "INTER ACCESS LEGACY CAPITAL FUNDO DE INVESTIMENTO EM COTAS DE FUNDO DE INVESTIMENTO FINANCEIRO MULTI",
         "MG",
         "Minas Gerais"
        ],
        [
         "36764134000126",
         "EM FUNCIONAMENTO NORMAL",
         "2020-03-25",
         5.0,
         2.963157566E7,
         "36764134000126",
         "MG",
         "INTER ACCESS ATMOS FC DE FUNDOS DE INVESTIMENTO FINANCEIRO EM ACOES RESPONSABILIDADE LIMITADA",
         "MG",
         "Minas Gerais"
        ],
        [
         "35819666000150",
         "EM FUNCIONAMENTO NORMAL",
         "2020-06-19",
         2.0,
         1.6604255414E9,
         "35819666000150",
         "SP",
         "JIVE DISTRESSED III ONSHORE FIC DE FIF MULTIMERCADO - CREDITO PRIVADO RESPONSABILIDADE LIMITADA",
         "SP",
         "São Paulo"
        ],
        [
         "36729755000179",
         "EM FUNCIONAMENTO NORMAL",
         "2020-06-19",
         0.9,
         2.1997348455E8,
         "36729755000179",
         "RJ",
         "GALAPAGOS DRAGON FUNDO DE INVESTIMENTO EM COTAS DE FUNDOS DE INVESTIMENTO MULTIMERCADO CREDITO PRIVADO",
         "RJ",
         "Rio de Janeiro"
        ],
        [
         "35819219000100",
         "EM FUNCIONAMENTO NORMAL",
         "2020-07-24",
         0.4,
         1.0551798646E9,
         "35819219000100",
         "SP",
         "JIVE DISTRESSED III OFFSHORE FIC DE FIF MULTI CP RESPONSABILIDADE LIMITADA",
         "SP",
         "São Paulo"
        ],
        [
         "37806055000101",
         "EM FUNCIONAMENTO NORMAL",
         "2020-08-20",
         0.0,
         2.9483089257E8,
         "37806055000101",
         "RJ",
         "EVEREST HIGH YIELD FUNDO DE INVESTIMENTO EM COTAS DE FUNDOS DE INVESTIMENTO MULTIMERCADO CREDITO PRIVADO E1",
         "RJ",
         "Rio de Janeiro"
        ],
        [
         "36655944000144",
         "EM FUNCIONAMENTO NORMAL",
         "2020-09-10",
         null,
         5050323.26,
         "36655944000144",
         "SP",
         "VKR FUNDO DE INVESTIMENTO MULTIMERCADO - CREDITO PRIVADO LONGO PRAZO",
         "SP",
         "São Paulo"
        ],
        [
         "39281116000181",
         "EM FUNCIONAMENTO NORMAL",
         "2020-11-06",
         5.0,
         6293022.87,
         "39281116000181",
         "MG",
         "INTER ACCESS BOGARI VALUE FC DE FUNDOS DE INVESTIMENTO FINANCEIRO EM ACOES RESPONSABILIDADE LIMITADA",
         "MG",
         "Minas Gerais"
        ],
        [
         "39344840000107",
         "EM FUNCIONAMENTO NORMAL",
         "2020-11-17",
         2.0,
         8940141.89,
         "39344840000107",
         "MG",
         "INTER ACOES VALOR FUNDO DE INVESTIMENTO FINANCEIRO EM ACOES RESPONSABILIDADE LIMITADA",
         "MG",
         "Minas Gerais"
        ],
        [
         "39723229000190",
         "EM FUNCIONAMENTO NORMAL",
         "2021-01-27",
         0.07,
         6.948446891E7,
         "39723229000190",
         "SP",
         "BLACKROCK ACOES GLOBAIS ESG CLASSE DE INVESTIMENTO SUSTENTAVEL EM ACOES - RESPONSABILIDADE LIMITADA",
         "SP",
         "São Paulo"
        ],
        [
         "38443033000189",
         "EM FUNCIONAMENTO NORMAL",
         "2021-02-10",
         0.98,
         5.715885576E7,
         "38443033000189",
         "SP",
         "BNP PARIBAS INFRAESTRUTURA CIC RF SUSTENTAVEL IS - RESPONSABILIDADE LIMITADA",
         "SP",
         "São Paulo"
        ],
        [
         "39540780000106",
         "EM FUNCIONAMENTO NORMAL",
         "2021-02-17",
         7.0,
         3.980750295E7,
         "39540780000106",
         "MG",
         "INTER ACCESS VERDE FUNDO DE INVESTIMENTO EM COTAS DE FUNDO DE INVESTIMENTO FINANCEIRO MULTIMERCADO",
         "MG",
         "Minas Gerais"
        ],
        [
         "40905548000103",
         "EM FUNCIONAMENTO NORMAL",
         "2021-03-01",
         1.0,
         3.487545472E7,
         "40905548000103",
         "RJ",
         "FUNDO DE INVESTIMENTO EM COTAS DE FUNDOS DE INVESTIMENTO MULTIMERCADO EMPIRICA LOTUS HY CREDITO PRIVADO",
         "RJ",
         "Rio de Janeiro"
        ],
        [
         "40140470000175",
         "EM FUNCIONAMENTO NORMAL",
         "2021-03-15",
         0.5,
         4.732314828E7,
         "40140470000175",
         "SP",
         "BNP PARIBAS INFRA INSTITUCIONAL CI EM CLASSES DE INVESTIMENTO RF SUSTENTAVEL IS - RESP LIMITADA",
         "SP",
         "São Paulo"
        ],
        [
         "41036490000163",
         "EM FUNCIONAMENTO NORMAL",
         "2021-03-15",
         5.0,
         3.901224709E7,
         "41036490000163",
         "MG",
         "INTER ACCESS ARBOR FC DE FI FINANCEIRO EM ACOES BDR NIVEL I RESPONSABILIDADE LIMITADA",
         "MG",
         "Minas Gerais"
        ],
        [
         "35277363000153",
         "EM FUNCIONAMENTO NORMAL",
         "2021-03-17",
         null,
         2.7238955682E8,
         "35277363000153",
         "SP",
         "MGC GLOBAL FUNDO DE INVESTIMENTO EM COTAS DE FIDC RESPONSABILIDADE LIMITADA",
         "SP",
         "São Paulo"
        ],
        [
         "41833315000105",
         "EM FUNCIONAMENTO NORMAL",
         "2021-05-24",
         null,
         3.12109464E7,
         "41833315000105",
         "SP",
         "PRODUZ FUNDO DE INVESTIMENTO MULTIMERCADO - INVESTIMENTO NO EXTERIOR",
         "SP",
         "São Paulo"
        ],
        [
         "41953322000132",
         "EM FUNCIONAMENTO NORMAL",
         "2021-06-07",
         4.0,
         1.7319844967E8,
         "41953322000132",
         "MG",
         "INTER INFRA MASTER FIF INCENTIV DE INVESTIMENTO EM INFRA RENDA FIXA CRED PRIV RESP LIMITADA",
         "MG",
         "Minas Gerais"
        ],
        [
         "42081295000118",
         "EM FUNCIONAMENTO NORMAL",
         "2021-06-11",
         0.0,
         5.896034231E8,
         "42081295000118",
         "RJ",
         "RIZA STATHEROS MASTER FUNDO DE INVESTIMENTO EM COTAS DE FUNDOS DE INVESTIMENTO MULTIMERCADO CREDITO PRIVADO",
         "RJ",
         "Rio de Janeiro"
        ],
        [
         "42260903000151",
         "EM FUNCIONAMENTO NORMAL",
         "2021-07-08",
         null,
         5.8474970655E8,
         "42260903000151",
         "RJ",
         "RIZA STATHEROS FUNDO DE INVESTIMENTO EM COTAS DE FUNDOS DE INVESTIMENTO MULTIMERCADO CREDITO PRIVADO",
         "RJ",
         "Rio de Janeiro"
        ],
        [
         "42294971000131",
         "EM FUNCIONAMENTO NORMAL",
         "2021-07-02",
         8.0,
         2.0979385268E8,
         "42294971000131",
         "MG",
         "INTER INFRA FC DE FIF INCENTIV DE INVEST EM INFRA RENDA FIXA CRED PRIV RESP LIMITADA",
         "MG",
         "Minas Gerais"
        ],
        [
         "37828802000102",
         "EM FUNCIONAMENTO NORMAL",
         "2021-07-19",
         null,
         5956004.96,
         "37828802000102",
         "SP",
         "AZURE FI EM COTAS DE FUNDOS DE INVESTIMENTO EM DIREITOS CREDITORIOS - RESPONSABILIDADE LIMITADA",
         "SP",
         "São Paulo"
        ],
        [
         "42295379000154",
         "EM FUNCIONAMENTO NORMAL",
         "2021-08-16",
         null,
         1.5674803064E8,
         "42295379000154",
         "MG",
         "IG FUNDO DE INVESTIMENTO FINANCEIRO RENDA FIXA CREDITO PRIVADO RESPONSABILIDADE LIMITADA",
         "MG",
         "Minas Gerais"
        ],
        [
         "43105440000116",
         "EM FUNCIONAMENTO NORMAL",
         "2021-08-25",
         null,
         5886041.3,
         "43105440000116",
         "SP",
         "BNP PARIBAS SOBERANO II CIC DE CLASSE DE INVESTIMENTO RENDA FIXA SIMPLES - RESP LIMITADA",
         "SP",
         "São Paulo"
        ],
        [
         "42315695000140",
         "EM FUNCIONAMENTO NORMAL",
         "2021-08-26",
         null,
         3.211744968E7,
         "42315695000140",
         "MG",
         "INTER ACESS ABSOLUTE VERTEX FC DE FUNDO DE INVESTIMENTO FINANCEIRO MULTIMERCADO",
         "MG",
         "Minas Gerais"
        ],
        [
         "43508144000166",
         "EM FUNCIONAMENTO NORMAL",
         "2021-09-27",
         null,
         9.403083508E7,
         "43508144000166",
         "RJ",
         "UJAY FUNDO DE INVESTIMENTO EM COTAS DE FUNDOS DE INVESTIMENTO MULTIMERCADO CREDITO PRIVADO 60",
         "RJ",
         "Rio de Janeiro"
        ],
        [
         "43122453000101",
         "EM FUNCIONAMENTO NORMAL",
         "2021-10-01",
         null,
         1.3764790992E8,
         "43122453000101",
         "SP",
         "BLACKROCK BDR-EFT CLASSE DE INVESTIMENTO EM ACOES - RESPONSABILIDADE LIMITADA",
         "SP",
         "São Paulo"
        ],
        [
         "42754444000162",
         "EM FUNCIONAMENTO NORMAL",
         "2021-11-29",
         null,
         6.572671967E7,
         "42754444000162",
         "RJ",
         "ISTAMBUL FUNDO DE INVESTIMENTO MULTIMERCADO",
         "RJ",
         "Rio de Janeiro"
        ],
        [
         "42922066000189",
         "EM FUNCIONAMENTO NORMAL",
         "2021-12-17",
         null,
         3584748.74,
         "42922066000189",
         "SP",
         "HORIZONTE I FUNDO DE INVESTIMENTO FINANCEIRO MULTIMERCADO CREDITO PRIVADO DE RESP LIMITADA",
         "SP",
         "São Paulo"
        ],
        [
         "44680491000134",
         "EM FUNCIONAMENTO NORMAL",
         "2022-01-03",
         null,
         4.2076959083E8,
         "44680491000134",
         "SP",
         "GALAXY FUNDO DE INVESTIMENTO EM COTAS DE FUNDOS DE INVESTIMENTO MULTIMERCADO - CREDITO PRIVADO",
         "SP",
         "São Paulo"
        ],
        [
         "42562105000184",
         "EM FUNCIONAMENTO NORMAL",
         "2022-01-18",
         null,
         0.0,
         "42562105000184",
         "SP",
         "AGILE INVESTE FUNDO DE INVESTIMENTO MULTIMERCADO",
         "SP",
         "São Paulo"
        ],
        [
         "42691990000100",
         "EM FUNCIONAMENTO NORMAL",
         "2022-02-01",
         null,
         2.844502902E7,
         "42691990000100",
         "MG",
         "INTER DIVIDENDOS FUNDO DE INVESTIMENTO FINANCEIRO EM ACOES RESPONSABILIDADE LIMITADA",
         "MG",
         "Minas Gerais"
        ],
        [
         "44815107000163",
         "EM FUNCIONAMENTO NORMAL",
         "2022-02-15",
         null,
         2.208686899E7,
         "44815107000163",
         "RJ",
         "ARF SANTOS DUMONT PREV FIF MULTIMERCADO CREDITO PRIVADO - RESPONSABILIDADE LIMITADA",
         "RJ",
         "Rio de Janeiro"
        ],
        [
         "44680466000150",
         "EM FUNCIONAMENTO NORMAL",
         "2022-02-24",
         null,
         6.397035926E7,
         "44680466000150",
         "SP",
         "LGG INVEST FI EM COTAS DE FUNDO DE INVESTIMENTO MULTIMERCADO - CREDITO PRIVADO RESP LIMITADA",
         "SP",
         "São Paulo"
        ],
        [
         "43876172000136",
         "EM FUNCIONAMENTO NORMAL",
         "2022-03-08",
         null,
         4142252.66,
         "43876172000136",
         "MG",
         "IA CARTEIRA JUROS FC DE FUNDO DE INVESTIMENTO FINANCEIRO MULT CRED PRIV RESPONSABILIDADE LIMITADA",
         "MG",
         "Minas Gerais"
        ],
        [
         "43876638000101",
         "EM FUNCIONAMENTO NORMAL",
         "2022-03-08",
         null,
         4765027.17,
         "43876638000101",
         "MG",
         "IA CARTEIRA MULT FC DE FUNDO DE INVESTIMENTO FINANCEIRO MULT CRED PRIV RESPONSABILIDADE LIMITADA",
         "MG",
         "Minas Gerais"
        ],
        [
         "42656644000182",
         "EM FUNCIONAMENTO NORMAL",
         "2022-03-08",
         null,
         1.186271469E7,
         "42656644000182",
         "MG",
         "IA CARTEIRA CREDITO FC DE FUNDO DE INVESTIMENTO FINANCEIRO MULT CRED PRIV RESPONSABILIDADE LIMITADA",
         "MG",
         "Minas Gerais"
        ],
        [
         "02727085000130",
         "EM FUNCIONAMENTO NORMAL",
         "2022-04-09",
         null,
         1355673.91,
         "02727085000130",
         "RJ",
         "FUNDO MUTUO STOCK MAXIMA DE PRIVATIZACAO FGTS",
         "RJ",
         "Rio de Janeiro"
        ],
        [
         "45017499000188",
         "EM FUNCIONAMENTO NORMAL",
         "2022-04-19",
         0.1411,
         1.5016764159E8,
         "45017499000188",
         "SP",
         "BNP PARIBAS MAIS VIDA III CLASSE DE INVESTIMENTO EM CIC MULTIMERCADO CREDITO PRIVADO RESP LIMITADA",
         "SP",
         "São Paulo"
        ],
        [
         "45953169000102",
         "EM FUNCIONAMENTO NORMAL",
         "2022-05-02",
         0.0,
         4.505303154E7,
         "45953169000102",
         "RJ",
         "ORAMA TEN FUNDO DE INVESTIMENTO EM ACOES",
         "RJ",
         "Rio de Janeiro"
        ],
        [
         "44432479000100",
         "EM FUNCIONAMENTO NORMAL",
         "2022-05-06",
         0.2,
         2.6981060166E8,
         "44432479000100",
         "SP",
         "BNP PARIBAS PREVINORTE CLASSE DE INVESTIMENTO MULTIMERCADO - RESPONSABILIDADE LIMITADA",
         "SP",
         "São Paulo"
        ],
        [
         "45018608000181",
         "EM FUNCIONAMENTO NORMAL",
         "2022-05-06",
         0.5,
         5.629107289E7,
         "45018608000181",
         "SP",
         "BNP PARIBAS SIGMA INSTITUCIONAL CLASSE DE INVESTIMENTO DE RENDA FIXA LONGO PRAZO - RESP LIMITADA",
         "SP",
         "São Paulo"
        ],
        [
         "45018643000109",
         "EM FUNCIONAMENTO NORMAL",
         "2022-05-06",
         0.15,
         2.3769074663E8,
         "45018643000109",
         "SP",
         "BNP PARIBAS PREMIUM MASTER INSTITUCIONAL RF ATIVO CIC DE CLASSES DE INVESTIMENTO RESP LIMITADA",
         "SP",
         "São Paulo"
        ],
        [
         "44104852000102",
         "EM FUNCIONAMENTO NORMAL",
         "2022-06-21",
         5.0,
         8783097.76,
         "44104852000102",
         "MG",
         "INTER INFLACAO CURTA FUNDO DE INVESTIMENTO FINANCEIRO RENDA FIXA RESPONSABILIDADE LIMITADA",
         "MG",
         "Minas Gerais"
        ],
        [
         "46729394000114",
         "EM FUNCIONAMENTO NORMAL",
         "2022-07-04",
         5.0,
         3716137.24,
         "46729394000114",
         "MG",
         "INTER LOVER FUNDO DE INVESTIMENTO FINANCEIRO MULTIMERCADO RESPONSABILIDADE LIMITADA",
         "MG",
         "Minas Gerais"
        ],
        [
         "00817677000117",
         "EM FUNCIONAMENTO NORMAL",
         "2005-03-17",
         0.45,
         2.2248789993E8,
         "00817677000117",
         "SP",
         "CLASSE UNICA DO WESTERN ASSET ALPHA CREDIT RF FUNDO DE INVESTIMENTO FINANCEIRO CP RESP LIMITADA",
         "SP",
         "São Paulo"
        ],
        [
         "00819889000133",
         "EM FUNCIONAMENTO NORMAL",
         "2005-03-17",
         1.0,
         5.729872778E7,
         "00819889000133",
         "SP",
         "WESTERN ASSET HEDGE DOLAR FUNDO DE INVESTIMENTO FINANCEIRO CAMBIAL - RESPONSABILIDADE LIMITADA",
         "SP",
         "São Paulo"
        ],
        [
         "01147641000136",
         "EM FUNCIONAMENTO NORMAL",
         "2005-04-04",
         0.1775,
         5.4073140876E8,
         "01147641000136",
         "SP",
         "MAPFRE SOBERANO CLASSE DE INVESTIMENTO RENDA FIXA - RESPONSABILIDADE LIMITADA",
         "SP",
         "São Paulo"
        ],
        [
         "02539921000152",
         "EM FUNCIONAMENTO NORMAL",
         "2005-03-22",
         0.52,
         1.7849735231E8,
         "02539921000152",
         "SP",
         "BNP PARIBAS RF CLASSE DE INVESTIMENTO DE RENDA FIXA - RESPONSABILIDADE LIMITADA",
         "SP",
         "São Paulo"
        ],
        [
         "02668201000197",
         "EM FUNCIONAMENTO NORMAL",
         "2005-03-22",
         0.1,
         1.59627950729E9,
         "02668201000197",
         "SP",
         "BNP PARIBAS EQD BRAZIL FUND CLASSE DE INVESTIMENTO MULTIMERCADO CREDITO PRIVADO",
         "SP",
         "São Paulo"
        ],
        [
         "02918923000152",
         "EM FUNCIONAMENTO NORMAL",
         "2005-03-28",
         2.0,
         6269533.2,
         "02918923000152",
         "SP",
         "BNP PARIBAS MAPFRE MAXI 20 MULTIMERCADO CIC COTAS DE CI PREVIDENCIARIA - RESPONSABILIDADE LIMITADA",
         "SP",
         "São Paulo"
        ],
        [
         "02918923000152",
         "EM FUNCIONAMENTO NORMAL",
         "2005-03-28",
         2.0,
         6269533.2,
         "02918923000152",
         "SP",
         "BNP PARIBAS MAPFRE MAXI 20 MULTIMERCADO CIC COTAS DE CI PREVIDENCIARIA - RESPONSABILIDADE LIMITADA",
         "SP",
         "São Paulo"
        ],
        [
         "02918931000107",
         "EM FUNCIONAMENTO NORMAL",
         "2005-03-28",
         1.5,
         2.856408456E7,
         "02918931000107",
         "SP",
         "BNP PARIBAS MAPFRE MAXI RENDA FIXA CIC DE CLASSES DE INVESTIMENTO PREVIDENCIARIA - RESP LIMITADA",
         "SP",
         "São Paulo"
        ],
        [
         "02918931000107",
         "EM FUNCIONAMENTO NORMAL",
         "2005-03-28",
         1.5,
         2.856408456E7,
         "02918931000107",
         "SP",
         "BNP PARIBAS MAPFRE MAXI RENDA FIXA CIC DE CLASSES DE INVESTIMENTO PREVIDENCIARIA - RESP LIMITADA",
         "SP",
         "São Paulo"
        ],
        [
         "03499367000190",
         "EM FUNCIONAMENTO NORMAL",
         "2005-03-16",
         0.4,
         2.4029445984E8,
         "03499367000190",
         "SP",
         "CLASSE UNICA DO WESTERN ASSET RF ATIVO FUNDO DE INVESTIMENTO FINANCEIRO - RESP LIMITADA",
         "SP",
         "São Paulo"
        ],
        [
         "04192419000143",
         "EM FUNCIONAMENTO NORMAL",
         "2005-03-15",
         0.8,
         3.735282279E7,
         "04192419000143",
         "SP",
         "CLASSE UNICA DO WESTERN ASSET RF ATIVO MAX FIF - RESPONSABILIDAE LIMITADA",
         "SP",
         "São Paulo"
        ],
        [
         "05024659000100",
         "EM FUNCIONAMENTO NORMAL",
         "2005-03-16",
         1.1,
         1.445349547E7,
         "05024659000100",
         "SP",
         "CLASSE UNICA DO WESTERN ASSET MULTITRADING H FI FINANCEIRO MULTIMERCADO - RESP LIMITADA",
         "SP",
         "São Paulo"
        ],
        [
         "05090727000120",
         "EM FUNCIONAMENTO NORMAL",
         "2005-03-16",
         0.15,
         6.3507335068E8,
         "05090727000120",
         "SP",
         "CLASSE UNICA DO WESTERN ASSET DI MAX RF REFERENCIADO FUNDO DE INVESTIMENTO FINANCEIRO RESP. LIMITADA",
         "SP",
         "São Paulo"
        ],
        [
         "05104498000156",
         "EM FUNCIONAMENTO NORMAL",
         "2005-03-22",
         0.5,
         3.306740576E7,
         "05104498000156",
         "SP",
         "BNP PARIBAS INFLACAO CI EM CLASSES DE INVESTIMENTO RENDA FIXA - RESPONSABILIDADE LIMITADA",
         "SP",
         "São Paulo"
        ],
        [
         "14951577000193",
         "EM FUNCIONAMENTO NORMAL",
         "2012-05-10",
         1.0,
         9.110146163E7,
         "14951577000193",
         "SP",
         "BNP PARIBAS MAPFRE RENDA FIXA ATIVO CIC DE CLASSES DE INVESTIMENTO PREVIDENCIARIA - RESP LIMITADA",
         "SP",
         "São Paulo"
        ],
        [
         "14951577000193",
         "EM FUNCIONAMENTO NORMAL",
         "2012-05-10",
         1.0,
         9.110146163E7,
         "14951577000193",
         "SP",
         "BNP PARIBAS MAPFRE RENDA FIXA ATIVO CIC DE CLASSES DE INVESTIMENTO PREVIDENCIARIA - RESP LIMITADA",
         "SP",
         "São Paulo"
        ],
        [
         "14167491000174",
         "EM FUNCIONAMENTO NORMAL",
         "2012-05-11",
         0.02,
         1.40077189908E9,
         "14167491000174",
         "SP",
         "BNP PARIBAS MASTER CASH DI REFERENCIADO CLASSE DE INVESTIMENTO RENDA FIXA - RESP LIMITADA",
         "SP",
         "São Paulo"
        ],
        [
         "14167550000104",
         "EM FUNCIONAMENTO NORMAL",
         "2012-05-11",
         0.0,
         6.28676712E7,
         "14167550000104",
         "SP",
         "BNP PARIBAS MASTER IBRX CLASSE DE INVESTIMENTO EM ACOES RESPONSABILIDADE LIMITADA",
         "SP",
         "São Paulo"
        ],
        [
         "12107669000166",
         "EM FUNCIONAMENTO NORMAL",
         "2012-06-01",
         0.02,
         2.38947988072E9,
         "12107669000166",
         "SP",
         "BNP PARIBAS MASTER CREDITO SUSTENTAVEL IS CI RENDA FIXA CREDITO PRIVADO LONGO PRAZO - RESP LIMITADA",
         "SP",
         "São Paulo"
        ],
        [
         "14171578000115",
         "EM FUNCIONAMENTO NORMAL",
         "2012-06-27",
         0.0,
         4.8652616313E8,
         "14171578000115",
         "RJ",
         "OURO PRETO FUNDO DE INVESTIMENTO EM COTAS DE FUNDOS DE INVESTIMENTO MULTIMERCADO CREDITO PRIVADO",
         "RJ",
         "Rio de Janeiro"
        ],
        [
         "16570371000149",
         "EM FUNCIONAMENTO NORMAL",
         "2012-08-01",
         2.0,
         2771984.61,
         "16570371000149",
         "SP",
         "BBT MULTIMERCADO FUNDO DE INVESTIMENTO FINANCEIRO",
         "SP",
         "São Paulo"
        ],
        [
         "16617593000170",
         "EM FUNCIONAMENTO NORMAL",
         "2012-08-02",
         2.5,
         1033528.17,
         "16617593000170",
         "SP",
         "BBT ACOES FUNDO DE INVESTIMENTO FINANCEIRO",
         "SP",
         "São Paulo"
        ],
        [
         "16703203000184",
         "EM FUNCIONAMENTO NORMAL",
         "2013-01-16",
         0.75,
         2.673520825E7,
         "16703203000184",
         "SP",
         "WESTERN ASSET PREV IBRX ALPHA ACOES FIC DE FUNDOS DE INVESTIMENTO FINANCEIRO RESP LIMITADA",
         "SP",
         "São Paulo"
        ],
        [
         "17574820000190",
         "EM FUNCIONAMENTO NORMAL",
         "2013-02-28",
         0.3,
         1093018.92,
         "17574820000190",
         "SP",
         "COASTAL FUNDO DE INVESTIMENTO EM ACOES",
         "SP",
         "São Paulo"
        ],
        [
         "17453850000148",
         "EM FUNCIONAMENTO NORMAL",
         "2013-04-17",
         1.0,
         1.19317094599E9,
         "17453850000148",
         "SP",
         "WESTERN ASSET US INDEX 500 FUNDODE INVESTIMENTO FINANCEIRO MULTIMERCADO - RESPONSABILIDADE LIMITADA",
         "SP",
         "São Paulo"
        ],
        [
         "17517577000178",
         "EM FUNCIONAMENTO NORMAL",
         "2013-08-13",
         0.4,
         1.0133760388E8,
         "17517577000178",
         "SP",
         "CLASSE UNICA DO WESTERN ASSET IMA-B5 ATIVO FUNDO DE INVESTIMENTO FINANCEIRO RF - RESP LIMITADA",
         "SP",
         "São Paulo"
        ],
        [
         "18448137000179",
         "EM FUNCIONAMENTO NORMAL",
         "2013-09-16",
         2.5,
         4269177.58,
         "18448137000179",
         "RS",
         "GERAL DIVIDENDO FUNDO DE INVESTIMENTO EM ACOES - RESPONSABILIDADE LIMITADA",
         "RS",
         "Rio Grande do Sul"
        ],
        [
         "17340392000130",
         "EM FUNCIONAMENTO NORMAL",
         "2014-03-07",
         0.3,
         3.9777181563E8,
         "17340392000130",
         "SP",
         "JPMORGAN GLOBAL RESEARCH ENHANCED INDEX EQUITY CLASSE DE INVESTIMENTO ACOES IE RESP LIMITADA",
         "SP",
         "São Paulo"
        ],
        [
         "19831126000136",
         "EM FUNCIONAMENTO NORMAL",
         "2014-04-11",
         1.5,
         1.63386148491E9,
         "19831126000136",
         "SP",
         "WESTERN ASSET FUNDO DE INVESTIMENTO FINANCEIRO ACOES BDR NIVEL I - RESPONSABILIDADE LIMITADA",
         "SP",
         "São Paulo"
        ],
        [
         "20378135000100",
         "EM FUNCIONAMENTO NORMAL",
         "2014-08-06",
         0.17,
         1831833.56,
         "20378135000100",
         "SP",
         "AX EQUILIBRIUM FI EM COTAS DE FUNDOS DE INVESTIMENTO MULTIMERCADO CREDITO PRIVADO",
         "SP",
         "São Paulo"
        ],
        [
         "17137984000150",
         "EM FUNCIONAMENTO NORMAL",
         "2014-09-11",
         0.02,
         3.06168632958E9,
         "17137984000150",
         "SP",
         "BNP PARIBAS MASTER CREDITO PLUS CI RENDA FIXA CREDITO PRIVADO LONGO PRAZO RESPONSABILIDADE LIMITADA",
         "SP",
         "São Paulo"
        ],
        [
         "21185984000100",
         "EM FUNCIONAMENTO NORMAL",
         "2014-12-30",
         0.4,
         2.44843751283E9,
         "21185984000100",
         "SP",
         "BNP PARIBAS RUBI CIC DE CLASSE DE INVESTIMENTO RENDA FIXA CREDITO PRIVADO RESPONSABILIDADE LIMITADA",
         "SP",
         "São Paulo"
        ],
        [
         "20879578000177",
         "EM FUNCIONAMENTO NORMAL",
         "2015-01-07",
         0.5,
         1.36919468676E9,
         "20879578000177",
         "MG",
         "INTER CONSERVADOR FUNDO DE INVESTIMENTO FINANCEIRO RENDA FIXA CREDITO PRIVADO RESP LIMITADA",
         "MG",
         "Minas Gerais"
        ],
        [
         "21596006000143",
         "EM FUNCIONAMENTO NORMAL",
         "2015-01-19",
         0.12,
         2.4057585479E8,
         "21596006000143",
         "SP",
         "MAPFRE HEDGE IGPM PREV CLASSE DE INVESTIMENTO EM CLASSES DE INVESTIMENTO DE RF - RESP LIMITADA",
         "SP",
         "São Paulo"
        ],
        [
         "21596006000143",
         "EM FUNCIONAMENTO NORMAL",
         "2015-01-19",
         0.12,
         2.4057585479E8,
         "21596006000143",
         "SP",
         "MAPFRE HEDGE IGPM PREV CLASSE DE INVESTIMENTO EM CLASSES DE INVESTIMENTO DE RF - RESP LIMITADA",
         "SP",
         "São Paulo"
        ],
        [
         "22773421000198",
         "EM FUNCIONAMENTO NORMAL",
         "2016-03-31",
         0.15,
         6.5478605936E8,
         "22773421000198",
         "SP",
         "CLASSE UNICA DO WESTERN ASSET SOBERANO II RF REFERENCIADO SELIC FI FINANACEIRO - RESP LIMITADA",
         "SP",
         "São Paulo"
        ],
        [
         "24372158000150",
         "EM FUNCIONAMENTO NORMAL",
         "2016-04-15",
         0.08,
         2.362694434E7,
         "24372158000150",
         "RJ",
         "ARF SANTOS DUMONT FI EM COTAS DE FIF MULTIMERCADO CREDITO PRIVADO INVEST NO EXTERIOR - RESP LIMITADA",
         "RJ",
         "Rio de Janeiro"
        ],
        [
         "22809036000153",
         "EM FUNCIONAMENTO NORMAL",
         "2016-06-20",
         0.8,
         1.396207214E7,
         "22809036000153",
         "SP",
         "BNP PARIBAS ICATU SEG CLASSE DE INVESTIMENTO PREVIDENCIARIA RENDA FIXA CRED PRIVADO - RESP LIMITADA",
         "SP",
         "São Paulo"
        ],
        [
         "26089666000151",
         "EM FUNCIONAMENTO NORMAL",
         "2016-10-31",
         0.38,
         1.0975836454E8,
         "26089666000151",
         "MG",
         "INTER SELECTION DEBENT INCENT FC DE FIF INCENT DE INVEST EM INFRA RENDA FIXA CRED PRIV RESP LIMITADA",
         "MG",
         "Minas Gerais"
        ],
        [
         "25108905000100",
         "EM FUNCIONAMENTO NORMAL",
         "2016-12-09",
         0.2,
         1.0448693463E8,
         "25108905000100",
         "SP",
         "BNP PARIBAS MASTER INFRAESTRUTURA CLASSE DE INVESTIMENTO RENDA FIXA SUSTENTAVEL IS - RESP LIMITADA",
         "SP",
         "São Paulo"
        ],
        [
         "05627929000169",
         "EM FUNCIONAMENTO NORMAL",
         "2005-04-04",
         0.12,
         1.15696028435E9,
         "05627929000169",
         "SP",
         "MAPFRE EMPRESAS CLASSE DE INVESTIMENTO RENDA FIXA - RESPONSABILIDADE LIMITADA",
         "SP",
         "São Paulo"
        ],
        [
         "05754066000190",
         "EM FUNCIONAMENTO NORMAL",
         "2005-01-14",
         0.04,
         6.19662105094E9,
         "05754066000190",
         "SP",
         "CLASSE UNICA DO AGATA FUNDO DE INVESTIMENTO FINANCEIRO MULTIMERCADO CREDITO PRIVADO LONGO PRAZO",
         "SP",
         "São Paulo"
        ],
        [
         "05862906000139",
         "EM FUNCIONAMENTO NORMAL",
         "2005-05-30",
         0.34,
         5.0323263789E8,
         "05862906000139",
         "SP",
         "BNP PARIBAS TARGUS CLASSE DE INVESTIMENTO EM COTAS DE CLASSE DE INVESTIMENTO RF CP RESP LIMITADA",
         "SP",
         "São Paulo"
        ],
        [
         "07110963000197",
         "EM FUNCIONAMENTO NORMAL",
         "2005-02-11",
         0.15,
         4.37176736875E9,
         "07110963000197",
         "SP",
         "CLASSE UNICA DO MAPLE FUNDO DE INVESTIMENTO FINANCEIRO MULTIMERCADO CP INVESTIMENTO NO EXTERIOR",
         "SP",
         "São Paulo"
        ],
        [
         "07110975000111",
         "EM FUNCIONAMENTO NORMAL",
         "2005-02-11",
         0.0,
         4.37160324335E9,
         "07110975000111",
         "SP",
         "CLASSE UNICA DO OAK FUNDO DE INVESTIMENTO FINANCEIRO MULTIMERCADO CP INVESTIMENTO NO EXTERIOR",
         "SP",
         "São Paulo"
        ],
        [
         "07657641000162",
         "EM FUNCIONAMENTO NORMAL",
         "2008-06-10",
         0.7,
         4572264.72,
         "07657641000162",
         "SP",
         "BNP PARIBAS ACCESS DISRUPTIVE TECHNOLOGY CLASSE DE INVESTIMENTO EM ACOES - RESPONSABILIDADE LIMITADA",
         "SP",
         "São Paulo"
        ],
        [
         "07672392000184",
         "EM FUNCIONAMENTO NORMAL",
         "2006-02-01",
         2.0,
         1.02713548E7,
         "07672392000184",
         "SP",
         "WESTERN ASSET LONG & SHORT FUNDODE INVESTIMENTO FINANCEIRO MULTIMERCADO - RESPONSABILIDADE LIMITADA",
         "SP",
         "São Paulo"
        ],
        [
         "07939851000143",
         "EM FUNCIONAMENTO NORMAL",
         "2006-08-16",
         0.042,
         2.32051852498E9,
         "07939851000143",
         "SP",
         "CLASSE UNICA ICEBERG FUNDO DE INVESTIMENTO MULTIMERCADO CREDITO PRIVADO LONGO PRAZO",
         "SP",
         "São Paulo"
        ],
        [
         "07965741000156",
         "EM FUNCIONAMENTO NORMAL",
         "2006-06-27",
         0.7,
         7.937533818E7,
         "07965741000156",
         "SP",
         "BNP PARIBAS PREMIUM MULTIMERCADO CIC DE CLASSES DE INVESTIMENTO RESPONSABILIDADE LIMITADA",
         "SP",
         "São Paulo"
        ],
        [
         "08771975000125",
         "EM FUNCIONAMENTO NORMAL",
         "2007-10-25",
         0.11,
         6.38548976912E9,
         "08771975000125",
         "SP",
         "BNP PARIBAS PROPRIETARIO CLASSE DE INVESTIMENTO MULTIMERCADO CREDITO PRIVADO",
         "SP",
         "São Paulo"
        ],
        [
         "08815386000100",
         "EM FUNCIONAMENTO NORMAL",
         "2007-08-10",
         1.0,
         1.07168979E7,
         "08815386000100",
         "MG",
         "INTER SELECTION ACOES FC DE FUNDO DE INVESTIMENTO FINANCEIRO EM ACOES RESPONSABILIDADE LIMITADA",
         "MG",
         "Minas Gerais"
        ],
        [
         "09087301000179",
         "EM FUNCIONAMENTO NORMAL",
         "2010-05-25",
         0.5,
         1.0942306922E8,
         "09087301000179",
         "SP",
         "CLASSE UNICA DO WESTERN ASSET IMA-B ATIVO FI FINANCEIRO RF RESPONSABILIDADE LIMITADA",
         "SP",
         "São Paulo"
        ],
        [
         "09087483000188",
         "EM FUNCIONAMENTO NORMAL",
         "2010-01-11",
         2.0,
         1.720790888E7,
         "09087483000188",
         "SP",
         "WESTERN ASSET DIVIDEND YIELD FUNDO DE INVESTIMENTO FINANCEIRO EM ACOES - RESPONSABILIDADE LIMITADA",
         "SP",
         "São Paulo"
        ],
        [
         "09087523000191",
         "EM FUNCIONAMENTO NORMAL",
         "2010-01-11",
         2.5,
         4.066088248E7,
         "09087523000191",
         "SP",
         "CLASSE UNICA DO WESTERN ASSET VALUATION FUNDODE INVESTIMENTO FINANCEIRO EM ACOES - RESP LIMITADA",
         "SP",
         "São Paulo"
        ],
        [
         "09228836000112",
         "EM FUNCIONAMENTO NORMAL",
         "2008-01-07",
         0.0,
         6.4796950853E8,
         "09228836000112",
         "SP",
         "HORIZON CLASSE DE INVESTIMENTO MULTIMERCADO CREDITO PRIVADO INVESTIMENTO NO EXTERIOR",
         "SP",
         "São Paulo"
        ],
        [
         "09284554000132",
         "EM FUNCIONAMENTO NORMAL",
         "2008-05-29",
         0.12,
         1.9105776934E8,
         "09284554000132",
         "SP",
         "MAPFRE RESERVAS CLASSE DE INVESTIMENTO RENDA FIXA - RESPONSABILIDADE LIMITADA",
         "SP",
         "São Paulo"
        ],
        [
         "09315625000117",
         "EM FUNCIONAMENTO NORMAL",
         "2008-07-08",
         1.0,
         1.213258701E7,
         "09315625000117",
         "RJ",
         "SECURITY RENDA FIXA REFERENCIADO DI LONGO PRAZO CREDITO PRIVADO",
         "RJ",
         "Rio de Janeiro"
        ],
        [
         "07143386000130",
         "EM FUNCIONAMENTO NORMAL",
         "2004-11-16",
         null,
         614165.85,
         "07143386000130",
         "PA",
         "FUNDO BASA DE INVESTIMENTO FINANCEIRO CURTO PRAZO ''2''",
         "PA",
         "Pará"
        ],
        [
         "07144604000150",
         "EM FUNCIONAMENTO NORMAL",
         "2004-11-16",
         null,
         1479388.51,
         "07144604000150",
         "PA",
         "FUNDO BASA DE INVESTIMENTO FINANCEIRO SELETO ''2''",
         "PA",
         "Pará"
        ],
        [
         "01356517000180",
         "EM FUNCIONAMENTO NORMAL",
         "1996-07-24",
         null,
         1.6878108439E8,
         "01356517000180",
         "RJ",
         "LAGRA-FUNDO DE INVESTIMENTO IMOBILIARIO",
         "RJ",
         "Rio de Janeiro"
        ],
        [
         "01497954000114",
         "EM FUNCIONAMENTO NORMAL",
         "1996-10-02",
         null,
         1.5748424368E8,
         "01497954000114",
         "RS",
         "FUNDO DE INVESTIMENTO IMOBILIARIO MISTRAL",
         "RS",
         "Rio Grande do Sul"
        ],
        [
         "01964775000140",
         "EM FUNCIONAMENTO NORMAL",
         "1997-06-11",
         null,
         1484965.19,
         "01964775000140",
         "SP",
         "FUNDO DE INVESTIMENTO IMOBILIARIO GEO GUARARAPES",
         "SP",
         "São Paulo"
        ],
        [
         "05437916000127",
         "EM FUNCIONAMENTO NORMAL",
         "2002-12-10",
         null,
         1.2664304161E8,
         "05437916000127",
         "SP",
         "FUNDO DE INVESTIMENTO IMOBILIARIO EUROPAR",
         "SP",
         "São Paulo"
        ],
        [
         "11044355000107",
         "EM FUNCIONAMENTO NORMAL",
         "2010-08-09",
         null,
         2.2891833875E8,
         "11044355000107",
         "MG",
         "STARX FUNDO DE INVESTIMENTO IMOBILIARIO FII RESPONSABILIDADE LIMITADA",
         "MG",
         "Minas Gerais"
        ],
        [
         "11326746000106",
         "EM FUNCIONAMENTO NORMAL",
         "2010-05-28",
         null,
         4.0682077271E8,
         "11326746000106",
         "SP",
         "TAG GR IV - FUNDO DE INVESTIMENTO IMOBILIARIO DE RESPONSABILIDADE LIMITADA",
         "SP",
         "São Paulo"
        ],
        [
         "17198500000182",
         "EM FUNCIONAMENTO NORMAL",
         "2012-12-13",
         null,
         1.6201099272E8,
         "17198500000182",
         "SP",
         "SB FUNDO DE INVESTIMENTO NAS CADEIAS PRODUTIVAS AGROINDUSTRIAIS - FIAGRO - IMOBILIARIO",
         "SP",
         "São Paulo"
        ],
        [
         "36731458000168",
         "EM FUNCIONAMENTO NORMAL",
         "2020-04-23",
         null,
         7.285187875E7,
         "36731458000168",
         "SP",
         "KRONOS FUNDO DE INVESTIMENTO IMOBILIARIO",
         "SP",
         "São Paulo"
        ],
        [
         "39347413000182",
         "EM FUNCIONAMENTO NORMAL",
         "2020-10-09",
         null,
         1.1619008593E8,
         "39347413000182",
         "SP",
         "FUNDO DE INVESTIMENTO IMOBILIARIO HOSPITAL UNIMED CAMPINA GRANDE",
         "SP",
         "São Paulo"
        ],
        [
         "41114606000135",
         "EM FUNCIONAMENTO NORMAL",
         "2021-03-09",
         null,
         2.3775015558E8,
         "41114606000135",
         "SP",
         "FUNDO DE INVESTIMENTO IMOBILIARIO UNIMED INVESTCOOP NACIONAL",
         "SP",
         "São Paulo"
        ],
        [
         "41081374000166",
         "EM FUNCIONAMENTO NORMAL",
         "2021-03-23",
         null,
         1.9196809526E8,
         "41081374000166",
         "SP",
         "VINCI CREDIT SECURITIES FUNDO DE INVESTIMENTO IMOBILIARIO - RESPONSABILIDADE LIMITADA",
         "SP",
         "São Paulo"
        ],
        [
         "36930464000144",
         "EM FUNCIONAMENTO NORMAL",
         "2021-04-09",
         null,
         6.7558202267E8,
         "36930464000144",
         "MG",
         "BTSP II FUNDO DE INVESTIMENTO IMOBILIARIO FII RESPONSABILIDADE LIMITADA",
         "MG",
         "Minas Gerais"
        ],
        [
         "40054913000105",
         "EM FUNCIONAMENTO NORMAL",
         "2021-07-05",
         null,
         2.627733151E7,
         "40054913000105",
         "SP",
         "BLUECAP DESENVOLVIMENTO LOGISTICO I FUNDO DE INVESTIMENTOIMOBILIARIO - FII RESPONSABILIDADE LIMITADA",
         "SP",
         "São Paulo"
        ],
        [
         "45254732000146",
         "EM FUNCIONAMENTO NORMAL",
         "2022-03-10",
         null,
         4.021983357E7,
         "45254732000146",
         "RJ",
         "POXIM FUNDO DE INVESTIMENTO IMOBILIARIO RESPONSABILIDADE LIMITADA",
         "RJ",
         "Rio de Janeiro"
        ],
        [
         "42692399000169",
         "EM FUNCIONAMENTO NORMAL",
         "2022-05-24",
         null,
         1.0249049754E8,
         "42692399000169",
         "MG",
         "INTER AMERRA FIAGRO FUNDO DE INVESTIMENTO IMOBILIARIO RESPONSABILIDADE LIMITADA",
         "MG",
         "Minas Gerais"
        ],
        [
         "27882134000130",
         "EM FUNCIONAMENTO NORMAL",
         "2017-10-23",
         null,
         8893011.84,
         "27882134000130",
         "MG",
         "APOLO FUNDO DE INVESTIMENTO IMOBILIARIO",
         "MG",
         "Minas Gerais"
        ],
        [
         "30130708000128",
         "EM FUNCIONAMENTO NORMAL",
         "2018-04-13",
         null,
         2.76308112478E9,
         "30130708000128",
         "SP",
         "KINEA HIGH YIELD CRI FUNDO DE INVESTIMENTO IMOBILIARIO RESPONSABILIDADE LIMITADA",
         "SP",
         "São Paulo"
        ],
        [
         "34598181000111",
         "EM FUNCIONAMENTO NORMAL",
         "2019-09-05",
         null,
         4.5200100067E8,
         "34598181000111",
         "MG",
         "INTER LOGISTICO FUNDO DE INVESTIMENTO IMOBILIARIO FII RESPONSABILIDADE LIMITADA",
         "MG",
         "Minas Gerais"
        ],
        [
         "34835191000123",
         "EM FUNCIONAMENTO NORMAL",
         "2019-09-23",
         null,
         1.3414947441E8,
         "34835191000123",
         "MG",
         "INTER RESIDENCE FUNDO DE INVESTIMENTO IMOBILIARIO FII RESPONSABILIDADE LIMITADA",
         "MG",
         "Minas Gerais"
        ],
        [
         "34736474000118",
         "EM FUNCIONAMENTO NORMAL",
         "2019-09-24",
         null,
         2.3678026753E8,
         "34736474000118",
         "SP",
         "RBR DESENVOLVIMENTO COMERCIAL I - FUNDO DE INVESTIMENTO IMOBILIARIO RESPONSABILIDADE LIMITADA",
         "SP",
         "São Paulo"
        ],
        [
         "14217108000145",
         "EM FUNCIONAMENTO NORMAL",
         "2011-11-16",
         null,
         3.2571111973E8,
         "14217108000145",
         "SP",
         "FUNDO DE INVESTIMENTO IMOBILIARIO INDUSTRIAL DO BRASIL",
         "SP",
         "São Paulo"
        ],
        [
         "36098375000183",
         "EM FUNCIONAMENTO NORMAL",
         "2020-02-17",
         null,
         1.1786818176E8,
         "36098375000183",
         "MG",
         "BTSP I FUNDO DE INVESTIMENTO IMOBILIARIO FII RESPONSABILIDADE LIMITADA",
         "MG",
         "Minas Gerais"
        ],
        [
         "36293425000183",
         "EM FUNCIONAMENTO NORMAL",
         "2020-02-19",
         null,
         6.693652613E7,
         "36293425000183",
         "MG",
         "INTER TEVA INDICE DE TIJOLO FUNDO DE INVESTIMENTO IMOBILIARIO FII RESPONSABILIDADE LIMITADA",
         "MG",
         "Minas Gerais"
        ],
        [
         "36312772000106",
         "EM FUNCIONAMENTO NORMAL",
         "2020-02-18",
         null,
         5.120662227E7,
         "36312772000106",
         "MG",
         "INTER TEVA INDICE DE PAPEL FUNDO DE INVESTIMENTO IMOBILIARIO FII RESPONSABILIDADE LIMITADA",
         "MG",
         "Minas Gerais"
        ],
        [
         "32222912000102",
         "EM FUNCIONAMENTO NORMAL",
         "2018-12-21",
         null,
         2.950780867E7,
         "32222912000102",
         "SP",
         "PRIME REAL ESTATE FUNDO DE INVESTIMENTO IMOBILIARIO RESPONSABILIDADE LIMITADA",
         "SP",
         "São Paulo"
        ],
        [
         "33354650000194",
         "EM FUNCIONAMENTO NORMAL",
         "2019-07-15",
         null,
         2.328381297E8,
         "33354650000194",
         "MG",
         "FUNDO DE INVESTIMENTO IMOBILIARIO AVM FII RESPONSABILIDADE LIMITADA",
         "MG",
         "Minas Gerais"
        ],
        [
         "44680435000108",
         "EM FUNCIONAMENTO NORMAL",
         "2022-09-27",
         null,
         3.678052558E7,
         "44680435000108",
         "SP",
         "OCTO FUNDO DE INVESTIMENTO IMOBILIARIO RESPONSABILIDADE LIMITADA",
         "SP",
         "São Paulo"
        ],
        [
         "44680449000113",
         "EM FUNCIONAMENTO NORMAL",
         "2022-10-20",
         null,
         8440299.75,
         "44680449000113",
         "SP",
         "ID 203 FUNDO DE INVESTIMENTO IMOBILIARIO - FII",
         "SP",
         "São Paulo"
        ],
        [
         "48373428000106",
         "EM FUNCIONAMENTO NORMAL",
         "2022-12-09",
         null,
         5.447980275E7,
         "48373428000106",
         "SP",
         "CIX PONTA NEGRA FUNDO DE INVESTIMENTO IMOBILIARIO RESPONSABILIDADE LIMITADA",
         "SP",
         "São Paulo"
        ],
        [
         "48373413000148",
         "EM FUNCIONAMENTO NORMAL",
         "2022-12-09",
         null,
         2.7760247853E8,
         "48373413000148",
         "SP",
         "CIX ITAPURANGA FUNDO DE INVESTIMENTO IMOBILIARIO RESPONSABILIDADE LIMITADA",
         "SP",
         "São Paulo"
        ],
        [
         "48389780000130",
         "EM FUNCIONAMENTO NORMAL",
         "2022-12-11",
         null,
         2.3977683304E8,
         "48389780000130",
         "SP",
         "CIX MUIRAQUITAN FUNDO DE INVESTIMENTO IMOBILIARIO RESPONSABILIDADE LIMITADA",
         "SP",
         "São Paulo"
        ],
        [
         "48964604000184",
         "EM FUNCIONAMENTO NORMAL",
         "2022-12-22",
         null,
         1293504.85,
         "48964604000184",
         "SP",
         "GRIFFIN FUNDO DE INVESTIMENTO IMOBILIARIO",
         "SP",
         "São Paulo"
        ],
        [
         "49112611000110",
         "EM FUNCIONAMENTO NORMAL",
         "2023-01-09",
         null,
         9.927325637E7,
         "49112611000110",
         "SP",
         "ID GOIANA FUNDO DE INVESTIMENTO FIAGRO IMOBILIARIO",
         "SP",
         "São Paulo"
        ],
        [
         "49592781000140",
         "EM FUNCIONAMENTO NORMAL",
         "2023-02-14",
         null,
         3.469227758E8,
         "49592781000140",
         "RJ",
         "BLUECAP LOG FUNDO DE INVESTIMENTO IMOBILIARIO",
         "RJ",
         "Rio de Janeiro"
        ],
        [
         "16685929000131",
         "EM FUNCIONAMENTO NORMAL",
         "2023-02-13",
         null,
         6.2138924697E8,
         "16685929000131",
         "RJ",
         "FUNDO DE INVESTIMENTO IMOBILIARIO MACAM SHOPPING RESPONSABILIDADE LIMITADA",
         "RJ",
         "Rio de Janeiro"
        ],
        [
         "50275622000109",
         "EM FUNCIONAMENTO NORMAL",
         "2023-04-11",
         null,
         1.321802143E7,
         "50275622000109",
         "SP",
         "ROHT FUNDO DE INVESTIMENTO IMOBILIARIO RESPONSABILIDADE LIMITADA",
         "SP",
         "São Paulo"
        ],
        [
         "50399189000105",
         "EM FUNCIONAMENTO NORMAL",
         "2023-04-20",
         null,
         9.422244381E7,
         "50399189000105",
         "SP",
         "FUNDO DE INVESTIMENTO IMOBILIARIO DE UNIDADES AUTONOMAS III RESPONSABILIDADE LIMITADA",
         "SP",
         "São Paulo"
        ],
        [
         "50750438000165",
         "EM FUNCIONAMENTO NORMAL",
         "2023-05-19",
         null,
         3.2397564865E8,
         "50750438000165",
         "RJ",
         "RIZA DOMUS FUNDO DE INVESTIMENTO IMOBILIARIO",
         "RJ",
         "Rio de Janeiro"
        ],
        [
         "50750438000165",
         "EM FUNCIONAMENTO NORMAL",
         "2023-05-19",
         null,
         3.2397564865E8,
         "50750438000165",
         "RJ",
         "RIZA DOMUS FUNDO DE INVESTIMENTO IMOBILIARIO",
         "RJ",
         "Rio de Janeiro"
        ],
        [
         "50808042000121",
         "EM FUNCIONAMENTO NORMAL",
         "2023-05-24",
         null,
         4.7699495571E8,
         "50808042000121",
         "SP",
         "VBI TR FARIA LIMA 4440 FUNDO DE INVESTIMENTO IMOBILIARIO",
         "SP",
         "São Paulo"
        ],
        [
         "51295092000115",
         "EM FUNCIONAMENTO NORMAL",
         "2023-07-04",
         null,
         2367149.05,
         "51295092000115",
         "SP",
         "LEGATUM FUNDO DE INVESTIMENTO IMOBILIARIO RESPONSABILIDADE LIMITADA",
         "SP",
         "São Paulo"
        ],
        [
         "51476870000172",
         "EM FUNCIONAMENTO NORMAL",
         "2023-07-19",
         null,
         1.0417893333E8,
         "51476870000172",
         "SP",
         "DELTA FUNDO DE INVESTIMENTO IMOBILIARIO",
         "SP",
         "São Paulo"
        ],
        [
         "52324762000147",
         "EM FUNCIONAMENTO NORMAL",
         "2023-09-26",
         null,
         2.696179548E7,
         "52324762000147",
         "SP",
         "FUNDO DE INVESTIMENTO IMOBILIARIO DE UNIDADES AUTONOMAS IV",
         "SP",
         "São Paulo"
        ],
        [
         "52356865000199",
         "EM FUNCIONAMENTO NORMAL",
         "2023-09-28",
         null,
         1.23030823E7,
         "52356865000199",
         "SP",
         "ATLAS FUNDO DE INVESTIMENTO IMOBILIARIO RESPONSABILIDADE LIMITADA",
         "SP",
         "São Paulo"
        ],
        [
         "52116337000162",
         "EM FUNCIONAMENTO NORMAL",
         "2023-09-08",
         null,
         8.472435318E7,
         "52116337000162",
         "SP",
         "NU RENDA IBOV SMART DIVIDENDOS CLASSE DE INDICE - RESPONSABILIDADE LIMITADA",
         "SP",
         "São Paulo"
        ],
        [
         "52116361000100",
         "EM FUNCIONAMENTO NORMAL",
         "2023-09-08",
         null,
         4.898758673E7,
         "52116361000100",
         "SP",
         "NU IBOV SMART DIVIDENDOS CLASSE DE INDICE - RESPONSABILIDADE LIMITADA",
         "SP",
         "São Paulo"
        ],
        [
         "15296704000120",
         "EM FUNCIONAMENTO NORMAL",
         "2012-04-02",
         null,
         1.01364791999E9,
         "15296704000120",
         "SP",
         "GLP INVESTIMENTOS III FUNDO DE INVESTIMENTO EM PARTICIPACOES MULTIESTRATEGIA",
         "SP",
         "São Paulo"
        ],
        [
         "15049586000156",
         "EM FUNCIONAMENTO NORMAL",
         "2012-03-23",
         null,
         2.11082293021E9,
         "15049586000156",
         "SP",
         "GLP INVESTIMENTOS II FUNDO DE INVESTIMENTO EM PARTICIPACOES MULTIESTRATEGIA",
         "SP",
         "São Paulo"
        ],
        [
         "15437768000102",
         "EM FUNCIONAMENTO NORMAL",
         "2012-04-20",
         null,
         7.9155812445E8,
         "15437768000102",
         "SP",
         "FUNDO DE INVESTIMENTO EM PARTICIPACOES RPEV1 BRAZIL MULTI IE RESPONSABILIDADE LIMITADA",
         "SP",
         "São Paulo"
        ],
        [
         "16734970000150",
         "EM FUNCIONAMENTO NORMAL",
         "2012-08-23",
         null,
         1.1052978777E8,
         "16734970000150",
         "SP",
         "ICP - FUNDO DE INVESTIMENTO EM PARTICIPACOES MULTIESTRATEGIA INVESTIMENTO NO EXTERIOR",
         "SP",
         "São Paulo"
        ],
        [
         "15018580000111",
         "EM FUNCIONAMENTO NORMAL",
         "2012-03-23",
         null,
         1.66052551369E9,
         "15018580000111",
         "SP",
         "GLP INVESTIMENTOS FUNDO DE INVESTIMENTO EM PARTICIPACOES MULTIESTRATEGIA",
         "SP",
         "São Paulo"
        ],
        [
         "14769978000127",
         "EM FUNCIONAMENTO NORMAL",
         "2011-12-30",
         null,
         7.1379670563E8,
         "14769978000127",
         "SP",
         "TELLES FUNDO DE INVESTIMENTO EM PARTICIPACOES - MULTIESTRATEGIA",
         "SP",
         "São Paulo"
        ],
        [
         "14067624000130",
         "EM FUNCIONAMENTO NORMAL",
         "2011-10-28",
         null,
         151818.15,
         "14067624000130",
         "SP",
         "FUNDO DE INVESTIMENTO EM PARTICIPACOES EM HOTELARIA MULTIESTRATEGIA",
         "SP",
         "São Paulo"
        ],
        [
         "14311936000148",
         "EM FUNCIONAMENTO NORMAL",
         "2011-09-23",
         null,
         5219076.0,
         "14311936000148",
         "SP",
         "PATRIMONIAL BLUE - FUNDO DE INVESTIMENTO EM PARTICIPACOES MULTIESTRATEGIA",
         "SP",
         "São Paulo"
        ],
        [
         "09110175000126",
         "EM FUNCIONAMENTO NORMAL",
         "2007-12-28",
         null,
         1186684.99,
         "09110175000126",
         "SP",
         "BROOKFIELD BRAZIL TIMBER FUNDO DE INVESTIMENTO EM PARTICIPACOES",
         "SP",
         "São Paulo"
        ],
        [
         "11249598000173",
         "EM FUNCIONAMENTO NORMAL",
         "2009-11-11",
         null,
         3.8722679502E8,
         "11249598000173",
         "SP",
         "AGRIFARM FUNDO DE INVESTIMENTO EM PARTICIPACOES MULTIESTRATEGIA",
         "SP",
         "São Paulo"
        ],
        [
         "11283444000106",
         "EM FUNCIONAMENTO NORMAL",
         "2009-11-27",
         null,
         3.6677454088E8,
         "11283444000106",
         "SP",
         "NOVA PARTICIPACOES - FUNDO DE INVESTIMENTO EM PARTICIPACOES MULTIESTRATEGIA",
         "SP",
         "São Paulo"
        ],
        [
         "12834634000129",
         "EM FUNCIONAMENTO NORMAL",
         "2010-10-18",
         null,
         372240.51,
         "12834634000129",
         "SP",
         "FUNDO DE INVESTIMENTO EM PARTICIPACOES BRASIL DE PRIVATE EQUITY III MULTIESTRATEGIA - EM LIQUIDACAO",
         "SP",
         "São Paulo"
        ],
        [
         "26545537000120",
         "EM FUNCIONAMENTO NORMAL",
         "2016-11-28",
         null,
         606645.44,
         "26545537000120",
         "SP",
         "AGUNG BRASIL PARTNERS I D - FUNDO DE INVESTIMENTO EM PARTICIPACOES MULTIESTRATEGIA IE RESP LIMITADA",
         "SP",
         "São Paulo"
        ],
        [
         "24764405000164",
         "EM FUNCIONAMENTO NORMAL",
         "2016-04-18",
         null,
         1.0174597496E8,
         "24764405000164",
         "SP",
         "AEROTEC - FUNDO DE INVESTIMENTO EM PARTICIPACOES MULTIESTRATEGIA",
         "SP",
         "São Paulo"
        ],
        [
         "24874305000190",
         "EM FUNCIONAMENTO NORMAL",
         "2016-05-27",
         null,
         1.36746797716E9,
         "24874305000190",
         "SP",
         "BREF III FUNDO DE INVESTIMENTO EM PARTICIPACOES MULTIESTRATEGIA RESPONSABILIDADE LIMITADA",
         "SP",
         "São Paulo"
        ],
        [
         "24768711000179",
         "EM FUNCIONAMENTO NORMAL",
         "2016-05-18",
         null,
         8.304273561E7,
         "24768711000179",
         "RJ",
         "OPUS MEDICAL - FUNDO DE INVESTIMENTO EM PARTICIPACOES MULTIESTRATEGIA INVESTIMENTO NO EXTERIOR",
         "RJ",
         "Rio de Janeiro"
        ],
        [
         "24701488000142",
         "EM FUNCIONAMENTO NORMAL",
         "2016-05-11",
         null,
         1.9659790255E8,
         "24701488000142",
         "SP",
         "BREOF III - FUNDO DE INVESTIMENTO EM PARTICIPACOES MULTIESTRATEGIA - RESPONSABILIDADE LIMITADA",
         "SP",
         "São Paulo"
        ],
        [
         "22802858000102",
         "EM FUNCIONAMENTO NORMAL",
         "2015-07-08",
         null,
         8.3315787709E8,
         "22802858000102",
         "SP",
         "EVEREST BRASIL PARTNERS I - FUNDO DE INVESTIMENTO EM PARTICIPACOES MULTIESTRATEGIA IE RESP LIMITADA",
         "SP",
         "São Paulo"
        ],
        [
         "22601577000191",
         "EM FUNCIONAMENTO NORMAL",
         "2015-07-02",
         null,
         1.17893921507E9,
         "22601577000191",
         "SP",
         "FUNDO DE INVESTIMENTO EM PARTICIPACOES VOCATUS MULTIESTRATEGIA RESP LIMITADA",
         "SP",
         "São Paulo"
        ],
        [
         "21917293000146",
         "EM FUNCIONAMENTO NORMAL",
         "2015-03-10",
         null,
         1002975.4,
         "21917293000146",
         "SP",
         "GAUDI FUNDO DE INVESTIMENTO EM PARTICIPACOES MULTIESTRATEGIA",
         "SP",
         "São Paulo"
        ],
        [
         "22219279000131",
         "EM FUNCIONAMENTO NORMAL",
         "2015-04-13",
         null,
         2.642569966E7,
         "22219279000131",
         "SP",
         "QUARTZO RUTILO FUNDO DE INVESTIMENTO EM PARTICIPACOES MULTIESTRATEGIA",
         "SP",
         "São Paulo"
        ],
        [
         "21613190000192",
         "EM FUNCIONAMENTO NORMAL",
         "2015-01-07",
         null,
         6.0198639572E8,
         "21613190000192",
         "SP",
         "FUNDO DE INVESTIMENTO EM PARTICIPACOES PANAMBY HOTEIS - MULTIESTRATEGIA RESPONSABILIDADE LIMITADA",
         "SP",
         "São Paulo"
        ],
        [
         "21331225000109",
         "EM FUNCIONAMENTO NORMAL",
         "2015-02-10",
         null,
         -1519081.16,
         "21331225000109",
         "RJ",
         "EDUCACAO BR FUNDO DE INVESTIMENTO EM PARTICIPACOES",
         "RJ",
         "Rio de Janeiro"
        ],
        [
         "21254224000108",
         "EM FUNCIONAMENTO NORMAL",
         "2014-10-27",
         null,
         1.888978618E7,
         "21254224000108",
         "SP",
         "GREEN FUNDO DE INVESTIMENTO EM PARTICIPACOES MULTIESTRATEGIA - RESPONSABILIDADE LIMITADA",
         "SP",
         "São Paulo"
        ],
        [
         "18356327000166",
         "EM FUNCIONAMENTO NORMAL",
         "2013-11-18",
         null,
         234978.48,
         "18356327000166",
         "SP",
         "INVESTIMENTOS FLORESTAIS FUNDO DE INVESTIMENTO EM PARTICIPACOES",
         "SP",
         "São Paulo"
        ],
        [
         "18929680000198",
         "EM FUNCIONAMENTO NORMAL",
         "2013-09-25",
         null,
         4.144935435E7,
         "18929680000198",
         "SP",
         "BRIO REAL ESTATE FUNDO DE INVESTIMENTO EM PARTICIPACOES MULTIESTRATEGIA - RESPONSABILIDADE LIMITADA",
         "SP",
         "São Paulo"
        ],
        [
         "18402048000191",
         "EM FUNCIONAMENTO NORMAL",
         "2013-07-02",
         null,
         571931.15,
         "18402048000191",
         "SP",
         "SANTA MARINA CLASSE DE INVESTIMENTO EM PARTICIPACOES MULTIESTRATEGIA - RESPONSABILIDADE LIMITADA",
         "SP",
         "São Paulo"
        ],
        [
         "18579353000153",
         "EM FUNCIONAMENTO NORMAL",
         "2013-07-31",
         null,
         903374.56,
         "18579353000153",
         "SP",
         "VESUVIUS LBO - FUNDO DE INVESTIMENTO EM PARTICIPACOES MULTIESTRATEGIA IE RESP LIMITADA",
         "SP",
         "São Paulo"
        ],
        [
         "18653128000110",
         "EM FUNCIONAMENTO NORMAL",
         "2013-08-13",
         null,
         1.0195178623E8,
         "18653128000110",
         "SP",
         "ETNA LBO V FUNDO DE INVESTIMENTO EM PARTICIPACOES MULTIESTRATEGIA IE RESPONSABILIDADE LIMITADA",
         "SP",
         "São Paulo"
        ],
        [
         "17213759000155",
         "EM FUNCIONAMENTO NORMAL",
         "2013-05-20",
         null,
         3.3243681215E8,
         "17213759000155",
         "SP",
         "FUNDO DE INVESTIMENTO EM PARTICIPACOES FONTAINE VILLE URBANISMO",
         "SP",
         "São Paulo"
        ],
        [
         "36115022000144",
         "EM FUNCIONAMENTO NORMAL",
         "2020-08-05",
         null,
         1.5365185995E8,
         "36115022000144",
         "SP",
         "SAVANA FUNDO DE INVESTIMENTO EM PARTICIPACOES MULTIESTRATEGIA",
         "SP",
         "São Paulo"
        ],
        [
         "37087982000100",
         "EM FUNCIONAMENTO NORMAL",
         "2020-05-11",
         null,
         848377.45,
         "37087982000100",
         "SP",
         "LHOTSE BRASIL PARTNERS I N - FUNDO DE INVESTIMENTO EM PARTICIPACOES MULTIESTRATEGIA IE RESP LIMITADA",
         "SP",
         "São Paulo"
        ],
        [
         "37088071000106",
         "EM FUNCIONAMENTO NORMAL",
         "2020-05-11",
         null,
         2536455.66,
         "37088071000106",
         "SP",
         "MERU REAL ESTATE III FUNDO DE INVESTIMENTO EM PARTICIPACOES MULTIESTRATEGIA IE RESP LIMITADA",
         "SP",
         "São Paulo"
        ],
        [
         "41922654000150",
         "EM FUNCIONAMENTO NORMAL",
         "2021-05-18",
         null,
         6379347.37,
         "41922654000150",
         "SP",
         "VC NETWORK FUNDO DE INVESTIMENTO EM PARTICIPACOES MULTIESTRATEGIA - INVESTIMENTO NO EXTERIOR",
         "SP",
         "São Paulo"
        ],
        [
         "40670750000195",
         "EM FUNCIONAMENTO NORMAL",
         "2021-04-07",
         null,
         6.35688417573E9,
         "40670750000195",
         "SP",
         "B10 FUNDO DE INVESTIMENTOS EM PARTICIPACOES MULTIESTRATEGIA",
         "SP",
         "São Paulo"
        ],
        [
         "39976918000106",
         "EM FUNCIONAMENTO NORMAL",
         "2021-01-07",
         null,
         4.456082369E7,
         "39976918000106",
         "SP",
         "OCA FUNDO DE INVESTIMENTO EM PARTICIPACOES EM EMPRESAS EMERGENTES",
         "SP",
         "São Paulo"
        ],
        [
         "39784273000100",
         "EM FUNCIONAMENTO NORMAL",
         "2020-12-29",
         null,
         5.731666892E7,
         "39784273000100",
         "SP",
         "GO PRO ENERGIA FUNDO DE INVESTIMENTO EM PARTICIPACOES MULTIESTRATEGIA",
         "SP",
         "São Paulo"
        ],
        [
         "39581746000171",
         "EM FUNCIONAMENTO NORMAL",
         "2020-11-30",
         null,
         5.0317439628E8,
         "39581746000171",
         "SP",
         "EIGER BRASIL PARTNERS I O FUNDO DE INVESTIMENTO EM PARTICIPACOES MULTIESTRATEGIA IE RESP LIMITADA",
         "SP",
         "São Paulo"
        ],
        [
         "40311750000107",
         "EM FUNCIONAMENTO NORMAL",
         "2021-06-24",
         null,
         3.132980961E7,
         "40311750000107",
         "SP",
         "FEEAGRO FUNDO DE INVESTIMENTO EM PARTICIPACOES - CAPITAL SEMENTE RESPONSABILIDADE LIMITADA",
         "SP",
         "São Paulo"
        ],
        [
         "35654738000157",
         "EM FUNCIONAMENTO NORMAL",
         "2021-08-02",
         null,
         2.0009135903E8,
         "35654738000157",
         "SP",
         "RODOVIAS DO TIETE FUNDO DE INVESTIMENTO EM PARTICIPACOES EM INFRAESTRUTURA RESPONSABILIDADE LIMITADA",
         "SP",
         "São Paulo"
        ],
        [
         "43236479000172",
         "EM FUNCIONAMENTO NORMAL",
         "2021-08-26",
         null,
         6553378.16,
         "43236479000172",
         "SP",
         "ARIEN ENERGY VENTURES I FUNDO DE INVESTIMENTO EM PARTICIPACOES EM INFRAESTRUTURA RESP LIMITADA",
         "SP",
         "São Paulo"
        ],
        [
         "43236423000118",
         "EM FUNCIONAMENTO NORMAL",
         "2021-08-24",
         null,
         3.5631362132E8,
         "43236423000118",
         "SP",
         "CLOUD9 CAPITAL FUNDO DE INVESTIMENTO EM PARTICIPACOES MULTIESTRATEGIA",
         "SP",
         "São Paulo"
        ],
        [
         "42627796000157",
         "EM FUNCIONAMENTO NORMAL",
         "2021-09-17",
         null,
         3.3835810627E8,
         "42627796000157",
         "SP",
         "EUV SP 2 FUNDO DE INVESTIMENTO EM PARTICIPACOES MULTIESTRATEGIA",
         "SP",
         "São Paulo"
        ],
        [
         "43619349000119",
         "EM FUNCIONAMENTO NORMAL",
         "2021-10-25",
         null,
         1.2222365812E8,
         "43619349000119",
         "SP",
         "BR PARTNERS PET FUNDO DE INVESTIMENTO EM PARTICIPACOES MULTIESTRATEGIA",
         "SP",
         "São Paulo"
        ],
        [
         "42923073000103",
         "EM FUNCIONAMENTO NORMAL",
         "2021-10-15",
         null,
         2.001371535E7,
         "42923073000103",
         "MG",
         "EXITUM FUNDO DE INVESTIMENTO EM PARTICIPACOES MULTIESTRATEGIA",
         "MG",
         "Minas Gerais"
        ],
        [
         "38249518000136",
         "EM FUNCIONAMENTO NORMAL",
         "2021-12-15",
         null,
         3.238012743E7,
         "38249518000136",
         "SP",
         "MOGIANA FUNDO DE INVESTIMENTO EM PARTICIPACOES MULTIESTRATEGIA",
         "SP",
         "São Paulo"
        ],
        [
         "39447231000183",
         "EM FUNCIONAMENTO NORMAL",
         "2021-11-26",
         null,
         5200416.53,
         "39447231000183",
         "SP",
         "MONTE CARLO FUNDO DE INVESTIMENTO EM PARTICIPACOES CAPITAL-SEMENTE RESPONSABILIDADE LIMITADA",
         "SP",
         "São Paulo"
        ],
        [
         "44603407000189",
         "EM FUNCIONAMENTO NORMAL",
         "2021-12-22",
         null,
         3.501937318E7,
         "44603407000189",
         "SP",
         "PETRONIA ENERGIA DESENVOLVIMENTO I FIP MULTIESTRATEGIA - RESPONSABILIDADE LIMITADA",
         "SP",
         "São Paulo"
        ],
        [
         "42736004000182",
         "EM FUNCIONAMENTO NORMAL",
         "2021-12-29",
         null,
         1.114230683E7,
         "42736004000182",
         "SP",
         "PCS II COSTA ESMERALDA FUNDO DE INVESTIMENTO EM PARTICIPACOES INFRAESTRUTURA",
         "SP",
         "São Paulo"
        ],
        [
         "44570797000138",
         "EM FUNCIONAMENTO NORMAL",
         "2021-12-30",
         null,
         2.158356741E7,
         "44570797000138",
         "SP",
         "VSG I FUNDO DE INVESTIMENTO EM PARTICIPACOES MULTIESTRATEGIA",
         "SP",
         "São Paulo"
        ],
        [
         "43106870000152",
         "EM FUNCIONAMENTO NORMAL",
         "2022-04-19",
         null,
         6.917985972E7,
         "43106870000152",
         "SP",
         "SALTO BOTELHO AGROENERGIA FUNDO DE INVESTIMENTO EM PARTICIPACOES MULTI -RESPONSABILIDADE LIMITADA",
         "SP",
         "São Paulo"
        ],
        [
         "44870636000160",
         "EM FUNCIONAMENTO NORMAL",
         "2022-04-22",
         null,
         1.5165212125E8,
         "44870636000160",
         "SP",
         "CAATINGA CAPITAL FUNDO DE INVESTIMENTO EM PARTICIPACOES EM EMPRESAS EMERGENTES",
         "SP",
         "São Paulo"
        ],
        [
         "46268214000144",
         "EM FUNCIONAMENTO NORMAL",
         "2022-06-01",
         null,
         2.219077747E8,
         "46268214000144",
         "SP",
         "ORE FOSFATO MORRO VERDE FUNDO DE INVESTIMENTO EM PARTICIPACOES - MULTIESTRATEGIA RESPONSABILIDADE LI",
         "SP",
         "São Paulo"
        ],
        [
         "30687646000150",
         "EM FUNCIONAMENTO NORMAL",
         "2018-12-05",
         null,
         4.404450632E7,
         "30687646000150",
         "SP",
         "ELIPSE II FUNDO DE INVESTIMENTO EM PARTICIPACOES",
         "SP",
         "São Paulo"
        ],
        [
         "32140484000160",
         "EM FUNCIONAMENTO NORMAL",
         "2019-02-22",
         null,
         5.832228657E8,
         "32140484000160",
         "SP",
         "PSS PRINCIPAL FUNDO DE INVESTIMENTO EM PARTICIPACOES",
         "SP",
         "São Paulo"
        ],
        [
         "27368761000157",
         "EM FUNCIONAMENTO NORMAL",
         "2019-04-29",
         null,
         3.15840331E8,
         "27368761000157",
         "SP",
         "GLP INVESTIMENTOS V FUNDO DE INVESTIMENTO EM PARTICIPACOES - MULTIESTRATEGIA",
         "SP",
         "São Paulo"
        ],
        [
         "33240249000123",
         "EM FUNCIONAMENTO NORMAL",
         "2019-06-21",
         null,
         2.40766695662E9,
         "33240249000123",
         "SP",
         "KILAUEA BRASIL PARTNERS II - FUNDO DE INVESTIMENTO EM PARTICIPACOES MULTIESTRATEGIA IE RESP LIMITADA",
         "SP",
         "São Paulo"
        ],
        [
         "32162536000108",
         "EM FUNCIONAMENTO NORMAL",
         "2019-05-15",
         null,
         4.685894751E7,
         "32162536000108",
         "SP",
         "PSS SMALL FUNDO DE INVESTIMENTO EM PARTICIPACOES MULTIESTRATEGIA INVESTIMENTO NO EXTERIOR",
         "SP",
         "São Paulo"
        ],
        [
         "31570611000107",
         "EM FUNCIONAMENTO NORMAL",
         "2018-10-03",
         null,
         6.7677066527E8,
         "31570611000107",
         "SP",
         "MONT BLANC BRASIL PARTNERS I H - FIP MULTIESTRATEGIA INVESTIMENTO NO EXTERIOR RESP LIMITADA",
         "SP",
         "São Paulo"
        ],
        [
         "29315285000131",
         "EM FUNCIONAMENTO NORMAL",
         "2018-10-02",
         null,
         1.277059947E7,
         "29315285000131",
         "SP",
         "OIKOS FUNDO DE INVESTIMENTO EM PARTICIPACOES MULTIESTRATEGIA - RESPONSABILIDADE LIMITADA",
         "SP",
         "São Paulo"
        ],
        [
         "35725626000140",
         "EM FUNCIONAMENTO NORMAL",
         "2020-03-06",
         null,
         5.13615446257E9,
         "35725626000140",
         "SP",
         "PSS ENERGY FUNDO DE INVESTIMENTO EM PARTICIPACOES",
         "SP",
         "São Paulo"
        ],
        [
         "34644159000160",
         "EM FUNCIONAMENTO NORMAL",
         "2019-11-04",
         null,
         3.7820675354E8,
         "34644159000160",
         "SP",
         "PATRIA INFRAESTRUTURA IV FEEDER-D FUNDO DE INVESTIMENTO EM PARTICIPACOES MULTI RESP LIMITADA",
         "SP",
         "São Paulo"
        ],
        [
         "35137939000187",
         "EM FUNCIONAMENTO NORMAL",
         "2019-10-14",
         null,
         1.443323611E7,
         "35137939000187",
         "SP",
         "MANASLU BRASIL PARTNERS I K FUNDO DE INVESTIMENTO EM PARTICIPACOES MULTIESTRATEGIA IE RESP LIMITADA",
         "SP",
         "São Paulo"
        ],
        [
         "34509036000117",
         "EM FUNCIONAMENTO NORMAL",
         "2019-09-16",
         null,
         4.0174206574E8,
         "34509036000117",
         "SP",
         "MAKALU BRASIL PARTNERS I J FIP MULTIESTRATEGIA INVESTIMENTO NO EXTERIOR RESPONSABILIDADE LIMITADA",
         "SP",
         "São Paulo"
        ],
        [
         "30871738000195",
         "EM FUNCIONAMENTO NORMAL",
         "2018-07-18",
         null,
         386700.25,
         "30871738000195",
         "SP",
         "DENALI BRASIL PARTNERS I F FUNDO DE INVESTIMENTO EM PARTICIPACOES MULTIESTRATEGIA IE RESP LIMITADA",
         "SP",
         "São Paulo"
        ],
        [
         "30871793000185",
         "EM FUNCIONAMENTO NORMAL",
         "2018-07-18",
         null,
         3.1417714954E8,
         "30871793000185",
         "SP",
         "CAPITOLIO BRASIL PARTNERS I G FUNDO DE INVESTIMENTO EM PARTICIPACOES MULTIESTRATEGIA IE RES LIMITADA",
         "SP",
         "São Paulo"
        ],
        [
         "29315301000196",
         "EM FUNCIONAMENTO NORMAL",
         "2018-04-03",
         null,
         4.3184203627E8,
         "29315301000196",
         "SP",
         "FUJI BRASIL PARTNERS I C - FIP MULTIESTRATEGIA INVESTIMENTO NO EXTERIOR RESP LIMITADA",
         "SP",
         "São Paulo"
        ],
        [
         "29843196000168",
         "EM FUNCIONAMENTO NORMAL",
         "2018-03-19",
         null,
         1.219411721E7,
         "29843196000168",
         "SP",
         "FUNDO DE INVESTIMENTO EM PARTICIPACOES MULTIESTRATEGIA INOVACAO E TECNOLOGIA - RESP LIMITADA",
         "SP",
         "São Paulo"
        ],
        [
         "29323865000170",
         "EM FUNCIONAMENTO NORMAL",
         "2018-01-17",
         null,
         6.6743624658E8,
         "29323865000170",
         "SP",
         "BRAZIL FITNESS INVESTORS - FIP MULTIESTRATEGIA INVESTIMENTO NO EXTERIOR RESP LIMITADA",
         "SP",
         "São Paulo"
        ],
        [
         "27486551000163",
         "EM FUNCIONAMENTO NORMAL",
         "2017-06-02",
         null,
         604067.12,
         "27486551000163",
         "SP",
         "KILIMANJARO BRASIL PARTNERS I B - FUNDO DE INVESTIMENTO EM PARTICIPACOES MULTIESTRATEGIA IE RESP LIM",
         "SP",
         "São Paulo"
        ],
        [
         "27486551000163",
         "EM FUNCIONAMENTO NORMAL",
         "2017-06-02",
         null,
         604067.12,
         "27486551000163",
         "SP",
         "KILIMANJARO BRASIL PARTNERS I B - FUNDO DE INVESTIMENTO EM PARTICIPACOES MULTIESTRATEGIA IE RESP LIM",
         "SP",
         "São Paulo"
        ],
        [
         "27486551000163",
         "EM FUNCIONAMENTO NORMAL",
         "2017-06-02",
         null,
         604067.12,
         "27486551000163",
         "SP",
         "KILIMANJARO BRASIL PARTNERS I B - FUNDO DE INVESTIMENTO EM PARTICIPACOES MULTIESTRATEGIA IE RESP LIM",
         "SP",
         "São Paulo"
        ],
        [
         "27486551000163",
         "EM FUNCIONAMENTO NORMAL",
         "2017-06-02",
         null,
         604067.12,
         "27486551000163",
         "SP",
         "KILIMANJARO BRASIL PARTNERS I B - FUNDO DE INVESTIMENTO EM PARTICIPACOES MULTIESTRATEGIA IE RESP LIM",
         "SP",
         "São Paulo"
        ],
        [
         "12271294000175",
         "EM FUNCIONAMENTO NORMAL",
         "2010-09-23",
         null,
         1.1324594488E8,
         "12271294000175",
         "SP",
         "FIX METALICO FUNDO DE INVESTIMENTO EM PARTICIPACOES MULTIESTRATEGIA",
         "SP",
         "São Paulo"
        ],
        [
         "13451738000117",
         "EM FUNCIONAMENTO NORMAL",
         "2011-02-28",
         null,
         2.266803318E7,
         "13451738000117",
         "SP",
         "CLASSE DE INVESTIMENTO EM COTAS DE FIP PATRIA PRIVATE EQUITY IV - RESP LIMITADA",
         "SP",
         "São Paulo"
        ],
        [
         "23700564000132",
         "EM FUNCIONAMENTO NORMAL",
         "2016-12-13",
         null,
         513510.04,
         "23700564000132",
         "SP",
         "LUNA FUNDO DE INVESTIMENTO EM PARTICIPACOES MULTIESTRATEGIA",
         "SP",
         "São Paulo"
        ],
        [
         "23781192000116",
         "EM FUNCIONAMENTO NORMAL",
         "2016-12-19",
         null,
         3.09240810504E9,
         "23781192000116",
         "SP",
         "GLP INVESTIMENTOS IV FUNDO DE INVESTIMENTO EM PARTICIPACOES MULTIESTRATEGIA",
         "SP",
         "São Paulo"
        ],
        [
         "45788850000134",
         "EM FUNCIONAMENTO NORMAL",
         "2022-07-07",
         null,
         4.00889018885E9,
         "45788850000134",
         "SP",
         "GIP HELIOS FUNDO DE INVESTIMENTO EM PARTICIPACOES MULTIESTRATEGIA",
         "SP",
         "São Paulo"
        ],
        [
         "47166761000181",
         "EM FUNCIONAMENTO NORMAL",
         "2022-07-21",
         null,
         9.443368023E7,
         "47166761000181",
         "SP",
         "EUV GLADIATOR FUNDO DE INVESTIMENTO EM PARTICIPACOES MULTIESTRATEGIA",
         "SP",
         "São Paulo"
        ],
        [
         "39412078000159",
         "EM FUNCIONAMENTO NORMAL",
         "2022-08-24",
         null,
         1000846.18,
         "39412078000159",
         "SP",
         "BELLAGIO FUNDO DE INVESTIMENTO EM PARTICIPACOES MULTIESTRATEGIA RESPONSABILDADE LIMITADA",
         "SP",
         "São Paulo"
        ],
        [
         "44638527000111",
         "EM FUNCIONAMENTO NORMAL",
         "2022-10-21",
         null,
         1.758816632E7,
         "44638527000111",
         "SP",
         "GALAXY FUNDO DE INVESTIMENTO EM PARTICIPACOES MULTIESTRATEGIA",
         "SP",
         "São Paulo"
        ],
        [
         "44108111000191",
         "EM FUNCIONAMENTO NORMAL",
         "2022-10-06",
         null,
         2.7886747382E8,
         "44108111000191",
         "SP",
         "PCS II HEALTHCARE FUNDO DE INVESTIMENTO EM PARTICIPACOES",
         "SP",
         "São Paulo"
        ],
        [
         "23120075000101",
         "EM FUNCIONAMENTO NORMAL",
         "2022-11-28",
         null,
         1438003.41,
         "23120075000101",
         "SP",
         "GLP INVESTIMENTOS VII FUNDO DE INVESTIMENTO EM PARTICIPACOES MULTIESTRATEGIA",
         "SP",
         "São Paulo"
        ],
        [
         "44638491000176",
         "EM FUNCIONAMENTO NORMAL",
         "2022-11-08",
         null,
         3.112389581E7,
         "44638491000176",
         "SP",
         "MATECH PAR FUNDO DE INVESTIMENTO EM PARTICIPACOES CAPITALSEMENTE",
         "SP",
         "São Paulo"
        ],
        [
         "46282024000181",
         "EM FUNCIONAMENTO NORMAL",
         "2022-11-01",
         null,
         2668684.34,
         "46282024000181",
         "SP",
         "CRIXUS SPECIAL RETURN FUNDO DE INVESTIMENTO EM PARTICIPACOES MULTIESTRATEGIA RESP LIMITADA",
         "SP",
         "São Paulo"
        ],
        [
         "49637003000120",
         "EM FUNCIONAMENTO NORMAL",
         "2023-02-16",
         null,
         1.3042332071E8,
         "49637003000120",
         "SP",
         "BAY INVEST FUNDO DE INVESTIMENTO EM PARTICIPACOES MULTIESTRATEGIA",
         "SP",
         "São Paulo"
        ],
        [
         "49963885000113",
         "EM FUNCIONAMENTO NORMAL",
         "2023-03-16",
         null,
         5.4588945138E8,
         "49963885000113",
         "SP",
         "ALPHA FUNDO DE INVESTIMENTO EM PARTICIPACOES MULTIESTRATEGIA",
         "SP",
         "São Paulo"
        ],
        [
         "50226162000110",
         "EM FUNCIONAMENTO NORMAL",
         "2023-04-05",
         null,
         1559098.21,
         "50226162000110",
         "SP",
         "SANVI FUNDO DE INVESTIMENTO EM PARTICIPACOES CAPITAL-SEMENTE",
         "SP",
         "São Paulo"
        ],
        [
         "50071531000143",
         "EM FUNCIONAMENTO NORMAL",
         "2023-03-24",
         null,
         1.0044405434E8,
         "50071531000143",
         "SP",
         "KMP GROWTH CAPITAL FUND II FUNDO DE INVESTIMENTO EM PARTICIPACOES MULTI - RESPONSABILIDADE LIMITADA",
         "SP",
         "São Paulo"
        ],
        [
         "49252656000190",
         "EM FUNCIONAMENTO NORMAL",
         "2023-01-19",
         null,
         7.4622659055E8,
         "49252656000190",
         "RJ",
         "AZ QUEST INFRA YIELD FUNDO DE INVESTIMENTO EM PARTICIPACOES EM INFRAESTRUTURA",
         "RJ",
         "Rio de Janeiro"
        ],
        [
         "48992508000140",
         "EM FUNCIONAMENTO NORMAL",
         "2022-12-28",
         null,
         1.149394909E7,
         "48992508000140",
         "SP",
         "SUZUKA FUNDO DE INVESTIMENTO EM PARTICIPACOES MULTIESTRATEGIA RESPONSABILIDADE LIMITADA",
         "SP",
         "São Paulo"
        ],
        [
         "48900133000140",
         "EM FUNCIONAMENTO NORMAL",
         "2022-12-15",
         null,
         5.9156535139E8,
         "48900133000140",
         "SP",
         "PCS II FEEDER BRASIL FUNDO DE INVESTIMENTO EM PARTICIPACOES",
         "SP",
         "São Paulo"
        ],
        [
         "46778844000169",
         "EM FUNCIONAMENTO NORMAL",
         "2022-12-09",
         null,
         1.8557583749E8,
         "46778844000169",
         "SP",
         "FLAMA SPECIAL RETURN FUNDO DE INVESTIMENTO EM PARTICIPACOES MULTIESTRATEGIA",
         "SP",
         "São Paulo"
        ],
        [
         "46778844000169",
         "EM FUNCIONAMENTO NORMAL",
         "2022-12-09",
         null,
         1.8557583749E8,
         "46778844000169",
         "SP",
         "FLAMA SPECIAL RETURN FUNDO DE INVESTIMENTO EM PARTICIPACOES MULTIESTRATEGIA",
         "SP",
         "São Paulo"
        ],
        [
         "46782474000133",
         "EM FUNCIONAMENTO NORMAL",
         "2022-12-09",
         null,
         1.05489145E7,
         "46782474000133",
         "SP",
         "CONTEA CAPITAL TRENTO FUNDO DE INVESTIMENTO EM PARTICIPACOES MULTIESTRATEGIA RESPONSABILIDADE LIMITA",
         "SP",
         "São Paulo"
        ],
        [
         "47463511000103",
         "EM FUNCIONAMENTO NORMAL",
         "2022-12-09",
         null,
         4402769.94,
         "47463511000103",
         "SP",
         "EP FUNDO DE INVESTIMENTO EM PARTICIPACOES MULTIESTRATEGIA RESPONSABILIDADE LIMITADA",
         "SP",
         "São Paulo"
        ],
        [
         "48328958000132",
         "EM FUNCIONAMENTO NORMAL",
         "2022-12-08",
         null,
         981206.52,
         "48328958000132",
         "SP",
         "STAR VENTURES FUNDO DE INVESTIMENTO EM PARTICIPACOES MULTIESTRATEGIA IE - RESPONSABILIDADE LIMITADA",
         "SP",
         "São Paulo"
        ],
        [
         "46780646000130",
         "EM FUNCIONAMENTO NORMAL",
         "2022-12-08",
         null,
         9.50403465E7,
         "46780646000130",
         "SP",
         "PC 78 FUNDO DE INVESTIMENTO EM PARTICIPACOES MULTIESTRATEGIA",
         "SP",
         "São Paulo"
        ],
        [
         "47983885000150",
         "EM FUNCIONAMENTO NORMAL",
         "2022-12-08",
         null,
         1.046652606E8,
         "47983885000150",
         "SP",
         "AXA IM SILVANUS FUND FUNDO DE INVESTIMENTO EM PARTICIPACOES MULTIESTRATEGIA RESPONSABILIDADE LIMITAD",
         "SP",
         "São Paulo"
        ],
        [
         "51804355000174",
         "EM FUNCIONAMENTO NORMAL",
         "2023-08-14",
         null,
         1.575957148E7,
         "51804355000174",
         "SP",
         "COPEL VENTURES I FUNDO DE INVESTIMENTO EM PARTICIPACOES - EMPRESAS EMERGENTES RESP LIMITADA",
         "SP",
         "São Paulo"
        ],
        [
         "51339815000130",
         "EM FUNCIONAMENTO NORMAL",
         "2023-07-07",
         null,
         8.179266377E7,
         "51339815000130",
         "SP",
         "AVT LOG FUNDO DE INVESTIMENTO EM PARTICIPACOES INFRAESTRUTURA",
         "SP",
         "São Paulo"
        ],
        [
         "51033013000106",
         "EM FUNCIONAMENTO NORMAL",
         "2023-06-13",
         null,
         4224343.58,
         "51033013000106",
         "SP",
         "SILVERBAY CAPITAL FUNDO DE INVESTIMENTO EM PARTICIPACOES MULTIESTRATEGIA",
         "SP",
         "São Paulo"
        ],
        [
         "28850140000178",
         "EM FUNCIONAMENTO NORMAL",
         "2017-10-16",
         null,
         2.140063824E7,
         "28850140000178",
         "SP",
         "FUNDO DE FINANCIAMENTO DA INDUSTRIA CINEMATROGRAFICA NACIONAL - FUNCINE - TIM",
         "SP",
         "São Paulo"
        ],
        [
         "06905783000139",
         "EM FUNCIONAMENTO NORMAL",
         "2004-12-30",
         null,
         1.959792432E7,
         "06905783000139",
         "SP",
         "INVESTIMAGE 2 - FUNDO DE FINANCIAMENTO DA INDUSTRIA CINEMATOGRAFICA NACIONAL - FUNCINE",
         "SP",
         "São Paulo"
        ],
        [
         "06905783000139",
         "EM FUNCIONAMENTO NORMAL",
         "2004-12-30",
         null,
         1.959792432E7,
         "06905783000139",
         "SP",
         "INVESTIMAGE 2 - FUNDO DE FINANCIAMENTO DA INDUSTRIA CINEMATOGRAFICA NACIONAL - FUNCINE",
         "SP",
         "São Paulo"
        ],
        [
         "07644864000195",
         "EM FUNCIONAMENTO NORMAL",
         "2005-12-27",
         null,
         1248536.18,
         "07644864000195",
         "SP",
         "CINE AA FUNDO DE FINANCIAMENTO DA INDUSTRIA CINEMATOGRAFICA NACIONAL - FUNCINE",
         "SP",
         "São Paulo"
        ],
        [
         "10500895000187",
         "EM FUNCIONAMENTO NORMAL",
         "2008-12-02",
         null,
         1.123352714E7,
         "10500895000187",
         "SP",
         "INVESTIMAGE 1 FUNDO DE FINANCIAMENTO DA INDUSTRIA CINEMATOGRAFICA NACIONAL - FUNCINE",
         "SP",
         "São Paulo"
        ],
        [
         "07766151000102",
         "EM FUNCIONAMENTO NORMAL",
         "2006-01-09",
         null,
         0.0,
         "07766151000102",
         "RJ",
         "FUNDO DE INVESTIMENTO EM DIREITOS CREDITORIOS BCSUL VERAX MULTICRED FINANCEIRO",
         "RJ",
         "Rio de Janeiro"
        ],
        [
         "32295244000135",
         "EM FUNCIONAMENTO NORMAL",
         "2019-12-26",
         null,
         3902898.13,
         "32295244000135",
         "SP",
         "CREDORES FUNDO DE INVESTIMENTO EM DIREITOS CREDITORIOS NAO-PADRONIZADOS RESPONSABILIDADE LIMITADA",
         "SP",
         "São Paulo"
        ],
        [
         "35686949000171",
         "EM FUNCIONAMENTO NORMAL",
         "2019-12-19",
         null,
         1.959861874E7,
         "35686949000171",
         "SP",
         "GREEN WAY I FUNDO DE INVESTIMENTO EM DIREITOS CREDITORIOS NAO PADRONIZADOS",
         "SP",
         "São Paulo"
        ],
        [
         "32907653000145",
         "EM FUNCIONAMENTO NORMAL",
         "2019-11-26",
         null,
         2.372881091E7,
         "32907653000145",
         "SP",
         "CROWN OCEAN CAPITAL IV FUNDO DE INVESTIMENTO EM DIREITOS CREDITORIOS NAO PADRONIZADOS",
         "SP",
         "São Paulo"
        ],
        [
         "34553995000130",
         "EM FUNCIONAMENTO NORMAL",
         "2019-11-25",
         null,
         8900515.53,
         "34553995000130",
         "SP",
         "MANHATTAN FUNDO DE INVESTIMENTO EM DIREITOS CREDITORIOS NAO-PADRONIZADOS RESPONSABILIDADE LIMITADA",
         "SP",
         "São Paulo"
        ],
        [
         "28296597000182",
         "EM FUNCIONAMENTO NORMAL",
         "2018-06-07",
         null,
         5.316074455E7,
         "28296597000182",
         "SP",
         "HT3 FUNDO DE INVESTIMENTO EM DIREITOS CREDITORIOS RESPONSABILIDADE LIMITADA",
         "SP",
         "São Paulo"
        ],
        [
         "28796986000177",
         "EM FUNCIONAMENTO NORMAL",
         "2018-04-27",
         null,
         1.0377110259E8,
         "28796986000177",
         "SP",
         "KINERET FUNDO DE INVESTIMENTO EM DIREITOS CREDITORIOS",
         "SP",
         "São Paulo"
        ],
        [
         "28849641000134",
         "EM FUNCIONAMENTO NORMAL",
         "2018-03-19",
         null,
         3.043454345E7,
         "28849641000134",
         "SP",
         "SQUID FUNDO DE INVESTIMENTO EM DIRETOS CREDITORIOS",
         "SP",
         "São Paulo"
        ],
        [
         "28240255000140",
         "EM FUNCIONAMENTO NORMAL",
         "2017-08-30",
         null,
         7.533099041E7,
         "28240255000140",
         "SP",
         "MARINO INVEST FUNDO DE INVESTIMENTO EM DIREITOS CREDITORIOS NAO-PADRONIZADOS RESP LIMITADA",
         "SP",
         "São Paulo"
        ],
        [
         "28240255000140",
         "EM FUNCIONAMENTO NORMAL",
         "2017-08-30",
         null,
         7.533099041E7,
         "28240255000140",
         "SP",
         "MARINO INVEST FUNDO DE INVESTIMENTO EM DIREITOS CREDITORIOS NAO-PADRONIZADOS RESP LIMITADA",
         "SP",
         "São Paulo"
        ],
        [
         "28240255000140",
         "EM FUNCIONAMENTO NORMAL",
         "2017-08-30",
         null,
         7.533099041E7,
         "28240255000140",
         "SP",
         "MARINO INVEST FUNDO DE INVESTIMENTO EM DIREITOS CREDITORIOS NAO-PADRONIZADOS RESP LIMITADA",
         "SP",
         "São Paulo"
        ],
        [
         "28240255000140",
         "EM FUNCIONAMENTO NORMAL",
         "2017-08-30",
         null,
         7.533099041E7,
         "28240255000140",
         "SP",
         "MARINO INVEST FUNDO DE INVESTIMENTO EM DIREITOS CREDITORIOS NAO-PADRONIZADOS RESP LIMITADA",
         "SP",
         "São Paulo"
        ],
        [
         "27938258000190",
         "EM FUNCIONAMENTO NORMAL",
         "2017-07-11",
         null,
         1.061673687E7,
         "27938258000190",
         "SP",
         "AGUIA FI EM COTAS DE FUNDOS DE INVESTIMENTO EM DIREITOS CREDITORIOS RESPONSABILIDADE LIMITADA",
         "SP",
         "São Paulo"
        ],
        [
         "27531244000157",
         "EM FUNCIONAMENTO NORMAL",
         "2017-06-29",
         null,
         2.437109633E7,
         "27531244000157",
         "SP",
         "ONDABRASIL FUNDO DE INVESTIMENTO EM DIREITOS CREDITORIOS NAO-PADRONIZADOS RESP LIMITADA",
         "SP",
         "São Paulo"
        ],
        [
         "26452257000178",
         "EM FUNCIONAMENTO NORMAL",
         "2017-06-12",
         null,
         5.502430724E7,
         "26452257000178",
         "SP",
         "AURI FUNDO DE INVESTIMENTO EM DIREITOS CREDITORIOS RESPONSABILIDADE LIMITADA",
         "SP",
         "São Paulo"
        ],
        [
         "26452257000178",
         "EM FUNCIONAMENTO NORMAL",
         "2017-06-12",
         null,
         5.502430724E7,
         "26452257000178",
         "SP",
         "AURI FUNDO DE INVESTIMENTO EM DIREITOS CREDITORIOS RESPONSABILIDADE LIMITADA",
         "SP",
         "São Paulo"
        ],
        [
         "27531301000106",
         "EM FUNCIONAMENTO NORMAL",
         "2017-05-29",
         null,
         4.730974917E7,
         "27531301000106",
         "SP",
         "QUANTHAS FUNDO DE INVESTIMENTO EM DIREITOS CREDITORIOS MULTISSETORIAL - RESPONSABILIDADE LIMITADA",
         "SP",
         "São Paulo"
        ],
        [
         "27531301000106",
         "EM FUNCIONAMENTO NORMAL",
         "2017-05-29",
         null,
         4.730974917E7,
         "27531301000106",
         "SP",
         "QUANTHAS FUNDO DE INVESTIMENTO EM DIREITOS CREDITORIOS MULTISSETORIAL - RESPONSABILIDADE LIMITADA",
         "SP",
         "São Paulo"
        ],
        [
         "27531301000106",
         "EM FUNCIONAMENTO NORMAL",
         "2017-05-29",
         null,
         4.730974917E7,
         "27531301000106",
         "SP",
         "QUANTHAS FUNDO DE INVESTIMENTO EM DIREITOS CREDITORIOS MULTISSETORIAL - RESPONSABILIDADE LIMITADA",
         "SP",
         "São Paulo"
        ],
        [
         "27531301000106",
         "EM FUNCIONAMENTO NORMAL",
         "2017-05-29",
         null,
         4.730974917E7,
         "27531301000106",
         "SP",
         "QUANTHAS FUNDO DE INVESTIMENTO EM DIREITOS CREDITORIOS MULTISSETORIAL - RESPONSABILIDADE LIMITADA",
         "SP",
         "São Paulo"
        ],
        [
         "08621199000187",
         "EM FUNCIONAMENTO NORMAL",
         "2016-01-04",
         null,
         1.6182787373E8,
         "08621199000187",
         "SP",
         "FAMCRED FUNDO DE INVESTIMENTO EM DIREITOS CREDITORIOS NAO-PADRONIZADOS RESPONSABILIDADE LIMITADA",
         "SP",
         "São Paulo"
        ],
        [
         "09194841000151",
         "EM FUNCIONAMENTO NORMAL",
         "2007-11-30",
         null,
         1.8033292672E8,
         "09194841000151",
         "SP",
         "ATLANTICO FUNDO DE INVESTIMENTO EM DIREITOS CREDITORIOS RESPONSABILIDADE LIMITADA",
         "SP",
         "São Paulo"
        ],
        [
         "21838483000178",
         "EM FUNCIONAMENTO NORMAL",
         "2015-08-19",
         null,
         5.108677452E8,
         "21838483000178",
         "SP",
         "RIO FORMOSO II FUNDO DE INVESTIMENTO EM DIREITOS CREDITORIOS NAO-PADRONIZADOS MULTISSETORIAL NP",
         "SP",
         "São Paulo"
        ],
        [
         "45521649000196",
         "EM FUNCIONAMENTO NORMAL",
         "2022-06-21",
         null,
         2.304282834E8,
         "45521649000196",
         "SP",
         "FIDC SINAI MACRO FUNDO DE INVESTIMENTO EM DIREITOS CREDITORIOS NAO PADRONIZADO RESP LIMITADA",
         "SP",
         "São Paulo"
        ],
        [
         "45018961000161",
         "EM FUNCIONAMENTO NORMAL",
         "2022-05-30",
         null,
         2.532663374E7,
         "45018961000161",
         "SP",
         "NOVA ERA FUNDO DE INVESTIMENTO EM DIREITOS CREDITORIOS MULTISSETORIAL - RESPONSABILIDADE LIMITADA",
         "SP",
         "São Paulo"
        ],
        [
         "45693226000153",
         "EM FUNCIONAMENTO NORMAL",
         "2022-05-23",
         null,
         6543725.97,
         "45693226000153",
         "SP",
         "CREDITO AGRO FUNDO DE INVESTIMENTO EM DIREITOS CREDITORIOS NAO-PADRONIZADOS RESP LIMITADA",
         "SP",
         "São Paulo"
        ],
        [
         "45018911000184",
         "EM FUNCIONAMENTO NORMAL",
         "2022-05-11",
         null,
         1.774384956E7,
         "45018911000184",
         "SP",
         "HR FUNDO DE INVESTIMENTO EM DIREITOS CREDITORIOS FINANCEIRO - RESPONSABILIDADE LIMITADA",
         "SP",
         "São Paulo"
        ],
        [
         "45722284000168",
         "EM FUNCIONAMENTO NORMAL",
         "2022-04-17",
         null,
         1.502939107E7,
         "45722284000168",
         "SP",
         "FIDC CANAAN - FUNDO DE INVESTIMENTO EM DIREITOS CREDITORIOS RESPONSABILIDADE LIMITADA",
         "SP",
         "São Paulo"
        ],
        [
         "43721652000128",
         "EM FUNCIONAMENTO NORMAL",
         "2022-03-31",
         null,
         3.0567678483E8,
         "43721652000128",
         "SP",
         "TELECOM BANK I FUNDO DE INVESTIMENTO EM DIREITOS CREDITORIOS RESPONSABILIDADE LIMITADA",
         "SP",
         "São Paulo"
        ],
        [
         "44680388000194",
         "EM FUNCIONAMENTO NORMAL",
         "2022-03-25",
         null,
         2.483847192E7,
         "44680388000194",
         "SP",
         "ACELERA VAREJO FUNDO DE INVESTIMENTO EM DIREITOS CREDITORIOS RESPONSABILIDADE LIMITADA",
         "SP",
         "São Paulo"
        ],
        [
         "45019108000164",
         "EM FUNCIONAMENTO NORMAL",
         "2022-03-23",
         null,
         1.342890732E7,
         "45019108000164",
         "SP",
         "UJAY SPARTA CAPITAL FUNDO DE INVESTIMENTO EM DIREITOS CREDITORIOS NAO-PADRONIZADOS FIDC NP",
         "SP",
         "São Paulo"
        ],
        [
         "42357817000161",
         "EM FUNCIONAMENTO NORMAL",
         "2022-03-08",
         null,
         4.645220263E7,
         "42357817000161",
         "SP",
         "CONCRETO FUNDO DE INVESTIMENTO EM DIREITOS CREDITORIOS NAO PADRONIZADOS RESP LIMITADA",
         "SP",
         "São Paulo"
        ],
        [
         "45019040000113",
         "EM FUNCIONAMENTO NORMAL",
         "2022-02-14",
         null,
         6.581121408E7,
         "45019040000113",
         "SP",
         "AFL INVEST FUNDO DE INVESTIMENTO EM DIREITOS CREDITORIOS NAO-PADRONIZADOS RESP LIMITADA",
         "SP",
         "São Paulo"
        ],
        [
         "37651102000187",
         "EM FUNCIONAMENTO NORMAL",
         "2022-02-02",
         null,
         1.1047891301E8,
         "37651102000187",
         "SP",
         "BARCELONA FUNDO DE INVESTIMENTO EM DIREITOS CREDITORIOS RESPONSABILIDADE LIMITADA",
         "SP",
         "São Paulo"
        ],
        [
         "44680424000110",
         "EM FUNCIONAMENTO NORMAL",
         "2022-01-21",
         null,
         5.152904921E7,
         "44680424000110",
         "SP",
         "SANTA BARBARA FUNDO DE INVESTIMENTO EM DIREITOS CREDITORIOS MULTISSETORIAL- RESP LIMITADA",
         "SP",
         "São Paulo"
        ],
        [
         "44177436000126",
         "EM FUNCIONAMENTO NORMAL",
         "2022-01-03",
         null,
         4.0055315568E8,
         "44177436000126",
         "SP",
         "GALAXY FUNDO DE INVESTIMENTO EM DIREITOS CREDITORIOS RESPONSABILIDADE LIMITADA",
         "SP",
         "São Paulo"
        ],
        [
         "41579637000161",
         "EM FUNCIONAMENTO NORMAL",
         "2021-12-07",
         null,
         1.7672430245E8,
         "41579637000161",
         "SP",
         "MGW ATIVOS FUNDO DE INVESTIMENTO EM DIREITOS CREDITORIOS RESPONSABILIDADE LIMITADA",
         "SP",
         "São Paulo"
        ],
        [
         "43648593000100",
         "EM FUNCIONAMENTO NORMAL",
         "2021-12-02",
         null,
         1.462862316E7,
         "43648593000100",
         "SP",
         "FC MONEY FUNDO DE INVESTIMENTO EM DIREITOS CREDITORIOS RESPONSABILIDADE LIMITADA",
         "SP",
         "São Paulo"
        ],
        [
         "42700668000191",
         "EM FUNCIONAMENTO NORMAL",
         "2021-11-29",
         null,
         6.589757045E7,
         "42700668000191",
         "RJ",
         "GRAND - FUNDO DE INVESTIMENTO EM DIREITOS CREDITORIOS NAO PADRONIZADOS RESPONSABILIDADE LIMITADA",
         "RJ",
         "Rio de Janeiro"
        ],
        [
         "43616501000100",
         "EM FUNCIONAMENTO NORMAL",
         "2021-09-27",
         null,
         4.9763847452E8,
         "43616501000100",
         "RJ",
         "INSUMOS MILENIO TERRAMAGNA FUNDO DE INVESTIMENTO NAS CADEIAS PRODUTIVAS AGROINDUSTRIAIS FIAGRO - DIREITOS CREDITORIOS",
         "RJ",
         "Rio de Janeiro"
        ],
        [
         "42860984000120",
         "EM FUNCIONAMENTO NORMAL",
         "2021-08-30",
         null,
         9393138.14,
         "42860984000120",
         "SP",
         "CONDOBLUE I FUNDO DE INVESTIMENTO EM DIREITOS CREDITORIOS RESPONSABILIDADE LIMITADA",
         "SP",
         "São Paulo"
        ],
        [
         "41557609000143",
         "EM FUNCIONAMENTO NORMAL",
         "2021-09-06",
         null,
         4.542439587E7,
         "41557609000143",
         "SP",
         "SUN FUNDO DE INVESTIMENTO EM DIREITOS CREDITORIOS NAO-PADRONIZADOS RESPONSABILIDADE LIMITADA",
         "SP",
         "São Paulo"
        ],
        [
         "42196346000157",
         "EM FUNCIONAMENTO NORMAL",
         "2021-08-09",
         null,
         2.847891431E7,
         "42196346000157",
         "SP",
         "ADAMANTUS FUNDO DE INVESTIMENTO EM DIREITOS CREDITORIOS MULTISETORIAL",
         "SP",
         "São Paulo"
        ],
        [
         "32321319000105",
         "EM FUNCIONAMENTO NORMAL",
         "2021-07-23",
         null,
         1215227.93,
         "32321319000105",
         "SP",
         "BRAFIC CONSTRUCAO CIVIL FI EM DIREITOS CREDITORIOS NAO-PADRONIZADOS RESPONSABILIDADE LIMITADA",
         "SP",
         "São Paulo"
        ],
        [
         "40211684000195",
         "EM FUNCIONAMENTO NORMAL",
         "2021-02-08",
         null,
         8814320.26,
         "40211684000195",
         "SP",
         "CREDINOV FUNDO DE INVESTIMENTO EM DIREITOS CREDITORIOS NAO-PADRONIZADOS RESPONSABILIDADE LIMITADA",
         "SP",
         "São Paulo"
        ],
        [
         "36412972000130",
         "EM FUNCIONAMENTO NORMAL",
         "2020-09-10",
         null,
         5156801.75,
         "36412972000130",
         "SP",
         "VKR FUNDO DE INVESTIMENTO EM DIREITOS CREDITORIOS RESPONSABILIDADE LIMITADA",
         "SP",
         "São Paulo"
        ],
        [
         "36412972000130",
         "EM FUNCIONAMENTO NORMAL",
         "2020-09-10",
         null,
         5156801.75,
         "36412972000130",
         "SP",
         "VKR FUNDO DE INVESTIMENTO EM DIREITOS CREDITORIOS RESPONSABILIDADE LIMITADA",
         "SP",
         "São Paulo"
        ],
        [
         "36741161000183",
         "EM FUNCIONAMENTO NORMAL",
         "2020-07-16",
         null,
         4.605274238E7,
         "36741161000183",
         "SP",
         "NANBAN FUNDO DE INVESTIMENTO EM DIREITOS CREDITORIOS NAO PADRONIZADOS RESPONSABILIDADE LIMITADA",
         "SP",
         "São Paulo"
        ],
        [
         "36741133000166",
         "EM FUNCIONAMENTO NORMAL",
         "2020-06-30",
         null,
         5.3346384692E8,
         "36741133000166",
         "SP",
         "AFRICA FUNDO DE INVESTIMENTO MULTIMERCADO RESPONSABILIDADE LIMITADA",
         "SP",
         "São Paulo"
        ],
        [
         "33498764000108",
         "EM FUNCIONAMENTO NORMAL",
         "2020-05-26",
         null,
         1.465456113E7,
         "33498764000108",
         "SP",
         "BRAFIC FUNDO DE INVESTIMENTO EM DIREITOS CREDITORIOS NAO-PADRONIZADOS RESPONSABILIDADE LIMITADA",
         "SP",
         "São Paulo"
        ],
        [
         "34691300000186",
         "EM FUNCIONAMENTO NORMAL",
         "2020-04-13",
         null,
         1.567930715E7,
         "34691300000186",
         "SP",
         "ALPHA CREDITO FUNDO DE INVESTIMENTO EM DIREITOS CREDITORIOS",
         "SP",
         "São Paulo"
        ],
        [
         "52349539000154",
         "EM FUNCIONAMENTO NORMAL",
         "2023-09-28",
         null,
         1.994651913E7,
         "52349539000154",
         "SP",
         "Z5 FUNDO DE INVESTIMENTO EM DIREITOS CREDITORIOS MULTISSETORIAL - RESPONSABILIDADE LIMITADA",
         "SP",
         "São Paulo"
        ],
        [
         "52174102000127",
         "EM FUNCIONAMENTO NORMAL",
         "2023-09-13",
         null,
         2.6102811665E8,
         "52174102000127",
         "SP",
         "BYX CONSIGNADO MULTICONVENIOS FUNDO DE INVESTIMENTO EM DIREITOS CREDITORIOS RESP LIMITADA",
         "SP",
         "São Paulo"
        ],
        [
         "52112338000139",
         "EM FUNCIONAMENTO NORMAL",
         "2023-09-08",
         null,
         3.965763331E7,
         "52112338000139",
         "SP",
         "FIZZ CARD FUNDO DE INVESTIMENTO EM DIREITOS CREDITORIOS NAO-PADRONIZADOS RESPONSABILIDADE LIMITADA",
         "SP",
         "São Paulo"
        ],
        [
         "52073804000114",
         "EM FUNCIONAMENTO NORMAL",
         "2023-09-04",
         null,
         2.2672389056E8,
         "52073804000114",
         "SP",
         "IF-ACOR FUNDO DE INVESTIMENTO EM DIREITOS CREDITORIOS NAO-PADRONIZADOS RESPONSABILIDADE LIMITADA",
         "SP",
         "São Paulo"
        ],
        [
         "52069691000183",
         "EM FUNCIONAMENTO NORMAL",
         "2023-09-04",
         null,
         7.4204001813E8,
         "52069691000183",
         "SP",
         "HERMON FUNDO DE INVESTIMENTO EM DIREITOS CREDITORIOS NAO-PADRONIZADOS",
         "SP",
         "São Paulo"
        ],
        [
         "51539073000197",
         "EM FUNCIONAMENTO NORMAL",
         "2023-07-24",
         null,
         1.952326898E7,
         "51539073000197",
         "SP",
         "GERIZIM FUNDO DE INVESTIMENTO EM DIREITOS CREDITORIOS NAO PADRONIZADOS",
         "SP",
         "São Paulo"
        ],
        [
         "51292131000120",
         "EM FUNCIONAMENTO NORMAL",
         "2023-07-04",
         null,
         1.0623895649E8,
         "51292131000120",
         "SP",
         "SPESI I FUNDO DE INVESTIMENTO EM DIREITOS CREDITORIOS NAO-PADRONIZADOS MULTISSETORIAL RESP LIMITADA",
         "SP",
         "São Paulo"
        ],
        [
         "51199121000145",
         "EM FUNCIONAMENTO NORMAL",
         "2023-06-27",
         null,
         3575207.71,
         "51199121000145",
         "SP",
         "2MONEY FUNDO DE INVESTIMENTO EM DIREITOS CREDITORIOS NAO-PADRONIZADOS RESPONSABILIDADE LIMITADA",
         "SP",
         "São Paulo"
        ],
        [
         "50995214000113",
         "EM FUNCIONAMENTO NORMAL",
         "2023-06-09",
         null,
         9.75194172E7,
         "50995214000113",
         "SP",
         "ORION FUNDO DE INVESTIMENTO EM DIREITOS CREDITORIOS RESPONDABILIDADE LIMITADA",
         "SP",
         "São Paulo"
        ],
        [
         "50963249000170",
         "EM FUNCIONAMENTO NORMAL",
         "2023-06-06",
         null,
         1.0079293942E8,
         "50963249000170",
         "SP",
         "BOREAL I FUNDO DE INVESTIMENTO EM DIREITOS CREDITORIOS COMERCIAL - RESPONSABILIDADE LIMITADA",
         "SP",
         "São Paulo"
        ],
        [
         "50948092000104",
         "EM FUNCIONAMENTO NORMAL",
         "2023-06-05",
         null,
         2.04266121E7,
         "50948092000104",
         "SP",
         "CESSIONARIO 1 FUNDO DE INVESTIMENTO EM DIREITOS CREDITORIOS NAO-PADRONIZADOS RESP LIMITADA",
         "SP",
         "São Paulo"
        ],
        [
         "50948197000163",
         "EM FUNCIONAMENTO NORMAL",
         "2023-06-05",
         null,
         990299.19,
         "50948197000163",
         "SP",
         "CESSIONARIO 2 FUNDO DE INVESTIMENTO EM DIREITOS CREDITORIOS NAO-PADRONIZADOS RESP LIMITADA",
         "SP",
         "São Paulo"
        ],
        [
         "50818107000110",
         "EM FUNCIONAMENTO NORMAL",
         "2023-05-25",
         null,
         0.0,
         "50818107000110",
         "SP",
         "READING FUNDO DE INVESTIMENTO EM DIREITOS CREDITORIOS NAO-PADRONIZADOS RESPONSABILIDADE LIMITADA",
         "SP",
         "São Paulo"
        ],
        [
         "50555281000117",
         "EM FUNCIONAMENTO NORMAL",
         "2023-05-04",
         null,
         1.67105102E7,
         "50555281000117",
         "SP",
         "RECEBIVEIS BRASIL INFRA FUNDO DE INVESTIMENTO EM DIREITOS CREDITORIOS NAO-PADRONIZADOS",
         "SP",
         "São Paulo"
        ],
        [
         "50462226000182",
         "EM FUNCIONAMENTO NORMAL",
         "2023-04-26",
         null,
         4.470830981E7,
         "50462226000182",
         "SP",
         "PENSILVANIA FUNDO DE INVESTIMENTO EM DIREITOS CREDITORIOS NAO-PADRONIZADOS RESPONSABILIDADE LIMITADA",
         "SP",
         "São Paulo"
        ],
        [
         "50312715000158",
         "EM FUNCIONAMENTO NORMAL",
         "2023-04-13",
         null,
         1.7484117954E8,
         "50312715000158",
         "SP",
         "PFC FUNDO DE INVESTIMENTO EM DIREITOS CREDITORIOS NAO PADRONIZADO",
         "SP",
         "São Paulo"
        ],
        [
         "50311731000126",
         "EM FUNCIONAMENTO NORMAL",
         "2023-04-13",
         null,
         5.484187399E7,
         "50311731000126",
         "SP",
         "ID FY FUNDO DE INVESTIMENTO EM COTAS DE FUNDO DE INVESTIMENTO EM DIREITOS CREDITORIOS RESP LIMITADA",
         "SP",
         "São Paulo"
        ],
        [
         "50184026000105",
         "EM FUNCIONAMENTO NORMAL",
         "2023-04-03",
         null,
         3.390548606E7,
         "50184026000105",
         "SP",
         "AMALFI FUNDO DE INVESTIMENTO EM DIREITOS CREDITORIOS RESPONSABILIDADE LIMITADA",
         "SP",
         "São Paulo"
        ],
        [
         "50153414000129",
         "EM FUNCIONAMENTO NORMAL",
         "2023-03-30",
         null,
         3.44638365E7,
         "50153414000129",
         "SP",
         "INVESTMACH FUNDO DE INVESTIMENTO EM DIREITOS CREDITORIOS - FIDC",
         "SP",
         "São Paulo"
        ],
        [
         "49974540000165",
         "EM FUNCIONAMENTO NORMAL",
         "2023-03-17",
         null,
         3.398203665E7,
         "49974540000165",
         "SP",
         "HT3 II FUNDO DE INVESTIMENTO EM DIREITOS CREDITORIOS NAO PADRONIZADO",
         "SP",
         "São Paulo"
        ],
        [
         "49963418000193",
         "EM FUNCIONAMENTO NORMAL",
         "2023-03-16",
         null,
         1.9358058271E8,
         "49963418000193",
         "SP",
         "OPI CREDITO AGRICOLA FI NAS CADEIAS PRODUTIVAS AGROINDUSTRIAIS FIAGRO - DC - RESP LIMITADA",
         "SP",
         "São Paulo"
        ],
        [
         "47388724000118",
         "EM FUNCIONAMENTO NORMAL",
         "2023-02-28",
         null,
         435374.17,
         "47388724000118",
         "RJ",
         "3R - FUNDO DE INVESTIMENTO EM DIREITOS CREDITORIOS NAO PADRONIZADOS RESPONSABILIDADE LIMITADA",
         "RJ",
         "Rio de Janeiro"
        ],
        [
         "49920326000126",
         "EM FUNCIONAMENTO NORMAL",
         "2023-03-13",
         null,
         1.9054992806E8,
         "49920326000126",
         "SP",
         "BDR KYIV FUNDO DE INVESTIMENTO EM DIREITOS CREDITORIOS - FIDC",
         "SP",
         "São Paulo"
        ],
        [
         "49223648000116",
         "EM FUNCIONAMENTO NORMAL",
         "2023-01-17",
         null,
         0.0,
         "49223648000116",
         "SP",
         "PHILADELPHIA FUNDO DE INVESTIMENTO EM DIREITOS CREDITORIOS NAOPADRONIZADOS RESPONSABILIDADE LIMITADA",
         "SP",
         "São Paulo"
        ],
        [
         "49176545000142",
         "EM FUNCIONAMENTO NORMAL",
         "2023-01-13",
         null,
         2.344639181E7,
         "49176545000142",
         "SP",
         "RIVER II FUNDO DE INVESTIMENTO EM DIREITOS CREDITORIOS NAO-PADRONIZADOS RESPONSABILIDADE LIMITADA",
         "SP",
         "São Paulo"
        ],
        [
         "47279999000113",
         "EM FUNCIONAMENTO NORMAL",
         "2022-12-09",
         null,
         6010936.16,
         "47279999000113",
         "SP",
         "DAYCOVAL D408 FUNDO DE INVESTIMENTO MULTIMERCADO",
         "SP",
         "São Paulo"
        ],
        [
         "20998989000181",
         "EM FUNCIONAMENTO NORMAL",
         "2022-12-06",
         null,
         1.223790679E7,
         "20998989000181",
         "SP",
         "VERUM II FUNDO DE INVESTIMENTO EM DIREITOS CREDITORIOS NAO PADRONIZADOS RESPONSABILIDADE LIMITADA",
         "SP",
         "São Paulo"
        ],
        [
         "48502650000161",
         "EM FUNCIONAMENTO NORMAL",
         "2022-11-30",
         null,
         2.742365066E7,
         "48502650000161",
         "SP",
         "SILVERSTONE FUNDO DE INVESTIMENTO EM DIREITOS CREDITORIOS NAO-PADRONIZADOS RESPONSABILIDADE LIMITADA",
         "SP",
         "São Paulo"
        ],
        [
         "48513136000121",
         "EM FUNCIONAMENTO NORMAL",
         "2022-11-18",
         null,
         1.384308465E7,
         "48513136000121",
         "SP",
         "GALGA FUNDO DE INVESTIMENTO EM DIREITOS CREDITORIOS-RESPONSABILIDADE LIMITADA",
         "SP",
         "São Paulo"
        ],
        [
         "42196361000103",
         "EM FUNCIONAMENTO NORMAL",
         "2022-11-04",
         null,
         1726899.04,
         "42196361000103",
         "SP",
         "GRIFFIN INVESTMENTS FUNDO DE INVESTIMENTO EM DIREITOS CREDITORIOS NAO PADRONIZADOS RESP LIMITADA",
         "SP",
         "São Paulo"
        ],
        [
         "46929959000107",
         "EM FUNCIONAMENTO NORMAL",
         "2022-10-31",
         null,
         7.261654725E7,
         "46929959000107",
         "SP",
         "BUCAREST BANCO FUNDO DE INVESTIMENTO EM DIREITOS CREDITORIOS INDUSTRIAL - RESPONSABILIDADE LIMITADA",
         "SP",
         "São Paulo"
        ],
        [
         "45521676000169",
         "EM FUNCIONAMENTO NORMAL",
         "2022-10-27",
         null,
         3.5515348358E8,
         "45521676000169",
         "SP",
         "HAWKER FUNDO DE INVESTIMENTO EM DIREITOS CREDITORIOS NAO PADRONIZADOS",
         "SP",
         "São Paulo"
        ],
        [
         "45899745000172",
         "EM FUNCIONAMENTO NORMAL",
         "2022-10-25",
         null,
         1.0580562099E8,
         "45899745000172",
         "SP",
         "ID 112 FUNDO DE INVESTIMENTO EM DIREITOS CREDITORIOS NAO-PADRONIZADOS",
         "SP",
         "São Paulo"
        ],
        [
         "46929994000126",
         "EM FUNCIONAMENTO NORMAL",
         "2022-10-24",
         null,
         3.679685417E7,
         "46929994000126",
         "SP",
         "GRATIAM FLOW FUNDO DE INVESTIMENTO EM DIREITOS CREDITORIOS MULTISSETORIAL RESPONSABILIDADE LIMITADA",
         "SP",
         "São Paulo"
        ],
        [
         "45899460000131",
         "EM FUNCIONAMENTO NORMAL",
         "2022-09-28",
         null,
         5.143766779E7,
         "45899460000131",
         "SP",
         "VOLUS FUNDO DE INVESTIMENTO EM DIREITOS CREDITORIOS NAO-PADRONIZADOS RESPONSABILIDADE LIMITADA",
         "SP",
         "São Paulo"
        ],
        [
         "46557432000107",
         "EM FUNCIONAMENTO NORMAL",
         "2022-07-07",
         null,
         4120348.03,
         "46557432000107",
         "SP",
         "ACELERA CASH FUNDO DE INVESTIMENTO EM DIREITOS CREDITORIOS",
         "SP",
         "São Paulo"
        ],
        [
         "47372688000102",
         "EM FUNCIONAMENTO NORMAL",
         "2022-08-30",
         null,
         3361933.07,
         "47372688000102",
         "SP",
         "PHX FUNDO DE INVESTIMENTO EM DIREITOS CREDITORIOS NAO-PADRONIZADOS RESPONSABILIDADE LIMITADA",
         "SP",
         "São Paulo"
        ],
        [
         "45019002000160",
         "EM FUNCIONAMENTO NORMAL",
         "2022-08-09",
         null,
         4.81126398E7,
         "45019002000160",
         "SP",
         "WAY ENGELUZ FUNDO DE INVESTIMENTO EM DIREITOS CREDITORIOS RESPONSABILIDADE LIMITADA",
         "SP",
         "São Paulo"
        ],
        [
         "45899588000103",
         "EM FUNCIONAMENTO NORMAL",
         "2022-08-03",
         null,
         1268242.73,
         "45899588000103",
         "SP",
         "FIDUCIA FUNDO DE INVESTIMENTO EM DIREITOS CREDITORIOS NAO-PADRONIZADOS",
         "SP",
         "São Paulo"
        ],
        [
         "45721977000136",
         "EM FUNCIONAMENTO NORMAL",
         "2022-07-19",
         null,
         1.7123149245E8,
         "45721977000136",
         "SP",
         "MONARCA FI EM COTAS DE FUNDOS DE INVESTIMENTO EM DIREITOS CREDITORIOS RESPONSABILIDADE LIMITADA",
         "SP",
         "São Paulo"
        ],
        [
         "06537068000190",
         "EM FUNCIONAMENTO NORMAL",
         "2004-08-02",
         null,
         1260.7,
         "06537068000190",
         "PA",
         "AMAZONIA CREDIT 90 - FUNDO DE APLICACAO EM QUOTAS DE FUNDOS DE INVESTIMENTO",
         "PA",
         "Pará"
        ],
        [
         "07408147000164",
         "EM FUNCIONAMENTO NORMAL",
         "2005-04-11",
         null,
         19103.37,
         "07408147000164",
         "PA",
         "FUNDO AMAZONIA DE APLICACAO EM COTAS DE FUNDOS DE INVESTIMENTO-AMAZONIA MIX ''2''",
         "PA",
         "Pará"
        ],
        [
         "12239939000192",
         "EM FUNCIONAMENTO NORMAL",
         "2011-09-21",
         2.02,
         6.55877165E7,
         "12239939000192",
         "SP",
         "BNP PARIBAS ACTION CLASSE DE INVESTIMENTO EM CLASSES DE INVESTIMENTO DE ACOES - RESP LIMITADA",
         "SP",
         "São Paulo"
        ],
        [
         "12241282000106",
         "EM FUNCIONAMENTO NORMAL",
         "2011-09-22",
         0.02,
         6.542651389E7,
         "12241282000106",
         "SP",
         "BNP PARIBAS ACTION MASTER CLASSE DE INVESTIMENTO DE ACOES - RESPONSABILIDADE LIMITADA",
         "SP",
         "São Paulo"
        ],
        [
         "14167479000160",
         "EM FUNCIONAMENTO NORMAL",
         "2011-10-21",
         1.2,
         2.687507781E7,
         "14167479000160",
         "SP",
         "ZURICH BNPP MULTIMERCADO CIC DE CLASSES DE INVESTIMENTO PREVIDENCIARIA - RESPONSABILIDADE LIMITADA",
         "SP",
         "São Paulo"
        ],
        [
         "06985322000113",
         "EM FUNCIONAMENTO NORMAL",
         "2012-03-08",
         32.0,
         1.7911641871E8,
         "06985322000113",
         "MG",
         "CHALLENGER FUNDO DE INVESTIMENTO FINANCEIRO EM ACOES",
         "MG",
         "Minas Gerais"
        ]
       ],
       "datasetInfos": [],
       "dbfsResultPath": null,
       "isJsonSchema": true,
       "metadata": {},
       "overflow": false,
       "plotOptions": {
        "customPlotOptions": {},
        "displayType": "table",
        "pivotAggregation": null,
        "pivotColumns": null,
        "xColumns": null,
        "yColumns": null
       },
       "removedWidgets": [],
       "schema": [
        {
         "metadata": "{}",
         "name": "CNPJ_FUNDO",
         "type": "\"string\""
        },
        {
         "metadata": "{}",
         "name": "SIT",
         "type": "\"string\""
        },
        {
         "metadata": "{}",
         "name": "DT_REG",
         "type": "\"date\""
        },
        {
         "metadata": "{}",
         "name": "TAXA_ADM",
         "type": "\"double\""
        },
        {
         "metadata": "{}",
         "name": "VL_PATRIM_LIQ",
         "type": "\"double\""
        },
        {
         "metadata": "{}",
         "name": "cnpj",
         "type": "\"string\""
        },
        {
         "metadata": "{}",
         "name": "uf",
         "type": "\"string\""
        },
        {
         "metadata": "{}",
         "name": "razao_social",
         "type": "\"string\""
        },
        {
         "metadata": "{}",
         "name": "sigla",
         "type": "\"string\""
        },
        {
         "metadata": "{}",
         "name": "nome",
         "type": "\"string\""
        }
       ],
       "type": "table"
      }
     },
     "output_type": "display_data"
    }
   ],
   "source": [
    "\n",
    "cvm_cnpj = cvm.join(\n",
    "    cnpj, \n",
    "    cvm.CNPJ_FUNDO == cnpj.cnpj, \n",
    "    how=\"left\"\n",
    "    )\n",
    "\n",
    "cvm_tratada = cvm_cnpj.join(\n",
    "    uf_bruto, \n",
    "    cvm_cnpj.uf == uf_bruto.sigla, \n",
    "    how=\"left\"\n",
    "    )\n",
    "\n",
    "display(cvm_tratada)"
   ]
  },
  {
   "cell_type": "code",
   "execution_count": 0,
   "metadata": {
    "application/vnd.databricks.v1+cell": {
     "cellMetadata": {
      "byteLimit": 2048000,
      "rowLimit": 10000
     },
     "inputWidgets": {},
     "nuid": "dedc21ff-a57d-4b6b-beb3-30ccfb9c375b",
     "showTitle": false,
     "tableResultSettingsMap": {},
     "title": ""
    }
   },
   "outputs": [],
   "source": [
    "spark.sql(\"drop table if exists cvm_tratada\")\n",
    "\n",
    "cvm_tratada.write.mode(\"overwrite\").saveAsTable(\"cvm_tratada\")"
   ]
  },
  {
   "cell_type": "code",
   "execution_count": 0,
   "metadata": {
    "application/vnd.databricks.v1+cell": {
     "cellMetadata": {
      "byteLimit": 2048000,
      "implicitDf": true,
      "rowLimit": 10000
     },
     "inputWidgets": {},
     "nuid": "4274d7a3-c573-4c59-bace-dad61e04d1a2",
     "showTitle": false,
     "tableResultSettingsMap": {},
     "title": ""
    }
   },
   "outputs": [
    {
     "output_type": "display_data",
     "data": {
      "text/html": [
       "<style scoped>\n",
       "  .table-result-container {\n",
       "    max-height: 300px;\n",
       "    overflow: auto;\n",
       "  }\n",
       "  table, th, td {\n",
       "    border: 1px solid black;\n",
       "    border-collapse: collapse;\n",
       "  }\n",
       "  th, td {\n",
       "    padding: 5px;\n",
       "  }\n",
       "  th {\n",
       "    text-align: left;\n",
       "  }\n",
       "</style><div class='table-result-container'><table class='table-result'><thead style='background-color: white'><tr><th>CNPJ_FUNDO</th><th>SIT</th><th>DT_REG</th><th>TAXA_ADM</th><th>VL_PATRIM_LIQ</th><th>cnpj</th><th>uf</th><th>razao_social</th><th>sigla</th><th>nome</th></tr></thead><tbody><tr><td>41953322000132</td><td>EM FUNCIONAMENTO NORMAL</td><td>2021-06-07</td><td>4.0</td><td>1.7319844967E8</td><td>41953322000132</td><td>MG</td><td>INTER INFRA MASTER FIF INCENTIV DE INVESTIMENTO EM INFRA RENDA FIXA CRED PRIV RESP LIMITADA</td><td>MG</td><td>Minas Gerais</td></tr><tr><td>37088071000106</td><td>EM FUNCIONAMENTO NORMAL</td><td>2020-05-11</td><td>null</td><td>2536455.66</td><td>37088071000106</td><td>SP</td><td>MERU REAL ESTATE III FUNDO DE INVESTIMENTO EM PARTICIPACOES MULTIESTRATEGIA IE RESP LIMITADA</td><td>SP</td><td>São Paulo</td></tr><tr><td>46929994000126</td><td>EM FUNCIONAMENTO NORMAL</td><td>2022-10-24</td><td>null</td><td>3.679685417E7</td><td>46929994000126</td><td>SP</td><td>GRATIAM FLOW FUNDO DE INVESTIMENTO EM DIREITOS CREDITORIOS MULTISSETORIAL RESPONSABILIDADE LIMITADA</td><td>SP</td><td>São Paulo</td></tr><tr><td>44680388000194</td><td>EM FUNCIONAMENTO NORMAL</td><td>2022-03-25</td><td>null</td><td>2.483847192E7</td><td>44680388000194</td><td>SP</td><td>ACELERA VAREJO FUNDO DE INVESTIMENTO EM DIREITOS CREDITORIOS RESPONSABILIDADE LIMITADA</td><td>SP</td><td>São Paulo</td></tr><tr><td>05754066000190</td><td>EM FUNCIONAMENTO NORMAL</td><td>2005-01-14</td><td>0.04</td><td>6.19662105094E9</td><td>05754066000190</td><td>SP</td><td>CLASSE UNICA DO AGATA FUNDO DE INVESTIMENTO FINANCEIRO MULTIMERCADO CREDITO PRIVADO LONGO PRAZO</td><td>SP</td><td>São Paulo</td></tr><tr><td>50275622000109</td><td>EM FUNCIONAMENTO NORMAL</td><td>2023-04-11</td><td>null</td><td>1.321802143E7</td><td>50275622000109</td><td>SP</td><td>ROHT FUNDO DE INVESTIMENTO IMOBILIARIO RESPONSABILIDADE LIMITADA</td><td>SP</td><td>São Paulo</td></tr><tr><td>44680435000108</td><td>EM FUNCIONAMENTO NORMAL</td><td>2022-09-27</td><td>null</td><td>3.678052558E7</td><td>44680435000108</td><td>SP</td><td>OCTO FUNDO DE INVESTIMENTO IMOBILIARIO RESPONSABILIDADE LIMITADA</td><td>SP</td><td>São Paulo</td></tr><tr><td>18929680000198</td><td>EM FUNCIONAMENTO NORMAL</td><td>2013-09-25</td><td>null</td><td>4.144935435E7</td><td>18929680000198</td><td>SP</td><td>BRIO REAL ESTATE FUNDO DE INVESTIMENTO EM PARTICIPACOES MULTIESTRATEGIA - RESPONSABILIDADE LIMITADA</td><td>SP</td><td>São Paulo</td></tr><tr><td>26845868000186</td><td>EM FUNCIONAMENTO NORMAL</td><td>2018-02-19</td><td>1.515</td><td>1265664.58</td><td>26845868000186</td><td>SP</td><td>BNP PARIBAS ACCESS DIVERSIFIED DYNAMIC CLASSE DE INVESTIMENTO MULTIMERCADO - RESP LIMITADA</td><td>SP</td><td>São Paulo</td></tr><tr><td>44108111000191</td><td>EM FUNCIONAMENTO NORMAL</td><td>2022-10-06</td><td>null</td><td>2.7886747382E8</td><td>44108111000191</td><td>SP</td><td>PCS II HEALTHCARE FUNDO DE INVESTIMENTO EM PARTICIPACOES</td><td>SP</td><td>São Paulo</td></tr><tr><td>47372720000141</td><td>EM FUNCIONAMENTO NORMAL</td><td>2022-08-09</td><td>null</td><td>3.160091085E7</td><td>47372720000141</td><td>SP</td><td>2PX - FUNDO DE INVESTIMENTO MULTIMERCADO CREDITO PRIVADO</td><td>SP</td><td>São Paulo</td></tr><tr><td>31570611000107</td><td>EM FUNCIONAMENTO NORMAL</td><td>2018-10-03</td><td>null</td><td>6.7677066527E8</td><td>31570611000107</td><td>SP</td><td>MONT BLANC BRASIL PARTNERS I H - FIP MULTIESTRATEGIA INVESTIMENTO NO EXTERIOR RESP LIMITADA</td><td>SP</td><td>São Paulo</td></tr><tr><td>48502650000161</td><td>EM FUNCIONAMENTO NORMAL</td><td>2022-11-30</td><td>null</td><td>2.742365066E7</td><td>48502650000161</td><td>SP</td><td>SILVERSTONE FUNDO DE INVESTIMENTO EM DIREITOS CREDITORIOS NAO-PADRONIZADOS RESPONSABILIDADE LIMITADA</td><td>SP</td><td>São Paulo</td></tr><tr><td>07939851000143</td><td>EM FUNCIONAMENTO NORMAL</td><td>2006-08-16</td><td>0.042</td><td>2.32051852498E9</td><td>07939851000143</td><td>SP</td><td>CLASSE UNICA ICEBERG FUNDO DE INVESTIMENTO MULTIMERCADO CREDITO PRIVADO LONGO PRAZO</td><td>SP</td><td>São Paulo</td></tr><tr><td>07144604000150</td><td>EM FUNCIONAMENTO NORMAL</td><td>2004-11-16</td><td>null</td><td>1479388.51</td><td>07144604000150</td><td>PA</td><td>FUNDO BASA DE INVESTIMENTO FINANCEIRO SELETO ''2''</td><td>PA</td><td>Pará</td></tr><tr><td>45908200000185</td><td>EM FUNCIONAMENTO NORMAL</td><td>2022-08-26</td><td>null</td><td>5335302.04</td><td>45908200000185</td><td>SP</td><td>BRAFIC FI EM COTAS DE FUNDOS DE INVESTIMENTO MULTIMERCADO CREDITO PRIVADO RESPONSABILIDADE LIMITADA</td><td>SP</td><td>São Paulo</td></tr><tr><td>42860984000120</td><td>EM FUNCIONAMENTO NORMAL</td><td>2021-08-30</td><td>null</td><td>9393138.14</td><td>42860984000120</td><td>SP</td><td>CONDOBLUE I FUNDO DE INVESTIMENTO EM DIREITOS CREDITORIOS RESPONSABILIDADE LIMITADA</td><td>SP</td><td>São Paulo</td></tr><tr><td>44815107000163</td><td>EM FUNCIONAMENTO NORMAL</td><td>2022-02-15</td><td>null</td><td>2.208686899E7</td><td>44815107000163</td><td>RJ</td><td>ARF SANTOS DUMONT PREV FIF MULTIMERCADO CREDITO PRIVADO - RESPONSABILIDADE LIMITADA</td><td>RJ</td><td>Rio de Janeiro</td></tr><tr><td>49651132000172</td><td>EM FUNCIONAMENTO NORMAL</td><td>2023-02-17</td><td>null</td><td>4.237867217E7</td><td>49651132000172</td><td>SP</td><td>BAY HA LONG FUNDO DE INVESTIMENTO MULTIMERCADO CREDITO PRIVADO INVESTIMENTO NO EXTERIOR</td><td>SP</td><td>São Paulo</td></tr><tr><td>01147641000136</td><td>EM FUNCIONAMENTO NORMAL</td><td>2005-04-04</td><td>0.1775</td><td>5.4073140876E8</td><td>01147641000136</td><td>SP</td><td>MAPFRE SOBERANO CLASSE DE INVESTIMENTO RENDA FIXA - RESPONSABILIDADE LIMITADA</td><td>SP</td><td>São Paulo</td></tr><tr><td>51292131000120</td><td>EM FUNCIONAMENTO NORMAL</td><td>2023-07-04</td><td>null</td><td>1.0623895649E8</td><td>51292131000120</td><td>SP</td><td>SPESI I FUNDO DE INVESTIMENTO EM DIREITOS CREDITORIOS NAO-PADRONIZADOS MULTISSETORIAL RESP LIMITADA</td><td>SP</td><td>São Paulo</td></tr><tr><td>44680466000150</td><td>EM FUNCIONAMENTO NORMAL</td><td>2022-02-24</td><td>null</td><td>6.397035926E7</td><td>44680466000150</td><td>SP</td><td>LGG INVEST FI EM COTAS DE FUNDO DE INVESTIMENTO MULTIMERCADO - CREDITO PRIVADO RESP LIMITADA</td><td>SP</td><td>São Paulo</td></tr><tr><td>19424677000185</td><td>EM FUNCIONAMENTO NORMAL</td><td>2023-02-01</td><td>2500.0</td><td>1.219515785E7</td><td>19424677000185</td><td>SP</td><td>VERUM FUNDO DE INVESTIMENTO MULTIMERCADO CREDITO PRIVADO</td><td>SP</td><td>São Paulo</td></tr><tr><td>33361923000128</td><td>EM FUNCIONAMENTO NORMAL</td><td>2019-06-18</td><td>0.065</td><td>6.077961322E7</td><td>33361923000128</td><td>SP</td><td>BLACKROCK GLOBAL BOND INCOME MASTER CLASSE DE INVESTIMENTO MULTIMERCADO - RESPONSABILIDADE LIMITADA</td><td>SP</td><td>São Paulo</td></tr><tr><td>07965741000156</td><td>EM FUNCIONAMENTO NORMAL</td><td>2006-06-27</td><td>0.7</td><td>7.937533818E7</td><td>07965741000156</td><td>SP</td><td>BNP PARIBAS PREMIUM MULTIMERCADO CIC DE CLASSES DE INVESTIMENTO RESPONSABILIDADE LIMITADA</td><td>SP</td><td>São Paulo</td></tr><tr><td>45019002000160</td><td>EM FUNCIONAMENTO NORMAL</td><td>2022-08-09</td><td>null</td><td>4.81126398E7</td><td>45019002000160</td><td>SP</td><td>WAY ENGELUZ FUNDO DE INVESTIMENTO EM DIREITOS CREDITORIOS RESPONSABILIDADE LIMITADA</td><td>SP</td><td>São Paulo</td></tr><tr><td>42081295000118</td><td>EM FUNCIONAMENTO NORMAL</td><td>2021-06-11</td><td>0.0</td><td>5.896034231E8</td><td>42081295000118</td><td>RJ</td><td>RIZA STATHEROS MASTER FUNDO DE INVESTIMENTO EM COTAS DE FUNDOS DE INVESTIMENTO MULTIMERCADO CREDITO PRIVADO</td><td>RJ</td><td>Rio de Janeiro</td></tr><tr><td>14951577000193</td><td>EM FUNCIONAMENTO NORMAL</td><td>2012-05-10</td><td>1.0</td><td>9.110146163E7</td><td>14951577000193</td><td>SP</td><td>BNP PARIBAS MAPFRE RENDA FIXA ATIVO CIC DE CLASSES DE INVESTIMENTO PREVIDENCIARIA - RESP LIMITADA</td><td>SP</td><td>São Paulo</td></tr><tr><td>46778844000169</td><td>EM FUNCIONAMENTO NORMAL</td><td>2022-12-09</td><td>null</td><td>1.8557583749E8</td><td>46778844000169</td><td>SP</td><td>FLAMA SPECIAL RETURN FUNDO DE INVESTIMENTO EM PARTICIPACOES MULTIESTRATEGIA</td><td>SP</td><td>São Paulo</td></tr><tr><td>46282024000181</td><td>EM FUNCIONAMENTO NORMAL</td><td>2022-11-01</td><td>null</td><td>2668684.34</td><td>46282024000181</td><td>SP</td><td>CRIXUS SPECIAL RETURN FUNDO DE INVESTIMENTO EM PARTICIPACOES MULTIESTRATEGIA RESP LIMITADA</td><td>SP</td><td>São Paulo</td></tr><tr><td>27938258000190</td><td>EM FUNCIONAMENTO NORMAL</td><td>2017-07-11</td><td>null</td><td>1.061673687E7</td><td>27938258000190</td><td>SP</td><td>AGUIA FI EM COTAS DE FUNDOS DE INVESTIMENTO EM DIREITOS CREDITORIOS RESPONSABILIDADE LIMITADA</td><td>SP</td><td>São Paulo</td></tr><tr><td>35277363000153</td><td>EM FUNCIONAMENTO NORMAL</td><td>2021-03-17</td><td>null</td><td>2.7238955682E8</td><td>35277363000153</td><td>SP</td><td>MGC GLOBAL FUNDO DE INVESTIMENTO EM COTAS DE FIDC RESPONSABILIDADE LIMITADA</td><td>SP</td><td>São Paulo</td></tr><tr><td>50818107000110</td><td>EM FUNCIONAMENTO NORMAL</td><td>2023-05-25</td><td>null</td><td>0.0</td><td>50818107000110</td><td>SP</td><td>READING FUNDO DE INVESTIMENTO EM DIREITOS CREDITORIOS NAO-PADRONIZADOS RESPONSABILIDADE LIMITADA</td><td>SP</td><td>São Paulo</td></tr><tr><td>46782474000133</td><td>EM FUNCIONAMENTO NORMAL</td><td>2022-12-09</td><td>null</td><td>1.05489145E7</td><td>46782474000133</td><td>SP</td><td>CONTEA CAPITAL TRENTO FUNDO DE INVESTIMENTO EM PARTICIPACOES MULTIESTRATEGIA RESPONSABILIDADE LIMITA</td><td>SP</td><td>São Paulo</td></tr><tr><td>42923073000103</td><td>EM FUNCIONAMENTO NORMAL</td><td>2021-10-15</td><td>null</td><td>2.001371535E7</td><td>42923073000103</td><td>MG</td><td>EXITUM FUNDO DE INVESTIMENTO EM PARTICIPACOES MULTIESTRATEGIA</td><td>MG</td><td>Minas Gerais</td></tr><tr><td>15296704000120</td><td>EM FUNCIONAMENTO NORMAL</td><td>2012-04-02</td><td>null</td><td>1.01364791999E9</td><td>15296704000120</td><td>SP</td><td>GLP INVESTIMENTOS III FUNDO DE INVESTIMENTO EM PARTICIPACOES MULTIESTRATEGIA</td><td>SP</td><td>São Paulo</td></tr><tr><td>33913576000107</td><td>EM FUNCIONAMENTO NORMAL</td><td>2019-12-30</td><td>0.09</td><td>3.5382136994E8</td><td>33913576000107</td><td>SP</td><td>DB II CLASSE DE INVESTIMENTO MULTIMERCADO INVESTIMENTO NO EXTERIOR CREDITO PRIVADO</td><td>SP</td><td>São Paulo</td></tr><tr><td>42922066000189</td><td>EM FUNCIONAMENTO NORMAL</td><td>2021-12-17</td><td>null</td><td>3584748.74</td><td>42922066000189</td><td>SP</td><td>HORIZONTE I FUNDO DE INVESTIMENTO FINANCEIRO MULTIMERCADO CREDITO PRIVADO DE RESP LIMITADA</td><td>SP</td><td>São Paulo</td></tr><tr><td>49252656000190</td><td>EM FUNCIONAMENTO NORMAL</td><td>2023-01-19</td><td>null</td><td>7.4622659055E8</td><td>49252656000190</td><td>RJ</td><td>AZ QUEST INFRA YIELD FUNDO DE INVESTIMENTO EM PARTICIPACOES EM INFRAESTRUTURA</td><td>RJ</td><td>Rio de Janeiro</td></tr><tr><td>50946637000143</td><td>EM FUNCIONAMENTO NORMAL</td><td>2023-06-05</td><td>null</td><td>1.636318291E7</td><td>50946637000143</td><td>SP</td><td>A4 FUNDO DE INVESTIMENTO MULTIMERCADO ESTRATEGIA LIVRE CREDITO PRIVADO</td><td>SP</td><td>São Paulo</td></tr><tr><td>41036490000163</td><td>EM FUNCIONAMENTO NORMAL</td><td>2021-03-15</td><td>5.0</td><td>3.901224709E7</td><td>41036490000163</td><td>MG</td><td>INTER ACCESS ARBOR FC DE FI FINANCEIRO EM ACOES BDR NIVEL I RESPONSABILIDADE LIMITADA</td><td>MG</td><td>Minas Gerais</td></tr><tr><td>43616501000100</td><td>EM FUNCIONAMENTO NORMAL</td><td>2021-09-27</td><td>null</td><td>4.9763847452E8</td><td>43616501000100</td><td>RJ</td><td>INSUMOS MILENIO TERRAMAGNA FUNDO DE INVESTIMENTO NAS CADEIAS PRODUTIVAS AGROINDUSTRIAIS FIAGRO - DIREITOS CREDITORIOS</td><td>RJ</td><td>Rio de Janeiro</td></tr><tr><td>44680449000113</td><td>EM FUNCIONAMENTO NORMAL</td><td>2022-10-20</td><td>null</td><td>8440299.75</td><td>44680449000113</td><td>SP</td><td>ID 203 FUNDO DE INVESTIMENTO IMOBILIARIO - FII</td><td>SP</td><td>São Paulo</td></tr><tr><td>09720710000160</td><td>EM FUNCIONAMENTO NORMAL</td><td>2008-09-26</td><td>8.0</td><td>2.6752782021E8</td><td>09720710000160</td><td>MG</td><td>INTER CONSERVADOR PLUS FUNDO DE INVESTIMENTO FINANCEIRO RENDA FIXA LONGO PRAZO RESP LIMITADA</td><td>MG</td><td>Minas Gerais</td></tr><tr><td>30871793000185</td><td>EM FUNCIONAMENTO NORMAL</td><td>2018-07-18</td><td>null</td><td>3.1417714954E8</td><td>30871793000185</td><td>SP</td><td>CAPITOLIO BRASIL PARTNERS I G FUNDO DE INVESTIMENTO EM PARTICIPACOES MULTIESTRATEGIA IE RES LIMITADA</td><td>SP</td><td>São Paulo</td></tr><tr><td>45823709000125</td><td>EM FUNCIONAMENTO NORMAL</td><td>2022-12-08</td><td>1.0</td><td>1.55511045E7</td><td>45823709000125</td><td>SP</td><td>INVESTO MEGA TRENDS CLASSE DE INVESTIMENTO ACOES RESPONSABILIDADE LIMITADA</td><td>SP</td><td>São Paulo</td></tr><tr><td>12241282000106</td><td>EM FUNCIONAMENTO NORMAL</td><td>2011-09-22</td><td>0.02</td><td>6.542651389E7</td><td>12241282000106</td><td>SP</td><td>BNP PARIBAS ACTION MASTER CLASSE DE INVESTIMENTO DE ACOES - RESPONSABILIDADE LIMITADA</td><td>SP</td><td>São Paulo</td></tr><tr><td>34553995000130</td><td>EM FUNCIONAMENTO NORMAL</td><td>2019-11-25</td><td>null</td><td>8900515.53</td><td>34553995000130</td><td>SP</td><td>MANHATTAN FUNDO DE INVESTIMENTO EM DIREITOS CREDITORIOS NAO-PADRONIZADOS RESPONSABILIDADE LIMITADA</td><td>SP</td><td>São Paulo</td></tr><tr><td>44638527000111</td><td>EM FUNCIONAMENTO NORMAL</td><td>2022-10-21</td><td>null</td><td>1.758816632E7</td><td>44638527000111</td><td>SP</td><td>GALAXY FUNDO DE INVESTIMENTO EM PARTICIPACOES MULTIESTRATEGIA</td><td>SP</td><td>São Paulo</td></tr><tr><td>47388724000118</td><td>EM FUNCIONAMENTO NORMAL</td><td>2023-02-28</td><td>null</td><td>435374.17</td><td>47388724000118</td><td>RJ</td><td>3R - FUNDO DE INVESTIMENTO EM DIREITOS CREDITORIOS NAO PADRONIZADOS RESPONSABILIDADE LIMITADA</td><td>RJ</td><td>Rio de Janeiro</td></tr><tr><td>45722284000168</td><td>EM FUNCIONAMENTO NORMAL</td><td>2022-04-17</td><td>null</td><td>1.502939107E7</td><td>45722284000168</td><td>SP</td><td>FIDC CANAAN - FUNDO DE INVESTIMENTO EM DIREITOS CREDITORIOS RESPONSABILIDADE LIMITADA</td><td>SP</td><td>São Paulo</td></tr><tr><td>07143386000130</td><td>EM FUNCIONAMENTO NORMAL</td><td>2004-11-16</td><td>null</td><td>614165.85</td><td>07143386000130</td><td>PA</td><td>FUNDO BASA DE INVESTIMENTO FINANCEIRO CURTO PRAZO ''2''</td><td>PA</td><td>Pará</td></tr><tr><td>17137984000150</td><td>EM FUNCIONAMENTO NORMAL</td><td>2014-09-11</td><td>0.02</td><td>3.06168632958E9</td><td>17137984000150</td><td>SP</td><td>BNP PARIBAS MASTER CREDITO PLUS CI RENDA FIXA CREDITO PRIVADO LONGO PRAZO RESPONSABILIDADE LIMITADA</td><td>SP</td><td>São Paulo</td></tr><tr><td>26545537000120</td><td>EM FUNCIONAMENTO NORMAL</td><td>2016-11-28</td><td>null</td><td>606645.44</td><td>26545537000120</td><td>SP</td><td>AGUNG BRASIL PARTNERS I D - FUNDO DE INVESTIMENTO EM PARTICIPACOES MULTIESTRATEGIA IE RESP LIMITADA</td><td>SP</td><td>São Paulo</td></tr><tr><td>51539073000197</td><td>EM FUNCIONAMENTO NORMAL</td><td>2023-07-24</td><td>null</td><td>1.952326898E7</td><td>51539073000197</td><td>SP</td><td>GERIZIM FUNDO DE INVESTIMENTO EM DIREITOS CREDITORIOS NAO PADRONIZADOS</td><td>SP</td><td>São Paulo</td></tr><tr><td>36443587000150</td><td>EM FUNCIONAMENTO NORMAL</td><td>2020-03-09</td><td>3.0</td><td>2.128071543E7</td><td>36443587000150</td><td>MG</td><td>INTER ACCESS LEGACY CAPITAL FUNDO DE INVESTIMENTO EM COTAS DE FUNDO DE INVESTIMENTO FINANCEIRO MULTI</td><td>MG</td><td>Minas Gerais</td></tr><tr><td>09284554000132</td><td>EM FUNCIONAMENTO NORMAL</td><td>2008-05-29</td><td>0.12</td><td>1.9105776934E8</td><td>09284554000132</td><td>SP</td><td>MAPFRE RESERVAS CLASSE DE INVESTIMENTO RENDA FIXA - RESPONSABILIDADE LIMITADA</td><td>SP</td><td>São Paulo</td></tr><tr><td>50995214000113</td><td>EM FUNCIONAMENTO NORMAL</td><td>2023-06-09</td><td>null</td><td>9.75194172E7</td><td>50995214000113</td><td>SP</td><td>ORION FUNDO DE INVESTIMENTO EM DIREITOS CREDITORIOS RESPONDABILIDADE LIMITADA</td><td>SP</td><td>São Paulo</td></tr><tr><td>07657641000162</td><td>EM FUNCIONAMENTO NORMAL</td><td>2008-06-10</td><td>0.7</td><td>4572264.72</td><td>07657641000162</td><td>SP</td><td>BNP PARIBAS ACCESS DISRUPTIVE TECHNOLOGY CLASSE DE INVESTIMENTO EM ACOES - RESPONSABILIDADE LIMITADA</td><td>SP</td><td>São Paulo</td></tr><tr><td>42294971000131</td><td>EM FUNCIONAMENTO NORMAL</td><td>2021-07-02</td><td>8.0</td><td>2.0979385268E8</td><td>42294971000131</td><td>MG</td><td>INTER INFRA FC DE FIF INCENTIV DE INVEST EM INFRA RENDA FIXA CRED PRIV RESP LIMITADA</td><td>MG</td><td>Minas Gerais</td></tr><tr><td>42691990000100</td><td>EM FUNCIONAMENTO NORMAL</td><td>2022-02-01</td><td>null</td><td>2.844502902E7</td><td>42691990000100</td><td>MG</td><td>INTER DIVIDENDOS FUNDO DE INVESTIMENTO FINANCEIRO EM ACOES RESPONSABILIDADE LIMITADA</td><td>MG</td><td>Minas Gerais</td></tr><tr><td>49920326000126</td><td>EM FUNCIONAMENTO NORMAL</td><td>2023-03-13</td><td>null</td><td>1.9054992806E8</td><td>49920326000126</td><td>SP</td><td>BDR KYIV FUNDO DE INVESTIMENTO EM DIREITOS CREDITORIOS - FIDC</td><td>SP</td><td>São Paulo</td></tr><tr><td>51295092000115</td><td>EM FUNCIONAMENTO NORMAL</td><td>2023-07-04</td><td>null</td><td>2367149.05</td><td>51295092000115</td><td>SP</td><td>LEGATUM FUNDO DE INVESTIMENTO IMOBILIARIO RESPONSABILIDADE LIMITADA</td><td>SP</td><td>São Paulo</td></tr><tr><td>34509036000117</td><td>EM FUNCIONAMENTO NORMAL</td><td>2019-09-16</td><td>null</td><td>4.0174206574E8</td><td>34509036000117</td><td>SP</td><td>MAKALU BRASIL PARTNERS I J FIP MULTIESTRATEGIA INVESTIMENTO NO EXTERIOR RESPONSABILIDADE LIMITADA</td><td>SP</td><td>São Paulo</td></tr><tr><td>52317938000133</td><td>EM FUNCIONAMENTO NORMAL</td><td>2023-09-26</td><td>null</td><td>3257185.51</td><td>52317938000133</td><td>SP</td><td>SZLEZ FUNDO DE INVESTIMENTO MULTIMERCADO RESPONSABILIDADE LIMITADA CREDITO PRIVADO IE</td><td>SP</td><td>São Paulo</td></tr><tr><td>30687646000150</td><td>EM FUNCIONAMENTO NORMAL</td><td>2018-12-05</td><td>null</td><td>4.404450632E7</td><td>30687646000150</td><td>SP</td><td>ELIPSE II FUNDO DE INVESTIMENTO EM PARTICIPACOES</td><td>SP</td><td>São Paulo</td></tr><tr><td>01964775000140</td><td>EM FUNCIONAMENTO NORMAL</td><td>1997-06-11</td><td>null</td><td>1484965.19</td><td>01964775000140</td><td>SP</td><td>FUNDO DE INVESTIMENTO IMOBILIARIO GEO GUARARAPES</td><td>SP</td><td>São Paulo</td></tr><tr><td>47463511000103</td><td>EM FUNCIONAMENTO NORMAL</td><td>2022-12-09</td><td>null</td><td>4402769.94</td><td>47463511000103</td><td>SP</td><td>EP FUNDO DE INVESTIMENTO EM PARTICIPACOES MULTIESTRATEGIA RESPONSABILIDADE LIMITADA</td><td>SP</td><td>São Paulo</td></tr><tr><td>51033013000106</td><td>EM FUNCIONAMENTO NORMAL</td><td>2023-06-13</td><td>null</td><td>4224343.58</td><td>51033013000106</td><td>SP</td><td>SILVERBAY CAPITAL FUNDO DE INVESTIMENTO EM PARTICIPACOES MULTIESTRATEGIA</td><td>SP</td><td>São Paulo</td></tr><tr><td>06537068000190</td><td>EM FUNCIONAMENTO NORMAL</td><td>2004-08-02</td><td>null</td><td>1260.7</td><td>06537068000190</td><td>PA</td><td>AMAZONIA CREDIT 90 - FUNDO DE APLICACAO EM QUOTAS DE FUNDOS DE INVESTIMENTO</td><td>PA</td><td>Pará</td></tr><tr><td>33361798000156</td><td>EM FUNCIONAMENTO NORMAL</td><td>2019-06-18</td><td>0.8</td><td>7575485.02</td><td>33361798000156</td><td>SP</td><td>BLACKROCK GLOBAL BOND INCOME CLASSE DE INVESTIMENTO EM CIC MULTIMERCADO - RESPONSABILIDADE LIMITADA</td><td>SP</td><td>São Paulo</td></tr><tr><td>44428806000150</td><td>EM FUNCIONAMENTO NORMAL</td><td>2022-09-25</td><td>null</td><td>1.2377297921E8</td><td>44428806000150</td><td>SP</td><td>JIVE DISTRESSED & SPECIAL SITS IV STRATEGIC PARTNERS FIC DE FIF MULTI - CP RESPONSABILIDADE LIMITADA</td><td>SP</td><td>São Paulo</td></tr><tr><td>35686949000171</td><td>EM FUNCIONAMENTO NORMAL</td><td>2019-12-19</td><td>null</td><td>1.959861874E7</td><td>35686949000171</td><td>SP</td><td>GREEN WAY I FUNDO DE INVESTIMENTO EM DIREITOS CREDITORIOS NAO PADRONIZADOS</td><td>SP</td><td>São Paulo</td></tr><tr><td>20378135000100</td><td>EM FUNCIONAMENTO NORMAL</td><td>2014-08-06</td><td>0.17</td><td>1831833.56</td><td>20378135000100</td><td>SP</td><td>AX EQUILIBRIUM FI EM COTAS DE FUNDOS DE INVESTIMENTO MULTIMERCADO CREDITO PRIVADO</td><td>SP</td><td>São Paulo</td></tr><tr><td>42692399000169</td><td>EM FUNCIONAMENTO NORMAL</td><td>2022-05-24</td><td>null</td><td>1.0249049754E8</td><td>42692399000169</td><td>MG</td><td>INTER AMERRA FIAGRO FUNDO DE INVESTIMENTO IMOBILIARIO RESPONSABILIDADE LIMITADA</td><td>MG</td><td>Minas Gerais</td></tr><tr><td>44870636000160</td><td>EM FUNCIONAMENTO NORMAL</td><td>2022-04-22</td><td>null</td><td>1.5165212125E8</td><td>44870636000160</td><td>SP</td><td>CAATINGA CAPITAL FUNDO DE INVESTIMENTO EM PARTICIPACOES EM EMPRESAS EMERGENTES</td><td>SP</td><td>São Paulo</td></tr><tr><td>43619349000119</td><td>EM FUNCIONAMENTO NORMAL</td><td>2021-10-25</td><td>null</td><td>1.2222365812E8</td><td>43619349000119</td><td>SP</td><td>BR PARTNERS PET FUNDO DE INVESTIMENTO EM PARTICIPACOES MULTIESTRATEGIA</td><td>SP</td><td>São Paulo</td></tr><tr><td>49651212000128</td><td>EM FUNCIONAMENTO NORMAL</td><td>2023-02-17</td><td>null</td><td>4.30252098E7</td><td>49651212000128</td><td>SP</td><td>BAY SIDNEY FUNDO DE INVESTIMENTO MULTIMERCADO CREDITO PRIVADO INVESTIMENTO NO EXTERIOR</td><td>SP</td><td>São Paulo</td></tr><tr><td>52116361000100</td><td>EM FUNCIONAMENTO NORMAL</td><td>2023-09-08</td><td>null</td><td>4.898758673E7</td><td>52116361000100</td><td>SP</td><td>NU IBOV SMART DIVIDENDOS CLASSE DE INDICE - RESPONSABILIDADE LIMITADA</td><td>SP</td><td>São Paulo</td></tr><tr><td>13451738000117</td><td>EM FUNCIONAMENTO NORMAL</td><td>2011-02-28</td><td>null</td><td>2.266803318E7</td><td>13451738000117</td><td>SP</td><td>CLASSE DE INVESTIMENTO EM COTAS DE FIP PATRIA PRIVATE EQUITY IV - RESP LIMITADA</td><td>SP</td><td>São Paulo</td></tr><tr><td>48900133000140</td><td>EM FUNCIONAMENTO NORMAL</td><td>2022-12-15</td><td>null</td><td>5.9156535139E8</td><td>48900133000140</td><td>SP</td><td>PCS II FEEDER BRASIL FUNDO DE INVESTIMENTO EM PARTICIPACOES</td><td>SP</td><td>São Paulo</td></tr><tr><td>46334681000125</td><td>EM FUNCIONAMENTO NORMAL</td><td>2022-07-21</td><td>null</td><td>1.049761399E7</td><td>46334681000125</td><td>SP</td><td>SULAMERICA PRESTIGE XP SEG PREV FIF RENDA FIXA RESPONSABILIDADE LIMITADA</td><td>SP</td><td>São Paulo</td></tr><tr><td>52356865000199</td><td>EM FUNCIONAMENTO NORMAL</td><td>2023-09-28</td><td>null</td><td>1.23030823E7</td><td>52356865000199</td><td>SP</td><td>ATLAS FUNDO DE INVESTIMENTO IMOBILIARIO RESPONSABILIDADE LIMITADA</td><td>SP</td><td>São Paulo</td></tr><tr><td>29315243000109</td><td>EM FUNCIONAMENTO NORMAL</td><td>2019-03-18</td><td>2.0</td><td>9.0170094276E8</td><td>29315243000109</td><td>SP</td><td>ESTOCOLMO FUNDO DE INVESTIMENTO MULTIMERCADO CREDITO PRIVADO</td><td>SP</td><td>São Paulo</td></tr><tr><td>47984249000142</td><td>EM FUNCIONAMENTO NORMAL</td><td>2022-11-30</td><td>null</td><td>3676461.59</td><td>47984249000142</td><td>SP</td><td>SAM 3 FUNDO DE INVESTIMENTO MULTIMERCADO CREDITO PRIVADO RESPONSABILIDADE LIMITADA</td><td>SP</td><td>São Paulo</td></tr><tr><td>29843196000168</td><td>EM FUNCIONAMENTO NORMAL</td><td>2018-03-19</td><td>null</td><td>1.219411721E7</td><td>29843196000168</td><td>SP</td><td>FUNDO DE INVESTIMENTO EM PARTICIPACOES MULTIESTRATEGIA INOVACAO E TECNOLOGIA - RESP LIMITADA</td><td>SP</td><td>São Paulo</td></tr><tr><td>21596006000143</td><td>EM FUNCIONAMENTO NORMAL</td><td>2015-01-19</td><td>0.12</td><td>2.4057585479E8</td><td>21596006000143</td><td>SP</td><td>MAPFRE HEDGE IGPM PREV CLASSE DE INVESTIMENTO EM CLASSES DE INVESTIMENTO DE RF - RESP LIMITADA</td><td>SP</td><td>São Paulo</td></tr><tr><td>42700668000191</td><td>EM FUNCIONAMENTO NORMAL</td><td>2021-11-29</td><td>null</td><td>6.589757045E7</td><td>42700668000191</td><td>RJ</td><td>GRAND - FUNDO DE INVESTIMENTO EM DIREITOS CREDITORIOS NAO PADRONIZADOS RESPONSABILIDADE LIMITADA</td><td>RJ</td><td>Rio de Janeiro</td></tr><tr><td>52174102000127</td><td>EM FUNCIONAMENTO NORMAL</td><td>2023-09-13</td><td>null</td><td>2.6102811665E8</td><td>52174102000127</td><td>SP</td><td>BYX CONSIGNADO MULTICONVENIOS FUNDO DE INVESTIMENTO EM DIREITOS CREDITORIOS RESP LIMITADA</td><td>SP</td><td>São Paulo</td></tr><tr><td>47372648000152</td><td>EM FUNCIONAMENTO NORMAL</td><td>2022-08-30</td><td>null</td><td>2671425.13</td><td>47372648000152</td><td>SP</td><td>PLN PAR - FUNDO DE INVESTIMENTO MULTIMERCADO CREDITO PRIVADO</td><td>SP</td><td>São Paulo</td></tr><tr><td>43106870000152</td><td>EM FUNCIONAMENTO NORMAL</td><td>2022-04-19</td><td>null</td><td>6.917985972E7</td><td>43106870000152</td><td>SP</td><td>SALTO BOTELHO AGROENERGIA FUNDO DE INVESTIMENTO EM PARTICIPACOES MULTI -RESPONSABILIDADE LIMITADA</td><td>SP</td><td>São Paulo</td></tr><tr><td>12124044000102</td><td>EM FUNCIONAMENTO NORMAL</td><td>2010-08-26</td><td>1.5</td><td>5.5395629203E8</td><td>12124044000102</td><td>SP</td><td>MAPFRE HEDGE PREV CLASSE DE INVESTIMENTO RENDA FIXA - RESPONSABILIDADE LIMITADA</td><td>SP</td><td>São Paulo</td></tr><tr><td>41081374000166</td><td>EM FUNCIONAMENTO NORMAL</td><td>2021-03-23</td><td>null</td><td>1.9196809526E8</td><td>41081374000166</td><td>SP</td><td>VINCI CREDIT SECURITIES FUNDO DE INVESTIMENTO IMOBILIARIO - RESPONSABILIDADE LIMITADA</td><td>SP</td><td>São Paulo</td></tr><tr><td>28850140000178</td><td>EM FUNCIONAMENTO NORMAL</td><td>2017-10-16</td><td>null</td><td>2.140063824E7</td><td>28850140000178</td><td>SP</td><td>FUNDO DE FINANCIAMENTO DA INDUSTRIA CINEMATROGRAFICA NACIONAL - FUNCINE - TIM</td><td>SP</td><td>São Paulo</td></tr><tr><td>14167550000104</td><td>EM FUNCIONAMENTO NORMAL</td><td>2012-05-11</td><td>0.0</td><td>6.28676712E7</td><td>14167550000104</td><td>SP</td><td>BNP PARIBAS MASTER IBRX CLASSE DE INVESTIMENTO EM ACOES RESPONSABILIDADE LIMITADA</td><td>SP</td><td>São Paulo</td></tr><tr><td>39581746000171</td><td>EM FUNCIONAMENTO NORMAL</td><td>2020-11-30</td><td>null</td><td>5.0317439628E8</td><td>39581746000171</td><td>SP</td><td>EIGER BRASIL PARTNERS I O FUNDO DE INVESTIMENTO EM PARTICIPACOES MULTIESTRATEGIA IE RESP LIMITADA</td><td>SP</td><td>São Paulo</td></tr><tr><td>49592781000140</td><td>EM FUNCIONAMENTO NORMAL</td><td>2023-02-14</td><td>null</td><td>3.469227758E8</td><td>49592781000140</td><td>RJ</td><td>BLUECAP LOG FUNDO DE INVESTIMENTO IMOBILIARIO</td><td>RJ</td><td>Rio de Janeiro</td></tr><tr><td>48964604000184</td><td>EM FUNCIONAMENTO NORMAL</td><td>2022-12-22</td><td>null</td><td>1293504.85</td><td>48964604000184</td><td>SP</td><td>GRIFFIN FUNDO DE INVESTIMENTO IMOBILIARIO</td><td>SP</td><td>São Paulo</td></tr><tr><td>39447231000183</td><td>EM FUNCIONAMENTO NORMAL</td><td>2021-11-26</td><td>null</td><td>5200416.53</td><td>39447231000183</td><td>SP</td><td>MONTE CARLO FUNDO DE INVESTIMENTO EM PARTICIPACOES CAPITAL-SEMENTE RESPONSABILIDADE LIMITADA</td><td>SP</td><td>São Paulo</td></tr><tr><td>16617593000170</td><td>EM FUNCIONAMENTO NORMAL</td><td>2012-08-02</td><td>2.5</td><td>1033528.17</td><td>16617593000170</td><td>SP</td><td>BBT ACOES FUNDO DE INVESTIMENTO FINANCEIRO</td><td>SP</td><td>São Paulo</td></tr><tr><td>27486551000163</td><td>EM FUNCIONAMENTO NORMAL</td><td>2017-06-02</td><td>null</td><td>604067.12</td><td>27486551000163</td><td>SP</td><td>KILIMANJARO BRASIL PARTNERS I B - FUNDO DE INVESTIMENTO EM PARTICIPACOES MULTIESTRATEGIA IE RESP LIM</td><td>SP</td><td>São Paulo</td></tr><tr><td>50963249000170</td><td>EM FUNCIONAMENTO NORMAL</td><td>2023-06-06</td><td>null</td><td>1.0079293942E8</td><td>50963249000170</td><td>SP</td><td>BOREAL I FUNDO DE INVESTIMENTO EM DIREITOS CREDITORIOS COMERCIAL - RESPONSABILIDADE LIMITADA</td><td>SP</td><td>São Paulo</td></tr><tr><td>29983516000185</td><td>EM FUNCIONAMENTO NORMAL</td><td>2020-01-08</td><td>1.2</td><td>7.078584772E7</td><td>29983516000185</td><td>SP</td><td>CLASSE UNICA DO WESTERN ASSET FI FINANCEIRO INCENTIVADO EM DEBENTURES DE INFRA RF CP RESP LIMITADA</td><td>SP</td><td>São Paulo</td></tr><tr><td>48993165000138</td><td>EM FUNCIONAMENTO NORMAL</td><td>2022-12-28</td><td>0.0</td><td>5.34157357E7</td><td>48993165000138</td><td>SP</td><td>LAB OITO FUNDO DE INVESTIMENTO MULTIMERCADO CREDITO PRIVADO</td><td>SP</td><td>São Paulo</td></tr><tr><td>20879578000177</td><td>EM FUNCIONAMENTO NORMAL</td><td>2015-01-07</td><td>0.5</td><td>1.36919468676E9</td><td>20879578000177</td><td>MG</td><td>INTER CONSERVADOR FUNDO DE INVESTIMENTO FINANCEIRO RENDA FIXA CREDITO PRIVADO RESP LIMITADA</td><td>MG</td><td>Minas Gerais</td></tr><tr><td>43721652000128</td><td>EM FUNCIONAMENTO NORMAL</td><td>2022-03-31</td><td>null</td><td>3.0567678483E8</td><td>43721652000128</td><td>SP</td><td>TELECOM BANK I FUNDO DE INVESTIMENTO EM DIREITOS CREDITORIOS RESPONSABILIDADE LIMITADA</td><td>SP</td><td>São Paulo</td></tr><tr><td>34617291000183</td><td>EM FUNCIONAMENTO NORMAL</td><td>2019-09-11</td><td>855.0</td><td>5018082.48</td><td>34617291000183</td><td>MG</td><td>INTER SELECTION MACRO FC DE FUNDO DE INVESTIMENTO FINANCEIRO MULTIMERCADO RESPONSABILIDADE LIMITADA</td><td>MG</td><td>Minas Gerais</td></tr><tr><td>46929959000107</td><td>EM FUNCIONAMENTO NORMAL</td><td>2022-10-31</td><td>null</td><td>7.261654725E7</td><td>46929959000107</td><td>SP</td><td>BUCAREST BANCO FUNDO DE INVESTIMENTO EM DIREITOS CREDITORIOS INDUSTRIAL - RESPONSABILIDADE LIMITADA</td><td>SP</td><td>São Paulo</td></tr><tr><td>26862104000107</td><td>EM FUNCIONAMENTO NORMAL</td><td>2017-03-07</td><td>5.0</td><td>1.055678005E7</td><td>26862104000107</td><td>MG</td><td>GUIA FUNDO DE INVESTIMENTO FINANCEIRO EM ACOES</td><td>MG</td><td>Minas Gerais</td></tr><tr><td>46729394000114</td><td>EM FUNCIONAMENTO NORMAL</td><td>2022-07-04</td><td>5.0</td><td>3716137.24</td><td>46729394000114</td><td>MG</td><td>INTER LOVER FUNDO DE INVESTIMENTO FINANCEIRO MULTIMERCADO RESPONSABILIDADE LIMITADA</td><td>MG</td><td>Minas Gerais</td></tr><tr><td>32140484000160</td><td>EM FUNCIONAMENTO NORMAL</td><td>2019-02-22</td><td>null</td><td>5.832228657E8</td><td>32140484000160</td><td>SP</td><td>PSS PRINCIPAL FUNDO DE INVESTIMENTO EM PARTICIPACOES</td><td>SP</td><td>São Paulo</td></tr><tr><td>21613190000192</td><td>EM FUNCIONAMENTO NORMAL</td><td>2015-01-07</td><td>null</td><td>6.0198639572E8</td><td>21613190000192</td><td>SP</td><td>FUNDO DE INVESTIMENTO EM PARTICIPACOES PANAMBY HOTEIS - MULTIESTRATEGIA RESPONSABILIDADE LIMITADA</td><td>SP</td><td>São Paulo</td></tr><tr><td>42627796000157</td><td>EM FUNCIONAMENTO NORMAL</td><td>2021-09-17</td><td>null</td><td>3.3835810627E8</td><td>42627796000157</td><td>SP</td><td>EUV SP 2 FUNDO DE INVESTIMENTO EM PARTICIPACOES MULTIESTRATEGIA</td><td>SP</td><td>São Paulo</td></tr><tr><td>33033191000147</td><td>EM FUNCIONAMENTO NORMAL</td><td>2019-12-17</td><td>0.8816</td><td>8.992570721E7</td><td>33033191000147</td><td>RJ</td><td>KATCH FUNDO DE INVESTIMENTO MULTIMERCADO CREDITO PRIVADO</td><td>RJ</td><td>Rio de Janeiro</td></tr><tr><td>14171578000115</td><td>EM FUNCIONAMENTO NORMAL</td><td>2012-06-27</td><td>0.0</td><td>4.8652616313E8</td><td>14171578000115</td><td>RJ</td><td>OURO PRETO FUNDO DE INVESTIMENTO EM COTAS DE FUNDOS DE INVESTIMENTO MULTIMERCADO CREDITO PRIVADO</td><td>RJ</td><td>Rio de Janeiro</td></tr><tr><td>15018580000111</td><td>EM FUNCIONAMENTO NORMAL</td><td>2012-03-23</td><td>null</td><td>1.66052551369E9</td><td>15018580000111</td><td>SP</td><td>GLP INVESTIMENTOS FUNDO DE INVESTIMENTO EM PARTICIPACOES MULTIESTRATEGIA</td><td>SP</td><td>São Paulo</td></tr><tr><td>45018608000181</td><td>EM FUNCIONAMENTO NORMAL</td><td>2022-05-06</td><td>0.5</td><td>5.629107289E7</td><td>45018608000181</td><td>SP</td><td>BNP PARIBAS SIGMA INSTITUCIONAL CLASSE DE INVESTIMENTO DE RENDA FIXA LONGO PRAZO - RESP LIMITADA</td><td>SP</td><td>São Paulo</td></tr><tr><td>50443649000155</td><td>EM FUNCIONAMENTO NORMAL</td><td>2023-04-25</td><td>null</td><td>2.0747074698E8</td><td>50443649000155</td><td>RJ</td><td>PRINZ DISCOVERY CREDITO ESTRUTURADO FUNDO DE INVESTIMENTO EM COTAS DE DIREITOS CREDITORIOS</td><td>RJ</td><td>Rio de Janeiro</td></tr><tr><td>41922654000150</td><td>EM FUNCIONAMENTO NORMAL</td><td>2021-05-18</td><td>null</td><td>6379347.37</td><td>41922654000150</td><td>SP</td><td>VC NETWORK FUNDO DE INVESTIMENTO EM PARTICIPACOES MULTIESTRATEGIA - INVESTIMENTO NO EXTERIOR</td><td>SP</td><td>São Paulo</td></tr><tr><td>11147668000182</td><td>EM FUNCIONAMENTO NORMAL</td><td>2010-06-16</td><td>0.7</td><td>1.8697626529E8</td><td>11147668000182</td><td>SP</td><td>BNP PARIBAS ACCESS USA COMPANIES CLASSE DE INVESTIMENTO EM ACOES - RESPONSABILIDADE LIMITADA</td><td>SP</td><td>São Paulo</td></tr><tr><td>52349539000154</td><td>EM FUNCIONAMENTO NORMAL</td><td>2023-09-28</td><td>null</td><td>1.994651913E7</td><td>52349539000154</td><td>SP</td><td>Z5 FUNDO DE INVESTIMENTO EM DIREITOS CREDITORIOS MULTISSETORIAL - RESPONSABILIDADE LIMITADA</td><td>SP</td><td>São Paulo</td></tr><tr><td>21185984000100</td><td>EM FUNCIONAMENTO NORMAL</td><td>2014-12-30</td><td>0.4</td><td>2.44843751283E9</td><td>21185984000100</td><td>SP</td><td>BNP PARIBAS RUBI CIC DE CLASSE DE INVESTIMENTO RENDA FIXA CREDITO PRIVADO RESPONSABILIDADE LIMITADA</td><td>SP</td><td>São Paulo</td></tr><tr><td>09087301000179</td><td>EM FUNCIONAMENTO NORMAL</td><td>2010-05-25</td><td>0.5</td><td>1.0942306922E8</td><td>09087301000179</td><td>SP</td><td>CLASSE UNICA DO WESTERN ASSET IMA-B ATIVO FI FINANCEIRO RF RESPONSABILIDADE LIMITADA</td><td>SP</td><td>São Paulo</td></tr><tr><td>48513136000121</td><td>EM FUNCIONAMENTO NORMAL</td><td>2022-11-18</td><td>null</td><td>1.384308465E7</td><td>48513136000121</td><td>SP</td><td>GALGA FUNDO DE INVESTIMENTO EM DIREITOS CREDITORIOS-RESPONSABILIDADE LIMITADA</td><td>SP</td><td>São Paulo</td></tr><tr><td>44603407000189</td><td>EM FUNCIONAMENTO NORMAL</td><td>2021-12-22</td><td>null</td><td>3.501937318E7</td><td>44603407000189</td><td>SP</td><td>PETRONIA ENERGIA DESENVOLVIMENTO I FIP MULTIESTRATEGIA - RESPONSABILIDADE LIMITADA</td><td>SP</td><td>São Paulo</td></tr><tr><td>52116337000162</td><td>EM FUNCIONAMENTO NORMAL</td><td>2023-09-08</td><td>null</td><td>8.472435318E7</td><td>52116337000162</td><td>SP</td><td>NU RENDA IBOV SMART DIVIDENDOS CLASSE DE INDICE - RESPONSABILIDADE LIMITADA</td><td>SP</td><td>São Paulo</td></tr><tr><td>02539921000152</td><td>EM FUNCIONAMENTO NORMAL</td><td>2005-03-22</td><td>0.52</td><td>1.7849735231E8</td><td>02539921000152</td><td>SP</td><td>BNP PARIBAS RF CLASSE DE INVESTIMENTO DE RENDA FIXA - RESPONSABILIDADE LIMITADA</td><td>SP</td><td>São Paulo</td></tr><tr><td>44680491000134</td><td>EM FUNCIONAMENTO NORMAL</td><td>2022-01-03</td><td>null</td><td>4.2076959083E8</td><td>44680491000134</td><td>SP</td><td>GALAXY FUNDO DE INVESTIMENTO EM COTAS DE FUNDOS DE INVESTIMENTO MULTIMERCADO - CREDITO PRIVADO</td><td>SP</td><td>São Paulo</td></tr><tr><td>47279999000113</td><td>EM FUNCIONAMENTO NORMAL</td><td>2022-12-09</td><td>null</td><td>6010936.16</td><td>47279999000113</td><td>SP</td><td>DAYCOVAL D408 FUNDO DE INVESTIMENTO MULTIMERCADO</td><td>SP</td><td>São Paulo</td></tr><tr><td>41579637000161</td><td>EM FUNCIONAMENTO NORMAL</td><td>2021-12-07</td><td>null</td><td>1.7672430245E8</td><td>41579637000161</td><td>SP</td><td>MGW ATIVOS FUNDO DE INVESTIMENTO EM DIREITOS CREDITORIOS RESPONSABILIDADE LIMITADA</td><td>SP</td><td>São Paulo</td></tr><tr><td>48992508000140</td><td>EM FUNCIONAMENTO NORMAL</td><td>2022-12-28</td><td>null</td><td>1.149394909E7</td><td>48992508000140</td><td>SP</td><td>SUZUKA FUNDO DE INVESTIMENTO EM PARTICIPACOES MULTIESTRATEGIA RESPONSABILIDADE LIMITADA</td><td>SP</td><td>São Paulo</td></tr><tr><td>35725626000140</td><td>EM FUNCIONAMENTO NORMAL</td><td>2020-03-06</td><td>null</td><td>5.13615446257E9</td><td>35725626000140</td><td>SP</td><td>PSS ENERGY FUNDO DE INVESTIMENTO EM PARTICIPACOES</td><td>SP</td><td>São Paulo</td></tr><tr><td>33498764000108</td><td>EM FUNCIONAMENTO NORMAL</td><td>2020-05-26</td><td>null</td><td>1.465456113E7</td><td>33498764000108</td><td>SP</td><td>BRAFIC FUNDO DE INVESTIMENTO EM DIREITOS CREDITORIOS NAO-PADRONIZADOS RESPONSABILIDADE LIMITADA</td><td>SP</td><td>São Paulo</td></tr><tr><td>37806055000101</td><td>EM FUNCIONAMENTO NORMAL</td><td>2020-08-20</td><td>0.0</td><td>2.9483089257E8</td><td>37806055000101</td><td>RJ</td><td>EVEREST HIGH YIELD FUNDO DE INVESTIMENTO EM COTAS DE FUNDOS DE INVESTIMENTO MULTIMERCADO CREDITO PRIVADO E1</td><td>RJ</td><td>Rio de Janeiro</td></tr><tr><td>36293425000183</td><td>EM FUNCIONAMENTO NORMAL</td><td>2020-02-19</td><td>null</td><td>6.693652613E7</td><td>36293425000183</td><td>MG</td><td>INTER TEVA INDICE DE TIJOLO FUNDO DE INVESTIMENTO IMOBILIARIO FII RESPONSABILIDADE LIMITADA</td><td>MG</td><td>Minas Gerais</td></tr><tr><td>49914023000109</td><td>EM FUNCIONAMENTO NORMAL</td><td>2023-03-13</td><td>0.0</td><td>1.6773497207E8</td><td>49914023000109</td><td>SP</td><td>BULLLA FUNDO DE INVESTIMENTO MULTIMERCADO CREDITO PRIVADO</td><td>SP</td><td>São Paulo</td></tr><tr><td>08621199000187</td><td>EM FUNCIONAMENTO NORMAL</td><td>2016-01-04</td><td>null</td><td>1.6182787373E8</td><td>08621199000187</td><td>SP</td><td>FAMCRED FUNDO DE INVESTIMENTO EM DIREITOS CREDITORIOS NAO-PADRONIZADOS RESPONSABILIDADE LIMITADA</td><td>SP</td><td>São Paulo</td></tr><tr><td>29323865000170</td><td>EM FUNCIONAMENTO NORMAL</td><td>2018-01-17</td><td>null</td><td>6.6743624658E8</td><td>29323865000170</td><td>SP</td><td>BRAZIL FITNESS INVESTORS - FIP MULTIESTRATEGIA INVESTIMENTO NO EXTERIOR RESP LIMITADA</td><td>SP</td><td>São Paulo</td></tr><tr><td>17453850000148</td><td>EM FUNCIONAMENTO NORMAL</td><td>2013-04-17</td><td>1.0</td><td>1.19317094599E9</td><td>17453850000148</td><td>SP</td><td>WESTERN ASSET US INDEX 500 FUNDODE INVESTIMENTO FINANCEIRO MULTIMERCADO - RESPONSABILIDADE LIMITADA</td><td>SP</td><td>São Paulo</td></tr><tr><td>09636393000107</td><td>EM FUNCIONAMENTO NORMAL</td><td>2008-09-03</td><td>0.35</td><td>8.39063605223E9</td><td>09636393000107</td><td>SP</td><td>BNP PARIBAS MATCH CLASSE DE INVESTIMENTO DE RENDA FIXA REFERENCIADA DI CP RESPONSABILIDADE LIMITADA</td><td>SP</td><td>São Paulo</td></tr><tr><td>11283444000106</td><td>EM FUNCIONAMENTO NORMAL</td><td>2009-11-27</td><td>null</td><td>3.6677454088E8</td><td>11283444000106</td><td>SP</td><td>NOVA PARTICIPACOES - FUNDO DE INVESTIMENTO EM PARTICIPACOES MULTIESTRATEGIA</td><td>SP</td><td>São Paulo</td></tr><tr><td>45899588000103</td><td>EM FUNCIONAMENTO NORMAL</td><td>2022-08-03</td><td>null</td><td>1268242.73</td><td>45899588000103</td><td>SP</td><td>FIDUCIA FUNDO DE INVESTIMENTO EM DIREITOS CREDITORIOS NAO-PADRONIZADOS</td><td>SP</td><td>São Paulo</td></tr><tr><td>08771975000125</td><td>EM FUNCIONAMENTO NORMAL</td><td>2007-10-25</td><td>0.11</td><td>6.38548976912E9</td><td>08771975000125</td><td>SP</td><td>BNP PARIBAS PROPRIETARIO CLASSE DE INVESTIMENTO MULTIMERCADO CREDITO PRIVADO</td><td>SP</td><td>São Paulo</td></tr><tr><td>51777660000114</td><td>EM FUNCIONAMENTO NORMAL</td><td>2023-08-11</td><td>null</td><td>3.087888276E7</td><td>51777660000114</td><td>SP</td><td>ANZEN FUNDO DE INVESTIMENTO EM COTAS DE FUNDOS DE INVESTIMENTO MULTIMERCADO CREDITO PRIVADO</td><td>SP</td><td>São Paulo</td></tr><tr><td>45953169000102</td><td>EM FUNCIONAMENTO NORMAL</td><td>2022-05-02</td><td>0.0</td><td>4.505303154E7</td><td>45953169000102</td><td>RJ</td><td>ORAMA TEN FUNDO DE INVESTIMENTO EM ACOES</td><td>RJ</td><td>Rio de Janeiro</td></tr><tr><td>50071531000143</td><td>EM FUNCIONAMENTO NORMAL</td><td>2023-03-24</td><td>null</td><td>1.0044405434E8</td><td>50071531000143</td><td>SP</td><td>KMP GROWTH CAPITAL FUND II FUNDO DE INVESTIMENTO EM PARTICIPACOES MULTI - RESPONSABILIDADE LIMITADA</td><td>SP</td><td>São Paulo</td></tr><tr><td>45019040000113</td><td>EM FUNCIONAMENTO NORMAL</td><td>2022-02-14</td><td>null</td><td>6.581121408E7</td><td>45019040000113</td><td>SP</td><td>AFL INVEST FUNDO DE INVESTIMENTO EM DIREITOS CREDITORIOS NAO-PADRONIZADOS RESP LIMITADA</td><td>SP</td><td>São Paulo</td></tr><tr><td>32907653000145</td><td>EM FUNCIONAMENTO NORMAL</td><td>2019-11-26</td><td>null</td><td>2.372881091E7</td><td>32907653000145</td><td>SP</td><td>CROWN OCEAN CAPITAL IV FUNDO DE INVESTIMENTO EM DIREITOS CREDITORIOS NAO PADRONIZADOS</td><td>SP</td><td>São Paulo</td></tr><tr><td>49223648000116</td><td>EM FUNCIONAMENTO NORMAL</td><td>2023-01-17</td><td>null</td><td>0.0</td><td>49223648000116</td><td>SP</td><td>PHILADELPHIA FUNDO DE INVESTIMENTO EM DIREITOS CREDITORIOS NAOPADRONIZADOS RESPONSABILIDADE LIMITADA</td><td>SP</td><td>São Paulo</td></tr><tr><td>43508144000166</td><td>EM FUNCIONAMENTO NORMAL</td><td>2021-09-27</td><td>null</td><td>9.403083508E7</td><td>43508144000166</td><td>RJ</td><td>UJAY FUNDO DE INVESTIMENTO EM COTAS DE FUNDOS DE INVESTIMENTO MULTIMERCADO CREDITO PRIVADO 60</td><td>RJ</td><td>Rio de Janeiro</td></tr><tr><td>50750438000165</td><td>EM FUNCIONAMENTO NORMAL</td><td>2023-05-19</td><td>null</td><td>3.2397564865E8</td><td>50750438000165</td><td>RJ</td><td>RIZA DOMUS FUNDO DE INVESTIMENTO IMOBILIARIO</td><td>RJ</td><td>Rio de Janeiro</td></tr><tr><td>38249518000136</td><td>EM FUNCIONAMENTO NORMAL</td><td>2021-12-15</td><td>null</td><td>3.238012743E7</td><td>38249518000136</td><td>SP</td><td>MOGIANA FUNDO DE INVESTIMENTO EM PARTICIPACOES MULTIESTRATEGIA</td><td>SP</td><td>São Paulo</td></tr><tr><td>35580324000120</td><td>EM FUNCIONAMENTO NORMAL</td><td>2019-11-27</td><td>1.85</td><td>9.136176875E7</td><td>35580324000120</td><td>RJ</td><td>DAHLIA TOTAL RETURN CSHG II FI EM COTAS DE FI FINANCEIRO MULTIMERCADO RESPONSABILIDADE LIMITADA</td><td>RJ</td><td>Rio de Janeiro</td></tr><tr><td>14311936000148</td><td>EM FUNCIONAMENTO NORMAL</td><td>2011-09-23</td><td>null</td><td>5219076.0</td><td>14311936000148</td><td>SP</td><td>PATRIMONIAL BLUE - FUNDO DE INVESTIMENTO EM PARTICIPACOES MULTIESTRATEGIA</td><td>SP</td><td>São Paulo</td></tr><tr><td>07672392000184</td><td>EM FUNCIONAMENTO NORMAL</td><td>2006-02-01</td><td>2.0</td><td>1.02713548E7</td><td>07672392000184</td><td>SP</td><td>WESTERN ASSET LONG & SHORT FUNDODE INVESTIMENTO FINANCEIRO MULTIMERCADO - RESPONSABILIDADE LIMITADA</td><td>SP</td><td>São Paulo</td></tr><tr><td>35654738000157</td><td>EM FUNCIONAMENTO NORMAL</td><td>2021-08-02</td><td>null</td><td>2.0009135903E8</td><td>35654738000157</td><td>SP</td><td>RODOVIAS DO TIETE FUNDO DE INVESTIMENTO EM PARTICIPACOES EM INFRAESTRUTURA RESPONSABILIDADE LIMITADA</td><td>SP</td><td>São Paulo</td></tr><tr><td>39347413000182</td><td>EM FUNCIONAMENTO NORMAL</td><td>2020-10-09</td><td>null</td><td>1.1619008593E8</td><td>39347413000182</td><td>SP</td><td>FUNDO DE INVESTIMENTO IMOBILIARIO HOSPITAL UNIMED CAMPINA GRANDE</td><td>SP</td><td>São Paulo</td></tr><tr><td>49995610000161</td><td>EM FUNCIONAMENTO NORMAL</td><td>2023-03-20</td><td>25.0</td><td>4.5087550965E8</td><td>49995610000161</td><td>MG</td><td>INTER INSTITUICOES FINANCEIRAS FUNDO DE INVESTIMENTO FINANCEIRO RENDA FIXA CRED PRIV RESP LIMITADA</td><td>MG</td><td>Minas Gerais</td></tr><tr><td>47372688000102</td><td>EM FUNCIONAMENTO NORMAL</td><td>2022-08-30</td><td>null</td><td>3361933.07</td><td>47372688000102</td><td>SP</td><td>PHX FUNDO DE INVESTIMENTO EM DIREITOS CREDITORIOS NAO-PADRONIZADOS RESPONSABILIDADE LIMITADA</td><td>SP</td><td>São Paulo</td></tr><tr><td>43122453000101</td><td>EM FUNCIONAMENTO NORMAL</td><td>2021-10-01</td><td>null</td><td>1.3764790992E8</td><td>43122453000101</td><td>SP</td><td>BLACKROCK BDR-EFT CLASSE DE INVESTIMENTO EM ACOES - RESPONSABILIDADE LIMITADA</td><td>SP</td><td>São Paulo</td></tr><tr><td>18579353000153</td><td>EM FUNCIONAMENTO NORMAL</td><td>2013-07-31</td><td>null</td><td>903374.56</td><td>18579353000153</td><td>SP</td><td>VESUVIUS LBO - FUNDO DE INVESTIMENTO EM PARTICIPACOES MULTIESTRATEGIA IE RESP LIMITADA</td><td>SP</td><td>São Paulo</td></tr><tr><td>18356327000166</td><td>EM FUNCIONAMENTO NORMAL</td><td>2013-11-18</td><td>null</td><td>234978.48</td><td>18356327000166</td><td>SP</td><td>INVESTIMENTOS FLORESTAIS FUNDO DE INVESTIMENTO EM PARTICIPACOES</td><td>SP</td><td>São Paulo</td></tr><tr><td>50943777000168</td><td>EM FUNCIONAMENTO NORMAL</td><td>2023-06-05</td><td>null</td><td>2.986653305E7</td><td>50943777000168</td><td>SP</td><td>BROWNFIELD FUNDO DE INVESTIMENTO EM DIREITOS CREDITORIOS RESPONSABILIDADE LIMITADA</td><td>SP</td><td>São Paulo</td></tr><tr><td>39540780000106</td><td>EM FUNCIONAMENTO NORMAL</td><td>2021-02-17</td><td>7.0</td><td>3.980750295E7</td><td>39540780000106</td><td>MG</td><td>INTER ACCESS VERDE FUNDO DE INVESTIMENTO EM COTAS DE FUNDO DE INVESTIMENTO FINANCEIRO MULTIMERCADO</td><td>MG</td><td>Minas Gerais</td></tr><tr><td>34598181000111</td><td>EM FUNCIONAMENTO NORMAL</td><td>2019-09-05</td><td>null</td><td>4.5200100067E8</td><td>34598181000111</td><td>MG</td><td>INTER LOGISTICO FUNDO DE INVESTIMENTO IMOBILIARIO FII RESPONSABILIDADE LIMITADA</td><td>MG</td><td>Minas Gerais</td></tr><tr><td>14769978000127</td><td>EM FUNCIONAMENTO NORMAL</td><td>2011-12-30</td><td>null</td><td>7.1379670563E8</td><td>14769978000127</td><td>SP</td><td>TELLES FUNDO DE INVESTIMENTO EM PARTICIPACOES - MULTIESTRATEGIA</td><td>SP</td><td>São Paulo</td></tr><tr><td>09110175000126</td><td>EM FUNCIONAMENTO NORMAL</td><td>2007-12-28</td><td>null</td><td>1186684.99</td><td>09110175000126</td><td>SP</td><td>BROOKFIELD BRAZIL TIMBER FUNDO DE INVESTIMENTO EM PARTICIPACOES</td><td>SP</td><td>São Paulo</td></tr><tr><td>49506998000190</td><td>EM FUNCIONAMENTO NORMAL</td><td>2023-02-07</td><td>0.3</td><td>2.70401677E7</td><td>49506998000190</td><td>MG</td><td>SUPREME I FUNDO DE INVESTIMENTO MULTIMERCADO CREDITO PRIVADO</td><td>MG</td><td>Minas Gerais</td></tr><tr><td>35137939000187</td><td>EM FUNCIONAMENTO NORMAL</td><td>2019-10-14</td><td>null</td><td>1.443323611E7</td><td>35137939000187</td><td>SP</td><td>MANASLU BRASIL PARTNERS I K FUNDO DE INVESTIMENTO EM PARTICIPACOES MULTIESTRATEGIA IE RESP LIMITADA</td><td>SP</td><td>São Paulo</td></tr><tr><td>45521649000196</td><td>EM FUNCIONAMENTO NORMAL</td><td>2022-06-21</td><td>null</td><td>2.304282834E8</td><td>45521649000196</td><td>SP</td><td>FIDC SINAI MACRO FUNDO DE INVESTIMENTO EM DIREITOS CREDITORIOS NAO PADRONIZADO RESP LIMITADA</td><td>SP</td><td>São Paulo</td></tr><tr><td>30282270000101</td><td>EM FUNCIONAMENTO NORMAL</td><td>2018-12-19</td><td>5.0E-4</td><td>6.26435857544E9</td><td>30282270000101</td><td>SP</td><td>CLASSE UNICA DO IMOLA FUNDO DE INVESTIMENTO EM COTAS FINANCEIRO MULTIMERCADO CREDITO PRIVADO LP</td><td>SP</td><td>São Paulo</td></tr><tr><td>17198500000182</td><td>EM FUNCIONAMENTO NORMAL</td><td>2012-12-13</td><td>null</td><td>1.6201099272E8</td><td>17198500000182</td><td>SP</td><td>SB FUNDO DE INVESTIMENTO NAS CADEIAS PRODUTIVAS AGROINDUSTRIAIS - FIAGRO - IMOBILIARIO</td><td>SP</td><td>São Paulo</td></tr><tr><td>48373428000106</td><td>EM FUNCIONAMENTO NORMAL</td><td>2022-12-09</td><td>null</td><td>5.447980275E7</td><td>48373428000106</td><td>SP</td><td>CIX PONTA NEGRA FUNDO DE INVESTIMENTO IMOBILIARIO RESPONSABILIDADE LIMITADA</td><td>SP</td><td>São Paulo</td></tr><tr><td>15437768000102</td><td>EM FUNCIONAMENTO NORMAL</td><td>2012-04-20</td><td>null</td><td>7.9155812445E8</td><td>15437768000102</td><td>SP</td><td>FUNDO DE INVESTIMENTO EM PARTICIPACOES RPEV1 BRAZIL MULTI IE RESPONSABILIDADE LIMITADA</td><td>SP</td><td>São Paulo</td></tr><tr><td>42656644000182</td><td>EM FUNCIONAMENTO NORMAL</td><td>2022-03-08</td><td>null</td><td>1.186271469E7</td><td>42656644000182</td><td>MG</td><td>IA CARTEIRA CREDITO FC DE FUNDO DE INVESTIMENTO FINANCEIRO MULT CRED PRIV RESPONSABILIDADE LIMITADA</td><td>MG</td><td>Minas Gerais</td></tr><tr><td>24372158000150</td><td>EM FUNCIONAMENTO NORMAL</td><td>2016-04-15</td><td>0.08</td><td>2.362694434E7</td><td>24372158000150</td><td>RJ</td><td>ARF SANTOS DUMONT FI EM COTAS DE FIF MULTIMERCADO CREDITO PRIVADO INVEST NO EXTERIOR - RESP LIMITADA</td><td>RJ</td><td>Rio de Janeiro</td></tr><tr><td>18448137000179</td><td>EM FUNCIONAMENTO NORMAL</td><td>2013-09-16</td><td>2.5</td><td>4269177.58</td><td>18448137000179</td><td>RS</td><td>GERAL DIVIDENDO FUNDO DE INVESTIMENTO EM ACOES - RESPONSABILIDADE LIMITADA</td><td>RS</td><td>Rio Grande do Sul</td></tr><tr><td>42357817000161</td><td>EM FUNCIONAMENTO NORMAL</td><td>2022-03-08</td><td>null</td><td>4.645220263E7</td><td>42357817000161</td><td>SP</td><td>CONCRETO FUNDO DE INVESTIMENTO EM DIREITOS CREDITORIOS NAO PADRONIZADOS RESP LIMITADA</td><td>SP</td><td>São Paulo</td></tr><tr><td>50197313000150</td><td>EM FUNCIONAMENTO NORMAL</td><td>2023-04-04</td><td>45.0</td><td>2.1369438278E8</td><td>50197313000150</td><td>MG</td><td>INTER BB FC DE FUNDO DE INVESTIMENTO FINANCEIRO RENDA FIXA LONGO PRAZO RESP LIMITADA</td><td>MG</td><td>Minas Gerais</td></tr><tr><td>50462226000182</td><td>EM FUNCIONAMENTO NORMAL</td><td>2023-04-26</td><td>null</td><td>4.470830981E7</td><td>50462226000182</td><td>SP</td><td>PENSILVANIA FUNDO DE INVESTIMENTO EM DIREITOS CREDITORIOS NAO-PADRONIZADOS RESPONSABILIDADE LIMITADA</td><td>SP</td><td>São Paulo</td></tr><tr><td>33913584000145</td><td>EM FUNCIONAMENTO NORMAL</td><td>2019-12-30</td><td>0.09</td><td>6876880.46</td><td>33913584000145</td><td>SP</td><td>DB III CLASSE DE INVESTIMENTO MULTIMERCADO INVESTIMENTO NO EXTERIOR CREDITO PRIVADO</td><td>SP</td><td>São Paulo</td></tr><tr><td>49429700000195</td><td>EM FUNCIONAMENTO NORMAL</td><td>2023-02-01</td><td>0.0</td><td>6.534461901E7</td><td>49429700000195</td><td>SP</td><td>SILVES FUNDO DE INVESTIMENTO MULTIMERCADO CREDITO PRIVADO</td><td>SP</td><td>São Paulo</td></tr><tr><td>44104852000102</td><td>EM FUNCIONAMENTO NORMAL</td><td>2022-06-21</td><td>5.0</td><td>8783097.76</td><td>44104852000102</td><td>MG</td><td>INTER INFLACAO CURTA FUNDO DE INVESTIMENTO FINANCEIRO RENDA FIXA RESPONSABILIDADE LIMITADA</td><td>MG</td><td>Minas Gerais</td></tr><tr><td>32222759000105</td><td>EM FUNCIONAMENTO NORMAL</td><td>2019-06-18</td><td>0.065</td><td>2.04240363E7</td><td>32222759000105</td><td>SP</td><td>BLACKROCK DYNAMIC HIGH INCOME MASTER CLASSE DE INVESTIMENTO MULTIMERCADO - RESP LIMITADA</td><td>SP</td><td>São Paulo</td></tr><tr><td>45018643000109</td><td>EM FUNCIONAMENTO NORMAL</td><td>2022-05-06</td><td>0.15</td><td>2.3769074663E8</td><td>45018643000109</td><td>SP</td><td>BNP PARIBAS PREMIUM MASTER INSTITUCIONAL RF ATIVO CIC DE CLASSES DE INVESTIMENTO RESP LIMITADA</td><td>SP</td><td>São Paulo</td></tr><tr><td>05090727000120</td><td>EM FUNCIONAMENTO NORMAL</td><td>2005-03-16</td><td>0.15</td><td>6.3507335068E8</td><td>05090727000120</td><td>SP</td><td>CLASSE UNICA DO WESTERN ASSET DI MAX RF REFERENCIADO FUNDO DE INVESTIMENTO FINANCEIRO RESP. LIMITADA</td><td>SP</td><td>São Paulo</td></tr><tr><td>36412972000130</td><td>EM FUNCIONAMENTO NORMAL</td><td>2020-09-10</td><td>null</td><td>5156801.75</td><td>36412972000130</td><td>SP</td><td>VKR FUNDO DE INVESTIMENTO EM DIREITOS CREDITORIOS RESPONSABILIDADE LIMITADA</td><td>SP</td><td>São Paulo</td></tr><tr><td>05104498000156</td><td>EM FUNCIONAMENTO NORMAL</td><td>2005-03-22</td><td>0.5</td><td>3.306740576E7</td><td>05104498000156</td><td>SP</td><td>BNP PARIBAS INFLACAO CI EM CLASSES DE INVESTIMENTO RENDA FIXA - RESPONSABILIDADE LIMITADA</td><td>SP</td><td>São Paulo</td></tr><tr><td>43236479000172</td><td>EM FUNCIONAMENTO NORMAL</td><td>2021-08-26</td><td>null</td><td>6553378.16</td><td>43236479000172</td><td>SP</td><td>ARIEN ENERGY VENTURES I FUNDO DE INVESTIMENTO EM PARTICIPACOES EM INFRAESTRUTURA RESP LIMITADA</td><td>SP</td><td>São Paulo</td></tr><tr><td>33354650000194</td><td>EM FUNCIONAMENTO NORMAL</td><td>2019-07-15</td><td>null</td><td>2.328381297E8</td><td>33354650000194</td><td>MG</td><td>FUNDO DE INVESTIMENTO IMOBILIARIO AVM FII RESPONSABILIDADE LIMITADA</td><td>MG</td><td>Minas Gerais</td></tr><tr><td>28320756000137</td><td>EM FUNCIONAMENTO NORMAL</td><td>2019-01-17</td><td>0.5</td><td>3.03561141071E9</td><td>28320756000137</td><td>SP</td><td>CLASSE UNICA DO WESTERN ASSET TOTAL CREDIT ADVISORY FI EM COTAS DE FI FINANCEIRO RF CP RESP. LTDA</td><td>SP</td><td>São Paulo</td></tr><tr><td>31963246000192</td><td>EM FUNCIONAMENTO NORMAL</td><td>2019-03-18</td><td>2.0</td><td>2488248.35</td><td>31963246000192</td><td>SP</td><td>SERRA DE BRAGANCA FUNDO DE INVESTIMENTO MULTIMERCADO</td><td>SP</td><td>São Paulo</td></tr><tr><td>40905548000103</td><td>EM FUNCIONAMENTO NORMAL</td><td>2021-03-01</td><td>1.0</td><td>3.487545472E7</td><td>40905548000103</td><td>RJ</td><td>FUNDO DE INVESTIMENTO EM COTAS DE FUNDOS DE INVESTIMENTO MULTIMERCADO EMPIRICA LOTUS HY CREDITO PRIVADO</td><td>RJ</td><td>Rio de Janeiro</td></tr><tr><td>37087982000100</td><td>EM FUNCIONAMENTO NORMAL</td><td>2020-05-11</td><td>null</td><td>848377.45</td><td>37087982000100</td><td>SP</td><td>LHOTSE BRASIL PARTNERS I N - FUNDO DE INVESTIMENTO EM PARTICIPACOES MULTIESTRATEGIA IE RESP LIMITADA</td><td>SP</td><td>São Paulo</td></tr><tr><td>50587789000105</td><td>EM FUNCIONAMENTO NORMAL</td><td>2023-05-08</td><td>null</td><td>8.21327176E7</td><td>50587789000105</td><td>SP</td><td>HT3 FUNDO DE INVESTIMENTO MULTIMERCADO CREDITO PRIVADO IE</td><td>SP</td><td>São Paulo</td></tr><tr><td>37651102000187</td><td>EM FUNCIONAMENTO NORMAL</td><td>2022-02-02</td><td>null</td><td>1.1047891301E8</td><td>37651102000187</td><td>SP</td><td>BARCELONA FUNDO DE INVESTIMENTO EM DIREITOS CREDITORIOS RESPONSABILIDADE LIMITADA</td><td>SP</td><td>São Paulo</td></tr><tr><td>42562105000184</td><td>EM FUNCIONAMENTO NORMAL</td><td>2022-01-18</td><td>null</td><td>0.0</td><td>42562105000184</td><td>SP</td><td>AGILE INVESTE FUNDO DE INVESTIMENTO MULTIMERCADO</td><td>SP</td><td>São Paulo</td></tr><tr><td>45788850000134</td><td>EM FUNCIONAMENTO NORMAL</td><td>2022-07-07</td><td>null</td><td>4.00889018885E9</td><td>45788850000134</td><td>SP</td><td>GIP HELIOS FUNDO DE INVESTIMENTO EM PARTICIPACOES MULTIESTRATEGIA</td><td>SP</td><td>São Paulo</td></tr><tr><td>27826059000190</td><td>EM FUNCIONAMENTO NORMAL</td><td>2017-10-23</td><td>0.6</td><td>2.1715571911E8</td><td>27826059000190</td><td>MG</td><td>INTER PREMIUM FUNDO DE INVESTIMENTO FINANCEIRO RENDA FIXA CREDITO PRIVADO LONGO PRAZO RESP LIMITADA</td><td>MG</td><td>Minas Gerais</td></tr><tr><td>43876638000101</td><td>EM FUNCIONAMENTO NORMAL</td><td>2022-03-08</td><td>null</td><td>4765027.17</td><td>43876638000101</td><td>MG</td><td>IA CARTEIRA MULT FC DE FUNDO DE INVESTIMENTO FINANCEIRO MULT CRED PRIV RESPONSABILIDADE LIMITADA</td><td>MG</td><td>Minas Gerais</td></tr><tr><td>50312715000158</td><td>EM FUNCIONAMENTO NORMAL</td><td>2023-04-13</td><td>null</td><td>1.7484117954E8</td><td>50312715000158</td><td>SP</td><td>PFC FUNDO DE INVESTIMENTO EM DIREITOS CREDITORIOS NAO PADRONIZADO</td><td>SP</td><td>São Paulo</td></tr><tr><td>07110963000197</td><td>EM FUNCIONAMENTO NORMAL</td><td>2005-02-11</td><td>0.15</td><td>4.37176736875E9</td><td>07110963000197</td><td>SP</td><td>CLASSE UNICA DO MAPLE FUNDO DE INVESTIMENTO FINANCEIRO MULTIMERCADO CP INVESTIMENTO NO EXTERIOR</td><td>SP</td><td>São Paulo</td></tr><tr><td>21254224000108</td><td>EM FUNCIONAMENTO NORMAL</td><td>2014-10-27</td><td>null</td><td>1.888978618E7</td><td>21254224000108</td><td>SP</td><td>GREEN FUNDO DE INVESTIMENTO EM PARTICIPACOES MULTIESTRATEGIA - RESPONSABILIDADE LIMITADA</td><td>SP</td><td>São Paulo</td></tr><tr><td>12271294000175</td><td>EM FUNCIONAMENTO NORMAL</td><td>2010-09-23</td><td>null</td><td>1.1324594488E8</td><td>12271294000175</td><td>SP</td><td>FIX METALICO FUNDO DE INVESTIMENTO EM PARTICIPACOES MULTIESTRATEGIA</td><td>SP</td><td>São Paulo</td></tr><tr><td>49637003000120</td><td>EM FUNCIONAMENTO NORMAL</td><td>2023-02-16</td><td>null</td><td>1.3042332071E8</td><td>49637003000120</td><td>SP</td><td>BAY INVEST FUNDO DE INVESTIMENTO EM PARTICIPACOES MULTIESTRATEGIA</td><td>SP</td><td>São Paulo</td></tr><tr><td>18653128000110</td><td>EM FUNCIONAMENTO NORMAL</td><td>2013-08-13</td><td>null</td><td>1.0195178623E8</td><td>18653128000110</td><td>SP</td><td>ETNA LBO V FUNDO DE INVESTIMENTO EM PARTICIPACOES MULTIESTRATEGIA IE RESPONSABILIDADE LIMITADA</td><td>SP</td><td>São Paulo</td></tr><tr><td>17213759000155</td><td>EM FUNCIONAMENTO NORMAL</td><td>2013-05-20</td><td>null</td><td>3.3243681215E8</td><td>17213759000155</td><td>SP</td><td>FUNDO DE INVESTIMENTO EM PARTICIPACOES FONTAINE VILLE URBANISMO</td><td>SP</td><td>São Paulo</td></tr><tr><td>36729755000179</td><td>EM FUNCIONAMENTO NORMAL</td><td>2020-06-19</td><td>0.9</td><td>2.1997348455E8</td><td>36729755000179</td><td>RJ</td><td>GALAPAGOS DRAGON FUNDO DE INVESTIMENTO EM COTAS DE FUNDOS DE INVESTIMENTO MULTIMERCADO CREDITO PRIVADO</td><td>RJ</td><td>Rio de Janeiro</td></tr><tr><td>32321319000105</td><td>EM FUNCIONAMENTO NORMAL</td><td>2021-07-23</td><td>null</td><td>1215227.93</td><td>32321319000105</td><td>SP</td><td>BRAFIC CONSTRUCAO CIVIL FI EM DIREITOS CREDITORIOS NAO-PADRONIZADOS RESPONSABILIDADE LIMITADA</td><td>SP</td><td>São Paulo</td></tr><tr><td>49983964000196</td><td>EM FUNCIONAMENTO NORMAL</td><td>2023-03-17</td><td>null</td><td>7.2397634306E8</td><td>49983964000196</td><td>SP</td><td>CLASSE UNICA DO WESTERN ASSET CREDITO BANCARIO PLUS FI FINANCEIRO RF CP RESP LIMITADA</td><td>SP</td><td>São Paulo</td></tr><tr><td>32244578000180</td><td>EM FUNCIONAMENTO NORMAL</td><td>2019-02-11</td><td>null</td><td>3.398212742E7</td><td>32244578000180</td><td>SP</td><td>SUN FUNDO DE INVESTIMENTO MULTIMERCADO CREDITO PRIVADO</td><td>SP</td><td>São Paulo</td></tr><tr><td>36731458000168</td><td>EM FUNCIONAMENTO NORMAL</td><td>2020-04-23</td><td>null</td><td>7.285187875E7</td><td>36731458000168</td><td>SP</td><td>KRONOS FUNDO DE INVESTIMENTO IMOBILIARIO</td><td>SP</td><td>São Paulo</td></tr><tr><td>42196361000103</td><td>EM FUNCIONAMENTO NORMAL</td><td>2022-11-04</td><td>null</td><td>1726899.04</td><td>42196361000103</td><td>SP</td><td>GRIFFIN INVESTMENTS FUNDO DE INVESTIMENTO EM DIREITOS CREDITORIOS NAO PADRONIZADOS RESP LIMITADA</td><td>SP</td><td>São Paulo</td></tr><tr><td>50948197000163</td><td>EM FUNCIONAMENTO NORMAL</td><td>2023-06-05</td><td>null</td><td>990299.19</td><td>50948197000163</td><td>SP</td><td>CESSIONARIO 2 FUNDO DE INVESTIMENTO EM DIREITOS CREDITORIOS NAO-PADRONIZADOS RESP LIMITADA</td><td>SP</td><td>São Paulo</td></tr><tr><td>22802858000102</td><td>EM FUNCIONAMENTO NORMAL</td><td>2015-07-08</td><td>null</td><td>8.3315787709E8</td><td>22802858000102</td><td>SP</td><td>EVEREST BRASIL PARTNERS I - FUNDO DE INVESTIMENTO EM PARTICIPACOES MULTIESTRATEGIA IE RESP LIMITADA</td><td>SP</td><td>São Paulo</td></tr><tr><td>22219279000131</td><td>EM FUNCIONAMENTO NORMAL</td><td>2015-04-13</td><td>null</td><td>2.642569966E7</td><td>22219279000131</td><td>SP</td><td>QUARTZO RUTILO FUNDO DE INVESTIMENTO EM PARTICIPACOES MULTIESTRATEGIA</td><td>SP</td><td>São Paulo</td></tr><tr><td>30871738000195</td><td>EM FUNCIONAMENTO NORMAL</td><td>2018-07-18</td><td>null</td><td>386700.25</td><td>30871738000195</td><td>SP</td><td>DENALI BRASIL PARTNERS I F FUNDO DE INVESTIMENTO EM PARTICIPACOES MULTIESTRATEGIA IE RESP LIMITADA</td><td>SP</td><td>São Paulo</td></tr><tr><td>12586174000167</td><td>EM FUNCIONAMENTO NORMAL</td><td>2016-10-20</td><td>null</td><td>4.782494499E7</td><td>12586174000167</td><td>SP</td><td>NOVA PARTICIPACOES - FUNDO DE INVESTIMENTO EM COTAS DE FUNDOS DE INVESTIMENTO MULTIMERCADO CREDITO PRIVADO</td><td>SP</td><td>São Paulo</td></tr><tr><td>05024659000100</td><td>EM FUNCIONAMENTO NORMAL</td><td>2005-03-16</td><td>1.1</td><td>1.445349547E7</td><td>05024659000100</td><td>SP</td><td>CLASSE UNICA DO WESTERN ASSET MULTITRADING H FI FINANCEIRO MULTIMERCADO - RESP LIMITADA</td><td>SP</td><td>São Paulo</td></tr><tr><td>48328958000132</td><td>EM FUNCIONAMENTO NORMAL</td><td>2022-12-08</td><td>null</td><td>981206.52</td><td>48328958000132</td><td>SP</td><td>STAR VENTURES FUNDO DE INVESTIMENTO EM PARTICIPACOES MULTIESTRATEGIA IE - RESPONSABILIDADE LIMITADA</td><td>SP</td><td>São Paulo</td></tr><tr><td>45017499000188</td><td>EM FUNCIONAMENTO NORMAL</td><td>2022-04-19</td><td>0.1411</td><td>1.5016764159E8</td><td>45017499000188</td><td>SP</td><td>BNP PARIBAS MAIS VIDA III CLASSE DE INVESTIMENTO EM CIC MULTIMERCADO CREDITO PRIVADO RESP LIMITADA</td><td>SP</td><td>São Paulo</td></tr><tr><td>27882134000130</td><td>EM FUNCIONAMENTO NORMAL</td><td>2017-10-23</td><td>null</td><td>8893011.84</td><td>27882134000130</td><td>MG</td><td>APOLO FUNDO DE INVESTIMENTO IMOBILIARIO</td><td>MG</td><td>Minas Gerais</td></tr><tr><td>39344840000107</td><td>EM FUNCIONAMENTO NORMAL</td><td>2020-11-17</td><td>2.0</td><td>8940141.89</td><td>39344840000107</td><td>MG</td><td>INTER ACOES VALOR FUNDO DE INVESTIMENTO FINANCEIRO EM ACOES RESPONSABILIDADE LIMITADA</td><td>MG</td><td>Minas Gerais</td></tr><tr><td>06905783000139</td><td>EM FUNCIONAMENTO NORMAL</td><td>2004-12-30</td><td>null</td><td>1.959792432E7</td><td>06905783000139</td><td>SP</td><td>INVESTIMAGE 2 - FUNDO DE FINANCIAMENTO DA INDUSTRIA CINEMATOGRAFICA NACIONAL - FUNCINE</td><td>SP</td><td>São Paulo</td></tr><tr><td>00817677000117</td><td>EM FUNCIONAMENTO NORMAL</td><td>2005-03-17</td><td>0.45</td><td>2.2248789993E8</td><td>00817677000117</td><td>SP</td><td>CLASSE UNICA DO WESTERN ASSET ALPHA CREDIT RF FUNDO DE INVESTIMENTO FINANCEIRO CP RESP LIMITADA</td><td>SP</td><td>São Paulo</td></tr><tr><td>50269714000178</td><td>EM FUNCIONAMENTO NORMAL</td><td>2023-04-11</td><td>null</td><td>3.4081955309E8</td><td>50269714000178</td><td>SP</td><td>ID RF FUNDO DE INVESTIMENTO FINANCEIRO RENDA FIXA LONGO PRAZO</td><td>SP</td><td>São Paulo</td></tr><tr><td>39281116000181</td><td>EM FUNCIONAMENTO NORMAL</td><td>2020-11-06</td><td>5.0</td><td>6293022.87</td><td>39281116000181</td><td>MG</td><td>INTER ACCESS BOGARI VALUE FC DE FUNDOS DE INVESTIMENTO FINANCEIRO EM ACOES RESPONSABILIDADE LIMITADA</td><td>MG</td><td>Minas Gerais</td></tr><tr><td>34736474000118</td><td>EM FUNCIONAMENTO NORMAL</td><td>2019-09-24</td><td>null</td><td>2.3678026753E8</td><td>34736474000118</td><td>SP</td><td>RBR DESENVOLVIMENTO COMERCIAL I - FUNDO DE INVESTIMENTO IMOBILIARIO RESPONSABILIDADE LIMITADA</td><td>SP</td><td>São Paulo</td></tr><tr><td>42736004000182</td><td>EM FUNCIONAMENTO NORMAL</td><td>2021-12-29</td><td>null</td><td>1.114230683E7</td><td>42736004000182</td><td>SP</td><td>PCS II COSTA ESMERALDA FUNDO DE INVESTIMENTO EM PARTICIPACOES INFRAESTRUTURA</td><td>SP</td><td>São Paulo</td></tr><tr><td>40311750000107</td><td>EM FUNCIONAMENTO NORMAL</td><td>2021-06-24</td><td>null</td><td>3.132980961E7</td><td>40311750000107</td><td>SP</td><td>FEEAGRO FUNDO DE INVESTIMENTO EM PARTICIPACOES - CAPITAL SEMENTE RESPONSABILIDADE LIMITADA</td><td>SP</td><td>São Paulo</td></tr><tr><td>50051913000105</td><td>EM FUNCIONAMENTO NORMAL</td><td>2023-03-23</td><td>null</td><td>5.455316553E7</td><td>50051913000105</td><td>SP</td><td>NXC FUNDO DE INVESTIMENTO MULTIMERCADO CREDITO PRIVADO</td><td>SP</td><td>São Paulo</td></tr><tr><td>17574820000190</td><td>EM FUNCIONAMENTO NORMAL</td><td>2013-02-28</td><td>0.3</td><td>1093018.92</td><td>17574820000190</td><td>SP</td><td>COASTAL FUNDO DE INVESTIMENTO EM ACOES</td><td>SP</td><td>São Paulo</td></tr><tr><td>03499367000190</td><td>EM FUNCIONAMENTO NORMAL</td><td>2005-03-16</td><td>0.4</td><td>2.4029445984E8</td><td>03499367000190</td><td>SP</td><td>CLASSE UNICA DO WESTERN ASSET RF ATIVO FUNDO DE INVESTIMENTO FINANCEIRO - RESP LIMITADA</td><td>SP</td><td>São Paulo</td></tr><tr><td>17340392000130</td><td>EM FUNCIONAMENTO NORMAL</td><td>2014-03-07</td><td>0.3</td><td>3.9777181563E8</td><td>17340392000130</td><td>SP</td><td>JPMORGAN GLOBAL RESEARCH ENHANCED INDEX EQUITY CLASSE DE INVESTIMENTO ACOES IE RESP LIMITADA</td><td>SP</td><td>São Paulo</td></tr><tr><td>46557432000107</td><td>EM FUNCIONAMENTO NORMAL</td><td>2022-07-07</td><td>null</td><td>4120348.03</td><td>46557432000107</td><td>SP</td><td>ACELERA CASH FUNDO DE INVESTIMENTO EM DIREITOS CREDITORIOS</td><td>SP</td><td>São Paulo</td></tr><tr><td>21331225000109</td><td>EM FUNCIONAMENTO NORMAL</td><td>2015-02-10</td><td>null</td><td>-1519081.16</td><td>21331225000109</td><td>RJ</td><td>EDUCACAO BR FUNDO DE INVESTIMENTO EM PARTICIPACOES</td><td>RJ</td><td>Rio de Janeiro</td></tr><tr><td>47423757000151</td><td>EM FUNCIONAMENTO NORMAL</td><td>2022-10-20</td><td>65.0</td><td>3.280304342E8</td><td>47423757000151</td><td>MG</td><td>RENDA FUNDO DE INVESTIMENTO FINANCEIRO RENDA FIXA LONGO PRAZO TITULOS PUBL IMA GERAL RESP LIMITADA</td><td>MG</td><td>Minas Gerais</td></tr><tr><td>05627929000169</td><td>EM FUNCIONAMENTO NORMAL</td><td>2005-04-04</td><td>0.12</td><td>1.15696028435E9</td><td>05627929000169</td><td>SP</td><td>MAPFRE EMPRESAS CLASSE DE INVESTIMENTO RENDA FIXA - RESPONSABILIDADE LIMITADA</td><td>SP</td><td>São Paulo</td></tr><tr><td>45521676000169</td><td>EM FUNCIONAMENTO NORMAL</td><td>2022-10-27</td><td>null</td><td>3.5515348358E8</td><td>45521676000169</td><td>SP</td><td>HAWKER FUNDO DE INVESTIMENTO EM DIREITOS CREDITORIOS NAO PADRONIZADOS</td><td>SP</td><td>São Paulo</td></tr><tr><td>23781192000116</td><td>EM FUNCIONAMENTO NORMAL</td><td>2016-12-19</td><td>null</td><td>3.09240810504E9</td><td>23781192000116</td><td>SP</td><td>GLP INVESTIMENTOS IV FUNDO DE INVESTIMENTO EM PARTICIPACOES MULTIESTRATEGIA</td><td>SP</td><td>São Paulo</td></tr><tr><td>50948092000104</td><td>EM FUNCIONAMENTO NORMAL</td><td>2023-06-05</td><td>null</td><td>2.04266121E7</td><td>50948092000104</td><td>SP</td><td>CESSIONARIO 1 FUNDO DE INVESTIMENTO EM DIREITOS CREDITORIOS NAO-PADRONIZADOS RESP LIMITADA</td><td>SP</td><td>São Paulo</td></tr><tr><td>43648593000100</td><td>EM FUNCIONAMENTO NORMAL</td><td>2021-12-02</td><td>null</td><td>1.462862316E7</td><td>43648593000100</td><td>SP</td><td>FC MONEY FUNDO DE INVESTIMENTO EM DIREITOS CREDITORIOS RESPONSABILIDADE LIMITADA</td><td>SP</td><td>São Paulo</td></tr><tr><td>09315625000117</td><td>EM FUNCIONAMENTO NORMAL</td><td>2008-07-08</td><td>1.0</td><td>1.213258701E7</td><td>09315625000117</td><td>RJ</td><td>SECURITY RENDA FIXA REFERENCIADO DI LONGO PRAZO CREDITO PRIVADO</td><td>RJ</td><td>Rio de Janeiro</td></tr><tr><td>45899460000131</td><td>EM FUNCIONAMENTO NORMAL</td><td>2022-09-28</td><td>null</td><td>5.143766779E7</td><td>45899460000131</td><td>SP</td><td>VOLUS FUNDO DE INVESTIMENTO EM DIREITOS CREDITORIOS NAO-PADRONIZADOS RESPONSABILIDADE LIMITADA</td><td>SP</td><td>São Paulo</td></tr><tr><td>24764405000164</td><td>EM FUNCIONAMENTO NORMAL</td><td>2016-04-18</td><td>null</td><td>1.0174597496E8</td><td>24764405000164</td><td>SP</td><td>AEROTEC - FUNDO DE INVESTIMENTO EM PARTICIPACOES MULTIESTRATEGIA</td><td>SP</td><td>São Paulo</td></tr><tr><td>44428854000149</td><td>EM FUNCIONAMENTO NORMAL</td><td>2022-09-25</td><td>null</td><td>1.217224301E8</td><td>44428854000149</td><td>SP</td><td>CSHG JIVE DISTRESSED & SPECIAL SITS IV ALLOCATION FIC DE FIF MULTI CP RESPONSABILIDADE LIMITADA</td><td>SP</td><td>São Paulo</td></tr><tr><td>36764134000126</td><td>EM FUNCIONAMENTO NORMAL</td><td>2020-03-25</td><td>5.0</td><td>2.963157566E7</td><td>36764134000126</td><td>MG</td><td>INTER ACCESS ATMOS FC DE FUNDOS DE INVESTIMENTO FINANCEIRO EM ACOES RESPONSABILIDADE LIMITADA</td><td>MG</td><td>Minas Gerais</td></tr><tr><td>97543707000186</td><td>EM FUNCIONAMENTO NORMAL</td><td>2011-08-31</td><td>0.0</td><td>2.0799783775E8</td><td>97543707000186</td><td>SP</td><td>BLACKROCK INSTITUCIONAL IBOVESPA CLASSE DE INVESTIMENTO EM ACOES - RESPONSABILIDADE LIMITADA</td><td>SP</td><td>São Paulo</td></tr><tr><td>38443033000189</td><td>EM FUNCIONAMENTO NORMAL</td><td>2021-02-10</td><td>0.98</td><td>5.715885576E7</td><td>38443033000189</td><td>SP</td><td>BNP PARIBAS INFRAESTRUTURA CIC RF SUSTENTAVEL IS - RESPONSABILIDADE LIMITADA</td><td>SP</td><td>São Paulo</td></tr><tr><td>41751844000151</td><td>EM FUNCIONAMENTO NORMAL</td><td>2022-07-14</td><td>null</td><td>0.0</td><td>41751844000151</td><td>SP</td><td>MARSELHA FUNDO DE INVESTIMENTO FINANCEIRO CREDITO PRIVADO RESPONSABILIDADE LIMITADA</td><td>SP</td><td>São Paulo</td></tr><tr><td>45721977000136</td><td>EM FUNCIONAMENTO NORMAL</td><td>2022-07-19</td><td>null</td><td>1.7123149245E8</td><td>45721977000136</td><td>SP</td><td>MONARCA FI EM COTAS DE FUNDOS DE INVESTIMENTO EM DIREITOS CREDITORIOS RESPONSABILIDADE LIMITADA</td><td>SP</td><td>São Paulo</td></tr><tr><td>49733651000180</td><td>EM FUNCIONAMENTO NORMAL</td><td>2023-02-27</td><td>0.08</td><td>1.222186178E7</td><td>49733651000180</td><td>RJ</td><td>GENEPI FI EM COTAS DE FIF MULTIMERCADO CREDITO PRIVADO - RESPONSABILIDADE LIMITADA</td><td>RJ</td><td>Rio de Janeiro</td></tr><tr><td>28849641000134</td><td>EM FUNCIONAMENTO NORMAL</td><td>2018-03-19</td><td>null</td><td>3.043454345E7</td><td>28849641000134</td><td>SP</td><td>SQUID FUNDO DE INVESTIMENTO EM DIRETOS CREDITORIOS</td><td>SP</td><td>São Paulo</td></tr><tr><td>49651245000178</td><td>EM FUNCIONAMENTO NORMAL</td><td>2023-02-17</td><td>null</td><td>1.236116204E7</td><td>49651245000178</td><td>SP</td><td>BAY GUANABARA FUNDO DE INVESTIMENTO MULTIMERCADO CREDITO PRIVADO INVESTIMENTO NO EXTERIOR</td><td>SP</td><td>São Paulo</td></tr><tr><td>36741133000166</td><td>EM FUNCIONAMENTO NORMAL</td><td>2020-06-30</td><td>null</td><td>5.3346384692E8</td><td>36741133000166</td><td>SP</td><td>AFRICA FUNDO DE INVESTIMENTO MULTIMERCADO RESPONSABILIDADE LIMITADA</td><td>SP</td><td>São Paulo</td></tr><tr><td>25108905000100</td><td>EM FUNCIONAMENTO NORMAL</td><td>2016-12-09</td><td>0.2</td><td>1.0448693463E8</td><td>25108905000100</td><td>SP</td><td>BNP PARIBAS MASTER INFRAESTRUTURA CLASSE DE INVESTIMENTO RENDA FIXA SUSTENTAVEL IS - RESP LIMITADA</td><td>SP</td><td>São Paulo</td></tr><tr><td>50184026000105</td><td>EM FUNCIONAMENTO NORMAL</td><td>2023-04-03</td><td>null</td><td>3.390548606E7</td><td>50184026000105</td><td>SP</td><td>AMALFI FUNDO DE INVESTIMENTO EM DIREITOS CREDITORIOS RESPONSABILIDADE LIMITADA</td><td>SP</td><td>São Paulo</td></tr><tr><td>36741161000183</td><td>EM FUNCIONAMENTO NORMAL</td><td>2020-07-16</td><td>null</td><td>4.605274238E7</td><td>36741161000183</td><td>SP</td><td>NANBAN FUNDO DE INVESTIMENTO EM DIREITOS CREDITORIOS NAO PADRONIZADOS RESPONSABILIDADE LIMITADA</td><td>SP</td><td>São Paulo</td></tr><tr><td>50808042000121</td><td>EM FUNCIONAMENTO NORMAL</td><td>2023-05-24</td><td>null</td><td>4.7699495571E8</td><td>50808042000121</td><td>SP</td><td>VBI TR FARIA LIMA 4440 FUNDO DE INVESTIMENTO IMOBILIARIO</td><td>SP</td><td>São Paulo</td></tr><tr><td>46268214000144</td><td>EM FUNCIONAMENTO NORMAL</td><td>2022-06-01</td><td>null</td><td>2.219077747E8</td><td>46268214000144</td><td>SP</td><td>ORE FOSFATO MORRO VERDE FUNDO DE INVESTIMENTO EM PARTICIPACOES - MULTIESTRATEGIA RESPONSABILIDADE LI</td><td>SP</td><td>São Paulo</td></tr><tr><td>48996311000189</td><td>EM FUNCIONAMENTO NORMAL</td><td>2022-12-28</td><td>null</td><td>7635102.32</td><td>48996311000189</td><td>SP</td><td>ABP VENTURES FUNDO DE INVESTIMENTO MULTIMERCADO CREDITO PRIVADO INVESTIMENTO NO EXTERIOR</td><td>SP</td><td>São Paulo</td></tr><tr><td>14217108000145</td><td>EM FUNCIONAMENTO NORMAL</td><td>2011-11-16</td><td>null</td><td>3.2571111973E8</td><td>14217108000145</td><td>SP</td><td>FUNDO DE INVESTIMENTO IMOBILIARIO INDUSTRIAL DO BRASIL</td><td>SP</td><td>São Paulo</td></tr><tr><td>51199121000145</td><td>EM FUNCIONAMENTO NORMAL</td><td>2023-06-27</td><td>null</td><td>3575207.71</td><td>51199121000145</td><td>SP</td><td>2MONEY FUNDO DE INVESTIMENTO EM DIREITOS CREDITORIOS NAO-PADRONIZADOS RESPONSABILIDADE LIMITADA</td><td>SP</td><td>São Paulo</td></tr><tr><td>42260903000151</td><td>EM FUNCIONAMENTO NORMAL</td><td>2021-07-08</td><td>null</td><td>5.8474970655E8</td><td>42260903000151</td><td>RJ</td><td>RIZA STATHEROS FUNDO DE INVESTIMENTO EM COTAS DE FUNDOS DE INVESTIMENTO MULTIMERCADO CREDITO PRIVADO</td><td>RJ</td><td>Rio de Janeiro</td></tr><tr><td>32222722000187</td><td>EM FUNCIONAMENTO NORMAL</td><td>2019-04-03</td><td>0.25</td><td>1.88152272607E9</td><td>32222722000187</td><td>SP</td><td>BNP PARIBAS CRED INSTITUCIONAL SUSTENTAVEL IS CI EM CLASSES DE INVESTIMENTO RF CP LP - RESP LIMITADA</td><td>SP</td><td>São Paulo</td></tr><tr><td>23700564000132</td><td>EM FUNCIONAMENTO NORMAL</td><td>2016-12-13</td><td>null</td><td>513510.04</td><td>23700564000132</td><td>SP</td><td>LUNA FUNDO DE INVESTIMENTO EM PARTICIPACOES MULTIESTRATEGIA</td><td>SP</td><td>São Paulo</td></tr><tr><td>45019108000164</td><td>EM FUNCIONAMENTO NORMAL</td><td>2022-03-23</td><td>null</td><td>1.342890732E7</td><td>45019108000164</td><td>SP</td><td>UJAY SPARTA CAPITAL FUNDO DE INVESTIMENTO EM DIREITOS CREDITORIOS NAO-PADRONIZADOS FIDC NP</td><td>SP</td><td>São Paulo</td></tr><tr><td>39976918000106</td><td>EM FUNCIONAMENTO NORMAL</td><td>2021-01-07</td><td>null</td><td>4.456082369E7</td><td>39976918000106</td><td>SP</td><td>OCA FUNDO DE INVESTIMENTO EM PARTICIPACOES EM EMPRESAS EMERGENTES</td><td>SP</td><td>São Paulo</td></tr><tr><td>14167491000174</td><td>EM FUNCIONAMENTO NORMAL</td><td>2012-05-11</td><td>0.02</td><td>1.40077189908E9</td><td>14167491000174</td><td>SP</td><td>BNP PARIBAS MASTER CASH DI REFERENCIADO CLASSE DE INVESTIMENTO RENDA FIXA - RESP LIMITADA</td><td>SP</td><td>São Paulo</td></tr><tr><td>09194841000151</td><td>EM FUNCIONAMENTO NORMAL</td><td>2007-11-30</td><td>null</td><td>1.8033292672E8</td><td>09194841000151</td><td>SP</td><td>ATLANTICO FUNDO DE INVESTIMENTO EM DIREITOS CREDITORIOS RESPONSABILIDADE LIMITADA</td><td>SP</td><td>São Paulo</td></tr><tr><td>33361873000189</td><td>EM FUNCIONAMENTO NORMAL</td><td>2019-06-18</td><td>0.07</td><td>6.562865568E7</td><td>33361873000189</td><td>SP</td><td>BLACKROCK GLOBAL EVENT DRIVEN MASTER CLASSE DE INVESTIMENTO MULTIMERCADO RESPONSABILIDADE LIMITADA</td><td>SP</td><td>São Paulo</td></tr><tr><td>28065477000174</td><td>EM FUNCIONAMENTO NORMAL</td><td>2019-08-02</td><td>null</td><td>3.6033615272E8</td><td>28065477000174</td><td>SP</td><td>FUTURAMA FUNDO DE INVESTIMENTO MULTIMERCADO CREDITO PRIVADO INVESTIMENTO NO EXTERIOR</td><td>SP</td><td>São Paulo</td></tr><tr><td>48373413000148</td><td>EM FUNCIONAMENTO NORMAL</td><td>2022-12-09</td><td>null</td><td>2.7760247853E8</td><td>48373413000148</td><td>SP</td><td>CIX ITAPURANGA FUNDO DE INVESTIMENTO IMOBILIARIO RESPONSABILIDADE LIMITADA</td><td>SP</td><td>São Paulo</td></tr><tr><td>01356517000180</td><td>EM FUNCIONAMENTO NORMAL</td><td>1996-07-24</td><td>null</td><td>1.6878108439E8</td><td>01356517000180</td><td>RJ</td><td>LAGRA-FUNDO DE INVESTIMENTO IMOBILIARIO</td><td>RJ</td><td>Rio de Janeiro</td></tr><tr><td>12834634000129</td><td>EM FUNCIONAMENTO NORMAL</td><td>2010-10-18</td><td>null</td><td>372240.51</td><td>12834634000129</td><td>SP</td><td>FUNDO DE INVESTIMENTO EM PARTICIPACOES BRASIL DE PRIVATE EQUITY III MULTIESTRATEGIA - EM LIQUIDACAO</td><td>SP</td><td>São Paulo</td></tr><tr><td>49176545000142</td><td>EM FUNCIONAMENTO NORMAL</td><td>2023-01-13</td><td>null</td><td>2.344639181E7</td><td>49176545000142</td><td>SP</td><td>RIVER II FUNDO DE INVESTIMENTO EM DIREITOS CREDITORIOS NAO-PADRONIZADOS RESPONSABILIDADE LIMITADA</td><td>SP</td><td>São Paulo</td></tr><tr><td>12239939000192</td><td>EM FUNCIONAMENTO NORMAL</td><td>2011-09-21</td><td>2.02</td><td>6.55877165E7</td><td>12239939000192</td><td>SP</td><td>BNP PARIBAS ACTION CLASSE DE INVESTIMENTO EM CLASSES DE INVESTIMENTO DE ACOES - RESP LIMITADA</td><td>SP</td><td>São Paulo</td></tr><tr><td>35819219000100</td><td>EM FUNCIONAMENTO NORMAL</td><td>2020-07-24</td><td>0.4</td><td>1.0551798646E9</td><td>35819219000100</td><td>SP</td><td>JIVE DISTRESSED III OFFSHORE FIC DE FIF MULTI CP RESPONSABILIDADE LIMITADA</td><td>SP</td><td>São Paulo</td></tr><tr><td>07766151000102</td><td>EM FUNCIONAMENTO NORMAL</td><td>2006-01-09</td><td>null</td><td>0.0</td><td>07766151000102</td><td>RJ</td><td>FUNDO DE INVESTIMENTO EM DIREITOS CREDITORIOS BCSUL VERAX MULTICRED FINANCEIRO</td><td>RJ</td><td>Rio de Janeiro</td></tr><tr><td>11769285000146</td><td>EM FUNCIONAMENTO NORMAL</td><td>2010-07-23</td><td>0.58</td><td>2.66385730905E9</td><td>11769285000146</td><td>SP</td><td>SPHERE CLASSE DE INVESTIMENTO MULTIMERCADO CREDITO PRIVADO INVESTIMENTO NO EXTERIOR</td><td>SP</td><td>São Paulo</td></tr><tr><td>51339815000130</td><td>EM FUNCIONAMENTO NORMAL</td><td>2023-07-07</td><td>null</td><td>8.179266377E7</td><td>51339815000130</td><td>SP</td><td>AVT LOG FUNDO DE INVESTIMENTO EM PARTICIPACOES INFRAESTRUTURA</td><td>SP</td><td>São Paulo</td></tr><tr><td>24768711000179</td><td>EM FUNCIONAMENTO NORMAL</td><td>2016-05-18</td><td>null</td><td>8.304273561E7</td><td>24768711000179</td><td>RJ</td><td>OPUS MEDICAL - FUNDO DE INVESTIMENTO EM PARTICIPACOES MULTIESTRATEGIA INVESTIMENTO NO EXTERIOR</td><td>RJ</td><td>Rio de Janeiro</td></tr><tr><td>39784273000100</td><td>EM FUNCIONAMENTO NORMAL</td><td>2020-12-29</td><td>null</td><td>5.731666892E7</td><td>39784273000100</td><td>SP</td><td>GO PRO ENERGIA FUNDO DE INVESTIMENTO EM PARTICIPACOES MULTIESTRATEGIA</td><td>SP</td><td>São Paulo</td></tr><tr><td>44680424000110</td><td>EM FUNCIONAMENTO NORMAL</td><td>2022-01-21</td><td>null</td><td>5.152904921E7</td><td>44680424000110</td><td>SP</td><td>SANTA BARBARA FUNDO DE INVESTIMENTO EM DIREITOS CREDITORIOS MULTISSETORIAL- RESP LIMITADA</td><td>SP</td><td>São Paulo</td></tr><tr><td>43105440000116</td><td>EM FUNCIONAMENTO NORMAL</td><td>2021-08-25</td><td>null</td><td>5886041.3</td><td>43105440000116</td><td>SP</td><td>BNP PARIBAS SOBERANO II CIC DE CLASSE DE INVESTIMENTO RENDA FIXA SIMPLES - RESP LIMITADA</td><td>SP</td><td>São Paulo</td></tr><tr><td>48389780000130</td><td>EM FUNCIONAMENTO NORMAL</td><td>2022-12-11</td><td>null</td><td>2.3977683304E8</td><td>48389780000130</td><td>SP</td><td>CIX MUIRAQUITAN FUNDO DE INVESTIMENTO IMOBILIARIO RESPONSABILIDADE LIMITADA</td><td>SP</td><td>São Paulo</td></tr><tr><td>22773421000198</td><td>EM FUNCIONAMENTO NORMAL</td><td>2016-03-31</td><td>0.15</td><td>6.5478605936E8</td><td>22773421000198</td><td>SP</td><td>CLASSE UNICA DO WESTERN ASSET SOBERANO II RF REFERENCIADO SELIC FI FINANACEIRO - RESP LIMITADA</td><td>SP</td><td>São Paulo</td></tr><tr><td>12107669000166</td><td>EM FUNCIONAMENTO NORMAL</td><td>2012-06-01</td><td>0.02</td><td>2.38947988072E9</td><td>12107669000166</td><td>SP</td><td>BNP PARIBAS MASTER CREDITO SUSTENTAVEL IS CI RENDA FIXA CREDITO PRIVADO LONGO PRAZO - RESP LIMITADA</td><td>SP</td><td>São Paulo</td></tr><tr><td>12107422000140</td><td>EM FUNCIONAMENTO NORMAL</td><td>2011-09-06</td><td>0.8</td><td>1.9252269085E8</td><td>12107422000140</td><td>SP</td><td>ZURICH BNPP RENDA FIXA CIC DE CLASSES DE INVESTIMENTO PREVIDENCIARIA - RESP LIMITADA</td><td>SP</td><td>São Paulo</td></tr><tr><td>21917293000146</td><td>EM FUNCIONAMENTO NORMAL</td><td>2015-03-10</td><td>null</td><td>1002975.4</td><td>21917293000146</td><td>SP</td><td>GAUDI FUNDO DE INVESTIMENTO EM PARTICIPACOES MULTIESTRATEGIA</td><td>SP</td><td>São Paulo</td></tr><tr><td>27531301000106</td><td>EM FUNCIONAMENTO NORMAL</td><td>2017-05-29</td><td>null</td><td>4.730974917E7</td><td>27531301000106</td><td>SP</td><td>QUANTHAS FUNDO DE INVESTIMENTO EM DIREITOS CREDITORIOS MULTISSETORIAL - RESPONSABILIDADE LIMITADA</td><td>SP</td><td>São Paulo</td></tr><tr><td>50153414000129</td><td>EM FUNCIONAMENTO NORMAL</td><td>2023-03-30</td><td>null</td><td>3.44638365E7</td><td>50153414000129</td><td>SP</td><td>INVESTMACH FUNDO DE INVESTIMENTO EM DIREITOS CREDITORIOS - FIDC</td><td>SP</td><td>São Paulo</td></tr><tr><td>40140470000175</td><td>EM FUNCIONAMENTO NORMAL</td><td>2021-03-15</td><td>0.5</td><td>4.732314828E7</td><td>40140470000175</td><td>SP</td><td>BNP PARIBAS INFRA INSTITUCIONAL CI EM CLASSES DE INVESTIMENTO RF SUSTENTAVEL IS - RESP LIMITADA</td><td>SP</td><td>São Paulo</td></tr><tr><td>09087483000188</td><td>EM FUNCIONAMENTO NORMAL</td><td>2010-01-11</td><td>2.0</td><td>1.720790888E7</td><td>09087483000188</td><td>SP</td><td>WESTERN ASSET DIVIDEND YIELD FUNDO DE INVESTIMENTO FINANCEIRO EM ACOES - RESPONSABILIDADE LIMITADA</td><td>SP</td><td>São Paulo</td></tr><tr><td>44570797000138</td><td>EM FUNCIONAMENTO NORMAL</td><td>2021-12-30</td><td>null</td><td>2.158356741E7</td><td>44570797000138</td><td>SP</td><td>VSG I FUNDO DE INVESTIMENTO EM PARTICIPACOES MULTIESTRATEGIA</td><td>SP</td><td>São Paulo</td></tr><tr><td>49974540000165</td><td>EM FUNCIONAMENTO NORMAL</td><td>2023-03-17</td><td>null</td><td>3.398203665E7</td><td>49974540000165</td><td>SP</td><td>HT3 II FUNDO DE INVESTIMENTO EM DIREITOS CREDITORIOS NAO PADRONIZADO</td><td>SP</td><td>São Paulo</td></tr><tr><td>16734970000150</td><td>EM FUNCIONAMENTO NORMAL</td><td>2012-08-23</td><td>null</td><td>1.1052978777E8</td><td>16734970000150</td><td>SP</td><td>ICP - FUNDO DE INVESTIMENTO EM PARTICIPACOES MULTIESTRATEGIA INVESTIMENTO NO EXTERIOR</td><td>SP</td><td>São Paulo</td></tr><tr><td>16703203000184</td><td>EM FUNCIONAMENTO NORMAL</td><td>2013-01-16</td><td>0.75</td><td>2.673520825E7</td><td>16703203000184</td><td>SP</td><td>WESTERN ASSET PREV IBRX ALPHA ACOES FIC DE FUNDOS DE INVESTIMENTO FINANCEIRO RESP LIMITADA</td><td>SP</td><td>São Paulo</td></tr><tr><td>02918931000107</td><td>EM FUNCIONAMENTO NORMAL</td><td>2005-03-28</td><td>1.5</td><td>2.856408456E7</td><td>02918931000107</td><td>SP</td><td>BNP PARIBAS MAPFRE MAXI RENDA FIXA CIC DE CLASSES DE INVESTIMENTO PREVIDENCIARIA - RESP LIMITADA</td><td>SP</td><td>São Paulo</td></tr><tr><td>46628381000159</td><td>EM FUNCIONAMENTO NORMAL</td><td>2022-07-19</td><td>null</td><td>6774129.91</td><td>46628381000159</td><td>SP</td><td>KATLA FUNDO DE INVESTIMENTO MULTIMERCADO CREDITO PRIVADO</td><td>SP</td><td>São Paulo</td></tr><tr><td>47033209000115</td><td>EM FUNCIONAMENTO NORMAL</td><td>2022-07-28</td><td>null</td><td>8.58764167E7</td><td>47033209000115</td><td>RJ</td><td>IPANEMA PREVIDENCIARIO FIF MULTIMERCADO CREDITO PRIVADO - RESPONSABILIDADE LIMITADA</td><td>RJ</td><td>Rio de Janeiro</td></tr><tr><td>42295379000154</td><td>EM FUNCIONAMENTO NORMAL</td><td>2021-08-16</td><td>null</td><td>1.5674803064E8</td><td>42295379000154</td><td>MG</td><td>IG FUNDO DE INVESTIMENTO FINANCEIRO RENDA FIXA CREDITO PRIVADO RESPONSABILIDADE LIMITADA</td><td>MG</td><td>Minas Gerais</td></tr><tr><td>50555281000117</td><td>EM FUNCIONAMENTO NORMAL</td><td>2023-05-04</td><td>null</td><td>1.67105102E7</td><td>50555281000117</td><td>SP</td><td>RECEBIVEIS BRASIL INFRA FUNDO DE INVESTIMENTO EM DIREITOS CREDITORIOS NAO-PADRONIZADOS</td><td>SP</td><td>São Paulo</td></tr><tr><td>49963418000193</td><td>EM FUNCIONAMENTO NORMAL</td><td>2023-03-16</td><td>null</td><td>1.9358058271E8</td><td>49963418000193</td><td>SP</td><td>OPI CREDITO AGRICOLA FI NAS CADEIAS PRODUTIVAS AGROINDUSTRIAIS FIAGRO - DC - RESP LIMITADA</td><td>SP</td><td>São Paulo</td></tr><tr><td>34691300000186</td><td>EM FUNCIONAMENTO NORMAL</td><td>2020-04-13</td><td>null</td><td>1.567930715E7</td><td>34691300000186</td><td>SP</td><td>ALPHA CREDITO FUNDO DE INVESTIMENTO EM DIREITOS CREDITORIOS</td><td>SP</td><td>São Paulo</td></tr><tr><td>41557609000143</td><td>EM FUNCIONAMENTO NORMAL</td><td>2021-09-06</td><td>null</td><td>4.542439587E7</td><td>41557609000143</td><td>SP</td><td>SUN FUNDO DE INVESTIMENTO EM DIREITOS CREDITORIOS NAO-PADRONIZADOS RESPONSABILIDADE LIMITADA</td><td>SP</td><td>São Paulo</td></tr><tr><td>08815386000100</td><td>EM FUNCIONAMENTO NORMAL</td><td>2007-08-10</td><td>1.0</td><td>1.07168979E7</td><td>08815386000100</td><td>MG</td><td>INTER SELECTION ACOES FC DE FUNDO DE INVESTIMENTO FINANCEIRO EM ACOES RESPONSABILIDADE LIMITADA</td><td>MG</td><td>Minas Gerais</td></tr><tr><td>36098375000183</td><td>EM FUNCIONAMENTO NORMAL</td><td>2020-02-17</td><td>null</td><td>1.1786818176E8</td><td>36098375000183</td><td>MG</td><td>BTSP I FUNDO DE INVESTIMENTO IMOBILIARIO FII RESPONSABILIDADE LIMITADA</td><td>MG</td><td>Minas Gerais</td></tr><tr><td>33429343000125</td><td>EM FUNCIONAMENTO NORMAL</td><td>2019-09-18</td><td>0.03</td><td>3.6174697241E8</td><td>33429343000125</td><td>SP</td><td>DB HOLDING CLASSE DE INVESTIMENTO MULTIMERCADO INVESTIMENTO NO EXTERIOR CREDITO PRIVADO</td><td>SP</td><td>São Paulo</td></tr><tr><td>36115022000144</td><td>EM FUNCIONAMENTO NORMAL</td><td>2020-08-05</td><td>null</td><td>1.5365185995E8</td><td>36115022000144</td><td>SP</td><td>SAVANA FUNDO DE INVESTIMENTO EM PARTICIPACOES MULTIESTRATEGIA</td><td>SP</td><td>São Paulo</td></tr><tr><td>36443522000105</td><td>EM FUNCIONAMENTO NORMAL</td><td>2020-02-21</td><td>25.0</td><td>1.81405177298E9</td><td>36443522000105</td><td>MG</td><td>INTER CORPORATE FUNDO DE INVESTIMENTO FINANCEIRO RENDA FIXA CREDITO PRIVADO RESP LIMITADA</td><td>MG</td><td>Minas Gerais</td></tr><tr><td>28296597000182</td><td>EM FUNCIONAMENTO NORMAL</td><td>2018-06-07</td><td>null</td><td>5.316074455E7</td><td>28296597000182</td><td>SP</td><td>HT3 FUNDO DE INVESTIMENTO EM DIREITOS CREDITORIOS RESPONSABILIDADE LIMITADA</td><td>SP</td><td>São Paulo</td></tr><tr><td>44638491000176</td><td>EM FUNCIONAMENTO NORMAL</td><td>2022-11-08</td><td>null</td><td>3.112389581E7</td><td>44638491000176</td><td>SP</td><td>MATECH PAR FUNDO DE INVESTIMENTO EM PARTICIPACOES CAPITALSEMENTE</td><td>SP</td><td>São Paulo</td></tr><tr><td>42315695000140</td><td>EM FUNCIONAMENTO NORMAL</td><td>2021-08-26</td><td>null</td><td>3.211744968E7</td><td>42315695000140</td><td>MG</td><td>INTER ACESS ABSOLUTE VERTEX FC DE FUNDO DE INVESTIMENTO FINANCEIRO MULTIMERCADO</td><td>MG</td><td>Minas Gerais</td></tr><tr><td>16570371000149</td><td>EM FUNCIONAMENTO NORMAL</td><td>2012-08-01</td><td>2.0</td><td>2771984.61</td><td>16570371000149</td><td>SP</td><td>BBT MULTIMERCADO FUNDO DE INVESTIMENTO FINANCEIRO</td><td>SP</td><td>São Paulo</td></tr><tr><td>43236423000118</td><td>EM FUNCIONAMENTO NORMAL</td><td>2021-08-24</td><td>null</td><td>3.5631362132E8</td><td>43236423000118</td><td>SP</td><td>CLOUD9 CAPITAL FUNDO DE INVESTIMENTO EM PARTICIPACOES MULTIESTRATEGIA</td><td>SP</td><td>São Paulo</td></tr><tr><td>29881003000163</td><td>EM FUNCIONAMENTO NORMAL</td><td>2019-01-23</td><td>0.01</td><td>4.9264134473E8</td><td>29881003000163</td><td>SP</td><td>SILEX FUNDO DE INVESTIMENTO MULTIMERCADO CREDITO PRIVADO INVESTIMENTO NO EXTERIOR</td><td>SP</td><td>São Paulo</td></tr><tr><td>02918923000152</td><td>EM FUNCIONAMENTO NORMAL</td><td>2005-03-28</td><td>2.0</td><td>6269533.2</td><td>02918923000152</td><td>SP</td><td>BNP PARIBAS MAPFRE MAXI 20 MULTIMERCADO CIC COTAS DE CI PREVIDENCIARIA - RESPONSABILIDADE LIMITADA</td><td>SP</td><td>São Paulo</td></tr><tr><td>10500895000187</td><td>EM FUNCIONAMENTO NORMAL</td><td>2008-12-02</td><td>null</td><td>1.123352714E7</td><td>10500895000187</td><td>SP</td><td>INVESTIMAGE 1 FUNDO DE FINANCIAMENTO DA INDUSTRIA CINEMATOGRAFICA NACIONAL - FUNCINE</td><td>SP</td><td>São Paulo</td></tr><tr><td>45254732000146</td><td>EM FUNCIONAMENTO NORMAL</td><td>2022-03-10</td><td>null</td><td>4.021983357E7</td><td>45254732000146</td><td>RJ</td><td>POXIM FUNDO DE INVESTIMENTO IMOBILIARIO RESPONSABILIDADE LIMITADA</td><td>RJ</td><td>Rio de Janeiro</td></tr><tr><td>36312772000106</td><td>EM FUNCIONAMENTO NORMAL</td><td>2020-02-18</td><td>null</td><td>5.120662227E7</td><td>36312772000106</td><td>MG</td><td>INTER TEVA INDICE DE PAPEL FUNDO DE INVESTIMENTO IMOBILIARIO FII RESPONSABILIDADE LIMITADA</td><td>MG</td><td>Minas Gerais</td></tr><tr><td>14067624000130</td><td>EM FUNCIONAMENTO NORMAL</td><td>2011-10-28</td><td>null</td><td>151818.15</td><td>14067624000130</td><td>SP</td><td>FUNDO DE INVESTIMENTO EM PARTICIPACOES EM HOTELARIA MULTIESTRATEGIA</td><td>SP</td><td>São Paulo</td></tr><tr><td>35819666000150</td><td>EM FUNCIONAMENTO NORMAL</td><td>2020-06-19</td><td>2.0</td><td>1.6604255414E9</td><td>35819666000150</td><td>SP</td><td>JIVE DISTRESSED III ONSHORE FIC DE FIF MULTIMERCADO - CREDITO PRIVADO RESPONSABILIDADE LIMITADA</td><td>SP</td><td>São Paulo</td></tr><tr><td>51476870000172</td><td>EM FUNCIONAMENTO NORMAL</td><td>2023-07-19</td><td>null</td><td>1.0417893333E8</td><td>51476870000172</td><td>SP</td><td>DELTA FUNDO DE INVESTIMENTO IMOBILIARIO</td><td>SP</td><td>São Paulo</td></tr><tr><td>52317521000170</td><td>EM FUNCIONAMENTO NORMAL</td><td>2023-09-26</td><td>null</td><td>4511806.83</td><td>52317521000170</td><td>SP</td><td>IAT FUNDO DE INVESTIMENTO MULTIMERCADO RESPONSABILIDADE LIMITADA CREDITO PRIVADO IE</td><td>SP</td><td>São Paulo</td></tr><tr><td>47983885000150</td><td>EM FUNCIONAMENTO NORMAL</td><td>2022-12-08</td><td>null</td><td>1.046652606E8</td><td>47983885000150</td><td>SP</td><td>AXA IM SILVANUS FUND FUNDO DE INVESTIMENTO EM PARTICIPACOES MULTIESTRATEGIA RESPONSABILIDADE LIMITAD</td><td>SP</td><td>São Paulo</td></tr><tr><td>50399189000105</td><td>EM FUNCIONAMENTO NORMAL</td><td>2023-04-20</td><td>null</td><td>9.422244381E7</td><td>50399189000105</td><td>SP</td><td>FUNDO DE INVESTIMENTO IMOBILIARIO DE UNIDADES AUTONOMAS III RESPONSABILIDADE LIMITADA</td><td>SP</td><td>São Paulo</td></tr><tr><td>33240249000123</td><td>EM FUNCIONAMENTO NORMAL</td><td>2019-06-21</td><td>null</td><td>2.40766695662E9</td><td>33240249000123</td><td>SP</td><td>KILAUEA BRASIL PARTNERS II - FUNDO DE INVESTIMENTO EM PARTICIPACOES MULTIESTRATEGIA IE RESP LIMITADA</td><td>SP</td><td>São Paulo</td></tr><tr><td>50226162000110</td><td>EM FUNCIONAMENTO NORMAL</td><td>2023-04-05</td><td>null</td><td>1559098.21</td><td>50226162000110</td><td>SP</td><td>SANVI FUNDO DE INVESTIMENTO EM PARTICIPACOES CAPITAL-SEMENTE</td><td>SP</td><td>São Paulo</td></tr><tr><td>48996079000189</td><td>EM FUNCIONAMENTO NORMAL</td><td>2022-12-28</td><td>null</td><td>7.640086935E7</td><td>48996079000189</td><td>SP</td><td>KSK FUNDO DE INVESTIMENTO MULTIMERCADO CREDITO PRIVADO</td><td>SP</td><td>São Paulo</td></tr><tr><td>40211684000195</td><td>EM FUNCIONAMENTO NORMAL</td><td>2021-02-08</td><td>null</td><td>8814320.26</td><td>40211684000195</td><td>SP</td><td>CREDINOV FUNDO DE INVESTIMENTO EM DIREITOS CREDITORIOS NAO-PADRONIZADOS RESPONSABILIDADE LIMITADA</td><td>SP</td><td>São Paulo</td></tr><tr><td>06985322000113</td><td>EM FUNCIONAMENTO NORMAL</td><td>2012-03-08</td><td>32.0</td><td>1.7911641871E8</td><td>06985322000113</td><td>MG</td><td>CHALLENGER FUNDO DE INVESTIMENTO FINANCEIRO EM ACOES</td><td>MG</td><td>Minas Gerais</td></tr><tr><td>32295244000135</td><td>EM FUNCIONAMENTO NORMAL</td><td>2019-12-26</td><td>null</td><td>3902898.13</td><td>32295244000135</td><td>SP</td><td>CREDORES FUNDO DE INVESTIMENTO EM DIREITOS CREDITORIOS NAO-PADRONIZADOS RESPONSABILIDADE LIMITADA</td><td>SP</td><td>São Paulo</td></tr><tr><td>29315301000196</td><td>EM FUNCIONAMENTO NORMAL</td><td>2018-04-03</td><td>null</td><td>4.3184203627E8</td><td>29315301000196</td><td>SP</td><td>FUJI BRASIL PARTNERS I C - FIP MULTIESTRATEGIA INVESTIMENTO NO EXTERIOR RESP LIMITADA</td><td>SP</td><td>São Paulo</td></tr><tr><td>05862906000139</td><td>EM FUNCIONAMENTO NORMAL</td><td>2005-05-30</td><td>0.34</td><td>5.0323263789E8</td><td>05862906000139</td><td>SP</td><td>BNP PARIBAS TARGUS CLASSE DE INVESTIMENTO EM COTAS DE CLASSE DE INVESTIMENTO RF CP RESP LIMITADA</td><td>SP</td><td>São Paulo</td></tr><tr><td>45018961000161</td><td>EM FUNCIONAMENTO NORMAL</td><td>2022-05-30</td><td>null</td><td>2.532663374E7</td><td>45018961000161</td><td>SP</td><td>NOVA ERA FUNDO DE INVESTIMENTO EM DIREITOS CREDITORIOS MULTISSETORIAL - RESPONSABILIDADE LIMITADA</td><td>SP</td><td>São Paulo</td></tr><tr><td>22601577000191</td><td>EM FUNCIONAMENTO NORMAL</td><td>2015-07-02</td><td>null</td><td>1.17893921507E9</td><td>22601577000191</td><td>SP</td><td>FUNDO DE INVESTIMENTO EM PARTICIPACOES VOCATUS MULTIESTRATEGIA RESP LIMITADA</td><td>SP</td><td>São Paulo</td></tr><tr><td>11044355000107</td><td>EM FUNCIONAMENTO NORMAL</td><td>2010-08-09</td><td>null</td><td>2.2891833875E8</td><td>11044355000107</td><td>MG</td><td>STARX FUNDO DE INVESTIMENTO IMOBILIARIO FII RESPONSABILIDADE LIMITADA</td><td>MG</td><td>Minas Gerais</td></tr><tr><td>44177436000126</td><td>EM FUNCIONAMENTO NORMAL</td><td>2022-01-03</td><td>null</td><td>4.0055315568E8</td><td>44177436000126</td><td>SP</td><td>GALAXY FUNDO DE INVESTIMENTO EM DIREITOS CREDITORIOS RESPONSABILIDADE LIMITADA</td><td>SP</td><td>São Paulo</td></tr><tr><td>36930464000144</td><td>EM FUNCIONAMENTO NORMAL</td><td>2021-04-09</td><td>null</td><td>6.7558202267E8</td><td>36930464000144</td><td>MG</td><td>BTSP II FUNDO DE INVESTIMENTO IMOBILIARIO FII RESPONSABILIDADE LIMITADA</td><td>MG</td><td>Minas Gerais</td></tr><tr><td>30130708000128</td><td>EM FUNCIONAMENTO NORMAL</td><td>2018-04-13</td><td>null</td><td>2.76308112478E9</td><td>30130708000128</td><td>SP</td><td>KINEA HIGH YIELD CRI FUNDO DE INVESTIMENTO IMOBILIARIO RESPONSABILIDADE LIMITADA</td><td>SP</td><td>São Paulo</td></tr><tr><td>33913568000152</td><td>EM FUNCIONAMENTO NORMAL</td><td>2019-12-30</td><td>0.09</td><td>999393.63</td><td>33913568000152</td><td>SP</td><td>DB I CLASSE DE INVESTIMENTO MULTIMERCADO INVESTIMENTO NO EXTERIOR CREDITO PRIVADO</td><td>SP</td><td>São Paulo</td></tr><tr><td>26089666000151</td><td>EM FUNCIONAMENTO NORMAL</td><td>2016-10-31</td><td>0.38</td><td>1.0975836454E8</td><td>26089666000151</td><td>MG</td><td>INTER SELECTION DEBENT INCENT FC DE FIF INCENT DE INVEST EM INFRA RENDA FIXA CRED PRIV RESP LIMITADA</td><td>MG</td><td>Minas Gerais</td></tr><tr><td>49983891000132</td><td>EM FUNCIONAMENTO NORMAL</td><td>2023-03-17</td><td>null</td><td>2.5731731862E8</td><td>49983891000132</td><td>RJ</td><td>PATRIA CREDITO ESTRUTURADO 365 FIC FIM CREDITO PRIVADO</td><td>RJ</td><td>Rio de Janeiro</td></tr><tr><td>44432479000100</td><td>EM FUNCIONAMENTO NORMAL</td><td>2022-05-06</td><td>0.2</td><td>2.6981060166E8</td><td>44432479000100</td><td>SP</td><td>BNP PARIBAS PREVINORTE CLASSE DE INVESTIMENTO MULTIMERCADO - RESPONSABILIDADE LIMITADA</td><td>SP</td><td>São Paulo</td></tr><tr><td>49963885000113</td><td>EM FUNCIONAMENTO NORMAL</td><td>2023-03-16</td><td>null</td><td>5.4588945138E8</td><td>49963885000113</td><td>SP</td><td>ALPHA FUNDO DE INVESTIMENTO EM PARTICIPACOES MULTIESTRATEGIA</td><td>SP</td><td>São Paulo</td></tr><tr><td>32203308000120</td><td>EM FUNCIONAMENTO NORMAL</td><td>2019-03-26</td><td>0.38</td><td>2.0211663737E8</td><td>32203308000120</td><td>SP</td><td>BNP PARIBAS CASH DI II REFERENCIADO CI EM CLASSES DE INVESTIMENTO RENDA FIXA - RESP LIMITADA</td><td>SP</td><td>São Paulo</td></tr><tr><td>39412078000159</td><td>EM FUNCIONAMENTO NORMAL</td><td>2022-08-24</td><td>null</td><td>1000846.18</td><td>39412078000159</td><td>SP</td><td>BELLAGIO FUNDO DE INVESTIMENTO EM PARTICIPACOES MULTIESTRATEGIA RESPONSABILDADE LIMITADA</td><td>SP</td><td>São Paulo</td></tr><tr><td>45693226000153</td><td>EM FUNCIONAMENTO NORMAL</td><td>2022-05-23</td><td>null</td><td>6543725.97</td><td>45693226000153</td><td>SP</td><td>CREDITO AGRO FUNDO DE INVESTIMENTO EM DIREITOS CREDITORIOS NAO-PADRONIZADOS RESP LIMITADA</td><td>SP</td><td>São Paulo</td></tr><tr><td>42754444000162</td><td>EM FUNCIONAMENTO NORMAL</td><td>2021-11-29</td><td>null</td><td>6.572671967E7</td><td>42754444000162</td><td>RJ</td><td>ISTAMBUL FUNDO DE INVESTIMENTO MULTIMERCADO</td><td>RJ</td><td>Rio de Janeiro</td></tr><tr><td>40670750000195</td><td>EM FUNCIONAMENTO NORMAL</td><td>2021-04-07</td><td>null</td><td>6.35688417573E9</td><td>40670750000195</td><td>SP</td><td>B10 FUNDO DE INVESTIMENTOS EM PARTICIPACOES MULTIESTRATEGIA</td><td>SP</td><td>São Paulo</td></tr><tr><td>18402048000191</td><td>EM FUNCIONAMENTO NORMAL</td><td>2013-07-02</td><td>null</td><td>571931.15</td><td>18402048000191</td><td>SP</td><td>SANTA MARINA CLASSE DE INVESTIMENTO EM PARTICIPACOES MULTIESTRATEGIA - RESPONSABILIDADE LIMITADA</td><td>SP</td><td>São Paulo</td></tr><tr><td>49112611000110</td><td>EM FUNCIONAMENTO NORMAL</td><td>2023-01-09</td><td>null</td><td>9.927325637E7</td><td>49112611000110</td><td>SP</td><td>ID GOIANA FUNDO DE INVESTIMENTO FIAGRO IMOBILIARIO</td><td>SP</td><td>São Paulo</td></tr><tr><td>43876172000136</td><td>EM FUNCIONAMENTO NORMAL</td><td>2022-03-08</td><td>null</td><td>4142252.66</td><td>43876172000136</td><td>MG</td><td>IA CARTEIRA JUROS FC DE FUNDO DE INVESTIMENTO FINANCEIRO MULT CRED PRIV RESPONSABILIDADE LIMITADA</td><td>MG</td><td>Minas Gerais</td></tr><tr><td>52324762000147</td><td>EM FUNCIONAMENTO NORMAL</td><td>2023-09-26</td><td>null</td><td>2.696179548E7</td><td>52324762000147</td><td>SP</td><td>FUNDO DE INVESTIMENTO IMOBILIARIO DE UNIDADES AUTONOMAS IV</td><td>SP</td><td>São Paulo</td></tr><tr><td>47085583000164</td><td>EM FUNCIONAMENTO NORMAL</td><td>2022-10-18</td><td>null</td><td>9.948267096E7</td><td>47085583000164</td><td>SP</td><td>JIVE DISTRESSED & SPECIAL SITS IV INSTITUTIONAL FIC DE FIF MULTI - CP RESPONSABILIDADE LIMITADA</td><td>SP</td><td>São Paulo</td></tr><tr><td>32162536000108</td><td>EM FUNCIONAMENTO NORMAL</td><td>2019-05-15</td><td>null</td><td>4.685894751E7</td><td>32162536000108</td><td>SP</td><td>PSS SMALL FUNDO DE INVESTIMENTO EM PARTICIPACOES MULTIESTRATEGIA INVESTIMENTO NO EXTERIOR</td><td>SP</td><td>São Paulo</td></tr><tr><td>45908305000134</td><td>EM FUNCIONAMENTO NORMAL</td><td>2022-11-22</td><td>null</td><td>1.6483529491E8</td><td>45908305000134</td><td>SP</td><td>ID 309 FUNDO DE INVESTIMENTO MULTIMERCADO CREDITO PRIVADO INVESTIMENTO NO EXTERIOR</td><td>SP</td><td>São Paulo</td></tr><tr><td>39723229000190</td><td>EM FUNCIONAMENTO NORMAL</td><td>2021-01-27</td><td>0.07</td><td>6.948446891E7</td><td>39723229000190</td><td>SP</td><td>BLACKROCK ACOES GLOBAIS ESG CLASSE DE INVESTIMENTO SUSTENTAVEL EM ACOES - RESPONSABILIDADE LIMITADA</td><td>SP</td><td>São Paulo</td></tr><tr><td>45899745000172</td><td>EM FUNCIONAMENTO NORMAL</td><td>2022-10-25</td><td>null</td><td>1.0580562099E8</td><td>45899745000172</td><td>SP</td><td>ID 112 FUNDO DE INVESTIMENTO EM DIREITOS CREDITORIOS NAO-PADRONIZADOS</td><td>SP</td><td>São Paulo</td></tr><tr><td>09228836000112</td><td>EM FUNCIONAMENTO NORMAL</td><td>2008-01-07</td><td>0.0</td><td>6.4796950853E8</td><td>09228836000112</td><td>SP</td><td>HORIZON CLASSE DE INVESTIMENTO MULTIMERCADO CREDITO PRIVADO INVESTIMENTO NO EXTERIOR</td><td>SP</td><td>São Paulo</td></tr><tr><td>42196346000157</td><td>EM FUNCIONAMENTO NORMAL</td><td>2021-08-09</td><td>null</td><td>2.847891431E7</td><td>42196346000157</td><td>SP</td><td>ADAMANTUS FUNDO DE INVESTIMENTO EM DIREITOS CREDITORIOS MULTISETORIAL</td><td>SP</td><td>São Paulo</td></tr><tr><td>02727085000130</td><td>EM FUNCIONAMENTO NORMAL</td><td>2022-04-09</td><td>null</td><td>1355673.91</td><td>02727085000130</td><td>RJ</td><td>FUNDO MUTUO STOCK MAXIMA DE PRIVATIZACAO FGTS</td><td>RJ</td><td>Rio de Janeiro</td></tr><tr><td>32222912000102</td><td>EM FUNCIONAMENTO NORMAL</td><td>2018-12-21</td><td>null</td><td>2.950780867E7</td><td>32222912000102</td><td>SP</td><td>PRIME REAL ESTATE FUNDO DE INVESTIMENTO IMOBILIARIO RESPONSABILIDADE LIMITADA</td><td>SP</td><td>São Paulo</td></tr><tr><td>52112338000139</td><td>EM FUNCIONAMENTO NORMAL</td><td>2023-09-08</td><td>null</td><td>3.965763331E7</td><td>52112338000139</td><td>SP</td><td>FIZZ CARD FUNDO DE INVESTIMENTO EM DIREITOS CREDITORIOS NAO-PADRONIZADOS RESPONSABILIDADE LIMITADA</td><td>SP</td><td>São Paulo</td></tr><tr><td>28240255000140</td><td>EM FUNCIONAMENTO NORMAL</td><td>2017-08-30</td><td>null</td><td>7.533099041E7</td><td>28240255000140</td><td>SP</td><td>MARINO INVEST FUNDO DE INVESTIMENTO EM DIREITOS CREDITORIOS NAO-PADRONIZADOS RESP LIMITADA</td><td>SP</td><td>São Paulo</td></tr><tr><td>28796986000177</td><td>EM FUNCIONAMENTO NORMAL</td><td>2018-04-27</td><td>null</td><td>1.0377110259E8</td><td>28796986000177</td><td>SP</td><td>KINERET FUNDO DE INVESTIMENTO EM DIREITOS CREDITORIOS</td><td>SP</td><td>São Paulo</td></tr><tr><td>09234078000145</td><td>EM FUNCIONAMENTO NORMAL</td><td>2008-06-04</td><td>null</td><td>1.16737717074E10</td><td>09234078000145</td><td>DF</td><td>FUNDO DE INVESTIMENTO DO FUNDO DE GARANTIA DO TEMPO DE SERVICO</td><td>DF</td><td>Distrito Federal</td></tr><tr><td>14166140000149</td><td>EM FUNCIONAMENTO NORMAL</td><td>2012-01-18</td><td>null</td><td>1.29401414112E9</td><td>14166140000149</td><td>SP</td><td>FUNDO DE INVESTIMENTO EM DIREITOS CREDITORIOS SIFRA STAR</td><td>SP</td><td>São Paulo</td></tr><tr><td>23120075000101</td><td>EM FUNCIONAMENTO NORMAL</td><td>2022-11-28</td><td>null</td><td>1438003.41</td><td>23120075000101</td><td>SP</td><td>GLP INVESTIMENTOS VII FUNDO DE INVESTIMENTO EM PARTICIPACOES MULTIESTRATEGIA</td><td>SP</td><td>São Paulo</td></tr><tr><td>26452257000178</td><td>EM FUNCIONAMENTO NORMAL</td><td>2017-06-12</td><td>null</td><td>5.502430724E7</td><td>26452257000178</td><td>SP</td><td>AURI FUNDO DE INVESTIMENTO EM DIREITOS CREDITORIOS RESPONSABILIDADE LIMITADA</td><td>SP</td><td>São Paulo</td></tr><tr><td>22809036000153</td><td>EM FUNCIONAMENTO NORMAL</td><td>2016-06-20</td><td>0.8</td><td>1.396207214E7</td><td>22809036000153</td><td>SP</td><td>BNP PARIBAS ICATU SEG CLASSE DE INVESTIMENTO PREVIDENCIARIA RENDA FIXA CRED PRIVADO - RESP LIMITADA</td><td>SP</td><td>São Paulo</td></tr><tr><td>11249598000173</td><td>EM FUNCIONAMENTO NORMAL</td><td>2009-11-11</td><td>null</td><td>3.8722679502E8</td><td>11249598000173</td><td>SP</td><td>AGRIFARM FUNDO DE INVESTIMENTO EM PARTICIPACOES MULTIESTRATEGIA</td><td>SP</td><td>São Paulo</td></tr><tr><td>24701488000142</td><td>EM FUNCIONAMENTO NORMAL</td><td>2016-05-11</td><td>null</td><td>1.9659790255E8</td><td>24701488000142</td><td>SP</td><td>BREOF III - FUNDO DE INVESTIMENTO EM PARTICIPACOES MULTIESTRATEGIA - RESPONSABILIDADE LIMITADA</td><td>SP</td><td>São Paulo</td></tr><tr><td>07644864000195</td><td>EM FUNCIONAMENTO NORMAL</td><td>2005-12-27</td><td>null</td><td>1248536.18</td><td>07644864000195</td><td>SP</td><td>CINE AA FUNDO DE FINANCIAMENTO DA INDUSTRIA CINEMATOGRAFICA NACIONAL - FUNCINE</td><td>SP</td><td>São Paulo</td></tr><tr><td>50152676000179</td><td>EM FUNCIONAMENTO NORMAL</td><td>2023-03-30</td><td>null</td><td>3.473794755E7</td><td>50152676000179</td><td>SP</td><td>INVESTMACH FUNDO DE INVESTIMENTO EM COTAS DE FUNDOS DE INVESTIMENTO MULTIMERCADO CREDITO PRIVADO</td><td>SP</td><td>São Paulo</td></tr><tr><td>52069691000183</td><td>EM FUNCIONAMENTO NORMAL</td><td>2023-09-04</td><td>null</td><td>7.4204001813E8</td><td>52069691000183</td><td>SP</td><td>HERMON FUNDO DE INVESTIMENTO EM DIREITOS CREDITORIOS NAO-PADRONIZADOS</td><td>SP</td><td>São Paulo</td></tr><tr><td>35178253000134</td><td>EM FUNCIONAMENTO NORMAL</td><td>2020-01-10</td><td>0.66</td><td>3.5600970375E8</td><td>35178253000134</td><td>MG</td><td>MARACA FUNDO DE INVESTIMENTO MULTIMERCADO INVESTIMENTO NO EXTERIOR E CREDITO PRIVADO</td><td>MG</td><td>Minas Gerais</td></tr><tr><td>51804355000174</td><td>EM FUNCIONAMENTO NORMAL</td><td>2023-08-14</td><td>null</td><td>1.575957148E7</td><td>51804355000174</td><td>SP</td><td>COPEL VENTURES I FUNDO DE INVESTIMENTO EM PARTICIPACOES - EMPRESAS EMERGENTES RESP LIMITADA</td><td>SP</td><td>São Paulo</td></tr><tr><td>02668201000197</td><td>EM FUNCIONAMENTO NORMAL</td><td>2005-03-22</td><td>0.1</td><td>1.59627950729E9</td><td>02668201000197</td><td>SP</td><td>BNP PARIBAS EQD BRAZIL FUND CLASSE DE INVESTIMENTO MULTIMERCADO CREDITO PRIVADO</td><td>SP</td><td>São Paulo</td></tr><tr><td>46780646000130</td><td>EM FUNCIONAMENTO NORMAL</td><td>2022-12-08</td><td>null</td><td>9.50403465E7</td><td>46780646000130</td><td>SP</td><td>PC 78 FUNDO DE INVESTIMENTO EM PARTICIPACOES MULTIESTRATEGIA</td><td>SP</td><td>São Paulo</td></tr><tr><td>28549930000118</td><td>EM FUNCIONAMENTO NORMAL</td><td>2017-12-07</td><td>null</td><td>9.3356381139E8</td><td>28549930000118</td><td>SP</td><td>CSHG JIVE DISTRESSED ALLOCATION II FIC DE FIF MULTI CP - RESPONSABILIDADE LIMITADA</td><td>SP</td><td>São Paulo</td></tr><tr><td>50311731000126</td><td>EM FUNCIONAMENTO NORMAL</td><td>2023-04-13</td><td>null</td><td>5.484187399E7</td><td>50311731000126</td><td>SP</td><td>ID FY FUNDO DE INVESTIMENTO EM COTAS DE FUNDO DE INVESTIMENTO EM DIREITOS CREDITORIOS RESP LIMITADA</td><td>SP</td><td>São Paulo</td></tr><tr><td>27368761000157</td><td>EM FUNCIONAMENTO NORMAL</td><td>2019-04-29</td><td>null</td><td>3.15840331E8</td><td>27368761000157</td><td>SP</td><td>GLP INVESTIMENTOS V FUNDO DE INVESTIMENTO EM PARTICIPACOES - MULTIESTRATEGIA</td><td>SP</td><td>São Paulo</td></tr><tr><td>01497954000114</td><td>EM FUNCIONAMENTO NORMAL</td><td>1996-10-02</td><td>null</td><td>1.5748424368E8</td><td>01497954000114</td><td>RS</td><td>FUNDO DE INVESTIMENTO IMOBILIARIO MISTRAL</td><td>RS</td><td>Rio Grande do Sul</td></tr><tr><td>47716415000120</td><td>EM FUNCIONAMENTO NORMAL</td><td>2022-10-07</td><td>1.2</td><td>3.920949699E7</td><td>47716415000120</td><td>RJ</td><td>JOURNEY CAPITAL CREDITO ESTRUTURADO 120 FUNDO DE INVESTIMENTO EM COTAS DE FUNDOS DE INVESTIMENTO MULTIMERCADO CREDITO PRIVADO</td><td>RJ</td><td>Rio de Janeiro</td></tr><tr><td>19831126000136</td><td>EM FUNCIONAMENTO NORMAL</td><td>2014-04-11</td><td>1.5</td><td>1.63386148491E9</td><td>19831126000136</td><td>SP</td><td>WESTERN ASSET FUNDO DE INVESTIMENTO FINANCEIRO ACOES BDR NIVEL I - RESPONSABILIDADE LIMITADA</td><td>SP</td><td>São Paulo</td></tr><tr><td>20998989000181</td><td>EM FUNCIONAMENTO NORMAL</td><td>2022-12-06</td><td>null</td><td>1.223790679E7</td><td>20998989000181</td><td>SP</td><td>VERUM II FUNDO DE INVESTIMENTO EM DIREITOS CREDITORIOS NAO PADRONIZADOS RESPONSABILIDADE LIMITADA</td><td>SP</td><td>São Paulo</td></tr><tr><td>11326746000106</td><td>EM FUNCIONAMENTO NORMAL</td><td>2010-05-28</td><td>null</td><td>4.0682077271E8</td><td>11326746000106</td><td>SP</td><td>TAG GR IV - FUNDO DE INVESTIMENTO IMOBILIARIO DE RESPONSABILIDADE LIMITADA</td><td>SP</td><td>São Paulo</td></tr><tr><td>29315285000131</td><td>EM FUNCIONAMENTO NORMAL</td><td>2018-10-02</td><td>null</td><td>1.277059947E7</td><td>29315285000131</td><td>SP</td><td>OIKOS FUNDO DE INVESTIMENTO EM PARTICIPACOES MULTIESTRATEGIA - RESPONSABILIDADE LIMITADA</td><td>SP</td><td>São Paulo</td></tr><tr><td>16685929000131</td><td>EM FUNCIONAMENTO NORMAL</td><td>2023-02-13</td><td>null</td><td>6.2138924697E8</td><td>16685929000131</td><td>RJ</td><td>FUNDO DE INVESTIMENTO IMOBILIARIO MACAM SHOPPING RESPONSABILIDADE LIMITADA</td><td>RJ</td><td>Rio de Janeiro</td></tr><tr><td>34644159000160</td><td>EM FUNCIONAMENTO NORMAL</td><td>2019-11-04</td><td>null</td><td>3.7820675354E8</td><td>34644159000160</td><td>SP</td><td>PATRIA INFRAESTRUTURA IV FEEDER-D FUNDO DE INVESTIMENTO EM PARTICIPACOES MULTI RESP LIMITADA</td><td>SP</td><td>São Paulo</td></tr><tr><td>04192419000143</td><td>EM FUNCIONAMENTO NORMAL</td><td>2005-03-15</td><td>0.8</td><td>3.735282279E7</td><td>04192419000143</td><td>SP</td><td>CLASSE UNICA DO WESTERN ASSET RF ATIVO MAX FIF - RESPONSABILIDAE LIMITADA</td><td>SP</td><td>São Paulo</td></tr><tr><td>09636619000161</td><td>EM FUNCIONAMENTO NORMAL</td><td>2008-10-02</td><td>0.22</td><td>7.7668289759E8</td><td>09636619000161</td><td>SP</td><td>BNP PARIBAS SOBERANO CIC DE CLASSE DE INVESTIMENTO RENDA FIXA SIMPLES - RESPONSABILIDADE LIMITADA</td><td>SP</td><td>São Paulo</td></tr><tr><td>34835191000123</td><td>EM FUNCIONAMENTO NORMAL</td><td>2019-09-23</td><td>null</td><td>1.3414947441E8</td><td>34835191000123</td><td>MG</td><td>INTER RESIDENCE FUNDO DE INVESTIMENTO IMOBILIARIO FII RESPONSABILIDADE LIMITADA</td><td>MG</td><td>Minas Gerais</td></tr><tr><td>36655944000144</td><td>EM FUNCIONAMENTO NORMAL</td><td>2020-09-10</td><td>null</td><td>5050323.26</td><td>36655944000144</td><td>SP</td><td>VKR FUNDO DE INVESTIMENTO MULTIMERCADO - CREDITO PRIVADO LONGO PRAZO</td><td>SP</td><td>São Paulo</td></tr><tr><td>51305991000151</td><td>EM FUNCIONAMENTO NORMAL</td><td>2023-07-05</td><td>0.695</td><td>4.317146516E7</td><td>51305991000151</td><td>MG</td><td>DUNAS II FUNDO DE INVESTIMENTO FINANCEIRO MULTIMERCADO CREDITO PRIVADO RESPONSABILIDADE LIMITADA</td><td>MG</td><td>Minas Gerais</td></tr><tr><td>21838483000178</td><td>EM FUNCIONAMENTO NORMAL</td><td>2015-08-19</td><td>null</td><td>5.108677452E8</td><td>21838483000178</td><td>SP</td><td>RIO FORMOSO II FUNDO DE INVESTIMENTO EM DIREITOS CREDITORIOS NAO-PADRONIZADOS MULTISSETORIAL NP</td><td>SP</td><td>São Paulo</td></tr><tr><td>17517577000178</td><td>EM FUNCIONAMENTO NORMAL</td><td>2013-08-13</td><td>0.4</td><td>1.0133760388E8</td><td>17517577000178</td><td>SP</td><td>CLASSE UNICA DO WESTERN ASSET IMA-B5 ATIVO FUNDO DE INVESTIMENTO FINANCEIRO RF - RESP LIMITADA</td><td>SP</td><td>São Paulo</td></tr><tr><td>40054913000105</td><td>EM FUNCIONAMENTO NORMAL</td><td>2021-07-05</td><td>null</td><td>2.627733151E7</td><td>40054913000105</td><td>SP</td><td>BLUECAP DESENVOLVIMENTO LOGISTICO I FUNDO DE INVESTIMENTOIMOBILIARIO - FII RESPONSABILIDADE LIMITADA</td><td>SP</td><td>São Paulo</td></tr><tr><td>07408147000164</td><td>EM FUNCIONAMENTO NORMAL</td><td>2005-04-11</td><td>null</td><td>19103.37</td><td>07408147000164</td><td>PA</td><td>FUNDO AMAZONIA DE APLICACAO EM COTAS DE FUNDOS DE INVESTIMENTO-AMAZONIA MIX ''2''</td><td>PA</td><td>Pará</td></tr><tr><td>09087523000191</td><td>EM FUNCIONAMENTO NORMAL</td><td>2010-01-11</td><td>2.5</td><td>4.066088248E7</td><td>09087523000191</td><td>SP</td><td>CLASSE UNICA DO WESTERN ASSET VALUATION FUNDODE INVESTIMENTO FINANCEIRO EM ACOES - RESP LIMITADA</td><td>SP</td><td>São Paulo</td></tr><tr><td>05437916000127</td><td>EM FUNCIONAMENTO NORMAL</td><td>2002-12-10</td><td>null</td><td>1.2664304161E8</td><td>05437916000127</td><td>SP</td><td>FUNDO DE INVESTIMENTO IMOBILIARIO EUROPAR</td><td>SP</td><td>São Paulo</td></tr><tr><td>41114606000135</td><td>EM FUNCIONAMENTO NORMAL</td><td>2021-03-09</td><td>null</td><td>2.3775015558E8</td><td>41114606000135</td><td>SP</td><td>FUNDO DE INVESTIMENTO IMOBILIARIO UNIMED INVESTCOOP NACIONAL</td><td>SP</td><td>São Paulo</td></tr><tr><td>13243834000170</td><td>EM FUNCIONAMENTO NORMAL</td><td>2011-03-01</td><td>null</td><td>null</td><td>13243834000170</td><td>SP</td><td>TENEO FUNDO DE INVESTIMENTO EM PARTICIPACOES - MULTIESTRATEGIA</td><td>SP</td><td>São Paulo</td></tr><tr><td>37828802000102</td><td>EM FUNCIONAMENTO NORMAL</td><td>2021-07-19</td><td>null</td><td>5956004.96</td><td>37828802000102</td><td>SP</td><td>AZURE FI EM COTAS DE FUNDOS DE INVESTIMENTO EM DIREITOS CREDITORIOS - RESPONSABILIDADE LIMITADA</td><td>SP</td><td>São Paulo</td></tr><tr><td>41833315000105</td><td>EM FUNCIONAMENTO NORMAL</td><td>2021-05-24</td><td>null</td><td>3.12109464E7</td><td>41833315000105</td><td>SP</td><td>PRODUZ FUNDO DE INVESTIMENTO MULTIMERCADO - INVESTIMENTO NO EXTERIOR</td><td>SP</td><td>São Paulo</td></tr><tr><td>07110975000111</td><td>EM FUNCIONAMENTO NORMAL</td><td>2005-02-11</td><td>0.0</td><td>4.37160324335E9</td><td>07110975000111</td><td>SP</td><td>CLASSE UNICA DO OAK FUNDO DE INVESTIMENTO FINANCEIRO MULTIMERCADO CP INVESTIMENTO NO EXTERIOR</td><td>SP</td><td>São Paulo</td></tr><tr><td>14167479000160</td><td>EM FUNCIONAMENTO NORMAL</td><td>2011-10-21</td><td>1.2</td><td>2.687507781E7</td><td>14167479000160</td><td>SP</td><td>ZURICH BNPP MULTIMERCADO CIC DE CLASSES DE INVESTIMENTO PREVIDENCIARIA - RESPONSABILIDADE LIMITADA</td><td>SP</td><td>São Paulo</td></tr><tr><td>45018911000184</td><td>EM FUNCIONAMENTO NORMAL</td><td>2022-05-11</td><td>null</td><td>1.774384956E7</td><td>45018911000184</td><td>SP</td><td>HR FUNDO DE INVESTIMENTO EM DIREITOS CREDITORIOS FINANCEIRO - RESPONSABILIDADE LIMITADA</td><td>SP</td><td>São Paulo</td></tr><tr><td>27531244000157</td><td>EM FUNCIONAMENTO NORMAL</td><td>2017-06-29</td><td>null</td><td>2.437109633E7</td><td>27531244000157</td><td>SP</td><td>ONDABRASIL FUNDO DE INVESTIMENTO EM DIREITOS CREDITORIOS NAO-PADRONIZADOS RESP LIMITADA</td><td>SP</td><td>São Paulo</td></tr><tr><td>33361831000148</td><td>EM FUNCIONAMENTO NORMAL</td><td>2019-06-18</td><td>0.9</td><td>1.94939777E7</td><td>33361831000148</td><td>SP</td><td>BLACKROCK DYNAMIC HIGH INCOME CLASSE DE INVESTIMENTO MULTIMERCADO RESPONSABILIDADE LIMITADA</td><td>SP</td><td>São Paulo</td></tr><tr><td>47166761000181</td><td>EM FUNCIONAMENTO NORMAL</td><td>2022-07-21</td><td>null</td><td>9.443368023E7</td><td>47166761000181</td><td>SP</td><td>EUV GLADIATOR FUNDO DE INVESTIMENTO EM PARTICIPACOES MULTIESTRATEGIA</td><td>SP</td><td>São Paulo</td></tr><tr><td>50191107000132</td><td>EM FUNCIONAMENTO NORMAL</td><td>2023-04-03</td><td>null</td><td>1.7628287032E8</td><td>50191107000132</td><td>SP</td><td>ID SOBERANO FUNDO DE INVESTIMENTO RENDA FIXA SIMPLES LONGO PRAZO</td><td>SP</td><td>São Paulo</td></tr><tr><td>51029588000147</td><td>EM FUNCIONAMENTO NORMAL</td><td>2023-06-13</td><td>0.0</td><td>4.7998655265E8</td><td>51029588000147</td><td>SP</td><td>FRANKFURT CLASSE DE INVESTIMENTO MULTIMERCADO INVESTIMENTO NO EXTERIOR RESPONSABILIDADE LIMITADA</td><td>SP</td><td>São Paulo</td></tr><tr><td>49651181000105</td><td>EM FUNCIONAMENTO NORMAL</td><td>2023-02-17</td><td>null</td><td>4.232100033E7</td><td>49651181000105</td><td>SP</td><td>BAY SAO FRANCISCO FUNDO DE INVESTIMENTO MULTIMERCADO CREDITO PRIVADO INVESTIMENTO NO EXTERIOR</td><td>SP</td><td>São Paulo</td></tr><tr><td>11108013000103</td><td>EM FUNCIONAMENTO NORMAL</td><td>2009-09-25</td><td>2.0</td><td>8.337165502E7</td><td>11108013000103</td><td>SP</td><td>BNP PARIBAS SMALL CAPS CLASSE DE INVESTIMENTO EM ACOES - RESPONSABILIDADE LIMITADA</td><td>SP</td><td>São Paulo</td></tr><tr><td>52073804000114</td><td>EM FUNCIONAMENTO NORMAL</td><td>2023-09-04</td><td>null</td><td>2.2672389056E8</td><td>52073804000114</td><td>SP</td><td>IF-ACOR FUNDO DE INVESTIMENTO EM DIREITOS CREDITORIOS NAO-PADRONIZADOS RESPONSABILIDADE LIMITADA</td><td>SP</td><td>São Paulo</td></tr><tr><td>49224039000181</td><td>EM FUNCIONAMENTO NORMAL</td><td>2023-01-17</td><td>null</td><td>4801607.67</td><td>49224039000181</td><td>SP</td><td>GRIFFIN FUNDO DE INVESTIMENTO MULTIMERCADO CREDITO PRIVADO INVESTIMENTO NO EXTERIOR</td><td>SP</td><td>São Paulo</td></tr><tr><td>33361657000133</td><td>EM FUNCIONAMENTO NORMAL</td><td>2019-06-18</td><td>0.9</td><td>2.522218995E7</td><td>33361657000133</td><td>SP</td><td>BLACKROCK GLOBAL EVENT DRIVEN CLASSE DE INVESTIMENTO MULTIMERCADO RESPONSABILIDADE LIMITADA</td><td>SP</td><td>São Paulo</td></tr><tr><td>24874305000190</td><td>EM FUNCIONAMENTO NORMAL</td><td>2016-05-27</td><td>null</td><td>1.36746797716E9</td><td>24874305000190</td><td>SP</td><td>BREF III FUNDO DE INVESTIMENTO EM PARTICIPACOES MULTIESTRATEGIA RESPONSABILIDADE LIMITADA</td><td>SP</td><td>São Paulo</td></tr><tr><td>30282227000138</td><td>EM FUNCIONAMENTO NORMAL</td><td>2018-10-30</td><td>4.0</td><td>3.957397425E7</td><td>30282227000138</td><td>SP</td><td>BNP PARIBAS PREMIUM EQUITIES CI EM CLASSES DE INVESTIMENTO EM ACOES RESP LIMITADA</td><td>SP</td><td>São Paulo</td></tr><tr><td>00819889000133</td><td>EM FUNCIONAMENTO NORMAL</td><td>2005-03-17</td><td>1.0</td><td>5.729872778E7</td><td>00819889000133</td><td>SP</td><td>WESTERN ASSET HEDGE DOLAR FUNDO DE INVESTIMENTO FINANCEIRO CAMBIAL - RESPONSABILIDADE LIMITADA</td><td>SP</td><td>São Paulo</td></tr><tr><td>15049586000156</td><td>EM FUNCIONAMENTO NORMAL</td><td>2012-03-23</td><td>null</td><td>2.11082293021E9</td><td>15049586000156</td><td>SP</td><td>GLP INVESTIMENTOS II FUNDO DE INVESTIMENTO EM PARTICIPACOES MULTIESTRATEGIA</td><td>SP</td><td>São Paulo</td></tr><tr><td>14951577000193</td><td>EM FUNCIONAMENTO NORMAL</td><td>2012-05-10</td><td>1.0</td><td>9.110146163E7</td><td>14951577000193</td><td>SP</td><td>BNP PARIBAS MAPFRE RENDA FIXA ATIVO CIC DE CLASSES DE INVESTIMENTO PREVIDENCIARIA - RESP LIMITADA</td><td>SP</td><td>São Paulo</td></tr><tr><td>46778844000169</td><td>EM FUNCIONAMENTO NORMAL</td><td>2022-12-09</td><td>null</td><td>1.8557583749E8</td><td>46778844000169</td><td>SP</td><td>FLAMA SPECIAL RETURN FUNDO DE INVESTIMENTO EM PARTICIPACOES MULTIESTRATEGIA</td><td>SP</td><td>São Paulo</td></tr><tr><td>21596006000143</td><td>EM FUNCIONAMENTO NORMAL</td><td>2015-01-19</td><td>0.12</td><td>2.4057585479E8</td><td>21596006000143</td><td>SP</td><td>MAPFRE HEDGE IGPM PREV CLASSE DE INVESTIMENTO EM CLASSES DE INVESTIMENTO DE RF - RESP LIMITADA</td><td>SP</td><td>São Paulo</td></tr><tr><td>12124044000102</td><td>EM FUNCIONAMENTO NORMAL</td><td>2010-08-26</td><td>1.5</td><td>5.5395629203E8</td><td>12124044000102</td><td>SP</td><td>MAPFRE HEDGE PREV CLASSE DE INVESTIMENTO RENDA FIXA - RESPONSABILIDADE LIMITADA</td><td>SP</td><td>São Paulo</td></tr><tr><td>27486551000163</td><td>EM FUNCIONAMENTO NORMAL</td><td>2017-06-02</td><td>null</td><td>604067.12</td><td>27486551000163</td><td>SP</td><td>KILIMANJARO BRASIL PARTNERS I B - FUNDO DE INVESTIMENTO EM PARTICIPACOES MULTIESTRATEGIA IE RESP LIM</td><td>SP</td><td>São Paulo</td></tr><tr><td>50750438000165</td><td>EM FUNCIONAMENTO NORMAL</td><td>2023-05-19</td><td>null</td><td>3.2397564865E8</td><td>50750438000165</td><td>RJ</td><td>RIZA DOMUS FUNDO DE INVESTIMENTO IMOBILIARIO</td><td>RJ</td><td>Rio de Janeiro</td></tr><tr><td>36412972000130</td><td>EM FUNCIONAMENTO NORMAL</td><td>2020-09-10</td><td>null</td><td>5156801.75</td><td>36412972000130</td><td>SP</td><td>VKR FUNDO DE INVESTIMENTO EM DIREITOS CREDITORIOS RESPONSABILIDADE LIMITADA</td><td>SP</td><td>São Paulo</td></tr><tr><td>06905783000139</td><td>EM FUNCIONAMENTO NORMAL</td><td>2004-12-30</td><td>null</td><td>1.959792432E7</td><td>06905783000139</td><td>SP</td><td>INVESTIMAGE 2 - FUNDO DE FINANCIAMENTO DA INDUSTRIA CINEMATOGRAFICA NACIONAL - FUNCINE</td><td>SP</td><td>São Paulo</td></tr><tr><td>27531301000106</td><td>EM FUNCIONAMENTO NORMAL</td><td>2017-05-29</td><td>null</td><td>4.730974917E7</td><td>27531301000106</td><td>SP</td><td>QUANTHAS FUNDO DE INVESTIMENTO EM DIREITOS CREDITORIOS MULTISSETORIAL - RESPONSABILIDADE LIMITADA</td><td>SP</td><td>São Paulo</td></tr><tr><td>02918931000107</td><td>EM FUNCIONAMENTO NORMAL</td><td>2005-03-28</td><td>1.5</td><td>2.856408456E7</td><td>02918931000107</td><td>SP</td><td>BNP PARIBAS MAPFRE MAXI RENDA FIXA CIC DE CLASSES DE INVESTIMENTO PREVIDENCIARIA - RESP LIMITADA</td><td>SP</td><td>São Paulo</td></tr><tr><td>02918923000152</td><td>EM FUNCIONAMENTO NORMAL</td><td>2005-03-28</td><td>2.0</td><td>6269533.2</td><td>02918923000152</td><td>SP</td><td>BNP PARIBAS MAPFRE MAXI 20 MULTIMERCADO CIC COTAS DE CI PREVIDENCIARIA - RESPONSABILIDADE LIMITADA</td><td>SP</td><td>São Paulo</td></tr><tr><td>28240255000140</td><td>EM FUNCIONAMENTO NORMAL</td><td>2017-08-30</td><td>null</td><td>7.533099041E7</td><td>28240255000140</td><td>SP</td><td>MARINO INVEST FUNDO DE INVESTIMENTO EM DIREITOS CREDITORIOS NAO-PADRONIZADOS RESP LIMITADA</td><td>SP</td><td>São Paulo</td></tr><tr><td>26452257000178</td><td>EM FUNCIONAMENTO NORMAL</td><td>2017-06-12</td><td>null</td><td>5.502430724E7</td><td>26452257000178</td><td>SP</td><td>AURI FUNDO DE INVESTIMENTO EM DIREITOS CREDITORIOS RESPONSABILIDADE LIMITADA</td><td>SP</td><td>São Paulo</td></tr><tr><td>27486551000163</td><td>EM FUNCIONAMENTO NORMAL</td><td>2017-06-02</td><td>null</td><td>604067.12</td><td>27486551000163</td><td>SP</td><td>KILIMANJARO BRASIL PARTNERS I B - FUNDO DE INVESTIMENTO EM PARTICIPACOES MULTIESTRATEGIA IE RESP LIM</td><td>SP</td><td>São Paulo</td></tr><tr><td>27531301000106</td><td>EM FUNCIONAMENTO NORMAL</td><td>2017-05-29</td><td>null</td><td>4.730974917E7</td><td>27531301000106</td><td>SP</td><td>QUANTHAS FUNDO DE INVESTIMENTO EM DIREITOS CREDITORIOS MULTISSETORIAL - RESPONSABILIDADE LIMITADA</td><td>SP</td><td>São Paulo</td></tr><tr><td>28240255000140</td><td>EM FUNCIONAMENTO NORMAL</td><td>2017-08-30</td><td>null</td><td>7.533099041E7</td><td>28240255000140</td><td>SP</td><td>MARINO INVEST FUNDO DE INVESTIMENTO EM DIREITOS CREDITORIOS NAO-PADRONIZADOS RESP LIMITADA</td><td>SP</td><td>São Paulo</td></tr><tr><td>27486551000163</td><td>EM FUNCIONAMENTO NORMAL</td><td>2017-06-02</td><td>null</td><td>604067.12</td><td>27486551000163</td><td>SP</td><td>KILIMANJARO BRASIL PARTNERS I B - FUNDO DE INVESTIMENTO EM PARTICIPACOES MULTIESTRATEGIA IE RESP LIM</td><td>SP</td><td>São Paulo</td></tr><tr><td>27531301000106</td><td>EM FUNCIONAMENTO NORMAL</td><td>2017-05-29</td><td>null</td><td>4.730974917E7</td><td>27531301000106</td><td>SP</td><td>QUANTHAS FUNDO DE INVESTIMENTO EM DIREITOS CREDITORIOS MULTISSETORIAL - RESPONSABILIDADE LIMITADA</td><td>SP</td><td>São Paulo</td></tr><tr><td>28240255000140</td><td>EM FUNCIONAMENTO NORMAL</td><td>2017-08-30</td><td>null</td><td>7.533099041E7</td><td>28240255000140</td><td>SP</td><td>MARINO INVEST FUNDO DE INVESTIMENTO EM DIREITOS CREDITORIOS NAO-PADRONIZADOS RESP LIMITADA</td><td>SP</td><td>São Paulo</td></tr></tbody></table></div>"
      ]
     },
     "metadata": {
      "application/vnd.databricks.v1+output": {
       "addedWidgets": {},
       "aggData": [],
       "aggError": "",
       "aggOverflow": false,
       "aggSchema": [],
       "aggSeriesLimitReached": false,
       "aggType": "",
       "arguments": {},
       "columnCustomDisplayInfos": {},
       "data": [
        [
         "41953322000132",
         "EM FUNCIONAMENTO NORMAL",
         "2021-06-07",
         4.0,
         1.7319844967E8,
         "41953322000132",
         "MG",
         "INTER INFRA MASTER FIF INCENTIV DE INVESTIMENTO EM INFRA RENDA FIXA CRED PRIV RESP LIMITADA",
         "MG",
         "Minas Gerais"
        ],
        [
         "37088071000106",
         "EM FUNCIONAMENTO NORMAL",
         "2020-05-11",
         null,
         2536455.66,
         "37088071000106",
         "SP",
         "MERU REAL ESTATE III FUNDO DE INVESTIMENTO EM PARTICIPACOES MULTIESTRATEGIA IE RESP LIMITADA",
         "SP",
         "São Paulo"
        ],
        [
         "46929994000126",
         "EM FUNCIONAMENTO NORMAL",
         "2022-10-24",
         null,
         3.679685417E7,
         "46929994000126",
         "SP",
         "GRATIAM FLOW FUNDO DE INVESTIMENTO EM DIREITOS CREDITORIOS MULTISSETORIAL RESPONSABILIDADE LIMITADA",
         "SP",
         "São Paulo"
        ],
        [
         "44680388000194",
         "EM FUNCIONAMENTO NORMAL",
         "2022-03-25",
         null,
         2.483847192E7,
         "44680388000194",
         "SP",
         "ACELERA VAREJO FUNDO DE INVESTIMENTO EM DIREITOS CREDITORIOS RESPONSABILIDADE LIMITADA",
         "SP",
         "São Paulo"
        ],
        [
         "05754066000190",
         "EM FUNCIONAMENTO NORMAL",
         "2005-01-14",
         0.04,
         6.19662105094E9,
         "05754066000190",
         "SP",
         "CLASSE UNICA DO AGATA FUNDO DE INVESTIMENTO FINANCEIRO MULTIMERCADO CREDITO PRIVADO LONGO PRAZO",
         "SP",
         "São Paulo"
        ],
        [
         "50275622000109",
         "EM FUNCIONAMENTO NORMAL",
         "2023-04-11",
         null,
         1.321802143E7,
         "50275622000109",
         "SP",
         "ROHT FUNDO DE INVESTIMENTO IMOBILIARIO RESPONSABILIDADE LIMITADA",
         "SP",
         "São Paulo"
        ],
        [
         "44680435000108",
         "EM FUNCIONAMENTO NORMAL",
         "2022-09-27",
         null,
         3.678052558E7,
         "44680435000108",
         "SP",
         "OCTO FUNDO DE INVESTIMENTO IMOBILIARIO RESPONSABILIDADE LIMITADA",
         "SP",
         "São Paulo"
        ],
        [
         "18929680000198",
         "EM FUNCIONAMENTO NORMAL",
         "2013-09-25",
         null,
         4.144935435E7,
         "18929680000198",
         "SP",
         "BRIO REAL ESTATE FUNDO DE INVESTIMENTO EM PARTICIPACOES MULTIESTRATEGIA - RESPONSABILIDADE LIMITADA",
         "SP",
         "São Paulo"
        ],
        [
         "26845868000186",
         "EM FUNCIONAMENTO NORMAL",
         "2018-02-19",
         1.515,
         1265664.58,
         "26845868000186",
         "SP",
         "BNP PARIBAS ACCESS DIVERSIFIED DYNAMIC CLASSE DE INVESTIMENTO MULTIMERCADO - RESP LIMITADA",
         "SP",
         "São Paulo"
        ],
        [
         "44108111000191",
         "EM FUNCIONAMENTO NORMAL",
         "2022-10-06",
         null,
         2.7886747382E8,
         "44108111000191",
         "SP",
         "PCS II HEALTHCARE FUNDO DE INVESTIMENTO EM PARTICIPACOES",
         "SP",
         "São Paulo"
        ],
        [
         "47372720000141",
         "EM FUNCIONAMENTO NORMAL",
         "2022-08-09",
         null,
         3.160091085E7,
         "47372720000141",
         "SP",
         "2PX - FUNDO DE INVESTIMENTO MULTIMERCADO CREDITO PRIVADO",
         "SP",
         "São Paulo"
        ],
        [
         "31570611000107",
         "EM FUNCIONAMENTO NORMAL",
         "2018-10-03",
         null,
         6.7677066527E8,
         "31570611000107",
         "SP",
         "MONT BLANC BRASIL PARTNERS I H - FIP MULTIESTRATEGIA INVESTIMENTO NO EXTERIOR RESP LIMITADA",
         "SP",
         "São Paulo"
        ],
        [
         "48502650000161",
         "EM FUNCIONAMENTO NORMAL",
         "2022-11-30",
         null,
         2.742365066E7,
         "48502650000161",
         "SP",
         "SILVERSTONE FUNDO DE INVESTIMENTO EM DIREITOS CREDITORIOS NAO-PADRONIZADOS RESPONSABILIDADE LIMITADA",
         "SP",
         "São Paulo"
        ],
        [
         "07939851000143",
         "EM FUNCIONAMENTO NORMAL",
         "2006-08-16",
         0.042,
         2.32051852498E9,
         "07939851000143",
         "SP",
         "CLASSE UNICA ICEBERG FUNDO DE INVESTIMENTO MULTIMERCADO CREDITO PRIVADO LONGO PRAZO",
         "SP",
         "São Paulo"
        ],
        [
         "07144604000150",
         "EM FUNCIONAMENTO NORMAL",
         "2004-11-16",
         null,
         1479388.51,
         "07144604000150",
         "PA",
         "FUNDO BASA DE INVESTIMENTO FINANCEIRO SELETO ''2''",
         "PA",
         "Pará"
        ],
        [
         "45908200000185",
         "EM FUNCIONAMENTO NORMAL",
         "2022-08-26",
         null,
         5335302.04,
         "45908200000185",
         "SP",
         "BRAFIC FI EM COTAS DE FUNDOS DE INVESTIMENTO MULTIMERCADO CREDITO PRIVADO RESPONSABILIDADE LIMITADA",
         "SP",
         "São Paulo"
        ],
        [
         "42860984000120",
         "EM FUNCIONAMENTO NORMAL",
         "2021-08-30",
         null,
         9393138.14,
         "42860984000120",
         "SP",
         "CONDOBLUE I FUNDO DE INVESTIMENTO EM DIREITOS CREDITORIOS RESPONSABILIDADE LIMITADA",
         "SP",
         "São Paulo"
        ],
        [
         "44815107000163",
         "EM FUNCIONAMENTO NORMAL",
         "2022-02-15",
         null,
         2.208686899E7,
         "44815107000163",
         "RJ",
         "ARF SANTOS DUMONT PREV FIF MULTIMERCADO CREDITO PRIVADO - RESPONSABILIDADE LIMITADA",
         "RJ",
         "Rio de Janeiro"
        ],
        [
         "49651132000172",
         "EM FUNCIONAMENTO NORMAL",
         "2023-02-17",
         null,
         4.237867217E7,
         "49651132000172",
         "SP",
         "BAY HA LONG FUNDO DE INVESTIMENTO MULTIMERCADO CREDITO PRIVADO INVESTIMENTO NO EXTERIOR",
         "SP",
         "São Paulo"
        ],
        [
         "01147641000136",
         "EM FUNCIONAMENTO NORMAL",
         "2005-04-04",
         0.1775,
         5.4073140876E8,
         "01147641000136",
         "SP",
         "MAPFRE SOBERANO CLASSE DE INVESTIMENTO RENDA FIXA - RESPONSABILIDADE LIMITADA",
         "SP",
         "São Paulo"
        ],
        [
         "51292131000120",
         "EM FUNCIONAMENTO NORMAL",
         "2023-07-04",
         null,
         1.0623895649E8,
         "51292131000120",
         "SP",
         "SPESI I FUNDO DE INVESTIMENTO EM DIREITOS CREDITORIOS NAO-PADRONIZADOS MULTISSETORIAL RESP LIMITADA",
         "SP",
         "São Paulo"
        ],
        [
         "44680466000150",
         "EM FUNCIONAMENTO NORMAL",
         "2022-02-24",
         null,
         6.397035926E7,
         "44680466000150",
         "SP",
         "LGG INVEST FI EM COTAS DE FUNDO DE INVESTIMENTO MULTIMERCADO - CREDITO PRIVADO RESP LIMITADA",
         "SP",
         "São Paulo"
        ],
        [
         "19424677000185",
         "EM FUNCIONAMENTO NORMAL",
         "2023-02-01",
         2500.0,
         1.219515785E7,
         "19424677000185",
         "SP",
         "VERUM FUNDO DE INVESTIMENTO MULTIMERCADO CREDITO PRIVADO",
         "SP",
         "São Paulo"
        ],
        [
         "33361923000128",
         "EM FUNCIONAMENTO NORMAL",
         "2019-06-18",
         0.065,
         6.077961322E7,
         "33361923000128",
         "SP",
         "BLACKROCK GLOBAL BOND INCOME MASTER CLASSE DE INVESTIMENTO MULTIMERCADO - RESPONSABILIDADE LIMITADA",
         "SP",
         "São Paulo"
        ],
        [
         "07965741000156",
         "EM FUNCIONAMENTO NORMAL",
         "2006-06-27",
         0.7,
         7.937533818E7,
         "07965741000156",
         "SP",
         "BNP PARIBAS PREMIUM MULTIMERCADO CIC DE CLASSES DE INVESTIMENTO RESPONSABILIDADE LIMITADA",
         "SP",
         "São Paulo"
        ],
        [
         "45019002000160",
         "EM FUNCIONAMENTO NORMAL",
         "2022-08-09",
         null,
         4.81126398E7,
         "45019002000160",
         "SP",
         "WAY ENGELUZ FUNDO DE INVESTIMENTO EM DIREITOS CREDITORIOS RESPONSABILIDADE LIMITADA",
         "SP",
         "São Paulo"
        ],
        [
         "42081295000118",
         "EM FUNCIONAMENTO NORMAL",
         "2021-06-11",
         0.0,
         5.896034231E8,
         "42081295000118",
         "RJ",
         "RIZA STATHEROS MASTER FUNDO DE INVESTIMENTO EM COTAS DE FUNDOS DE INVESTIMENTO MULTIMERCADO CREDITO PRIVADO",
         "RJ",
         "Rio de Janeiro"
        ],
        [
         "14951577000193",
         "EM FUNCIONAMENTO NORMAL",
         "2012-05-10",
         1.0,
         9.110146163E7,
         "14951577000193",
         "SP",
         "BNP PARIBAS MAPFRE RENDA FIXA ATIVO CIC DE CLASSES DE INVESTIMENTO PREVIDENCIARIA - RESP LIMITADA",
         "SP",
         "São Paulo"
        ],
        [
         "46778844000169",
         "EM FUNCIONAMENTO NORMAL",
         "2022-12-09",
         null,
         1.8557583749E8,
         "46778844000169",
         "SP",
         "FLAMA SPECIAL RETURN FUNDO DE INVESTIMENTO EM PARTICIPACOES MULTIESTRATEGIA",
         "SP",
         "São Paulo"
        ],
        [
         "46282024000181",
         "EM FUNCIONAMENTO NORMAL",
         "2022-11-01",
         null,
         2668684.34,
         "46282024000181",
         "SP",
         "CRIXUS SPECIAL RETURN FUNDO DE INVESTIMENTO EM PARTICIPACOES MULTIESTRATEGIA RESP LIMITADA",
         "SP",
         "São Paulo"
        ],
        [
         "27938258000190",
         "EM FUNCIONAMENTO NORMAL",
         "2017-07-11",
         null,
         1.061673687E7,
         "27938258000190",
         "SP",
         "AGUIA FI EM COTAS DE FUNDOS DE INVESTIMENTO EM DIREITOS CREDITORIOS RESPONSABILIDADE LIMITADA",
         "SP",
         "São Paulo"
        ],
        [
         "35277363000153",
         "EM FUNCIONAMENTO NORMAL",
         "2021-03-17",
         null,
         2.7238955682E8,
         "35277363000153",
         "SP",
         "MGC GLOBAL FUNDO DE INVESTIMENTO EM COTAS DE FIDC RESPONSABILIDADE LIMITADA",
         "SP",
         "São Paulo"
        ],
        [
         "50818107000110",
         "EM FUNCIONAMENTO NORMAL",
         "2023-05-25",
         null,
         0.0,
         "50818107000110",
         "SP",
         "READING FUNDO DE INVESTIMENTO EM DIREITOS CREDITORIOS NAO-PADRONIZADOS RESPONSABILIDADE LIMITADA",
         "SP",
         "São Paulo"
        ],
        [
         "46782474000133",
         "EM FUNCIONAMENTO NORMAL",
         "2022-12-09",
         null,
         1.05489145E7,
         "46782474000133",
         "SP",
         "CONTEA CAPITAL TRENTO FUNDO DE INVESTIMENTO EM PARTICIPACOES MULTIESTRATEGIA RESPONSABILIDADE LIMITA",
         "SP",
         "São Paulo"
        ],
        [
         "42923073000103",
         "EM FUNCIONAMENTO NORMAL",
         "2021-10-15",
         null,
         2.001371535E7,
         "42923073000103",
         "MG",
         "EXITUM FUNDO DE INVESTIMENTO EM PARTICIPACOES MULTIESTRATEGIA",
         "MG",
         "Minas Gerais"
        ],
        [
         "15296704000120",
         "EM FUNCIONAMENTO NORMAL",
         "2012-04-02",
         null,
         1.01364791999E9,
         "15296704000120",
         "SP",
         "GLP INVESTIMENTOS III FUNDO DE INVESTIMENTO EM PARTICIPACOES MULTIESTRATEGIA",
         "SP",
         "São Paulo"
        ],
        [
         "33913576000107",
         "EM FUNCIONAMENTO NORMAL",
         "2019-12-30",
         0.09,
         3.5382136994E8,
         "33913576000107",
         "SP",
         "DB II CLASSE DE INVESTIMENTO MULTIMERCADO INVESTIMENTO NO EXTERIOR CREDITO PRIVADO",
         "SP",
         "São Paulo"
        ],
        [
         "42922066000189",
         "EM FUNCIONAMENTO NORMAL",
         "2021-12-17",
         null,
         3584748.74,
         "42922066000189",
         "SP",
         "HORIZONTE I FUNDO DE INVESTIMENTO FINANCEIRO MULTIMERCADO CREDITO PRIVADO DE RESP LIMITADA",
         "SP",
         "São Paulo"
        ],
        [
         "49252656000190",
         "EM FUNCIONAMENTO NORMAL",
         "2023-01-19",
         null,
         7.4622659055E8,
         "49252656000190",
         "RJ",
         "AZ QUEST INFRA YIELD FUNDO DE INVESTIMENTO EM PARTICIPACOES EM INFRAESTRUTURA",
         "RJ",
         "Rio de Janeiro"
        ],
        [
         "50946637000143",
         "EM FUNCIONAMENTO NORMAL",
         "2023-06-05",
         null,
         1.636318291E7,
         "50946637000143",
         "SP",
         "A4 FUNDO DE INVESTIMENTO MULTIMERCADO ESTRATEGIA LIVRE CREDITO PRIVADO",
         "SP",
         "São Paulo"
        ],
        [
         "41036490000163",
         "EM FUNCIONAMENTO NORMAL",
         "2021-03-15",
         5.0,
         3.901224709E7,
         "41036490000163",
         "MG",
         "INTER ACCESS ARBOR FC DE FI FINANCEIRO EM ACOES BDR NIVEL I RESPONSABILIDADE LIMITADA",
         "MG",
         "Minas Gerais"
        ],
        [
         "43616501000100",
         "EM FUNCIONAMENTO NORMAL",
         "2021-09-27",
         null,
         4.9763847452E8,
         "43616501000100",
         "RJ",
         "INSUMOS MILENIO TERRAMAGNA FUNDO DE INVESTIMENTO NAS CADEIAS PRODUTIVAS AGROINDUSTRIAIS FIAGRO - DIREITOS CREDITORIOS",
         "RJ",
         "Rio de Janeiro"
        ],
        [
         "44680449000113",
         "EM FUNCIONAMENTO NORMAL",
         "2022-10-20",
         null,
         8440299.75,
         "44680449000113",
         "SP",
         "ID 203 FUNDO DE INVESTIMENTO IMOBILIARIO - FII",
         "SP",
         "São Paulo"
        ],
        [
         "09720710000160",
         "EM FUNCIONAMENTO NORMAL",
         "2008-09-26",
         8.0,
         2.6752782021E8,
         "09720710000160",
         "MG",
         "INTER CONSERVADOR PLUS FUNDO DE INVESTIMENTO FINANCEIRO RENDA FIXA LONGO PRAZO RESP LIMITADA",
         "MG",
         "Minas Gerais"
        ],
        [
         "30871793000185",
         "EM FUNCIONAMENTO NORMAL",
         "2018-07-18",
         null,
         3.1417714954E8,
         "30871793000185",
         "SP",
         "CAPITOLIO BRASIL PARTNERS I G FUNDO DE INVESTIMENTO EM PARTICIPACOES MULTIESTRATEGIA IE RES LIMITADA",
         "SP",
         "São Paulo"
        ],
        [
         "45823709000125",
         "EM FUNCIONAMENTO NORMAL",
         "2022-12-08",
         1.0,
         1.55511045E7,
         "45823709000125",
         "SP",
         "INVESTO MEGA TRENDS CLASSE DE INVESTIMENTO ACOES RESPONSABILIDADE LIMITADA",
         "SP",
         "São Paulo"
        ],
        [
         "12241282000106",
         "EM FUNCIONAMENTO NORMAL",
         "2011-09-22",
         0.02,
         6.542651389E7,
         "12241282000106",
         "SP",
         "BNP PARIBAS ACTION MASTER CLASSE DE INVESTIMENTO DE ACOES - RESPONSABILIDADE LIMITADA",
         "SP",
         "São Paulo"
        ],
        [
         "34553995000130",
         "EM FUNCIONAMENTO NORMAL",
         "2019-11-25",
         null,
         8900515.53,
         "34553995000130",
         "SP",
         "MANHATTAN FUNDO DE INVESTIMENTO EM DIREITOS CREDITORIOS NAO-PADRONIZADOS RESPONSABILIDADE LIMITADA",
         "SP",
         "São Paulo"
        ],
        [
         "44638527000111",
         "EM FUNCIONAMENTO NORMAL",
         "2022-10-21",
         null,
         1.758816632E7,
         "44638527000111",
         "SP",
         "GALAXY FUNDO DE INVESTIMENTO EM PARTICIPACOES MULTIESTRATEGIA",
         "SP",
         "São Paulo"
        ],
        [
         "47388724000118",
         "EM FUNCIONAMENTO NORMAL",
         "2023-02-28",
         null,
         435374.17,
         "47388724000118",
         "RJ",
         "3R - FUNDO DE INVESTIMENTO EM DIREITOS CREDITORIOS NAO PADRONIZADOS RESPONSABILIDADE LIMITADA",
         "RJ",
         "Rio de Janeiro"
        ],
        [
         "45722284000168",
         "EM FUNCIONAMENTO NORMAL",
         "2022-04-17",
         null,
         1.502939107E7,
         "45722284000168",
         "SP",
         "FIDC CANAAN - FUNDO DE INVESTIMENTO EM DIREITOS CREDITORIOS RESPONSABILIDADE LIMITADA",
         "SP",
         "São Paulo"
        ],
        [
         "07143386000130",
         "EM FUNCIONAMENTO NORMAL",
         "2004-11-16",
         null,
         614165.85,
         "07143386000130",
         "PA",
         "FUNDO BASA DE INVESTIMENTO FINANCEIRO CURTO PRAZO ''2''",
         "PA",
         "Pará"
        ],
        [
         "17137984000150",
         "EM FUNCIONAMENTO NORMAL",
         "2014-09-11",
         0.02,
         3.06168632958E9,
         "17137984000150",
         "SP",
         "BNP PARIBAS MASTER CREDITO PLUS CI RENDA FIXA CREDITO PRIVADO LONGO PRAZO RESPONSABILIDADE LIMITADA",
         "SP",
         "São Paulo"
        ],
        [
         "26545537000120",
         "EM FUNCIONAMENTO NORMAL",
         "2016-11-28",
         null,
         606645.44,
         "26545537000120",
         "SP",
         "AGUNG BRASIL PARTNERS I D - FUNDO DE INVESTIMENTO EM PARTICIPACOES MULTIESTRATEGIA IE RESP LIMITADA",
         "SP",
         "São Paulo"
        ],
        [
         "51539073000197",
         "EM FUNCIONAMENTO NORMAL",
         "2023-07-24",
         null,
         1.952326898E7,
         "51539073000197",
         "SP",
         "GERIZIM FUNDO DE INVESTIMENTO EM DIREITOS CREDITORIOS NAO PADRONIZADOS",
         "SP",
         "São Paulo"
        ],
        [
         "36443587000150",
         "EM FUNCIONAMENTO NORMAL",
         "2020-03-09",
         3.0,
         2.128071543E7,
         "36443587000150",
         "MG",
         "INTER ACCESS LEGACY CAPITAL FUNDO DE INVESTIMENTO EM COTAS DE FUNDO DE INVESTIMENTO FINANCEIRO MULTI",
         "MG",
         "Minas Gerais"
        ],
        [
         "09284554000132",
         "EM FUNCIONAMENTO NORMAL",
         "2008-05-29",
         0.12,
         1.9105776934E8,
         "09284554000132",
         "SP",
         "MAPFRE RESERVAS CLASSE DE INVESTIMENTO RENDA FIXA - RESPONSABILIDADE LIMITADA",
         "SP",
         "São Paulo"
        ],
        [
         "50995214000113",
         "EM FUNCIONAMENTO NORMAL",
         "2023-06-09",
         null,
         9.75194172E7,
         "50995214000113",
         "SP",
         "ORION FUNDO DE INVESTIMENTO EM DIREITOS CREDITORIOS RESPONDABILIDADE LIMITADA",
         "SP",
         "São Paulo"
        ],
        [
         "07657641000162",
         "EM FUNCIONAMENTO NORMAL",
         "2008-06-10",
         0.7,
         4572264.72,
         "07657641000162",
         "SP",
         "BNP PARIBAS ACCESS DISRUPTIVE TECHNOLOGY CLASSE DE INVESTIMENTO EM ACOES - RESPONSABILIDADE LIMITADA",
         "SP",
         "São Paulo"
        ],
        [
         "42294971000131",
         "EM FUNCIONAMENTO NORMAL",
         "2021-07-02",
         8.0,
         2.0979385268E8,
         "42294971000131",
         "MG",
         "INTER INFRA FC DE FIF INCENTIV DE INVEST EM INFRA RENDA FIXA CRED PRIV RESP LIMITADA",
         "MG",
         "Minas Gerais"
        ],
        [
         "42691990000100",
         "EM FUNCIONAMENTO NORMAL",
         "2022-02-01",
         null,
         2.844502902E7,
         "42691990000100",
         "MG",
         "INTER DIVIDENDOS FUNDO DE INVESTIMENTO FINANCEIRO EM ACOES RESPONSABILIDADE LIMITADA",
         "MG",
         "Minas Gerais"
        ],
        [
         "49920326000126",
         "EM FUNCIONAMENTO NORMAL",
         "2023-03-13",
         null,
         1.9054992806E8,
         "49920326000126",
         "SP",
         "BDR KYIV FUNDO DE INVESTIMENTO EM DIREITOS CREDITORIOS - FIDC",
         "SP",
         "São Paulo"
        ],
        [
         "51295092000115",
         "EM FUNCIONAMENTO NORMAL",
         "2023-07-04",
         null,
         2367149.05,
         "51295092000115",
         "SP",
         "LEGATUM FUNDO DE INVESTIMENTO IMOBILIARIO RESPONSABILIDADE LIMITADA",
         "SP",
         "São Paulo"
        ],
        [
         "34509036000117",
         "EM FUNCIONAMENTO NORMAL",
         "2019-09-16",
         null,
         4.0174206574E8,
         "34509036000117",
         "SP",
         "MAKALU BRASIL PARTNERS I J FIP MULTIESTRATEGIA INVESTIMENTO NO EXTERIOR RESPONSABILIDADE LIMITADA",
         "SP",
         "São Paulo"
        ],
        [
         "52317938000133",
         "EM FUNCIONAMENTO NORMAL",
         "2023-09-26",
         null,
         3257185.51,
         "52317938000133",
         "SP",
         "SZLEZ FUNDO DE INVESTIMENTO MULTIMERCADO RESPONSABILIDADE LIMITADA CREDITO PRIVADO IE",
         "SP",
         "São Paulo"
        ],
        [
         "30687646000150",
         "EM FUNCIONAMENTO NORMAL",
         "2018-12-05",
         null,
         4.404450632E7,
         "30687646000150",
         "SP",
         "ELIPSE II FUNDO DE INVESTIMENTO EM PARTICIPACOES",
         "SP",
         "São Paulo"
        ],
        [
         "01964775000140",
         "EM FUNCIONAMENTO NORMAL",
         "1997-06-11",
         null,
         1484965.19,
         "01964775000140",
         "SP",
         "FUNDO DE INVESTIMENTO IMOBILIARIO GEO GUARARAPES",
         "SP",
         "São Paulo"
        ],
        [
         "47463511000103",
         "EM FUNCIONAMENTO NORMAL",
         "2022-12-09",
         null,
         4402769.94,
         "47463511000103",
         "SP",
         "EP FUNDO DE INVESTIMENTO EM PARTICIPACOES MULTIESTRATEGIA RESPONSABILIDADE LIMITADA",
         "SP",
         "São Paulo"
        ],
        [
         "51033013000106",
         "EM FUNCIONAMENTO NORMAL",
         "2023-06-13",
         null,
         4224343.58,
         "51033013000106",
         "SP",
         "SILVERBAY CAPITAL FUNDO DE INVESTIMENTO EM PARTICIPACOES MULTIESTRATEGIA",
         "SP",
         "São Paulo"
        ],
        [
         "06537068000190",
         "EM FUNCIONAMENTO NORMAL",
         "2004-08-02",
         null,
         1260.7,
         "06537068000190",
         "PA",
         "AMAZONIA CREDIT 90 - FUNDO DE APLICACAO EM QUOTAS DE FUNDOS DE INVESTIMENTO",
         "PA",
         "Pará"
        ],
        [
         "33361798000156",
         "EM FUNCIONAMENTO NORMAL",
         "2019-06-18",
         0.8,
         7575485.02,
         "33361798000156",
         "SP",
         "BLACKROCK GLOBAL BOND INCOME CLASSE DE INVESTIMENTO EM CIC MULTIMERCADO - RESPONSABILIDADE LIMITADA",
         "SP",
         "São Paulo"
        ],
        [
         "44428806000150",
         "EM FUNCIONAMENTO NORMAL",
         "2022-09-25",
         null,
         1.2377297921E8,
         "44428806000150",
         "SP",
         "JIVE DISTRESSED & SPECIAL SITS IV STRATEGIC PARTNERS FIC DE FIF MULTI - CP RESPONSABILIDADE LIMITADA",
         "SP",
         "São Paulo"
        ],
        [
         "35686949000171",
         "EM FUNCIONAMENTO NORMAL",
         "2019-12-19",
         null,
         1.959861874E7,
         "35686949000171",
         "SP",
         "GREEN WAY I FUNDO DE INVESTIMENTO EM DIREITOS CREDITORIOS NAO PADRONIZADOS",
         "SP",
         "São Paulo"
        ],
        [
         "20378135000100",
         "EM FUNCIONAMENTO NORMAL",
         "2014-08-06",
         0.17,
         1831833.56,
         "20378135000100",
         "SP",
         "AX EQUILIBRIUM FI EM COTAS DE FUNDOS DE INVESTIMENTO MULTIMERCADO CREDITO PRIVADO",
         "SP",
         "São Paulo"
        ],
        [
         "42692399000169",
         "EM FUNCIONAMENTO NORMAL",
         "2022-05-24",
         null,
         1.0249049754E8,
         "42692399000169",
         "MG",
         "INTER AMERRA FIAGRO FUNDO DE INVESTIMENTO IMOBILIARIO RESPONSABILIDADE LIMITADA",
         "MG",
         "Minas Gerais"
        ],
        [
         "44870636000160",
         "EM FUNCIONAMENTO NORMAL",
         "2022-04-22",
         null,
         1.5165212125E8,
         "44870636000160",
         "SP",
         "CAATINGA CAPITAL FUNDO DE INVESTIMENTO EM PARTICIPACOES EM EMPRESAS EMERGENTES",
         "SP",
         "São Paulo"
        ],
        [
         "43619349000119",
         "EM FUNCIONAMENTO NORMAL",
         "2021-10-25",
         null,
         1.2222365812E8,
         "43619349000119",
         "SP",
         "BR PARTNERS PET FUNDO DE INVESTIMENTO EM PARTICIPACOES MULTIESTRATEGIA",
         "SP",
         "São Paulo"
        ],
        [
         "49651212000128",
         "EM FUNCIONAMENTO NORMAL",
         "2023-02-17",
         null,
         4.30252098E7,
         "49651212000128",
         "SP",
         "BAY SIDNEY FUNDO DE INVESTIMENTO MULTIMERCADO CREDITO PRIVADO INVESTIMENTO NO EXTERIOR",
         "SP",
         "São Paulo"
        ],
        [
         "52116361000100",
         "EM FUNCIONAMENTO NORMAL",
         "2023-09-08",
         null,
         4.898758673E7,
         "52116361000100",
         "SP",
         "NU IBOV SMART DIVIDENDOS CLASSE DE INDICE - RESPONSABILIDADE LIMITADA",
         "SP",
         "São Paulo"
        ],
        [
         "13451738000117",
         "EM FUNCIONAMENTO NORMAL",
         "2011-02-28",
         null,
         2.266803318E7,
         "13451738000117",
         "SP",
         "CLASSE DE INVESTIMENTO EM COTAS DE FIP PATRIA PRIVATE EQUITY IV - RESP LIMITADA",
         "SP",
         "São Paulo"
        ],
        [
         "48900133000140",
         "EM FUNCIONAMENTO NORMAL",
         "2022-12-15",
         null,
         5.9156535139E8,
         "48900133000140",
         "SP",
         "PCS II FEEDER BRASIL FUNDO DE INVESTIMENTO EM PARTICIPACOES",
         "SP",
         "São Paulo"
        ],
        [
         "46334681000125",
         "EM FUNCIONAMENTO NORMAL",
         "2022-07-21",
         null,
         1.049761399E7,
         "46334681000125",
         "SP",
         "SULAMERICA PRESTIGE XP SEG PREV FIF RENDA FIXA RESPONSABILIDADE LIMITADA",
         "SP",
         "São Paulo"
        ],
        [
         "52356865000199",
         "EM FUNCIONAMENTO NORMAL",
         "2023-09-28",
         null,
         1.23030823E7,
         "52356865000199",
         "SP",
         "ATLAS FUNDO DE INVESTIMENTO IMOBILIARIO RESPONSABILIDADE LIMITADA",
         "SP",
         "São Paulo"
        ],
        [
         "29315243000109",
         "EM FUNCIONAMENTO NORMAL",
         "2019-03-18",
         2.0,
         9.0170094276E8,
         "29315243000109",
         "SP",
         "ESTOCOLMO FUNDO DE INVESTIMENTO MULTIMERCADO CREDITO PRIVADO",
         "SP",
         "São Paulo"
        ],
        [
         "47984249000142",
         "EM FUNCIONAMENTO NORMAL",
         "2022-11-30",
         null,
         3676461.59,
         "47984249000142",
         "SP",
         "SAM 3 FUNDO DE INVESTIMENTO MULTIMERCADO CREDITO PRIVADO RESPONSABILIDADE LIMITADA",
         "SP",
         "São Paulo"
        ],
        [
         "29843196000168",
         "EM FUNCIONAMENTO NORMAL",
         "2018-03-19",
         null,
         1.219411721E7,
         "29843196000168",
         "SP",
         "FUNDO DE INVESTIMENTO EM PARTICIPACOES MULTIESTRATEGIA INOVACAO E TECNOLOGIA - RESP LIMITADA",
         "SP",
         "São Paulo"
        ],
        [
         "21596006000143",
         "EM FUNCIONAMENTO NORMAL",
         "2015-01-19",
         0.12,
         2.4057585479E8,
         "21596006000143",
         "SP",
         "MAPFRE HEDGE IGPM PREV CLASSE DE INVESTIMENTO EM CLASSES DE INVESTIMENTO DE RF - RESP LIMITADA",
         "SP",
         "São Paulo"
        ],
        [
         "42700668000191",
         "EM FUNCIONAMENTO NORMAL",
         "2021-11-29",
         null,
         6.589757045E7,
         "42700668000191",
         "RJ",
         "GRAND - FUNDO DE INVESTIMENTO EM DIREITOS CREDITORIOS NAO PADRONIZADOS RESPONSABILIDADE LIMITADA",
         "RJ",
         "Rio de Janeiro"
        ],
        [
         "52174102000127",
         "EM FUNCIONAMENTO NORMAL",
         "2023-09-13",
         null,
         2.6102811665E8,
         "52174102000127",
         "SP",
         "BYX CONSIGNADO MULTICONVENIOS FUNDO DE INVESTIMENTO EM DIREITOS CREDITORIOS RESP LIMITADA",
         "SP",
         "São Paulo"
        ],
        [
         "47372648000152",
         "EM FUNCIONAMENTO NORMAL",
         "2022-08-30",
         null,
         2671425.13,
         "47372648000152",
         "SP",
         "PLN PAR - FUNDO DE INVESTIMENTO MULTIMERCADO CREDITO PRIVADO",
         "SP",
         "São Paulo"
        ],
        [
         "43106870000152",
         "EM FUNCIONAMENTO NORMAL",
         "2022-04-19",
         null,
         6.917985972E7,
         "43106870000152",
         "SP",
         "SALTO BOTELHO AGROENERGIA FUNDO DE INVESTIMENTO EM PARTICIPACOES MULTI -RESPONSABILIDADE LIMITADA",
         "SP",
         "São Paulo"
        ],
        [
         "12124044000102",
         "EM FUNCIONAMENTO NORMAL",
         "2010-08-26",
         1.5,
         5.5395629203E8,
         "12124044000102",
         "SP",
         "MAPFRE HEDGE PREV CLASSE DE INVESTIMENTO RENDA FIXA - RESPONSABILIDADE LIMITADA",
         "SP",
         "São Paulo"
        ],
        [
         "41081374000166",
         "EM FUNCIONAMENTO NORMAL",
         "2021-03-23",
         null,
         1.9196809526E8,
         "41081374000166",
         "SP",
         "VINCI CREDIT SECURITIES FUNDO DE INVESTIMENTO IMOBILIARIO - RESPONSABILIDADE LIMITADA",
         "SP",
         "São Paulo"
        ],
        [
         "28850140000178",
         "EM FUNCIONAMENTO NORMAL",
         "2017-10-16",
         null,
         2.140063824E7,
         "28850140000178",
         "SP",
         "FUNDO DE FINANCIAMENTO DA INDUSTRIA CINEMATROGRAFICA NACIONAL - FUNCINE - TIM",
         "SP",
         "São Paulo"
        ],
        [
         "14167550000104",
         "EM FUNCIONAMENTO NORMAL",
         "2012-05-11",
         0.0,
         6.28676712E7,
         "14167550000104",
         "SP",
         "BNP PARIBAS MASTER IBRX CLASSE DE INVESTIMENTO EM ACOES RESPONSABILIDADE LIMITADA",
         "SP",
         "São Paulo"
        ],
        [
         "39581746000171",
         "EM FUNCIONAMENTO NORMAL",
         "2020-11-30",
         null,
         5.0317439628E8,
         "39581746000171",
         "SP",
         "EIGER BRASIL PARTNERS I O FUNDO DE INVESTIMENTO EM PARTICIPACOES MULTIESTRATEGIA IE RESP LIMITADA",
         "SP",
         "São Paulo"
        ],
        [
         "49592781000140",
         "EM FUNCIONAMENTO NORMAL",
         "2023-02-14",
         null,
         3.469227758E8,
         "49592781000140",
         "RJ",
         "BLUECAP LOG FUNDO DE INVESTIMENTO IMOBILIARIO",
         "RJ",
         "Rio de Janeiro"
        ],
        [
         "48964604000184",
         "EM FUNCIONAMENTO NORMAL",
         "2022-12-22",
         null,
         1293504.85,
         "48964604000184",
         "SP",
         "GRIFFIN FUNDO DE INVESTIMENTO IMOBILIARIO",
         "SP",
         "São Paulo"
        ],
        [
         "39447231000183",
         "EM FUNCIONAMENTO NORMAL",
         "2021-11-26",
         null,
         5200416.53,
         "39447231000183",
         "SP",
         "MONTE CARLO FUNDO DE INVESTIMENTO EM PARTICIPACOES CAPITAL-SEMENTE RESPONSABILIDADE LIMITADA",
         "SP",
         "São Paulo"
        ],
        [
         "16617593000170",
         "EM FUNCIONAMENTO NORMAL",
         "2012-08-02",
         2.5,
         1033528.17,
         "16617593000170",
         "SP",
         "BBT ACOES FUNDO DE INVESTIMENTO FINANCEIRO",
         "SP",
         "São Paulo"
        ],
        [
         "27486551000163",
         "EM FUNCIONAMENTO NORMAL",
         "2017-06-02",
         null,
         604067.12,
         "27486551000163",
         "SP",
         "KILIMANJARO BRASIL PARTNERS I B - FUNDO DE INVESTIMENTO EM PARTICIPACOES MULTIESTRATEGIA IE RESP LIM",
         "SP",
         "São Paulo"
        ],
        [
         "50963249000170",
         "EM FUNCIONAMENTO NORMAL",
         "2023-06-06",
         null,
         1.0079293942E8,
         "50963249000170",
         "SP",
         "BOREAL I FUNDO DE INVESTIMENTO EM DIREITOS CREDITORIOS COMERCIAL - RESPONSABILIDADE LIMITADA",
         "SP",
         "São Paulo"
        ],
        [
         "29983516000185",
         "EM FUNCIONAMENTO NORMAL",
         "2020-01-08",
         1.2,
         7.078584772E7,
         "29983516000185",
         "SP",
         "CLASSE UNICA DO WESTERN ASSET FI FINANCEIRO INCENTIVADO EM DEBENTURES DE INFRA RF CP RESP LIMITADA",
         "SP",
         "São Paulo"
        ],
        [
         "48993165000138",
         "EM FUNCIONAMENTO NORMAL",
         "2022-12-28",
         0.0,
         5.34157357E7,
         "48993165000138",
         "SP",
         "LAB OITO FUNDO DE INVESTIMENTO MULTIMERCADO CREDITO PRIVADO",
         "SP",
         "São Paulo"
        ],
        [
         "20879578000177",
         "EM FUNCIONAMENTO NORMAL",
         "2015-01-07",
         0.5,
         1.36919468676E9,
         "20879578000177",
         "MG",
         "INTER CONSERVADOR FUNDO DE INVESTIMENTO FINANCEIRO RENDA FIXA CREDITO PRIVADO RESP LIMITADA",
         "MG",
         "Minas Gerais"
        ],
        [
         "43721652000128",
         "EM FUNCIONAMENTO NORMAL",
         "2022-03-31",
         null,
         3.0567678483E8,
         "43721652000128",
         "SP",
         "TELECOM BANK I FUNDO DE INVESTIMENTO EM DIREITOS CREDITORIOS RESPONSABILIDADE LIMITADA",
         "SP",
         "São Paulo"
        ],
        [
         "34617291000183",
         "EM FUNCIONAMENTO NORMAL",
         "2019-09-11",
         855.0,
         5018082.48,
         "34617291000183",
         "MG",
         "INTER SELECTION MACRO FC DE FUNDO DE INVESTIMENTO FINANCEIRO MULTIMERCADO RESPONSABILIDADE LIMITADA",
         "MG",
         "Minas Gerais"
        ],
        [
         "46929959000107",
         "EM FUNCIONAMENTO NORMAL",
         "2022-10-31",
         null,
         7.261654725E7,
         "46929959000107",
         "SP",
         "BUCAREST BANCO FUNDO DE INVESTIMENTO EM DIREITOS CREDITORIOS INDUSTRIAL - RESPONSABILIDADE LIMITADA",
         "SP",
         "São Paulo"
        ],
        [
         "26862104000107",
         "EM FUNCIONAMENTO NORMAL",
         "2017-03-07",
         5.0,
         1.055678005E7,
         "26862104000107",
         "MG",
         "GUIA FUNDO DE INVESTIMENTO FINANCEIRO EM ACOES",
         "MG",
         "Minas Gerais"
        ],
        [
         "46729394000114",
         "EM FUNCIONAMENTO NORMAL",
         "2022-07-04",
         5.0,
         3716137.24,
         "46729394000114",
         "MG",
         "INTER LOVER FUNDO DE INVESTIMENTO FINANCEIRO MULTIMERCADO RESPONSABILIDADE LIMITADA",
         "MG",
         "Minas Gerais"
        ],
        [
         "32140484000160",
         "EM FUNCIONAMENTO NORMAL",
         "2019-02-22",
         null,
         5.832228657E8,
         "32140484000160",
         "SP",
         "PSS PRINCIPAL FUNDO DE INVESTIMENTO EM PARTICIPACOES",
         "SP",
         "São Paulo"
        ],
        [
         "21613190000192",
         "EM FUNCIONAMENTO NORMAL",
         "2015-01-07",
         null,
         6.0198639572E8,
         "21613190000192",
         "SP",
         "FUNDO DE INVESTIMENTO EM PARTICIPACOES PANAMBY HOTEIS - MULTIESTRATEGIA RESPONSABILIDADE LIMITADA",
         "SP",
         "São Paulo"
        ],
        [
         "42627796000157",
         "EM FUNCIONAMENTO NORMAL",
         "2021-09-17",
         null,
         3.3835810627E8,
         "42627796000157",
         "SP",
         "EUV SP 2 FUNDO DE INVESTIMENTO EM PARTICIPACOES MULTIESTRATEGIA",
         "SP",
         "São Paulo"
        ],
        [
         "33033191000147",
         "EM FUNCIONAMENTO NORMAL",
         "2019-12-17",
         0.8816,
         8.992570721E7,
         "33033191000147",
         "RJ",
         "KATCH FUNDO DE INVESTIMENTO MULTIMERCADO CREDITO PRIVADO",
         "RJ",
         "Rio de Janeiro"
        ],
        [
         "14171578000115",
         "EM FUNCIONAMENTO NORMAL",
         "2012-06-27",
         0.0,
         4.8652616313E8,
         "14171578000115",
         "RJ",
         "OURO PRETO FUNDO DE INVESTIMENTO EM COTAS DE FUNDOS DE INVESTIMENTO MULTIMERCADO CREDITO PRIVADO",
         "RJ",
         "Rio de Janeiro"
        ],
        [
         "15018580000111",
         "EM FUNCIONAMENTO NORMAL",
         "2012-03-23",
         null,
         1.66052551369E9,
         "15018580000111",
         "SP",
         "GLP INVESTIMENTOS FUNDO DE INVESTIMENTO EM PARTICIPACOES MULTIESTRATEGIA",
         "SP",
         "São Paulo"
        ],
        [
         "45018608000181",
         "EM FUNCIONAMENTO NORMAL",
         "2022-05-06",
         0.5,
         5.629107289E7,
         "45018608000181",
         "SP",
         "BNP PARIBAS SIGMA INSTITUCIONAL CLASSE DE INVESTIMENTO DE RENDA FIXA LONGO PRAZO - RESP LIMITADA",
         "SP",
         "São Paulo"
        ],
        [
         "50443649000155",
         "EM FUNCIONAMENTO NORMAL",
         "2023-04-25",
         null,
         2.0747074698E8,
         "50443649000155",
         "RJ",
         "PRINZ DISCOVERY CREDITO ESTRUTURADO FUNDO DE INVESTIMENTO EM COTAS DE DIREITOS CREDITORIOS",
         "RJ",
         "Rio de Janeiro"
        ],
        [
         "41922654000150",
         "EM FUNCIONAMENTO NORMAL",
         "2021-05-18",
         null,
         6379347.37,
         "41922654000150",
         "SP",
         "VC NETWORK FUNDO DE INVESTIMENTO EM PARTICIPACOES MULTIESTRATEGIA - INVESTIMENTO NO EXTERIOR",
         "SP",
         "São Paulo"
        ],
        [
         "11147668000182",
         "EM FUNCIONAMENTO NORMAL",
         "2010-06-16",
         0.7,
         1.8697626529E8,
         "11147668000182",
         "SP",
         "BNP PARIBAS ACCESS USA COMPANIES CLASSE DE INVESTIMENTO EM ACOES - RESPONSABILIDADE LIMITADA",
         "SP",
         "São Paulo"
        ],
        [
         "52349539000154",
         "EM FUNCIONAMENTO NORMAL",
         "2023-09-28",
         null,
         1.994651913E7,
         "52349539000154",
         "SP",
         "Z5 FUNDO DE INVESTIMENTO EM DIREITOS CREDITORIOS MULTISSETORIAL - RESPONSABILIDADE LIMITADA",
         "SP",
         "São Paulo"
        ],
        [
         "21185984000100",
         "EM FUNCIONAMENTO NORMAL",
         "2014-12-30",
         0.4,
         2.44843751283E9,
         "21185984000100",
         "SP",
         "BNP PARIBAS RUBI CIC DE CLASSE DE INVESTIMENTO RENDA FIXA CREDITO PRIVADO RESPONSABILIDADE LIMITADA",
         "SP",
         "São Paulo"
        ],
        [
         "09087301000179",
         "EM FUNCIONAMENTO NORMAL",
         "2010-05-25",
         0.5,
         1.0942306922E8,
         "09087301000179",
         "SP",
         "CLASSE UNICA DO WESTERN ASSET IMA-B ATIVO FI FINANCEIRO RF RESPONSABILIDADE LIMITADA",
         "SP",
         "São Paulo"
        ],
        [
         "48513136000121",
         "EM FUNCIONAMENTO NORMAL",
         "2022-11-18",
         null,
         1.384308465E7,
         "48513136000121",
         "SP",
         "GALGA FUNDO DE INVESTIMENTO EM DIREITOS CREDITORIOS-RESPONSABILIDADE LIMITADA",
         "SP",
         "São Paulo"
        ],
        [
         "44603407000189",
         "EM FUNCIONAMENTO NORMAL",
         "2021-12-22",
         null,
         3.501937318E7,
         "44603407000189",
         "SP",
         "PETRONIA ENERGIA DESENVOLVIMENTO I FIP MULTIESTRATEGIA - RESPONSABILIDADE LIMITADA",
         "SP",
         "São Paulo"
        ],
        [
         "52116337000162",
         "EM FUNCIONAMENTO NORMAL",
         "2023-09-08",
         null,
         8.472435318E7,
         "52116337000162",
         "SP",
         "NU RENDA IBOV SMART DIVIDENDOS CLASSE DE INDICE - RESPONSABILIDADE LIMITADA",
         "SP",
         "São Paulo"
        ],
        [
         "02539921000152",
         "EM FUNCIONAMENTO NORMAL",
         "2005-03-22",
         0.52,
         1.7849735231E8,
         "02539921000152",
         "SP",
         "BNP PARIBAS RF CLASSE DE INVESTIMENTO DE RENDA FIXA - RESPONSABILIDADE LIMITADA",
         "SP",
         "São Paulo"
        ],
        [
         "44680491000134",
         "EM FUNCIONAMENTO NORMAL",
         "2022-01-03",
         null,
         4.2076959083E8,
         "44680491000134",
         "SP",
         "GALAXY FUNDO DE INVESTIMENTO EM COTAS DE FUNDOS DE INVESTIMENTO MULTIMERCADO - CREDITO PRIVADO",
         "SP",
         "São Paulo"
        ],
        [
         "47279999000113",
         "EM FUNCIONAMENTO NORMAL",
         "2022-12-09",
         null,
         6010936.16,
         "47279999000113",
         "SP",
         "DAYCOVAL D408 FUNDO DE INVESTIMENTO MULTIMERCADO",
         "SP",
         "São Paulo"
        ],
        [
         "41579637000161",
         "EM FUNCIONAMENTO NORMAL",
         "2021-12-07",
         null,
         1.7672430245E8,
         "41579637000161",
         "SP",
         "MGW ATIVOS FUNDO DE INVESTIMENTO EM DIREITOS CREDITORIOS RESPONSABILIDADE LIMITADA",
         "SP",
         "São Paulo"
        ],
        [
         "48992508000140",
         "EM FUNCIONAMENTO NORMAL",
         "2022-12-28",
         null,
         1.149394909E7,
         "48992508000140",
         "SP",
         "SUZUKA FUNDO DE INVESTIMENTO EM PARTICIPACOES MULTIESTRATEGIA RESPONSABILIDADE LIMITADA",
         "SP",
         "São Paulo"
        ],
        [
         "35725626000140",
         "EM FUNCIONAMENTO NORMAL",
         "2020-03-06",
         null,
         5.13615446257E9,
         "35725626000140",
         "SP",
         "PSS ENERGY FUNDO DE INVESTIMENTO EM PARTICIPACOES",
         "SP",
         "São Paulo"
        ],
        [
         "33498764000108",
         "EM FUNCIONAMENTO NORMAL",
         "2020-05-26",
         null,
         1.465456113E7,
         "33498764000108",
         "SP",
         "BRAFIC FUNDO DE INVESTIMENTO EM DIREITOS CREDITORIOS NAO-PADRONIZADOS RESPONSABILIDADE LIMITADA",
         "SP",
         "São Paulo"
        ],
        [
         "37806055000101",
         "EM FUNCIONAMENTO NORMAL",
         "2020-08-20",
         0.0,
         2.9483089257E8,
         "37806055000101",
         "RJ",
         "EVEREST HIGH YIELD FUNDO DE INVESTIMENTO EM COTAS DE FUNDOS DE INVESTIMENTO MULTIMERCADO CREDITO PRIVADO E1",
         "RJ",
         "Rio de Janeiro"
        ],
        [
         "36293425000183",
         "EM FUNCIONAMENTO NORMAL",
         "2020-02-19",
         null,
         6.693652613E7,
         "36293425000183",
         "MG",
         "INTER TEVA INDICE DE TIJOLO FUNDO DE INVESTIMENTO IMOBILIARIO FII RESPONSABILIDADE LIMITADA",
         "MG",
         "Minas Gerais"
        ],
        [
         "49914023000109",
         "EM FUNCIONAMENTO NORMAL",
         "2023-03-13",
         0.0,
         1.6773497207E8,
         "49914023000109",
         "SP",
         "BULLLA FUNDO DE INVESTIMENTO MULTIMERCADO CREDITO PRIVADO",
         "SP",
         "São Paulo"
        ],
        [
         "08621199000187",
         "EM FUNCIONAMENTO NORMAL",
         "2016-01-04",
         null,
         1.6182787373E8,
         "08621199000187",
         "SP",
         "FAMCRED FUNDO DE INVESTIMENTO EM DIREITOS CREDITORIOS NAO-PADRONIZADOS RESPONSABILIDADE LIMITADA",
         "SP",
         "São Paulo"
        ],
        [
         "29323865000170",
         "EM FUNCIONAMENTO NORMAL",
         "2018-01-17",
         null,
         6.6743624658E8,
         "29323865000170",
         "SP",
         "BRAZIL FITNESS INVESTORS - FIP MULTIESTRATEGIA INVESTIMENTO NO EXTERIOR RESP LIMITADA",
         "SP",
         "São Paulo"
        ],
        [
         "17453850000148",
         "EM FUNCIONAMENTO NORMAL",
         "2013-04-17",
         1.0,
         1.19317094599E9,
         "17453850000148",
         "SP",
         "WESTERN ASSET US INDEX 500 FUNDODE INVESTIMENTO FINANCEIRO MULTIMERCADO - RESPONSABILIDADE LIMITADA",
         "SP",
         "São Paulo"
        ],
        [
         "09636393000107",
         "EM FUNCIONAMENTO NORMAL",
         "2008-09-03",
         0.35,
         8.39063605223E9,
         "09636393000107",
         "SP",
         "BNP PARIBAS MATCH CLASSE DE INVESTIMENTO DE RENDA FIXA REFERENCIADA DI CP RESPONSABILIDADE LIMITADA",
         "SP",
         "São Paulo"
        ],
        [
         "11283444000106",
         "EM FUNCIONAMENTO NORMAL",
         "2009-11-27",
         null,
         3.6677454088E8,
         "11283444000106",
         "SP",
         "NOVA PARTICIPACOES - FUNDO DE INVESTIMENTO EM PARTICIPACOES MULTIESTRATEGIA",
         "SP",
         "São Paulo"
        ],
        [
         "45899588000103",
         "EM FUNCIONAMENTO NORMAL",
         "2022-08-03",
         null,
         1268242.73,
         "45899588000103",
         "SP",
         "FIDUCIA FUNDO DE INVESTIMENTO EM DIREITOS CREDITORIOS NAO-PADRONIZADOS",
         "SP",
         "São Paulo"
        ],
        [
         "08771975000125",
         "EM FUNCIONAMENTO NORMAL",
         "2007-10-25",
         0.11,
         6.38548976912E9,
         "08771975000125",
         "SP",
         "BNP PARIBAS PROPRIETARIO CLASSE DE INVESTIMENTO MULTIMERCADO CREDITO PRIVADO",
         "SP",
         "São Paulo"
        ],
        [
         "51777660000114",
         "EM FUNCIONAMENTO NORMAL",
         "2023-08-11",
         null,
         3.087888276E7,
         "51777660000114",
         "SP",
         "ANZEN FUNDO DE INVESTIMENTO EM COTAS DE FUNDOS DE INVESTIMENTO MULTIMERCADO CREDITO PRIVADO",
         "SP",
         "São Paulo"
        ],
        [
         "45953169000102",
         "EM FUNCIONAMENTO NORMAL",
         "2022-05-02",
         0.0,
         4.505303154E7,
         "45953169000102",
         "RJ",
         "ORAMA TEN FUNDO DE INVESTIMENTO EM ACOES",
         "RJ",
         "Rio de Janeiro"
        ],
        [
         "50071531000143",
         "EM FUNCIONAMENTO NORMAL",
         "2023-03-24",
         null,
         1.0044405434E8,
         "50071531000143",
         "SP",
         "KMP GROWTH CAPITAL FUND II FUNDO DE INVESTIMENTO EM PARTICIPACOES MULTI - RESPONSABILIDADE LIMITADA",
         "SP",
         "São Paulo"
        ],
        [
         "45019040000113",
         "EM FUNCIONAMENTO NORMAL",
         "2022-02-14",
         null,
         6.581121408E7,
         "45019040000113",
         "SP",
         "AFL INVEST FUNDO DE INVESTIMENTO EM DIREITOS CREDITORIOS NAO-PADRONIZADOS RESP LIMITADA",
         "SP",
         "São Paulo"
        ],
        [
         "32907653000145",
         "EM FUNCIONAMENTO NORMAL",
         "2019-11-26",
         null,
         2.372881091E7,
         "32907653000145",
         "SP",
         "CROWN OCEAN CAPITAL IV FUNDO DE INVESTIMENTO EM DIREITOS CREDITORIOS NAO PADRONIZADOS",
         "SP",
         "São Paulo"
        ],
        [
         "49223648000116",
         "EM FUNCIONAMENTO NORMAL",
         "2023-01-17",
         null,
         0.0,
         "49223648000116",
         "SP",
         "PHILADELPHIA FUNDO DE INVESTIMENTO EM DIREITOS CREDITORIOS NAOPADRONIZADOS RESPONSABILIDADE LIMITADA",
         "SP",
         "São Paulo"
        ],
        [
         "43508144000166",
         "EM FUNCIONAMENTO NORMAL",
         "2021-09-27",
         null,
         9.403083508E7,
         "43508144000166",
         "RJ",
         "UJAY FUNDO DE INVESTIMENTO EM COTAS DE FUNDOS DE INVESTIMENTO MULTIMERCADO CREDITO PRIVADO 60",
         "RJ",
         "Rio de Janeiro"
        ],
        [
         "50750438000165",
         "EM FUNCIONAMENTO NORMAL",
         "2023-05-19",
         null,
         3.2397564865E8,
         "50750438000165",
         "RJ",
         "RIZA DOMUS FUNDO DE INVESTIMENTO IMOBILIARIO",
         "RJ",
         "Rio de Janeiro"
        ],
        [
         "38249518000136",
         "EM FUNCIONAMENTO NORMAL",
         "2021-12-15",
         null,
         3.238012743E7,
         "38249518000136",
         "SP",
         "MOGIANA FUNDO DE INVESTIMENTO EM PARTICIPACOES MULTIESTRATEGIA",
         "SP",
         "São Paulo"
        ],
        [
         "35580324000120",
         "EM FUNCIONAMENTO NORMAL",
         "2019-11-27",
         1.85,
         9.136176875E7,
         "35580324000120",
         "RJ",
         "DAHLIA TOTAL RETURN CSHG II FI EM COTAS DE FI FINANCEIRO MULTIMERCADO RESPONSABILIDADE LIMITADA",
         "RJ",
         "Rio de Janeiro"
        ],
        [
         "14311936000148",
         "EM FUNCIONAMENTO NORMAL",
         "2011-09-23",
         null,
         5219076.0,
         "14311936000148",
         "SP",
         "PATRIMONIAL BLUE - FUNDO DE INVESTIMENTO EM PARTICIPACOES MULTIESTRATEGIA",
         "SP",
         "São Paulo"
        ],
        [
         "07672392000184",
         "EM FUNCIONAMENTO NORMAL",
         "2006-02-01",
         2.0,
         1.02713548E7,
         "07672392000184",
         "SP",
         "WESTERN ASSET LONG & SHORT FUNDODE INVESTIMENTO FINANCEIRO MULTIMERCADO - RESPONSABILIDADE LIMITADA",
         "SP",
         "São Paulo"
        ],
        [
         "35654738000157",
         "EM FUNCIONAMENTO NORMAL",
         "2021-08-02",
         null,
         2.0009135903E8,
         "35654738000157",
         "SP",
         "RODOVIAS DO TIETE FUNDO DE INVESTIMENTO EM PARTICIPACOES EM INFRAESTRUTURA RESPONSABILIDADE LIMITADA",
         "SP",
         "São Paulo"
        ],
        [
         "39347413000182",
         "EM FUNCIONAMENTO NORMAL",
         "2020-10-09",
         null,
         1.1619008593E8,
         "39347413000182",
         "SP",
         "FUNDO DE INVESTIMENTO IMOBILIARIO HOSPITAL UNIMED CAMPINA GRANDE",
         "SP",
         "São Paulo"
        ],
        [
         "49995610000161",
         "EM FUNCIONAMENTO NORMAL",
         "2023-03-20",
         25.0,
         4.5087550965E8,
         "49995610000161",
         "MG",
         "INTER INSTITUICOES FINANCEIRAS FUNDO DE INVESTIMENTO FINANCEIRO RENDA FIXA CRED PRIV RESP LIMITADA",
         "MG",
         "Minas Gerais"
        ],
        [
         "47372688000102",
         "EM FUNCIONAMENTO NORMAL",
         "2022-08-30",
         null,
         3361933.07,
         "47372688000102",
         "SP",
         "PHX FUNDO DE INVESTIMENTO EM DIREITOS CREDITORIOS NAO-PADRONIZADOS RESPONSABILIDADE LIMITADA",
         "SP",
         "São Paulo"
        ],
        [
         "43122453000101",
         "EM FUNCIONAMENTO NORMAL",
         "2021-10-01",
         null,
         1.3764790992E8,
         "43122453000101",
         "SP",
         "BLACKROCK BDR-EFT CLASSE DE INVESTIMENTO EM ACOES - RESPONSABILIDADE LIMITADA",
         "SP",
         "São Paulo"
        ],
        [
         "18579353000153",
         "EM FUNCIONAMENTO NORMAL",
         "2013-07-31",
         null,
         903374.56,
         "18579353000153",
         "SP",
         "VESUVIUS LBO - FUNDO DE INVESTIMENTO EM PARTICIPACOES MULTIESTRATEGIA IE RESP LIMITADA",
         "SP",
         "São Paulo"
        ],
        [
         "18356327000166",
         "EM FUNCIONAMENTO NORMAL",
         "2013-11-18",
         null,
         234978.48,
         "18356327000166",
         "SP",
         "INVESTIMENTOS FLORESTAIS FUNDO DE INVESTIMENTO EM PARTICIPACOES",
         "SP",
         "São Paulo"
        ],
        [
         "50943777000168",
         "EM FUNCIONAMENTO NORMAL",
         "2023-06-05",
         null,
         2.986653305E7,
         "50943777000168",
         "SP",
         "BROWNFIELD FUNDO DE INVESTIMENTO EM DIREITOS CREDITORIOS RESPONSABILIDADE LIMITADA",
         "SP",
         "São Paulo"
        ],
        [
         "39540780000106",
         "EM FUNCIONAMENTO NORMAL",
         "2021-02-17",
         7.0,
         3.980750295E7,
         "39540780000106",
         "MG",
         "INTER ACCESS VERDE FUNDO DE INVESTIMENTO EM COTAS DE FUNDO DE INVESTIMENTO FINANCEIRO MULTIMERCADO",
         "MG",
         "Minas Gerais"
        ],
        [
         "34598181000111",
         "EM FUNCIONAMENTO NORMAL",
         "2019-09-05",
         null,
         4.5200100067E8,
         "34598181000111",
         "MG",
         "INTER LOGISTICO FUNDO DE INVESTIMENTO IMOBILIARIO FII RESPONSABILIDADE LIMITADA",
         "MG",
         "Minas Gerais"
        ],
        [
         "14769978000127",
         "EM FUNCIONAMENTO NORMAL",
         "2011-12-30",
         null,
         7.1379670563E8,
         "14769978000127",
         "SP",
         "TELLES FUNDO DE INVESTIMENTO EM PARTICIPACOES - MULTIESTRATEGIA",
         "SP",
         "São Paulo"
        ],
        [
         "09110175000126",
         "EM FUNCIONAMENTO NORMAL",
         "2007-12-28",
         null,
         1186684.99,
         "09110175000126",
         "SP",
         "BROOKFIELD BRAZIL TIMBER FUNDO DE INVESTIMENTO EM PARTICIPACOES",
         "SP",
         "São Paulo"
        ],
        [
         "49506998000190",
         "EM FUNCIONAMENTO NORMAL",
         "2023-02-07",
         0.3,
         2.70401677E7,
         "49506998000190",
         "MG",
         "SUPREME I FUNDO DE INVESTIMENTO MULTIMERCADO CREDITO PRIVADO",
         "MG",
         "Minas Gerais"
        ],
        [
         "35137939000187",
         "EM FUNCIONAMENTO NORMAL",
         "2019-10-14",
         null,
         1.443323611E7,
         "35137939000187",
         "SP",
         "MANASLU BRASIL PARTNERS I K FUNDO DE INVESTIMENTO EM PARTICIPACOES MULTIESTRATEGIA IE RESP LIMITADA",
         "SP",
         "São Paulo"
        ],
        [
         "45521649000196",
         "EM FUNCIONAMENTO NORMAL",
         "2022-06-21",
         null,
         2.304282834E8,
         "45521649000196",
         "SP",
         "FIDC SINAI MACRO FUNDO DE INVESTIMENTO EM DIREITOS CREDITORIOS NAO PADRONIZADO RESP LIMITADA",
         "SP",
         "São Paulo"
        ],
        [
         "30282270000101",
         "EM FUNCIONAMENTO NORMAL",
         "2018-12-19",
         5.0E-4,
         6.26435857544E9,
         "30282270000101",
         "SP",
         "CLASSE UNICA DO IMOLA FUNDO DE INVESTIMENTO EM COTAS FINANCEIRO MULTIMERCADO CREDITO PRIVADO LP",
         "SP",
         "São Paulo"
        ],
        [
         "17198500000182",
         "EM FUNCIONAMENTO NORMAL",
         "2012-12-13",
         null,
         1.6201099272E8,
         "17198500000182",
         "SP",
         "SB FUNDO DE INVESTIMENTO NAS CADEIAS PRODUTIVAS AGROINDUSTRIAIS - FIAGRO - IMOBILIARIO",
         "SP",
         "São Paulo"
        ],
        [
         "48373428000106",
         "EM FUNCIONAMENTO NORMAL",
         "2022-12-09",
         null,
         5.447980275E7,
         "48373428000106",
         "SP",
         "CIX PONTA NEGRA FUNDO DE INVESTIMENTO IMOBILIARIO RESPONSABILIDADE LIMITADA",
         "SP",
         "São Paulo"
        ],
        [
         "15437768000102",
         "EM FUNCIONAMENTO NORMAL",
         "2012-04-20",
         null,
         7.9155812445E8,
         "15437768000102",
         "SP",
         "FUNDO DE INVESTIMENTO EM PARTICIPACOES RPEV1 BRAZIL MULTI IE RESPONSABILIDADE LIMITADA",
         "SP",
         "São Paulo"
        ],
        [
         "42656644000182",
         "EM FUNCIONAMENTO NORMAL",
         "2022-03-08",
         null,
         1.186271469E7,
         "42656644000182",
         "MG",
         "IA CARTEIRA CREDITO FC DE FUNDO DE INVESTIMENTO FINANCEIRO MULT CRED PRIV RESPONSABILIDADE LIMITADA",
         "MG",
         "Minas Gerais"
        ],
        [
         "24372158000150",
         "EM FUNCIONAMENTO NORMAL",
         "2016-04-15",
         0.08,
         2.362694434E7,
         "24372158000150",
         "RJ",
         "ARF SANTOS DUMONT FI EM COTAS DE FIF MULTIMERCADO CREDITO PRIVADO INVEST NO EXTERIOR - RESP LIMITADA",
         "RJ",
         "Rio de Janeiro"
        ],
        [
         "18448137000179",
         "EM FUNCIONAMENTO NORMAL",
         "2013-09-16",
         2.5,
         4269177.58,
         "18448137000179",
         "RS",
         "GERAL DIVIDENDO FUNDO DE INVESTIMENTO EM ACOES - RESPONSABILIDADE LIMITADA",
         "RS",
         "Rio Grande do Sul"
        ],
        [
         "42357817000161",
         "EM FUNCIONAMENTO NORMAL",
         "2022-03-08",
         null,
         4.645220263E7,
         "42357817000161",
         "SP",
         "CONCRETO FUNDO DE INVESTIMENTO EM DIREITOS CREDITORIOS NAO PADRONIZADOS RESP LIMITADA",
         "SP",
         "São Paulo"
        ],
        [
         "50197313000150",
         "EM FUNCIONAMENTO NORMAL",
         "2023-04-04",
         45.0,
         2.1369438278E8,
         "50197313000150",
         "MG",
         "INTER BB FC DE FUNDO DE INVESTIMENTO FINANCEIRO RENDA FIXA LONGO PRAZO RESP LIMITADA",
         "MG",
         "Minas Gerais"
        ],
        [
         "50462226000182",
         "EM FUNCIONAMENTO NORMAL",
         "2023-04-26",
         null,
         4.470830981E7,
         "50462226000182",
         "SP",
         "PENSILVANIA FUNDO DE INVESTIMENTO EM DIREITOS CREDITORIOS NAO-PADRONIZADOS RESPONSABILIDADE LIMITADA",
         "SP",
         "São Paulo"
        ],
        [
         "33913584000145",
         "EM FUNCIONAMENTO NORMAL",
         "2019-12-30",
         0.09,
         6876880.46,
         "33913584000145",
         "SP",
         "DB III CLASSE DE INVESTIMENTO MULTIMERCADO INVESTIMENTO NO EXTERIOR CREDITO PRIVADO",
         "SP",
         "São Paulo"
        ],
        [
         "49429700000195",
         "EM FUNCIONAMENTO NORMAL",
         "2023-02-01",
         0.0,
         6.534461901E7,
         "49429700000195",
         "SP",
         "SILVES FUNDO DE INVESTIMENTO MULTIMERCADO CREDITO PRIVADO",
         "SP",
         "São Paulo"
        ],
        [
         "44104852000102",
         "EM FUNCIONAMENTO NORMAL",
         "2022-06-21",
         5.0,
         8783097.76,
         "44104852000102",
         "MG",
         "INTER INFLACAO CURTA FUNDO DE INVESTIMENTO FINANCEIRO RENDA FIXA RESPONSABILIDADE LIMITADA",
         "MG",
         "Minas Gerais"
        ],
        [
         "32222759000105",
         "EM FUNCIONAMENTO NORMAL",
         "2019-06-18",
         0.065,
         2.04240363E7,
         "32222759000105",
         "SP",
         "BLACKROCK DYNAMIC HIGH INCOME MASTER CLASSE DE INVESTIMENTO MULTIMERCADO - RESP LIMITADA",
         "SP",
         "São Paulo"
        ],
        [
         "45018643000109",
         "EM FUNCIONAMENTO NORMAL",
         "2022-05-06",
         0.15,
         2.3769074663E8,
         "45018643000109",
         "SP",
         "BNP PARIBAS PREMIUM MASTER INSTITUCIONAL RF ATIVO CIC DE CLASSES DE INVESTIMENTO RESP LIMITADA",
         "SP",
         "São Paulo"
        ],
        [
         "05090727000120",
         "EM FUNCIONAMENTO NORMAL",
         "2005-03-16",
         0.15,
         6.3507335068E8,
         "05090727000120",
         "SP",
         "CLASSE UNICA DO WESTERN ASSET DI MAX RF REFERENCIADO FUNDO DE INVESTIMENTO FINANCEIRO RESP. LIMITADA",
         "SP",
         "São Paulo"
        ],
        [
         "36412972000130",
         "EM FUNCIONAMENTO NORMAL",
         "2020-09-10",
         null,
         5156801.75,
         "36412972000130",
         "SP",
         "VKR FUNDO DE INVESTIMENTO EM DIREITOS CREDITORIOS RESPONSABILIDADE LIMITADA",
         "SP",
         "São Paulo"
        ],
        [
         "05104498000156",
         "EM FUNCIONAMENTO NORMAL",
         "2005-03-22",
         0.5,
         3.306740576E7,
         "05104498000156",
         "SP",
         "BNP PARIBAS INFLACAO CI EM CLASSES DE INVESTIMENTO RENDA FIXA - RESPONSABILIDADE LIMITADA",
         "SP",
         "São Paulo"
        ],
        [
         "43236479000172",
         "EM FUNCIONAMENTO NORMAL",
         "2021-08-26",
         null,
         6553378.16,
         "43236479000172",
         "SP",
         "ARIEN ENERGY VENTURES I FUNDO DE INVESTIMENTO EM PARTICIPACOES EM INFRAESTRUTURA RESP LIMITADA",
         "SP",
         "São Paulo"
        ],
        [
         "33354650000194",
         "EM FUNCIONAMENTO NORMAL",
         "2019-07-15",
         null,
         2.328381297E8,
         "33354650000194",
         "MG",
         "FUNDO DE INVESTIMENTO IMOBILIARIO AVM FII RESPONSABILIDADE LIMITADA",
         "MG",
         "Minas Gerais"
        ],
        [
         "28320756000137",
         "EM FUNCIONAMENTO NORMAL",
         "2019-01-17",
         0.5,
         3.03561141071E9,
         "28320756000137",
         "SP",
         "CLASSE UNICA DO WESTERN ASSET TOTAL CREDIT ADVISORY FI EM COTAS DE FI FINANCEIRO RF CP RESP. LTDA",
         "SP",
         "São Paulo"
        ],
        [
         "31963246000192",
         "EM FUNCIONAMENTO NORMAL",
         "2019-03-18",
         2.0,
         2488248.35,
         "31963246000192",
         "SP",
         "SERRA DE BRAGANCA FUNDO DE INVESTIMENTO MULTIMERCADO",
         "SP",
         "São Paulo"
        ],
        [
         "40905548000103",
         "EM FUNCIONAMENTO NORMAL",
         "2021-03-01",
         1.0,
         3.487545472E7,
         "40905548000103",
         "RJ",
         "FUNDO DE INVESTIMENTO EM COTAS DE FUNDOS DE INVESTIMENTO MULTIMERCADO EMPIRICA LOTUS HY CREDITO PRIVADO",
         "RJ",
         "Rio de Janeiro"
        ],
        [
         "37087982000100",
         "EM FUNCIONAMENTO NORMAL",
         "2020-05-11",
         null,
         848377.45,
         "37087982000100",
         "SP",
         "LHOTSE BRASIL PARTNERS I N - FUNDO DE INVESTIMENTO EM PARTICIPACOES MULTIESTRATEGIA IE RESP LIMITADA",
         "SP",
         "São Paulo"
        ],
        [
         "50587789000105",
         "EM FUNCIONAMENTO NORMAL",
         "2023-05-08",
         null,
         8.21327176E7,
         "50587789000105",
         "SP",
         "HT3 FUNDO DE INVESTIMENTO MULTIMERCADO CREDITO PRIVADO IE",
         "SP",
         "São Paulo"
        ],
        [
         "37651102000187",
         "EM FUNCIONAMENTO NORMAL",
         "2022-02-02",
         null,
         1.1047891301E8,
         "37651102000187",
         "SP",
         "BARCELONA FUNDO DE INVESTIMENTO EM DIREITOS CREDITORIOS RESPONSABILIDADE LIMITADA",
         "SP",
         "São Paulo"
        ],
        [
         "42562105000184",
         "EM FUNCIONAMENTO NORMAL",
         "2022-01-18",
         null,
         0.0,
         "42562105000184",
         "SP",
         "AGILE INVESTE FUNDO DE INVESTIMENTO MULTIMERCADO",
         "SP",
         "São Paulo"
        ],
        [
         "45788850000134",
         "EM FUNCIONAMENTO NORMAL",
         "2022-07-07",
         null,
         4.00889018885E9,
         "45788850000134",
         "SP",
         "GIP HELIOS FUNDO DE INVESTIMENTO EM PARTICIPACOES MULTIESTRATEGIA",
         "SP",
         "São Paulo"
        ],
        [
         "27826059000190",
         "EM FUNCIONAMENTO NORMAL",
         "2017-10-23",
         0.6,
         2.1715571911E8,
         "27826059000190",
         "MG",
         "INTER PREMIUM FUNDO DE INVESTIMENTO FINANCEIRO RENDA FIXA CREDITO PRIVADO LONGO PRAZO RESP LIMITADA",
         "MG",
         "Minas Gerais"
        ],
        [
         "43876638000101",
         "EM FUNCIONAMENTO NORMAL",
         "2022-03-08",
         null,
         4765027.17,
         "43876638000101",
         "MG",
         "IA CARTEIRA MULT FC DE FUNDO DE INVESTIMENTO FINANCEIRO MULT CRED PRIV RESPONSABILIDADE LIMITADA",
         "MG",
         "Minas Gerais"
        ],
        [
         "50312715000158",
         "EM FUNCIONAMENTO NORMAL",
         "2023-04-13",
         null,
         1.7484117954E8,
         "50312715000158",
         "SP",
         "PFC FUNDO DE INVESTIMENTO EM DIREITOS CREDITORIOS NAO PADRONIZADO",
         "SP",
         "São Paulo"
        ],
        [
         "07110963000197",
         "EM FUNCIONAMENTO NORMAL",
         "2005-02-11",
         0.15,
         4.37176736875E9,
         "07110963000197",
         "SP",
         "CLASSE UNICA DO MAPLE FUNDO DE INVESTIMENTO FINANCEIRO MULTIMERCADO CP INVESTIMENTO NO EXTERIOR",
         "SP",
         "São Paulo"
        ],
        [
         "21254224000108",
         "EM FUNCIONAMENTO NORMAL",
         "2014-10-27",
         null,
         1.888978618E7,
         "21254224000108",
         "SP",
         "GREEN FUNDO DE INVESTIMENTO EM PARTICIPACOES MULTIESTRATEGIA - RESPONSABILIDADE LIMITADA",
         "SP",
         "São Paulo"
        ],
        [
         "12271294000175",
         "EM FUNCIONAMENTO NORMAL",
         "2010-09-23",
         null,
         1.1324594488E8,
         "12271294000175",
         "SP",
         "FIX METALICO FUNDO DE INVESTIMENTO EM PARTICIPACOES MULTIESTRATEGIA",
         "SP",
         "São Paulo"
        ],
        [
         "49637003000120",
         "EM FUNCIONAMENTO NORMAL",
         "2023-02-16",
         null,
         1.3042332071E8,
         "49637003000120",
         "SP",
         "BAY INVEST FUNDO DE INVESTIMENTO EM PARTICIPACOES MULTIESTRATEGIA",
         "SP",
         "São Paulo"
        ],
        [
         "18653128000110",
         "EM FUNCIONAMENTO NORMAL",
         "2013-08-13",
         null,
         1.0195178623E8,
         "18653128000110",
         "SP",
         "ETNA LBO V FUNDO DE INVESTIMENTO EM PARTICIPACOES MULTIESTRATEGIA IE RESPONSABILIDADE LIMITADA",
         "SP",
         "São Paulo"
        ],
        [
         "17213759000155",
         "EM FUNCIONAMENTO NORMAL",
         "2013-05-20",
         null,
         3.3243681215E8,
         "17213759000155",
         "SP",
         "FUNDO DE INVESTIMENTO EM PARTICIPACOES FONTAINE VILLE URBANISMO",
         "SP",
         "São Paulo"
        ],
        [
         "36729755000179",
         "EM FUNCIONAMENTO NORMAL",
         "2020-06-19",
         0.9,
         2.1997348455E8,
         "36729755000179",
         "RJ",
         "GALAPAGOS DRAGON FUNDO DE INVESTIMENTO EM COTAS DE FUNDOS DE INVESTIMENTO MULTIMERCADO CREDITO PRIVADO",
         "RJ",
         "Rio de Janeiro"
        ],
        [
         "32321319000105",
         "EM FUNCIONAMENTO NORMAL",
         "2021-07-23",
         null,
         1215227.93,
         "32321319000105",
         "SP",
         "BRAFIC CONSTRUCAO CIVIL FI EM DIREITOS CREDITORIOS NAO-PADRONIZADOS RESPONSABILIDADE LIMITADA",
         "SP",
         "São Paulo"
        ],
        [
         "49983964000196",
         "EM FUNCIONAMENTO NORMAL",
         "2023-03-17",
         null,
         7.2397634306E8,
         "49983964000196",
         "SP",
         "CLASSE UNICA DO WESTERN ASSET CREDITO BANCARIO PLUS FI FINANCEIRO RF CP RESP LIMITADA",
         "SP",
         "São Paulo"
        ],
        [
         "32244578000180",
         "EM FUNCIONAMENTO NORMAL",
         "2019-02-11",
         null,
         3.398212742E7,
         "32244578000180",
         "SP",
         "SUN FUNDO DE INVESTIMENTO MULTIMERCADO CREDITO PRIVADO",
         "SP",
         "São Paulo"
        ],
        [
         "36731458000168",
         "EM FUNCIONAMENTO NORMAL",
         "2020-04-23",
         null,
         7.285187875E7,
         "36731458000168",
         "SP",
         "KRONOS FUNDO DE INVESTIMENTO IMOBILIARIO",
         "SP",
         "São Paulo"
        ],
        [
         "42196361000103",
         "EM FUNCIONAMENTO NORMAL",
         "2022-11-04",
         null,
         1726899.04,
         "42196361000103",
         "SP",
         "GRIFFIN INVESTMENTS FUNDO DE INVESTIMENTO EM DIREITOS CREDITORIOS NAO PADRONIZADOS RESP LIMITADA",
         "SP",
         "São Paulo"
        ],
        [
         "50948197000163",
         "EM FUNCIONAMENTO NORMAL",
         "2023-06-05",
         null,
         990299.19,
         "50948197000163",
         "SP",
         "CESSIONARIO 2 FUNDO DE INVESTIMENTO EM DIREITOS CREDITORIOS NAO-PADRONIZADOS RESP LIMITADA",
         "SP",
         "São Paulo"
        ],
        [
         "22802858000102",
         "EM FUNCIONAMENTO NORMAL",
         "2015-07-08",
         null,
         8.3315787709E8,
         "22802858000102",
         "SP",
         "EVEREST BRASIL PARTNERS I - FUNDO DE INVESTIMENTO EM PARTICIPACOES MULTIESTRATEGIA IE RESP LIMITADA",
         "SP",
         "São Paulo"
        ],
        [
         "22219279000131",
         "EM FUNCIONAMENTO NORMAL",
         "2015-04-13",
         null,
         2.642569966E7,
         "22219279000131",
         "SP",
         "QUARTZO RUTILO FUNDO DE INVESTIMENTO EM PARTICIPACOES MULTIESTRATEGIA",
         "SP",
         "São Paulo"
        ],
        [
         "30871738000195",
         "EM FUNCIONAMENTO NORMAL",
         "2018-07-18",
         null,
         386700.25,
         "30871738000195",
         "SP",
         "DENALI BRASIL PARTNERS I F FUNDO DE INVESTIMENTO EM PARTICIPACOES MULTIESTRATEGIA IE RESP LIMITADA",
         "SP",
         "São Paulo"
        ],
        [
         "12586174000167",
         "EM FUNCIONAMENTO NORMAL",
         "2016-10-20",
         null,
         4.782494499E7,
         "12586174000167",
         "SP",
         "NOVA PARTICIPACOES - FUNDO DE INVESTIMENTO EM COTAS DE FUNDOS DE INVESTIMENTO MULTIMERCADO CREDITO PRIVADO",
         "SP",
         "São Paulo"
        ],
        [
         "05024659000100",
         "EM FUNCIONAMENTO NORMAL",
         "2005-03-16",
         1.1,
         1.445349547E7,
         "05024659000100",
         "SP",
         "CLASSE UNICA DO WESTERN ASSET MULTITRADING H FI FINANCEIRO MULTIMERCADO - RESP LIMITADA",
         "SP",
         "São Paulo"
        ],
        [
         "48328958000132",
         "EM FUNCIONAMENTO NORMAL",
         "2022-12-08",
         null,
         981206.52,
         "48328958000132",
         "SP",
         "STAR VENTURES FUNDO DE INVESTIMENTO EM PARTICIPACOES MULTIESTRATEGIA IE - RESPONSABILIDADE LIMITADA",
         "SP",
         "São Paulo"
        ],
        [
         "45017499000188",
         "EM FUNCIONAMENTO NORMAL",
         "2022-04-19",
         0.1411,
         1.5016764159E8,
         "45017499000188",
         "SP",
         "BNP PARIBAS MAIS VIDA III CLASSE DE INVESTIMENTO EM CIC MULTIMERCADO CREDITO PRIVADO RESP LIMITADA",
         "SP",
         "São Paulo"
        ],
        [
         "27882134000130",
         "EM FUNCIONAMENTO NORMAL",
         "2017-10-23",
         null,
         8893011.84,
         "27882134000130",
         "MG",
         "APOLO FUNDO DE INVESTIMENTO IMOBILIARIO",
         "MG",
         "Minas Gerais"
        ],
        [
         "39344840000107",
         "EM FUNCIONAMENTO NORMAL",
         "2020-11-17",
         2.0,
         8940141.89,
         "39344840000107",
         "MG",
         "INTER ACOES VALOR FUNDO DE INVESTIMENTO FINANCEIRO EM ACOES RESPONSABILIDADE LIMITADA",
         "MG",
         "Minas Gerais"
        ],
        [
         "06905783000139",
         "EM FUNCIONAMENTO NORMAL",
         "2004-12-30",
         null,
         1.959792432E7,
         "06905783000139",
         "SP",
         "INVESTIMAGE 2 - FUNDO DE FINANCIAMENTO DA INDUSTRIA CINEMATOGRAFICA NACIONAL - FUNCINE",
         "SP",
         "São Paulo"
        ],
        [
         "00817677000117",
         "EM FUNCIONAMENTO NORMAL",
         "2005-03-17",
         0.45,
         2.2248789993E8,
         "00817677000117",
         "SP",
         "CLASSE UNICA DO WESTERN ASSET ALPHA CREDIT RF FUNDO DE INVESTIMENTO FINANCEIRO CP RESP LIMITADA",
         "SP",
         "São Paulo"
        ],
        [
         "50269714000178",
         "EM FUNCIONAMENTO NORMAL",
         "2023-04-11",
         null,
         3.4081955309E8,
         "50269714000178",
         "SP",
         "ID RF FUNDO DE INVESTIMENTO FINANCEIRO RENDA FIXA LONGO PRAZO",
         "SP",
         "São Paulo"
        ],
        [
         "39281116000181",
         "EM FUNCIONAMENTO NORMAL",
         "2020-11-06",
         5.0,
         6293022.87,
         "39281116000181",
         "MG",
         "INTER ACCESS BOGARI VALUE FC DE FUNDOS DE INVESTIMENTO FINANCEIRO EM ACOES RESPONSABILIDADE LIMITADA",
         "MG",
         "Minas Gerais"
        ],
        [
         "34736474000118",
         "EM FUNCIONAMENTO NORMAL",
         "2019-09-24",
         null,
         2.3678026753E8,
         "34736474000118",
         "SP",
         "RBR DESENVOLVIMENTO COMERCIAL I - FUNDO DE INVESTIMENTO IMOBILIARIO RESPONSABILIDADE LIMITADA",
         "SP",
         "São Paulo"
        ],
        [
         "42736004000182",
         "EM FUNCIONAMENTO NORMAL",
         "2021-12-29",
         null,
         1.114230683E7,
         "42736004000182",
         "SP",
         "PCS II COSTA ESMERALDA FUNDO DE INVESTIMENTO EM PARTICIPACOES INFRAESTRUTURA",
         "SP",
         "São Paulo"
        ],
        [
         "40311750000107",
         "EM FUNCIONAMENTO NORMAL",
         "2021-06-24",
         null,
         3.132980961E7,
         "40311750000107",
         "SP",
         "FEEAGRO FUNDO DE INVESTIMENTO EM PARTICIPACOES - CAPITAL SEMENTE RESPONSABILIDADE LIMITADA",
         "SP",
         "São Paulo"
        ],
        [
         "50051913000105",
         "EM FUNCIONAMENTO NORMAL",
         "2023-03-23",
         null,
         5.455316553E7,
         "50051913000105",
         "SP",
         "NXC FUNDO DE INVESTIMENTO MULTIMERCADO CREDITO PRIVADO",
         "SP",
         "São Paulo"
        ],
        [
         "17574820000190",
         "EM FUNCIONAMENTO NORMAL",
         "2013-02-28",
         0.3,
         1093018.92,
         "17574820000190",
         "SP",
         "COASTAL FUNDO DE INVESTIMENTO EM ACOES",
         "SP",
         "São Paulo"
        ],
        [
         "03499367000190",
         "EM FUNCIONAMENTO NORMAL",
         "2005-03-16",
         0.4,
         2.4029445984E8,
         "03499367000190",
         "SP",
         "CLASSE UNICA DO WESTERN ASSET RF ATIVO FUNDO DE INVESTIMENTO FINANCEIRO - RESP LIMITADA",
         "SP",
         "São Paulo"
        ],
        [
         "17340392000130",
         "EM FUNCIONAMENTO NORMAL",
         "2014-03-07",
         0.3,
         3.9777181563E8,
         "17340392000130",
         "SP",
         "JPMORGAN GLOBAL RESEARCH ENHANCED INDEX EQUITY CLASSE DE INVESTIMENTO ACOES IE RESP LIMITADA",
         "SP",
         "São Paulo"
        ],
        [
         "46557432000107",
         "EM FUNCIONAMENTO NORMAL",
         "2022-07-07",
         null,
         4120348.03,
         "46557432000107",
         "SP",
         "ACELERA CASH FUNDO DE INVESTIMENTO EM DIREITOS CREDITORIOS",
         "SP",
         "São Paulo"
        ],
        [
         "21331225000109",
         "EM FUNCIONAMENTO NORMAL",
         "2015-02-10",
         null,
         -1519081.16,
         "21331225000109",
         "RJ",
         "EDUCACAO BR FUNDO DE INVESTIMENTO EM PARTICIPACOES",
         "RJ",
         "Rio de Janeiro"
        ],
        [
         "47423757000151",
         "EM FUNCIONAMENTO NORMAL",
         "2022-10-20",
         65.0,
         3.280304342E8,
         "47423757000151",
         "MG",
         "RENDA FUNDO DE INVESTIMENTO FINANCEIRO RENDA FIXA LONGO PRAZO TITULOS PUBL IMA GERAL RESP LIMITADA",
         "MG",
         "Minas Gerais"
        ],
        [
         "05627929000169",
         "EM FUNCIONAMENTO NORMAL",
         "2005-04-04",
         0.12,
         1.15696028435E9,
         "05627929000169",
         "SP",
         "MAPFRE EMPRESAS CLASSE DE INVESTIMENTO RENDA FIXA - RESPONSABILIDADE LIMITADA",
         "SP",
         "São Paulo"
        ],
        [
         "45521676000169",
         "EM FUNCIONAMENTO NORMAL",
         "2022-10-27",
         null,
         3.5515348358E8,
         "45521676000169",
         "SP",
         "HAWKER FUNDO DE INVESTIMENTO EM DIREITOS CREDITORIOS NAO PADRONIZADOS",
         "SP",
         "São Paulo"
        ],
        [
         "23781192000116",
         "EM FUNCIONAMENTO NORMAL",
         "2016-12-19",
         null,
         3.09240810504E9,
         "23781192000116",
         "SP",
         "GLP INVESTIMENTOS IV FUNDO DE INVESTIMENTO EM PARTICIPACOES MULTIESTRATEGIA",
         "SP",
         "São Paulo"
        ],
        [
         "50948092000104",
         "EM FUNCIONAMENTO NORMAL",
         "2023-06-05",
         null,
         2.04266121E7,
         "50948092000104",
         "SP",
         "CESSIONARIO 1 FUNDO DE INVESTIMENTO EM DIREITOS CREDITORIOS NAO-PADRONIZADOS RESP LIMITADA",
         "SP",
         "São Paulo"
        ],
        [
         "43648593000100",
         "EM FUNCIONAMENTO NORMAL",
         "2021-12-02",
         null,
         1.462862316E7,
         "43648593000100",
         "SP",
         "FC MONEY FUNDO DE INVESTIMENTO EM DIREITOS CREDITORIOS RESPONSABILIDADE LIMITADA",
         "SP",
         "São Paulo"
        ],
        [
         "09315625000117",
         "EM FUNCIONAMENTO NORMAL",
         "2008-07-08",
         1.0,
         1.213258701E7,
         "09315625000117",
         "RJ",
         "SECURITY RENDA FIXA REFERENCIADO DI LONGO PRAZO CREDITO PRIVADO",
         "RJ",
         "Rio de Janeiro"
        ],
        [
         "45899460000131",
         "EM FUNCIONAMENTO NORMAL",
         "2022-09-28",
         null,
         5.143766779E7,
         "45899460000131",
         "SP",
         "VOLUS FUNDO DE INVESTIMENTO EM DIREITOS CREDITORIOS NAO-PADRONIZADOS RESPONSABILIDADE LIMITADA",
         "SP",
         "São Paulo"
        ],
        [
         "24764405000164",
         "EM FUNCIONAMENTO NORMAL",
         "2016-04-18",
         null,
         1.0174597496E8,
         "24764405000164",
         "SP",
         "AEROTEC - FUNDO DE INVESTIMENTO EM PARTICIPACOES MULTIESTRATEGIA",
         "SP",
         "São Paulo"
        ],
        [
         "44428854000149",
         "EM FUNCIONAMENTO NORMAL",
         "2022-09-25",
         null,
         1.217224301E8,
         "44428854000149",
         "SP",
         "CSHG JIVE DISTRESSED & SPECIAL SITS IV ALLOCATION FIC DE FIF MULTI CP RESPONSABILIDADE LIMITADA",
         "SP",
         "São Paulo"
        ],
        [
         "36764134000126",
         "EM FUNCIONAMENTO NORMAL",
         "2020-03-25",
         5.0,
         2.963157566E7,
         "36764134000126",
         "MG",
         "INTER ACCESS ATMOS FC DE FUNDOS DE INVESTIMENTO FINANCEIRO EM ACOES RESPONSABILIDADE LIMITADA",
         "MG",
         "Minas Gerais"
        ],
        [
         "97543707000186",
         "EM FUNCIONAMENTO NORMAL",
         "2011-08-31",
         0.0,
         2.0799783775E8,
         "97543707000186",
         "SP",
         "BLACKROCK INSTITUCIONAL IBOVESPA CLASSE DE INVESTIMENTO EM ACOES - RESPONSABILIDADE LIMITADA",
         "SP",
         "São Paulo"
        ],
        [
         "38443033000189",
         "EM FUNCIONAMENTO NORMAL",
         "2021-02-10",
         0.98,
         5.715885576E7,
         "38443033000189",
         "SP",
         "BNP PARIBAS INFRAESTRUTURA CIC RF SUSTENTAVEL IS - RESPONSABILIDADE LIMITADA",
         "SP",
         "São Paulo"
        ],
        [
         "41751844000151",
         "EM FUNCIONAMENTO NORMAL",
         "2022-07-14",
         null,
         0.0,
         "41751844000151",
         "SP",
         "MARSELHA FUNDO DE INVESTIMENTO FINANCEIRO CREDITO PRIVADO RESPONSABILIDADE LIMITADA",
         "SP",
         "São Paulo"
        ],
        [
         "45721977000136",
         "EM FUNCIONAMENTO NORMAL",
         "2022-07-19",
         null,
         1.7123149245E8,
         "45721977000136",
         "SP",
         "MONARCA FI EM COTAS DE FUNDOS DE INVESTIMENTO EM DIREITOS CREDITORIOS RESPONSABILIDADE LIMITADA",
         "SP",
         "São Paulo"
        ],
        [
         "49733651000180",
         "EM FUNCIONAMENTO NORMAL",
         "2023-02-27",
         0.08,
         1.222186178E7,
         "49733651000180",
         "RJ",
         "GENEPI FI EM COTAS DE FIF MULTIMERCADO CREDITO PRIVADO - RESPONSABILIDADE LIMITADA",
         "RJ",
         "Rio de Janeiro"
        ],
        [
         "28849641000134",
         "EM FUNCIONAMENTO NORMAL",
         "2018-03-19",
         null,
         3.043454345E7,
         "28849641000134",
         "SP",
         "SQUID FUNDO DE INVESTIMENTO EM DIRETOS CREDITORIOS",
         "SP",
         "São Paulo"
        ],
        [
         "49651245000178",
         "EM FUNCIONAMENTO NORMAL",
         "2023-02-17",
         null,
         1.236116204E7,
         "49651245000178",
         "SP",
         "BAY GUANABARA FUNDO DE INVESTIMENTO MULTIMERCADO CREDITO PRIVADO INVESTIMENTO NO EXTERIOR",
         "SP",
         "São Paulo"
        ],
        [
         "36741133000166",
         "EM FUNCIONAMENTO NORMAL",
         "2020-06-30",
         null,
         5.3346384692E8,
         "36741133000166",
         "SP",
         "AFRICA FUNDO DE INVESTIMENTO MULTIMERCADO RESPONSABILIDADE LIMITADA",
         "SP",
         "São Paulo"
        ],
        [
         "25108905000100",
         "EM FUNCIONAMENTO NORMAL",
         "2016-12-09",
         0.2,
         1.0448693463E8,
         "25108905000100",
         "SP",
         "BNP PARIBAS MASTER INFRAESTRUTURA CLASSE DE INVESTIMENTO RENDA FIXA SUSTENTAVEL IS - RESP LIMITADA",
         "SP",
         "São Paulo"
        ],
        [
         "50184026000105",
         "EM FUNCIONAMENTO NORMAL",
         "2023-04-03",
         null,
         3.390548606E7,
         "50184026000105",
         "SP",
         "AMALFI FUNDO DE INVESTIMENTO EM DIREITOS CREDITORIOS RESPONSABILIDADE LIMITADA",
         "SP",
         "São Paulo"
        ],
        [
         "36741161000183",
         "EM FUNCIONAMENTO NORMAL",
         "2020-07-16",
         null,
         4.605274238E7,
         "36741161000183",
         "SP",
         "NANBAN FUNDO DE INVESTIMENTO EM DIREITOS CREDITORIOS NAO PADRONIZADOS RESPONSABILIDADE LIMITADA",
         "SP",
         "São Paulo"
        ],
        [
         "50808042000121",
         "EM FUNCIONAMENTO NORMAL",
         "2023-05-24",
         null,
         4.7699495571E8,
         "50808042000121",
         "SP",
         "VBI TR FARIA LIMA 4440 FUNDO DE INVESTIMENTO IMOBILIARIO",
         "SP",
         "São Paulo"
        ],
        [
         "46268214000144",
         "EM FUNCIONAMENTO NORMAL",
         "2022-06-01",
         null,
         2.219077747E8,
         "46268214000144",
         "SP",
         "ORE FOSFATO MORRO VERDE FUNDO DE INVESTIMENTO EM PARTICIPACOES - MULTIESTRATEGIA RESPONSABILIDADE LI",
         "SP",
         "São Paulo"
        ],
        [
         "48996311000189",
         "EM FUNCIONAMENTO NORMAL",
         "2022-12-28",
         null,
         7635102.32,
         "48996311000189",
         "SP",
         "ABP VENTURES FUNDO DE INVESTIMENTO MULTIMERCADO CREDITO PRIVADO INVESTIMENTO NO EXTERIOR",
         "SP",
         "São Paulo"
        ],
        [
         "14217108000145",
         "EM FUNCIONAMENTO NORMAL",
         "2011-11-16",
         null,
         3.2571111973E8,
         "14217108000145",
         "SP",
         "FUNDO DE INVESTIMENTO IMOBILIARIO INDUSTRIAL DO BRASIL",
         "SP",
         "São Paulo"
        ],
        [
         "51199121000145",
         "EM FUNCIONAMENTO NORMAL",
         "2023-06-27",
         null,
         3575207.71,
         "51199121000145",
         "SP",
         "2MONEY FUNDO DE INVESTIMENTO EM DIREITOS CREDITORIOS NAO-PADRONIZADOS RESPONSABILIDADE LIMITADA",
         "SP",
         "São Paulo"
        ],
        [
         "42260903000151",
         "EM FUNCIONAMENTO NORMAL",
         "2021-07-08",
         null,
         5.8474970655E8,
         "42260903000151",
         "RJ",
         "RIZA STATHEROS FUNDO DE INVESTIMENTO EM COTAS DE FUNDOS DE INVESTIMENTO MULTIMERCADO CREDITO PRIVADO",
         "RJ",
         "Rio de Janeiro"
        ],
        [
         "32222722000187",
         "EM FUNCIONAMENTO NORMAL",
         "2019-04-03",
         0.25,
         1.88152272607E9,
         "32222722000187",
         "SP",
         "BNP PARIBAS CRED INSTITUCIONAL SUSTENTAVEL IS CI EM CLASSES DE INVESTIMENTO RF CP LP - RESP LIMITADA",
         "SP",
         "São Paulo"
        ],
        [
         "23700564000132",
         "EM FUNCIONAMENTO NORMAL",
         "2016-12-13",
         null,
         513510.04,
         "23700564000132",
         "SP",
         "LUNA FUNDO DE INVESTIMENTO EM PARTICIPACOES MULTIESTRATEGIA",
         "SP",
         "São Paulo"
        ],
        [
         "45019108000164",
         "EM FUNCIONAMENTO NORMAL",
         "2022-03-23",
         null,
         1.342890732E7,
         "45019108000164",
         "SP",
         "UJAY SPARTA CAPITAL FUNDO DE INVESTIMENTO EM DIREITOS CREDITORIOS NAO-PADRONIZADOS FIDC NP",
         "SP",
         "São Paulo"
        ],
        [
         "39976918000106",
         "EM FUNCIONAMENTO NORMAL",
         "2021-01-07",
         null,
         4.456082369E7,
         "39976918000106",
         "SP",
         "OCA FUNDO DE INVESTIMENTO EM PARTICIPACOES EM EMPRESAS EMERGENTES",
         "SP",
         "São Paulo"
        ],
        [
         "14167491000174",
         "EM FUNCIONAMENTO NORMAL",
         "2012-05-11",
         0.02,
         1.40077189908E9,
         "14167491000174",
         "SP",
         "BNP PARIBAS MASTER CASH DI REFERENCIADO CLASSE DE INVESTIMENTO RENDA FIXA - RESP LIMITADA",
         "SP",
         "São Paulo"
        ],
        [
         "09194841000151",
         "EM FUNCIONAMENTO NORMAL",
         "2007-11-30",
         null,
         1.8033292672E8,
         "09194841000151",
         "SP",
         "ATLANTICO FUNDO DE INVESTIMENTO EM DIREITOS CREDITORIOS RESPONSABILIDADE LIMITADA",
         "SP",
         "São Paulo"
        ],
        [
         "33361873000189",
         "EM FUNCIONAMENTO NORMAL",
         "2019-06-18",
         0.07,
         6.562865568E7,
         "33361873000189",
         "SP",
         "BLACKROCK GLOBAL EVENT DRIVEN MASTER CLASSE DE INVESTIMENTO MULTIMERCADO RESPONSABILIDADE LIMITADA",
         "SP",
         "São Paulo"
        ],
        [
         "28065477000174",
         "EM FUNCIONAMENTO NORMAL",
         "2019-08-02",
         null,
         3.6033615272E8,
         "28065477000174",
         "SP",
         "FUTURAMA FUNDO DE INVESTIMENTO MULTIMERCADO CREDITO PRIVADO INVESTIMENTO NO EXTERIOR",
         "SP",
         "São Paulo"
        ],
        [
         "48373413000148",
         "EM FUNCIONAMENTO NORMAL",
         "2022-12-09",
         null,
         2.7760247853E8,
         "48373413000148",
         "SP",
         "CIX ITAPURANGA FUNDO DE INVESTIMENTO IMOBILIARIO RESPONSABILIDADE LIMITADA",
         "SP",
         "São Paulo"
        ],
        [
         "01356517000180",
         "EM FUNCIONAMENTO NORMAL",
         "1996-07-24",
         null,
         1.6878108439E8,
         "01356517000180",
         "RJ",
         "LAGRA-FUNDO DE INVESTIMENTO IMOBILIARIO",
         "RJ",
         "Rio de Janeiro"
        ],
        [
         "12834634000129",
         "EM FUNCIONAMENTO NORMAL",
         "2010-10-18",
         null,
         372240.51,
         "12834634000129",
         "SP",
         "FUNDO DE INVESTIMENTO EM PARTICIPACOES BRASIL DE PRIVATE EQUITY III MULTIESTRATEGIA - EM LIQUIDACAO",
         "SP",
         "São Paulo"
        ],
        [
         "49176545000142",
         "EM FUNCIONAMENTO NORMAL",
         "2023-01-13",
         null,
         2.344639181E7,
         "49176545000142",
         "SP",
         "RIVER II FUNDO DE INVESTIMENTO EM DIREITOS CREDITORIOS NAO-PADRONIZADOS RESPONSABILIDADE LIMITADA",
         "SP",
         "São Paulo"
        ],
        [
         "12239939000192",
         "EM FUNCIONAMENTO NORMAL",
         "2011-09-21",
         2.02,
         6.55877165E7,
         "12239939000192",
         "SP",
         "BNP PARIBAS ACTION CLASSE DE INVESTIMENTO EM CLASSES DE INVESTIMENTO DE ACOES - RESP LIMITADA",
         "SP",
         "São Paulo"
        ],
        [
         "35819219000100",
         "EM FUNCIONAMENTO NORMAL",
         "2020-07-24",
         0.4,
         1.0551798646E9,
         "35819219000100",
         "SP",
         "JIVE DISTRESSED III OFFSHORE FIC DE FIF MULTI CP RESPONSABILIDADE LIMITADA",
         "SP",
         "São Paulo"
        ],
        [
         "07766151000102",
         "EM FUNCIONAMENTO NORMAL",
         "2006-01-09",
         null,
         0.0,
         "07766151000102",
         "RJ",
         "FUNDO DE INVESTIMENTO EM DIREITOS CREDITORIOS BCSUL VERAX MULTICRED FINANCEIRO",
         "RJ",
         "Rio de Janeiro"
        ],
        [
         "11769285000146",
         "EM FUNCIONAMENTO NORMAL",
         "2010-07-23",
         0.58,
         2.66385730905E9,
         "11769285000146",
         "SP",
         "SPHERE CLASSE DE INVESTIMENTO MULTIMERCADO CREDITO PRIVADO INVESTIMENTO NO EXTERIOR",
         "SP",
         "São Paulo"
        ],
        [
         "51339815000130",
         "EM FUNCIONAMENTO NORMAL",
         "2023-07-07",
         null,
         8.179266377E7,
         "51339815000130",
         "SP",
         "AVT LOG FUNDO DE INVESTIMENTO EM PARTICIPACOES INFRAESTRUTURA",
         "SP",
         "São Paulo"
        ],
        [
         "24768711000179",
         "EM FUNCIONAMENTO NORMAL",
         "2016-05-18",
         null,
         8.304273561E7,
         "24768711000179",
         "RJ",
         "OPUS MEDICAL - FUNDO DE INVESTIMENTO EM PARTICIPACOES MULTIESTRATEGIA INVESTIMENTO NO EXTERIOR",
         "RJ",
         "Rio de Janeiro"
        ],
        [
         "39784273000100",
         "EM FUNCIONAMENTO NORMAL",
         "2020-12-29",
         null,
         5.731666892E7,
         "39784273000100",
         "SP",
         "GO PRO ENERGIA FUNDO DE INVESTIMENTO EM PARTICIPACOES MULTIESTRATEGIA",
         "SP",
         "São Paulo"
        ],
        [
         "44680424000110",
         "EM FUNCIONAMENTO NORMAL",
         "2022-01-21",
         null,
         5.152904921E7,
         "44680424000110",
         "SP",
         "SANTA BARBARA FUNDO DE INVESTIMENTO EM DIREITOS CREDITORIOS MULTISSETORIAL- RESP LIMITADA",
         "SP",
         "São Paulo"
        ],
        [
         "43105440000116",
         "EM FUNCIONAMENTO NORMAL",
         "2021-08-25",
         null,
         5886041.3,
         "43105440000116",
         "SP",
         "BNP PARIBAS SOBERANO II CIC DE CLASSE DE INVESTIMENTO RENDA FIXA SIMPLES - RESP LIMITADA",
         "SP",
         "São Paulo"
        ],
        [
         "48389780000130",
         "EM FUNCIONAMENTO NORMAL",
         "2022-12-11",
         null,
         2.3977683304E8,
         "48389780000130",
         "SP",
         "CIX MUIRAQUITAN FUNDO DE INVESTIMENTO IMOBILIARIO RESPONSABILIDADE LIMITADA",
         "SP",
         "São Paulo"
        ],
        [
         "22773421000198",
         "EM FUNCIONAMENTO NORMAL",
         "2016-03-31",
         0.15,
         6.5478605936E8,
         "22773421000198",
         "SP",
         "CLASSE UNICA DO WESTERN ASSET SOBERANO II RF REFERENCIADO SELIC FI FINANACEIRO - RESP LIMITADA",
         "SP",
         "São Paulo"
        ],
        [
         "12107669000166",
         "EM FUNCIONAMENTO NORMAL",
         "2012-06-01",
         0.02,
         2.38947988072E9,
         "12107669000166",
         "SP",
         "BNP PARIBAS MASTER CREDITO SUSTENTAVEL IS CI RENDA FIXA CREDITO PRIVADO LONGO PRAZO - RESP LIMITADA",
         "SP",
         "São Paulo"
        ],
        [
         "12107422000140",
         "EM FUNCIONAMENTO NORMAL",
         "2011-09-06",
         0.8,
         1.9252269085E8,
         "12107422000140",
         "SP",
         "ZURICH BNPP RENDA FIXA CIC DE CLASSES DE INVESTIMENTO PREVIDENCIARIA - RESP LIMITADA",
         "SP",
         "São Paulo"
        ],
        [
         "21917293000146",
         "EM FUNCIONAMENTO NORMAL",
         "2015-03-10",
         null,
         1002975.4,
         "21917293000146",
         "SP",
         "GAUDI FUNDO DE INVESTIMENTO EM PARTICIPACOES MULTIESTRATEGIA",
         "SP",
         "São Paulo"
        ],
        [
         "27531301000106",
         "EM FUNCIONAMENTO NORMAL",
         "2017-05-29",
         null,
         4.730974917E7,
         "27531301000106",
         "SP",
         "QUANTHAS FUNDO DE INVESTIMENTO EM DIREITOS CREDITORIOS MULTISSETORIAL - RESPONSABILIDADE LIMITADA",
         "SP",
         "São Paulo"
        ],
        [
         "50153414000129",
         "EM FUNCIONAMENTO NORMAL",
         "2023-03-30",
         null,
         3.44638365E7,
         "50153414000129",
         "SP",
         "INVESTMACH FUNDO DE INVESTIMENTO EM DIREITOS CREDITORIOS - FIDC",
         "SP",
         "São Paulo"
        ],
        [
         "40140470000175",
         "EM FUNCIONAMENTO NORMAL",
         "2021-03-15",
         0.5,
         4.732314828E7,
         "40140470000175",
         "SP",
         "BNP PARIBAS INFRA INSTITUCIONAL CI EM CLASSES DE INVESTIMENTO RF SUSTENTAVEL IS - RESP LIMITADA",
         "SP",
         "São Paulo"
        ],
        [
         "09087483000188",
         "EM FUNCIONAMENTO NORMAL",
         "2010-01-11",
         2.0,
         1.720790888E7,
         "09087483000188",
         "SP",
         "WESTERN ASSET DIVIDEND YIELD FUNDO DE INVESTIMENTO FINANCEIRO EM ACOES - RESPONSABILIDADE LIMITADA",
         "SP",
         "São Paulo"
        ],
        [
         "44570797000138",
         "EM FUNCIONAMENTO NORMAL",
         "2021-12-30",
         null,
         2.158356741E7,
         "44570797000138",
         "SP",
         "VSG I FUNDO DE INVESTIMENTO EM PARTICIPACOES MULTIESTRATEGIA",
         "SP",
         "São Paulo"
        ],
        [
         "49974540000165",
         "EM FUNCIONAMENTO NORMAL",
         "2023-03-17",
         null,
         3.398203665E7,
         "49974540000165",
         "SP",
         "HT3 II FUNDO DE INVESTIMENTO EM DIREITOS CREDITORIOS NAO PADRONIZADO",
         "SP",
         "São Paulo"
        ],
        [
         "16734970000150",
         "EM FUNCIONAMENTO NORMAL",
         "2012-08-23",
         null,
         1.1052978777E8,
         "16734970000150",
         "SP",
         "ICP - FUNDO DE INVESTIMENTO EM PARTICIPACOES MULTIESTRATEGIA INVESTIMENTO NO EXTERIOR",
         "SP",
         "São Paulo"
        ],
        [
         "16703203000184",
         "EM FUNCIONAMENTO NORMAL",
         "2013-01-16",
         0.75,
         2.673520825E7,
         "16703203000184",
         "SP",
         "WESTERN ASSET PREV IBRX ALPHA ACOES FIC DE FUNDOS DE INVESTIMENTO FINANCEIRO RESP LIMITADA",
         "SP",
         "São Paulo"
        ],
        [
         "02918931000107",
         "EM FUNCIONAMENTO NORMAL",
         "2005-03-28",
         1.5,
         2.856408456E7,
         "02918931000107",
         "SP",
         "BNP PARIBAS MAPFRE MAXI RENDA FIXA CIC DE CLASSES DE INVESTIMENTO PREVIDENCIARIA - RESP LIMITADA",
         "SP",
         "São Paulo"
        ],
        [
         "46628381000159",
         "EM FUNCIONAMENTO NORMAL",
         "2022-07-19",
         null,
         6774129.91,
         "46628381000159",
         "SP",
         "KATLA FUNDO DE INVESTIMENTO MULTIMERCADO CREDITO PRIVADO",
         "SP",
         "São Paulo"
        ],
        [
         "47033209000115",
         "EM FUNCIONAMENTO NORMAL",
         "2022-07-28",
         null,
         8.58764167E7,
         "47033209000115",
         "RJ",
         "IPANEMA PREVIDENCIARIO FIF MULTIMERCADO CREDITO PRIVADO - RESPONSABILIDADE LIMITADA",
         "RJ",
         "Rio de Janeiro"
        ],
        [
         "42295379000154",
         "EM FUNCIONAMENTO NORMAL",
         "2021-08-16",
         null,
         1.5674803064E8,
         "42295379000154",
         "MG",
         "IG FUNDO DE INVESTIMENTO FINANCEIRO RENDA FIXA CREDITO PRIVADO RESPONSABILIDADE LIMITADA",
         "MG",
         "Minas Gerais"
        ],
        [
         "50555281000117",
         "EM FUNCIONAMENTO NORMAL",
         "2023-05-04",
         null,
         1.67105102E7,
         "50555281000117",
         "SP",
         "RECEBIVEIS BRASIL INFRA FUNDO DE INVESTIMENTO EM DIREITOS CREDITORIOS NAO-PADRONIZADOS",
         "SP",
         "São Paulo"
        ],
        [
         "49963418000193",
         "EM FUNCIONAMENTO NORMAL",
         "2023-03-16",
         null,
         1.9358058271E8,
         "49963418000193",
         "SP",
         "OPI CREDITO AGRICOLA FI NAS CADEIAS PRODUTIVAS AGROINDUSTRIAIS FIAGRO - DC - RESP LIMITADA",
         "SP",
         "São Paulo"
        ],
        [
         "34691300000186",
         "EM FUNCIONAMENTO NORMAL",
         "2020-04-13",
         null,
         1.567930715E7,
         "34691300000186",
         "SP",
         "ALPHA CREDITO FUNDO DE INVESTIMENTO EM DIREITOS CREDITORIOS",
         "SP",
         "São Paulo"
        ],
        [
         "41557609000143",
         "EM FUNCIONAMENTO NORMAL",
         "2021-09-06",
         null,
         4.542439587E7,
         "41557609000143",
         "SP",
         "SUN FUNDO DE INVESTIMENTO EM DIREITOS CREDITORIOS NAO-PADRONIZADOS RESPONSABILIDADE LIMITADA",
         "SP",
         "São Paulo"
        ],
        [
         "08815386000100",
         "EM FUNCIONAMENTO NORMAL",
         "2007-08-10",
         1.0,
         1.07168979E7,
         "08815386000100",
         "MG",
         "INTER SELECTION ACOES FC DE FUNDO DE INVESTIMENTO FINANCEIRO EM ACOES RESPONSABILIDADE LIMITADA",
         "MG",
         "Minas Gerais"
        ],
        [
         "36098375000183",
         "EM FUNCIONAMENTO NORMAL",
         "2020-02-17",
         null,
         1.1786818176E8,
         "36098375000183",
         "MG",
         "BTSP I FUNDO DE INVESTIMENTO IMOBILIARIO FII RESPONSABILIDADE LIMITADA",
         "MG",
         "Minas Gerais"
        ],
        [
         "33429343000125",
         "EM FUNCIONAMENTO NORMAL",
         "2019-09-18",
         0.03,
         3.6174697241E8,
         "33429343000125",
         "SP",
         "DB HOLDING CLASSE DE INVESTIMENTO MULTIMERCADO INVESTIMENTO NO EXTERIOR CREDITO PRIVADO",
         "SP",
         "São Paulo"
        ],
        [
         "36115022000144",
         "EM FUNCIONAMENTO NORMAL",
         "2020-08-05",
         null,
         1.5365185995E8,
         "36115022000144",
         "SP",
         "SAVANA FUNDO DE INVESTIMENTO EM PARTICIPACOES MULTIESTRATEGIA",
         "SP",
         "São Paulo"
        ],
        [
         "36443522000105",
         "EM FUNCIONAMENTO NORMAL",
         "2020-02-21",
         25.0,
         1.81405177298E9,
         "36443522000105",
         "MG",
         "INTER CORPORATE FUNDO DE INVESTIMENTO FINANCEIRO RENDA FIXA CREDITO PRIVADO RESP LIMITADA",
         "MG",
         "Minas Gerais"
        ],
        [
         "28296597000182",
         "EM FUNCIONAMENTO NORMAL",
         "2018-06-07",
         null,
         5.316074455E7,
         "28296597000182",
         "SP",
         "HT3 FUNDO DE INVESTIMENTO EM DIREITOS CREDITORIOS RESPONSABILIDADE LIMITADA",
         "SP",
         "São Paulo"
        ],
        [
         "44638491000176",
         "EM FUNCIONAMENTO NORMAL",
         "2022-11-08",
         null,
         3.112389581E7,
         "44638491000176",
         "SP",
         "MATECH PAR FUNDO DE INVESTIMENTO EM PARTICIPACOES CAPITALSEMENTE",
         "SP",
         "São Paulo"
        ],
        [
         "42315695000140",
         "EM FUNCIONAMENTO NORMAL",
         "2021-08-26",
         null,
         3.211744968E7,
         "42315695000140",
         "MG",
         "INTER ACESS ABSOLUTE VERTEX FC DE FUNDO DE INVESTIMENTO FINANCEIRO MULTIMERCADO",
         "MG",
         "Minas Gerais"
        ],
        [
         "16570371000149",
         "EM FUNCIONAMENTO NORMAL",
         "2012-08-01",
         2.0,
         2771984.61,
         "16570371000149",
         "SP",
         "BBT MULTIMERCADO FUNDO DE INVESTIMENTO FINANCEIRO",
         "SP",
         "São Paulo"
        ],
        [
         "43236423000118",
         "EM FUNCIONAMENTO NORMAL",
         "2021-08-24",
         null,
         3.5631362132E8,
         "43236423000118",
         "SP",
         "CLOUD9 CAPITAL FUNDO DE INVESTIMENTO EM PARTICIPACOES MULTIESTRATEGIA",
         "SP",
         "São Paulo"
        ],
        [
         "29881003000163",
         "EM FUNCIONAMENTO NORMAL",
         "2019-01-23",
         0.01,
         4.9264134473E8,
         "29881003000163",
         "SP",
         "SILEX FUNDO DE INVESTIMENTO MULTIMERCADO CREDITO PRIVADO INVESTIMENTO NO EXTERIOR",
         "SP",
         "São Paulo"
        ],
        [
         "02918923000152",
         "EM FUNCIONAMENTO NORMAL",
         "2005-03-28",
         2.0,
         6269533.2,
         "02918923000152",
         "SP",
         "BNP PARIBAS MAPFRE MAXI 20 MULTIMERCADO CIC COTAS DE CI PREVIDENCIARIA - RESPONSABILIDADE LIMITADA",
         "SP",
         "São Paulo"
        ],
        [
         "10500895000187",
         "EM FUNCIONAMENTO NORMAL",
         "2008-12-02",
         null,
         1.123352714E7,
         "10500895000187",
         "SP",
         "INVESTIMAGE 1 FUNDO DE FINANCIAMENTO DA INDUSTRIA CINEMATOGRAFICA NACIONAL - FUNCINE",
         "SP",
         "São Paulo"
        ],
        [
         "45254732000146",
         "EM FUNCIONAMENTO NORMAL",
         "2022-03-10",
         null,
         4.021983357E7,
         "45254732000146",
         "RJ",
         "POXIM FUNDO DE INVESTIMENTO IMOBILIARIO RESPONSABILIDADE LIMITADA",
         "RJ",
         "Rio de Janeiro"
        ],
        [
         "36312772000106",
         "EM FUNCIONAMENTO NORMAL",
         "2020-02-18",
         null,
         5.120662227E7,
         "36312772000106",
         "MG",
         "INTER TEVA INDICE DE PAPEL FUNDO DE INVESTIMENTO IMOBILIARIO FII RESPONSABILIDADE LIMITADA",
         "MG",
         "Minas Gerais"
        ],
        [
         "14067624000130",
         "EM FUNCIONAMENTO NORMAL",
         "2011-10-28",
         null,
         151818.15,
         "14067624000130",
         "SP",
         "FUNDO DE INVESTIMENTO EM PARTICIPACOES EM HOTELARIA MULTIESTRATEGIA",
         "SP",
         "São Paulo"
        ],
        [
         "35819666000150",
         "EM FUNCIONAMENTO NORMAL",
         "2020-06-19",
         2.0,
         1.6604255414E9,
         "35819666000150",
         "SP",
         "JIVE DISTRESSED III ONSHORE FIC DE FIF MULTIMERCADO - CREDITO PRIVADO RESPONSABILIDADE LIMITADA",
         "SP",
         "São Paulo"
        ],
        [
         "51476870000172",
         "EM FUNCIONAMENTO NORMAL",
         "2023-07-19",
         null,
         1.0417893333E8,
         "51476870000172",
         "SP",
         "DELTA FUNDO DE INVESTIMENTO IMOBILIARIO",
         "SP",
         "São Paulo"
        ],
        [
         "52317521000170",
         "EM FUNCIONAMENTO NORMAL",
         "2023-09-26",
         null,
         4511806.83,
         "52317521000170",
         "SP",
         "IAT FUNDO DE INVESTIMENTO MULTIMERCADO RESPONSABILIDADE LIMITADA CREDITO PRIVADO IE",
         "SP",
         "São Paulo"
        ],
        [
         "47983885000150",
         "EM FUNCIONAMENTO NORMAL",
         "2022-12-08",
         null,
         1.046652606E8,
         "47983885000150",
         "SP",
         "AXA IM SILVANUS FUND FUNDO DE INVESTIMENTO EM PARTICIPACOES MULTIESTRATEGIA RESPONSABILIDADE LIMITAD",
         "SP",
         "São Paulo"
        ],
        [
         "50399189000105",
         "EM FUNCIONAMENTO NORMAL",
         "2023-04-20",
         null,
         9.422244381E7,
         "50399189000105",
         "SP",
         "FUNDO DE INVESTIMENTO IMOBILIARIO DE UNIDADES AUTONOMAS III RESPONSABILIDADE LIMITADA",
         "SP",
         "São Paulo"
        ],
        [
         "33240249000123",
         "EM FUNCIONAMENTO NORMAL",
         "2019-06-21",
         null,
         2.40766695662E9,
         "33240249000123",
         "SP",
         "KILAUEA BRASIL PARTNERS II - FUNDO DE INVESTIMENTO EM PARTICIPACOES MULTIESTRATEGIA IE RESP LIMITADA",
         "SP",
         "São Paulo"
        ],
        [
         "50226162000110",
         "EM FUNCIONAMENTO NORMAL",
         "2023-04-05",
         null,
         1559098.21,
         "50226162000110",
         "SP",
         "SANVI FUNDO DE INVESTIMENTO EM PARTICIPACOES CAPITAL-SEMENTE",
         "SP",
         "São Paulo"
        ],
        [
         "48996079000189",
         "EM FUNCIONAMENTO NORMAL",
         "2022-12-28",
         null,
         7.640086935E7,
         "48996079000189",
         "SP",
         "KSK FUNDO DE INVESTIMENTO MULTIMERCADO CREDITO PRIVADO",
         "SP",
         "São Paulo"
        ],
        [
         "40211684000195",
         "EM FUNCIONAMENTO NORMAL",
         "2021-02-08",
         null,
         8814320.26,
         "40211684000195",
         "SP",
         "CREDINOV FUNDO DE INVESTIMENTO EM DIREITOS CREDITORIOS NAO-PADRONIZADOS RESPONSABILIDADE LIMITADA",
         "SP",
         "São Paulo"
        ],
        [
         "06985322000113",
         "EM FUNCIONAMENTO NORMAL",
         "2012-03-08",
         32.0,
         1.7911641871E8,
         "06985322000113",
         "MG",
         "CHALLENGER FUNDO DE INVESTIMENTO FINANCEIRO EM ACOES",
         "MG",
         "Minas Gerais"
        ],
        [
         "32295244000135",
         "EM FUNCIONAMENTO NORMAL",
         "2019-12-26",
         null,
         3902898.13,
         "32295244000135",
         "SP",
         "CREDORES FUNDO DE INVESTIMENTO EM DIREITOS CREDITORIOS NAO-PADRONIZADOS RESPONSABILIDADE LIMITADA",
         "SP",
         "São Paulo"
        ],
        [
         "29315301000196",
         "EM FUNCIONAMENTO NORMAL",
         "2018-04-03",
         null,
         4.3184203627E8,
         "29315301000196",
         "SP",
         "FUJI BRASIL PARTNERS I C - FIP MULTIESTRATEGIA INVESTIMENTO NO EXTERIOR RESP LIMITADA",
         "SP",
         "São Paulo"
        ],
        [
         "05862906000139",
         "EM FUNCIONAMENTO NORMAL",
         "2005-05-30",
         0.34,
         5.0323263789E8,
         "05862906000139",
         "SP",
         "BNP PARIBAS TARGUS CLASSE DE INVESTIMENTO EM COTAS DE CLASSE DE INVESTIMENTO RF CP RESP LIMITADA",
         "SP",
         "São Paulo"
        ],
        [
         "45018961000161",
         "EM FUNCIONAMENTO NORMAL",
         "2022-05-30",
         null,
         2.532663374E7,
         "45018961000161",
         "SP",
         "NOVA ERA FUNDO DE INVESTIMENTO EM DIREITOS CREDITORIOS MULTISSETORIAL - RESPONSABILIDADE LIMITADA",
         "SP",
         "São Paulo"
        ],
        [
         "22601577000191",
         "EM FUNCIONAMENTO NORMAL",
         "2015-07-02",
         null,
         1.17893921507E9,
         "22601577000191",
         "SP",
         "FUNDO DE INVESTIMENTO EM PARTICIPACOES VOCATUS MULTIESTRATEGIA RESP LIMITADA",
         "SP",
         "São Paulo"
        ],
        [
         "11044355000107",
         "EM FUNCIONAMENTO NORMAL",
         "2010-08-09",
         null,
         2.2891833875E8,
         "11044355000107",
         "MG",
         "STARX FUNDO DE INVESTIMENTO IMOBILIARIO FII RESPONSABILIDADE LIMITADA",
         "MG",
         "Minas Gerais"
        ],
        [
         "44177436000126",
         "EM FUNCIONAMENTO NORMAL",
         "2022-01-03",
         null,
         4.0055315568E8,
         "44177436000126",
         "SP",
         "GALAXY FUNDO DE INVESTIMENTO EM DIREITOS CREDITORIOS RESPONSABILIDADE LIMITADA",
         "SP",
         "São Paulo"
        ],
        [
         "36930464000144",
         "EM FUNCIONAMENTO NORMAL",
         "2021-04-09",
         null,
         6.7558202267E8,
         "36930464000144",
         "MG",
         "BTSP II FUNDO DE INVESTIMENTO IMOBILIARIO FII RESPONSABILIDADE LIMITADA",
         "MG",
         "Minas Gerais"
        ],
        [
         "30130708000128",
         "EM FUNCIONAMENTO NORMAL",
         "2018-04-13",
         null,
         2.76308112478E9,
         "30130708000128",
         "SP",
         "KINEA HIGH YIELD CRI FUNDO DE INVESTIMENTO IMOBILIARIO RESPONSABILIDADE LIMITADA",
         "SP",
         "São Paulo"
        ],
        [
         "33913568000152",
         "EM FUNCIONAMENTO NORMAL",
         "2019-12-30",
         0.09,
         999393.63,
         "33913568000152",
         "SP",
         "DB I CLASSE DE INVESTIMENTO MULTIMERCADO INVESTIMENTO NO EXTERIOR CREDITO PRIVADO",
         "SP",
         "São Paulo"
        ],
        [
         "26089666000151",
         "EM FUNCIONAMENTO NORMAL",
         "2016-10-31",
         0.38,
         1.0975836454E8,
         "26089666000151",
         "MG",
         "INTER SELECTION DEBENT INCENT FC DE FIF INCENT DE INVEST EM INFRA RENDA FIXA CRED PRIV RESP LIMITADA",
         "MG",
         "Minas Gerais"
        ],
        [
         "49983891000132",
         "EM FUNCIONAMENTO NORMAL",
         "2023-03-17",
         null,
         2.5731731862E8,
         "49983891000132",
         "RJ",
         "PATRIA CREDITO ESTRUTURADO 365 FIC FIM CREDITO PRIVADO",
         "RJ",
         "Rio de Janeiro"
        ],
        [
         "44432479000100",
         "EM FUNCIONAMENTO NORMAL",
         "2022-05-06",
         0.2,
         2.6981060166E8,
         "44432479000100",
         "SP",
         "BNP PARIBAS PREVINORTE CLASSE DE INVESTIMENTO MULTIMERCADO - RESPONSABILIDADE LIMITADA",
         "SP",
         "São Paulo"
        ],
        [
         "49963885000113",
         "EM FUNCIONAMENTO NORMAL",
         "2023-03-16",
         null,
         5.4588945138E8,
         "49963885000113",
         "SP",
         "ALPHA FUNDO DE INVESTIMENTO EM PARTICIPACOES MULTIESTRATEGIA",
         "SP",
         "São Paulo"
        ],
        [
         "32203308000120",
         "EM FUNCIONAMENTO NORMAL",
         "2019-03-26",
         0.38,
         2.0211663737E8,
         "32203308000120",
         "SP",
         "BNP PARIBAS CASH DI II REFERENCIADO CI EM CLASSES DE INVESTIMENTO RENDA FIXA - RESP LIMITADA",
         "SP",
         "São Paulo"
        ],
        [
         "39412078000159",
         "EM FUNCIONAMENTO NORMAL",
         "2022-08-24",
         null,
         1000846.18,
         "39412078000159",
         "SP",
         "BELLAGIO FUNDO DE INVESTIMENTO EM PARTICIPACOES MULTIESTRATEGIA RESPONSABILDADE LIMITADA",
         "SP",
         "São Paulo"
        ],
        [
         "45693226000153",
         "EM FUNCIONAMENTO NORMAL",
         "2022-05-23",
         null,
         6543725.97,
         "45693226000153",
         "SP",
         "CREDITO AGRO FUNDO DE INVESTIMENTO EM DIREITOS CREDITORIOS NAO-PADRONIZADOS RESP LIMITADA",
         "SP",
         "São Paulo"
        ],
        [
         "42754444000162",
         "EM FUNCIONAMENTO NORMAL",
         "2021-11-29",
         null,
         6.572671967E7,
         "42754444000162",
         "RJ",
         "ISTAMBUL FUNDO DE INVESTIMENTO MULTIMERCADO",
         "RJ",
         "Rio de Janeiro"
        ],
        [
         "40670750000195",
         "EM FUNCIONAMENTO NORMAL",
         "2021-04-07",
         null,
         6.35688417573E9,
         "40670750000195",
         "SP",
         "B10 FUNDO DE INVESTIMENTOS EM PARTICIPACOES MULTIESTRATEGIA",
         "SP",
         "São Paulo"
        ],
        [
         "18402048000191",
         "EM FUNCIONAMENTO NORMAL",
         "2013-07-02",
         null,
         571931.15,
         "18402048000191",
         "SP",
         "SANTA MARINA CLASSE DE INVESTIMENTO EM PARTICIPACOES MULTIESTRATEGIA - RESPONSABILIDADE LIMITADA",
         "SP",
         "São Paulo"
        ],
        [
         "49112611000110",
         "EM FUNCIONAMENTO NORMAL",
         "2023-01-09",
         null,
         9.927325637E7,
         "49112611000110",
         "SP",
         "ID GOIANA FUNDO DE INVESTIMENTO FIAGRO IMOBILIARIO",
         "SP",
         "São Paulo"
        ],
        [
         "43876172000136",
         "EM FUNCIONAMENTO NORMAL",
         "2022-03-08",
         null,
         4142252.66,
         "43876172000136",
         "MG",
         "IA CARTEIRA JUROS FC DE FUNDO DE INVESTIMENTO FINANCEIRO MULT CRED PRIV RESPONSABILIDADE LIMITADA",
         "MG",
         "Minas Gerais"
        ],
        [
         "52324762000147",
         "EM FUNCIONAMENTO NORMAL",
         "2023-09-26",
         null,
         2.696179548E7,
         "52324762000147",
         "SP",
         "FUNDO DE INVESTIMENTO IMOBILIARIO DE UNIDADES AUTONOMAS IV",
         "SP",
         "São Paulo"
        ],
        [
         "47085583000164",
         "EM FUNCIONAMENTO NORMAL",
         "2022-10-18",
         null,
         9.948267096E7,
         "47085583000164",
         "SP",
         "JIVE DISTRESSED & SPECIAL SITS IV INSTITUTIONAL FIC DE FIF MULTI - CP RESPONSABILIDADE LIMITADA",
         "SP",
         "São Paulo"
        ],
        [
         "32162536000108",
         "EM FUNCIONAMENTO NORMAL",
         "2019-05-15",
         null,
         4.685894751E7,
         "32162536000108",
         "SP",
         "PSS SMALL FUNDO DE INVESTIMENTO EM PARTICIPACOES MULTIESTRATEGIA INVESTIMENTO NO EXTERIOR",
         "SP",
         "São Paulo"
        ],
        [
         "45908305000134",
         "EM FUNCIONAMENTO NORMAL",
         "2022-11-22",
         null,
         1.6483529491E8,
         "45908305000134",
         "SP",
         "ID 309 FUNDO DE INVESTIMENTO MULTIMERCADO CREDITO PRIVADO INVESTIMENTO NO EXTERIOR",
         "SP",
         "São Paulo"
        ],
        [
         "39723229000190",
         "EM FUNCIONAMENTO NORMAL",
         "2021-01-27",
         0.07,
         6.948446891E7,
         "39723229000190",
         "SP",
         "BLACKROCK ACOES GLOBAIS ESG CLASSE DE INVESTIMENTO SUSTENTAVEL EM ACOES - RESPONSABILIDADE LIMITADA",
         "SP",
         "São Paulo"
        ],
        [
         "45899745000172",
         "EM FUNCIONAMENTO NORMAL",
         "2022-10-25",
         null,
         1.0580562099E8,
         "45899745000172",
         "SP",
         "ID 112 FUNDO DE INVESTIMENTO EM DIREITOS CREDITORIOS NAO-PADRONIZADOS",
         "SP",
         "São Paulo"
        ],
        [
         "09228836000112",
         "EM FUNCIONAMENTO NORMAL",
         "2008-01-07",
         0.0,
         6.4796950853E8,
         "09228836000112",
         "SP",
         "HORIZON CLASSE DE INVESTIMENTO MULTIMERCADO CREDITO PRIVADO INVESTIMENTO NO EXTERIOR",
         "SP",
         "São Paulo"
        ],
        [
         "42196346000157",
         "EM FUNCIONAMENTO NORMAL",
         "2021-08-09",
         null,
         2.847891431E7,
         "42196346000157",
         "SP",
         "ADAMANTUS FUNDO DE INVESTIMENTO EM DIREITOS CREDITORIOS MULTISETORIAL",
         "SP",
         "São Paulo"
        ],
        [
         "02727085000130",
         "EM FUNCIONAMENTO NORMAL",
         "2022-04-09",
         null,
         1355673.91,
         "02727085000130",
         "RJ",
         "FUNDO MUTUO STOCK MAXIMA DE PRIVATIZACAO FGTS",
         "RJ",
         "Rio de Janeiro"
        ],
        [
         "32222912000102",
         "EM FUNCIONAMENTO NORMAL",
         "2018-12-21",
         null,
         2.950780867E7,
         "32222912000102",
         "SP",
         "PRIME REAL ESTATE FUNDO DE INVESTIMENTO IMOBILIARIO RESPONSABILIDADE LIMITADA",
         "SP",
         "São Paulo"
        ],
        [
         "52112338000139",
         "EM FUNCIONAMENTO NORMAL",
         "2023-09-08",
         null,
         3.965763331E7,
         "52112338000139",
         "SP",
         "FIZZ CARD FUNDO DE INVESTIMENTO EM DIREITOS CREDITORIOS NAO-PADRONIZADOS RESPONSABILIDADE LIMITADA",
         "SP",
         "São Paulo"
        ],
        [
         "28240255000140",
         "EM FUNCIONAMENTO NORMAL",
         "2017-08-30",
         null,
         7.533099041E7,
         "28240255000140",
         "SP",
         "MARINO INVEST FUNDO DE INVESTIMENTO EM DIREITOS CREDITORIOS NAO-PADRONIZADOS RESP LIMITADA",
         "SP",
         "São Paulo"
        ],
        [
         "28796986000177",
         "EM FUNCIONAMENTO NORMAL",
         "2018-04-27",
         null,
         1.0377110259E8,
         "28796986000177",
         "SP",
         "KINERET FUNDO DE INVESTIMENTO EM DIREITOS CREDITORIOS",
         "SP",
         "São Paulo"
        ],
        [
         "09234078000145",
         "EM FUNCIONAMENTO NORMAL",
         "2008-06-04",
         null,
         1.16737717074E10,
         "09234078000145",
         "DF",
         "FUNDO DE INVESTIMENTO DO FUNDO DE GARANTIA DO TEMPO DE SERVICO",
         "DF",
         "Distrito Federal"
        ],
        [
         "14166140000149",
         "EM FUNCIONAMENTO NORMAL",
         "2012-01-18",
         null,
         1.29401414112E9,
         "14166140000149",
         "SP",
         "FUNDO DE INVESTIMENTO EM DIREITOS CREDITORIOS SIFRA STAR",
         "SP",
         "São Paulo"
        ],
        [
         "23120075000101",
         "EM FUNCIONAMENTO NORMAL",
         "2022-11-28",
         null,
         1438003.41,
         "23120075000101",
         "SP",
         "GLP INVESTIMENTOS VII FUNDO DE INVESTIMENTO EM PARTICIPACOES MULTIESTRATEGIA",
         "SP",
         "São Paulo"
        ],
        [
         "26452257000178",
         "EM FUNCIONAMENTO NORMAL",
         "2017-06-12",
         null,
         5.502430724E7,
         "26452257000178",
         "SP",
         "AURI FUNDO DE INVESTIMENTO EM DIREITOS CREDITORIOS RESPONSABILIDADE LIMITADA",
         "SP",
         "São Paulo"
        ],
        [
         "22809036000153",
         "EM FUNCIONAMENTO NORMAL",
         "2016-06-20",
         0.8,
         1.396207214E7,
         "22809036000153",
         "SP",
         "BNP PARIBAS ICATU SEG CLASSE DE INVESTIMENTO PREVIDENCIARIA RENDA FIXA CRED PRIVADO - RESP LIMITADA",
         "SP",
         "São Paulo"
        ],
        [
         "11249598000173",
         "EM FUNCIONAMENTO NORMAL",
         "2009-11-11",
         null,
         3.8722679502E8,
         "11249598000173",
         "SP",
         "AGRIFARM FUNDO DE INVESTIMENTO EM PARTICIPACOES MULTIESTRATEGIA",
         "SP",
         "São Paulo"
        ],
        [
         "24701488000142",
         "EM FUNCIONAMENTO NORMAL",
         "2016-05-11",
         null,
         1.9659790255E8,
         "24701488000142",
         "SP",
         "BREOF III - FUNDO DE INVESTIMENTO EM PARTICIPACOES MULTIESTRATEGIA - RESPONSABILIDADE LIMITADA",
         "SP",
         "São Paulo"
        ],
        [
         "07644864000195",
         "EM FUNCIONAMENTO NORMAL",
         "2005-12-27",
         null,
         1248536.18,
         "07644864000195",
         "SP",
         "CINE AA FUNDO DE FINANCIAMENTO DA INDUSTRIA CINEMATOGRAFICA NACIONAL - FUNCINE",
         "SP",
         "São Paulo"
        ],
        [
         "50152676000179",
         "EM FUNCIONAMENTO NORMAL",
         "2023-03-30",
         null,
         3.473794755E7,
         "50152676000179",
         "SP",
         "INVESTMACH FUNDO DE INVESTIMENTO EM COTAS DE FUNDOS DE INVESTIMENTO MULTIMERCADO CREDITO PRIVADO",
         "SP",
         "São Paulo"
        ],
        [
         "52069691000183",
         "EM FUNCIONAMENTO NORMAL",
         "2023-09-04",
         null,
         7.4204001813E8,
         "52069691000183",
         "SP",
         "HERMON FUNDO DE INVESTIMENTO EM DIREITOS CREDITORIOS NAO-PADRONIZADOS",
         "SP",
         "São Paulo"
        ],
        [
         "35178253000134",
         "EM FUNCIONAMENTO NORMAL",
         "2020-01-10",
         0.66,
         3.5600970375E8,
         "35178253000134",
         "MG",
         "MARACA FUNDO DE INVESTIMENTO MULTIMERCADO INVESTIMENTO NO EXTERIOR E CREDITO PRIVADO",
         "MG",
         "Minas Gerais"
        ],
        [
         "51804355000174",
         "EM FUNCIONAMENTO NORMAL",
         "2023-08-14",
         null,
         1.575957148E7,
         "51804355000174",
         "SP",
         "COPEL VENTURES I FUNDO DE INVESTIMENTO EM PARTICIPACOES - EMPRESAS EMERGENTES RESP LIMITADA",
         "SP",
         "São Paulo"
        ],
        [
         "02668201000197",
         "EM FUNCIONAMENTO NORMAL",
         "2005-03-22",
         0.1,
         1.59627950729E9,
         "02668201000197",
         "SP",
         "BNP PARIBAS EQD BRAZIL FUND CLASSE DE INVESTIMENTO MULTIMERCADO CREDITO PRIVADO",
         "SP",
         "São Paulo"
        ],
        [
         "46780646000130",
         "EM FUNCIONAMENTO NORMAL",
         "2022-12-08",
         null,
         9.50403465E7,
         "46780646000130",
         "SP",
         "PC 78 FUNDO DE INVESTIMENTO EM PARTICIPACOES MULTIESTRATEGIA",
         "SP",
         "São Paulo"
        ],
        [
         "28549930000118",
         "EM FUNCIONAMENTO NORMAL",
         "2017-12-07",
         null,
         9.3356381139E8,
         "28549930000118",
         "SP",
         "CSHG JIVE DISTRESSED ALLOCATION II FIC DE FIF MULTI CP - RESPONSABILIDADE LIMITADA",
         "SP",
         "São Paulo"
        ],
        [
         "50311731000126",
         "EM FUNCIONAMENTO NORMAL",
         "2023-04-13",
         null,
         5.484187399E7,
         "50311731000126",
         "SP",
         "ID FY FUNDO DE INVESTIMENTO EM COTAS DE FUNDO DE INVESTIMENTO EM DIREITOS CREDITORIOS RESP LIMITADA",
         "SP",
         "São Paulo"
        ],
        [
         "27368761000157",
         "EM FUNCIONAMENTO NORMAL",
         "2019-04-29",
         null,
         3.15840331E8,
         "27368761000157",
         "SP",
         "GLP INVESTIMENTOS V FUNDO DE INVESTIMENTO EM PARTICIPACOES - MULTIESTRATEGIA",
         "SP",
         "São Paulo"
        ],
        [
         "01497954000114",
         "EM FUNCIONAMENTO NORMAL",
         "1996-10-02",
         null,
         1.5748424368E8,
         "01497954000114",
         "RS",
         "FUNDO DE INVESTIMENTO IMOBILIARIO MISTRAL",
         "RS",
         "Rio Grande do Sul"
        ],
        [
         "47716415000120",
         "EM FUNCIONAMENTO NORMAL",
         "2022-10-07",
         1.2,
         3.920949699E7,
         "47716415000120",
         "RJ",
         "JOURNEY CAPITAL CREDITO ESTRUTURADO 120 FUNDO DE INVESTIMENTO EM COTAS DE FUNDOS DE INVESTIMENTO MULTIMERCADO CREDITO PRIVADO",
         "RJ",
         "Rio de Janeiro"
        ],
        [
         "19831126000136",
         "EM FUNCIONAMENTO NORMAL",
         "2014-04-11",
         1.5,
         1.63386148491E9,
         "19831126000136",
         "SP",
         "WESTERN ASSET FUNDO DE INVESTIMENTO FINANCEIRO ACOES BDR NIVEL I - RESPONSABILIDADE LIMITADA",
         "SP",
         "São Paulo"
        ],
        [
         "20998989000181",
         "EM FUNCIONAMENTO NORMAL",
         "2022-12-06",
         null,
         1.223790679E7,
         "20998989000181",
         "SP",
         "VERUM II FUNDO DE INVESTIMENTO EM DIREITOS CREDITORIOS NAO PADRONIZADOS RESPONSABILIDADE LIMITADA",
         "SP",
         "São Paulo"
        ],
        [
         "11326746000106",
         "EM FUNCIONAMENTO NORMAL",
         "2010-05-28",
         null,
         4.0682077271E8,
         "11326746000106",
         "SP",
         "TAG GR IV - FUNDO DE INVESTIMENTO IMOBILIARIO DE RESPONSABILIDADE LIMITADA",
         "SP",
         "São Paulo"
        ],
        [
         "29315285000131",
         "EM FUNCIONAMENTO NORMAL",
         "2018-10-02",
         null,
         1.277059947E7,
         "29315285000131",
         "SP",
         "OIKOS FUNDO DE INVESTIMENTO EM PARTICIPACOES MULTIESTRATEGIA - RESPONSABILIDADE LIMITADA",
         "SP",
         "São Paulo"
        ],
        [
         "16685929000131",
         "EM FUNCIONAMENTO NORMAL",
         "2023-02-13",
         null,
         6.2138924697E8,
         "16685929000131",
         "RJ",
         "FUNDO DE INVESTIMENTO IMOBILIARIO MACAM SHOPPING RESPONSABILIDADE LIMITADA",
         "RJ",
         "Rio de Janeiro"
        ],
        [
         "34644159000160",
         "EM FUNCIONAMENTO NORMAL",
         "2019-11-04",
         null,
         3.7820675354E8,
         "34644159000160",
         "SP",
         "PATRIA INFRAESTRUTURA IV FEEDER-D FUNDO DE INVESTIMENTO EM PARTICIPACOES MULTI RESP LIMITADA",
         "SP",
         "São Paulo"
        ],
        [
         "04192419000143",
         "EM FUNCIONAMENTO NORMAL",
         "2005-03-15",
         0.8,
         3.735282279E7,
         "04192419000143",
         "SP",
         "CLASSE UNICA DO WESTERN ASSET RF ATIVO MAX FIF - RESPONSABILIDAE LIMITADA",
         "SP",
         "São Paulo"
        ],
        [
         "09636619000161",
         "EM FUNCIONAMENTO NORMAL",
         "2008-10-02",
         0.22,
         7.7668289759E8,
         "09636619000161",
         "SP",
         "BNP PARIBAS SOBERANO CIC DE CLASSE DE INVESTIMENTO RENDA FIXA SIMPLES - RESPONSABILIDADE LIMITADA",
         "SP",
         "São Paulo"
        ],
        [
         "34835191000123",
         "EM FUNCIONAMENTO NORMAL",
         "2019-09-23",
         null,
         1.3414947441E8,
         "34835191000123",
         "MG",
         "INTER RESIDENCE FUNDO DE INVESTIMENTO IMOBILIARIO FII RESPONSABILIDADE LIMITADA",
         "MG",
         "Minas Gerais"
        ],
        [
         "36655944000144",
         "EM FUNCIONAMENTO NORMAL",
         "2020-09-10",
         null,
         5050323.26,
         "36655944000144",
         "SP",
         "VKR FUNDO DE INVESTIMENTO MULTIMERCADO - CREDITO PRIVADO LONGO PRAZO",
         "SP",
         "São Paulo"
        ],
        [
         "51305991000151",
         "EM FUNCIONAMENTO NORMAL",
         "2023-07-05",
         0.695,
         4.317146516E7,
         "51305991000151",
         "MG",
         "DUNAS II FUNDO DE INVESTIMENTO FINANCEIRO MULTIMERCADO CREDITO PRIVADO RESPONSABILIDADE LIMITADA",
         "MG",
         "Minas Gerais"
        ],
        [
         "21838483000178",
         "EM FUNCIONAMENTO NORMAL",
         "2015-08-19",
         null,
         5.108677452E8,
         "21838483000178",
         "SP",
         "RIO FORMOSO II FUNDO DE INVESTIMENTO EM DIREITOS CREDITORIOS NAO-PADRONIZADOS MULTISSETORIAL NP",
         "SP",
         "São Paulo"
        ],
        [
         "17517577000178",
         "EM FUNCIONAMENTO NORMAL",
         "2013-08-13",
         0.4,
         1.0133760388E8,
         "17517577000178",
         "SP",
         "CLASSE UNICA DO WESTERN ASSET IMA-B5 ATIVO FUNDO DE INVESTIMENTO FINANCEIRO RF - RESP LIMITADA",
         "SP",
         "São Paulo"
        ],
        [
         "40054913000105",
         "EM FUNCIONAMENTO NORMAL",
         "2021-07-05",
         null,
         2.627733151E7,
         "40054913000105",
         "SP",
         "BLUECAP DESENVOLVIMENTO LOGISTICO I FUNDO DE INVESTIMENTOIMOBILIARIO - FII RESPONSABILIDADE LIMITADA",
         "SP",
         "São Paulo"
        ],
        [
         "07408147000164",
         "EM FUNCIONAMENTO NORMAL",
         "2005-04-11",
         null,
         19103.37,
         "07408147000164",
         "PA",
         "FUNDO AMAZONIA DE APLICACAO EM COTAS DE FUNDOS DE INVESTIMENTO-AMAZONIA MIX ''2''",
         "PA",
         "Pará"
        ],
        [
         "09087523000191",
         "EM FUNCIONAMENTO NORMAL",
         "2010-01-11",
         2.5,
         4.066088248E7,
         "09087523000191",
         "SP",
         "CLASSE UNICA DO WESTERN ASSET VALUATION FUNDODE INVESTIMENTO FINANCEIRO EM ACOES - RESP LIMITADA",
         "SP",
         "São Paulo"
        ],
        [
         "05437916000127",
         "EM FUNCIONAMENTO NORMAL",
         "2002-12-10",
         null,
         1.2664304161E8,
         "05437916000127",
         "SP",
         "FUNDO DE INVESTIMENTO IMOBILIARIO EUROPAR",
         "SP",
         "São Paulo"
        ],
        [
         "41114606000135",
         "EM FUNCIONAMENTO NORMAL",
         "2021-03-09",
         null,
         2.3775015558E8,
         "41114606000135",
         "SP",
         "FUNDO DE INVESTIMENTO IMOBILIARIO UNIMED INVESTCOOP NACIONAL",
         "SP",
         "São Paulo"
        ],
        [
         "13243834000170",
         "EM FUNCIONAMENTO NORMAL",
         "2011-03-01",
         null,
         null,
         "13243834000170",
         "SP",
         "TENEO FUNDO DE INVESTIMENTO EM PARTICIPACOES - MULTIESTRATEGIA",
         "SP",
         "São Paulo"
        ],
        [
         "37828802000102",
         "EM FUNCIONAMENTO NORMAL",
         "2021-07-19",
         null,
         5956004.96,
         "37828802000102",
         "SP",
         "AZURE FI EM COTAS DE FUNDOS DE INVESTIMENTO EM DIREITOS CREDITORIOS - RESPONSABILIDADE LIMITADA",
         "SP",
         "São Paulo"
        ],
        [
         "41833315000105",
         "EM FUNCIONAMENTO NORMAL",
         "2021-05-24",
         null,
         3.12109464E7,
         "41833315000105",
         "SP",
         "PRODUZ FUNDO DE INVESTIMENTO MULTIMERCADO - INVESTIMENTO NO EXTERIOR",
         "SP",
         "São Paulo"
        ],
        [
         "07110975000111",
         "EM FUNCIONAMENTO NORMAL",
         "2005-02-11",
         0.0,
         4.37160324335E9,
         "07110975000111",
         "SP",
         "CLASSE UNICA DO OAK FUNDO DE INVESTIMENTO FINANCEIRO MULTIMERCADO CP INVESTIMENTO NO EXTERIOR",
         "SP",
         "São Paulo"
        ],
        [
         "14167479000160",
         "EM FUNCIONAMENTO NORMAL",
         "2011-10-21",
         1.2,
         2.687507781E7,
         "14167479000160",
         "SP",
         "ZURICH BNPP MULTIMERCADO CIC DE CLASSES DE INVESTIMENTO PREVIDENCIARIA - RESPONSABILIDADE LIMITADA",
         "SP",
         "São Paulo"
        ],
        [
         "45018911000184",
         "EM FUNCIONAMENTO NORMAL",
         "2022-05-11",
         null,
         1.774384956E7,
         "45018911000184",
         "SP",
         "HR FUNDO DE INVESTIMENTO EM DIREITOS CREDITORIOS FINANCEIRO - RESPONSABILIDADE LIMITADA",
         "SP",
         "São Paulo"
        ],
        [
         "27531244000157",
         "EM FUNCIONAMENTO NORMAL",
         "2017-06-29",
         null,
         2.437109633E7,
         "27531244000157",
         "SP",
         "ONDABRASIL FUNDO DE INVESTIMENTO EM DIREITOS CREDITORIOS NAO-PADRONIZADOS RESP LIMITADA",
         "SP",
         "São Paulo"
        ],
        [
         "33361831000148",
         "EM FUNCIONAMENTO NORMAL",
         "2019-06-18",
         0.9,
         1.94939777E7,
         "33361831000148",
         "SP",
         "BLACKROCK DYNAMIC HIGH INCOME CLASSE DE INVESTIMENTO MULTIMERCADO RESPONSABILIDADE LIMITADA",
         "SP",
         "São Paulo"
        ],
        [
         "47166761000181",
         "EM FUNCIONAMENTO NORMAL",
         "2022-07-21",
         null,
         9.443368023E7,
         "47166761000181",
         "SP",
         "EUV GLADIATOR FUNDO DE INVESTIMENTO EM PARTICIPACOES MULTIESTRATEGIA",
         "SP",
         "São Paulo"
        ],
        [
         "50191107000132",
         "EM FUNCIONAMENTO NORMAL",
         "2023-04-03",
         null,
         1.7628287032E8,
         "50191107000132",
         "SP",
         "ID SOBERANO FUNDO DE INVESTIMENTO RENDA FIXA SIMPLES LONGO PRAZO",
         "SP",
         "São Paulo"
        ],
        [
         "51029588000147",
         "EM FUNCIONAMENTO NORMAL",
         "2023-06-13",
         0.0,
         4.7998655265E8,
         "51029588000147",
         "SP",
         "FRANKFURT CLASSE DE INVESTIMENTO MULTIMERCADO INVESTIMENTO NO EXTERIOR RESPONSABILIDADE LIMITADA",
         "SP",
         "São Paulo"
        ],
        [
         "49651181000105",
         "EM FUNCIONAMENTO NORMAL",
         "2023-02-17",
         null,
         4.232100033E7,
         "49651181000105",
         "SP",
         "BAY SAO FRANCISCO FUNDO DE INVESTIMENTO MULTIMERCADO CREDITO PRIVADO INVESTIMENTO NO EXTERIOR",
         "SP",
         "São Paulo"
        ],
        [
         "11108013000103",
         "EM FUNCIONAMENTO NORMAL",
         "2009-09-25",
         2.0,
         8.337165502E7,
         "11108013000103",
         "SP",
         "BNP PARIBAS SMALL CAPS CLASSE DE INVESTIMENTO EM ACOES - RESPONSABILIDADE LIMITADA",
         "SP",
         "São Paulo"
        ],
        [
         "52073804000114",
         "EM FUNCIONAMENTO NORMAL",
         "2023-09-04",
         null,
         2.2672389056E8,
         "52073804000114",
         "SP",
         "IF-ACOR FUNDO DE INVESTIMENTO EM DIREITOS CREDITORIOS NAO-PADRONIZADOS RESPONSABILIDADE LIMITADA",
         "SP",
         "São Paulo"
        ],
        [
         "49224039000181",
         "EM FUNCIONAMENTO NORMAL",
         "2023-01-17",
         null,
         4801607.67,
         "49224039000181",
         "SP",
         "GRIFFIN FUNDO DE INVESTIMENTO MULTIMERCADO CREDITO PRIVADO INVESTIMENTO NO EXTERIOR",
         "SP",
         "São Paulo"
        ],
        [
         "33361657000133",
         "EM FUNCIONAMENTO NORMAL",
         "2019-06-18",
         0.9,
         2.522218995E7,
         "33361657000133",
         "SP",
         "BLACKROCK GLOBAL EVENT DRIVEN CLASSE DE INVESTIMENTO MULTIMERCADO RESPONSABILIDADE LIMITADA",
         "SP",
         "São Paulo"
        ],
        [
         "24874305000190",
         "EM FUNCIONAMENTO NORMAL",
         "2016-05-27",
         null,
         1.36746797716E9,
         "24874305000190",
         "SP",
         "BREF III FUNDO DE INVESTIMENTO EM PARTICIPACOES MULTIESTRATEGIA RESPONSABILIDADE LIMITADA",
         "SP",
         "São Paulo"
        ],
        [
         "30282227000138",
         "EM FUNCIONAMENTO NORMAL",
         "2018-10-30",
         4.0,
         3.957397425E7,
         "30282227000138",
         "SP",
         "BNP PARIBAS PREMIUM EQUITIES CI EM CLASSES DE INVESTIMENTO EM ACOES RESP LIMITADA",
         "SP",
         "São Paulo"
        ],
        [
         "00819889000133",
         "EM FUNCIONAMENTO NORMAL",
         "2005-03-17",
         1.0,
         5.729872778E7,
         "00819889000133",
         "SP",
         "WESTERN ASSET HEDGE DOLAR FUNDO DE INVESTIMENTO FINANCEIRO CAMBIAL - RESPONSABILIDADE LIMITADA",
         "SP",
         "São Paulo"
        ],
        [
         "15049586000156",
         "EM FUNCIONAMENTO NORMAL",
         "2012-03-23",
         null,
         2.11082293021E9,
         "15049586000156",
         "SP",
         "GLP INVESTIMENTOS II FUNDO DE INVESTIMENTO EM PARTICIPACOES MULTIESTRATEGIA",
         "SP",
         "São Paulo"
        ],
        [
         "14951577000193",
         "EM FUNCIONAMENTO NORMAL",
         "2012-05-10",
         1.0,
         9.110146163E7,
         "14951577000193",
         "SP",
         "BNP PARIBAS MAPFRE RENDA FIXA ATIVO CIC DE CLASSES DE INVESTIMENTO PREVIDENCIARIA - RESP LIMITADA",
         "SP",
         "São Paulo"
        ],
        [
         "46778844000169",
         "EM FUNCIONAMENTO NORMAL",
         "2022-12-09",
         null,
         1.8557583749E8,
         "46778844000169",
         "SP",
         "FLAMA SPECIAL RETURN FUNDO DE INVESTIMENTO EM PARTICIPACOES MULTIESTRATEGIA",
         "SP",
         "São Paulo"
        ],
        [
         "21596006000143",
         "EM FUNCIONAMENTO NORMAL",
         "2015-01-19",
         0.12,
         2.4057585479E8,
         "21596006000143",
         "SP",
         "MAPFRE HEDGE IGPM PREV CLASSE DE INVESTIMENTO EM CLASSES DE INVESTIMENTO DE RF - RESP LIMITADA",
         "SP",
         "São Paulo"
        ],
        [
         "12124044000102",
         "EM FUNCIONAMENTO NORMAL",
         "2010-08-26",
         1.5,
         5.5395629203E8,
         "12124044000102",
         "SP",
         "MAPFRE HEDGE PREV CLASSE DE INVESTIMENTO RENDA FIXA - RESPONSABILIDADE LIMITADA",
         "SP",
         "São Paulo"
        ],
        [
         "27486551000163",
         "EM FUNCIONAMENTO NORMAL",
         "2017-06-02",
         null,
         604067.12,
         "27486551000163",
         "SP",
         "KILIMANJARO BRASIL PARTNERS I B - FUNDO DE INVESTIMENTO EM PARTICIPACOES MULTIESTRATEGIA IE RESP LIM",
         "SP",
         "São Paulo"
        ],
        [
         "50750438000165",
         "EM FUNCIONAMENTO NORMAL",
         "2023-05-19",
         null,
         3.2397564865E8,
         "50750438000165",
         "RJ",
         "RIZA DOMUS FUNDO DE INVESTIMENTO IMOBILIARIO",
         "RJ",
         "Rio de Janeiro"
        ],
        [
         "36412972000130",
         "EM FUNCIONAMENTO NORMAL",
         "2020-09-10",
         null,
         5156801.75,
         "36412972000130",
         "SP",
         "VKR FUNDO DE INVESTIMENTO EM DIREITOS CREDITORIOS RESPONSABILIDADE LIMITADA",
         "SP",
         "São Paulo"
        ],
        [
         "06905783000139",
         "EM FUNCIONAMENTO NORMAL",
         "2004-12-30",
         null,
         1.959792432E7,
         "06905783000139",
         "SP",
         "INVESTIMAGE 2 - FUNDO DE FINANCIAMENTO DA INDUSTRIA CINEMATOGRAFICA NACIONAL - FUNCINE",
         "SP",
         "São Paulo"
        ],
        [
         "27531301000106",
         "EM FUNCIONAMENTO NORMAL",
         "2017-05-29",
         null,
         4.730974917E7,
         "27531301000106",
         "SP",
         "QUANTHAS FUNDO DE INVESTIMENTO EM DIREITOS CREDITORIOS MULTISSETORIAL - RESPONSABILIDADE LIMITADA",
         "SP",
         "São Paulo"
        ],
        [
         "02918931000107",
         "EM FUNCIONAMENTO NORMAL",
         "2005-03-28",
         1.5,
         2.856408456E7,
         "02918931000107",
         "SP",
         "BNP PARIBAS MAPFRE MAXI RENDA FIXA CIC DE CLASSES DE INVESTIMENTO PREVIDENCIARIA - RESP LIMITADA",
         "SP",
         "São Paulo"
        ],
        [
         "02918923000152",
         "EM FUNCIONAMENTO NORMAL",
         "2005-03-28",
         2.0,
         6269533.2,
         "02918923000152",
         "SP",
         "BNP PARIBAS MAPFRE MAXI 20 MULTIMERCADO CIC COTAS DE CI PREVIDENCIARIA - RESPONSABILIDADE LIMITADA",
         "SP",
         "São Paulo"
        ],
        [
         "28240255000140",
         "EM FUNCIONAMENTO NORMAL",
         "2017-08-30",
         null,
         7.533099041E7,
         "28240255000140",
         "SP",
         "MARINO INVEST FUNDO DE INVESTIMENTO EM DIREITOS CREDITORIOS NAO-PADRONIZADOS RESP LIMITADA",
         "SP",
         "São Paulo"
        ],
        [
         "26452257000178",
         "EM FUNCIONAMENTO NORMAL",
         "2017-06-12",
         null,
         5.502430724E7,
         "26452257000178",
         "SP",
         "AURI FUNDO DE INVESTIMENTO EM DIREITOS CREDITORIOS RESPONSABILIDADE LIMITADA",
         "SP",
         "São Paulo"
        ],
        [
         "27486551000163",
         "EM FUNCIONAMENTO NORMAL",
         "2017-06-02",
         null,
         604067.12,
         "27486551000163",
         "SP",
         "KILIMANJARO BRASIL PARTNERS I B - FUNDO DE INVESTIMENTO EM PARTICIPACOES MULTIESTRATEGIA IE RESP LIM",
         "SP",
         "São Paulo"
        ],
        [
         "27531301000106",
         "EM FUNCIONAMENTO NORMAL",
         "2017-05-29",
         null,
         4.730974917E7,
         "27531301000106",
         "SP",
         "QUANTHAS FUNDO DE INVESTIMENTO EM DIREITOS CREDITORIOS MULTISSETORIAL - RESPONSABILIDADE LIMITADA",
         "SP",
         "São Paulo"
        ],
        [
         "28240255000140",
         "EM FUNCIONAMENTO NORMAL",
         "2017-08-30",
         null,
         7.533099041E7,
         "28240255000140",
         "SP",
         "MARINO INVEST FUNDO DE INVESTIMENTO EM DIREITOS CREDITORIOS NAO-PADRONIZADOS RESP LIMITADA",
         "SP",
         "São Paulo"
        ],
        [
         "27486551000163",
         "EM FUNCIONAMENTO NORMAL",
         "2017-06-02",
         null,
         604067.12,
         "27486551000163",
         "SP",
         "KILIMANJARO BRASIL PARTNERS I B - FUNDO DE INVESTIMENTO EM PARTICIPACOES MULTIESTRATEGIA IE RESP LIM",
         "SP",
         "São Paulo"
        ],
        [
         "27531301000106",
         "EM FUNCIONAMENTO NORMAL",
         "2017-05-29",
         null,
         4.730974917E7,
         "27531301000106",
         "SP",
         "QUANTHAS FUNDO DE INVESTIMENTO EM DIREITOS CREDITORIOS MULTISSETORIAL - RESPONSABILIDADE LIMITADA",
         "SP",
         "São Paulo"
        ],
        [
         "28240255000140",
         "EM FUNCIONAMENTO NORMAL",
         "2017-08-30",
         null,
         7.533099041E7,
         "28240255000140",
         "SP",
         "MARINO INVEST FUNDO DE INVESTIMENTO EM DIREITOS CREDITORIOS NAO-PADRONIZADOS RESP LIMITADA",
         "SP",
         "São Paulo"
        ]
       ],
       "datasetInfos": [
        {
         "name": "_sqldf",
         "schema": {
          "fields": [
           {
            "metadata": {},
            "name": "CNPJ_FUNDO",
            "nullable": true,
            "type": "string"
           },
           {
            "metadata": {},
            "name": "SIT",
            "nullable": true,
            "type": "string"
           },
           {
            "metadata": {},
            "name": "DT_REG",
            "nullable": true,
            "type": "date"
           },
           {
            "metadata": {},
            "name": "TAXA_ADM",
            "nullable": true,
            "type": "double"
           },
           {
            "metadata": {},
            "name": "VL_PATRIM_LIQ",
            "nullable": true,
            "type": "double"
           },
           {
            "metadata": {},
            "name": "cnpj",
            "nullable": true,
            "type": "string"
           },
           {
            "metadata": {},
            "name": "uf",
            "nullable": true,
            "type": "string"
           },
           {
            "metadata": {},
            "name": "razao_social",
            "nullable": true,
            "type": "string"
           },
           {
            "metadata": {},
            "name": "sigla",
            "nullable": true,
            "type": "string"
           },
           {
            "metadata": {},
            "name": "nome",
            "nullable": true,
            "type": "string"
           }
          ],
          "type": "struct"
         },
         "tableIdentifier": null,
         "typeStr": "pyspark.sql.connect.dataframe.DataFrame"
        }
       ],
       "dbfsResultPath": null,
       "isJsonSchema": true,
       "metadata": {
        "createTempViewForImplicitDf": true,
        "dataframeName": "_sqldf",
        "executionCount": 73
       },
       "overflow": false,
       "plotOptions": {
        "customPlotOptions": {},
        "displayType": "table",
        "pivotAggregation": null,
        "pivotColumns": null,
        "xColumns": null,
        "yColumns": null
       },
       "removedWidgets": [],
       "schema": [
        {
         "metadata": "{}",
         "name": "CNPJ_FUNDO",
         "type": "\"string\""
        },
        {
         "metadata": "{}",
         "name": "SIT",
         "type": "\"string\""
        },
        {
         "metadata": "{}",
         "name": "DT_REG",
         "type": "\"date\""
        },
        {
         "metadata": "{}",
         "name": "TAXA_ADM",
         "type": "\"double\""
        },
        {
         "metadata": "{}",
         "name": "VL_PATRIM_LIQ",
         "type": "\"double\""
        },
        {
         "metadata": "{}",
         "name": "cnpj",
         "type": "\"string\""
        },
        {
         "metadata": "{}",
         "name": "uf",
         "type": "\"string\""
        },
        {
         "metadata": "{}",
         "name": "razao_social",
         "type": "\"string\""
        },
        {
         "metadata": "{}",
         "name": "sigla",
         "type": "\"string\""
        },
        {
         "metadata": "{}",
         "name": "nome",
         "type": "\"string\""
        }
       ],
       "type": "table"
      }
     },
     "output_type": "display_data"
    }
   ],
   "source": [
    "%sql\n",
    "select * from cvm_tratada;"
   ]
  }
 ],
 "metadata": {
  "application/vnd.databricks.v1+notebook": {
   "computePreferences": null,
   "dashboards": [],
   "environmentMetadata": {
    "base_environment": "",
    "environment_version": "2"
   },
   "inputWidgetPreferences": null,
   "language": "python",
   "notebookMetadata": {
    "mostRecentlyExecutedCommandWithImplicitDF": {
     "commandId": 8973787451499906,
     "dataframes": [
      "_sqldf"
     ]
    },
    "pythonIndentUnit": 4
   },
   "notebookName": "nb_silver_cvm",
   "widgets": {}
  },
  "language_info": {
   "name": "python"
  }
 },
 "nbformat": 4,
 "nbformat_minor": 0
}